{
  "cells": [
    {
      "cell_type": "markdown",
      "metadata": {
        "id": "s2MNO3kPTnkd"
      },
      "source": [
        "# Setup"
      ]
    },
    {
      "cell_type": "code",
      "execution_count": null,
      "metadata": {
        "id": "oOQkqhqFTnkg"
      },
      "outputs": [],
      "source": [
        "# Weights and Biases\n",
        "!pip install -q wandb\n",
        "# Tensorflow\n",
        "!pip install -q tensorflow"
      ]
    },
    {
      "cell_type": "code",
      "execution_count": null,
      "metadata": {
        "id": "Bfwvf6vGTnki"
      },
      "outputs": [],
      "source": [
        "from keras.models import Sequential, Model\n",
        "from keras.layers import Input, LSTM, Concatenate, Dense, BatchNormalization, LeakyReLU\n",
        "from keras.activations import tanh\n",
        "from tensorflow.keras.optimizers import Adam\n",
        "from keras.callbacks import EarlyStopping\n",
        "from tensorflow.keras.optimizers.schedules import ExponentialDecay\n",
        "import pandas as pd\n",
        "import numpy as np\n",
        "import os\n",
        "from sklearn.preprocessing import MinMaxScaler\n",
        "import wandb\n",
        "from wandb.keras import WandbCallback\n",
        "from datetime import datetime\n",
        "from dateutil.relativedelta import relativedelta\n",
        "from tensorflow import square, reduce_mean\n",
        "from tensorflow.keras.losses import MSE\n",
        "from tensorflow.keras.callbacks import Callback, EarlyStopping, ModelCheckpoint\n",
        "from tensorflow.keras.models import load_model\n",
        "from tensorflow.math import multiply\n",
        "from tensorflow.keras.metrics import MeanSquaredError, RootMeanSquaredError\n",
        "from math import log"
      ]
    },
    {
      "cell_type": "code",
      "execution_count": null,
      "metadata": {
        "id": "1fduF6iTTnkj"
      },
      "outputs": [],
      "source": [
        "# If running in colab, insert your wandb key here\n",
        "\n",
        "#import config\n",
        "#Erlend\n",
        "#wandb.login(key=config.erlend_key)\n",
        "# Hjalmar\n",
        "wandb.login(key=\"b47bcf387a0571c5520c58a13be35cda8ada0a99\")\n"
      ]
    },
    {
      "cell_type": "markdown",
      "metadata": {
        "id": "zJGDiGMLTnkl"
      },
      "source": [
        "# Load, split and normalize data"
      ]
    },
    {
      "cell_type": "markdown",
      "metadata": {
        "id": "UI1j3mQWTnkl"
      },
      "source": [
        "### Load data"
      ]
    },
    {
      "cell_type": "code",
      "execution_count": null,
      "metadata": {
        "id": "OKcl8WWJTnkl"
      },
      "outputs": [],
      "source": [
        "google_colab = True\n",
        "\n",
        "if google_colab:\n",
        "    import tensorflow as tf\n",
        "    # Pring info\n",
        "    gpu_info = !nvidia-smi\n",
        "    gpu_info = '\\n'.join(gpu_info)\n",
        "    if gpu_info.find('failed') >= 0:\n",
        "        print('Not connected to a GPU')\n",
        "    else:\n",
        "        print(gpu_info)\n",
        "    \n",
        "    from psutil import virtual_memory\n",
        "    ram_gb = virtual_memory().total / 1e9\n",
        "    print('Your runtime has {:.1f} gigabytes of available RAM\\n'.format(ram_gb))\n",
        "\n",
        "    if ram_gb < 20:\n",
        "        print('Not using a high-RAM runtime')\n",
        "    else:\n",
        "        print('You are using a high-RAM runtime!')\n",
        "\n",
        "    # Code to read csv file into Colaboratory:\n",
        "    !pip install -U -q PyDrive\n",
        "    from pydrive.auth import GoogleAuth\n",
        "    from pydrive.drive import GoogleDrive\n",
        "    from google.colab import auth\n",
        "    from oauth2client.client import GoogleCredentials\n",
        "    # Authenticate and create the PyDrive client.\n",
        "    auth.authenticate_user()\n",
        "    gauth = GoogleAuth()\n",
        "    gauth.credentials = GoogleCredentials.get_application_default()\n",
        "    drive = GoogleDrive(gauth)\n",
        "    id = \"1eTbdlQx4KeKaBYn5g5kSI_PkFddMsLfH\"\n",
        "    downloaded = drive.CreateFile({'id':id}) \n",
        "    downloaded.GetContentFile('2014_2022_moneyness_and_TTM_filtered.csv')  \n",
        "    df_read = pd.read_csv('2014_2022_moneyness_and_TTM_filtered.csv')\n",
        "else:\n",
        "    file = \"../data/processed_data/2014_2022_moneyness_and_TTM_filtered.csv\"\n",
        "    df_read = pd.read_csv(file)\n",
        "\n",
        "display(df_read)"
      ]
    },
    {
      "cell_type": "code",
      "execution_count": null,
      "metadata": {
        "id": "CpcmhVq6Tnkm"
      },
      "outputs": [],
      "source": [
        "df = df_read\n",
        "del df_read\n",
        "\n",
        "# Group the data by Quote Date and calculate the mean for Underlying Price\n",
        "df_agg = df.groupby('Quote_date').mean().reset_index()\n",
        "\n",
        "# Values to returns\n",
        "df_agg[\"Underlying_return\"] = df_agg[\"Underlying_last\"].pct_change()\n",
        "\n",
        "lags = 10\n",
        "\n",
        "# Add the Underlying Price Lag column\n",
        "for i in range(1, lags + 1):\n",
        "    df_agg['Underlying_' + str(i)] = df_agg['Underlying_return'].shift(i)\n",
        "\n",
        "df = pd.merge(df, df_agg[['Quote_date', \"Underlying_return\"] + ['Underlying_' + str(i) for i in range(1, lags + 1)]], on='Quote_date', how='left')\n",
        "\n",
        "# Filter df between 2014-01-01 and 2022-12-31\n",
        "df = df[(df[\"Quote_date\"] >= \"2014-01-01\") & (df[\"Quote_date\"] <= \"2022-12-31\")]"
      ]
    },
    {
      "cell_type": "code",
      "execution_count": null,
      "metadata": {
        "id": "2eAUxhRsTnkn"
      },
      "outputs": [],
      "source": [
        "display(df)"
      ]
    },
    {
      "cell_type": "markdown",
      "metadata": {
        "id": "j1fuXIvmTnkn"
      },
      "source": [
        "### Format input data"
      ]
    },
    {
      "cell_type": "code",
      "execution_count": null,
      "metadata": {
        "id": "YKAFyCmTTnko"
      },
      "outputs": [],
      "source": [
        "# Format settings\n",
        "max_timesteps = lags\n",
        "moneyness = False\n",
        "bs_vars = ['Moneyness', 'TTM', 'R'] if moneyness else ['Underlying_last', 'Strike', 'TTM', 'R']\n",
        "underlying_lags = ['Underlying_last'] + [f'Underlying_{i}' for i in range (1, max_timesteps)]\n",
        "\n",
        "def create_rw_dataset(window_number = 0, df = df):\n",
        "    '''Creates dataset for a single rolling window period offsett by the window number'''\n",
        "\n",
        "    # Create train, validation and test set split points\n",
        "    test_days = 1\n",
        "    train_start = datetime(2017,8,1) + relativedelta(days=window_number * test_weeks)\n",
        "    val_start = train_start + relativedelta(months=5)\n",
        "    test_start = val_start + relativedelta(days=1)\n",
        "    test_end = test_start + relativedelta(days=test_weeks)\n",
        "    train_start = str(train_start.date())\n",
        "    val_start = str(val_start.date())\n",
        "    test_start = str(test_start.date())\n",
        "    test_end = str(test_end.date())\n",
        "\n",
        "    # Add moneyness column\n",
        "    if not moneyness:\n",
        "        df['Moneyness'] = df['Underlying_last'] / df['Strike']\n",
        "\n",
        "\n",
        "    # Split train and validation data\n",
        "    df_train = df[(df['Quote_date'] >= train_start) & (df['Quote_date'] < val_start)]\n",
        "    df_val = df[(df['Quote_date'] >= val_start) & (df['Quote_date'] < test_start)]\n",
        "    df_test = df[(df['Quote_date'] >= test_start) & (df['Quote_date'] < test_end)]\n",
        "\n",
        "    del df\n",
        "\n",
        "    # Filter out top and bottom 5% of moneyness in df_train, and using the same filter in df_val and df_test\n",
        "    top = df_train['Moneyness'].quantile(0.95)\n",
        "    bottom = df_train['Moneyness'].quantile(0.05)\n",
        "    df_train = df_train[(df_train['Moneyness'] <= top) & (df_train['Moneyness'] >= bottom)]\n",
        "    df_val = df_val[(df_val['Moneyness'] <= top) & (df_val['Moneyness'] >= bottom)]\n",
        "    df_test = df_test[(df_test['Moneyness'] <= top) & (df_test['Moneyness'] >= bottom)]\n",
        "\n",
        "\n",
        "    # Extract target values\n",
        "    train_y = (df_train['Price'] / df_train['Strike']).to_numpy() if moneyness else df_train['Price'].to_numpy()\n",
        "    val_y = (df_val['Price'] / df_val['Strike']).to_numpy() if moneyness else df_val['Price'].to_numpy()\n",
        "    test_y = (df_test['Price'] / df_test['Strike']).to_numpy() if moneyness else df_test['Price'].to_numpy()\n",
        "\n",
        "    # If usining moneyness, extract strike\n",
        "    if moneyness:\n",
        "        train_strike = df_train['Strike'].to_numpy()\n",
        "        val_strike = df_val['Strike'].to_numpy()\n",
        "        test_strike = df_test['Strike'].to_numpy()\n",
        "\n",
        "    # Convert dataframes to numpy arrays\n",
        "    train_x = [df_train[underlying_lags].to_numpy(), df_train[bs_vars].to_numpy()]\n",
        "    val_x = [df_val[underlying_lags].to_numpy(), df_val[bs_vars].to_numpy()]\n",
        "    test_x = [df_test[underlying_lags].to_numpy(), df_test[bs_vars].to_numpy()]\n",
        "\n",
        "    del df_train\n",
        "    del df_val\n",
        "\n",
        "    # Scale features based on training set\n",
        "    underlying_scaler = MinMaxScaler()\n",
        "    train_x[0] = underlying_scaler.fit_transform(train_x[0])\n",
        "    val_x[0] = underlying_scaler.transform(val_x[0])\n",
        "    test_x[0] = underlying_scaler.transform(test_x[0])\n",
        "\n",
        "    bs_scaler = MinMaxScaler()\n",
        "    train_x[1] = bs_scaler.fit_transform(train_x[1])\n",
        "    val_x[1] = bs_scaler.transform(val_x[1])\n",
        "    test_x[1] = bs_scaler.transform(test_x[1])\n",
        "\n",
        "\n",
        "    # Shuffle training set\n",
        "    np.random.seed(0)\n",
        "    shuffle = np.random.permutation(len(train_x[0]))\n",
        "    train_x = [train_x[0][shuffle], train_x[1][shuffle]]\n",
        "    train_y = train_y[shuffle]\n",
        "    if moneyness:\n",
        "        train_strike = train_strike[shuffle]\n",
        "\n",
        "    # Reshape data to fit LSTM\n",
        "    train_x = [train_x[0].reshape(len(train_x[0]), max_timesteps, 1), train_x[1]]\n",
        "    val_x = [val_x[0].reshape(len(val_x[0]), max_timesteps, 1), val_x[1]]\n",
        "    test_x = [test_x[0].reshape(len(test_x[0]), max_timesteps, 1), test_x[1]]\n",
        "\n",
        "    print(f'Train shape: {train_x[0].shape}, {train_x[1].shape}')\n",
        "    print(f'Val shape: {val_x[0].shape}, {val_x[1].shape}')\n",
        "    print(f'Test shape: {test_x[0].shape}, {test_x[1].shape}')\n",
        "\n",
        "    if moneyness:\n",
        "        return train_x, train_y, val_x, val_y, test_x, test_y, train_start, val_start, test_start, df_test, train_strike, val_strike, test_strike,\n",
        "    return train_x, train_y, val_x, val_y, test_x, test_y, train_start, val_start, test_start, df_test\n",
        "\n",
        "# Create the dataset for the first rolling window period\n",
        "if moneyness:\n",
        "    train_x, train_y, val_x, val_y, test_x, test_y, train_start, val_start, test_start, df_test, train_strike, val_strike, test_strike = create_rw_dataset()\n",
        "else:\n",
        "    train_x, train_y, val_x, val_y, test_x, test_y, train_start, val_start, test_start, df_test = create_rw_dataset()"
      ]
    },
    {
      "cell_type": "markdown",
      "metadata": {
        "id": "inutSrd8Tnko"
      },
      "source": [
        "# Model construction"
      ]
    },
    {
      "cell_type": "code",
      "execution_count": null,
      "metadata": {
        "id": "gewRG-rHTnkp"
      },
      "outputs": [],
      "source": [
        "def create_model(config):\n",
        "    '''Builds an LSTM-MLP model of minimum 2 layers sequentially from a given config dictionary'''\n",
        "\n",
        "    # Input layers\n",
        "    underlying_history = Input((config.LSTM_timesteps,1))\n",
        "    bs_vars = Input((config.Num_features,))\n",
        "\n",
        "    # LSTM layers\n",
        "    model = Sequential()\n",
        "\n",
        "    model.add(LSTM(\n",
        "        units = config.LSTM_units,\n",
        "        activation = tanh,\n",
        "        input_shape = (config.LSTM_timesteps, 1),\n",
        "        return_sequences = True\n",
        "    ))\n",
        "\n",
        "    for _ in range(config.LSTM_layers - 2):\n",
        "        model.add(LSTM(\n",
        "            units = config.LSTM_units,\n",
        "            activation = tanh,\n",
        "            return_sequences = True\n",
        "        ))\n",
        "    \n",
        "    model.add(LSTM(\n",
        "        units = config.Interface_units,\n",
        "        activation = tanh,\n",
        "        return_sequences = False\n",
        "    ))\n",
        "\n",
        "    # MLP layers\n",
        "    layers = Concatenate()([model(underlying_history), model(underlying_history), model(underlying_history), model(underlying_history), model(underlying_history), bs_vars])\n",
        "    \n",
        "    for _ in range(config.MLP_layers - 1):\n",
        "        layers = Dense(config.MLP_units)(layers)\n",
        "        layers = BatchNormalization(momentum=config.Bn_momentum)(layers)\n",
        "        layers = LeakyReLU()(layers)\n",
        "\n",
        "    output = Dense(1, activation='relu')(layers)\n",
        "\n",
        "    # Exponential decaying learning rate\n",
        "    lr_schedule = ExponentialDecay(\n",
        "        initial_learning_rate = config.Lr,\n",
        "        decay_steps = int(len(train_x[0])/config.Minibatch_size),\n",
        "        decay_rate=config.Lr_decay\n",
        "    )\n",
        "\n",
        "    # Compile model\n",
        "    model = Model(inputs=[underlying_history, bs_vars], outputs=output)\n",
        "    model.compile(loss='mse', optimizer=Adam(learning_rate=lr_schedule))\n",
        "\n",
        "    model.summary()\n",
        "    return model"
      ]
    },
    {
      "cell_type": "markdown",
      "metadata": {
        "id": "Rqno7WFBTnkp"
      },
      "source": [
        "# Hyperparameter search setup"
      ]
    },
    {
      "cell_type": "code",
      "execution_count": null,
      "metadata": {
        "id": "__KmrL9HTnkp"
      },
      "outputs": [],
      "source": [
        "# Configuring the sweep hyperparameter search space\n",
        "sweep_configuration = {\n",
        "    'method': 'bayes',\n",
        "    'name': 'LSTM-MLP v4.0: fix nan issue',\n",
        "    'metric': {\n",
        "        'goal': 'minimize', \n",
        "        'name': 'val_loss'\n",
        "\t\t},\n",
        "    'parameters': {\n",
        "        'LSTM_units': {\n",
        "            'values': [4, 8, 16, 32]},\n",
        "        'Interface_units': {\n",
        "            'values': [4, 8, 16, 32]},\n",
        "        'MLP_units': {\n",
        "            'values': [50, 100, 200, 400, 600]},\n",
        "        'LSTM_timesteps': {\n",
        "            'values': [10, 20, 40, 60, 90, 150]},\n",
        "        'LSTM_layers': {\n",
        "            'distribution': 'int_uniform',\n",
        "            'max': 8, 'min': 2},\n",
        "        'MLP_layers': {\n",
        "            'distribution': 'int_uniform',\n",
        "            'max': 8, 'min': 2},\n",
        "        'Bn_momentum': {\n",
        "            'values': [0.1, 0.4, 0.7, 0.99]},\n",
        "        'Lr': {\n",
        "            'distribution': 'log_uniform',\n",
        "            'max': log(0.1), 'min': log(0.0001)},\n",
        "        'Lr_decay': {\n",
        "            'distribution': 'log_uniform',\n",
        "            'max': log(1), 'min': log(0.8)},        \n",
        "        'Minibatch_size': {\n",
        "            'value': 4096},\n",
        "        'Min_delta': {\n",
        "            'value': 0.01 if moneyness else 1},\n",
        "        'Patience': {\n",
        "            'value': 20},\n",
        "        'Num_features': {\n",
        "            'value': 3 if moneyness else 4},\n",
        "    }\n",
        "}\n",
        "\n",
        "# Initialize sweep and creating sweepID\n",
        "\n",
        "# If new sweep, uncomment the line below and comment the line after it\n",
        "sweep_id = wandb.sweep(sweep=sweep_configuration, project='Deep learning for option pricing - test area') \n",
        "#sweep_id = '98bxt6oq'"
      ]
    },
    {
      "cell_type": "markdown",
      "metadata": {
        "id": "AogdJkrRTnkq"
      },
      "source": [
        "# Run hyperparameter search"
      ]
    },
    {
      "cell_type": "code",
      "execution_count": null,
      "metadata": {
        "id": "67l6iqWdTnkq"
      },
      "outputs": [],
      "source": [
        "#WIP\n",
        "class MSE_LossCallback(Callback):\n",
        "    def __init__(self, train_x, train_y, train_strike, val_x, val_y, val_strike):\n",
        "        self.train_x = train_x\n",
        "        self.train_y = train_y\n",
        "        self.train_strike = train_strike\n",
        "        self.val_x = val_x\n",
        "        self.val_y = val_y\n",
        "        self.val_strike = val_strike\n",
        "    \n",
        "    def on_epoch_end(self, epoch, logs={}):\n",
        "        train_pred = self.model(train_x)\n",
        "        val_pred = self.model(val_x)\n",
        "\n",
        "        train_mse = reduce_mean(square(multiply(train_pred[:,0] - self.train_y, self.train_strike)))\n",
        "        val_mse = reduce_mean(square(multiply(val_pred[:,0] - self.val_y, self.val_strike)))\n",
        "\n",
        "        print(f' Training scaled MSE: {train_mse}, Validation scaled MSE: {val_mse}')\n"
      ]
    },
    {
      "cell_type": "code",
      "execution_count": null,
      "metadata": {
        "id": "5ogZE0y_Tnkq"
      },
      "outputs": [],
      "source": [
        "# Calculate the training and validation MSE loss on the actual option price when using price/strike as the target\n",
        "def MSE_loss(model, train_x, train_y, train_strike, val_x, val_y, val_strike):\n",
        "    train_pred = model(train_x)\n",
        "    val_pred = model(val_x)\n",
        "\n",
        "    train_mse = reduce_mean(square((train_pred[:,0] - train_y)*train_strike))\n",
        "    val_mse = reduce_mean(square((val_pred[:,0] - val_y)*val_strike))\n",
        "\n",
        "    print(f' Training scaled MSE: {train_mse}, Validation scaled MSE: {val_mse}')"
      ]
    },
    {
      "cell_type": "code",
      "execution_count": null,
      "metadata": {
        "id": "xf-ICRDKTnkr"
      },
      "outputs": [],
      "source": [
        "import gc\n",
        "from tensorflow.keras import backend as k\n",
        "\n",
        "class ClearMemory(Callback):\n",
        "    def on_epoch_end(self, epoch, logs=None):\n",
        "        gc.collect()\n",
        "        k.clear_session()"
      ]
    },
    {
      "cell_type": "markdown",
      "metadata": {
        "id": "v4CRxFJrTnkr"
      },
      "source": [
        "## Creating trainer function"
      ]
    },
    {
      "cell_type": "code",
      "execution_count": null,
      "metadata": {
        "id": "EZsaCBmrTnkr"
      },
      "outputs": [],
      "source": [
        "def trainer(train_x = train_x, train_y = train_y, val_x = val_x, val_y = val_y, config = None, project = None, previous_checkpoint_path = None, checkpoint_path = None):\n",
        "    # Initialize a new wandb run\n",
        "    with wandb.init(config=config, project = project):\n",
        "\n",
        "        # If called by wandb.agent, as below,\n",
        "        # this config will be set by Sweep Controller\n",
        "        config = wandb.config\n",
        "\n",
        "        # Build model and create callbacks\n",
        "        if previous_checkpoint_path and os.path.exists(previous_checkpoint_path + \".h5\"):\n",
        "            model = load_model(previous_checkpoint_path + \".h5\")\n",
        "        else:\n",
        "            model = create_model(config)\n",
        "\n",
        "        early_stopping = EarlyStopping(\n",
        "            monitor='val_loss',\n",
        "            mode='min',\n",
        "            min_delta = config.Min_delta,\n",
        "            patience = config.Patience,\n",
        "        )\n",
        "        \n",
        "        wandb_callback = WandbCallback(\n",
        "            monitor='val_loss',\n",
        "            mode='min',\n",
        "            save_model=False\n",
        "        )\n",
        "        \n",
        "        # Check if the checkpoint folder exists\n",
        "        if checkpoint_path and not os.path.exists(checkpoint_path):\n",
        "            # Create the checkpoint folder if it does not exist\n",
        "            os.makedirs(checkpoint_path)\n",
        "        \n",
        "        checkpoint = ModelCheckpoint(\n",
        "            filepath=checkpoint_path + \".h5\",\n",
        "            monitor='val_loss',\n",
        "            mode='min',\n",
        "            save_best_only=True,\n",
        "            save_weights_only=False\n",
        "        )\n",
        "\n",
        "        # Adapt sequence length to config\n",
        "        train_x_adjusted = [train_x[0][:, :config.LSTM_timesteps, :], train_x[1]]\n",
        "        val_x_adjusted = [val_x[0][:, :config.LSTM_timesteps, :], val_x[1]]\n",
        "        print(f'Train shape: {train_x_adjusted[0].shape}, {train_x_adjusted[0].shape}')\n",
        "        print(f'Val shape: {val_x_adjusted[0].shape}, {val_x_adjusted[0].shape}')\n",
        "\n",
        "        # Train model\n",
        "        model.fit(\n",
        "            train_x_adjusted,\n",
        "            train_y,\n",
        "            batch_size = config.Minibatch_size,\n",
        "            validation_data = (val_x_adjusted, val_y),\n",
        "            epochs = 1000,\n",
        "            callbacks = [early_stopping, wandb_callback, checkpoint, ClearMemory()] if checkpoint_path else [early_stopping, wandb_callback, ClearMemory()],\n",
        "        )\n",
        "\n",
        "        if moneyness:\n",
        "            MSE_loss(model, train_x, train_y, train_strike, val_x, val_y, val_strike)"
      ]
    },
    {
      "cell_type": "markdown",
      "metadata": {
        "id": "CQyg6eZKTnkr"
      },
      "source": [
        "### Run full sweep"
      ]
    },
    {
      "cell_type": "code",
      "execution_count": null,
      "metadata": {
        "id": "mC5YLKBTTnks"
      },
      "outputs": [],
      "source": [
        "#wandb.agent(sweep_id=sweep_id, function=trainer, project='Deep learning for option pricing - test area', count = 100)"
      ]
    },
    {
      "cell_type": "markdown",
      "metadata": {
        "id": "EuuoYP4ITnks"
      },
      "source": [
        "### Single run"
      ]
    },
    {
      "cell_type": "markdown",
      "metadata": {
        "id": "zaS4BiSNTnks"
      },
      "source": [
        "# Rolling window"
      ]
    },
    {
      "cell_type": "code",
      "execution_count": null,
      "metadata": {
        "id": "ifDAjXS3Tnks"
      },
      "outputs": [],
      "source": [
        "def calculate_error(predictions, original):\n",
        "    m = MeanSquaredError()\n",
        "    m.update_state(predictions, original)\n",
        "    print(\"MSE:\", m.result().numpy())\n",
        "    m = RootMeanSquaredError()\n",
        "    m.update_state(predictions, original)\n",
        "    print(\"RMSE:\", m.result().numpy())\n",
        "\n",
        "class config_object:\n",
        "    def __init__(self, config):\n",
        "        self.LSTM_units = config['LSTM_units']\n",
        "        self.Interface_units = config['Interface_units']\n",
        "        self.MLP_units = config['MLP_units']\n",
        "        self.LSTM_timesteps = config['LSTM_timesteps']\n",
        "        self.LSTM_layers = config['LSTM_layers']\n",
        "        self.MLP_layers = config['MLP_layers']\n",
        "        self.Bn_momentum = config['Bn_momentum']\n",
        "        self.Lr = config['Lr']\n",
        "        self.Lr_decay = config['Lr_decay']\n",
        "        self.Minibatch_size = config['Minibatch_size']\n",
        "        self.Min_delta = config['Min_delta']\n",
        "        self.Patience = config['Patience']\n",
        "        self.Num_features = config['Num_features']\n",
        "        self.Architecture = config['Architecture']\n",
        "        "
      ]
    },
    {
      "cell_type": "code",
      "execution_count": null,
      "metadata": {
        "colab": {
          "base_uri": "https://localhost:8080/",
          "height": 1000,
          "referenced_widgets": [
            "b7bd3da7630841f48ee12c472e155d36",
            "397311d9c8b64f32ba3ae0e785608aad",
            "0988225246644845aa770c5b70796fe2",
            "dc2fa3b454ea45a1a4ad5907e27b37d2",
            "f4640af24b6d49b6af11425d2a2605d2",
            "780c42123e204494a8d98f520706ea6d",
            "cd6a5f4de86d4ee79a6a404d614d3e74",
            "7ecc79cd1d514d69b84b5c69131a9f24",
            "e2bd7202abf344ec959dd6942bb05de4",
            "a759fc4075b84c30843ba770a3ef9d53",
            "68471fbb4cc64dd69ccb92ad4fe76452",
            "5cd75aa4d12b4f6aa1ebac25a7cd10fa",
            "80082612113e4a05b49e9e1fea78f77e",
            "c1e7f30404bf4cbd9fda7a8b55d018d4",
            "d762c2a05dc840fc9e80b4c948f33695",
            "eac16b8464d6497f9d67d54d6f11fab2",
            "b549885418884fef82dca20cf5f70298",
            "60c36c4bdacc4b67a3a63c5b870d47d1",
            "e5f1859fbcf248f38d0e36ff8f82fe13",
            "752d964580fb4f36bfb636d1c6e04f47",
            "b01fb1af831b4ed492202b624a80ac72",
            "5a90abffb803464c9d013e9a2e1e101a",
            "79fd6685f85e4118919abb07b2a18f48",
            "d63cc5d709b04571812995523c90e730",
            "0defdf9bedd543968f64a8d09f97b540",
            "027f11920dcd4c9f8035e25210c585ab",
            "f74c8807f57b4a0381b2a95b8cc2a348",
            "efdbeff488a943d194d9d57003aba058",
            "aa3d1c4226284ee694f5f2eab429d950",
            "2ec000809bbb4a6081b24afa65d635eb",
            "ee51dcdc8cf14e7d9743d3f96805eff0",
            "b631454f1e424e258f51f1665c376545",
            "360154f226034f19b9064411a3974829",
            "d162de41cef94dac8f49e6213e9e4107",
            "a78759ac9d8b4e3d929d685dcfa13207",
            "40d2c5f9527648b69a963ed582c41942",
            "183ad62885e042038934277737be583f",
            "bc782b6f33924c3d9e97ba5f2c158c59",
            "e1e21a64e2c14bebb238fd311752c1a7",
            "fe0279c910344243af49e4212b5109f6",
            "bfe72c09d6944b99be457de2ca4941e1",
            "f20e0257229f41f8aa3256f584bb383f",
            "e8647065267a4282a3c79b2508c84000",
            "db6c14f3940449c7a43ebf2288c0eb14",
            "0dd9035b7d5c414e8863869959171a04",
            "f1505807ae314da69e55e6408f0f52d0",
            "4590cb302e8640308e1f5ff7f47bdcb9",
            "1086e1c7e20f43aa999ade5844697f0d",
            "c213e310e6ca4f23a027691a0180f00d",
            "6a67f6b67aee4e20ab1fc6a40b86d9dd",
            "f84f171505214ff1a8633735c489952b",
            "d96e752a95384864a41ddd8634d82498",
            "5856d2cdbd0e458c9d1c48e70940130d",
            "a13950e2ac354109887313b58ec70fea",
            "0023e501cc4f455e842a2f105c748cf0",
            "355a06c01c7042198a1ee5e86c4c7127",
            "1000e5afb72340e3b7dd4417f8d1264f",
            "79abe2bc86bc4e8790b5b2b641488758",
            "59652d9f2de047d8801ef3f40c6b3eb2",
            "5c4c6141a83f47e1b8454a5f60f0a4d4",
            "0bfab41f31c04cdbbc18f74749962066",
            "5f0d8b1fa61c4baba2751d0bccdd2c31",
            "d1f38cfade474c3b946bd0f0fb3dfea0",
            "15d6c4b53c484ae5a44b6d72f0b9c779",
            "b0f5daf02f414836bfc4714f4d18b486",
            "89c3a10e7cb143dda6c5ccf893871571",
            "f09a98a0883349cea5951306fd7058e6",
            "018131ab5c7444ba85ab3297f77ebf32",
            "39ba387d284d442f9ad00b89acf5f552",
            "aa172e1f26e44e31b34db6c9bfcb9145",
            "f159f43e047d476c8c2ab1483bf0b692",
            "38b47213fd4741c0bcbf1547d12dc867",
            "6782572cf46c425daa88c2fb2f841157",
            "8539245f3f6b4423999c4fc688f85e7d",
            "80c8f832627d4baf9808338ae1288d2d",
            "f1bba5583d4e4e79b21747dcd570e26d",
            "4a349fe358ec4b98a3f533adcc36ee4a",
            "537dcfc85f884271a58b999722d0ea10",
            "d35699ae3cbb4d38aa8f08bda240cb91",
            "8ae5967e74df4a0fa7294b11ed68918b",
            "d96fdf6d76484e15a0ace352a65838b3",
            "a8c2e6856df4423b9f6ad6f57a5aecd8",
            "b54a91eb4e0b42688c57fcb477dca616",
            "74116a88a1a54bf3b55fb862464985b1",
            "b9c07edec3784ba4b904d369abb58a2e",
            "0e82f6a5557a412ba9d480c261c148c1",
            "0cd2b92f8fbf4214843ce8bcd5c684b6",
            "c382633b7f694e08ab71bf857e82fab9",
            "9e075d29da14442eb0b5a0ad0da640e5",
            "6b5471304a19487580b181a426c0b98b",
            "fce297ac5fb8431bb639dbede5eac022",
            "b254fe51117641e5b21f1e1bc83d9eb5",
            "29987bebdc57446b8a876383170a4a4f",
            "7304c15793bf44bb8b82ef37b6e6ed7a",
            "b8c512b536a5498ca9eee6797970e5d0",
            "fe191291f61348c9a46df4f2ea829da6",
            "07414d0570a4438cb89d2fc3dbfbf3ee",
            "aa0159c5d6434cc3ab7965c4897aeb58",
            "0a88a1e2023848cf980deba29370e57d",
            "d9d7e9bf618a42b28174b655f53014d0",
            "8061b6e7ff1845fa93fb7f0f9eef9aab",
            "931e3a0b58c24c10bfa23041b7b4c54b",
            "590817ab902843568ee4a438135c4ada",
            "8b8791f9e8534f22be54f82c4d5acd2f",
            "ebd0cb15f9ed46bfb4bc3b10cde835cb",
            "82f76a2d5ab0444c906c3b02ef12956c",
            "7094a227617d4fcc9f6f8c58d15d4196",
            "53e681721ed749a8af3e20be5d4e9874",
            "924176ea5431470e816e2f7763ada791",
            "769b7807955044c882d1724dd6872b10",
            "ad807ce2acdb4697a558dc2d2e6fc186",
            "47eb567aa29c48d180c6c282f4145e3d",
            "00219fa9d9a643388c8a967ce14e8e0e",
            "ce4d0b5332a64b4bbc735b57e16c36d9",
            "a9389b6fd7464452824031c902c7e8f4",
            "f8c966027695497682108c78092ecac5",
            "a1c88a8bd9d2422fab89410f7e65e3a9",
            "df7954b4c1d749bd90f95e14b598628e",
            "69819e2afb034cda917220508f85a71f",
            "4747b297233c45fd9fb90d1aa32fe064",
            "7432a84c0e6a4dbf9d8f39a9a6d9d6f3",
            "05c823b6cd384774b69db3a9d26b6d78",
            "c957abc471234fb49b67399f59dfabfd",
            "a1894f95038c49f3bec5d14f7e0db6e7",
            "40468b45dc03400c98cb9fd56a490c7b",
            "0293fedf1adf45418622c15c39c8c5d5",
            "dae33780fb0c4df3a806fb6604241878",
            "f4927067b47e441dae38db321b84b703",
            "f0fc3eb34d39410e8d98689f1f5360aa",
            "093090ddf44e4ae5ad82b3979900deda",
            "babc5949ffa24601a60bfc8c55db6989",
            "699da3fa75be4a97b25a477044cf724c",
            "88eb7d75b84f4a6b86ce55728e178e49",
            "863c256fc40c465db6da4260ecf4b1d6",
            "afc9cf3496254a6883e1380b2efd9210",
            "e85990a69eae4f01ab642c3ebdc70db0",
            "5e02427994304511bfb7230e18f80a9e",
            "106bc1f5cea74859956c242d34b47353",
            "fd41bca9de2647adbafc5f4dc2c18760",
            "6d395024b01f41b1a2cb384b9d509fb0",
            "5cae140a6c6748aea34e883ffa6e2d8a",
            "2a0857b8e6a64fb5b10353d43bf74b65",
            "453c374e39ad472184535ae41c2983cf",
            "5924adda8b674c9d951eb17235e14a11",
            "29079383d640425c95d165b0f87557cb",
            "4a4e56b5f65844268142df217e30ff20"
          ]
        },
        "id": "lRV8wlklTnks",
        "outputId": "cb7c7f9c-9031-41b9-fd32-c4c41b6a98b2"
      },
      "outputs": [
        {
          "metadata": {
            "tags": null
          },
          "name": "stdout",
          "output_type": "stream",
          "text": [
            "Mounted at /content/drive\n",
            "Train shape: (172963, 10, 1), (172963, 4)\n",
            "Val shape: (11980, 10, 1), (11980, 4)\n",
            "Test shape: (25322, 10, 1), (25322, 4)\n",
            "-------------------------------------------\n",
            "Checkpoint_path =  /content/drive/MyDrive/01. Masters Thesis - Shared/05. Checkpoints/04-15_14-59/2014-09-23/\n",
            "Previous checkpoint_path =  None\n",
            "-------------------------------------------\n"
          ]
        },
        {
          "data": {
            "text/html": [
              "Changes to your `wandb` environment variables will be ignored because your `wandb` session has already started. For more information on how to modify your settings with `wandb.init()` arguments, please refer to <a href='https://wandb.me/wandb-init' target=\"_blank\">the W&B docs</a>."
            ],
            "text/plain": [
              "<IPython.core.display.HTML object>"
            ]
          },
          "metadata": {},
          "output_type": "display_data"
        },
        {
          "metadata": {
            "tags": null
          },
          "name": "stderr",
          "output_type": "stream",
          "text": [
            "\u001b[34m\u001b[1mwandb\u001b[0m: Currently logged in as: \u001b[33mvinje\u001b[0m (\u001b[33mavogadro\u001b[0m). Use \u001b[1m`wandb login --relogin`\u001b[0m to force relogin\n"
          ]
        },
        {
          "data": {
            "text/html": [
              "Tracking run with wandb version 0.14.2"
            ],
            "text/plain": [
              "<IPython.core.display.HTML object>"
            ]
          },
          "metadata": {},
          "output_type": "display_data"
        },
        {
          "data": {
            "text/html": [
              "Run data is saved locally in <code>/content/wandb/run-20230415_150003-mdeblv1u</code>"
            ],
            "text/plain": [
              "<IPython.core.display.HTML object>"
            ]
          },
          "metadata": {},
          "output_type": "display_data"
        },
        {
          "data": {
            "text/html": [
              "Syncing run <strong><a href='https://wandb.ai/avogadro/Deep%20learning%20for%20option%20pricing%20-%20rolling%20windows/runs/mdeblv1u' target=\"_blank\">whole-shadow-234</a></strong> to <a href='https://wandb.ai/avogadro/Deep%20learning%20for%20option%20pricing%20-%20rolling%20windows' target=\"_blank\">Weights & Biases</a> (<a href='https://wandb.me/run' target=\"_blank\">docs</a>)<br/>"
            ],
            "text/plain": [
              "<IPython.core.display.HTML object>"
            ]
          },
          "metadata": {},
          "output_type": "display_data"
        },
        {
          "data": {
            "text/html": [
              " View project at <a href='https://wandb.ai/avogadro/Deep%20learning%20for%20option%20pricing%20-%20rolling%20windows' target=\"_blank\">https://wandb.ai/avogadro/Deep%20learning%20for%20option%20pricing%20-%20rolling%20windows</a>"
            ],
            "text/plain": [
              "<IPython.core.display.HTML object>"
            ]
          },
          "metadata": {},
          "output_type": "display_data"
        },
        {
          "data": {
            "text/html": [
              " View run at <a href='https://wandb.ai/avogadro/Deep%20learning%20for%20option%20pricing%20-%20rolling%20windows/runs/mdeblv1u' target=\"_blank\">https://wandb.ai/avogadro/Deep%20learning%20for%20option%20pricing%20-%20rolling%20windows/runs/mdeblv1u</a>"
            ],
            "text/plain": [
              "<IPython.core.display.HTML object>"
            ]
          },
          "metadata": {},
          "output_type": "display_data"
        },
        {
          "metadata": {
            "tags": null
          },
          "name": "stdout",
          "output_type": "stream",
          "text": [
            "Model: \"model\"\n",
            "__________________________________________________________________________________________________\n",
            " Layer (type)                   Output Shape         Param #     Connected to                     \n",
            "==================================================================================================\n",
            " input_1 (InputLayer)           [(None, 10, 1)]      0           []                               \n",
            "                                                                                                  \n",
            " sequential (Sequential)        (None, 16)           2016        ['input_1[0][0]',                \n",
            "                                                                  'input_1[0][0]',                \n",
            "                                                                  'input_1[0][0]',                \n",
            "                                                                  'input_1[0][0]',                \n",
            "                                                                  'input_1[0][0]']                \n",
            "                                                                                                  \n",
            " input_2 (InputLayer)           [(None, 4)]          0           []                               \n",
            "                                                                                                  \n",
            " concatenate (Concatenate)      (None, 84)           0           ['sequential[0][0]',             \n",
            "                                                                  'sequential[1][0]',             \n",
            "                                                                  'sequential[2][0]',             \n",
            "                                                                  'sequential[3][0]',             \n",
            "                                                                  'sequential[4][0]',             \n",
            "                                                                  'input_2[0][0]']                \n",
            "                                                                                                  \n",
            " dense (Dense)                  (None, 600)          51000       ['concatenate[0][0]']            \n",
            "                                                                                                  \n",
            " batch_normalization (BatchNorm  (None, 600)         2400        ['dense[0][0]']                  \n",
            " alization)                                                                                       \n",
            "                                                                                                  \n",
            " leaky_re_lu (LeakyReLU)        (None, 600)          0           ['batch_normalization[0][0]']    \n",
            "                                                                                                  \n",
            " dense_1 (Dense)                (None, 600)          360600      ['leaky_re_lu[0][0]']            \n",
            "                                                                                                  \n",
            " batch_normalization_1 (BatchNo  (None, 600)         2400        ['dense_1[0][0]']                \n",
            " rmalization)                                                                                     \n",
            "                                                                                                  \n",
            " leaky_re_lu_1 (LeakyReLU)      (None, 600)          0           ['batch_normalization_1[0][0]']  \n",
            "                                                                                                  \n",
            " dense_2 (Dense)                (None, 600)          360600      ['leaky_re_lu_1[0][0]']          \n",
            "                                                                                                  \n",
            " batch_normalization_2 (BatchNo  (None, 600)         2400        ['dense_2[0][0]']                \n",
            " rmalization)                                                                                     \n",
            "                                                                                                  \n",
            " leaky_re_lu_2 (LeakyReLU)      (None, 600)          0           ['batch_normalization_2[0][0]']  \n",
            "                                                                                                  \n",
            " dense_3 (Dense)                (None, 600)          360600      ['leaky_re_lu_2[0][0]']          \n",
            "                                                                                                  \n",
            " batch_normalization_3 (BatchNo  (None, 600)         2400        ['dense_3[0][0]']                \n",
            " rmalization)                                                                                     \n",
            "                                                                                                  \n",
            " leaky_re_lu_3 (LeakyReLU)      (None, 600)          0           ['batch_normalization_3[0][0]']  \n",
            "                                                                                                  \n",
            " dense_4 (Dense)                (None, 600)          360600      ['leaky_re_lu_3[0][0]']          \n",
            "                                                                                                  \n",
            " batch_normalization_4 (BatchNo  (None, 600)         2400        ['dense_4[0][0]']                \n",
            " rmalization)                                                                                     \n",
            "                                                                                                  \n",
            " leaky_re_lu_4 (LeakyReLU)      (None, 600)          0           ['batch_normalization_4[0][0]']  \n",
            "                                                                                                  \n",
            " dense_5 (Dense)                (None, 600)          360600      ['leaky_re_lu_4[0][0]']          \n",
            "                                                                                                  \n",
            " batch_normalization_5 (BatchNo  (None, 600)         2400        ['dense_5[0][0]']                \n",
            " rmalization)                                                                                     \n",
            "                                                                                                  \n",
            " leaky_re_lu_5 (LeakyReLU)      (None, 600)          0           ['batch_normalization_5[0][0]']  \n",
            "                                                                                                  \n",
            " dense_6 (Dense)                (None, 1)            601         ['leaky_re_lu_5[0][0]']          \n",
            "                                                                                                  \n",
            "==================================================================================================\n",
            "Total params: 1,871,017\n",
            "Trainable params: 1,863,817\n",
            "Non-trainable params: 7,200\n",
            "__________________________________________________________________________________________________\n",
            "Train shape: (172963, 10, 1), (172963, 10, 1)\n",
            "Val shape: (11980, 10, 1), (11980, 10, 1)\n",
            "Epoch 1/1000\n",
            "43/43 [==============================] - 56s 280ms/step - loss: 140795.3438 - val_loss: 183615.8125\n",
            "Epoch 2/1000\n",
            "43/43 [==============================] - 10s 112ms/step - loss: 73543.7188 - val_loss: 44839.7891\n",
            "Epoch 3/1000\n",
            "43/43 [==============================] - 10s 105ms/step - loss: 24608.2461 - val_loss: 57651.5742\n",
            "Epoch 4/1000\n",
            "43/43 [==============================] - 10s 108ms/step - loss: 5648.1426 - val_loss: 122333.9609\n",
            "Epoch 5/1000\n",
            "43/43 [==============================] - 10s 111ms/step - loss: 1287.5560 - val_loss: 110680.4922\n",
            "Epoch 6/1000\n",
            "43/43 [==============================] - 10s 112ms/step - loss: 481.4304 - val_loss: 87108.8203\n",
            "Epoch 7/1000\n",
            "43/43 [==============================] - 10s 112ms/step - loss: 260.3416 - val_loss: 56536.3320\n",
            "Epoch 8/1000\n",
            "43/43 [==============================] - 10s 112ms/step - loss: 187.7145 - val_loss: 46396.5312\n",
            "Epoch 9/1000\n",
            "43/43 [==============================] - 11s 132ms/step - loss: 145.8750 - val_loss: 34473.3867\n",
            "Epoch 10/1000\n",
            "43/43 [==============================] - 10s 112ms/step - loss: 125.8135 - val_loss: 27652.7812\n",
            "Epoch 11/1000\n",
            "43/43 [==============================] - 10s 113ms/step - loss: 87.2184 - val_loss: 22282.7871\n",
            "Epoch 12/1000\n",
            "43/43 [==============================] - 10s 115ms/step - loss: 106.2739 - val_loss: 16807.8379\n",
            "Epoch 13/1000\n",
            "43/43 [==============================] - 11s 135ms/step - loss: 93.1918 - val_loss: 11827.7646\n",
            "Epoch 14/1000\n",
            "43/43 [==============================] - 10s 115ms/step - loss: 74.3945 - val_loss: 7540.5547\n",
            "Epoch 15/1000\n",
            "43/43 [==============================] - 11s 135ms/step - loss: 73.4152 - val_loss: 5222.1094\n",
            "Epoch 16/1000\n",
            "43/43 [==============================] - 10s 113ms/step - loss: 68.8686 - val_loss: 2185.0256\n",
            "Epoch 17/1000\n",
            "43/43 [==============================] - 10s 116ms/step - loss: 66.7732 - val_loss: 1291.1316\n",
            "Epoch 18/1000\n",
            "43/43 [==============================] - 11s 132ms/step - loss: 62.5716 - val_loss: 501.2919\n",
            "Epoch 19/1000\n",
            "43/43 [==============================] - 10s 115ms/step - loss: 56.0392 - val_loss: 143.9589\n",
            "Epoch 20/1000\n",
            "43/43 [==============================] - 10s 114ms/step - loss: 60.6427 - val_loss: 118.4602\n",
            "Epoch 21/1000\n",
            "43/43 [==============================] - 10s 109ms/step - loss: 50.8521 - val_loss: 163.8569\n",
            "Epoch 22/1000\n",
            "43/43 [==============================] - 10s 110ms/step - loss: 49.8883 - val_loss: 126.7132\n",
            "Epoch 23/1000\n",
            "43/43 [==============================] - 10s 109ms/step - loss: 61.4102 - val_loss: 347.6681\n",
            "Epoch 24/1000\n",
            "43/43 [==============================] - 11s 131ms/step - loss: 46.6855 - val_loss: 110.7266\n",
            "Epoch 25/1000\n",
            "43/43 [==============================] - 10s 107ms/step - loss: 46.8332 - val_loss: 223.4918\n",
            "Epoch 26/1000\n",
            "43/43 [==============================] - 11s 138ms/step - loss: 39.2002 - val_loss: 92.8489\n",
            "Epoch 27/1000\n",
            "43/43 [==============================] - 10s 114ms/step - loss: 39.7834 - val_loss: 55.5957\n",
            "Epoch 28/1000\n",
            "43/43 [==============================] - 10s 109ms/step - loss: 39.2047 - val_loss: 69.0966\n",
            "Epoch 29/1000\n",
            "43/43 [==============================] - 11s 116ms/step - loss: 40.7628 - val_loss: 83.5622\n",
            "Epoch 30/1000\n",
            "43/43 [==============================] - 11s 138ms/step - loss: 48.6129 - val_loss: 37.1659\n",
            "Epoch 31/1000\n",
            "43/43 [==============================] - 10s 110ms/step - loss: 48.4948 - val_loss: 68.5590\n",
            "Epoch 32/1000\n",
            "43/43 [==============================] - 10s 111ms/step - loss: 34.8274 - val_loss: 140.9366\n",
            "Epoch 33/1000\n",
            "43/43 [==============================] - 10s 113ms/step - loss: 42.7192 - val_loss: 56.0541\n",
            "Epoch 34/1000\n",
            "43/43 [==============================] - 11s 136ms/step - loss: 50.7816 - val_loss: 15.4472\n",
            "Epoch 35/1000\n",
            "43/43 [==============================] - 10s 114ms/step - loss: 50.7700 - val_loss: 29.3463\n",
            "Epoch 36/1000\n",
            "43/43 [==============================] - 10s 115ms/step - loss: 40.1344 - val_loss: 59.9117\n",
            "Epoch 37/1000\n",
            "43/43 [==============================] - 10s 115ms/step - loss: 44.0970 - val_loss: 43.2544\n",
            "Epoch 38/1000\n",
            "43/43 [==============================] - 10s 109ms/step - loss: 35.5491 - val_loss: 44.9642\n",
            "Epoch 39/1000\n",
            "43/43 [==============================] - 10s 109ms/step - loss: 33.8560 - val_loss: 57.8182\n",
            "Epoch 40/1000\n",
            "43/43 [==============================] - 10s 107ms/step - loss: 33.0177 - val_loss: 49.5889\n",
            "Epoch 41/1000\n",
            "43/43 [==============================] - 10s 111ms/step - loss: 34.2214 - val_loss: 49.3988\n",
            "Epoch 42/1000\n",
            "43/43 [==============================] - 10s 109ms/step - loss: 45.9769 - val_loss: 40.3828\n",
            "Epoch 43/1000\n",
            "43/43 [==============================] - 10s 107ms/step - loss: 36.3952 - val_loss: 38.7269\n",
            "Epoch 44/1000\n",
            "43/43 [==============================] - 10s 109ms/step - loss: 45.7844 - val_loss: 31.6067\n",
            "Epoch 45/1000\n",
            "43/43 [==============================] - 10s 110ms/step - loss: 44.7623 - val_loss: 25.7091\n",
            "Epoch 46/1000\n",
            "43/43 [==============================] - 10s 110ms/step - loss: 41.3064 - val_loss: 31.1737\n",
            "Epoch 47/1000\n",
            "43/43 [==============================] - 10s 110ms/step - loss: 32.0313 - val_loss: 32.0778\n",
            "Epoch 48/1000\n",
            "43/43 [==============================] - 10s 108ms/step - loss: 36.4522 - val_loss: 26.5134\n",
            "Epoch 49/1000\n",
            "43/43 [==============================] - 10s 111ms/step - loss: 44.1020 - val_loss: 30.8942\n",
            "Epoch 50/1000\n",
            "43/43 [==============================] - 10s 110ms/step - loss: 40.7989 - val_loss: 35.0421\n",
            "Epoch 51/1000\n",
            "43/43 [==============================] - 10s 109ms/step - loss: 35.9999 - val_loss: 35.2432\n",
            "Epoch 52/1000\n",
            "43/43 [==============================] - 10s 110ms/step - loss: 28.8590 - val_loss: 31.3010\n",
            "Epoch 53/1000\n",
            "43/43 [==============================] - 10s 109ms/step - loss: 40.9560 - val_loss: 36.7738\n",
            "Epoch 54/1000\n",
            "43/43 [==============================] - 10s 112ms/step - loss: 34.9032 - val_loss: 30.2417\n"
          ]
        },
        {
          "data": {
            "text/html": [
              "Waiting for W&B process to finish... <strong style=\"color:green\">(success).</strong>"
            ],
            "text/plain": [
              "<IPython.core.display.HTML object>"
            ]
          },
          "metadata": {},
          "output_type": "display_data"
        },
        {
          "data": {
            "application/vnd.jupyter.widget-view+json": {
              "model_id": "b7bd3da7630841f48ee12c472e155d36",
              "version_major": 2,
              "version_minor": 0
            },
            "text/plain": [
              "VBox(children=(Label(value='0.006 MB of 0.006 MB uploaded (0.000 MB deduped)\\r'), FloatProgress(value=1.0, max…"
            ]
          },
          "metadata": {},
          "output_type": "display_data"
        },
        {
          "data": {
            "text/html": [
              "<style>\n",
              "    table.wandb td:nth-child(1) { padding: 0 10px; text-align: left ; width: auto;} td:nth-child(2) {text-align: left ; width: 100%}\n",
              "    .wandb-row { display: flex; flex-direction: row; flex-wrap: wrap; justify-content: flex-start; width: 100% }\n",
              "    .wandb-col { display: flex; flex-direction: column; flex-basis: 100%; flex: 1; padding: 10px; }\n",
              "    </style>\n",
              "<div class=\"wandb-row\"><div class=\"wandb-col\"><h3>Run history:</h3><br/><table class=\"wandb\"><tr><td>epoch</td><td>▁▁▁▂▂▂▂▂▂▃▃▃▃▃▄▄▄▄▄▄▅▅▅▅▅▅▆▆▆▆▆▇▇▇▇▇▇███</td></tr><tr><td>loss</td><td>█▅▂▁▁▁▁▁▁▁▁▁▁▁▁▁▁▁▁▁▁▁▁▁▁▁▁▁▁▁▁▁▁▁▁▁▁▁▁▁</td></tr><tr><td>val_loss</td><td>█▃▃▅▄▃▂▂▂▁▁▁▁▁▁▁▁▁▁▁▁▁▁▁▁▁▁▁▁▁▁▁▁▁▁▁▁▁▁▁</td></tr></table><br/></div><div class=\"wandb-col\"><h3>Run summary:</h3><br/><table class=\"wandb\"><tr><td>best_epoch</td><td>33</td></tr><tr><td>best_val_loss</td><td>15.44719</td></tr><tr><td>epoch</td><td>53</td></tr><tr><td>loss</td><td>34.90315</td></tr><tr><td>val_loss</td><td>30.24173</td></tr></table><br/></div></div>"
            ],
            "text/plain": [
              "<IPython.core.display.HTML object>"
            ]
          },
          "metadata": {},
          "output_type": "display_data"
        },
        {
          "data": {
            "text/html": [
              " View run <strong style=\"color:#cdcd00\">whole-shadow-234</strong> at: <a href='https://wandb.ai/avogadro/Deep%20learning%20for%20option%20pricing%20-%20rolling%20windows/runs/mdeblv1u' target=\"_blank\">https://wandb.ai/avogadro/Deep%20learning%20for%20option%20pricing%20-%20rolling%20windows/runs/mdeblv1u</a><br/>Synced 5 W&B file(s), 1 media file(s), 0 artifact file(s) and 0 other file(s)"
            ],
            "text/plain": [
              "<IPython.core.display.HTML object>"
            ]
          },
          "metadata": {},
          "output_type": "display_data"
        },
        {
          "data": {
            "text/html": [
              "Find logs at: <code>./wandb/run-20230415_150003-mdeblv1u/logs</code>"
            ],
            "text/plain": [
              "<IPython.core.display.HTML object>"
            ]
          },
          "metadata": {},
          "output_type": "display_data"
        },
        {
          "metadata": {
            "tags": null
          },
          "name": "stdout",
          "output_type": "stream",
          "text": [
            "--- Predictions for test_start 2014-12-30 ---\n",
            "MSE: 29.728848\n",
            "RMSE: 5.452417\n",
            "-------------------------------------------\n",
            "Train shape: (173097, 10, 1), (173097, 4)\n",
            "Val shape: (14083, 10, 1), (14083, 4)\n",
            "Test shape: (24916, 10, 1), (24916, 4)\n",
            "-------------------------------------------\n",
            "Checkpoint_path =  /content/drive/MyDrive/01. Masters Thesis - Shared/05. Checkpoints/04-15_14-59/2014-10-07/\n",
            "Previous checkpoint_path =  /content/drive/MyDrive/01. Masters Thesis - Shared/05. Checkpoints/04-15_14-59/2014-09-23/\n",
            "-------------------------------------------\n"
          ]
        },
        {
          "data": {
            "text/html": [
              "Changes to your `wandb` environment variables will be ignored because your `wandb` session has already started. For more information on how to modify your settings with `wandb.init()` arguments, please refer to <a href='https://wandb.me/wandb-init' target=\"_blank\">the W&B docs</a>."
            ],
            "text/plain": [
              "<IPython.core.display.HTML object>"
            ]
          },
          "metadata": {},
          "output_type": "display_data"
        },
        {
          "data": {
            "text/html": [
              "Tracking run with wandb version 0.14.2"
            ],
            "text/plain": [
              "<IPython.core.display.HTML object>"
            ]
          },
          "metadata": {},
          "output_type": "display_data"
        },
        {
          "data": {
            "text/html": [
              "Run data is saved locally in <code>/content/wandb/run-20230415_151038-tr4y9cm1</code>"
            ],
            "text/plain": [
              "<IPython.core.display.HTML object>"
            ]
          },
          "metadata": {},
          "output_type": "display_data"
        },
        {
          "data": {
            "text/html": [
              "Syncing run <strong><a href='https://wandb.ai/avogadro/Deep%20learning%20for%20option%20pricing%20-%20rolling%20windows/runs/tr4y9cm1' target=\"_blank\">desert-sky-235</a></strong> to <a href='https://wandb.ai/avogadro/Deep%20learning%20for%20option%20pricing%20-%20rolling%20windows' target=\"_blank\">Weights & Biases</a> (<a href='https://wandb.me/run' target=\"_blank\">docs</a>)<br/>"
            ],
            "text/plain": [
              "<IPython.core.display.HTML object>"
            ]
          },
          "metadata": {},
          "output_type": "display_data"
        },
        {
          "data": {
            "text/html": [
              " View project at <a href='https://wandb.ai/avogadro/Deep%20learning%20for%20option%20pricing%20-%20rolling%20windows' target=\"_blank\">https://wandb.ai/avogadro/Deep%20learning%20for%20option%20pricing%20-%20rolling%20windows</a>"
            ],
            "text/plain": [
              "<IPython.core.display.HTML object>"
            ]
          },
          "metadata": {},
          "output_type": "display_data"
        },
        {
          "data": {
            "text/html": [
              " View run at <a href='https://wandb.ai/avogadro/Deep%20learning%20for%20option%20pricing%20-%20rolling%20windows/runs/tr4y9cm1' target=\"_blank\">https://wandb.ai/avogadro/Deep%20learning%20for%20option%20pricing%20-%20rolling%20windows/runs/tr4y9cm1</a>"
            ],
            "text/plain": [
              "<IPython.core.display.HTML object>"
            ]
          },
          "metadata": {},
          "output_type": "display_data"
        },
        {
          "metadata": {
            "tags": null
          },
          "name": "stdout",
          "output_type": "stream",
          "text": [
            "Train shape: (172963, 10, 1), (172963, 10, 1)\n",
            "Val shape: (11980, 10, 1), (11980, 10, 1)\n",
            "Epoch 1/1000\n",
            "43/43 [==============================] - 37s 268ms/step - loss: 50.0692 - val_loss: 25.1029\n",
            "Epoch 2/1000\n",
            "43/43 [==============================] - 10s 111ms/step - loss: 37.4174 - val_loss: 19.2470\n",
            "Epoch 3/1000\n",
            "43/43 [==============================] - 10s 105ms/step - loss: 33.7816 - val_loss: 25.9617\n",
            "Epoch 4/1000\n",
            "43/43 [==============================] - 10s 105ms/step - loss: 35.8898 - val_loss: 47.3648\n",
            "Epoch 5/1000\n",
            "43/43 [==============================] - 10s 105ms/step - loss: 35.2843 - val_loss: 36.9420\n",
            "Epoch 6/1000\n",
            "43/43 [==============================] - 10s 106ms/step - loss: 37.4728 - val_loss: 22.0806\n",
            "Epoch 7/1000\n",
            "43/43 [==============================] - 10s 103ms/step - loss: 39.2883 - val_loss: 29.3635\n",
            "Epoch 8/1000\n",
            "43/43 [==============================] - 10s 105ms/step - loss: 43.1407 - val_loss: 35.6954\n",
            "Epoch 9/1000\n",
            "43/43 [==============================] - 9s 107ms/step - loss: 51.0402 - val_loss: 40.6779\n",
            "Epoch 10/1000\n",
            "43/43 [==============================] - 10s 106ms/step - loss: 35.6124 - val_loss: 35.9647\n",
            "Epoch 11/1000\n",
            "43/43 [==============================] - 10s 106ms/step - loss: 40.9956 - val_loss: 23.1232\n",
            "Epoch 12/1000\n",
            "43/43 [==============================] - 10s 105ms/step - loss: 39.6786 - val_loss: 27.8664\n",
            "Epoch 13/1000\n",
            "43/43 [==============================] - 9s 107ms/step - loss: 48.1806 - val_loss: 26.8000\n",
            "Epoch 14/1000\n",
            "43/43 [==============================] - 10s 106ms/step - loss: 40.7416 - val_loss: 31.7878\n",
            "Epoch 15/1000\n",
            "43/43 [==============================] - 10s 106ms/step - loss: 34.4797 - val_loss: 32.2383\n",
            "Epoch 16/1000\n",
            "43/43 [==============================] - 10s 107ms/step - loss: 39.7682 - val_loss: 37.6866\n",
            "Epoch 17/1000\n",
            "43/43 [==============================] - 10s 112ms/step - loss: 34.2405 - val_loss: 34.6846\n",
            "Epoch 18/1000\n",
            "43/43 [==============================] - 10s 114ms/step - loss: 44.8529 - val_loss: 28.1915\n",
            "Epoch 19/1000\n",
            "43/43 [==============================] - 10s 111ms/step - loss: 36.5127 - val_loss: 32.5905\n",
            "Epoch 20/1000\n",
            "43/43 [==============================] - 10s 108ms/step - loss: 39.1316 - val_loss: 30.4830\n",
            "Epoch 21/1000\n",
            "43/43 [==============================] - 10s 106ms/step - loss: 37.1266 - val_loss: 31.3245\n",
            "Epoch 22/1000\n",
            "43/43 [==============================] - 10s 107ms/step - loss: 41.6884 - val_loss: 31.0036\n"
          ]
        },
        {
          "data": {
            "text/html": [
              "Waiting for W&B process to finish... <strong style=\"color:green\">(success).</strong>"
            ],
            "text/plain": [
              "<IPython.core.display.HTML object>"
            ]
          },
          "metadata": {},
          "output_type": "display_data"
        },
        {
          "data": {
            "application/vnd.jupyter.widget-view+json": {
              "model_id": "e2bd7202abf344ec959dd6942bb05de4",
              "version_major": 2,
              "version_minor": 0
            },
            "text/plain": [
              "VBox(children=(Label(value='0.006 MB of 0.006 MB uploaded (0.000 MB deduped)\\r'), FloatProgress(value=1.0, max…"
            ]
          },
          "metadata": {},
          "output_type": "display_data"
        },
        {
          "data": {
            "text/html": [
              "<style>\n",
              "    table.wandb td:nth-child(1) { padding: 0 10px; text-align: left ; width: auto;} td:nth-child(2) {text-align: left ; width: 100%}\n",
              "    .wandb-row { display: flex; flex-direction: row; flex-wrap: wrap; justify-content: flex-start; width: 100% }\n",
              "    .wandb-col { display: flex; flex-direction: column; flex-basis: 100%; flex: 1; padding: 10px; }\n",
              "    </style>\n",
              "<div class=\"wandb-row\"><div class=\"wandb-col\"><h3>Run history:</h3><br/><table class=\"wandb\"><tr><td>epoch</td><td>▁▁▂▂▂▃▃▃▄▄▄▅▅▅▆▆▆▇▇▇██</td></tr><tr><td>loss</td><td>█▂▁▂▂▂▃▅█▂▄▃▇▄▁▃▁▅▂▃▂▄</td></tr><tr><td>val_loss</td><td>▂▁▃█▅▂▄▅▆▅▂▃▃▄▄▆▅▃▄▄▄▄</td></tr></table><br/></div><div class=\"wandb-col\"><h3>Run summary:</h3><br/><table class=\"wandb\"><tr><td>best_epoch</td><td>1</td></tr><tr><td>best_val_loss</td><td>19.24705</td></tr><tr><td>epoch</td><td>21</td></tr><tr><td>loss</td><td>41.68844</td></tr><tr><td>val_loss</td><td>31.00356</td></tr></table><br/></div></div>"
            ],
            "text/plain": [
              "<IPython.core.display.HTML object>"
            ]
          },
          "metadata": {},
          "output_type": "display_data"
        },
        {
          "data": {
            "text/html": [
              " View run <strong style=\"color:#cdcd00\">desert-sky-235</strong> at: <a href='https://wandb.ai/avogadro/Deep%20learning%20for%20option%20pricing%20-%20rolling%20windows/runs/tr4y9cm1' target=\"_blank\">https://wandb.ai/avogadro/Deep%20learning%20for%20option%20pricing%20-%20rolling%20windows/runs/tr4y9cm1</a><br/>Synced 5 W&B file(s), 1 media file(s), 0 artifact file(s) and 0 other file(s)"
            ],
            "text/plain": [
              "<IPython.core.display.HTML object>"
            ]
          },
          "metadata": {},
          "output_type": "display_data"
        },
        {
          "data": {
            "text/html": [
              "Find logs at: <code>./wandb/run-20230415_151038-tr4y9cm1/logs</code>"
            ],
            "text/plain": [
              "<IPython.core.display.HTML object>"
            ]
          },
          "metadata": {},
          "output_type": "display_data"
        },
        {
          "metadata": {
            "tags": null
          },
          "name": "stdout",
          "output_type": "stream",
          "text": [
            "--- Predictions for test_start 2015-01-14 ---\n",
            "MSE: 190.85107\n",
            "RMSE: 13.814886\n",
            "-------------------------------------------\n",
            "Train shape: (172240, 10, 1), (172240, 4)\n",
            "Val shape: (14080, 10, 1), (14080, 4)\n",
            "Test shape: (28919, 10, 1), (28919, 4)\n",
            "-------------------------------------------\n",
            "Checkpoint_path =  /content/drive/MyDrive/01. Masters Thesis - Shared/05. Checkpoints/04-15_14-59/2014-10-21/\n",
            "Previous checkpoint_path =  /content/drive/MyDrive/01. Masters Thesis - Shared/05. Checkpoints/04-15_14-59/2014-10-07/\n",
            "-------------------------------------------\n"
          ]
        },
        {
          "data": {
            "text/html": [
              "Changes to your `wandb` environment variables will be ignored because your `wandb` session has already started. For more information on how to modify your settings with `wandb.init()` arguments, please refer to <a href='https://wandb.me/wandb-init' target=\"_blank\">the W&B docs</a>."
            ],
            "text/plain": [
              "<IPython.core.display.HTML object>"
            ]
          },
          "metadata": {},
          "output_type": "display_data"
        },
        {
          "data": {
            "text/html": [
              "Tracking run with wandb version 0.14.2"
            ],
            "text/plain": [
              "<IPython.core.display.HTML object>"
            ]
          },
          "metadata": {},
          "output_type": "display_data"
        },
        {
          "data": {
            "text/html": [
              "Run data is saved locally in <code>/content/wandb/run-20230415_151517-usxretq0</code>"
            ],
            "text/plain": [
              "<IPython.core.display.HTML object>"
            ]
          },
          "metadata": {},
          "output_type": "display_data"
        },
        {
          "data": {
            "text/html": [
              "Syncing run <strong><a href='https://wandb.ai/avogadro/Deep%20learning%20for%20option%20pricing%20-%20rolling%20windows/runs/usxretq0' target=\"_blank\">copper-dream-236</a></strong> to <a href='https://wandb.ai/avogadro/Deep%20learning%20for%20option%20pricing%20-%20rolling%20windows' target=\"_blank\">Weights & Biases</a> (<a href='https://wandb.me/run' target=\"_blank\">docs</a>)<br/>"
            ],
            "text/plain": [
              "<IPython.core.display.HTML object>"
            ]
          },
          "metadata": {},
          "output_type": "display_data"
        },
        {
          "data": {
            "text/html": [
              " View project at <a href='https://wandb.ai/avogadro/Deep%20learning%20for%20option%20pricing%20-%20rolling%20windows' target=\"_blank\">https://wandb.ai/avogadro/Deep%20learning%20for%20option%20pricing%20-%20rolling%20windows</a>"
            ],
            "text/plain": [
              "<IPython.core.display.HTML object>"
            ]
          },
          "metadata": {},
          "output_type": "display_data"
        },
        {
          "data": {
            "text/html": [
              " View run at <a href='https://wandb.ai/avogadro/Deep%20learning%20for%20option%20pricing%20-%20rolling%20windows/runs/usxretq0' target=\"_blank\">https://wandb.ai/avogadro/Deep%20learning%20for%20option%20pricing%20-%20rolling%20windows/runs/usxretq0</a>"
            ],
            "text/plain": [
              "<IPython.core.display.HTML object>"
            ]
          },
          "metadata": {},
          "output_type": "display_data"
        },
        {
          "metadata": {
            "tags": null
          },
          "name": "stdout",
          "output_type": "stream",
          "text": [
            "Train shape: (172963, 10, 1), (172963, 10, 1)\n",
            "Val shape: (11980, 10, 1), (11980, 10, 1)\n",
            "Epoch 1/1000\n",
            "43/43 [==============================] - 35s 269ms/step - loss: 37.8942 - val_loss: 33.4427\n",
            "Epoch 2/1000\n",
            "43/43 [==============================] - 9s 108ms/step - loss: 49.3844 - val_loss: 29.3273\n",
            "Epoch 3/1000\n",
            "43/43 [==============================] - 9s 103ms/step - loss: 43.5855 - val_loss: 46.8074\n",
            "Epoch 4/1000\n",
            "43/43 [==============================] - 9s 106ms/step - loss: 34.8490 - val_loss: 33.9565\n",
            "Epoch 5/1000\n",
            "43/43 [==============================] - 9s 103ms/step - loss: 45.5098 - val_loss: 52.1129\n",
            "Epoch 6/1000\n",
            "43/43 [==============================] - 9s 104ms/step - loss: 39.9103 - val_loss: 55.3305\n",
            "Epoch 7/1000\n",
            "43/43 [==============================] - 9s 104ms/step - loss: 42.2718 - val_loss: 41.6497\n",
            "Epoch 8/1000\n",
            "43/43 [==============================] - 9s 106ms/step - loss: 37.2647 - val_loss: 35.0274\n",
            "Epoch 9/1000\n",
            "43/43 [==============================] - 9s 103ms/step - loss: 39.3884 - val_loss: 40.7015\n",
            "Epoch 10/1000\n",
            "43/43 [==============================] - 9s 105ms/step - loss: 42.6297 - val_loss: 30.6332\n",
            "Epoch 11/1000\n",
            "43/43 [==============================] - 10s 128ms/step - loss: 32.5630 - val_loss: 24.6864\n",
            "Epoch 12/1000\n",
            "43/43 [==============================] - 10s 109ms/step - loss: 47.4663 - val_loss: 23.9909\n",
            "Epoch 13/1000\n",
            "43/43 [==============================] - 9s 105ms/step - loss: 33.8829 - val_loss: 24.6025\n",
            "Epoch 14/1000\n",
            "43/43 [==============================] - 10s 104ms/step - loss: 38.9209 - val_loss: 28.0622\n",
            "Epoch 15/1000\n",
            "43/43 [==============================] - 9s 105ms/step - loss: 35.3170 - val_loss: 31.0263\n",
            "Epoch 16/1000\n",
            "43/43 [==============================] - 10s 108ms/step - loss: 41.8622 - val_loss: 37.8251\n",
            "Epoch 17/1000\n",
            "43/43 [==============================] - 10s 104ms/step - loss: 27.6119 - val_loss: 36.6265\n",
            "Epoch 18/1000\n",
            "43/43 [==============================] - 10s 107ms/step - loss: 31.4072 - val_loss: 29.7022\n",
            "Epoch 19/1000\n",
            "43/43 [==============================] - 10s 112ms/step - loss: 42.1686 - val_loss: 28.0145\n",
            "Epoch 20/1000\n",
            "43/43 [==============================] - 10s 113ms/step - loss: 35.5317 - val_loss: 27.5458\n",
            "Epoch 21/1000\n",
            "43/43 [==============================] - 10s 110ms/step - loss: 35.3687 - val_loss: 28.3597\n",
            "Epoch 22/1000\n",
            "43/43 [==============================] - 10s 105ms/step - loss: 42.4970 - val_loss: 30.2288\n",
            "Epoch 23/1000\n",
            "43/43 [==============================] - 10s 107ms/step - loss: 39.2746 - val_loss: 28.5102\n",
            "Epoch 24/1000\n",
            "43/43 [==============================] - 10s 107ms/step - loss: 33.6094 - val_loss: 30.0405\n",
            "Epoch 25/1000\n",
            "43/43 [==============================] - 9s 105ms/step - loss: 43.5876 - val_loss: 29.7593\n",
            "Epoch 26/1000\n",
            "43/43 [==============================] - 10s 105ms/step - loss: 41.5098 - val_loss: 27.1082\n",
            "Epoch 27/1000\n",
            "43/43 [==============================] - 10s 106ms/step - loss: 33.7732 - val_loss: 28.4548\n",
            "Epoch 28/1000\n",
            "43/43 [==============================] - 10s 108ms/step - loss: 45.0352 - val_loss: 28.9460\n",
            "Epoch 29/1000\n",
            "43/43 [==============================] - 9s 106ms/step - loss: 38.3580 - val_loss: 28.2933\n",
            "Epoch 30/1000\n",
            "43/43 [==============================] - 10s 105ms/step - loss: 34.1357 - val_loss: 28.7886\n",
            "Epoch 31/1000\n",
            "43/43 [==============================] - 9s 105ms/step - loss: 47.0835 - val_loss: 29.3109\n"
          ]
        },
        {
          "data": {
            "text/html": [
              "Waiting for W&B process to finish... <strong style=\"color:green\">(success).</strong>"
            ],
            "text/plain": [
              "<IPython.core.display.HTML object>"
            ]
          },
          "metadata": {},
          "output_type": "display_data"
        },
        {
          "data": {
            "application/vnd.jupyter.widget-view+json": {
              "model_id": "b549885418884fef82dca20cf5f70298",
              "version_major": 2,
              "version_minor": 0
            },
            "text/plain": [
              "VBox(children=(Label(value='0.006 MB of 0.006 MB uploaded (0.000 MB deduped)\\r'), FloatProgress(value=1.0, max…"
            ]
          },
          "metadata": {},
          "output_type": "display_data"
        },
        {
          "data": {
            "text/html": [
              "<style>\n",
              "    table.wandb td:nth-child(1) { padding: 0 10px; text-align: left ; width: auto;} td:nth-child(2) {text-align: left ; width: 100%}\n",
              "    .wandb-row { display: flex; flex-direction: row; flex-wrap: wrap; justify-content: flex-start; width: 100% }\n",
              "    .wandb-col { display: flex; flex-direction: column; flex-basis: 100%; flex: 1; padding: 10px; }\n",
              "    </style>\n",
              "<div class=\"wandb-row\"><div class=\"wandb-col\"><h3>Run history:</h3><br/><table class=\"wandb\"><tr><td>epoch</td><td>▁▁▁▂▂▂▂▃▃▃▃▄▄▄▄▅▅▅▅▅▆▆▆▆▇▇▇▇███</td></tr><tr><td>loss</td><td>▄█▆▃▇▅▆▄▅▆▃▇▃▅▃▆▁▂▆▄▃▆▅▃▆▅▃▇▄▃▇</td></tr><tr><td>val_loss</td><td>▃▂▆▃▇█▅▃▅▂▁▁▁▂▃▄▄▂▂▂▂▂▂▂▂▂▂▂▂▂▂</td></tr></table><br/></div><div class=\"wandb-col\"><h3>Run summary:</h3><br/><table class=\"wandb\"><tr><td>best_epoch</td><td>11</td></tr><tr><td>best_val_loss</td><td>23.99088</td></tr><tr><td>epoch</td><td>30</td></tr><tr><td>loss</td><td>47.08347</td></tr><tr><td>val_loss</td><td>29.31094</td></tr></table><br/></div></div>"
            ],
            "text/plain": [
              "<IPython.core.display.HTML object>"
            ]
          },
          "metadata": {},
          "output_type": "display_data"
        },
        {
          "data": {
            "text/html": [
              " View run <strong style=\"color:#cdcd00\">copper-dream-236</strong> at: <a href='https://wandb.ai/avogadro/Deep%20learning%20for%20option%20pricing%20-%20rolling%20windows/runs/usxretq0' target=\"_blank\">https://wandb.ai/avogadro/Deep%20learning%20for%20option%20pricing%20-%20rolling%20windows/runs/usxretq0</a><br/>Synced 5 W&B file(s), 1 media file(s), 0 artifact file(s) and 0 other file(s)"
            ],
            "text/plain": [
              "<IPython.core.display.HTML object>"
            ]
          },
          "metadata": {},
          "output_type": "display_data"
        },
        {
          "data": {
            "text/html": [
              "Find logs at: <code>./wandb/run-20230415_151517-usxretq0/logs</code>"
            ],
            "text/plain": [
              "<IPython.core.display.HTML object>"
            ]
          },
          "metadata": {},
          "output_type": "display_data"
        },
        {
          "metadata": {
            "tags": null
          },
          "name": "stdout",
          "output_type": "stream",
          "text": [
            "--- Predictions for test_start 2015-01-28 ---\n",
            "MSE: 450.3543\n",
            "RMSE: 21.221552\n",
            "-------------------------------------------\n",
            "Train shape: (173892, 10, 1), (173892, 4)\n",
            "Val shape: (14731, 10, 1), (14731, 4)\n",
            "Test shape: (27127, 10, 1), (27127, 4)\n",
            "-------------------------------------------\n",
            "Checkpoint_path =  /content/drive/MyDrive/01. Masters Thesis - Shared/05. Checkpoints/04-15_14-59/2014-11-04/\n",
            "Previous checkpoint_path =  /content/drive/MyDrive/01. Masters Thesis - Shared/05. Checkpoints/04-15_14-59/2014-10-21/\n",
            "-------------------------------------------\n"
          ]
        },
        {
          "data": {
            "text/html": [
              "Changes to your `wandb` environment variables will be ignored because your `wandb` session has already started. For more information on how to modify your settings with `wandb.init()` arguments, please refer to <a href='https://wandb.me/wandb-init' target=\"_blank\">the W&B docs</a>."
            ],
            "text/plain": [
              "<IPython.core.display.HTML object>"
            ]
          },
          "metadata": {},
          "output_type": "display_data"
        },
        {
          "data": {
            "text/html": [
              "Tracking run with wandb version 0.14.2"
            ],
            "text/plain": [
              "<IPython.core.display.HTML object>"
            ]
          },
          "metadata": {},
          "output_type": "display_data"
        },
        {
          "data": {
            "text/html": [
              "Run data is saved locally in <code>/content/wandb/run-20230415_152123-i350jvop</code>"
            ],
            "text/plain": [
              "<IPython.core.display.HTML object>"
            ]
          },
          "metadata": {},
          "output_type": "display_data"
        },
        {
          "data": {
            "text/html": [
              "Syncing run <strong><a href='https://wandb.ai/avogadro/Deep%20learning%20for%20option%20pricing%20-%20rolling%20windows/runs/i350jvop' target=\"_blank\">playful-glade-237</a></strong> to <a href='https://wandb.ai/avogadro/Deep%20learning%20for%20option%20pricing%20-%20rolling%20windows' target=\"_blank\">Weights & Biases</a> (<a href='https://wandb.me/run' target=\"_blank\">docs</a>)<br/>"
            ],
            "text/plain": [
              "<IPython.core.display.HTML object>"
            ]
          },
          "metadata": {},
          "output_type": "display_data"
        },
        {
          "data": {
            "text/html": [
              " View project at <a href='https://wandb.ai/avogadro/Deep%20learning%20for%20option%20pricing%20-%20rolling%20windows' target=\"_blank\">https://wandb.ai/avogadro/Deep%20learning%20for%20option%20pricing%20-%20rolling%20windows</a>"
            ],
            "text/plain": [
              "<IPython.core.display.HTML object>"
            ]
          },
          "metadata": {},
          "output_type": "display_data"
        },
        {
          "data": {
            "text/html": [
              " View run at <a href='https://wandb.ai/avogadro/Deep%20learning%20for%20option%20pricing%20-%20rolling%20windows/runs/i350jvop' target=\"_blank\">https://wandb.ai/avogadro/Deep%20learning%20for%20option%20pricing%20-%20rolling%20windows/runs/i350jvop</a>"
            ],
            "text/plain": [
              "<IPython.core.display.HTML object>"
            ]
          },
          "metadata": {},
          "output_type": "display_data"
        },
        {
          "metadata": {
            "tags": null
          },
          "name": "stdout",
          "output_type": "stream",
          "text": [
            "Train shape: (172963, 10, 1), (172963, 10, 1)\n",
            "Val shape: (11980, 10, 1), (11980, 10, 1)\n",
            "Epoch 1/1000\n",
            "43/43 [==============================] - 35s 280ms/step - loss: 38.2921 - val_loss: 30.5891\n",
            "Epoch 2/1000\n",
            "43/43 [==============================] - 10s 115ms/step - loss: 40.2727 - val_loss: 30.0639\n",
            "Epoch 3/1000\n",
            "43/43 [==============================] - 10s 113ms/step - loss: 41.9062 - val_loss: 31.2564\n",
            "Epoch 4/1000\n",
            "43/43 [==============================] - 12s 158ms/step - loss: 38.2407 - val_loss: 28.6888\n",
            "Epoch 5/1000\n",
            "43/43 [==============================] - 10s 109ms/step - loss: 38.2493 - val_loss: 26.0664\n",
            "Epoch 6/1000\n",
            "43/43 [==============================] - 9s 105ms/step - loss: 41.7248 - val_loss: 27.2050\n",
            "Epoch 7/1000\n",
            "43/43 [==============================] - 10s 106ms/step - loss: 48.3145 - val_loss: 27.7039\n",
            "Epoch 8/1000\n",
            "43/43 [==============================] - 9s 108ms/step - loss: 37.3262 - val_loss: 29.7122\n",
            "Epoch 9/1000\n",
            "43/43 [==============================] - 9s 105ms/step - loss: 38.3569 - val_loss: 29.5796\n",
            "Epoch 10/1000\n",
            "43/43 [==============================] - 10s 105ms/step - loss: 32.4168 - val_loss: 29.3146\n",
            "Epoch 11/1000\n",
            "43/43 [==============================] - 9s 106ms/step - loss: 40.9185 - val_loss: 31.2002\n",
            "Epoch 12/1000\n",
            "43/43 [==============================] - 9s 105ms/step - loss: 36.3949 - val_loss: 28.5698\n",
            "Epoch 13/1000\n",
            "43/43 [==============================] - 10s 108ms/step - loss: 36.4915 - val_loss: 29.3075\n",
            "Epoch 14/1000\n",
            "43/43 [==============================] - 10s 104ms/step - loss: 34.2552 - val_loss: 26.4254\n",
            "Epoch 15/1000\n",
            "43/43 [==============================] - 10s 107ms/step - loss: 39.6603 - val_loss: 28.5300\n",
            "Epoch 16/1000\n",
            "43/43 [==============================] - 10s 107ms/step - loss: 32.6900 - val_loss: 29.6745\n",
            "Epoch 17/1000\n",
            "43/43 [==============================] - 10s 106ms/step - loss: 36.7791 - val_loss: 27.2502\n",
            "Epoch 18/1000\n",
            "43/43 [==============================] - 10s 106ms/step - loss: 30.9812 - val_loss: 26.8615\n",
            "Epoch 19/1000\n",
            "43/43 [==============================] - 10s 108ms/step - loss: 35.9944 - val_loss: 27.3318\n",
            "Epoch 20/1000\n",
            "43/43 [==============================] - 10s 106ms/step - loss: 41.7702 - val_loss: 27.7473\n",
            "Epoch 21/1000\n",
            "43/43 [==============================] - 10s 107ms/step - loss: 44.0888 - val_loss: 28.0751\n",
            "Epoch 22/1000\n",
            "43/43 [==============================] - 10s 113ms/step - loss: 31.8058 - val_loss: 28.2163\n",
            "Epoch 23/1000\n",
            "43/43 [==============================] - 10s 113ms/step - loss: 33.4338 - val_loss: 28.2791\n",
            "Epoch 24/1000\n",
            "43/43 [==============================] - 10s 114ms/step - loss: 33.2511 - val_loss: 26.9755\n",
            "Epoch 25/1000\n",
            "43/43 [==============================] - 10s 113ms/step - loss: 29.2430 - val_loss: 27.3141\n"
          ]
        },
        {
          "data": {
            "text/html": [
              "Waiting for W&B process to finish... <strong style=\"color:green\">(success).</strong>"
            ],
            "text/plain": [
              "<IPython.core.display.HTML object>"
            ]
          },
          "metadata": {},
          "output_type": "display_data"
        },
        {
          "data": {
            "application/vnd.jupyter.widget-view+json": {
              "model_id": "0defdf9bedd543968f64a8d09f97b540",
              "version_major": 2,
              "version_minor": 0
            },
            "text/plain": [
              "VBox(children=(Label(value='0.006 MB of 0.006 MB uploaded (0.000 MB deduped)\\r'), FloatProgress(value=1.0, max…"
            ]
          },
          "metadata": {},
          "output_type": "display_data"
        },
        {
          "data": {
            "text/html": [
              "<style>\n",
              "    table.wandb td:nth-child(1) { padding: 0 10px; text-align: left ; width: auto;} td:nth-child(2) {text-align: left ; width: 100%}\n",
              "    .wandb-row { display: flex; flex-direction: row; flex-wrap: wrap; justify-content: flex-start; width: 100% }\n",
              "    .wandb-col { display: flex; flex-direction: column; flex-basis: 100%; flex: 1; padding: 10px; }\n",
              "    </style>\n",
              "<div class=\"wandb-row\"><div class=\"wandb-col\"><h3>Run history:</h3><br/><table class=\"wandb\"><tr><td>epoch</td><td>▁▁▂▂▂▂▃▃▃▄▄▄▅▅▅▅▆▆▆▇▇▇▇██</td></tr><tr><td>loss</td><td>▄▅▆▄▄▆█▄▄▂▅▄▄▃▅▂▄▂▃▆▆▂▃▂▁</td></tr><tr><td>val_loss</td><td>▇▆█▅▁▃▃▆▆▅█▄▅▁▄▆▃▂▃▃▄▄▄▂▃</td></tr></table><br/></div><div class=\"wandb-col\"><h3>Run summary:</h3><br/><table class=\"wandb\"><tr><td>best_epoch</td><td>4</td></tr><tr><td>best_val_loss</td><td>26.06639</td></tr><tr><td>epoch</td><td>24</td></tr><tr><td>loss</td><td>29.24304</td></tr><tr><td>val_loss</td><td>27.31411</td></tr></table><br/></div></div>"
            ],
            "text/plain": [
              "<IPython.core.display.HTML object>"
            ]
          },
          "metadata": {},
          "output_type": "display_data"
        },
        {
          "data": {
            "text/html": [
              " View run <strong style=\"color:#cdcd00\">playful-glade-237</strong> at: <a href='https://wandb.ai/avogadro/Deep%20learning%20for%20option%20pricing%20-%20rolling%20windows/runs/i350jvop' target=\"_blank\">https://wandb.ai/avogadro/Deep%20learning%20for%20option%20pricing%20-%20rolling%20windows/runs/i350jvop</a><br/>Synced 5 W&B file(s), 1 media file(s), 0 artifact file(s) and 0 other file(s)"
            ],
            "text/plain": [
              "<IPython.core.display.HTML object>"
            ]
          },
          "metadata": {},
          "output_type": "display_data"
        },
        {
          "data": {
            "text/html": [
              "Find logs at: <code>./wandb/run-20230415_152123-i350jvop/logs</code>"
            ],
            "text/plain": [
              "<IPython.core.display.HTML object>"
            ]
          },
          "metadata": {},
          "output_type": "display_data"
        },
        {
          "metadata": {
            "tags": null
          },
          "name": "stdout",
          "output_type": "stream",
          "text": [
            "--- Predictions for test_start 2015-02-11 ---\n",
            "MSE: 497.70966\n",
            "RMSE: 22.309406\n",
            "-------------------------------------------\n",
            "Train shape: (172749, 10, 1), (172749, 4)\n",
            "Val shape: (14949, 10, 1), (14949, 4)\n",
            "Test shape: (32907, 10, 1), (32907, 4)\n",
            "-------------------------------------------\n",
            "Checkpoint_path =  /content/drive/MyDrive/01. Masters Thesis - Shared/05. Checkpoints/04-15_14-59/2014-11-18/\n",
            "Previous checkpoint_path =  /content/drive/MyDrive/01. Masters Thesis - Shared/05. Checkpoints/04-15_14-59/2014-11-04/\n",
            "-------------------------------------------\n"
          ]
        },
        {
          "data": {
            "text/html": [
              "Changes to your `wandb` environment variables will be ignored because your `wandb` session has already started. For more information on how to modify your settings with `wandb.init()` arguments, please refer to <a href='https://wandb.me/wandb-init' target=\"_blank\">the W&B docs</a>."
            ],
            "text/plain": [
              "<IPython.core.display.HTML object>"
            ]
          },
          "metadata": {},
          "output_type": "display_data"
        },
        {
          "data": {
            "text/html": [
              "Tracking run with wandb version 0.14.2"
            ],
            "text/plain": [
              "<IPython.core.display.HTML object>"
            ]
          },
          "metadata": {},
          "output_type": "display_data"
        },
        {
          "data": {
            "text/html": [
              "Run data is saved locally in <code>/content/wandb/run-20230415_152636-dixvc7cw</code>"
            ],
            "text/plain": [
              "<IPython.core.display.HTML object>"
            ]
          },
          "metadata": {},
          "output_type": "display_data"
        },
        {
          "data": {
            "text/html": [
              "Syncing run <strong><a href='https://wandb.ai/avogadro/Deep%20learning%20for%20option%20pricing%20-%20rolling%20windows/runs/dixvc7cw' target=\"_blank\">bright-frog-238</a></strong> to <a href='https://wandb.ai/avogadro/Deep%20learning%20for%20option%20pricing%20-%20rolling%20windows' target=\"_blank\">Weights & Biases</a> (<a href='https://wandb.me/run' target=\"_blank\">docs</a>)<br/>"
            ],
            "text/plain": [
              "<IPython.core.display.HTML object>"
            ]
          },
          "metadata": {},
          "output_type": "display_data"
        },
        {
          "data": {
            "text/html": [
              " View project at <a href='https://wandb.ai/avogadro/Deep%20learning%20for%20option%20pricing%20-%20rolling%20windows' target=\"_blank\">https://wandb.ai/avogadro/Deep%20learning%20for%20option%20pricing%20-%20rolling%20windows</a>"
            ],
            "text/plain": [
              "<IPython.core.display.HTML object>"
            ]
          },
          "metadata": {},
          "output_type": "display_data"
        },
        {
          "data": {
            "text/html": [
              " View run at <a href='https://wandb.ai/avogadro/Deep%20learning%20for%20option%20pricing%20-%20rolling%20windows/runs/dixvc7cw' target=\"_blank\">https://wandb.ai/avogadro/Deep%20learning%20for%20option%20pricing%20-%20rolling%20windows/runs/dixvc7cw</a>"
            ],
            "text/plain": [
              "<IPython.core.display.HTML object>"
            ]
          },
          "metadata": {},
          "output_type": "display_data"
        },
        {
          "metadata": {
            "tags": null
          },
          "name": "stdout",
          "output_type": "stream",
          "text": [
            "Train shape: (172963, 10, 1), (172963, 10, 1)\n",
            "Val shape: (11980, 10, 1), (11980, 10, 1)\n",
            "Epoch 1/1000\n",
            "43/43 [==============================] - 36s 274ms/step - loss: 31.6365 - val_loss: 28.1635\n",
            "Epoch 2/1000\n",
            "43/43 [==============================] - 10s 105ms/step - loss: 32.9428 - val_loss: 34.4918\n",
            "Epoch 3/1000\n",
            "43/43 [==============================] - 10s 105ms/step - loss: 36.8697 - val_loss: 30.9200\n",
            "Epoch 4/1000\n",
            "43/43 [==============================] - 10s 106ms/step - loss: 32.2366 - val_loss: 29.4026\n",
            "Epoch 5/1000\n",
            "43/43 [==============================] - 10s 108ms/step - loss: 39.8920 - val_loss: 30.6359\n",
            "Epoch 6/1000\n",
            "43/43 [==============================] - 10s 105ms/step - loss: 42.2519 - val_loss: 30.0585\n",
            "Epoch 7/1000\n",
            "43/43 [==============================] - 10s 107ms/step - loss: 34.3446 - val_loss: 28.5589\n",
            "Epoch 8/1000\n",
            "43/43 [==============================] - 9s 106ms/step - loss: 38.6673 - val_loss: 28.1695\n",
            "Epoch 9/1000\n",
            "43/43 [==============================] - 10s 130ms/step - loss: 33.7389 - val_loss: 27.8227\n",
            "Epoch 10/1000\n",
            "43/43 [==============================] - 9s 107ms/step - loss: 36.5719 - val_loss: 28.1821\n",
            "Epoch 11/1000\n",
            "43/43 [==============================] - 11s 134ms/step - loss: 37.5837 - val_loss: 27.3329\n",
            "Epoch 12/1000\n",
            "43/43 [==============================] - 10s 108ms/step - loss: 35.4648 - val_loss: 27.5581\n",
            "Epoch 13/1000\n",
            "43/43 [==============================] - 11s 132ms/step - loss: 32.4600 - val_loss: 26.7326\n",
            "Epoch 14/1000\n",
            "43/43 [==============================] - 10s 107ms/step - loss: 46.2595 - val_loss: 28.3447\n",
            "Epoch 15/1000\n",
            "43/43 [==============================] - 10s 105ms/step - loss: 37.5438 - val_loss: 28.7461\n",
            "Epoch 16/1000\n",
            "43/43 [==============================] - 10s 108ms/step - loss: 44.3708 - val_loss: 27.9606\n",
            "Epoch 17/1000\n",
            "43/43 [==============================] - 10s 108ms/step - loss: 33.9329 - val_loss: 27.8543\n",
            "Epoch 18/1000\n",
            "43/43 [==============================] - 10s 111ms/step - loss: 35.4808 - val_loss: 27.0062\n",
            "Epoch 19/1000\n",
            "43/43 [==============================] - 10s 107ms/step - loss: 30.4025 - val_loss: 26.9028\n",
            "Epoch 20/1000\n",
            "43/43 [==============================] - 11s 133ms/step - loss: 38.7570 - val_loss: 26.0772\n",
            "Epoch 21/1000\n",
            "43/43 [==============================] - 10s 111ms/step - loss: 44.1406 - val_loss: 27.2258\n",
            "Epoch 22/1000\n",
            "43/43 [==============================] - 10s 115ms/step - loss: 30.0408 - val_loss: 27.6904\n",
            "Epoch 23/1000\n",
            "43/43 [==============================] - 10s 113ms/step - loss: 32.7905 - val_loss: 27.3754\n",
            "Epoch 24/1000\n",
            "43/43 [==============================] - 11s 135ms/step - loss: 42.2576 - val_loss: 25.9376\n",
            "Epoch 25/1000\n",
            "43/43 [==============================] - 11s 118ms/step - loss: 35.2529 - val_loss: 25.5743\n",
            "Epoch 26/1000\n",
            "43/43 [==============================] - 10s 109ms/step - loss: 38.6157 - val_loss: 25.7405\n",
            "Epoch 27/1000\n",
            "43/43 [==============================] - 10s 109ms/step - loss: 42.2013 - val_loss: 26.1143\n",
            "Epoch 28/1000\n",
            "43/43 [==============================] - 10s 107ms/step - loss: 41.7241 - val_loss: 26.5673\n",
            "Epoch 29/1000\n",
            "43/43 [==============================] - 10s 107ms/step - loss: 37.0826 - val_loss: 25.8105\n",
            "Epoch 30/1000\n",
            "43/43 [==============================] - 10s 108ms/step - loss: 49.5782 - val_loss: 26.9303\n",
            "Epoch 31/1000\n",
            "43/43 [==============================] - 10s 110ms/step - loss: 38.3153 - val_loss: 26.2317\n",
            "Epoch 32/1000\n",
            "43/43 [==============================] - 10s 106ms/step - loss: 34.1317 - val_loss: 26.6343\n",
            "Epoch 33/1000\n",
            "43/43 [==============================] - 10s 106ms/step - loss: 38.8783 - val_loss: 26.1632\n",
            "Epoch 34/1000\n",
            "43/43 [==============================] - 10s 107ms/step - loss: 38.4432 - val_loss: 26.1513\n",
            "Epoch 35/1000\n",
            "43/43 [==============================] - 10s 107ms/step - loss: 44.6394 - val_loss: 26.0573\n",
            "Epoch 36/1000\n",
            "43/43 [==============================] - 10s 107ms/step - loss: 37.6825 - val_loss: 26.0977\n",
            "Epoch 37/1000\n",
            "43/43 [==============================] - 10s 111ms/step - loss: 34.7904 - val_loss: 27.1822\n",
            "Epoch 38/1000\n",
            "43/43 [==============================] - 10s 112ms/step - loss: 30.5322 - val_loss: 27.8185\n",
            "Epoch 39/1000\n",
            "43/43 [==============================] - 10s 114ms/step - loss: 36.1274 - val_loss: 26.5292\n",
            "Epoch 40/1000\n",
            "43/43 [==============================] - 10s 109ms/step - loss: 40.3405 - val_loss: 26.1260\n",
            "Epoch 41/1000\n",
            "43/43 [==============================] - 10s 106ms/step - loss: 33.2387 - val_loss: 26.5664\n",
            "Epoch 42/1000\n",
            "43/43 [==============================] - 10s 109ms/step - loss: 36.2522 - val_loss: 25.7088\n",
            "Epoch 43/1000\n",
            "43/43 [==============================] - 10s 108ms/step - loss: 33.9493 - val_loss: 26.2586\n",
            "Epoch 44/1000\n",
            "43/43 [==============================] - 10s 114ms/step - loss: 36.6381 - val_loss: 26.2113\n",
            "Epoch 45/1000\n",
            "43/43 [==============================] - 10s 110ms/step - loss: 33.7568 - val_loss: 26.9324\n"
          ]
        },
        {
          "data": {
            "text/html": [
              "Waiting for W&B process to finish... <strong style=\"color:green\">(success).</strong>"
            ],
            "text/plain": [
              "<IPython.core.display.HTML object>"
            ]
          },
          "metadata": {},
          "output_type": "display_data"
        },
        {
          "data": {
            "application/vnd.jupyter.widget-view+json": {
              "model_id": "360154f226034f19b9064411a3974829",
              "version_major": 2,
              "version_minor": 0
            },
            "text/plain": [
              "VBox(children=(Label(value='0.019 MB of 0.019 MB uploaded (0.000 MB deduped)\\r'), FloatProgress(value=1.0, max…"
            ]
          },
          "metadata": {},
          "output_type": "display_data"
        },
        {
          "data": {
            "text/html": [
              "<style>\n",
              "    table.wandb td:nth-child(1) { padding: 0 10px; text-align: left ; width: auto;} td:nth-child(2) {text-align: left ; width: 100%}\n",
              "    .wandb-row { display: flex; flex-direction: row; flex-wrap: wrap; justify-content: flex-start; width: 100% }\n",
              "    .wandb-col { display: flex; flex-direction: column; flex-basis: 100%; flex: 1; padding: 10px; }\n",
              "    </style>\n",
              "<div class=\"wandb-row\"><div class=\"wandb-col\"><h3>Run history:</h3><br/><table class=\"wandb\"><tr><td>epoch</td><td>▁▁▁▁▂▂▂▂▂▃▃▃▃▃▃▄▄▄▄▄▅▅▅▅▅▅▆▆▆▆▆▆▇▇▇▇▇███</td></tr><tr><td>loss</td><td>▂▂▃▂▅▅▃▄▃▄▃▂▇▄▆▂▁▄▆▁▂▅▃▄▅▄█▄▂▄▄▆▃▁▃▅▂▃▂▂</td></tr><tr><td>val_loss</td><td>▃█▅▄▅▅▃▃▃▂▃▂▃▃▃▃▂▁▂▃▂▁▁▁▂▁▂▂▂▁▁▁▂▃▂▁▂▁▂▂</td></tr></table><br/></div><div class=\"wandb-col\"><h3>Run summary:</h3><br/><table class=\"wandb\"><tr><td>best_epoch</td><td>24</td></tr><tr><td>best_val_loss</td><td>25.57425</td></tr><tr><td>epoch</td><td>44</td></tr><tr><td>loss</td><td>33.75679</td></tr><tr><td>val_loss</td><td>26.93236</td></tr></table><br/></div></div>"
            ],
            "text/plain": [
              "<IPython.core.display.HTML object>"
            ]
          },
          "metadata": {},
          "output_type": "display_data"
        },
        {
          "data": {
            "text/html": [
              " View run <strong style=\"color:#cdcd00\">bright-frog-238</strong> at: <a href='https://wandb.ai/avogadro/Deep%20learning%20for%20option%20pricing%20-%20rolling%20windows/runs/dixvc7cw' target=\"_blank\">https://wandb.ai/avogadro/Deep%20learning%20for%20option%20pricing%20-%20rolling%20windows/runs/dixvc7cw</a><br/>Synced 5 W&B file(s), 1 media file(s), 0 artifact file(s) and 0 other file(s)"
            ],
            "text/plain": [
              "<IPython.core.display.HTML object>"
            ]
          },
          "metadata": {},
          "output_type": "display_data"
        },
        {
          "data": {
            "text/html": [
              "Find logs at: <code>./wandb/run-20230415_152636-dixvc7cw/logs</code>"
            ],
            "text/plain": [
              "<IPython.core.display.HTML object>"
            ]
          },
          "metadata": {},
          "output_type": "display_data"
        },
        {
          "metadata": {
            "tags": null
          },
          "name": "stdout",
          "output_type": "stream",
          "text": [
            "--- Predictions for test_start 2015-02-25 ---\n",
            "MSE: 370.88254\n",
            "RMSE: 19.25831\n",
            "-------------------------------------------\n",
            "Train shape: (171868, 10, 1), (171868, 4)\n",
            "Val shape: (16649, 10, 1), (16649, 4)\n",
            "Test shape: (34131, 10, 1), (34131, 4)\n",
            "-------------------------------------------\n",
            "Checkpoint_path =  /content/drive/MyDrive/01. Masters Thesis - Shared/05. Checkpoints/04-15_14-59/2014-12-02/\n",
            "Previous checkpoint_path =  /content/drive/MyDrive/01. Masters Thesis - Shared/05. Checkpoints/04-15_14-59/2014-11-18/\n",
            "-------------------------------------------\n"
          ]
        },
        {
          "data": {
            "text/html": [
              "Changes to your `wandb` environment variables will be ignored because your `wandb` session has already started. For more information on how to modify your settings with `wandb.init()` arguments, please refer to <a href='https://wandb.me/wandb-init' target=\"_blank\">the W&B docs</a>."
            ],
            "text/plain": [
              "<IPython.core.display.HTML object>"
            ]
          },
          "metadata": {},
          "output_type": "display_data"
        },
        {
          "data": {
            "text/html": [
              "Tracking run with wandb version 0.14.2"
            ],
            "text/plain": [
              "<IPython.core.display.HTML object>"
            ]
          },
          "metadata": {},
          "output_type": "display_data"
        },
        {
          "data": {
            "text/html": [
              "Run data is saved locally in <code>/content/wandb/run-20230415_153507-rnpbgn2u</code>"
            ],
            "text/plain": [
              "<IPython.core.display.HTML object>"
            ]
          },
          "metadata": {},
          "output_type": "display_data"
        },
        {
          "data": {
            "text/html": [
              "Syncing run <strong><a href='https://wandb.ai/avogadro/Deep%20learning%20for%20option%20pricing%20-%20rolling%20windows/runs/rnpbgn2u' target=\"_blank\">comfy-valley-239</a></strong> to <a href='https://wandb.ai/avogadro/Deep%20learning%20for%20option%20pricing%20-%20rolling%20windows' target=\"_blank\">Weights & Biases</a> (<a href='https://wandb.me/run' target=\"_blank\">docs</a>)<br/>"
            ],
            "text/plain": [
              "<IPython.core.display.HTML object>"
            ]
          },
          "metadata": {},
          "output_type": "display_data"
        },
        {
          "data": {
            "text/html": [
              " View project at <a href='https://wandb.ai/avogadro/Deep%20learning%20for%20option%20pricing%20-%20rolling%20windows' target=\"_blank\">https://wandb.ai/avogadro/Deep%20learning%20for%20option%20pricing%20-%20rolling%20windows</a>"
            ],
            "text/plain": [
              "<IPython.core.display.HTML object>"
            ]
          },
          "metadata": {},
          "output_type": "display_data"
        },
        {
          "data": {
            "text/html": [
              " View run at <a href='https://wandb.ai/avogadro/Deep%20learning%20for%20option%20pricing%20-%20rolling%20windows/runs/rnpbgn2u' target=\"_blank\">https://wandb.ai/avogadro/Deep%20learning%20for%20option%20pricing%20-%20rolling%20windows/runs/rnpbgn2u</a>"
            ],
            "text/plain": [
              "<IPython.core.display.HTML object>"
            ]
          },
          "metadata": {},
          "output_type": "display_data"
        },
        {
          "metadata": {
            "tags": null
          },
          "name": "stdout",
          "output_type": "stream",
          "text": [
            "Train shape: (172963, 10, 1), (172963, 10, 1)\n",
            "Val shape: (11980, 10, 1), (11980, 10, 1)\n",
            "Epoch 1/1000\n",
            "43/43 [==============================] - 36s 277ms/step - loss: 31.9981 - val_loss: 26.8482\n",
            "Epoch 2/1000\n",
            "43/43 [==============================] - 10s 107ms/step - loss: 39.8528 - val_loss: 27.3260\n",
            "Epoch 3/1000\n",
            "43/43 [==============================] - 10s 108ms/step - loss: 33.0233 - val_loss: 28.0274\n",
            "Epoch 4/1000\n",
            "43/43 [==============================] - 11s 131ms/step - loss: 36.5323 - val_loss: 26.5210\n",
            "Epoch 5/1000\n",
            "43/43 [==============================] - 10s 112ms/step - loss: 40.6017 - val_loss: 25.9104\n",
            "Epoch 6/1000\n",
            "43/43 [==============================] - 10s 112ms/step - loss: 41.9549 - val_loss: 26.9547\n",
            "Epoch 7/1000\n",
            "43/43 [==============================] - 10s 113ms/step - loss: 38.7528 - val_loss: 27.2449\n",
            "Epoch 8/1000\n",
            "43/43 [==============================] - 10s 114ms/step - loss: 48.1113 - val_loss: 27.2794\n",
            "Epoch 9/1000\n",
            "43/43 [==============================] - 10s 112ms/step - loss: 40.9090 - val_loss: 27.1317\n",
            "Epoch 10/1000\n",
            "43/43 [==============================] - 10s 107ms/step - loss: 42.7502 - val_loss: 28.6093\n",
            "Epoch 11/1000\n",
            "43/43 [==============================] - 10s 107ms/step - loss: 44.6900 - val_loss: 28.8169\n",
            "Epoch 12/1000\n",
            "43/43 [==============================] - 10s 107ms/step - loss: 40.5051 - val_loss: 27.9453\n",
            "Epoch 13/1000\n",
            "43/43 [==============================] - 10s 109ms/step - loss: 36.4199 - val_loss: 27.2086\n",
            "Epoch 14/1000\n",
            "43/43 [==============================] - 10s 108ms/step - loss: 39.9143 - val_loss: 28.1057\n",
            "Epoch 15/1000\n",
            "43/43 [==============================] - 10s 109ms/step - loss: 34.0350 - val_loss: 28.1939\n",
            "Epoch 16/1000\n",
            "43/43 [==============================] - 10s 108ms/step - loss: 46.8429 - val_loss: 28.1737\n",
            "Epoch 17/1000\n",
            "43/43 [==============================] - 10s 113ms/step - loss: 36.0618 - val_loss: 27.7801\n",
            "Epoch 18/1000\n",
            "43/43 [==============================] - 10s 107ms/step - loss: 37.5688 - val_loss: 27.3016\n",
            "Epoch 19/1000\n",
            "43/43 [==============================] - 10s 107ms/step - loss: 38.7659 - val_loss: 26.5935\n",
            "Epoch 20/1000\n",
            "43/43 [==============================] - 10s 108ms/step - loss: 38.0612 - val_loss: 26.8477\n",
            "Epoch 21/1000\n",
            "43/43 [==============================] - 10s 108ms/step - loss: 34.5478 - val_loss: 27.0329\n"
          ]
        },
        {
          "data": {
            "text/html": [
              "Waiting for W&B process to finish... <strong style=\"color:green\">(success).</strong>"
            ],
            "text/plain": [
              "<IPython.core.display.HTML object>"
            ]
          },
          "metadata": {},
          "output_type": "display_data"
        },
        {
          "data": {
            "application/vnd.jupyter.widget-view+json": {
              "model_id": "bfe72c09d6944b99be457de2ca4941e1",
              "version_major": 2,
              "version_minor": 0
            },
            "text/plain": [
              "VBox(children=(Label(value='0.017 MB of 0.017 MB uploaded (0.000 MB deduped)\\r'), FloatProgress(value=1.0, max…"
            ]
          },
          "metadata": {},
          "output_type": "display_data"
        },
        {
          "data": {
            "text/html": [
              "<style>\n",
              "    table.wandb td:nth-child(1) { padding: 0 10px; text-align: left ; width: auto;} td:nth-child(2) {text-align: left ; width: 100%}\n",
              "    .wandb-row { display: flex; flex-direction: row; flex-wrap: wrap; justify-content: flex-start; width: 100% }\n",
              "    .wandb-col { display: flex; flex-direction: column; flex-basis: 100%; flex: 1; padding: 10px; }\n",
              "    </style>\n",
              "<div class=\"wandb-row\"><div class=\"wandb-col\"><h3>Run history:</h3><br/><table class=\"wandb\"><tr><td>epoch</td><td>▁▁▂▂▂▃▃▃▄▄▅▅▅▆▆▆▇▇▇██</td></tr><tr><td>loss</td><td>▁▄▁▃▅▅▄█▅▆▇▅▃▄▂▇▃▃▄▄▂</td></tr><tr><td>val_loss</td><td>▃▄▆▂▁▄▄▄▄▇█▆▄▆▆▆▆▄▃▃▄</td></tr></table><br/></div><div class=\"wandb-col\"><h3>Run summary:</h3><br/><table class=\"wandb\"><tr><td>best_epoch</td><td>4</td></tr><tr><td>best_val_loss</td><td>25.91036</td></tr><tr><td>epoch</td><td>20</td></tr><tr><td>loss</td><td>34.54783</td></tr><tr><td>val_loss</td><td>27.03291</td></tr></table><br/></div></div>"
            ],
            "text/plain": [
              "<IPython.core.display.HTML object>"
            ]
          },
          "metadata": {},
          "output_type": "display_data"
        },
        {
          "data": {
            "text/html": [
              " View run <strong style=\"color:#cdcd00\">comfy-valley-239</strong> at: <a href='https://wandb.ai/avogadro/Deep%20learning%20for%20option%20pricing%20-%20rolling%20windows/runs/rnpbgn2u' target=\"_blank\">https://wandb.ai/avogadro/Deep%20learning%20for%20option%20pricing%20-%20rolling%20windows/runs/rnpbgn2u</a><br/>Synced 5 W&B file(s), 1 media file(s), 0 artifact file(s) and 0 other file(s)"
            ],
            "text/plain": [
              "<IPython.core.display.HTML object>"
            ]
          },
          "metadata": {},
          "output_type": "display_data"
        },
        {
          "data": {
            "text/html": [
              "Find logs at: <code>./wandb/run-20230415_153507-rnpbgn2u/logs</code>"
            ],
            "text/plain": [
              "<IPython.core.display.HTML object>"
            ]
          },
          "metadata": {},
          "output_type": "display_data"
        },
        {
          "metadata": {
            "tags": null
          },
          "name": "stdout",
          "output_type": "stream",
          "text": [
            "--- Predictions for test_start 2015-03-09 ---\n",
            "MSE: 478.39026\n",
            "RMSE: 21.872133\n",
            "-------------------------------------------\n",
            "Train shape: (180011, 10, 1), (180011, 4)\n",
            "Val shape: (16895, 10, 1), (16895, 4)\n",
            "Test shape: (30819, 10, 1), (30819, 4)\n",
            "-------------------------------------------\n",
            "Checkpoint_path =  /content/drive/MyDrive/01. Masters Thesis - Shared/05. Checkpoints/04-15_14-59/2014-12-16/\n",
            "Previous checkpoint_path =  /content/drive/MyDrive/01. Masters Thesis - Shared/05. Checkpoints/04-15_14-59/2014-12-02/\n",
            "-------------------------------------------\n"
          ]
        },
        {
          "data": {
            "text/html": [
              "Changes to your `wandb` environment variables will be ignored because your `wandb` session has already started. For more information on how to modify your settings with `wandb.init()` arguments, please refer to <a href='https://wandb.me/wandb-init' target=\"_blank\">the W&B docs</a>."
            ],
            "text/plain": [
              "<IPython.core.display.HTML object>"
            ]
          },
          "metadata": {},
          "output_type": "display_data"
        },
        {
          "data": {
            "text/html": [
              "Tracking run with wandb version 0.14.2"
            ],
            "text/plain": [
              "<IPython.core.display.HTML object>"
            ]
          },
          "metadata": {},
          "output_type": "display_data"
        },
        {
          "data": {
            "text/html": [
              "Run data is saved locally in <code>/content/wandb/run-20230415_153938-vi461lze</code>"
            ],
            "text/plain": [
              "<IPython.core.display.HTML object>"
            ]
          },
          "metadata": {},
          "output_type": "display_data"
        },
        {
          "data": {
            "text/html": [
              "Syncing run <strong><a href='https://wandb.ai/avogadro/Deep%20learning%20for%20option%20pricing%20-%20rolling%20windows/runs/vi461lze' target=\"_blank\">pleasant-silence-240</a></strong> to <a href='https://wandb.ai/avogadro/Deep%20learning%20for%20option%20pricing%20-%20rolling%20windows' target=\"_blank\">Weights & Biases</a> (<a href='https://wandb.me/run' target=\"_blank\">docs</a>)<br/>"
            ],
            "text/plain": [
              "<IPython.core.display.HTML object>"
            ]
          },
          "metadata": {},
          "output_type": "display_data"
        },
        {
          "data": {
            "text/html": [
              " View project at <a href='https://wandb.ai/avogadro/Deep%20learning%20for%20option%20pricing%20-%20rolling%20windows' target=\"_blank\">https://wandb.ai/avogadro/Deep%20learning%20for%20option%20pricing%20-%20rolling%20windows</a>"
            ],
            "text/plain": [
              "<IPython.core.display.HTML object>"
            ]
          },
          "metadata": {},
          "output_type": "display_data"
        },
        {
          "data": {
            "text/html": [
              " View run at <a href='https://wandb.ai/avogadro/Deep%20learning%20for%20option%20pricing%20-%20rolling%20windows/runs/vi461lze' target=\"_blank\">https://wandb.ai/avogadro/Deep%20learning%20for%20option%20pricing%20-%20rolling%20windows/runs/vi461lze</a>"
            ],
            "text/plain": [
              "<IPython.core.display.HTML object>"
            ]
          },
          "metadata": {},
          "output_type": "display_data"
        },
        {
          "metadata": {
            "tags": null
          },
          "name": "stdout",
          "output_type": "stream",
          "text": [
            "Train shape: (172963, 10, 1), (172963, 10, 1)\n",
            "Val shape: (11980, 10, 1), (11980, 10, 1)\n",
            "Epoch 1/1000\n",
            "43/43 [==============================] - 36s 277ms/step - loss: 37.8165 - val_loss: 25.9180\n",
            "Epoch 2/1000\n",
            "43/43 [==============================] - 10s 112ms/step - loss: 36.7670 - val_loss: 25.5990\n",
            "Epoch 3/1000\n",
            "43/43 [==============================] - 10s 107ms/step - loss: 40.5996 - val_loss: 26.7551\n",
            "Epoch 4/1000\n",
            "43/43 [==============================] - 10s 108ms/step - loss: 39.1147 - val_loss: 27.0371\n",
            "Epoch 5/1000\n",
            "43/43 [==============================] - 10s 105ms/step - loss: 40.2939 - val_loss: 27.0181\n",
            "Epoch 6/1000\n",
            "43/43 [==============================] - 10s 107ms/step - loss: 36.9059 - val_loss: 26.0335\n",
            "Epoch 7/1000\n",
            "43/43 [==============================] - 10s 108ms/step - loss: 44.7340 - val_loss: 26.0003\n",
            "Epoch 8/1000\n",
            "43/43 [==============================] - 10s 109ms/step - loss: 35.3005 - val_loss: 25.9574\n",
            "Epoch 9/1000\n",
            "43/43 [==============================] - 10s 105ms/step - loss: 32.9701 - val_loss: 27.7588\n",
            "Epoch 10/1000\n",
            "43/43 [==============================] - 10s 108ms/step - loss: 37.5207 - val_loss: 27.6573\n",
            "Epoch 11/1000\n",
            "43/43 [==============================] - 10s 109ms/step - loss: 43.4237 - val_loss: 27.8871\n",
            "Epoch 12/1000\n",
            "43/43 [==============================] - 10s 108ms/step - loss: 35.0236 - val_loss: 28.2727\n",
            "Epoch 13/1000\n",
            "43/43 [==============================] - 10s 107ms/step - loss: 33.9666 - val_loss: 26.9873\n",
            "Epoch 14/1000\n",
            "43/43 [==============================] - 10s 107ms/step - loss: 39.8543 - val_loss: 26.9673\n",
            "Epoch 15/1000\n",
            "43/43 [==============================] - 10s 107ms/step - loss: 41.3752 - val_loss: 26.7893\n",
            "Epoch 16/1000\n",
            "43/43 [==============================] - 10s 108ms/step - loss: 29.9569 - val_loss: 27.0889\n",
            "Epoch 17/1000\n",
            "43/43 [==============================] - 10s 107ms/step - loss: 43.9543 - val_loss: 26.9829\n",
            "Epoch 18/1000\n",
            "43/43 [==============================] - 10s 109ms/step - loss: 45.9004 - val_loss: 26.7630\n",
            "Epoch 19/1000\n",
            "43/43 [==============================] - 10s 111ms/step - loss: 34.0773 - val_loss: 26.1864\n",
            "Epoch 20/1000\n",
            "43/43 [==============================] - 10s 114ms/step - loss: 39.7523 - val_loss: 26.8557\n",
            "Epoch 21/1000\n",
            "43/43 [==============================] - 10s 112ms/step - loss: 33.0704 - val_loss: 26.8861\n"
          ]
        },
        {
          "data": {
            "text/html": [
              "Waiting for W&B process to finish... <strong style=\"color:green\">(success).</strong>"
            ],
            "text/plain": [
              "<IPython.core.display.HTML object>"
            ]
          },
          "metadata": {},
          "output_type": "display_data"
        },
        {
          "data": {
            "application/vnd.jupyter.widget-view+json": {
              "model_id": "f20e0257229f41f8aa3256f584bb383f",
              "version_major": 2,
              "version_minor": 0
            },
            "text/plain": [
              "VBox(children=(Label(value='0.006 MB of 0.006 MB uploaded (0.000 MB deduped)\\r'), FloatProgress(value=1.0, max…"
            ]
          },
          "metadata": {},
          "output_type": "display_data"
        },
        {
          "data": {
            "text/html": [
              "<style>\n",
              "    table.wandb td:nth-child(1) { padding: 0 10px; text-align: left ; width: auto;} td:nth-child(2) {text-align: left ; width: 100%}\n",
              "    .wandb-row { display: flex; flex-direction: row; flex-wrap: wrap; justify-content: flex-start; width: 100% }\n",
              "    .wandb-col { display: flex; flex-direction: column; flex-basis: 100%; flex: 1; padding: 10px; }\n",
              "    </style>\n",
              "<div class=\"wandb-row\"><div class=\"wandb-col\"><h3>Run history:</h3><br/><table class=\"wandb\"><tr><td>epoch</td><td>▁▁▂▂▂▃▃▃▄▄▅▅▅▆▆▆▇▇▇██</td></tr><tr><td>loss</td><td>▄▄▆▅▆▄▇▃▂▄▇▃▃▅▆▁▇█▃▅▂</td></tr><tr><td>val_loss</td><td>▂▁▄▅▅▂▂▂▇▆▇█▅▅▄▅▅▄▃▄▄</td></tr></table><br/></div><div class=\"wandb-col\"><h3>Run summary:</h3><br/><table class=\"wandb\"><tr><td>best_epoch</td><td>1</td></tr><tr><td>best_val_loss</td><td>25.59897</td></tr><tr><td>epoch</td><td>20</td></tr><tr><td>loss</td><td>33.07035</td></tr><tr><td>val_loss</td><td>26.88613</td></tr></table><br/></div></div>"
            ],
            "text/plain": [
              "<IPython.core.display.HTML object>"
            ]
          },
          "metadata": {},
          "output_type": "display_data"
        },
        {
          "data": {
            "text/html": [
              " View run <strong style=\"color:#cdcd00\">pleasant-silence-240</strong> at: <a href='https://wandb.ai/avogadro/Deep%20learning%20for%20option%20pricing%20-%20rolling%20windows/runs/vi461lze' target=\"_blank\">https://wandb.ai/avogadro/Deep%20learning%20for%20option%20pricing%20-%20rolling%20windows/runs/vi461lze</a><br/>Synced 5 W&B file(s), 1 media file(s), 0 artifact file(s) and 0 other file(s)"
            ],
            "text/plain": [
              "<IPython.core.display.HTML object>"
            ]
          },
          "metadata": {},
          "output_type": "display_data"
        },
        {
          "data": {
            "text/html": [
              "Find logs at: <code>./wandb/run-20230415_153938-vi461lze/logs</code>"
            ],
            "text/plain": [
              "<IPython.core.display.HTML object>"
            ]
          },
          "metadata": {},
          "output_type": "display_data"
        },
        {
          "metadata": {
            "tags": null
          },
          "name": "stdout",
          "output_type": "stream",
          "text": [
            "--- Predictions for test_start 2015-03-23 ---\n",
            "MSE: 499.8936\n",
            "RMSE: 22.3583\n",
            "-------------------------------------------\n",
            "Train shape: (188127, 10, 1), (188127, 4)\n",
            "Val shape: (13502, 10, 1), (13502, 4)\n",
            "Test shape: (33940, 10, 1), (33940, 4)\n",
            "-------------------------------------------\n",
            "Checkpoint_path =  /content/drive/MyDrive/01. Masters Thesis - Shared/05. Checkpoints/04-15_14-59/2014-12-30/\n",
            "Previous checkpoint_path =  /content/drive/MyDrive/01. Masters Thesis - Shared/05. Checkpoints/04-15_14-59/2014-12-16/\n",
            "-------------------------------------------\n"
          ]
        },
        {
          "data": {
            "text/html": [
              "Changes to your `wandb` environment variables will be ignored because your `wandb` session has already started. For more information on how to modify your settings with `wandb.init()` arguments, please refer to <a href='https://wandb.me/wandb-init' target=\"_blank\">the W&B docs</a>."
            ],
            "text/plain": [
              "<IPython.core.display.HTML object>"
            ]
          },
          "metadata": {},
          "output_type": "display_data"
        },
        {
          "data": {
            "text/html": [
              "Tracking run with wandb version 0.14.2"
            ],
            "text/plain": [
              "<IPython.core.display.HTML object>"
            ]
          },
          "metadata": {},
          "output_type": "display_data"
        },
        {
          "data": {
            "text/html": [
              "Run data is saved locally in <code>/content/wandb/run-20230415_154407-szqf2n2n</code>"
            ],
            "text/plain": [
              "<IPython.core.display.HTML object>"
            ]
          },
          "metadata": {},
          "output_type": "display_data"
        },
        {
          "data": {
            "text/html": [
              "Syncing run <strong><a href='https://wandb.ai/avogadro/Deep%20learning%20for%20option%20pricing%20-%20rolling%20windows/runs/szqf2n2n' target=\"_blank\">restful-rain-241</a></strong> to <a href='https://wandb.ai/avogadro/Deep%20learning%20for%20option%20pricing%20-%20rolling%20windows' target=\"_blank\">Weights & Biases</a> (<a href='https://wandb.me/run' target=\"_blank\">docs</a>)<br/>"
            ],
            "text/plain": [
              "<IPython.core.display.HTML object>"
            ]
          },
          "metadata": {},
          "output_type": "display_data"
        },
        {
          "data": {
            "text/html": [
              " View project at <a href='https://wandb.ai/avogadro/Deep%20learning%20for%20option%20pricing%20-%20rolling%20windows' target=\"_blank\">https://wandb.ai/avogadro/Deep%20learning%20for%20option%20pricing%20-%20rolling%20windows</a>"
            ],
            "text/plain": [
              "<IPython.core.display.HTML object>"
            ]
          },
          "metadata": {},
          "output_type": "display_data"
        },
        {
          "data": {
            "text/html": [
              " View run at <a href='https://wandb.ai/avogadro/Deep%20learning%20for%20option%20pricing%20-%20rolling%20windows/runs/szqf2n2n' target=\"_blank\">https://wandb.ai/avogadro/Deep%20learning%20for%20option%20pricing%20-%20rolling%20windows/runs/szqf2n2n</a>"
            ],
            "text/plain": [
              "<IPython.core.display.HTML object>"
            ]
          },
          "metadata": {},
          "output_type": "display_data"
        },
        {
          "metadata": {
            "tags": null
          },
          "name": "stdout",
          "output_type": "stream",
          "text": [
            "Train shape: (172963, 10, 1), (172963, 10, 1)\n",
            "Val shape: (11980, 10, 1), (11980, 10, 1)\n",
            "Epoch 1/1000\n",
            "43/43 [==============================] - 36s 280ms/step - loss: 27.4398 - val_loss: 25.7176\n",
            "Epoch 2/1000\n",
            "43/43 [==============================] - 10s 106ms/step - loss: 30.2057 - val_loss: 26.3753\n",
            "Epoch 3/1000\n",
            "43/43 [==============================] - 10s 107ms/step - loss: 34.6285 - val_loss: 26.4493\n",
            "Epoch 4/1000\n",
            "43/43 [==============================] - 10s 108ms/step - loss: 42.2812 - val_loss: 26.1924\n",
            "Epoch 5/1000\n",
            "43/43 [==============================] - 10s 107ms/step - loss: 45.4766 - val_loss: 25.9678\n",
            "Epoch 6/1000\n",
            "43/43 [==============================] - 10s 110ms/step - loss: 31.7397 - val_loss: 26.2042\n",
            "Epoch 7/1000\n",
            "43/43 [==============================] - 10s 108ms/step - loss: 34.7136 - val_loss: 26.2122\n",
            "Epoch 8/1000\n",
            "43/43 [==============================] - 10s 112ms/step - loss: 34.2553 - val_loss: 26.1133\n",
            "Epoch 9/1000\n",
            "43/43 [==============================] - 10s 118ms/step - loss: 33.2565 - val_loss: 26.0966\n",
            "Epoch 10/1000\n",
            "43/43 [==============================] - 11s 116ms/step - loss: 33.9379 - val_loss: 26.7729\n",
            "Epoch 11/1000\n",
            "43/43 [==============================] - 11s 116ms/step - loss: 30.9940 - val_loss: 27.4254\n",
            "Epoch 12/1000\n",
            "43/43 [==============================] - 11s 115ms/step - loss: 35.5254 - val_loss: 26.7607\n",
            "Epoch 13/1000\n",
            "43/43 [==============================] - 10s 111ms/step - loss: 32.3432 - val_loss: 27.1793\n",
            "Epoch 14/1000\n",
            "43/43 [==============================] - 10s 110ms/step - loss: 30.7546 - val_loss: 26.5701\n",
            "Epoch 15/1000\n",
            "43/43 [==============================] - 10s 110ms/step - loss: 32.8927 - val_loss: 27.2507\n",
            "Epoch 16/1000\n",
            "43/43 [==============================] - 10s 109ms/step - loss: 30.6820 - val_loss: 27.8297\n",
            "Epoch 17/1000\n",
            "43/43 [==============================] - 10s 109ms/step - loss: 37.8886 - val_loss: 26.8825\n",
            "Epoch 18/1000\n",
            "43/43 [==============================] - 10s 108ms/step - loss: 33.8839 - val_loss: 27.4863\n",
            "Epoch 19/1000\n",
            "43/43 [==============================] - 10s 112ms/step - loss: 26.0689 - val_loss: 26.6731\n",
            "Epoch 20/1000\n",
            "43/43 [==============================] - 10s 112ms/step - loss: 30.6429 - val_loss: 25.7530\n",
            "Epoch 21/1000\n",
            "43/43 [==============================] - 10s 112ms/step - loss: 31.8313 - val_loss: 27.0112\n"
          ]
        },
        {
          "data": {
            "text/html": [
              "Waiting for W&B process to finish... <strong style=\"color:green\">(success).</strong>"
            ],
            "text/plain": [
              "<IPython.core.display.HTML object>"
            ]
          },
          "metadata": {},
          "output_type": "display_data"
        },
        {
          "data": {
            "application/vnd.jupyter.widget-view+json": {
              "model_id": "6a67f6b67aee4e20ab1fc6a40b86d9dd",
              "version_major": 2,
              "version_minor": 0
            },
            "text/plain": [
              "VBox(children=(Label(value='0.006 MB of 0.006 MB uploaded (0.000 MB deduped)\\r'), FloatProgress(value=1.0, max…"
            ]
          },
          "metadata": {},
          "output_type": "display_data"
        },
        {
          "data": {
            "text/html": [
              "<style>\n",
              "    table.wandb td:nth-child(1) { padding: 0 10px; text-align: left ; width: auto;} td:nth-child(2) {text-align: left ; width: 100%}\n",
              "    .wandb-row { display: flex; flex-direction: row; flex-wrap: wrap; justify-content: flex-start; width: 100% }\n",
              "    .wandb-col { display: flex; flex-direction: column; flex-basis: 100%; flex: 1; padding: 10px; }\n",
              "    </style>\n",
              "<div class=\"wandb-row\"><div class=\"wandb-col\"><h3>Run history:</h3><br/><table class=\"wandb\"><tr><td>epoch</td><td>▁▁▂▂▂▃▃▃▄▄▅▅▅▆▆▆▇▇▇██</td></tr><tr><td>loss</td><td>▁▂▄▇█▃▄▄▄▄▃▄▃▃▃▃▅▄▁▃▃</td></tr><tr><td>val_loss</td><td>▁▃▃▃▂▃▃▂▂▄▇▄▆▄▆█▅▇▄▁▅</td></tr></table><br/></div><div class=\"wandb-col\"><h3>Run summary:</h3><br/><table class=\"wandb\"><tr><td>best_epoch</td><td>0</td></tr><tr><td>best_val_loss</td><td>25.71761</td></tr><tr><td>epoch</td><td>20</td></tr><tr><td>loss</td><td>31.83125</td></tr><tr><td>val_loss</td><td>27.01122</td></tr></table><br/></div></div>"
            ],
            "text/plain": [
              "<IPython.core.display.HTML object>"
            ]
          },
          "metadata": {},
          "output_type": "display_data"
        },
        {
          "data": {
            "text/html": [
              " View run <strong style=\"color:#cdcd00\">restful-rain-241</strong> at: <a href='https://wandb.ai/avogadro/Deep%20learning%20for%20option%20pricing%20-%20rolling%20windows/runs/szqf2n2n' target=\"_blank\">https://wandb.ai/avogadro/Deep%20learning%20for%20option%20pricing%20-%20rolling%20windows/runs/szqf2n2n</a><br/>Synced 5 W&B file(s), 1 media file(s), 0 artifact file(s) and 0 other file(s)"
            ],
            "text/plain": [
              "<IPython.core.display.HTML object>"
            ]
          },
          "metadata": {},
          "output_type": "display_data"
        },
        {
          "data": {
            "text/html": [
              "Find logs at: <code>./wandb/run-20230415_154407-szqf2n2n/logs</code>"
            ],
            "text/plain": [
              "<IPython.core.display.HTML object>"
            ]
          },
          "metadata": {},
          "output_type": "display_data"
        },
        {
          "metadata": {
            "tags": null
          },
          "name": "stdout",
          "output_type": "stream",
          "text": [
            "--- Predictions for test_start 2015-04-06 ---\n",
            "MSE: 439.66342\n",
            "RMSE: 20.968153\n",
            "-------------------------------------------\n",
            "Train shape: (193175, 10, 1), (193175, 4)\n",
            "Val shape: (16717, 10, 1), (16717, 4)\n",
            "Test shape: (34674, 10, 1), (34674, 4)\n",
            "-------------------------------------------\n",
            "Checkpoint_path =  /content/drive/MyDrive/01. Masters Thesis - Shared/05. Checkpoints/04-15_14-59/2015-01-13/\n",
            "Previous checkpoint_path =  /content/drive/MyDrive/01. Masters Thesis - Shared/05. Checkpoints/04-15_14-59/2014-12-30/\n",
            "-------------------------------------------\n"
          ]
        },
        {
          "data": {
            "text/html": [
              "Changes to your `wandb` environment variables will be ignored because your `wandb` session has already started. For more information on how to modify your settings with `wandb.init()` arguments, please refer to <a href='https://wandb.me/wandb-init' target=\"_blank\">the W&B docs</a>."
            ],
            "text/plain": [
              "<IPython.core.display.HTML object>"
            ]
          },
          "metadata": {},
          "output_type": "display_data"
        },
        {
          "data": {
            "text/html": [
              "Tracking run with wandb version 0.14.2"
            ],
            "text/plain": [
              "<IPython.core.display.HTML object>"
            ]
          },
          "metadata": {},
          "output_type": "display_data"
        },
        {
          "data": {
            "text/html": [
              "Run data is saved locally in <code>/content/wandb/run-20230415_154844-v7l03i37</code>"
            ],
            "text/plain": [
              "<IPython.core.display.HTML object>"
            ]
          },
          "metadata": {},
          "output_type": "display_data"
        },
        {
          "data": {
            "text/html": [
              "Syncing run <strong><a href='https://wandb.ai/avogadro/Deep%20learning%20for%20option%20pricing%20-%20rolling%20windows/runs/v7l03i37' target=\"_blank\">major-frost-242</a></strong> to <a href='https://wandb.ai/avogadro/Deep%20learning%20for%20option%20pricing%20-%20rolling%20windows' target=\"_blank\">Weights & Biases</a> (<a href='https://wandb.me/run' target=\"_blank\">docs</a>)<br/>"
            ],
            "text/plain": [
              "<IPython.core.display.HTML object>"
            ]
          },
          "metadata": {},
          "output_type": "display_data"
        },
        {
          "data": {
            "text/html": [
              " View project at <a href='https://wandb.ai/avogadro/Deep%20learning%20for%20option%20pricing%20-%20rolling%20windows' target=\"_blank\">https://wandb.ai/avogadro/Deep%20learning%20for%20option%20pricing%20-%20rolling%20windows</a>"
            ],
            "text/plain": [
              "<IPython.core.display.HTML object>"
            ]
          },
          "metadata": {},
          "output_type": "display_data"
        },
        {
          "data": {
            "text/html": [
              " View run at <a href='https://wandb.ai/avogadro/Deep%20learning%20for%20option%20pricing%20-%20rolling%20windows/runs/v7l03i37' target=\"_blank\">https://wandb.ai/avogadro/Deep%20learning%20for%20option%20pricing%20-%20rolling%20windows/runs/v7l03i37</a>"
            ],
            "text/plain": [
              "<IPython.core.display.HTML object>"
            ]
          },
          "metadata": {},
          "output_type": "display_data"
        },
        {
          "metadata": {
            "tags": null
          },
          "name": "stdout",
          "output_type": "stream",
          "text": [
            "Train shape: (172963, 10, 1), (172963, 10, 1)\n",
            "Val shape: (11980, 10, 1), (11980, 10, 1)\n",
            "Epoch 1/1000\n",
            "43/43 [==============================] - 37s 282ms/step - loss: 44.1709 - val_loss: 26.6336\n",
            "Epoch 2/1000\n",
            "43/43 [==============================] - 10s 111ms/step - loss: 40.1265 - val_loss: 26.9677\n",
            "Epoch 3/1000\n",
            "43/43 [==============================] - 10s 111ms/step - loss: 40.7937 - val_loss: 27.1577\n",
            "Epoch 4/1000\n",
            "43/43 [==============================] - 11s 134ms/step - loss: 41.3481 - val_loss: 25.9203\n",
            "Epoch 5/1000\n",
            "43/43 [==============================] - 10s 110ms/step - loss: 28.5200 - val_loss: 26.1900\n",
            "Epoch 6/1000\n",
            "43/43 [==============================] - 10s 108ms/step - loss: 33.4735 - val_loss: 26.5984\n",
            "Epoch 7/1000\n",
            "43/43 [==============================] - 10s 111ms/step - loss: 38.0669 - val_loss: 26.1678\n",
            "Epoch 8/1000\n",
            "43/43 [==============================] - 10s 108ms/step - loss: 36.6251 - val_loss: 27.0673\n",
            "Epoch 9/1000\n",
            "43/43 [==============================] - 10s 106ms/step - loss: 31.3852 - val_loss: 26.6646\n",
            "Epoch 10/1000\n",
            "43/43 [==============================] - 10s 109ms/step - loss: 36.9239 - val_loss: 26.7600\n",
            "Epoch 11/1000\n",
            "43/43 [==============================] - 10s 109ms/step - loss: 30.4766 - val_loss: 26.4442\n",
            "Epoch 12/1000\n",
            "43/43 [==============================] - 10s 106ms/step - loss: 30.5911 - val_loss: 26.2067\n",
            "Epoch 13/1000\n",
            "43/43 [==============================] - 10s 108ms/step - loss: 36.9310 - val_loss: 27.1723\n",
            "Epoch 14/1000\n",
            "43/43 [==============================] - 10s 111ms/step - loss: 37.7522 - val_loss: 27.4788\n",
            "Epoch 15/1000\n",
            "43/43 [==============================] - 10s 109ms/step - loss: 31.9529 - val_loss: 27.8717\n",
            "Epoch 16/1000\n",
            "43/43 [==============================] - 10s 110ms/step - loss: 42.1186 - val_loss: 26.7512\n",
            "Epoch 17/1000\n",
            "43/43 [==============================] - 11s 129ms/step - loss: 37.9840 - val_loss: 25.8885\n",
            "Epoch 18/1000\n",
            "43/43 [==============================] - 10s 107ms/step - loss: 41.9744 - val_loss: 26.2531\n",
            "Epoch 19/1000\n",
            "43/43 [==============================] - 9s 108ms/step - loss: 34.0794 - val_loss: 26.0849\n",
            "Epoch 20/1000\n",
            "43/43 [==============================] - 10s 108ms/step - loss: 37.8983 - val_loss: 26.2477\n",
            "Epoch 21/1000\n",
            "43/43 [==============================] - 9s 106ms/step - loss: 34.4678 - val_loss: 27.5249\n"
          ]
        },
        {
          "data": {
            "text/html": [
              "Waiting for W&B process to finish... <strong style=\"color:green\">(success).</strong>"
            ],
            "text/plain": [
              "<IPython.core.display.HTML object>"
            ]
          },
          "metadata": {},
          "output_type": "display_data"
        },
        {
          "data": {
            "application/vnd.jupyter.widget-view+json": {
              "model_id": "79abe2bc86bc4e8790b5b2b641488758",
              "version_major": 2,
              "version_minor": 0
            },
            "text/plain": [
              "VBox(children=(Label(value='0.006 MB of 0.017 MB uploaded (0.000 MB deduped)\\r'), FloatProgress(value=0.339482…"
            ]
          },
          "metadata": {},
          "output_type": "display_data"
        },
        {
          "data": {
            "text/html": [
              "<style>\n",
              "    table.wandb td:nth-child(1) { padding: 0 10px; text-align: left ; width: auto;} td:nth-child(2) {text-align: left ; width: 100%}\n",
              "    .wandb-row { display: flex; flex-direction: row; flex-wrap: wrap; justify-content: flex-start; width: 100% }\n",
              "    .wandb-col { display: flex; flex-direction: column; flex-basis: 100%; flex: 1; padding: 10px; }\n",
              "    </style>\n",
              "<div class=\"wandb-row\"><div class=\"wandb-col\"><h3>Run history:</h3><br/><table class=\"wandb\"><tr><td>epoch</td><td>▁▁▂▂▂▃▃▃▄▄▅▅▅▆▆▆▇▇▇██</td></tr><tr><td>loss</td><td>█▆▆▇▁▃▅▅▂▅▂▂▅▅▃▇▅▇▃▅▄</td></tr><tr><td>val_loss</td><td>▄▅▅▁▂▄▂▅▄▄▃▂▆▇█▄▁▂▂▂▇</td></tr></table><br/></div><div class=\"wandb-col\"><h3>Run summary:</h3><br/><table class=\"wandb\"><tr><td>best_epoch</td><td>16</td></tr><tr><td>best_val_loss</td><td>25.88846</td></tr><tr><td>epoch</td><td>20</td></tr><tr><td>loss</td><td>34.46783</td></tr><tr><td>val_loss</td><td>27.52492</td></tr></table><br/></div></div>"
            ],
            "text/plain": [
              "<IPython.core.display.HTML object>"
            ]
          },
          "metadata": {},
          "output_type": "display_data"
        },
        {
          "data": {
            "text/html": [
              " View run <strong style=\"color:#cdcd00\">major-frost-242</strong> at: <a href='https://wandb.ai/avogadro/Deep%20learning%20for%20option%20pricing%20-%20rolling%20windows/runs/v7l03i37' target=\"_blank\">https://wandb.ai/avogadro/Deep%20learning%20for%20option%20pricing%20-%20rolling%20windows/runs/v7l03i37</a><br/>Synced 5 W&B file(s), 1 media file(s), 0 artifact file(s) and 0 other file(s)"
            ],
            "text/plain": [
              "<IPython.core.display.HTML object>"
            ]
          },
          "metadata": {},
          "output_type": "display_data"
        },
        {
          "data": {
            "text/html": [
              "Find logs at: <code>./wandb/run-20230415_154844-v7l03i37/logs</code>"
            ],
            "text/plain": [
              "<IPython.core.display.HTML object>"
            ]
          },
          "metadata": {},
          "output_type": "display_data"
        },
        {
          "metadata": {
            "tags": null
          },
          "name": "stdout",
          "output_type": "stream",
          "text": [
            "--- Predictions for test_start 2015-04-20 ---\n",
            "MSE: 124.112076\n",
            "RMSE: 11.14056\n",
            "-------------------------------------------\n",
            "Train shape: (201754, 10, 1), (201754, 4)\n",
            "Val shape: (17310, 10, 1), (17310, 4)\n",
            "Test shape: (34610, 10, 1), (34610, 4)\n",
            "-------------------------------------------\n",
            "Checkpoint_path =  /content/drive/MyDrive/01. Masters Thesis - Shared/05. Checkpoints/04-15_14-59/2015-01-27/\n",
            "Previous checkpoint_path =  /content/drive/MyDrive/01. Masters Thesis - Shared/05. Checkpoints/04-15_14-59/2015-01-13/\n",
            "-------------------------------------------\n"
          ]
        },
        {
          "data": {
            "text/html": [
              "Changes to your `wandb` environment variables will be ignored because your `wandb` session has already started. For more information on how to modify your settings with `wandb.init()` arguments, please refer to <a href='https://wandb.me/wandb-init' target=\"_blank\">the W&B docs</a>."
            ],
            "text/plain": [
              "<IPython.core.display.HTML object>"
            ]
          },
          "metadata": {},
          "output_type": "display_data"
        },
        {
          "data": {
            "text/html": [
              "Tracking run with wandb version 0.14.2"
            ],
            "text/plain": [
              "<IPython.core.display.HTML object>"
            ]
          },
          "metadata": {},
          "output_type": "display_data"
        },
        {
          "data": {
            "text/html": [
              "Run data is saved locally in <code>/content/wandb/run-20230415_155318-72yn3qze</code>"
            ],
            "text/plain": [
              "<IPython.core.display.HTML object>"
            ]
          },
          "metadata": {},
          "output_type": "display_data"
        },
        {
          "data": {
            "text/html": [
              "Syncing run <strong><a href='https://wandb.ai/avogadro/Deep%20learning%20for%20option%20pricing%20-%20rolling%20windows/runs/72yn3qze' target=\"_blank\">lilac-dust-244</a></strong> to <a href='https://wandb.ai/avogadro/Deep%20learning%20for%20option%20pricing%20-%20rolling%20windows' target=\"_blank\">Weights & Biases</a> (<a href='https://wandb.me/run' target=\"_blank\">docs</a>)<br/>"
            ],
            "text/plain": [
              "<IPython.core.display.HTML object>"
            ]
          },
          "metadata": {},
          "output_type": "display_data"
        },
        {
          "data": {
            "text/html": [
              " View project at <a href='https://wandb.ai/avogadro/Deep%20learning%20for%20option%20pricing%20-%20rolling%20windows' target=\"_blank\">https://wandb.ai/avogadro/Deep%20learning%20for%20option%20pricing%20-%20rolling%20windows</a>"
            ],
            "text/plain": [
              "<IPython.core.display.HTML object>"
            ]
          },
          "metadata": {},
          "output_type": "display_data"
        },
        {
          "data": {
            "text/html": [
              " View run at <a href='https://wandb.ai/avogadro/Deep%20learning%20for%20option%20pricing%20-%20rolling%20windows/runs/72yn3qze' target=\"_blank\">https://wandb.ai/avogadro/Deep%20learning%20for%20option%20pricing%20-%20rolling%20windows/runs/72yn3qze</a>"
            ],
            "text/plain": [
              "<IPython.core.display.HTML object>"
            ]
          },
          "metadata": {},
          "output_type": "display_data"
        },
        {
          "metadata": {
            "tags": null
          },
          "name": "stdout",
          "output_type": "stream",
          "text": [
            "Train shape: (172963, 10, 1), (172963, 10, 1)\n",
            "Val shape: (11980, 10, 1), (11980, 10, 1)\n",
            "Epoch 1/1000\n",
            "43/43 [==============================] - 36s 279ms/step - loss: 36.0301 - val_loss: 26.4662\n",
            "Epoch 2/1000\n",
            "43/43 [==============================] - 10s 107ms/step - loss: 35.8785 - val_loss: 27.0425\n",
            "Epoch 3/1000\n",
            "43/43 [==============================] - 10s 110ms/step - loss: 46.9102 - val_loss: 27.7346\n",
            "Epoch 4/1000\n",
            "43/43 [==============================] - 10s 110ms/step - loss: 45.6874 - val_loss: 27.9678\n",
            "Epoch 5/1000\n",
            "43/43 [==============================] - 10s 109ms/step - loss: 33.6221 - val_loss: 27.6178\n",
            "Epoch 6/1000\n",
            "43/43 [==============================] - 10s 109ms/step - loss: 32.7155 - val_loss: 27.8115\n",
            "Epoch 7/1000\n",
            "43/43 [==============================] - 10s 111ms/step - loss: 35.8345 - val_loss: 27.2080\n",
            "Epoch 8/1000\n",
            "43/43 [==============================] - 10s 111ms/step - loss: 39.0925 - val_loss: 26.6731\n",
            "Epoch 9/1000\n",
            "43/43 [==============================] - 10s 108ms/step - loss: 39.8345 - val_loss: 27.0316\n",
            "Epoch 10/1000\n",
            "43/43 [==============================] - 10s 113ms/step - loss: 38.8686 - val_loss: 26.7334\n",
            "Epoch 11/1000\n",
            "43/43 [==============================] - 10s 111ms/step - loss: 34.0372 - val_loss: 26.9433\n",
            "Epoch 12/1000\n",
            "43/43 [==============================] - 10s 113ms/step - loss: 32.0188 - val_loss: 27.2406\n",
            "Epoch 13/1000\n",
            "43/43 [==============================] - 10s 110ms/step - loss: 38.7368 - val_loss: 26.7626\n",
            "Epoch 14/1000\n",
            "43/43 [==============================] - 10s 107ms/step - loss: 44.9349 - val_loss: 27.3004\n",
            "Epoch 15/1000\n",
            "43/43 [==============================] - 11s 136ms/step - loss: 38.6862 - val_loss: 26.3040\n",
            "Epoch 16/1000\n",
            "43/43 [==============================] - 10s 113ms/step - loss: 30.8175 - val_loss: 27.0833\n",
            "Epoch 17/1000\n",
            "43/43 [==============================] - 10s 112ms/step - loss: 47.1709 - val_loss: 26.6462\n",
            "Epoch 18/1000\n",
            "43/43 [==============================] - 10s 110ms/step - loss: 37.9314 - val_loss: 26.9955\n",
            "Epoch 19/1000\n",
            "43/43 [==============================] - 10s 110ms/step - loss: 38.7511 - val_loss: 26.9309\n",
            "Epoch 20/1000\n",
            "43/43 [==============================] - 10s 110ms/step - loss: 46.2568 - val_loss: 27.3005\n",
            "Epoch 21/1000\n",
            "43/43 [==============================] - 10s 111ms/step - loss: 40.6812 - val_loss: 26.9981\n"
          ]
        },
        {
          "data": {
            "text/html": [
              "Waiting for W&B process to finish... <strong style=\"color:green\">(success).</strong>"
            ],
            "text/plain": [
              "<IPython.core.display.HTML object>"
            ]
          },
          "metadata": {},
          "output_type": "display_data"
        },
        {
          "data": {
            "application/vnd.jupyter.widget-view+json": {
              "model_id": "59652d9f2de047d8801ef3f40c6b3eb2",
              "version_major": 2,
              "version_minor": 0
            },
            "text/plain": [
              "VBox(children=(Label(value='0.006 MB of 0.017 MB uploaded (0.000 MB deduped)\\r'), FloatProgress(value=0.339501…"
            ]
          },
          "metadata": {},
          "output_type": "display_data"
        },
        {
          "data": {
            "text/html": [
              "<style>\n",
              "    table.wandb td:nth-child(1) { padding: 0 10px; text-align: left ; width: auto;} td:nth-child(2) {text-align: left ; width: 100%}\n",
              "    .wandb-row { display: flex; flex-direction: row; flex-wrap: wrap; justify-content: flex-start; width: 100% }\n",
              "    .wandb-col { display: flex; flex-direction: column; flex-basis: 100%; flex: 1; padding: 10px; }\n",
              "    </style>\n",
              "<div class=\"wandb-row\"><div class=\"wandb-col\"><h3>Run history:</h3><br/><table class=\"wandb\"><tr><td>epoch</td><td>▁▁▂▂▂▃▃▃▄▄▅▅▅▆▆▆▇▇▇██</td></tr><tr><td>loss</td><td>▃▃█▇▂▂▃▅▅▄▂▂▄▇▄▁█▄▄█▅</td></tr><tr><td>val_loss</td><td>▂▄▇█▇▇▅▃▄▃▄▅▃▅▁▄▂▄▄▅▄</td></tr></table><br/></div><div class=\"wandb-col\"><h3>Run summary:</h3><br/><table class=\"wandb\"><tr><td>best_epoch</td><td>14</td></tr><tr><td>best_val_loss</td><td>26.304</td></tr><tr><td>epoch</td><td>20</td></tr><tr><td>loss</td><td>40.68118</td></tr><tr><td>val_loss</td><td>26.99807</td></tr></table><br/></div></div>"
            ],
            "text/plain": [
              "<IPython.core.display.HTML object>"
            ]
          },
          "metadata": {},
          "output_type": "display_data"
        },
        {
          "data": {
            "text/html": [
              " View run <strong style=\"color:#cdcd00\">lilac-dust-244</strong> at: <a href='https://wandb.ai/avogadro/Deep%20learning%20for%20option%20pricing%20-%20rolling%20windows/runs/72yn3qze' target=\"_blank\">https://wandb.ai/avogadro/Deep%20learning%20for%20option%20pricing%20-%20rolling%20windows/runs/72yn3qze</a><br/>Synced 5 W&B file(s), 1 media file(s), 0 artifact file(s) and 0 other file(s)"
            ],
            "text/plain": [
              "<IPython.core.display.HTML object>"
            ]
          },
          "metadata": {},
          "output_type": "display_data"
        },
        {
          "data": {
            "text/html": [
              "Find logs at: <code>./wandb/run-20230415_155318-72yn3qze/logs</code>"
            ],
            "text/plain": [
              "<IPython.core.display.HTML object>"
            ]
          },
          "metadata": {},
          "output_type": "display_data"
        },
        {
          "metadata": {
            "tags": null
          },
          "name": "stdout",
          "output_type": "stream",
          "text": [
            "--- Predictions for test_start 2015-05-04 ---\n",
            "MSE: 836.3233\n",
            "RMSE: 28.919254\n",
            "-------------------------------------------\n",
            "Train shape: (206641, 10, 1), (206641, 4)\n",
            "Val shape: (17089, 10, 1), (17089, 4)\n",
            "Test shape: (30477, 10, 1), (30477, 4)\n",
            "-------------------------------------------\n",
            "Checkpoint_path =  /content/drive/MyDrive/01. Masters Thesis - Shared/05. Checkpoints/04-15_14-59/2015-02-10/\n",
            "Previous checkpoint_path =  /content/drive/MyDrive/01. Masters Thesis - Shared/05. Checkpoints/04-15_14-59/2015-01-27/\n",
            "-------------------------------------------\n"
          ]
        },
        {
          "data": {
            "text/html": [
              "Changes to your `wandb` environment variables will be ignored because your `wandb` session has already started. For more information on how to modify your settings with `wandb.init()` arguments, please refer to <a href='https://wandb.me/wandb-init' target=\"_blank\">the W&B docs</a>."
            ],
            "text/plain": [
              "<IPython.core.display.HTML object>"
            ]
          },
          "metadata": {},
          "output_type": "display_data"
        },
        {
          "data": {
            "text/html": [
              "Tracking run with wandb version 0.14.2"
            ],
            "text/plain": [
              "<IPython.core.display.HTML object>"
            ]
          },
          "metadata": {},
          "output_type": "display_data"
        },
        {
          "data": {
            "text/html": [
              "Run data is saved locally in <code>/content/wandb/run-20230415_155753-pae3zcg0</code>"
            ],
            "text/plain": [
              "<IPython.core.display.HTML object>"
            ]
          },
          "metadata": {},
          "output_type": "display_data"
        },
        {
          "data": {
            "text/html": [
              "Syncing run <strong><a href='https://wandb.ai/avogadro/Deep%20learning%20for%20option%20pricing%20-%20rolling%20windows/runs/pae3zcg0' target=\"_blank\">dauntless-lake-246</a></strong> to <a href='https://wandb.ai/avogadro/Deep%20learning%20for%20option%20pricing%20-%20rolling%20windows' target=\"_blank\">Weights & Biases</a> (<a href='https://wandb.me/run' target=\"_blank\">docs</a>)<br/>"
            ],
            "text/plain": [
              "<IPython.core.display.HTML object>"
            ]
          },
          "metadata": {},
          "output_type": "display_data"
        },
        {
          "data": {
            "text/html": [
              " View project at <a href='https://wandb.ai/avogadro/Deep%20learning%20for%20option%20pricing%20-%20rolling%20windows' target=\"_blank\">https://wandb.ai/avogadro/Deep%20learning%20for%20option%20pricing%20-%20rolling%20windows</a>"
            ],
            "text/plain": [
              "<IPython.core.display.HTML object>"
            ]
          },
          "metadata": {},
          "output_type": "display_data"
        },
        {
          "data": {
            "text/html": [
              " View run at <a href='https://wandb.ai/avogadro/Deep%20learning%20for%20option%20pricing%20-%20rolling%20windows/runs/pae3zcg0' target=\"_blank\">https://wandb.ai/avogadro/Deep%20learning%20for%20option%20pricing%20-%20rolling%20windows/runs/pae3zcg0</a>"
            ],
            "text/plain": [
              "<IPython.core.display.HTML object>"
            ]
          },
          "metadata": {},
          "output_type": "display_data"
        },
        {
          "metadata": {
            "tags": null
          },
          "name": "stdout",
          "output_type": "stream",
          "text": [
            "Train shape: (172963, 10, 1), (172963, 10, 1)\n",
            "Val shape: (11980, 10, 1), (11980, 10, 1)\n",
            "Epoch 1/1000\n",
            "43/43 [==============================] - 37s 282ms/step - loss: 32.2239 - val_loss: 26.4582\n",
            "Epoch 2/1000\n",
            "43/43 [==============================] - 10s 110ms/step - loss: 28.9961 - val_loss: 26.8861\n",
            "Epoch 3/1000\n",
            "43/43 [==============================] - 10s 108ms/step - loss: 37.6959 - val_loss: 26.9208\n",
            "Epoch 4/1000\n",
            "43/43 [==============================] - 10s 107ms/step - loss: 39.4110 - val_loss: 27.0543\n",
            "Epoch 5/1000\n",
            "43/43 [==============================] - 10s 111ms/step - loss: 37.9383 - val_loss: 26.5604\n",
            "Epoch 6/1000\n",
            "43/43 [==============================] - 11s 132ms/step - loss: 30.8100 - val_loss: 26.2371\n",
            "Epoch 7/1000\n",
            "43/43 [==============================] - 10s 113ms/step - loss: 42.4644 - val_loss: 26.6996\n",
            "Epoch 8/1000\n",
            "43/43 [==============================] - 10s 113ms/step - loss: 39.1159 - val_loss: 26.9456\n",
            "Epoch 9/1000\n",
            "43/43 [==============================] - 10s 115ms/step - loss: 37.8275 - val_loss: 26.6327\n",
            "Epoch 10/1000\n",
            "43/43 [==============================] - 11s 138ms/step - loss: 39.8764 - val_loss: 25.7931\n",
            "Epoch 11/1000\n",
            "43/43 [==============================] - 10s 112ms/step - loss: 38.7148 - val_loss: 26.4932\n",
            "Epoch 12/1000\n",
            "43/43 [==============================] - 10s 108ms/step - loss: 41.1939 - val_loss: 27.2624\n",
            "Epoch 13/1000\n",
            "43/43 [==============================] - 10s 108ms/step - loss: 42.4891 - val_loss: 27.5072\n",
            "Epoch 14/1000\n",
            "43/43 [==============================] - 10s 108ms/step - loss: 41.8348 - val_loss: 27.0305\n",
            "Epoch 15/1000\n",
            "43/43 [==============================] - 10s 110ms/step - loss: 38.7024 - val_loss: 27.3883\n",
            "Epoch 16/1000\n",
            "43/43 [==============================] - 10s 107ms/step - loss: 33.3047 - val_loss: 27.2515\n",
            "Epoch 17/1000\n",
            "43/43 [==============================] - 10s 107ms/step - loss: 31.8866 - val_loss: 26.6117\n",
            "Epoch 18/1000\n",
            "43/43 [==============================] - 10s 110ms/step - loss: 39.2766 - val_loss: 26.2795\n",
            "Epoch 19/1000\n",
            "43/43 [==============================] - 11s 132ms/step - loss: 28.1403 - val_loss: 25.4727\n",
            "Epoch 20/1000\n",
            "43/43 [==============================] - 10s 109ms/step - loss: 39.6454 - val_loss: 26.5534\n",
            "Epoch 21/1000\n",
            "43/43 [==============================] - 10s 115ms/step - loss: 43.6885 - val_loss: 26.1531\n"
          ]
        },
        {
          "data": {
            "text/html": [
              "Waiting for W&B process to finish... <strong style=\"color:green\">(success).</strong>"
            ],
            "text/plain": [
              "<IPython.core.display.HTML object>"
            ]
          },
          "metadata": {},
          "output_type": "display_data"
        },
        {
          "data": {
            "text/html": [
              "<style>\n",
              "    table.wandb td:nth-child(1) { padding: 0 10px; text-align: left ; width: auto;} td:nth-child(2) {text-align: left ; width: 100%}\n",
              "    .wandb-row { display: flex; flex-direction: row; flex-wrap: wrap; justify-content: flex-start; width: 100% }\n",
              "    .wandb-col { display: flex; flex-direction: column; flex-basis: 100%; flex: 1; padding: 10px; }\n",
              "    </style>\n",
              "<div class=\"wandb-row\"><div class=\"wandb-col\"><h3>Run history:</h3><br/><table class=\"wandb\"><tr><td>epoch</td><td>▁▁▂▂▂▃▃▃▄▄▅▅▅▆▆▆▇▇▇██</td></tr><tr><td>loss</td><td>▃▁▅▆▅▂▇▆▅▆▆▇▇▇▆▃▃▆▁▆█</td></tr><tr><td>val_loss</td><td>▄▆▆▆▅▄▅▆▅▂▅▇█▆█▇▅▄▁▅▃</td></tr></table><br/></div><div class=\"wandb-col\"><h3>Run summary:</h3><br/><table class=\"wandb\"><tr><td>best_epoch</td><td>18</td></tr><tr><td>best_val_loss</td><td>25.4727</td></tr><tr><td>epoch</td><td>20</td></tr><tr><td>loss</td><td>43.68855</td></tr><tr><td>val_loss</td><td>26.1531</td></tr></table><br/></div></div>"
            ],
            "text/plain": [
              "<IPython.core.display.HTML object>"
            ]
          },
          "metadata": {},
          "output_type": "display_data"
        },
        {
          "data": {
            "text/html": [
              " View run <strong style=\"color:#cdcd00\">dauntless-lake-246</strong> at: <a href='https://wandb.ai/avogadro/Deep%20learning%20for%20option%20pricing%20-%20rolling%20windows/runs/pae3zcg0' target=\"_blank\">https://wandb.ai/avogadro/Deep%20learning%20for%20option%20pricing%20-%20rolling%20windows/runs/pae3zcg0</a><br/>Synced 5 W&B file(s), 1 media file(s), 0 artifact file(s) and 0 other file(s)"
            ],
            "text/plain": [
              "<IPython.core.display.HTML object>"
            ]
          },
          "metadata": {},
          "output_type": "display_data"
        },
        {
          "data": {
            "text/html": [
              "Find logs at: <code>./wandb/run-20230415_155753-pae3zcg0/logs</code>"
            ],
            "text/plain": [
              "<IPython.core.display.HTML object>"
            ]
          },
          "metadata": {},
          "output_type": "display_data"
        },
        {
          "metadata": {
            "tags": null
          },
          "name": "stdout",
          "output_type": "stream",
          "text": [
            "--- Predictions for test_start 2015-05-17 ---\n",
            "MSE: 278.29025\n",
            "RMSE: 16.682034\n",
            "-------------------------------------------\n",
            "Train shape: (213046, 10, 1), (213046, 4)\n",
            "Val shape: (13549, 10, 1), (13549, 4)\n",
            "Test shape: (35547, 10, 1), (35547, 4)\n",
            "-------------------------------------------\n",
            "Checkpoint_path =  /content/drive/MyDrive/01. Masters Thesis - Shared/05. Checkpoints/04-15_14-59/2015-02-24/\n",
            "Previous checkpoint_path =  /content/drive/MyDrive/01. Masters Thesis - Shared/05. Checkpoints/04-15_14-59/2015-02-10/\n",
            "-------------------------------------------\n"
          ]
        },
        {
          "data": {
            "text/html": [
              "Changes to your `wandb` environment variables will be ignored because your `wandb` session has already started. For more information on how to modify your settings with `wandb.init()` arguments, please refer to <a href='https://wandb.me/wandb-init' target=\"_blank\">the W&B docs</a>."
            ],
            "text/plain": [
              "<IPython.core.display.HTML object>"
            ]
          },
          "metadata": {},
          "output_type": "display_data"
        },
        {
          "data": {
            "text/html": [
              "Tracking run with wandb version 0.14.2"
            ],
            "text/plain": [
              "<IPython.core.display.HTML object>"
            ]
          },
          "metadata": {},
          "output_type": "display_data"
        },
        {
          "data": {
            "text/html": [
              "Run data is saved locally in <code>/content/wandb/run-20230415_160231-qnqwa61q</code>"
            ],
            "text/plain": [
              "<IPython.core.display.HTML object>"
            ]
          },
          "metadata": {},
          "output_type": "display_data"
        },
        {
          "data": {
            "text/html": [
              "Syncing run <strong><a href='https://wandb.ai/avogadro/Deep%20learning%20for%20option%20pricing%20-%20rolling%20windows/runs/qnqwa61q' target=\"_blank\">azure-bush-248</a></strong> to <a href='https://wandb.ai/avogadro/Deep%20learning%20for%20option%20pricing%20-%20rolling%20windows' target=\"_blank\">Weights & Biases</a> (<a href='https://wandb.me/run' target=\"_blank\">docs</a>)<br/>"
            ],
            "text/plain": [
              "<IPython.core.display.HTML object>"
            ]
          },
          "metadata": {},
          "output_type": "display_data"
        },
        {
          "data": {
            "text/html": [
              " View project at <a href='https://wandb.ai/avogadro/Deep%20learning%20for%20option%20pricing%20-%20rolling%20windows' target=\"_blank\">https://wandb.ai/avogadro/Deep%20learning%20for%20option%20pricing%20-%20rolling%20windows</a>"
            ],
            "text/plain": [
              "<IPython.core.display.HTML object>"
            ]
          },
          "metadata": {},
          "output_type": "display_data"
        },
        {
          "data": {
            "text/html": [
              " View run at <a href='https://wandb.ai/avogadro/Deep%20learning%20for%20option%20pricing%20-%20rolling%20windows/runs/qnqwa61q' target=\"_blank\">https://wandb.ai/avogadro/Deep%20learning%20for%20option%20pricing%20-%20rolling%20windows/runs/qnqwa61q</a>"
            ],
            "text/plain": [
              "<IPython.core.display.HTML object>"
            ]
          },
          "metadata": {},
          "output_type": "display_data"
        },
        {
          "metadata": {
            "tags": null
          },
          "name": "stdout",
          "output_type": "stream",
          "text": [
            "Train shape: (172963, 10, 1), (172963, 10, 1)\n",
            "Val shape: (11980, 10, 1), (11980, 10, 1)\n",
            "Epoch 1/1000\n",
            "43/43 [==============================] - 36s 280ms/step - loss: 28.4865 - val_loss: 26.1289\n",
            "Epoch 2/1000\n",
            "43/43 [==============================] - 10s 109ms/step - loss: 35.6602 - val_loss: 26.8846\n",
            "Epoch 3/1000\n",
            "43/43 [==============================] - 10s 108ms/step - loss: 38.9641 - val_loss: 27.1419\n",
            "Epoch 4/1000\n",
            "43/43 [==============================] - 10s 111ms/step - loss: 35.6048 - val_loss: 27.2750\n",
            "Epoch 5/1000\n",
            "43/43 [==============================] - 10s 110ms/step - loss: 37.5418 - val_loss: 26.8930\n",
            "Epoch 6/1000\n",
            "43/43 [==============================] - 11s 132ms/step - loss: 41.4137 - val_loss: 26.0270\n",
            "Epoch 7/1000\n",
            "43/43 [==============================] - 10s 110ms/step - loss: 34.9163 - val_loss: 26.8612\n",
            "Epoch 8/1000\n",
            "43/43 [==============================] - 10s 113ms/step - loss: 45.5336 - val_loss: 26.6241\n",
            "Epoch 9/1000\n",
            "43/43 [==============================] - 10s 110ms/step - loss: 39.5855 - val_loss: 26.0281\n",
            "Epoch 10/1000\n",
            "43/43 [==============================] - 10s 109ms/step - loss: 34.9814 - val_loss: 26.3448\n",
            "Epoch 11/1000\n",
            "43/43 [==============================] - 10s 109ms/step - loss: 37.2423 - val_loss: 26.1148\n",
            "Epoch 12/1000\n",
            "43/43 [==============================] - 11s 132ms/step - loss: 34.2715 - val_loss: 25.5072\n",
            "Epoch 13/1000\n",
            "43/43 [==============================] - 10s 110ms/step - loss: 35.4213 - val_loss: 25.8107\n",
            "Epoch 14/1000\n",
            "43/43 [==============================] - 10s 111ms/step - loss: 33.5405 - val_loss: 26.3323\n",
            "Epoch 15/1000\n",
            "43/43 [==============================] - 10s 110ms/step - loss: 30.6694 - val_loss: 26.2770\n",
            "Epoch 16/1000\n",
            "43/43 [==============================] - 10s 109ms/step - loss: 35.0468 - val_loss: 26.5676\n",
            "Epoch 17/1000\n",
            "43/43 [==============================] - 10s 110ms/step - loss: 34.5735 - val_loss: 26.8745\n",
            "Epoch 18/1000\n",
            "43/43 [==============================] - 10s 108ms/step - loss: 37.3472 - val_loss: 26.8749\n",
            "Epoch 19/1000\n",
            "43/43 [==============================] - 10s 108ms/step - loss: 43.8895 - val_loss: 26.6011\n",
            "Epoch 20/1000\n",
            "43/43 [==============================] - 10s 109ms/step - loss: 36.3862 - val_loss: 27.0880\n",
            "Epoch 21/1000\n",
            "43/43 [==============================] - 10s 110ms/step - loss: 34.9904 - val_loss: 26.9888\n"
          ]
        },
        {
          "data": {
            "text/html": [
              "Waiting for W&B process to finish... <strong style=\"color:green\">(success).</strong>"
            ],
            "text/plain": [
              "<IPython.core.display.HTML object>"
            ]
          },
          "metadata": {},
          "output_type": "display_data"
        },
        {
          "data": {
            "application/vnd.jupyter.widget-view+json": {
              "model_id": "f09a98a0883349cea5951306fd7058e6",
              "version_major": 2,
              "version_minor": 0
            },
            "text/plain": [
              "VBox(children=(Label(value='0.006 MB of 0.017 MB uploaded (0.000 MB deduped)\\r'), FloatProgress(value=0.339424…"
            ]
          },
          "metadata": {},
          "output_type": "display_data"
        },
        {
          "data": {
            "text/html": [
              "<style>\n",
              "    table.wandb td:nth-child(1) { padding: 0 10px; text-align: left ; width: auto;} td:nth-child(2) {text-align: left ; width: 100%}\n",
              "    .wandb-row { display: flex; flex-direction: row; flex-wrap: wrap; justify-content: flex-start; width: 100% }\n",
              "    .wandb-col { display: flex; flex-direction: column; flex-basis: 100%; flex: 1; padding: 10px; }\n",
              "    </style>\n",
              "<div class=\"wandb-row\"><div class=\"wandb-col\"><h3>Run history:</h3><br/><table class=\"wandb\"><tr><td>epoch</td><td>▁▁▂▂▂▃▃▃▄▄▅▅▅▆▆▆▇▇▇██</td></tr><tr><td>loss</td><td>▁▄▅▄▅▆▄█▆▄▅▃▄▃▂▄▃▅▇▄▄</td></tr><tr><td>val_loss</td><td>▃▆▇█▆▃▆▅▃▄▃▁▂▄▄▅▆▆▅▇▇</td></tr></table><br/></div><div class=\"wandb-col\"><h3>Run summary:</h3><br/><table class=\"wandb\"><tr><td>best_epoch</td><td>11</td></tr><tr><td>best_val_loss</td><td>25.50717</td></tr><tr><td>epoch</td><td>20</td></tr><tr><td>loss</td><td>34.99044</td></tr><tr><td>val_loss</td><td>26.98881</td></tr></table><br/></div></div>"
            ],
            "text/plain": [
              "<IPython.core.display.HTML object>"
            ]
          },
          "metadata": {},
          "output_type": "display_data"
        },
        {
          "data": {
            "text/html": [
              " View run <strong style=\"color:#cdcd00\">azure-bush-248</strong> at: <a href='https://wandb.ai/avogadro/Deep%20learning%20for%20option%20pricing%20-%20rolling%20windows/runs/qnqwa61q' target=\"_blank\">https://wandb.ai/avogadro/Deep%20learning%20for%20option%20pricing%20-%20rolling%20windows/runs/qnqwa61q</a><br/>Synced 5 W&B file(s), 1 media file(s), 0 artifact file(s) and 0 other file(s)"
            ],
            "text/plain": [
              "<IPython.core.display.HTML object>"
            ]
          },
          "metadata": {},
          "output_type": "display_data"
        },
        {
          "data": {
            "text/html": [
              "Find logs at: <code>./wandb/run-20230415_160231-qnqwa61q/logs</code>"
            ],
            "text/plain": [
              "<IPython.core.display.HTML object>"
            ]
          },
          "metadata": {},
          "output_type": "display_data"
        },
        {
          "metadata": {
            "tags": null
          },
          "name": "stdout",
          "output_type": "stream",
          "text": [
            "--- Predictions for test_start 2015-05-31 ---\n",
            "MSE: 3546.5415\n",
            "RMSE: 59.552845\n",
            "-------------------------------------------\n",
            "Train shape: (218387, 10, 1), (218387, 4)\n",
            "Val shape: (18120, 10, 1), (18120, 4)\n",
            "Test shape: (36145, 10, 1), (36145, 4)\n",
            "-------------------------------------------\n",
            "Checkpoint_path =  /content/drive/MyDrive/01. Masters Thesis - Shared/05. Checkpoints/04-15_14-59/2015-03-10/\n",
            "Previous checkpoint_path =  /content/drive/MyDrive/01. Masters Thesis - Shared/05. Checkpoints/04-15_14-59/2015-02-24/\n",
            "-------------------------------------------\n"
          ]
        },
        {
          "data": {
            "text/html": [
              "Changes to your `wandb` environment variables will be ignored because your `wandb` session has already started. For more information on how to modify your settings with `wandb.init()` arguments, please refer to <a href='https://wandb.me/wandb-init' target=\"_blank\">the W&B docs</a>."
            ],
            "text/plain": [
              "<IPython.core.display.HTML object>"
            ]
          },
          "metadata": {},
          "output_type": "display_data"
        },
        {
          "data": {
            "text/html": [
              "Tracking run with wandb version 0.14.2"
            ],
            "text/plain": [
              "<IPython.core.display.HTML object>"
            ]
          },
          "metadata": {},
          "output_type": "display_data"
        },
        {
          "data": {
            "text/html": [
              "Run data is saved locally in <code>/content/wandb/run-20230415_160706-r37zrpsl</code>"
            ],
            "text/plain": [
              "<IPython.core.display.HTML object>"
            ]
          },
          "metadata": {},
          "output_type": "display_data"
        },
        {
          "data": {
            "text/html": [
              "Syncing run <strong><a href='https://wandb.ai/avogadro/Deep%20learning%20for%20option%20pricing%20-%20rolling%20windows/runs/r37zrpsl' target=\"_blank\">stilted-aardvark-250</a></strong> to <a href='https://wandb.ai/avogadro/Deep%20learning%20for%20option%20pricing%20-%20rolling%20windows' target=\"_blank\">Weights & Biases</a> (<a href='https://wandb.me/run' target=\"_blank\">docs</a>)<br/>"
            ],
            "text/plain": [
              "<IPython.core.display.HTML object>"
            ]
          },
          "metadata": {},
          "output_type": "display_data"
        },
        {
          "data": {
            "text/html": [
              " View project at <a href='https://wandb.ai/avogadro/Deep%20learning%20for%20option%20pricing%20-%20rolling%20windows' target=\"_blank\">https://wandb.ai/avogadro/Deep%20learning%20for%20option%20pricing%20-%20rolling%20windows</a>"
            ],
            "text/plain": [
              "<IPython.core.display.HTML object>"
            ]
          },
          "metadata": {},
          "output_type": "display_data"
        },
        {
          "data": {
            "text/html": [
              " View run at <a href='https://wandb.ai/avogadro/Deep%20learning%20for%20option%20pricing%20-%20rolling%20windows/runs/r37zrpsl' target=\"_blank\">https://wandb.ai/avogadro/Deep%20learning%20for%20option%20pricing%20-%20rolling%20windows/runs/r37zrpsl</a>"
            ],
            "text/plain": [
              "<IPython.core.display.HTML object>"
            ]
          },
          "metadata": {},
          "output_type": "display_data"
        },
        {
          "metadata": {
            "tags": null
          },
          "name": "stdout",
          "output_type": "stream",
          "text": [
            "Train shape: (172963, 10, 1), (172963, 10, 1)\n",
            "Val shape: (11980, 10, 1), (11980, 10, 1)\n",
            "Epoch 1/1000\n",
            "43/43 [==============================] - 36s 280ms/step - loss: 36.7879 - val_loss: 26.3890\n",
            "Epoch 2/1000\n",
            "43/43 [==============================] - 10s 109ms/step - loss: 29.7247 - val_loss: 26.8942\n",
            "Epoch 3/1000\n",
            "43/43 [==============================] - 10s 108ms/step - loss: 36.8877 - val_loss: 27.4485\n",
            "Epoch 4/1000\n",
            "43/43 [==============================] - 10s 108ms/step - loss: 37.4145 - val_loss: 27.3674\n",
            "Epoch 5/1000\n",
            "43/43 [==============================] - 10s 111ms/step - loss: 40.9027 - val_loss: 27.7811\n",
            "Epoch 6/1000\n",
            "43/43 [==============================] - 10s 107ms/step - loss: 35.1904 - val_loss: 27.2194\n",
            "Epoch 7/1000\n",
            "43/43 [==============================] - 10s 111ms/step - loss: 31.6109 - val_loss: 27.5243\n",
            "Epoch 8/1000\n",
            "43/43 [==============================] - 10s 108ms/step - loss: 36.5410 - val_loss: 28.0600\n",
            "Epoch 9/1000\n",
            "43/43 [==============================] - 10s 110ms/step - loss: 35.8504 - val_loss: 27.0285\n",
            "Epoch 10/1000\n",
            "43/43 [==============================] - 10s 108ms/step - loss: 36.0302 - val_loss: 26.5386\n",
            "Epoch 11/1000\n",
            "43/43 [==============================] - 11s 133ms/step - loss: 42.2551 - val_loss: 25.6960\n",
            "Epoch 12/1000\n",
            "43/43 [==============================] - 10s 110ms/step - loss: 38.1191 - val_loss: 26.4616\n",
            "Epoch 13/1000\n",
            "43/43 [==============================] - 10s 110ms/step - loss: 38.1429 - val_loss: 26.9116\n",
            "Epoch 14/1000\n",
            "43/43 [==============================] - 10s 109ms/step - loss: 38.7483 - val_loss: 27.6008\n",
            "Epoch 15/1000\n",
            "43/43 [==============================] - 10s 109ms/step - loss: 41.1136 - val_loss: 27.9395\n",
            "Epoch 16/1000\n",
            "43/43 [==============================] - 10s 108ms/step - loss: 37.9666 - val_loss: 27.7294\n",
            "Epoch 17/1000\n",
            "43/43 [==============================] - 10s 110ms/step - loss: 38.7618 - val_loss: 28.7663\n",
            "Epoch 18/1000\n",
            "43/43 [==============================] - 10s 111ms/step - loss: 37.3263 - val_loss: 27.7226\n",
            "Epoch 19/1000\n",
            "43/43 [==============================] - 10s 107ms/step - loss: 41.8235 - val_loss: 26.8038\n",
            "Epoch 20/1000\n",
            "43/43 [==============================] - 10s 107ms/step - loss: 36.6681 - val_loss: 26.1095\n",
            "Epoch 21/1000\n",
            "43/43 [==============================] - 10s 107ms/step - loss: 37.6800 - val_loss: 26.5379\n"
          ]
        },
        {
          "data": {
            "text/html": [
              "Waiting for W&B process to finish... <strong style=\"color:green\">(success).</strong>"
            ],
            "text/plain": [
              "<IPython.core.display.HTML object>"
            ]
          },
          "metadata": {},
          "output_type": "display_data"
        },
        {
          "data": {
            "application/vnd.jupyter.widget-view+json": {
              "model_id": "80c8f832627d4baf9808338ae1288d2d",
              "version_major": 2,
              "version_minor": 0
            },
            "text/plain": [
              "VBox(children=(Label(value='0.006 MB of 0.017 MB uploaded (0.000 MB deduped)\\r'), FloatProgress(value=0.339387…"
            ]
          },
          "metadata": {},
          "output_type": "display_data"
        },
        {
          "data": {
            "text/html": [
              "<style>\n",
              "    table.wandb td:nth-child(1) { padding: 0 10px; text-align: left ; width: auto;} td:nth-child(2) {text-align: left ; width: 100%}\n",
              "    .wandb-row { display: flex; flex-direction: row; flex-wrap: wrap; justify-content: flex-start; width: 100% }\n",
              "    .wandb-col { display: flex; flex-direction: column; flex-basis: 100%; flex: 1; padding: 10px; }\n",
              "    </style>\n",
              "<div class=\"wandb-row\"><div class=\"wandb-col\"><h3>Run history:</h3><br/><table class=\"wandb\"><tr><td>epoch</td><td>▁▁▂▂▂▃▃▃▄▄▅▅▅▆▆▆▇▇▇██</td></tr><tr><td>loss</td><td>▅▁▅▅▇▄▂▅▄▅█▆▆▆▇▆▆▅█▅▅</td></tr><tr><td>val_loss</td><td>▃▄▅▅▆▄▅▆▄▃▁▃▄▅▆▆█▆▄▂▃</td></tr></table><br/></div><div class=\"wandb-col\"><h3>Run summary:</h3><br/><table class=\"wandb\"><tr><td>best_epoch</td><td>10</td></tr><tr><td>best_val_loss</td><td>25.69604</td></tr><tr><td>epoch</td><td>20</td></tr><tr><td>loss</td><td>37.67997</td></tr><tr><td>val_loss</td><td>26.53792</td></tr></table><br/></div></div>"
            ],
            "text/plain": [
              "<IPython.core.display.HTML object>"
            ]
          },
          "metadata": {},
          "output_type": "display_data"
        },
        {
          "data": {
            "text/html": [
              " View run <strong style=\"color:#cdcd00\">stilted-aardvark-250</strong> at: <a href='https://wandb.ai/avogadro/Deep%20learning%20for%20option%20pricing%20-%20rolling%20windows/runs/r37zrpsl' target=\"_blank\">https://wandb.ai/avogadro/Deep%20learning%20for%20option%20pricing%20-%20rolling%20windows/runs/r37zrpsl</a><br/>Synced 5 W&B file(s), 1 media file(s), 0 artifact file(s) and 0 other file(s)"
            ],
            "text/plain": [
              "<IPython.core.display.HTML object>"
            ]
          },
          "metadata": {},
          "output_type": "display_data"
        },
        {
          "data": {
            "text/html": [
              "Find logs at: <code>./wandb/run-20230415_160706-r37zrpsl/logs</code>"
            ],
            "text/plain": [
              "<IPython.core.display.HTML object>"
            ]
          },
          "metadata": {},
          "output_type": "display_data"
        },
        {
          "metadata": {
            "tags": null
          },
          "name": "stdout",
          "output_type": "stream",
          "text": [
            "--- Predictions for test_start 2015-06-17 ---\n",
            "MSE: 3564.5037\n",
            "RMSE: 59.703465\n",
            "-------------------------------------------\n",
            "Train shape: (220070, 10, 1), (220070, 4)\n",
            "Val shape: (18184, 10, 1), (18184, 4)\n",
            "Test shape: (31962, 10, 1), (31962, 4)\n",
            "-------------------------------------------\n",
            "Checkpoint_path =  /content/drive/MyDrive/01. Masters Thesis - Shared/05. Checkpoints/04-15_14-59/2015-03-24/\n",
            "Previous checkpoint_path =  /content/drive/MyDrive/01. Masters Thesis - Shared/05. Checkpoints/04-15_14-59/2015-03-10/\n",
            "-------------------------------------------\n"
          ]
        },
        {
          "data": {
            "text/html": [
              "Changes to your `wandb` environment variables will be ignored because your `wandb` session has already started. For more information on how to modify your settings with `wandb.init()` arguments, please refer to <a href='https://wandb.me/wandb-init' target=\"_blank\">the W&B docs</a>."
            ],
            "text/plain": [
              "<IPython.core.display.HTML object>"
            ]
          },
          "metadata": {},
          "output_type": "display_data"
        },
        {
          "data": {
            "text/html": [
              "Tracking run with wandb version 0.14.2"
            ],
            "text/plain": [
              "<IPython.core.display.HTML object>"
            ]
          },
          "metadata": {},
          "output_type": "display_data"
        },
        {
          "data": {
            "text/html": [
              "Run data is saved locally in <code>/content/wandb/run-20230415_161136-wne9h80k</code>"
            ],
            "text/plain": [
              "<IPython.core.display.HTML object>"
            ]
          },
          "metadata": {},
          "output_type": "display_data"
        },
        {
          "data": {
            "text/html": [
              "Syncing run <strong><a href='https://wandb.ai/avogadro/Deep%20learning%20for%20option%20pricing%20-%20rolling%20windows/runs/wne9h80k' target=\"_blank\">curious-mountain-252</a></strong> to <a href='https://wandb.ai/avogadro/Deep%20learning%20for%20option%20pricing%20-%20rolling%20windows' target=\"_blank\">Weights & Biases</a> (<a href='https://wandb.me/run' target=\"_blank\">docs</a>)<br/>"
            ],
            "text/plain": [
              "<IPython.core.display.HTML object>"
            ]
          },
          "metadata": {},
          "output_type": "display_data"
        },
        {
          "data": {
            "text/html": [
              " View project at <a href='https://wandb.ai/avogadro/Deep%20learning%20for%20option%20pricing%20-%20rolling%20windows' target=\"_blank\">https://wandb.ai/avogadro/Deep%20learning%20for%20option%20pricing%20-%20rolling%20windows</a>"
            ],
            "text/plain": [
              "<IPython.core.display.HTML object>"
            ]
          },
          "metadata": {},
          "output_type": "display_data"
        },
        {
          "data": {
            "text/html": [
              " View run at <a href='https://wandb.ai/avogadro/Deep%20learning%20for%20option%20pricing%20-%20rolling%20windows/runs/wne9h80k' target=\"_blank\">https://wandb.ai/avogadro/Deep%20learning%20for%20option%20pricing%20-%20rolling%20windows/runs/wne9h80k</a>"
            ],
            "text/plain": [
              "<IPython.core.display.HTML object>"
            ]
          },
          "metadata": {},
          "output_type": "display_data"
        },
        {
          "metadata": {
            "tags": null
          },
          "name": "stdout",
          "output_type": "stream",
          "text": [
            "Train shape: (172963, 10, 1), (172963, 10, 1)\n",
            "Val shape: (11980, 10, 1), (11980, 10, 1)\n",
            "Epoch 1/1000\n",
            "43/43 [==============================] - 37s 282ms/step - loss: 29.3577 - val_loss: 25.8684\n",
            "Epoch 2/1000\n",
            "43/43 [==============================] - 10s 109ms/step - loss: 36.8124 - val_loss: 26.8137\n",
            "Epoch 3/1000\n",
            "43/43 [==============================] - 10s 107ms/step - loss: 36.0586 - val_loss: 26.4510\n",
            "Epoch 4/1000\n",
            "43/43 [==============================] - 10s 108ms/step - loss: 43.7822 - val_loss: 27.0485\n",
            "Epoch 5/1000\n",
            "43/43 [==============================] - 10s 111ms/step - loss: 43.9218 - val_loss: 27.3035\n",
            "Epoch 6/1000\n",
            "43/43 [==============================] - 10s 107ms/step - loss: 49.5912 - val_loss: 27.0335\n",
            "Epoch 7/1000\n",
            "43/43 [==============================] - 10s 108ms/step - loss: 41.1099 - val_loss: 26.6624\n",
            "Epoch 8/1000\n",
            "43/43 [==============================] - 10s 108ms/step - loss: 43.3520 - val_loss: 26.6508\n",
            "Epoch 9/1000\n",
            "43/43 [==============================] - 10s 108ms/step - loss: 29.5382 - val_loss: 27.1797\n",
            "Epoch 10/1000\n",
            "43/43 [==============================] - 10s 109ms/step - loss: 35.8846 - val_loss: 27.0082\n",
            "Epoch 11/1000\n",
            "43/43 [==============================] - 10s 108ms/step - loss: 39.7904 - val_loss: 27.1828\n",
            "Epoch 12/1000\n",
            "43/43 [==============================] - 10s 108ms/step - loss: 37.0121 - val_loss: 26.8302\n",
            "Epoch 13/1000\n",
            "43/43 [==============================] - 11s 133ms/step - loss: 38.0129 - val_loss: 25.7343\n",
            "Epoch 14/1000\n",
            "43/43 [==============================] - 10s 107ms/step - loss: 37.2489 - val_loss: 26.0579\n",
            "Epoch 15/1000\n",
            "43/43 [==============================] - 10s 108ms/step - loss: 37.4647 - val_loss: 27.1768\n",
            "Epoch 16/1000\n",
            "43/43 [==============================] - 10s 107ms/step - loss: 38.0744 - val_loss: 26.9226\n",
            "Epoch 17/1000\n",
            "43/43 [==============================] - 10s 111ms/step - loss: 39.0432 - val_loss: 26.3288\n",
            "Epoch 18/1000\n",
            "43/43 [==============================] - 10s 109ms/step - loss: 42.7639 - val_loss: 26.4802\n",
            "Epoch 19/1000\n",
            "43/43 [==============================] - 10s 106ms/step - loss: 37.9621 - val_loss: 26.4994\n",
            "Epoch 20/1000\n",
            "43/43 [==============================] - 10s 109ms/step - loss: 40.2748 - val_loss: 26.0366\n",
            "Epoch 21/1000\n",
            "43/43 [==============================] - 10s 109ms/step - loss: 38.6533 - val_loss: 26.4245\n"
          ]
        },
        {
          "data": {
            "text/html": [
              "Waiting for W&B process to finish... <strong style=\"color:green\">(success).</strong>"
            ],
            "text/plain": [
              "<IPython.core.display.HTML object>"
            ]
          },
          "metadata": {},
          "output_type": "display_data"
        },
        {
          "data": {
            "application/vnd.jupyter.widget-view+json": {
              "model_id": "b54a91eb4e0b42688c57fcb477dca616",
              "version_major": 2,
              "version_minor": 0
            },
            "text/plain": [
              "VBox(children=(Label(value='0.006 MB of 0.006 MB uploaded (0.000 MB deduped)\\r'), FloatProgress(value=1.0, max…"
            ]
          },
          "metadata": {},
          "output_type": "display_data"
        },
        {
          "data": {
            "text/html": [
              "<style>\n",
              "    table.wandb td:nth-child(1) { padding: 0 10px; text-align: left ; width: auto;} td:nth-child(2) {text-align: left ; width: 100%}\n",
              "    .wandb-row { display: flex; flex-direction: row; flex-wrap: wrap; justify-content: flex-start; width: 100% }\n",
              "    .wandb-col { display: flex; flex-direction: column; flex-basis: 100%; flex: 1; padding: 10px; }\n",
              "    </style>\n",
              "<div class=\"wandb-row\"><div class=\"wandb-col\"><h3>Run history:</h3><br/><table class=\"wandb\"><tr><td>epoch</td><td>▁▁▂▂▂▃▃▃▄▄▅▅▅▆▆▆▇▇▇██</td></tr><tr><td>loss</td><td>▁▄▃▆▆█▅▆▁▃▅▄▄▄▄▄▄▆▄▅▄</td></tr><tr><td>val_loss</td><td>▂▆▄▇█▇▅▅▇▇▇▆▁▂▇▆▄▄▄▂▄</td></tr></table><br/></div><div class=\"wandb-col\"><h3>Run summary:</h3><br/><table class=\"wandb\"><tr><td>best_epoch</td><td>12</td></tr><tr><td>best_val_loss</td><td>25.73435</td></tr><tr><td>epoch</td><td>20</td></tr><tr><td>loss</td><td>38.65327</td></tr><tr><td>val_loss</td><td>26.42446</td></tr></table><br/></div></div>"
            ],
            "text/plain": [
              "<IPython.core.display.HTML object>"
            ]
          },
          "metadata": {},
          "output_type": "display_data"
        },
        {
          "data": {
            "text/html": [
              " View run <strong style=\"color:#cdcd00\">curious-mountain-252</strong> at: <a href='https://wandb.ai/avogadro/Deep%20learning%20for%20option%20pricing%20-%20rolling%20windows/runs/wne9h80k' target=\"_blank\">https://wandb.ai/avogadro/Deep%20learning%20for%20option%20pricing%20-%20rolling%20windows/runs/wne9h80k</a><br/>Synced 5 W&B file(s), 1 media file(s), 0 artifact file(s) and 0 other file(s)"
            ],
            "text/plain": [
              "<IPython.core.display.HTML object>"
            ]
          },
          "metadata": {},
          "output_type": "display_data"
        },
        {
          "data": {
            "text/html": [
              "Find logs at: <code>./wandb/run-20230415_161136-wne9h80k/logs</code>"
            ],
            "text/plain": [
              "<IPython.core.display.HTML object>"
            ]
          },
          "metadata": {},
          "output_type": "display_data"
        },
        {
          "metadata": {
            "tags": null
          },
          "name": "stdout",
          "output_type": "stream",
          "text": [
            "--- Predictions for test_start 2015-07-01 ---\n",
            "MSE: 11339.109\n",
            "RMSE: 106.48525\n",
            "-------------------------------------------\n",
            "Train shape: (218024, 10, 1), (218024, 4)\n",
            "Val shape: (17865, 10, 1), (17865, 4)\n",
            "Test shape: (35196, 10, 1), (35196, 4)\n",
            "-------------------------------------------\n",
            "Checkpoint_path =  /content/drive/MyDrive/01. Masters Thesis - Shared/05. Checkpoints/04-15_14-59/2015-04-07/\n",
            "Previous checkpoint_path =  /content/drive/MyDrive/01. Masters Thesis - Shared/05. Checkpoints/04-15_14-59/2015-03-24/\n",
            "-------------------------------------------\n"
          ]
        },
        {
          "data": {
            "text/html": [
              "Changes to your `wandb` environment variables will be ignored because your `wandb` session has already started. For more information on how to modify your settings with `wandb.init()` arguments, please refer to <a href='https://wandb.me/wandb-init' target=\"_blank\">the W&B docs</a>."
            ],
            "text/plain": [
              "<IPython.core.display.HTML object>"
            ]
          },
          "metadata": {},
          "output_type": "display_data"
        },
        {
          "data": {
            "text/html": [
              "Tracking run with wandb version 0.14.2"
            ],
            "text/plain": [
              "<IPython.core.display.HTML object>"
            ]
          },
          "metadata": {},
          "output_type": "display_data"
        },
        {
          "data": {
            "text/html": [
              "Run data is saved locally in <code>/content/wandb/run-20230415_161607-etbugtg4</code>"
            ],
            "text/plain": [
              "<IPython.core.display.HTML object>"
            ]
          },
          "metadata": {},
          "output_type": "display_data"
        },
        {
          "data": {
            "text/html": [
              "Syncing run <strong><a href='https://wandb.ai/avogadro/Deep%20learning%20for%20option%20pricing%20-%20rolling%20windows/runs/etbugtg4' target=\"_blank\">lunar-darkness-254</a></strong> to <a href='https://wandb.ai/avogadro/Deep%20learning%20for%20option%20pricing%20-%20rolling%20windows' target=\"_blank\">Weights & Biases</a> (<a href='https://wandb.me/run' target=\"_blank\">docs</a>)<br/>"
            ],
            "text/plain": [
              "<IPython.core.display.HTML object>"
            ]
          },
          "metadata": {},
          "output_type": "display_data"
        },
        {
          "data": {
            "text/html": [
              " View project at <a href='https://wandb.ai/avogadro/Deep%20learning%20for%20option%20pricing%20-%20rolling%20windows' target=\"_blank\">https://wandb.ai/avogadro/Deep%20learning%20for%20option%20pricing%20-%20rolling%20windows</a>"
            ],
            "text/plain": [
              "<IPython.core.display.HTML object>"
            ]
          },
          "metadata": {},
          "output_type": "display_data"
        },
        {
          "data": {
            "text/html": [
              " View run at <a href='https://wandb.ai/avogadro/Deep%20learning%20for%20option%20pricing%20-%20rolling%20windows/runs/etbugtg4' target=\"_blank\">https://wandb.ai/avogadro/Deep%20learning%20for%20option%20pricing%20-%20rolling%20windows/runs/etbugtg4</a>"
            ],
            "text/plain": [
              "<IPython.core.display.HTML object>"
            ]
          },
          "metadata": {},
          "output_type": "display_data"
        },
        {
          "metadata": {
            "tags": null
          },
          "name": "stdout",
          "output_type": "stream",
          "text": [
            "Train shape: (172963, 10, 1), (172963, 10, 1)\n",
            "Val shape: (11980, 10, 1), (11980, 10, 1)\n",
            "Epoch 1/1000\n",
            "43/43 [==============================] - 37s 280ms/step - loss: 42.2070 - val_loss: 25.8942\n",
            "Epoch 2/1000\n",
            "43/43 [==============================] - 10s 108ms/step - loss: 33.8460 - val_loss: 26.1896\n",
            "Epoch 3/1000\n",
            "43/43 [==============================] - 11s 132ms/step - loss: 42.3599 - val_loss: 25.3500\n",
            "Epoch 4/1000\n",
            "43/43 [==============================] - 10s 107ms/step - loss: 30.6185 - val_loss: 26.1063\n",
            "Epoch 5/1000\n",
            "43/43 [==============================] - 10s 110ms/step - loss: 36.8188 - val_loss: 26.6698\n",
            "Epoch 6/1000\n",
            "43/43 [==============================] - 10s 108ms/step - loss: 45.3138 - val_loss: 26.0500\n",
            "Epoch 7/1000\n",
            "43/43 [==============================] - 10s 106ms/step - loss: 38.6247 - val_loss: 25.9938\n",
            "Epoch 8/1000\n",
            "43/43 [==============================] - 10s 107ms/step - loss: 30.9430 - val_loss: 25.8645\n",
            "Epoch 9/1000\n",
            "43/43 [==============================] - 10s 108ms/step - loss: 33.3003 - val_loss: 26.1784\n",
            "Epoch 10/1000\n",
            "43/43 [==============================] - 10s 109ms/step - loss: 31.2133 - val_loss: 25.8244\n",
            "Epoch 11/1000\n",
            "43/43 [==============================] - 10s 109ms/step - loss: 38.7031 - val_loss: 26.1221\n",
            "Epoch 12/1000\n",
            "43/43 [==============================] - 10s 109ms/step - loss: 33.5498 - val_loss: 26.2790\n",
            "Epoch 13/1000\n",
            "43/43 [==============================] - 10s 109ms/step - loss: 39.0503 - val_loss: 26.2962\n",
            "Epoch 14/1000\n",
            "43/43 [==============================] - 10s 108ms/step - loss: 33.8004 - val_loss: 25.8893\n",
            "Epoch 15/1000\n",
            "43/43 [==============================] - 10s 106ms/step - loss: 40.1358 - val_loss: 25.7332\n",
            "Epoch 16/1000\n",
            "43/43 [==============================] - 10s 106ms/step - loss: 40.2407 - val_loss: 26.3911\n",
            "Epoch 17/1000\n",
            "43/43 [==============================] - 10s 109ms/step - loss: 35.5888 - val_loss: 26.9036\n",
            "Epoch 18/1000\n",
            "43/43 [==============================] - 9s 107ms/step - loss: 35.0809 - val_loss: 27.4197\n",
            "Epoch 19/1000\n",
            "43/43 [==============================] - 10s 106ms/step - loss: 44.8427 - val_loss: 27.4310\n",
            "Epoch 20/1000\n",
            "43/43 [==============================] - 10s 110ms/step - loss: 36.6193 - val_loss: 26.4458\n",
            "Epoch 21/1000\n",
            "43/43 [==============================] - 10s 109ms/step - loss: 36.8066 - val_loss: 26.7397\n"
          ]
        },
        {
          "data": {
            "text/html": [
              "Waiting for W&B process to finish... <strong style=\"color:green\">(success).</strong>"
            ],
            "text/plain": [
              "<IPython.core.display.HTML object>"
            ]
          },
          "metadata": {},
          "output_type": "display_data"
        },
        {
          "data": {
            "application/vnd.jupyter.widget-view+json": {
              "model_id": "fce297ac5fb8431bb639dbede5eac022",
              "version_major": 2,
              "version_minor": 0
            },
            "text/plain": [
              "VBox(children=(Label(value='0.006 MB of 0.006 MB uploaded (0.000 MB deduped)\\r'), FloatProgress(value=1.0, max…"
            ]
          },
          "metadata": {},
          "output_type": "display_data"
        },
        {
          "data": {
            "text/html": [
              "<style>\n",
              "    table.wandb td:nth-child(1) { padding: 0 10px; text-align: left ; width: auto;} td:nth-child(2) {text-align: left ; width: 100%}\n",
              "    .wandb-row { display: flex; flex-direction: row; flex-wrap: wrap; justify-content: flex-start; width: 100% }\n",
              "    .wandb-col { display: flex; flex-direction: column; flex-basis: 100%; flex: 1; padding: 10px; }\n",
              "    </style>\n",
              "<div class=\"wandb-row\"><div class=\"wandb-col\"><h3>Run history:</h3><br/><table class=\"wandb\"><tr><td>epoch</td><td>▁▁▂▂▂▃▃▃▄▄▅▅▅▆▆▆▇▇▇██</td></tr><tr><td>loss</td><td>▇▃▇▁▄█▅▁▂▁▅▂▅▃▆▆▃▃█▄▄</td></tr><tr><td>val_loss</td><td>▃▄▁▄▅▃▃▃▄▃▄▄▄▃▂▅▆██▅▆</td></tr></table><br/></div><div class=\"wandb-col\"><h3>Run summary:</h3><br/><table class=\"wandb\"><tr><td>best_epoch</td><td>2</td></tr><tr><td>best_val_loss</td><td>25.34997</td></tr><tr><td>epoch</td><td>20</td></tr><tr><td>loss</td><td>36.80664</td></tr><tr><td>val_loss</td><td>26.73967</td></tr></table><br/></div></div>"
            ],
            "text/plain": [
              "<IPython.core.display.HTML object>"
            ]
          },
          "metadata": {},
          "output_type": "display_data"
        },
        {
          "data": {
            "text/html": [
              " View run <strong style=\"color:#cdcd00\">lunar-darkness-254</strong> at: <a href='https://wandb.ai/avogadro/Deep%20learning%20for%20option%20pricing%20-%20rolling%20windows/runs/etbugtg4' target=\"_blank\">https://wandb.ai/avogadro/Deep%20learning%20for%20option%20pricing%20-%20rolling%20windows/runs/etbugtg4</a><br/>Synced 5 W&B file(s), 1 media file(s), 0 artifact file(s) and 0 other file(s)"
            ],
            "text/plain": [
              "<IPython.core.display.HTML object>"
            ]
          },
          "metadata": {},
          "output_type": "display_data"
        },
        {
          "data": {
            "text/html": [
              "Find logs at: <code>./wandb/run-20230415_161607-etbugtg4/logs</code>"
            ],
            "text/plain": [
              "<IPython.core.display.HTML object>"
            ]
          },
          "metadata": {},
          "output_type": "display_data"
        },
        {
          "metadata": {
            "tags": null
          },
          "name": "stdout",
          "output_type": "stream",
          "text": [
            "--- Predictions for test_start 2015-07-14 ---\n",
            "MSE: 3450.5308\n",
            "RMSE: 58.74122\n",
            "-------------------------------------------\n",
            "Train shape: (219824, 10, 1), (219824, 4)\n",
            "Val shape: (17669, 10, 1), (17669, 4)\n",
            "Test shape: (37061, 10, 1), (37061, 4)\n",
            "-------------------------------------------\n",
            "Checkpoint_path =  /content/drive/MyDrive/01. Masters Thesis - Shared/05. Checkpoints/04-15_14-59/2015-04-21/\n",
            "Previous checkpoint_path =  /content/drive/MyDrive/01. Masters Thesis - Shared/05. Checkpoints/04-15_14-59/2015-04-07/\n",
            "-------------------------------------------\n"
          ]
        },
        {
          "data": {
            "text/html": [
              "Changes to your `wandb` environment variables will be ignored because your `wandb` session has already started. For more information on how to modify your settings with `wandb.init()` arguments, please refer to <a href='https://wandb.me/wandb-init' target=\"_blank\">the W&B docs</a>."
            ],
            "text/plain": [
              "<IPython.core.display.HTML object>"
            ]
          },
          "metadata": {},
          "output_type": "display_data"
        },
        {
          "data": {
            "text/html": [
              "Tracking run with wandb version 0.14.2"
            ],
            "text/plain": [
              "<IPython.core.display.HTML object>"
            ]
          },
          "metadata": {},
          "output_type": "display_data"
        },
        {
          "data": {
            "text/html": [
              "Run data is saved locally in <code>/content/wandb/run-20230415_162037-u2vzjewr</code>"
            ],
            "text/plain": [
              "<IPython.core.display.HTML object>"
            ]
          },
          "metadata": {},
          "output_type": "display_data"
        },
        {
          "data": {
            "text/html": [
              "Syncing run <strong><a href='https://wandb.ai/avogadro/Deep%20learning%20for%20option%20pricing%20-%20rolling%20windows/runs/u2vzjewr' target=\"_blank\">cerulean-vortex-257</a></strong> to <a href='https://wandb.ai/avogadro/Deep%20learning%20for%20option%20pricing%20-%20rolling%20windows' target=\"_blank\">Weights & Biases</a> (<a href='https://wandb.me/run' target=\"_blank\">docs</a>)<br/>"
            ],
            "text/plain": [
              "<IPython.core.display.HTML object>"
            ]
          },
          "metadata": {},
          "output_type": "display_data"
        },
        {
          "data": {
            "text/html": [
              " View project at <a href='https://wandb.ai/avogadro/Deep%20learning%20for%20option%20pricing%20-%20rolling%20windows' target=\"_blank\">https://wandb.ai/avogadro/Deep%20learning%20for%20option%20pricing%20-%20rolling%20windows</a>"
            ],
            "text/plain": [
              "<IPython.core.display.HTML object>"
            ]
          },
          "metadata": {},
          "output_type": "display_data"
        },
        {
          "data": {
            "text/html": [
              " View run at <a href='https://wandb.ai/avogadro/Deep%20learning%20for%20option%20pricing%20-%20rolling%20windows/runs/u2vzjewr' target=\"_blank\">https://wandb.ai/avogadro/Deep%20learning%20for%20option%20pricing%20-%20rolling%20windows/runs/u2vzjewr</a>"
            ],
            "text/plain": [
              "<IPython.core.display.HTML object>"
            ]
          },
          "metadata": {},
          "output_type": "display_data"
        },
        {
          "metadata": {
            "tags": null
          },
          "name": "stdout",
          "output_type": "stream",
          "text": [
            "Train shape: (172963, 10, 1), (172963, 10, 1)\n",
            "Val shape: (11980, 10, 1), (11980, 10, 1)\n",
            "Epoch 1/1000\n",
            "43/43 [==============================] - 36s 276ms/step - loss: 37.4011 - val_loss: 25.9947\n",
            "Epoch 2/1000\n",
            "43/43 [==============================] - 10s 107ms/step - loss: 37.2041 - val_loss: 26.0262\n",
            "Epoch 3/1000\n",
            "43/43 [==============================] - 11s 131ms/step - loss: 33.8213 - val_loss: 25.5733\n",
            "Epoch 4/1000\n",
            "43/43 [==============================] - 10s 112ms/step - loss: 35.2263 - val_loss: 25.3604\n",
            "Epoch 5/1000\n",
            "43/43 [==============================] - 10s 110ms/step - loss: 37.0020 - val_loss: 26.2410\n",
            "Epoch 6/1000\n",
            "43/43 [==============================] - 9s 105ms/step - loss: 29.5555 - val_loss: 26.7739\n",
            "Epoch 7/1000\n",
            "43/43 [==============================] - 9s 106ms/step - loss: 36.6728 - val_loss: 27.5121\n",
            "Epoch 8/1000\n",
            "43/43 [==============================] - 10s 106ms/step - loss: 46.3743 - val_loss: 27.2493\n",
            "Epoch 9/1000\n",
            "43/43 [==============================] - 9s 107ms/step - loss: 32.9834 - val_loss: 27.8036\n",
            "Epoch 10/1000\n",
            "43/43 [==============================] - 9s 105ms/step - loss: 36.3027 - val_loss: 26.6681\n",
            "Epoch 11/1000\n",
            "43/43 [==============================] - 10s 106ms/step - loss: 29.7671 - val_loss: 26.9039\n",
            "Epoch 12/1000\n",
            "43/43 [==============================] - 10s 108ms/step - loss: 40.1611 - val_loss: 27.1093\n",
            "Epoch 13/1000\n",
            "43/43 [==============================] - 9s 106ms/step - loss: 41.6509 - val_loss: 27.0030\n",
            "Epoch 14/1000\n",
            "43/43 [==============================] - 10s 107ms/step - loss: 47.4241 - val_loss: 26.0107\n",
            "Epoch 15/1000\n",
            "43/43 [==============================] - 10s 105ms/step - loss: 37.1967 - val_loss: 26.4097\n",
            "Epoch 16/1000\n",
            "43/43 [==============================] - 9s 107ms/step - loss: 37.8853 - val_loss: 26.6209\n",
            "Epoch 17/1000\n",
            "43/43 [==============================] - 9s 107ms/step - loss: 33.0308 - val_loss: 27.3075\n",
            "Epoch 18/1000\n",
            "43/43 [==============================] - 10s 106ms/step - loss: 31.0150 - val_loss: 27.0437\n",
            "Epoch 19/1000\n",
            "43/43 [==============================] - 10s 106ms/step - loss: 35.1305 - val_loss: 27.3203\n",
            "Epoch 20/1000\n",
            "43/43 [==============================] - 10s 108ms/step - loss: 33.3997 - val_loss: 26.7004\n",
            "Epoch 21/1000\n",
            "43/43 [==============================] - 10s 108ms/step - loss: 32.3484 - val_loss: 27.0124\n"
          ]
        },
        {
          "data": {
            "text/html": [
              "Waiting for W&B process to finish... <strong style=\"color:green\">(success).</strong>"
            ],
            "text/plain": [
              "<IPython.core.display.HTML object>"
            ]
          },
          "metadata": {},
          "output_type": "display_data"
        },
        {
          "data": {
            "text/html": [
              "<style>\n",
              "    table.wandb td:nth-child(1) { padding: 0 10px; text-align: left ; width: auto;} td:nth-child(2) {text-align: left ; width: 100%}\n",
              "    .wandb-row { display: flex; flex-direction: row; flex-wrap: wrap; justify-content: flex-start; width: 100% }\n",
              "    .wandb-col { display: flex; flex-direction: column; flex-basis: 100%; flex: 1; padding: 10px; }\n",
              "    </style>\n",
              "<div class=\"wandb-row\"><div class=\"wandb-col\"><h3>Run history:</h3><br/><table class=\"wandb\"><tr><td>epoch</td><td>▁▁▂▂▂▃▃▃▄▄▅▅▅▆▆▆▇▇▇██</td></tr><tr><td>loss</td><td>▄▄▃▃▄▁▄█▂▄▁▅▆█▄▄▂▂▃▃▂</td></tr><tr><td>val_loss</td><td>▃▃▂▁▄▅▇▆█▅▅▆▆▃▄▅▇▆▇▅▆</td></tr></table><br/></div><div class=\"wandb-col\"><h3>Run summary:</h3><br/><table class=\"wandb\"><tr><td>best_epoch</td><td>3</td></tr><tr><td>best_val_loss</td><td>25.36043</td></tr><tr><td>epoch</td><td>20</td></tr><tr><td>loss</td><td>32.34836</td></tr><tr><td>val_loss</td><td>27.01236</td></tr></table><br/></div></div>"
            ],
            "text/plain": [
              "<IPython.core.display.HTML object>"
            ]
          },
          "metadata": {},
          "output_type": "display_data"
        },
        {
          "data": {
            "text/html": [
              " View run <strong style=\"color:#cdcd00\">cerulean-vortex-257</strong> at: <a href='https://wandb.ai/avogadro/Deep%20learning%20for%20option%20pricing%20-%20rolling%20windows/runs/u2vzjewr' target=\"_blank\">https://wandb.ai/avogadro/Deep%20learning%20for%20option%20pricing%20-%20rolling%20windows/runs/u2vzjewr</a><br/>Synced 5 W&B file(s), 1 media file(s), 0 artifact file(s) and 0 other file(s)"
            ],
            "text/plain": [
              "<IPython.core.display.HTML object>"
            ]
          },
          "metadata": {},
          "output_type": "display_data"
        },
        {
          "data": {
            "text/html": [
              "Find logs at: <code>./wandb/run-20230415_162037-u2vzjewr/logs</code>"
            ],
            "text/plain": [
              "<IPython.core.display.HTML object>"
            ]
          },
          "metadata": {},
          "output_type": "display_data"
        },
        {
          "metadata": {
            "tags": null
          },
          "name": "stdout",
          "output_type": "stream",
          "text": [
            "--- Predictions for test_start 2015-07-28 ---\n",
            "MSE: 3355.2058\n",
            "RMSE: 57.924137\n",
            "-------------------------------------------\n",
            "Train shape: (225121, 10, 1), (225121, 4)\n",
            "Val shape: (18971, 10, 1), (18971, 4)\n",
            "Test shape: (35799, 10, 1), (35799, 4)\n",
            "-------------------------------------------\n",
            "Checkpoint_path =  /content/drive/MyDrive/01. Masters Thesis - Shared/05. Checkpoints/04-15_14-59/2015-05-05/\n",
            "Previous checkpoint_path =  /content/drive/MyDrive/01. Masters Thesis - Shared/05. Checkpoints/04-15_14-59/2015-04-21/\n",
            "-------------------------------------------\n"
          ]
        },
        {
          "data": {
            "text/html": [
              "Changes to your `wandb` environment variables will be ignored because your `wandb` session has already started. For more information on how to modify your settings with `wandb.init()` arguments, please refer to <a href='https://wandb.me/wandb-init' target=\"_blank\">the W&B docs</a>."
            ],
            "text/plain": [
              "<IPython.core.display.HTML object>"
            ]
          },
          "metadata": {},
          "output_type": "display_data"
        },
        {
          "data": {
            "text/html": [
              "Tracking run with wandb version 0.14.2"
            ],
            "text/plain": [
              "<IPython.core.display.HTML object>"
            ]
          },
          "metadata": {},
          "output_type": "display_data"
        },
        {
          "data": {
            "text/html": [
              "Run data is saved locally in <code>/content/wandb/run-20230415_162503-bq6d7ph7</code>"
            ],
            "text/plain": [
              "<IPython.core.display.HTML object>"
            ]
          },
          "metadata": {},
          "output_type": "display_data"
        },
        {
          "data": {
            "text/html": [
              "Syncing run <strong><a href='https://wandb.ai/avogadro/Deep%20learning%20for%20option%20pricing%20-%20rolling%20windows/runs/bq6d7ph7' target=\"_blank\">earnest-leaf-259</a></strong> to <a href='https://wandb.ai/avogadro/Deep%20learning%20for%20option%20pricing%20-%20rolling%20windows' target=\"_blank\">Weights & Biases</a> (<a href='https://wandb.me/run' target=\"_blank\">docs</a>)<br/>"
            ],
            "text/plain": [
              "<IPython.core.display.HTML object>"
            ]
          },
          "metadata": {},
          "output_type": "display_data"
        },
        {
          "data": {
            "text/html": [
              " View project at <a href='https://wandb.ai/avogadro/Deep%20learning%20for%20option%20pricing%20-%20rolling%20windows' target=\"_blank\">https://wandb.ai/avogadro/Deep%20learning%20for%20option%20pricing%20-%20rolling%20windows</a>"
            ],
            "text/plain": [
              "<IPython.core.display.HTML object>"
            ]
          },
          "metadata": {},
          "output_type": "display_data"
        },
        {
          "data": {
            "text/html": [
              " View run at <a href='https://wandb.ai/avogadro/Deep%20learning%20for%20option%20pricing%20-%20rolling%20windows/runs/bq6d7ph7' target=\"_blank\">https://wandb.ai/avogadro/Deep%20learning%20for%20option%20pricing%20-%20rolling%20windows/runs/bq6d7ph7</a>"
            ],
            "text/plain": [
              "<IPython.core.display.HTML object>"
            ]
          },
          "metadata": {},
          "output_type": "display_data"
        },
        {
          "metadata": {
            "tags": null
          },
          "name": "stdout",
          "output_type": "stream",
          "text": [
            "Train shape: (172963, 10, 1), (172963, 10, 1)\n",
            "Val shape: (11980, 10, 1), (11980, 10, 1)\n",
            "Epoch 1/1000\n",
            "43/43 [==============================] - 36s 274ms/step - loss: 38.2444 - val_loss: 25.7288\n",
            "Epoch 2/1000\n",
            "43/43 [==============================] - 10s 108ms/step - loss: 30.9415 - val_loss: 26.0452\n",
            "Epoch 3/1000\n",
            "43/43 [==============================] - 10s 107ms/step - loss: 39.8378 - val_loss: 26.4343\n",
            "Epoch 4/1000\n",
            "43/43 [==============================] - 10s 108ms/step - loss: 40.8670 - val_loss: 26.3987\n",
            "Epoch 5/1000\n",
            "43/43 [==============================] - 9s 106ms/step - loss: 32.4532 - val_loss: 26.8250\n",
            "Epoch 6/1000\n",
            "43/43 [==============================] - 10s 108ms/step - loss: 43.7433 - val_loss: 26.9126\n",
            "Epoch 7/1000\n",
            "43/43 [==============================] - 9s 106ms/step - loss: 32.9913 - val_loss: 26.9086\n",
            "Epoch 8/1000\n",
            "43/43 [==============================] - 9s 107ms/step - loss: 33.1873 - val_loss: 26.8386\n",
            "Epoch 9/1000\n",
            "43/43 [==============================] - 10s 106ms/step - loss: 37.6074 - val_loss: 27.4931\n",
            "Epoch 10/1000\n",
            "43/43 [==============================] - 10s 105ms/step - loss: 30.4320 - val_loss: 26.8505\n",
            "Epoch 11/1000\n",
            "43/43 [==============================] - 10s 109ms/step - loss: 41.9828 - val_loss: 26.7162\n",
            "Epoch 12/1000\n",
            "43/43 [==============================] - 9s 106ms/step - loss: 32.4613 - val_loss: 26.7245\n",
            "Epoch 13/1000\n",
            "43/43 [==============================] - 10s 106ms/step - loss: 37.6553 - val_loss: 26.4466\n",
            "Epoch 14/1000\n",
            "43/43 [==============================] - 10s 106ms/step - loss: 29.8463 - val_loss: 26.0626\n",
            "Epoch 15/1000\n",
            "43/43 [==============================] - 10s 108ms/step - loss: 34.9846 - val_loss: 26.3625\n",
            "Epoch 16/1000\n",
            "43/43 [==============================] - 9s 106ms/step - loss: 40.9995 - val_loss: 26.7672\n",
            "Epoch 17/1000\n",
            "43/43 [==============================] - 9s 106ms/step - loss: 31.6266 - val_loss: 26.8097\n",
            "Epoch 18/1000\n",
            "43/43 [==============================] - 9s 105ms/step - loss: 44.4034 - val_loss: 26.1185\n",
            "Epoch 19/1000\n",
            "43/43 [==============================] - 9s 107ms/step - loss: 40.7754 - val_loss: 26.1461\n",
            "Epoch 20/1000\n",
            "43/43 [==============================] - 9s 105ms/step - loss: 40.2770 - val_loss: 26.5581\n",
            "Epoch 21/1000\n",
            "43/43 [==============================] - 10s 129ms/step - loss: 32.9748 - val_loss: 25.6288\n"
          ]
        },
        {
          "data": {
            "text/html": [
              "Waiting for W&B process to finish... <strong style=\"color:green\">(success).</strong>"
            ],
            "text/plain": [
              "<IPython.core.display.HTML object>"
            ]
          },
          "metadata": {},
          "output_type": "display_data"
        },
        {
          "data": {
            "application/vnd.jupyter.widget-view+json": {
              "model_id": "0a88a1e2023848cf980deba29370e57d",
              "version_major": 2,
              "version_minor": 0
            },
            "text/plain": [
              "VBox(children=(Label(value='0.006 MB of 0.017 MB uploaded (0.000 MB deduped)\\r'), FloatProgress(value=0.339638…"
            ]
          },
          "metadata": {},
          "output_type": "display_data"
        },
        {
          "data": {
            "text/html": [
              "<style>\n",
              "    table.wandb td:nth-child(1) { padding: 0 10px; text-align: left ; width: auto;} td:nth-child(2) {text-align: left ; width: 100%}\n",
              "    .wandb-row { display: flex; flex-direction: row; flex-wrap: wrap; justify-content: flex-start; width: 100% }\n",
              "    .wandb-col { display: flex; flex-direction: column; flex-basis: 100%; flex: 1; padding: 10px; }\n",
              "    </style>\n",
              "<div class=\"wandb-row\"><div class=\"wandb-col\"><h3>Run history:</h3><br/><table class=\"wandb\"><tr><td>epoch</td><td>▁▁▂▂▂▃▃▃▄▄▅▅▅▆▆▆▇▇▇██</td></tr><tr><td>loss</td><td>▅▂▆▆▂█▃▃▅▁▇▂▅▁▃▆▂█▆▆▃</td></tr><tr><td>val_loss</td><td>▁▃▄▄▅▆▆▆█▆▅▅▄▃▄▅▅▃▃▄▁</td></tr></table><br/></div><div class=\"wandb-col\"><h3>Run summary:</h3><br/><table class=\"wandb\"><tr><td>best_epoch</td><td>20</td></tr><tr><td>best_val_loss</td><td>25.62884</td></tr><tr><td>epoch</td><td>20</td></tr><tr><td>loss</td><td>32.97475</td></tr><tr><td>val_loss</td><td>25.62884</td></tr></table><br/></div></div>"
            ],
            "text/plain": [
              "<IPython.core.display.HTML object>"
            ]
          },
          "metadata": {},
          "output_type": "display_data"
        },
        {
          "data": {
            "text/html": [
              " View run <strong style=\"color:#cdcd00\">earnest-leaf-259</strong> at: <a href='https://wandb.ai/avogadro/Deep%20learning%20for%20option%20pricing%20-%20rolling%20windows/runs/bq6d7ph7' target=\"_blank\">https://wandb.ai/avogadro/Deep%20learning%20for%20option%20pricing%20-%20rolling%20windows/runs/bq6d7ph7</a><br/>Synced 5 W&B file(s), 1 media file(s), 0 artifact file(s) and 0 other file(s)"
            ],
            "text/plain": [
              "<IPython.core.display.HTML object>"
            ]
          },
          "metadata": {},
          "output_type": "display_data"
        },
        {
          "data": {
            "text/html": [
              "Find logs at: <code>./wandb/run-20230415_162503-bq6d7ph7/logs</code>"
            ],
            "text/plain": [
              "<IPython.core.display.HTML object>"
            ]
          },
          "metadata": {},
          "output_type": "display_data"
        },
        {
          "metadata": {
            "tags": null
          },
          "name": "stdout",
          "output_type": "stream",
          "text": [
            "--- Predictions for test_start 2015-08-12 ---\n",
            "MSE: 17303.537\n",
            "RMSE: 131.54291\n",
            "-------------------------------------------\n",
            "Train shape: (229483, 10, 1), (229483, 4)\n",
            "Val shape: (16516, 10, 1), (16516, 4)\n",
            "Test shape: (32689, 10, 1), (32689, 4)\n",
            "-------------------------------------------\n",
            "Checkpoint_path =  /content/drive/MyDrive/01. Masters Thesis - Shared/05. Checkpoints/04-15_14-59/2015-05-19/\n",
            "Previous checkpoint_path =  /content/drive/MyDrive/01. Masters Thesis - Shared/05. Checkpoints/04-15_14-59/2015-05-05/\n",
            "-------------------------------------------\n"
          ]
        },
        {
          "data": {
            "text/html": [
              "Changes to your `wandb` environment variables will be ignored because your `wandb` session has already started. For more information on how to modify your settings with `wandb.init()` arguments, please refer to <a href='https://wandb.me/wandb-init' target=\"_blank\">the W&B docs</a>."
            ],
            "text/plain": [
              "<IPython.core.display.HTML object>"
            ]
          },
          "metadata": {},
          "output_type": "display_data"
        },
        {
          "data": {
            "text/html": [
              "Tracking run with wandb version 0.14.2"
            ],
            "text/plain": [
              "<IPython.core.display.HTML object>"
            ]
          },
          "metadata": {},
          "output_type": "display_data"
        },
        {
          "data": {
            "text/html": [
              "Run data is saved locally in <code>/content/wandb/run-20230415_162922-vmqaq24r</code>"
            ],
            "text/plain": [
              "<IPython.core.display.HTML object>"
            ]
          },
          "metadata": {},
          "output_type": "display_data"
        },
        {
          "data": {
            "text/html": [
              "Syncing run <strong><a href='https://wandb.ai/avogadro/Deep%20learning%20for%20option%20pricing%20-%20rolling%20windows/runs/vmqaq24r' target=\"_blank\">bright-sponge-262</a></strong> to <a href='https://wandb.ai/avogadro/Deep%20learning%20for%20option%20pricing%20-%20rolling%20windows' target=\"_blank\">Weights & Biases</a> (<a href='https://wandb.me/run' target=\"_blank\">docs</a>)<br/>"
            ],
            "text/plain": [
              "<IPython.core.display.HTML object>"
            ]
          },
          "metadata": {},
          "output_type": "display_data"
        },
        {
          "data": {
            "text/html": [
              " View project at <a href='https://wandb.ai/avogadro/Deep%20learning%20for%20option%20pricing%20-%20rolling%20windows' target=\"_blank\">https://wandb.ai/avogadro/Deep%20learning%20for%20option%20pricing%20-%20rolling%20windows</a>"
            ],
            "text/plain": [
              "<IPython.core.display.HTML object>"
            ]
          },
          "metadata": {},
          "output_type": "display_data"
        },
        {
          "data": {
            "text/html": [
              " View run at <a href='https://wandb.ai/avogadro/Deep%20learning%20for%20option%20pricing%20-%20rolling%20windows/runs/vmqaq24r' target=\"_blank\">https://wandb.ai/avogadro/Deep%20learning%20for%20option%20pricing%20-%20rolling%20windows/runs/vmqaq24r</a>"
            ],
            "text/plain": [
              "<IPython.core.display.HTML object>"
            ]
          },
          "metadata": {},
          "output_type": "display_data"
        },
        {
          "metadata": {
            "tags": null
          },
          "name": "stdout",
          "output_type": "stream",
          "text": [
            "Train shape: (172963, 10, 1), (172963, 10, 1)\n",
            "Val shape: (11980, 10, 1), (11980, 10, 1)\n",
            "Epoch 1/1000\n",
            "43/43 [==============================] - 36s 273ms/step - loss: 36.9629 - val_loss: 25.5934\n",
            "Epoch 2/1000\n",
            "43/43 [==============================] - 10s 105ms/step - loss: 45.3003 - val_loss: 26.2747\n",
            "Epoch 3/1000\n",
            "43/43 [==============================] - 9s 106ms/step - loss: 42.1132 - val_loss: 26.1063\n",
            "Epoch 4/1000\n",
            "43/43 [==============================] - 9s 107ms/step - loss: 38.0631 - val_loss: 26.6172\n",
            "Epoch 5/1000\n",
            "43/43 [==============================] - 9s 105ms/step - loss: 42.5022 - val_loss: 27.1048\n",
            "Epoch 6/1000\n",
            "43/43 [==============================] - 10s 106ms/step - loss: 33.7884 - val_loss: 26.5756\n",
            "Epoch 7/1000\n",
            "43/43 [==============================] - 9s 107ms/step - loss: 34.1829 - val_loss: 26.3801\n",
            "Epoch 8/1000\n",
            "43/43 [==============================] - 9s 107ms/step - loss: 35.5292 - val_loss: 26.8380\n",
            "Epoch 9/1000\n",
            "43/43 [==============================] - 10s 107ms/step - loss: 41.0294 - val_loss: 26.2628\n",
            "Epoch 10/1000\n",
            "43/43 [==============================] - 10s 106ms/step - loss: 30.4300 - val_loss: 27.1457\n",
            "Epoch 11/1000\n",
            "43/43 [==============================] - 10s 108ms/step - loss: 39.6867 - val_loss: 26.4588\n",
            "Epoch 12/1000\n",
            "43/43 [==============================] - 9s 105ms/step - loss: 36.9686 - val_loss: 26.3086\n",
            "Epoch 13/1000\n",
            "43/43 [==============================] - 10s 107ms/step - loss: 47.9668 - val_loss: 26.5170\n",
            "Epoch 14/1000\n",
            "43/43 [==============================] - 10s 107ms/step - loss: 34.1837 - val_loss: 25.6398\n",
            "Epoch 15/1000\n",
            "43/43 [==============================] - 9s 105ms/step - loss: 48.7023 - val_loss: 26.2783\n",
            "Epoch 16/1000\n",
            "43/43 [==============================] - 9s 105ms/step - loss: 42.2976 - val_loss: 26.0643\n",
            "Epoch 17/1000\n",
            "43/43 [==============================] - 9s 104ms/step - loss: 35.7082 - val_loss: 26.3111\n",
            "Epoch 18/1000\n",
            "43/43 [==============================] - 9s 107ms/step - loss: 36.1836 - val_loss: 27.0037\n",
            "Epoch 19/1000\n",
            "43/43 [==============================] - 9s 107ms/step - loss: 41.2371 - val_loss: 27.2846\n",
            "Epoch 20/1000\n",
            "43/43 [==============================] - 9s 105ms/step - loss: 30.8316 - val_loss: 27.2502\n",
            "Epoch 21/1000\n",
            "43/43 [==============================] - 10s 106ms/step - loss: 41.5927 - val_loss: 27.6007\n"
          ]
        },
        {
          "data": {
            "text/html": [
              "Waiting for W&B process to finish... <strong style=\"color:green\">(success).</strong>"
            ],
            "text/plain": [
              "<IPython.core.display.HTML object>"
            ]
          },
          "metadata": {},
          "output_type": "display_data"
        },
        {
          "data": {
            "application/vnd.jupyter.widget-view+json": {
              "model_id": "7094a227617d4fcc9f6f8c58d15d4196",
              "version_major": 2,
              "version_minor": 0
            },
            "text/plain": [
              "VBox(children=(Label(value='0.006 MB of 0.017 MB uploaded (0.000 MB deduped)\\r'), FloatProgress(value=0.339678…"
            ]
          },
          "metadata": {},
          "output_type": "display_data"
        },
        {
          "data": {
            "text/html": [
              "<style>\n",
              "    table.wandb td:nth-child(1) { padding: 0 10px; text-align: left ; width: auto;} td:nth-child(2) {text-align: left ; width: 100%}\n",
              "    .wandb-row { display: flex; flex-direction: row; flex-wrap: wrap; justify-content: flex-start; width: 100% }\n",
              "    .wandb-col { display: flex; flex-direction: column; flex-basis: 100%; flex: 1; padding: 10px; }\n",
              "    </style>\n",
              "<div class=\"wandb-row\"><div class=\"wandb-col\"><h3>Run history:</h3><br/><table class=\"wandb\"><tr><td>epoch</td><td>▁▁▂▂▂▃▃▃▄▄▅▅▅▆▆▆▇▇▇██</td></tr><tr><td>loss</td><td>▄▇▅▄▆▂▂▃▅▁▅▄█▂█▆▃▃▅▁▅</td></tr><tr><td>val_loss</td><td>▁▃▃▅▆▄▄▅▃▆▄▃▄▁▃▃▄▆▇▇█</td></tr></table><br/></div><div class=\"wandb-col\"><h3>Run summary:</h3><br/><table class=\"wandb\"><tr><td>best_epoch</td><td>0</td></tr><tr><td>best_val_loss</td><td>25.59344</td></tr><tr><td>epoch</td><td>20</td></tr><tr><td>loss</td><td>41.59269</td></tr><tr><td>val_loss</td><td>27.60073</td></tr></table><br/></div></div>"
            ],
            "text/plain": [
              "<IPython.core.display.HTML object>"
            ]
          },
          "metadata": {},
          "output_type": "display_data"
        },
        {
          "data": {
            "text/html": [
              " View run <strong style=\"color:#cdcd00\">bright-sponge-262</strong> at: <a href='https://wandb.ai/avogadro/Deep%20learning%20for%20option%20pricing%20-%20rolling%20windows/runs/vmqaq24r' target=\"_blank\">https://wandb.ai/avogadro/Deep%20learning%20for%20option%20pricing%20-%20rolling%20windows/runs/vmqaq24r</a><br/>Synced 5 W&B file(s), 1 media file(s), 0 artifact file(s) and 0 other file(s)"
            ],
            "text/plain": [
              "<IPython.core.display.HTML object>"
            ]
          },
          "metadata": {},
          "output_type": "display_data"
        },
        {
          "data": {
            "text/html": [
              "Find logs at: <code>./wandb/run-20230415_162922-vmqaq24r/logs</code>"
            ],
            "text/plain": [
              "<IPython.core.display.HTML object>"
            ]
          },
          "metadata": {},
          "output_type": "display_data"
        },
        {
          "metadata": {
            "tags": null
          },
          "name": "stdout",
          "output_type": "stream",
          "text": [
            "--- Predictions for test_start 2015-08-26 ---\n",
            "MSE: 36064.32\n",
            "RMSE: 189.90608\n",
            "-------------------------------------------\n",
            "Train shape: (237815, 10, 1), (237815, 4)\n",
            "Val shape: (16015, 10, 1), (16015, 4)\n",
            "Test shape: (38481, 10, 1), (38481, 4)\n",
            "-------------------------------------------\n",
            "Checkpoint_path =  /content/drive/MyDrive/01. Masters Thesis - Shared/05. Checkpoints/04-15_14-59/2015-06-02/\n",
            "Previous checkpoint_path =  /content/drive/MyDrive/01. Masters Thesis - Shared/05. Checkpoints/04-15_14-59/2015-05-19/\n",
            "-------------------------------------------\n"
          ]
        },
        {
          "data": {
            "text/html": [
              "Changes to your `wandb` environment variables will be ignored because your `wandb` session has already started. For more information on how to modify your settings with `wandb.init()` arguments, please refer to <a href='https://wandb.me/wandb-init' target=\"_blank\">the W&B docs</a>."
            ],
            "text/plain": [
              "<IPython.core.display.HTML object>"
            ]
          },
          "metadata": {},
          "output_type": "display_data"
        },
        {
          "data": {
            "text/html": [
              "Tracking run with wandb version 0.14.2"
            ],
            "text/plain": [
              "<IPython.core.display.HTML object>"
            ]
          },
          "metadata": {},
          "output_type": "display_data"
        },
        {
          "data": {
            "text/html": [
              "Run data is saved locally in <code>/content/wandb/run-20230415_163358-3v54c425</code>"
            ],
            "text/plain": [
              "<IPython.core.display.HTML object>"
            ]
          },
          "metadata": {},
          "output_type": "display_data"
        },
        {
          "data": {
            "text/html": [
              "Syncing run <strong><a href='https://wandb.ai/avogadro/Deep%20learning%20for%20option%20pricing%20-%20rolling%20windows/runs/3v54c425' target=\"_blank\">cosmic-shape-264</a></strong> to <a href='https://wandb.ai/avogadro/Deep%20learning%20for%20option%20pricing%20-%20rolling%20windows' target=\"_blank\">Weights & Biases</a> (<a href='https://wandb.me/run' target=\"_blank\">docs</a>)<br/>"
            ],
            "text/plain": [
              "<IPython.core.display.HTML object>"
            ]
          },
          "metadata": {},
          "output_type": "display_data"
        },
        {
          "data": {
            "text/html": [
              " View project at <a href='https://wandb.ai/avogadro/Deep%20learning%20for%20option%20pricing%20-%20rolling%20windows' target=\"_blank\">https://wandb.ai/avogadro/Deep%20learning%20for%20option%20pricing%20-%20rolling%20windows</a>"
            ],
            "text/plain": [
              "<IPython.core.display.HTML object>"
            ]
          },
          "metadata": {},
          "output_type": "display_data"
        },
        {
          "data": {
            "text/html": [
              " View run at <a href='https://wandb.ai/avogadro/Deep%20learning%20for%20option%20pricing%20-%20rolling%20windows/runs/3v54c425' target=\"_blank\">https://wandb.ai/avogadro/Deep%20learning%20for%20option%20pricing%20-%20rolling%20windows/runs/3v54c425</a>"
            ],
            "text/plain": [
              "<IPython.core.display.HTML object>"
            ]
          },
          "metadata": {},
          "output_type": "display_data"
        },
        {
          "metadata": {
            "tags": null
          },
          "name": "stdout",
          "output_type": "stream",
          "text": [
            "Train shape: (172963, 10, 1), (172963, 10, 1)\n",
            "Val shape: (11980, 10, 1), (11980, 10, 1)\n",
            "Epoch 1/1000\n",
            "43/43 [==============================] - 36s 269ms/step - loss: 35.8636 - val_loss: 26.4557\n",
            "Epoch 2/1000\n",
            "43/43 [==============================] - 10s 111ms/step - loss: 49.4555 - val_loss: 26.1753\n",
            "Epoch 3/1000\n",
            "43/43 [==============================] - 10s 130ms/step - loss: 30.2345 - val_loss: 26.1137\n",
            "Epoch 4/1000\n",
            "43/43 [==============================] - 9s 105ms/step - loss: 45.9789 - val_loss: 26.9268\n",
            "Epoch 5/1000\n",
            "43/43 [==============================] - 9s 104ms/step - loss: 31.4143 - val_loss: 27.3979\n",
            "Epoch 6/1000\n",
            "43/43 [==============================] - 9s 106ms/step - loss: 37.6621 - val_loss: 27.4278\n",
            "Epoch 7/1000\n",
            "43/43 [==============================] - 9s 106ms/step - loss: 38.2853 - val_loss: 27.3715\n",
            "Epoch 8/1000\n",
            "43/43 [==============================] - 9s 104ms/step - loss: 31.3714 - val_loss: 27.9383\n",
            "Epoch 9/1000\n",
            "43/43 [==============================] - 9s 105ms/step - loss: 40.9180 - val_loss: 28.1567\n",
            "Epoch 10/1000\n",
            "43/43 [==============================] - 9s 106ms/step - loss: 36.9069 - val_loss: 27.2408\n",
            "Epoch 11/1000\n",
            "43/43 [==============================] - 9s 106ms/step - loss: 39.9075 - val_loss: 26.9409\n",
            "Epoch 12/1000\n",
            "43/43 [==============================] - 9s 106ms/step - loss: 42.1066 - val_loss: 26.9584\n",
            "Epoch 13/1000\n",
            "43/43 [==============================] - 10s 127ms/step - loss: 38.2616 - val_loss: 26.0025\n",
            "Epoch 14/1000\n",
            "43/43 [==============================] - 10s 114ms/step - loss: 33.1595 - val_loss: 25.9807\n",
            "Epoch 15/1000\n",
            "43/43 [==============================] - 9s 105ms/step - loss: 41.0149 - val_loss: 27.2072\n",
            "Epoch 16/1000\n",
            "43/43 [==============================] - 9s 105ms/step - loss: 40.4001 - val_loss: 26.5944\n",
            "Epoch 17/1000\n",
            "43/43 [==============================] - 9s 105ms/step - loss: 42.2205 - val_loss: 26.4011\n",
            "Epoch 18/1000\n",
            "43/43 [==============================] - 10s 130ms/step - loss: 42.4991 - val_loss: 25.5007\n",
            "Epoch 19/1000\n",
            "43/43 [==============================] - 9s 106ms/step - loss: 41.3122 - val_loss: 25.8031\n",
            "Epoch 20/1000\n",
            "43/43 [==============================] - 9s 105ms/step - loss: 38.2804 - val_loss: 26.0452\n",
            "Epoch 21/1000\n",
            "43/43 [==============================] - 10s 106ms/step - loss: 38.0155 - val_loss: 25.5944\n"
          ]
        },
        {
          "data": {
            "text/html": [
              "Waiting for W&B process to finish... <strong style=\"color:green\">(success).</strong>"
            ],
            "text/plain": [
              "<IPython.core.display.HTML object>"
            ]
          },
          "metadata": {},
          "output_type": "display_data"
        },
        {
          "data": {
            "application/vnd.jupyter.widget-view+json": {
              "model_id": "a9389b6fd7464452824031c902c7e8f4",
              "version_major": 2,
              "version_minor": 0
            },
            "text/plain": [
              "VBox(children=(Label(value='0.006 MB of 0.006 MB uploaded (0.000 MB deduped)\\r'), FloatProgress(value=1.0, max…"
            ]
          },
          "metadata": {},
          "output_type": "display_data"
        },
        {
          "data": {
            "text/html": [
              "<style>\n",
              "    table.wandb td:nth-child(1) { padding: 0 10px; text-align: left ; width: auto;} td:nth-child(2) {text-align: left ; width: 100%}\n",
              "    .wandb-row { display: flex; flex-direction: row; flex-wrap: wrap; justify-content: flex-start; width: 100% }\n",
              "    .wandb-col { display: flex; flex-direction: column; flex-basis: 100%; flex: 1; padding: 10px; }\n",
              "    </style>\n",
              "<div class=\"wandb-row\"><div class=\"wandb-col\"><h3>Run history:</h3><br/><table class=\"wandb\"><tr><td>epoch</td><td>▁▁▂▂▂▃▃▃▄▄▅▅▅▆▆▆▇▇▇██</td></tr><tr><td>loss</td><td>▃█▁▇▁▄▄▁▅▃▅▅▄▂▅▅▅▅▅▄▄</td></tr><tr><td>val_loss</td><td>▄▃▃▅▆▆▆▇█▆▅▅▂▂▅▄▃▁▂▂▁</td></tr></table><br/></div><div class=\"wandb-col\"><h3>Run summary:</h3><br/><table class=\"wandb\"><tr><td>best_epoch</td><td>17</td></tr><tr><td>best_val_loss</td><td>25.50068</td></tr><tr><td>epoch</td><td>20</td></tr><tr><td>loss</td><td>38.01555</td></tr><tr><td>val_loss</td><td>25.59437</td></tr></table><br/></div></div>"
            ],
            "text/plain": [
              "<IPython.core.display.HTML object>"
            ]
          },
          "metadata": {},
          "output_type": "display_data"
        },
        {
          "data": {
            "text/html": [
              " View run <strong style=\"color:#cdcd00\">cosmic-shape-264</strong> at: <a href='https://wandb.ai/avogadro/Deep%20learning%20for%20option%20pricing%20-%20rolling%20windows/runs/3v54c425' target=\"_blank\">https://wandb.ai/avogadro/Deep%20learning%20for%20option%20pricing%20-%20rolling%20windows/runs/3v54c425</a><br/>Synced 5 W&B file(s), 1 media file(s), 0 artifact file(s) and 0 other file(s)"
            ],
            "text/plain": [
              "<IPython.core.display.HTML object>"
            ]
          },
          "metadata": {},
          "output_type": "display_data"
        },
        {
          "data": {
            "text/html": [
              "Find logs at: <code>./wandb/run-20230415_163358-3v54c425/logs</code>"
            ],
            "text/plain": [
              "<IPython.core.display.HTML object>"
            ]
          },
          "metadata": {},
          "output_type": "display_data"
        },
        {
          "metadata": {
            "tags": null
          },
          "name": "stdout",
          "output_type": "stream",
          "text": [
            "--- Predictions for test_start 2015-09-09 ---\n",
            "MSE: 188.0296\n",
            "RMSE: 13.712388\n",
            "-------------------------------------------\n",
            "Train shape: (240189, 10, 1), (240189, 4)\n",
            "Val shape: (19393, 10, 1), (19393, 4)\n",
            "Test shape: (36983, 10, 1), (36983, 4)\n",
            "-------------------------------------------\n",
            "Checkpoint_path =  /content/drive/MyDrive/01. Masters Thesis - Shared/05. Checkpoints/04-15_14-59/2015-06-16/\n",
            "Previous checkpoint_path =  /content/drive/MyDrive/01. Masters Thesis - Shared/05. Checkpoints/04-15_14-59/2015-06-02/\n",
            "-------------------------------------------\n"
          ]
        },
        {
          "data": {
            "text/html": [
              "Changes to your `wandb` environment variables will be ignored because your `wandb` session has already started. For more information on how to modify your settings with `wandb.init()` arguments, please refer to <a href='https://wandb.me/wandb-init' target=\"_blank\">the W&B docs</a>."
            ],
            "text/plain": [
              "<IPython.core.display.HTML object>"
            ]
          },
          "metadata": {},
          "output_type": "display_data"
        },
        {
          "data": {
            "text/html": [
              "Tracking run with wandb version 0.14.2"
            ],
            "text/plain": [
              "<IPython.core.display.HTML object>"
            ]
          },
          "metadata": {},
          "output_type": "display_data"
        },
        {
          "data": {
            "text/html": [
              "Run data is saved locally in <code>/content/wandb/run-20230415_163826-4nd7j6uw</code>"
            ],
            "text/plain": [
              "<IPython.core.display.HTML object>"
            ]
          },
          "metadata": {},
          "output_type": "display_data"
        },
        {
          "data": {
            "text/html": [
              "Syncing run <strong><a href='https://wandb.ai/avogadro/Deep%20learning%20for%20option%20pricing%20-%20rolling%20windows/runs/4nd7j6uw' target=\"_blank\">upbeat-galaxy-267</a></strong> to <a href='https://wandb.ai/avogadro/Deep%20learning%20for%20option%20pricing%20-%20rolling%20windows' target=\"_blank\">Weights & Biases</a> (<a href='https://wandb.me/run' target=\"_blank\">docs</a>)<br/>"
            ],
            "text/plain": [
              "<IPython.core.display.HTML object>"
            ]
          },
          "metadata": {},
          "output_type": "display_data"
        },
        {
          "data": {
            "text/html": [
              " View project at <a href='https://wandb.ai/avogadro/Deep%20learning%20for%20option%20pricing%20-%20rolling%20windows' target=\"_blank\">https://wandb.ai/avogadro/Deep%20learning%20for%20option%20pricing%20-%20rolling%20windows</a>"
            ],
            "text/plain": [
              "<IPython.core.display.HTML object>"
            ]
          },
          "metadata": {},
          "output_type": "display_data"
        },
        {
          "data": {
            "text/html": [
              " View run at <a href='https://wandb.ai/avogadro/Deep%20learning%20for%20option%20pricing%20-%20rolling%20windows/runs/4nd7j6uw' target=\"_blank\">https://wandb.ai/avogadro/Deep%20learning%20for%20option%20pricing%20-%20rolling%20windows/runs/4nd7j6uw</a>"
            ],
            "text/plain": [
              "<IPython.core.display.HTML object>"
            ]
          },
          "metadata": {},
          "output_type": "display_data"
        },
        {
          "metadata": {
            "tags": null
          },
          "name": "stdout",
          "output_type": "stream",
          "text": [
            "Train shape: (172963, 10, 1), (172963, 10, 1)\n",
            "Val shape: (11980, 10, 1), (11980, 10, 1)\n",
            "Epoch 1/1000\n",
            "43/43 [==============================] - 36s 277ms/step - loss: 28.8704 - val_loss: 26.5012\n",
            "Epoch 2/1000\n",
            "43/43 [==============================] - 10s 108ms/step - loss: 41.6759 - val_loss: 26.8186\n",
            "Epoch 3/1000\n",
            "43/43 [==============================] - 11s 133ms/step - loss: 34.4152 - val_loss: 26.1657\n",
            "Epoch 4/1000\n",
            "43/43 [==============================] - 9s 109ms/step - loss: 46.7153 - val_loss: 25.7555\n",
            "Epoch 5/1000\n",
            "43/43 [==============================] - 9s 105ms/step - loss: 26.1401 - val_loss: 26.0679\n",
            "Epoch 6/1000\n",
            "43/43 [==============================] - 9s 108ms/step - loss: 41.4948 - val_loss: 26.3432\n",
            "Epoch 7/1000\n",
            "43/43 [==============================] - 9s 109ms/step - loss: 32.8038 - val_loss: 26.8901\n",
            "Epoch 8/1000\n",
            "43/43 [==============================] - 9s 106ms/step - loss: 39.1893 - val_loss: 27.3130\n",
            "Epoch 9/1000\n",
            "43/43 [==============================] - 9s 106ms/step - loss: 32.2178 - val_loss: 27.1950\n",
            "Epoch 10/1000\n",
            "43/43 [==============================] - 9s 106ms/step - loss: 41.4524 - val_loss: 28.1092\n",
            "Epoch 11/1000\n",
            "43/43 [==============================] - 9s 106ms/step - loss: 31.8302 - val_loss: 27.8276\n",
            "Epoch 12/1000\n",
            "43/43 [==============================] - 9s 104ms/step - loss: 35.0521 - val_loss: 28.4773\n",
            "Epoch 13/1000\n",
            "43/43 [==============================] - 9s 106ms/step - loss: 44.3452 - val_loss: 27.4704\n",
            "Epoch 14/1000\n",
            "43/43 [==============================] - 9s 107ms/step - loss: 39.5608 - val_loss: 26.5447\n",
            "Epoch 15/1000\n",
            "43/43 [==============================] - 9s 103ms/step - loss: 43.5576 - val_loss: 26.0459\n",
            "Epoch 16/1000\n",
            "43/43 [==============================] - 9s 106ms/step - loss: 43.0054 - val_loss: 26.1083\n",
            "Epoch 17/1000\n",
            "43/43 [==============================] - 9s 107ms/step - loss: 38.8615 - val_loss: 26.0296\n",
            "Epoch 18/1000\n",
            "43/43 [==============================] - 9s 107ms/step - loss: 31.3563 - val_loss: 26.5773\n",
            "Epoch 19/1000\n",
            "43/43 [==============================] - 9s 105ms/step - loss: 38.0045 - val_loss: 27.1920\n",
            "Epoch 20/1000\n",
            "43/43 [==============================] - 9s 106ms/step - loss: 37.8391 - val_loss: 27.1178\n",
            "Epoch 21/1000\n",
            "43/43 [==============================] - 9s 107ms/step - loss: 33.1105 - val_loss: 27.2587\n"
          ]
        },
        {
          "data": {
            "text/html": [
              "Waiting for W&B process to finish... <strong style=\"color:green\">(success).</strong>"
            ],
            "text/plain": [
              "<IPython.core.display.HTML object>"
            ]
          },
          "metadata": {},
          "output_type": "display_data"
        },
        {
          "data": {
            "application/vnd.jupyter.widget-view+json": {
              "model_id": "c957abc471234fb49b67399f59dfabfd",
              "version_major": 2,
              "version_minor": 0
            },
            "text/plain": [
              "VBox(children=(Label(value='0.006 MB of 0.006 MB uploaded (0.000 MB deduped)\\r'), FloatProgress(value=1.0, max…"
            ]
          },
          "metadata": {},
          "output_type": "display_data"
        },
        {
          "data": {
            "text/html": [
              "<style>\n",
              "    table.wandb td:nth-child(1) { padding: 0 10px; text-align: left ; width: auto;} td:nth-child(2) {text-align: left ; width: 100%}\n",
              "    .wandb-row { display: flex; flex-direction: row; flex-wrap: wrap; justify-content: flex-start; width: 100% }\n",
              "    .wandb-col { display: flex; flex-direction: column; flex-basis: 100%; flex: 1; padding: 10px; }\n",
              "    </style>\n",
              "<div class=\"wandb-row\"><div class=\"wandb-col\"><h3>Run history:</h3><br/><table class=\"wandb\"><tr><td>epoch</td><td>▁▁▂▂▂▃▃▃▄▄▅▅▅▆▆▆▇▇▇██</td></tr><tr><td>loss</td><td>▂▆▄█▁▆▃▅▃▆▃▄▇▆▇▇▅▃▅▅▃</td></tr><tr><td>val_loss</td><td>▃▄▂▁▂▃▄▅▅▇▆█▅▃▂▂▂▃▅▅▅</td></tr></table><br/></div><div class=\"wandb-col\"><h3>Run summary:</h3><br/><table class=\"wandb\"><tr><td>best_epoch</td><td>3</td></tr><tr><td>best_val_loss</td><td>25.75546</td></tr><tr><td>epoch</td><td>20</td></tr><tr><td>loss</td><td>33.11045</td></tr><tr><td>val_loss</td><td>27.25872</td></tr></table><br/></div></div>"
            ],
            "text/plain": [
              "<IPython.core.display.HTML object>"
            ]
          },
          "metadata": {},
          "output_type": "display_data"
        },
        {
          "data": {
            "text/html": [
              " View run <strong style=\"color:#cdcd00\">upbeat-galaxy-267</strong> at: <a href='https://wandb.ai/avogadro/Deep%20learning%20for%20option%20pricing%20-%20rolling%20windows/runs/4nd7j6uw' target=\"_blank\">https://wandb.ai/avogadro/Deep%20learning%20for%20option%20pricing%20-%20rolling%20windows/runs/4nd7j6uw</a><br/>Synced 5 W&B file(s), 1 media file(s), 0 artifact file(s) and 0 other file(s)"
            ],
            "text/plain": [
              "<IPython.core.display.HTML object>"
            ]
          },
          "metadata": {},
          "output_type": "display_data"
        },
        {
          "data": {
            "text/html": [
              "Find logs at: <code>./wandb/run-20230415_163826-4nd7j6uw/logs</code>"
            ],
            "text/plain": [
              "<IPython.core.display.HTML object>"
            ]
          },
          "metadata": {},
          "output_type": "display_data"
        },
        {
          "metadata": {
            "tags": null
          },
          "name": "stdout",
          "output_type": "stream",
          "text": [
            "--- Predictions for test_start 2015-09-23 ---\n",
            "MSE: 409.26147\n",
            "RMSE: 20.230211\n",
            "-------------------------------------------\n",
            "Train shape: (244821, 10, 1), (244821, 4)\n",
            "Val shape: (18336, 10, 1), (18336, 4)\n",
            "Test shape: (35121, 10, 1), (35121, 4)\n",
            "-------------------------------------------\n",
            "Checkpoint_path =  /content/drive/MyDrive/01. Masters Thesis - Shared/05. Checkpoints/04-15_14-59/2015-06-30/\n",
            "Previous checkpoint_path =  /content/drive/MyDrive/01. Masters Thesis - Shared/05. Checkpoints/04-15_14-59/2015-06-16/\n",
            "-------------------------------------------\n"
          ]
        },
        {
          "data": {
            "text/html": [
              "Changes to your `wandb` environment variables will be ignored because your `wandb` session has already started. For more information on how to modify your settings with `wandb.init()` arguments, please refer to <a href='https://wandb.me/wandb-init' target=\"_blank\">the W&B docs</a>."
            ],
            "text/plain": [
              "<IPython.core.display.HTML object>"
            ]
          },
          "metadata": {},
          "output_type": "display_data"
        },
        {
          "data": {
            "text/html": [
              "Tracking run with wandb version 0.14.2"
            ],
            "text/plain": [
              "<IPython.core.display.HTML object>"
            ]
          },
          "metadata": {},
          "output_type": "display_data"
        },
        {
          "data": {
            "text/html": [
              "Run data is saved locally in <code>/content/wandb/run-20230415_164248-6blpfpmv</code>"
            ],
            "text/plain": [
              "<IPython.core.display.HTML object>"
            ]
          },
          "metadata": {},
          "output_type": "display_data"
        },
        {
          "data": {
            "text/html": [
              "Syncing run <strong><a href='https://wandb.ai/avogadro/Deep%20learning%20for%20option%20pricing%20-%20rolling%20windows/runs/6blpfpmv' target=\"_blank\">skilled-dust-269</a></strong> to <a href='https://wandb.ai/avogadro/Deep%20learning%20for%20option%20pricing%20-%20rolling%20windows' target=\"_blank\">Weights & Biases</a> (<a href='https://wandb.me/run' target=\"_blank\">docs</a>)<br/>"
            ],
            "text/plain": [
              "<IPython.core.display.HTML object>"
            ]
          },
          "metadata": {},
          "output_type": "display_data"
        },
        {
          "data": {
            "text/html": [
              " View project at <a href='https://wandb.ai/avogadro/Deep%20learning%20for%20option%20pricing%20-%20rolling%20windows' target=\"_blank\">https://wandb.ai/avogadro/Deep%20learning%20for%20option%20pricing%20-%20rolling%20windows</a>"
            ],
            "text/plain": [
              "<IPython.core.display.HTML object>"
            ]
          },
          "metadata": {},
          "output_type": "display_data"
        },
        {
          "data": {
            "text/html": [
              " View run at <a href='https://wandb.ai/avogadro/Deep%20learning%20for%20option%20pricing%20-%20rolling%20windows/runs/6blpfpmv' target=\"_blank\">https://wandb.ai/avogadro/Deep%20learning%20for%20option%20pricing%20-%20rolling%20windows/runs/6blpfpmv</a>"
            ],
            "text/plain": [
              "<IPython.core.display.HTML object>"
            ]
          },
          "metadata": {},
          "output_type": "display_data"
        },
        {
          "metadata": {
            "tags": null
          },
          "name": "stdout",
          "output_type": "stream",
          "text": [
            "Train shape: (172963, 10, 1), (172963, 10, 1)\n",
            "Val shape: (11980, 10, 1), (11980, 10, 1)\n",
            "Epoch 1/1000\n",
            "43/43 [==============================] - 36s 270ms/step - loss: 45.1625 - val_loss: 25.6629\n",
            "Epoch 2/1000\n",
            "43/43 [==============================] - 9s 105ms/step - loss: 34.2778 - val_loss: 26.1306\n",
            "Epoch 3/1000\n",
            "43/43 [==============================] - 9s 106ms/step - loss: 38.2341 - val_loss: 25.7342\n",
            "Epoch 4/1000\n",
            "43/43 [==============================] - 11s 133ms/step - loss: 36.2583 - val_loss: 25.6282\n",
            "Epoch 5/1000\n",
            "43/43 [==============================] - 9s 109ms/step - loss: 42.1339 - val_loss: 25.7147\n",
            "Epoch 6/1000\n",
            "43/43 [==============================] - 9s 106ms/step - loss: 32.0816 - val_loss: 25.7151\n",
            "Epoch 7/1000\n",
            "43/43 [==============================] - 10s 105ms/step - loss: 42.1042 - val_loss: 26.0466\n",
            "Epoch 8/1000\n",
            "43/43 [==============================] - 9s 107ms/step - loss: 35.6891 - val_loss: 26.0122\n",
            "Epoch 9/1000\n",
            "43/43 [==============================] - 9s 105ms/step - loss: 35.0979 - val_loss: 26.4344\n",
            "Epoch 10/1000\n",
            "43/43 [==============================] - 9s 105ms/step - loss: 34.1893 - val_loss: 25.9301\n",
            "Epoch 11/1000\n",
            "43/43 [==============================] - 9s 105ms/step - loss: 34.6739 - val_loss: 26.1047\n",
            "Epoch 12/1000\n",
            "43/43 [==============================] - 9s 107ms/step - loss: 39.2061 - val_loss: 26.2175\n",
            "Epoch 13/1000\n",
            "43/43 [==============================] - 9s 105ms/step - loss: 36.5367 - val_loss: 25.8099\n",
            "Epoch 14/1000\n",
            "43/43 [==============================] - 9s 104ms/step - loss: 37.7292 - val_loss: 26.5272\n",
            "Epoch 15/1000\n",
            "43/43 [==============================] - 9s 106ms/step - loss: 29.6418 - val_loss: 26.8143\n",
            "Epoch 16/1000\n",
            "43/43 [==============================] - 9s 108ms/step - loss: 37.3578 - val_loss: 26.3892\n",
            "Epoch 17/1000\n",
            "43/43 [==============================] - 9s 104ms/step - loss: 36.3354 - val_loss: 27.2762\n",
            "Epoch 18/1000\n",
            "43/43 [==============================] - 9s 104ms/step - loss: 37.0376 - val_loss: 27.5339\n",
            "Epoch 19/1000\n",
            "43/43 [==============================] - 9s 106ms/step - loss: 41.2922 - val_loss: 27.1533\n",
            "Epoch 20/1000\n",
            "43/43 [==============================] - 9s 106ms/step - loss: 38.7570 - val_loss: 26.6603\n",
            "Epoch 21/1000\n",
            "43/43 [==============================] - 9s 104ms/step - loss: 34.3000 - val_loss: 27.6479\n"
          ]
        },
        {
          "data": {
            "text/html": [
              "Waiting for W&B process to finish... <strong style=\"color:green\">(success).</strong>"
            ],
            "text/plain": [
              "<IPython.core.display.HTML object>"
            ]
          },
          "metadata": {},
          "output_type": "display_data"
        },
        {
          "data": {
            "application/vnd.jupyter.widget-view+json": {
              "model_id": "babc5949ffa24601a60bfc8c55db6989",
              "version_major": 2,
              "version_minor": 0
            },
            "text/plain": [
              "VBox(children=(Label(value='0.006 MB of 0.006 MB uploaded (0.000 MB deduped)\\r'), FloatProgress(value=1.0, max…"
            ]
          },
          "metadata": {},
          "output_type": "display_data"
        },
        {
          "data": {
            "text/html": [
              "<style>\n",
              "    table.wandb td:nth-child(1) { padding: 0 10px; text-align: left ; width: auto;} td:nth-child(2) {text-align: left ; width: 100%}\n",
              "    .wandb-row { display: flex; flex-direction: row; flex-wrap: wrap; justify-content: flex-start; width: 100% }\n",
              "    .wandb-col { display: flex; flex-direction: column; flex-basis: 100%; flex: 1; padding: 10px; }\n",
              "    </style>\n",
              "<div class=\"wandb-row\"><div class=\"wandb-col\"><h3>Run history:</h3><br/><table class=\"wandb\"><tr><td>epoch</td><td>▁▁▂▂▂▃▃▃▄▄▅▅▅▆▆▆▇▇▇██</td></tr><tr><td>loss</td><td>█▃▅▄▇▂▇▄▃▃▃▅▄▅▁▄▄▄▆▅▃</td></tr><tr><td>val_loss</td><td>▁▃▁▁▁▁▂▂▄▂▃▃▂▄▅▄▇█▆▅█</td></tr></table><br/></div><div class=\"wandb-col\"><h3>Run summary:</h3><br/><table class=\"wandb\"><tr><td>best_epoch</td><td>3</td></tr><tr><td>best_val_loss</td><td>25.62823</td></tr><tr><td>epoch</td><td>20</td></tr><tr><td>loss</td><td>34.30001</td></tr><tr><td>val_loss</td><td>27.64792</td></tr></table><br/></div></div>"
            ],
            "text/plain": [
              "<IPython.core.display.HTML object>"
            ]
          },
          "metadata": {},
          "output_type": "display_data"
        },
        {
          "data": {
            "text/html": [
              " View run <strong style=\"color:#cdcd00\">skilled-dust-269</strong> at: <a href='https://wandb.ai/avogadro/Deep%20learning%20for%20option%20pricing%20-%20rolling%20windows/runs/6blpfpmv' target=\"_blank\">https://wandb.ai/avogadro/Deep%20learning%20for%20option%20pricing%20-%20rolling%20windows/runs/6blpfpmv</a><br/>Synced 5 W&B file(s), 1 media file(s), 0 artifact file(s) and 0 other file(s)"
            ],
            "text/plain": [
              "<IPython.core.display.HTML object>"
            ]
          },
          "metadata": {},
          "output_type": "display_data"
        },
        {
          "data": {
            "text/html": [
              "Find logs at: <code>./wandb/run-20230415_164248-6blpfpmv/logs</code>"
            ],
            "text/plain": [
              "<IPython.core.display.HTML object>"
            ]
          },
          "metadata": {},
          "output_type": "display_data"
        },
        {
          "metadata": {
            "tags": null
          },
          "name": "stdout",
          "output_type": "stream",
          "text": [
            "--- Predictions for test_start 2015-10-07 ---\n",
            "MSE: 842.4365\n",
            "RMSE: 29.024757\n",
            "-------------------------------------------\n",
            "Train shape: (249912, 10, 1), (249912, 4)\n",
            "Val shape: (17211, 10, 1), (17211, 4)\n",
            "Test shape: (35267, 10, 1), (35267, 4)\n",
            "-------------------------------------------\n",
            "Checkpoint_path =  /content/drive/MyDrive/01. Masters Thesis - Shared/05. Checkpoints/04-15_14-59/2015-07-14/\n",
            "Previous checkpoint_path =  /content/drive/MyDrive/01. Masters Thesis - Shared/05. Checkpoints/04-15_14-59/2015-06-30/\n",
            "-------------------------------------------\n"
          ]
        },
        {
          "data": {
            "text/html": [
              "Changes to your `wandb` environment variables will be ignored because your `wandb` session has already started. For more information on how to modify your settings with `wandb.init()` arguments, please refer to <a href='https://wandb.me/wandb-init' target=\"_blank\">the W&B docs</a>."
            ],
            "text/plain": [
              "<IPython.core.display.HTML object>"
            ]
          },
          "metadata": {},
          "output_type": "display_data"
        },
        {
          "data": {
            "text/html": [
              "Tracking run with wandb version 0.14.2"
            ],
            "text/plain": [
              "<IPython.core.display.HTML object>"
            ]
          },
          "metadata": {},
          "output_type": "display_data"
        },
        {
          "data": {
            "text/html": [
              "Run data is saved locally in <code>/content/wandb/run-20230415_164712-tlz99kp4</code>"
            ],
            "text/plain": [
              "<IPython.core.display.HTML object>"
            ]
          },
          "metadata": {},
          "output_type": "display_data"
        },
        {
          "data": {
            "text/html": [
              "Syncing run <strong><a href='https://wandb.ai/avogadro/Deep%20learning%20for%20option%20pricing%20-%20rolling%20windows/runs/tlz99kp4' target=\"_blank\">splendid-leaf-271</a></strong> to <a href='https://wandb.ai/avogadro/Deep%20learning%20for%20option%20pricing%20-%20rolling%20windows' target=\"_blank\">Weights & Biases</a> (<a href='https://wandb.me/run' target=\"_blank\">docs</a>)<br/>"
            ],
            "text/plain": [
              "<IPython.core.display.HTML object>"
            ]
          },
          "metadata": {},
          "output_type": "display_data"
        },
        {
          "data": {
            "text/html": [
              " View project at <a href='https://wandb.ai/avogadro/Deep%20learning%20for%20option%20pricing%20-%20rolling%20windows' target=\"_blank\">https://wandb.ai/avogadro/Deep%20learning%20for%20option%20pricing%20-%20rolling%20windows</a>"
            ],
            "text/plain": [
              "<IPython.core.display.HTML object>"
            ]
          },
          "metadata": {},
          "output_type": "display_data"
        },
        {
          "data": {
            "text/html": [
              " View run at <a href='https://wandb.ai/avogadro/Deep%20learning%20for%20option%20pricing%20-%20rolling%20windows/runs/tlz99kp4' target=\"_blank\">https://wandb.ai/avogadro/Deep%20learning%20for%20option%20pricing%20-%20rolling%20windows/runs/tlz99kp4</a>"
            ],
            "text/plain": [
              "<IPython.core.display.HTML object>"
            ]
          },
          "metadata": {},
          "output_type": "display_data"
        },
        {
          "metadata": {
            "tags": null
          },
          "name": "stdout",
          "output_type": "stream",
          "text": [
            "Train shape: (172963, 10, 1), (172963, 10, 1)\n",
            "Val shape: (11980, 10, 1), (11980, 10, 1)\n",
            "Epoch 1/1000\n",
            "43/43 [==============================] - 35s 270ms/step - loss: 37.8998 - val_loss: 25.7276\n",
            "Epoch 2/1000\n",
            "43/43 [==============================] - 10s 106ms/step - loss: 39.8488 - val_loss: 25.9687\n",
            "Epoch 3/1000\n",
            "43/43 [==============================] - 9s 107ms/step - loss: 29.8952 - val_loss: 26.6431\n",
            "Epoch 4/1000\n",
            "43/43 [==============================] - 9s 105ms/step - loss: 32.7473 - val_loss: 26.6941\n",
            "Epoch 5/1000\n",
            "43/43 [==============================] - 10s 107ms/step - loss: 32.7244 - val_loss: 26.7865\n",
            "Epoch 6/1000\n",
            "43/43 [==============================] - 9s 105ms/step - loss: 26.6953 - val_loss: 27.5464\n",
            "Epoch 7/1000\n",
            "43/43 [==============================] - 9s 105ms/step - loss: 37.3170 - val_loss: 26.9328\n",
            "Epoch 8/1000\n",
            "43/43 [==============================] - 9s 106ms/step - loss: 36.7166 - val_loss: 27.2255\n",
            "Epoch 9/1000\n",
            "43/43 [==============================] - 9s 104ms/step - loss: 33.2836 - val_loss: 27.3204\n",
            "Epoch 10/1000\n",
            "43/43 [==============================] - 9s 107ms/step - loss: 43.9605 - val_loss: 26.9370\n",
            "Epoch 11/1000\n",
            "43/43 [==============================] - 9s 106ms/step - loss: 33.4680 - val_loss: 26.3198\n",
            "Epoch 12/1000\n",
            "43/43 [==============================] - 10s 106ms/step - loss: 46.0403 - val_loss: 26.0946\n",
            "Epoch 13/1000\n",
            "43/43 [==============================] - 9s 105ms/step - loss: 41.3510 - val_loss: 26.1748\n",
            "Epoch 14/1000\n",
            "43/43 [==============================] - 9s 108ms/step - loss: 45.3662 - val_loss: 25.8351\n",
            "Epoch 15/1000\n",
            "43/43 [==============================] - 9s 105ms/step - loss: 47.9278 - val_loss: 26.1627\n",
            "Epoch 16/1000\n",
            "43/43 [==============================] - 9s 104ms/step - loss: 45.3758 - val_loss: 26.5018\n",
            "Epoch 17/1000\n",
            "43/43 [==============================] - 9s 107ms/step - loss: 32.6547 - val_loss: 26.8641\n",
            "Epoch 18/1000\n",
            "43/43 [==============================] - 9s 107ms/step - loss: 37.7976 - val_loss: 26.1760\n",
            "Epoch 19/1000\n",
            "43/43 [==============================] - 9s 104ms/step - loss: 43.8111 - val_loss: 26.6404\n",
            "Epoch 20/1000\n",
            "43/43 [==============================] - 9s 106ms/step - loss: 38.8925 - val_loss: 26.1501\n",
            "Epoch 21/1000\n",
            "43/43 [==============================] - 9s 106ms/step - loss: 37.2959 - val_loss: 26.6737\n"
          ]
        },
        {
          "data": {
            "text/html": [
              "Waiting for W&B process to finish... <strong style=\"color:green\">(success).</strong>"
            ],
            "text/plain": [
              "<IPython.core.display.HTML object>"
            ]
          },
          "metadata": {},
          "output_type": "display_data"
        },
        {
          "data": {
            "application/vnd.jupyter.widget-view+json": {
              "model_id": "fd41bca9de2647adbafc5f4dc2c18760",
              "version_major": 2,
              "version_minor": 0
            },
            "text/plain": [
              "VBox(children=(Label(value='0.006 MB of 0.017 MB uploaded (0.000 MB deduped)\\r'), FloatProgress(value=0.339795…"
            ]
          },
          "metadata": {},
          "output_type": "display_data"
        },
        {
          "data": {
            "text/html": [
              "<style>\n",
              "    table.wandb td:nth-child(1) { padding: 0 10px; text-align: left ; width: auto;} td:nth-child(2) {text-align: left ; width: 100%}\n",
              "    .wandb-row { display: flex; flex-direction: row; flex-wrap: wrap; justify-content: flex-start; width: 100% }\n",
              "    .wandb-col { display: flex; flex-direction: column; flex-basis: 100%; flex: 1; padding: 10px; }\n",
              "    </style>\n",
              "<div class=\"wandb-row\"><div class=\"wandb-col\"><h3>Run history:</h3><br/><table class=\"wandb\"><tr><td>epoch</td><td>▁▁▂▂▂▃▃▃▄▄▅▅▅▆▆▆▇▇▇██</td></tr><tr><td>loss</td><td>▅▅▂▃▃▁▅▄▃▇▃▇▆▇█▇▃▅▇▅▄</td></tr><tr><td>val_loss</td><td>▁▂▅▅▅█▆▇▇▆▃▂▃▁▃▄▅▃▅▃▅</td></tr></table><br/></div><div class=\"wandb-col\"><h3>Run summary:</h3><br/><table class=\"wandb\"><tr><td>best_epoch</td><td>0</td></tr><tr><td>best_val_loss</td><td>25.72764</td></tr><tr><td>epoch</td><td>20</td></tr><tr><td>loss</td><td>37.29594</td></tr><tr><td>val_loss</td><td>26.67368</td></tr></table><br/></div></div>"
            ],
            "text/plain": [
              "<IPython.core.display.HTML object>"
            ]
          },
          "metadata": {},
          "output_type": "display_data"
        },
        {
          "data": {
            "text/html": [
              " View run <strong style=\"color:#cdcd00\">splendid-leaf-271</strong> at: <a href='https://wandb.ai/avogadro/Deep%20learning%20for%20option%20pricing%20-%20rolling%20windows/runs/tlz99kp4' target=\"_blank\">https://wandb.ai/avogadro/Deep%20learning%20for%20option%20pricing%20-%20rolling%20windows/runs/tlz99kp4</a><br/>Synced 5 W&B file(s), 1 media file(s), 0 artifact file(s) and 0 other file(s)"
            ],
            "text/plain": [
              "<IPython.core.display.HTML object>"
            ]
          },
          "metadata": {},
          "output_type": "display_data"
        },
        {
          "data": {
            "text/html": [
              "Find logs at: <code>./wandb/run-20230415_164712-tlz99kp4/logs</code>"
            ],
            "text/plain": [
              "<IPython.core.display.HTML object>"
            ]
          },
          "metadata": {},
          "output_type": "display_data"
        },
        {
          "metadata": {
            "tags": null
          },
          "name": "stdout",
          "output_type": "stream",
          "text": [
            "--- Predictions for test_start 2015-10-21 ---\n",
            "MSE: 844.3136\n",
            "RMSE: 29.057076\n",
            "-------------------------------------------\n",
            "Train shape: (249861, 10, 1), (249861, 4)\n",
            "Val shape: (17606, 10, 1), (17606, 4)\n",
            "Test shape: (36061, 10, 1), (36061, 4)\n",
            "-------------------------------------------\n",
            "Checkpoint_path =  /content/drive/MyDrive/01. Masters Thesis - Shared/05. Checkpoints/04-15_14-59/2015-07-28/\n",
            "Previous checkpoint_path =  /content/drive/MyDrive/01. Masters Thesis - Shared/05. Checkpoints/04-15_14-59/2015-07-14/\n",
            "-------------------------------------------\n"
          ]
        },
        {
          "data": {
            "text/html": [
              "Changes to your `wandb` environment variables will be ignored because your `wandb` session has already started. For more information on how to modify your settings with `wandb.init()` arguments, please refer to <a href='https://wandb.me/wandb-init' target=\"_blank\">the W&B docs</a>."
            ],
            "text/plain": [
              "<IPython.core.display.HTML object>"
            ]
          },
          "metadata": {},
          "output_type": "display_data"
        },
        {
          "data": {
            "text/html": [
              "Tracking run with wandb version 0.14.2"
            ],
            "text/plain": [
              "<IPython.core.display.HTML object>"
            ]
          },
          "metadata": {},
          "output_type": "display_data"
        },
        {
          "data": {
            "text/html": [
              "Run data is saved locally in <code>/content/wandb/run-20230415_165134-6wnf81cb</code>"
            ],
            "text/plain": [
              "<IPython.core.display.HTML object>"
            ]
          },
          "metadata": {},
          "output_type": "display_data"
        },
        {
          "data": {
            "text/html": [
              "Syncing run <strong><a href='https://wandb.ai/avogadro/Deep%20learning%20for%20option%20pricing%20-%20rolling%20windows/runs/6wnf81cb' target=\"_blank\">smart-snowball-274</a></strong> to <a href='https://wandb.ai/avogadro/Deep%20learning%20for%20option%20pricing%20-%20rolling%20windows' target=\"_blank\">Weights & Biases</a> (<a href='https://wandb.me/run' target=\"_blank\">docs</a>)<br/>"
            ],
            "text/plain": [
              "<IPython.core.display.HTML object>"
            ]
          },
          "metadata": {},
          "output_type": "display_data"
        },
        {
          "data": {
            "text/html": [
              " View project at <a href='https://wandb.ai/avogadro/Deep%20learning%20for%20option%20pricing%20-%20rolling%20windows' target=\"_blank\">https://wandb.ai/avogadro/Deep%20learning%20for%20option%20pricing%20-%20rolling%20windows</a>"
            ],
            "text/plain": [
              "<IPython.core.display.HTML object>"
            ]
          },
          "metadata": {},
          "output_type": "display_data"
        },
        {
          "data": {
            "text/html": [
              " View run at <a href='https://wandb.ai/avogadro/Deep%20learning%20for%20option%20pricing%20-%20rolling%20windows/runs/6wnf81cb' target=\"_blank\">https://wandb.ai/avogadro/Deep%20learning%20for%20option%20pricing%20-%20rolling%20windows/runs/6wnf81cb</a>"
            ],
            "text/plain": [
              "<IPython.core.display.HTML object>"
            ]
          },
          "metadata": {},
          "output_type": "display_data"
        },
        {
          "output_type": "stream",
          "name": "stdout",
          "text": [
            "Train shape: (172963, 10, 1), (172963, 10, 1)\n",
            "Val shape: (11980, 10, 1), (11980, 10, 1)\n",
            "Epoch 1/1000\n",
            "43/43 [==============================] - 36s 273ms/step - loss: 40.8728 - val_loss: 26.4932\n",
            "Epoch 2/1000\n",
            "43/43 [==============================] - 9s 106ms/step - loss: 39.6457 - val_loss: 27.0155\n",
            "Epoch 3/1000\n",
            "43/43 [==============================] - 9s 105ms/step - loss: 39.0353 - val_loss: 26.5382\n",
            "Epoch 4/1000\n",
            "43/43 [==============================] - 9s 107ms/step - loss: 44.5797 - val_loss: 28.0487\n",
            "Epoch 5/1000\n",
            "43/43 [==============================] - 9s 107ms/step - loss: 36.5891 - val_loss: 26.6809\n",
            "Epoch 6/1000\n",
            "43/43 [==============================] - 9s 106ms/step - loss: 37.2646 - val_loss: 26.5355\n",
            "Epoch 7/1000\n",
            "43/43 [==============================] - 10s 127ms/step - loss: 42.8480 - val_loss: 26.0005\n",
            "Epoch 8/1000\n",
            "43/43 [==============================] - 9s 105ms/step - loss: 40.9647 - val_loss: 26.5131\n",
            "Epoch 9/1000\n",
            "43/43 [==============================] - 9s 108ms/step - loss: 35.9953 - val_loss: 26.1326\n",
            "Epoch 10/1000\n",
            "43/43 [==============================] - 10s 126ms/step - loss: 38.0604 - val_loss: 25.4051\n",
            "Epoch 11/1000\n",
            "43/43 [==============================] - 9s 105ms/step - loss: 32.0011 - val_loss: 25.5828\n",
            "Epoch 12/1000\n",
            "43/43 [==============================] - 10s 130ms/step - loss: 40.7059 - val_loss: 25.0761\n",
            "Epoch 13/1000\n",
            "43/43 [==============================] - 9s 106ms/step - loss: 31.3007 - val_loss: 26.2995\n",
            "Epoch 14/1000\n",
            "43/43 [==============================] - 9s 104ms/step - loss: 40.4093 - val_loss: 26.4064\n",
            "Epoch 15/1000\n",
            "43/43 [==============================] - 9s 106ms/step - loss: 32.4636 - val_loss: 26.3074\n",
            "Epoch 16/1000\n",
            "43/43 [==============================] - 9s 105ms/step - loss: 41.0343 - val_loss: 26.3577\n",
            "Epoch 17/1000\n",
            "43/43 [==============================] - 9s 106ms/step - loss: 35.3244 - val_loss: 27.1492\n",
            "Epoch 18/1000\n",
            "43/43 [==============================] - 9s 104ms/step - loss: 42.1306 - val_loss: 26.8178\n",
            "Epoch 19/1000\n",
            "43/43 [==============================] - 9s 105ms/step - loss: 48.5727 - val_loss: 25.6171\n",
            "Epoch 20/1000\n",
            "43/43 [==============================] - 9s 107ms/step - loss: 43.9488 - val_loss: 26.8721\n",
            "Epoch 21/1000\n",
            "43/43 [==============================] - 9s 106ms/step - loss: 32.9927 - val_loss: 26.8832\n",
            "Epoch 22/1000\n",
            "43/43 [==============================] - 9s 105ms/step - loss: 39.2034 - val_loss: 26.4875\n",
            "Epoch 23/1000\n",
            "43/43 [==============================] - 9s 104ms/step - loss: 46.9427 - val_loss: 25.9183\n",
            "Epoch 24/1000\n",
            "43/43 [==============================] - 9s 106ms/step - loss: 36.7051 - val_loss: 26.6359\n",
            "Epoch 25/1000\n",
            "43/43 [==============================] - 9s 107ms/step - loss: 39.2652 - val_loss: 26.3972\n",
            "Epoch 26/1000\n",
            "43/43 [==============================] - 9s 104ms/step - loss: 27.9484 - val_loss: 26.2084\n",
            "Epoch 27/1000\n",
            "43/43 [==============================] - 9s 105ms/step - loss: 39.0201 - val_loss: 26.8521\n",
            "Epoch 28/1000\n",
            "43/43 [==============================] - 9s 107ms/step - loss: 42.2277 - val_loss: 27.0555\n",
            "Epoch 29/1000\n",
            "43/43 [==============================] - 9s 106ms/step - loss: 33.9604 - val_loss: 27.0954\n",
            "Epoch 30/1000\n",
            "43/43 [==============================] - 9s 105ms/step - loss: 34.7245 - val_loss: 27.1890\n"
          ]
        },
        {
          "output_type": "display_data",
          "data": {
            "text/plain": [
              "<IPython.core.display.HTML object>"
            ],
            "text/html": [
              "Waiting for W&B process to finish... <strong style=\"color:green\">(success).</strong>"
            ]
          },
          "metadata": {}
        }
      ],
      "source": [
        "num_windows = 20 \n",
        "\n",
        "config = {\n",
        "    'LSTM_units': 4,\n",
        "    'Interface_units': 16,\n",
        "    'MLP_units': 600,\n",
        "    'LSTM_timesteps': 10,\n",
        "    'LSTM_layers': 6,\n",
        "    'MLP_layers': 7,\n",
        "    'Bn_momentum': 0.99,\n",
        "    'Lr': 0.005,\n",
        "    'Lr_decay': 0.89,\n",
        "    'Minibatch_size': 4096,\n",
        "    'Min_delta': 0.01 if moneyness else 1,\n",
        "    'Patience': 20,\n",
        "    'Num_features': 3 if moneyness else 4, \n",
        "    'Architecture': 'LSTM-MLP v.5.0',\n",
        "}\n",
        "\n",
        "# Ask before training, so that you don't have to verify later\n",
        "from google.colab import drive\n",
        "if google_colab == True:\n",
        "  drive.mount('/content/drive')\n",
        "\n",
        "df_test_combined = pd.DataFrame()\n",
        "\n",
        "checkpoint_time = datetime.now().strftime(\"%m-%d_%H-%M\")\n",
        "\n",
        "previous_checkpoint_path = None\n",
        "\n",
        "for window in range(num_windows):\n",
        "    if moneyness:\n",
        "        train_x, train_y, val_x, val_y, test_x, test_y, train_start, val_start, test_start, df_test, train_strike, val_strike, test_strike, = create_rw_dataset(window)\n",
        "    else:\n",
        "        train_x, train_y, val_x, val_y, test_x, test_y, train_start, val_start, test_start, df_test = create_rw_dataset(window)\n",
        "\n",
        "    checkpoint_path = f'/content/drive/MyDrive/01. Masters Thesis - Shared/05. Checkpoints/{checkpoint_time}/{train_start}/'\n",
        "\n",
        "    print('-------------------------------------------')\n",
        "    print(\"Checkpoint_path = \", checkpoint_path)\n",
        "    print(\"Previous checkpoint_path = \", previous_checkpoint_path)\n",
        "    print(\"Test start: \", test_start)\n",
        "    print(\"Window/Total Windows: \", window \"/\", num_windows)\n",
        "    print('-------------------------------------------')\n",
        "\n",
        "    config['Dataset'] = f'{train_start} - {val_start} - {test_start}'\n",
        "\n",
        "    trainer(config = config, project = 'Deep learning for option pricing - rolling windows', previous_checkpoint_path = previous_checkpoint_path, checkpoint_path = checkpoint_path)\n",
        "    c_model = load_model(checkpoint_path + \".h5\")\n",
        "    predictions = np.array(c_model(test_x))\n",
        "    print(f'--- Predictions for test_start {test_start} ---')\n",
        "    calculate_error(predictions, test_y)\n",
        "    print('-------------------------------------------')\n",
        "    df_test[\"Prediction\"] = predictions\n",
        "    df_test_combined = pd.concat([df_test_combined, df_test[[\"Quote_date\", \"Price\", \"Prediction\"] + bs_vars]])\n",
        "    \n",
        "    previous_checkpoint_path = checkpoint_path\n",
        "\n",
        "\n",
        "print(f\"--- All model predictions ---\")\n",
        "calculate_error(df_test_combined[\"Prediction\"], df_test_combined[\"Price\"])\n",
        "print(\"-------------------------------------------\")\n",
        "\n",
        "if google_colab == False:\n",
        "    predictions_path = './predictions/'\n",
        "    if checkpoint_path and not os.path.exists(predictions_path):\n",
        "        os.makedirs(predictions_path)\n",
        "    df_test_combined.to_csv(f'{predictions_path}{datetime.now().strftime(\"%m-%d_%H-%M\")}.csv')\n",
        "\n",
        "if google_colab == True:\n",
        "  path = '/content/drive/My Drive/Predictions/predictions_2015_v5_4_2weektest_modelloadv6.csv'\n",
        "  with open(path, 'w', encoding = 'utf-8-sig') as f:\n",
        "    df_test_combined.to_csv(f)"
      ]
    },
    {
      "cell_type": "markdown",
      "metadata": {
        "id": "ucgo2McGTnkt"
      },
      "source": [
        "### Load single model"
      ]
    },
    {
      "cell_type": "code",
      "execution_count": null,
      "metadata": {
        "id": "YggplbxMTnkt"
      },
      "outputs": [],
      "source": [
        "config = {\n",
        "    'LSTM_units': 4,\n",
        "    'Interface_units': 4,\n",
        "    'MLP_units': 600,\n",
        "    'LSTM_timesteps': 10,\n",
        "    'LSTM_layers': 3,\n",
        "    'MLP_layers': 7,\n",
        "    'Bn_momentum': 0.99,\n",
        "    'Lr': 0.0001,\n",
        "    'Lr_decay': 0.92,\n",
        "    'Minibatch_size': 4096,\n",
        "    'Min_delta': 0.01 if moneyness else 1,\n",
        "    'Patience': 20,\n",
        "    'Num_features': 3 if moneyness else 4, \n",
        "    'Architecture': 'LSTM-MLP v.1.0',\n",
        "}\n",
        "\n",
        "window = 1\n",
        "if moneyness:\n",
        "        train_x, train_y, val_x, val_y, test_x, test_y, train_start, val_start, test_start, df_test, train_strike, val_strike, test_strike, = create_rw_dataset(window)\n",
        "else:\n",
        "    train_x, train_y, val_x, val_y, test_x, test_y, train_start, val_start, test_start, df_test = create_rw_dataset(window)\n",
        "\n",
        "checkpoint_path = f'./checkpoint/03-20_12-35/{train_start}/'\n",
        "\n",
        "co = config_object(config)\n",
        "c_model = create_model(co)\n",
        "c_model.load_weights(checkpoint_path)\n",
        "predictions = np.array(c_model(test_x))\n",
        "print(f'--- Predictions for {test_start} ---')\n",
        "calculate_error(predictions, test_y)\n",
        "print('-------------------------------------------')"
      ]
    },
    {
      "cell_type": "code",
      "execution_count": null,
      "metadata": {
        "id": "MQQfeNDKTnkt"
      },
      "outputs": [],
      "source": []
    }
  ],
  "metadata": {
    "accelerator": "GPU",
    "colab": {
      "machine_shape": "hm",
      "provenance": []
    },
    "gpuClass": "standard",
    "kernelspec": {
      "display_name": "Python 3",
      "language": "python",
      "name": "python3"
    },
    "language_info": {
      "codemirror_mode": {
        "name": "ipython",
        "version": 3
      },
      "file_extension": ".py",
      "mimetype": "text/x-python",
      "name": "python",
      "nbconvert_exporter": "python",
      "pygments_lexer": "ipython3",
      "version": "3.10.9"
    },
    "vscode": {
      "interpreter": {
        "hash": "aee8b7b246df8f9039afb4144a1f6fd8d2ca17a180786b69acc140d282b71a49"
      }
    },
    "widgets": {
      "application/vnd.jupyter.widget-state+json": {
        "b7bd3da7630841f48ee12c472e155d36": {
          "model_module": "@jupyter-widgets/controls",
          "model_name": "VBoxModel",
          "model_module_version": "1.5.0",
          "state": {
            "_dom_classes": [],
            "_model_module": "@jupyter-widgets/controls",
            "_model_module_version": "1.5.0",
            "_model_name": "VBoxModel",
            "_view_count": null,
            "_view_module": "@jupyter-widgets/controls",
            "_view_module_version": "1.5.0",
            "_view_name": "VBoxView",
            "box_style": "",
            "children": [
              "IPY_MODEL_397311d9c8b64f32ba3ae0e785608aad",
              "IPY_MODEL_0988225246644845aa770c5b70796fe2"
            ],
            "layout": "IPY_MODEL_dc2fa3b454ea45a1a4ad5907e27b37d2"
          }
        },
        "397311d9c8b64f32ba3ae0e785608aad": {
          "model_module": "@jupyter-widgets/controls",
          "model_name": "LabelModel",
          "model_module_version": "1.5.0",
          "state": {
            "_dom_classes": [],
            "_model_module": "@jupyter-widgets/controls",
            "_model_module_version": "1.5.0",
            "_model_name": "LabelModel",
            "_view_count": null,
            "_view_module": "@jupyter-widgets/controls",
            "_view_module_version": "1.5.0",
            "_view_name": "LabelView",
            "description": "",
            "description_tooltip": null,
            "layout": "IPY_MODEL_f4640af24b6d49b6af11425d2a2605d2",
            "placeholder": "​",
            "style": "IPY_MODEL_780c42123e204494a8d98f520706ea6d",
            "value": "0.023 MB of 0.023 MB uploaded (0.000 MB deduped)\r"
          }
        },
        "0988225246644845aa770c5b70796fe2": {
          "model_module": "@jupyter-widgets/controls",
          "model_name": "FloatProgressModel",
          "model_module_version": "1.5.0",
          "state": {
            "_dom_classes": [],
            "_model_module": "@jupyter-widgets/controls",
            "_model_module_version": "1.5.0",
            "_model_name": "FloatProgressModel",
            "_view_count": null,
            "_view_module": "@jupyter-widgets/controls",
            "_view_module_version": "1.5.0",
            "_view_name": "ProgressView",
            "bar_style": "",
            "description": "",
            "description_tooltip": null,
            "layout": "IPY_MODEL_cd6a5f4de86d4ee79a6a404d614d3e74",
            "max": 1,
            "min": 0,
            "orientation": "horizontal",
            "style": "IPY_MODEL_7ecc79cd1d514d69b84b5c69131a9f24",
            "value": 1
          }
        },
        "dc2fa3b454ea45a1a4ad5907e27b37d2": {
          "model_module": "@jupyter-widgets/base",
          "model_name": "LayoutModel",
          "model_module_version": "1.2.0",
          "state": {
            "_model_module": "@jupyter-widgets/base",
            "_model_module_version": "1.2.0",
            "_model_name": "LayoutModel",
            "_view_count": null,
            "_view_module": "@jupyter-widgets/base",
            "_view_module_version": "1.2.0",
            "_view_name": "LayoutView",
            "align_content": null,
            "align_items": null,
            "align_self": null,
            "border": null,
            "bottom": null,
            "display": null,
            "flex": null,
            "flex_flow": null,
            "grid_area": null,
            "grid_auto_columns": null,
            "grid_auto_flow": null,
            "grid_auto_rows": null,
            "grid_column": null,
            "grid_gap": null,
            "grid_row": null,
            "grid_template_areas": null,
            "grid_template_columns": null,
            "grid_template_rows": null,
            "height": null,
            "justify_content": null,
            "justify_items": null,
            "left": null,
            "margin": null,
            "max_height": null,
            "max_width": null,
            "min_height": null,
            "min_width": null,
            "object_fit": null,
            "object_position": null,
            "order": null,
            "overflow": null,
            "overflow_x": null,
            "overflow_y": null,
            "padding": null,
            "right": null,
            "top": null,
            "visibility": null,
            "width": null
          }
        },
        "f4640af24b6d49b6af11425d2a2605d2": {
          "model_module": "@jupyter-widgets/base",
          "model_name": "LayoutModel",
          "model_module_version": "1.2.0",
          "state": {
            "_model_module": "@jupyter-widgets/base",
            "_model_module_version": "1.2.0",
            "_model_name": "LayoutModel",
            "_view_count": null,
            "_view_module": "@jupyter-widgets/base",
            "_view_module_version": "1.2.0",
            "_view_name": "LayoutView",
            "align_content": null,
            "align_items": null,
            "align_self": null,
            "border": null,
            "bottom": null,
            "display": null,
            "flex": null,
            "flex_flow": null,
            "grid_area": null,
            "grid_auto_columns": null,
            "grid_auto_flow": null,
            "grid_auto_rows": null,
            "grid_column": null,
            "grid_gap": null,
            "grid_row": null,
            "grid_template_areas": null,
            "grid_template_columns": null,
            "grid_template_rows": null,
            "height": null,
            "justify_content": null,
            "justify_items": null,
            "left": null,
            "margin": null,
            "max_height": null,
            "max_width": null,
            "min_height": null,
            "min_width": null,
            "object_fit": null,
            "object_position": null,
            "order": null,
            "overflow": null,
            "overflow_x": null,
            "overflow_y": null,
            "padding": null,
            "right": null,
            "top": null,
            "visibility": null,
            "width": null
          }
        },
        "780c42123e204494a8d98f520706ea6d": {
          "model_module": "@jupyter-widgets/controls",
          "model_name": "DescriptionStyleModel",
          "model_module_version": "1.5.0",
          "state": {
            "_model_module": "@jupyter-widgets/controls",
            "_model_module_version": "1.5.0",
            "_model_name": "DescriptionStyleModel",
            "_view_count": null,
            "_view_module": "@jupyter-widgets/base",
            "_view_module_version": "1.2.0",
            "_view_name": "StyleView",
            "description_width": ""
          }
        },
        "cd6a5f4de86d4ee79a6a404d614d3e74": {
          "model_module": "@jupyter-widgets/base",
          "model_name": "LayoutModel",
          "model_module_version": "1.2.0",
          "state": {
            "_model_module": "@jupyter-widgets/base",
            "_model_module_version": "1.2.0",
            "_model_name": "LayoutModel",
            "_view_count": null,
            "_view_module": "@jupyter-widgets/base",
            "_view_module_version": "1.2.0",
            "_view_name": "LayoutView",
            "align_content": null,
            "align_items": null,
            "align_self": null,
            "border": null,
            "bottom": null,
            "display": null,
            "flex": null,
            "flex_flow": null,
            "grid_area": null,
            "grid_auto_columns": null,
            "grid_auto_flow": null,
            "grid_auto_rows": null,
            "grid_column": null,
            "grid_gap": null,
            "grid_row": null,
            "grid_template_areas": null,
            "grid_template_columns": null,
            "grid_template_rows": null,
            "height": null,
            "justify_content": null,
            "justify_items": null,
            "left": null,
            "margin": null,
            "max_height": null,
            "max_width": null,
            "min_height": null,
            "min_width": null,
            "object_fit": null,
            "object_position": null,
            "order": null,
            "overflow": null,
            "overflow_x": null,
            "overflow_y": null,
            "padding": null,
            "right": null,
            "top": null,
            "visibility": null,
            "width": null
          }
        },
        "7ecc79cd1d514d69b84b5c69131a9f24": {
          "model_module": "@jupyter-widgets/controls",
          "model_name": "ProgressStyleModel",
          "model_module_version": "1.5.0",
          "state": {
            "_model_module": "@jupyter-widgets/controls",
            "_model_module_version": "1.5.0",
            "_model_name": "ProgressStyleModel",
            "_view_count": null,
            "_view_module": "@jupyter-widgets/base",
            "_view_module_version": "1.2.0",
            "_view_name": "StyleView",
            "bar_color": null,
            "description_width": ""
          }
        },
        "e2bd7202abf344ec959dd6942bb05de4": {
          "model_module": "@jupyter-widgets/controls",
          "model_name": "VBoxModel",
          "model_module_version": "1.5.0",
          "state": {
            "_dom_classes": [],
            "_model_module": "@jupyter-widgets/controls",
            "_model_module_version": "1.5.0",
            "_model_name": "VBoxModel",
            "_view_count": null,
            "_view_module": "@jupyter-widgets/controls",
            "_view_module_version": "1.5.0",
            "_view_name": "VBoxView",
            "box_style": "",
            "children": [
              "IPY_MODEL_a759fc4075b84c30843ba770a3ef9d53",
              "IPY_MODEL_68471fbb4cc64dd69ccb92ad4fe76452"
            ],
            "layout": "IPY_MODEL_5cd75aa4d12b4f6aa1ebac25a7cd10fa"
          }
        },
        "a759fc4075b84c30843ba770a3ef9d53": {
          "model_module": "@jupyter-widgets/controls",
          "model_name": "LabelModel",
          "model_module_version": "1.5.0",
          "state": {
            "_dom_classes": [],
            "_model_module": "@jupyter-widgets/controls",
            "_model_module_version": "1.5.0",
            "_model_name": "LabelModel",
            "_view_count": null,
            "_view_module": "@jupyter-widgets/controls",
            "_view_module_version": "1.5.0",
            "_view_name": "LabelView",
            "description": "",
            "description_tooltip": null,
            "layout": "IPY_MODEL_80082612113e4a05b49e9e1fea78f77e",
            "placeholder": "​",
            "style": "IPY_MODEL_c1e7f30404bf4cbd9fda7a8b55d018d4",
            "value": "0.017 MB of 0.017 MB uploaded (0.000 MB deduped)\r"
          }
        },
        "68471fbb4cc64dd69ccb92ad4fe76452": {
          "model_module": "@jupyter-widgets/controls",
          "model_name": "FloatProgressModel",
          "model_module_version": "1.5.0",
          "state": {
            "_dom_classes": [],
            "_model_module": "@jupyter-widgets/controls",
            "_model_module_version": "1.5.0",
            "_model_name": "FloatProgressModel",
            "_view_count": null,
            "_view_module": "@jupyter-widgets/controls",
            "_view_module_version": "1.5.0",
            "_view_name": "ProgressView",
            "bar_style": "",
            "description": "",
            "description_tooltip": null,
            "layout": "IPY_MODEL_d762c2a05dc840fc9e80b4c948f33695",
            "max": 1,
            "min": 0,
            "orientation": "horizontal",
            "style": "IPY_MODEL_eac16b8464d6497f9d67d54d6f11fab2",
            "value": 1
          }
        },
        "5cd75aa4d12b4f6aa1ebac25a7cd10fa": {
          "model_module": "@jupyter-widgets/base",
          "model_name": "LayoutModel",
          "model_module_version": "1.2.0",
          "state": {
            "_model_module": "@jupyter-widgets/base",
            "_model_module_version": "1.2.0",
            "_model_name": "LayoutModel",
            "_view_count": null,
            "_view_module": "@jupyter-widgets/base",
            "_view_module_version": "1.2.0",
            "_view_name": "LayoutView",
            "align_content": null,
            "align_items": null,
            "align_self": null,
            "border": null,
            "bottom": null,
            "display": null,
            "flex": null,
            "flex_flow": null,
            "grid_area": null,
            "grid_auto_columns": null,
            "grid_auto_flow": null,
            "grid_auto_rows": null,
            "grid_column": null,
            "grid_gap": null,
            "grid_row": null,
            "grid_template_areas": null,
            "grid_template_columns": null,
            "grid_template_rows": null,
            "height": null,
            "justify_content": null,
            "justify_items": null,
            "left": null,
            "margin": null,
            "max_height": null,
            "max_width": null,
            "min_height": null,
            "min_width": null,
            "object_fit": null,
            "object_position": null,
            "order": null,
            "overflow": null,
            "overflow_x": null,
            "overflow_y": null,
            "padding": null,
            "right": null,
            "top": null,
            "visibility": null,
            "width": null
          }
        },
        "80082612113e4a05b49e9e1fea78f77e": {
          "model_module": "@jupyter-widgets/base",
          "model_name": "LayoutModel",
          "model_module_version": "1.2.0",
          "state": {
            "_model_module": "@jupyter-widgets/base",
            "_model_module_version": "1.2.0",
            "_model_name": "LayoutModel",
            "_view_count": null,
            "_view_module": "@jupyter-widgets/base",
            "_view_module_version": "1.2.0",
            "_view_name": "LayoutView",
            "align_content": null,
            "align_items": null,
            "align_self": null,
            "border": null,
            "bottom": null,
            "display": null,
            "flex": null,
            "flex_flow": null,
            "grid_area": null,
            "grid_auto_columns": null,
            "grid_auto_flow": null,
            "grid_auto_rows": null,
            "grid_column": null,
            "grid_gap": null,
            "grid_row": null,
            "grid_template_areas": null,
            "grid_template_columns": null,
            "grid_template_rows": null,
            "height": null,
            "justify_content": null,
            "justify_items": null,
            "left": null,
            "margin": null,
            "max_height": null,
            "max_width": null,
            "min_height": null,
            "min_width": null,
            "object_fit": null,
            "object_position": null,
            "order": null,
            "overflow": null,
            "overflow_x": null,
            "overflow_y": null,
            "padding": null,
            "right": null,
            "top": null,
            "visibility": null,
            "width": null
          }
        },
        "c1e7f30404bf4cbd9fda7a8b55d018d4": {
          "model_module": "@jupyter-widgets/controls",
          "model_name": "DescriptionStyleModel",
          "model_module_version": "1.5.0",
          "state": {
            "_model_module": "@jupyter-widgets/controls",
            "_model_module_version": "1.5.0",
            "_model_name": "DescriptionStyleModel",
            "_view_count": null,
            "_view_module": "@jupyter-widgets/base",
            "_view_module_version": "1.2.0",
            "_view_name": "StyleView",
            "description_width": ""
          }
        },
        "d762c2a05dc840fc9e80b4c948f33695": {
          "model_module": "@jupyter-widgets/base",
          "model_name": "LayoutModel",
          "model_module_version": "1.2.0",
          "state": {
            "_model_module": "@jupyter-widgets/base",
            "_model_module_version": "1.2.0",
            "_model_name": "LayoutModel",
            "_view_count": null,
            "_view_module": "@jupyter-widgets/base",
            "_view_module_version": "1.2.0",
            "_view_name": "LayoutView",
            "align_content": null,
            "align_items": null,
            "align_self": null,
            "border": null,
            "bottom": null,
            "display": null,
            "flex": null,
            "flex_flow": null,
            "grid_area": null,
            "grid_auto_columns": null,
            "grid_auto_flow": null,
            "grid_auto_rows": null,
            "grid_column": null,
            "grid_gap": null,
            "grid_row": null,
            "grid_template_areas": null,
            "grid_template_columns": null,
            "grid_template_rows": null,
            "height": null,
            "justify_content": null,
            "justify_items": null,
            "left": null,
            "margin": null,
            "max_height": null,
            "max_width": null,
            "min_height": null,
            "min_width": null,
            "object_fit": null,
            "object_position": null,
            "order": null,
            "overflow": null,
            "overflow_x": null,
            "overflow_y": null,
            "padding": null,
            "right": null,
            "top": null,
            "visibility": null,
            "width": null
          }
        },
        "eac16b8464d6497f9d67d54d6f11fab2": {
          "model_module": "@jupyter-widgets/controls",
          "model_name": "ProgressStyleModel",
          "model_module_version": "1.5.0",
          "state": {
            "_model_module": "@jupyter-widgets/controls",
            "_model_module_version": "1.5.0",
            "_model_name": "ProgressStyleModel",
            "_view_count": null,
            "_view_module": "@jupyter-widgets/base",
            "_view_module_version": "1.2.0",
            "_view_name": "StyleView",
            "bar_color": null,
            "description_width": ""
          }
        },
        "b549885418884fef82dca20cf5f70298": {
          "model_module": "@jupyter-widgets/controls",
          "model_name": "VBoxModel",
          "model_module_version": "1.5.0",
          "state": {
            "_dom_classes": [],
            "_model_module": "@jupyter-widgets/controls",
            "_model_module_version": "1.5.0",
            "_model_name": "VBoxModel",
            "_view_count": null,
            "_view_module": "@jupyter-widgets/controls",
            "_view_module_version": "1.5.0",
            "_view_name": "VBoxView",
            "box_style": "",
            "children": [
              "IPY_MODEL_60c36c4bdacc4b67a3a63c5b870d47d1",
              "IPY_MODEL_e5f1859fbcf248f38d0e36ff8f82fe13"
            ],
            "layout": "IPY_MODEL_752d964580fb4f36bfb636d1c6e04f47"
          }
        },
        "60c36c4bdacc4b67a3a63c5b870d47d1": {
          "model_module": "@jupyter-widgets/controls",
          "model_name": "LabelModel",
          "model_module_version": "1.5.0",
          "state": {
            "_dom_classes": [],
            "_model_module": "@jupyter-widgets/controls",
            "_model_module_version": "1.5.0",
            "_model_name": "LabelModel",
            "_view_count": null,
            "_view_module": "@jupyter-widgets/controls",
            "_view_module_version": "1.5.0",
            "_view_name": "LabelView",
            "description": "",
            "description_tooltip": null,
            "layout": "IPY_MODEL_b01fb1af831b4ed492202b624a80ac72",
            "placeholder": "​",
            "style": "IPY_MODEL_5a90abffb803464c9d013e9a2e1e101a",
            "value": "0.006 MB of 0.018 MB uploaded (0.000 MB deduped)\r"
          }
        },
        "e5f1859fbcf248f38d0e36ff8f82fe13": {
          "model_module": "@jupyter-widgets/controls",
          "model_name": "FloatProgressModel",
          "model_module_version": "1.5.0",
          "state": {
            "_dom_classes": [],
            "_model_module": "@jupyter-widgets/controls",
            "_model_module_version": "1.5.0",
            "_model_name": "FloatProgressModel",
            "_view_count": null,
            "_view_module": "@jupyter-widgets/controls",
            "_view_module_version": "1.5.0",
            "_view_name": "ProgressView",
            "bar_style": "",
            "description": "",
            "description_tooltip": null,
            "layout": "IPY_MODEL_79fd6685f85e4118919abb07b2a18f48",
            "max": 1,
            "min": 0,
            "orientation": "horizontal",
            "style": "IPY_MODEL_d63cc5d709b04571812995523c90e730",
            "value": 0.3199500162990329
          }
        },
        "752d964580fb4f36bfb636d1c6e04f47": {
          "model_module": "@jupyter-widgets/base",
          "model_name": "LayoutModel",
          "model_module_version": "1.2.0",
          "state": {
            "_model_module": "@jupyter-widgets/base",
            "_model_module_version": "1.2.0",
            "_model_name": "LayoutModel",
            "_view_count": null,
            "_view_module": "@jupyter-widgets/base",
            "_view_module_version": "1.2.0",
            "_view_name": "LayoutView",
            "align_content": null,
            "align_items": null,
            "align_self": null,
            "border": null,
            "bottom": null,
            "display": null,
            "flex": null,
            "flex_flow": null,
            "grid_area": null,
            "grid_auto_columns": null,
            "grid_auto_flow": null,
            "grid_auto_rows": null,
            "grid_column": null,
            "grid_gap": null,
            "grid_row": null,
            "grid_template_areas": null,
            "grid_template_columns": null,
            "grid_template_rows": null,
            "height": null,
            "justify_content": null,
            "justify_items": null,
            "left": null,
            "margin": null,
            "max_height": null,
            "max_width": null,
            "min_height": null,
            "min_width": null,
            "object_fit": null,
            "object_position": null,
            "order": null,
            "overflow": null,
            "overflow_x": null,
            "overflow_y": null,
            "padding": null,
            "right": null,
            "top": null,
            "visibility": null,
            "width": null
          }
        },
        "b01fb1af831b4ed492202b624a80ac72": {
          "model_module": "@jupyter-widgets/base",
          "model_name": "LayoutModel",
          "model_module_version": "1.2.0",
          "state": {
            "_model_module": "@jupyter-widgets/base",
            "_model_module_version": "1.2.0",
            "_model_name": "LayoutModel",
            "_view_count": null,
            "_view_module": "@jupyter-widgets/base",
            "_view_module_version": "1.2.0",
            "_view_name": "LayoutView",
            "align_content": null,
            "align_items": null,
            "align_self": null,
            "border": null,
            "bottom": null,
            "display": null,
            "flex": null,
            "flex_flow": null,
            "grid_area": null,
            "grid_auto_columns": null,
            "grid_auto_flow": null,
            "grid_auto_rows": null,
            "grid_column": null,
            "grid_gap": null,
            "grid_row": null,
            "grid_template_areas": null,
            "grid_template_columns": null,
            "grid_template_rows": null,
            "height": null,
            "justify_content": null,
            "justify_items": null,
            "left": null,
            "margin": null,
            "max_height": null,
            "max_width": null,
            "min_height": null,
            "min_width": null,
            "object_fit": null,
            "object_position": null,
            "order": null,
            "overflow": null,
            "overflow_x": null,
            "overflow_y": null,
            "padding": null,
            "right": null,
            "top": null,
            "visibility": null,
            "width": null
          }
        },
        "5a90abffb803464c9d013e9a2e1e101a": {
          "model_module": "@jupyter-widgets/controls",
          "model_name": "DescriptionStyleModel",
          "model_module_version": "1.5.0",
          "state": {
            "_model_module": "@jupyter-widgets/controls",
            "_model_module_version": "1.5.0",
            "_model_name": "DescriptionStyleModel",
            "_view_count": null,
            "_view_module": "@jupyter-widgets/base",
            "_view_module_version": "1.2.0",
            "_view_name": "StyleView",
            "description_width": ""
          }
        },
        "79fd6685f85e4118919abb07b2a18f48": {
          "model_module": "@jupyter-widgets/base",
          "model_name": "LayoutModel",
          "model_module_version": "1.2.0",
          "state": {
            "_model_module": "@jupyter-widgets/base",
            "_model_module_version": "1.2.0",
            "_model_name": "LayoutModel",
            "_view_count": null,
            "_view_module": "@jupyter-widgets/base",
            "_view_module_version": "1.2.0",
            "_view_name": "LayoutView",
            "align_content": null,
            "align_items": null,
            "align_self": null,
            "border": null,
            "bottom": null,
            "display": null,
            "flex": null,
            "flex_flow": null,
            "grid_area": null,
            "grid_auto_columns": null,
            "grid_auto_flow": null,
            "grid_auto_rows": null,
            "grid_column": null,
            "grid_gap": null,
            "grid_row": null,
            "grid_template_areas": null,
            "grid_template_columns": null,
            "grid_template_rows": null,
            "height": null,
            "justify_content": null,
            "justify_items": null,
            "left": null,
            "margin": null,
            "max_height": null,
            "max_width": null,
            "min_height": null,
            "min_width": null,
            "object_fit": null,
            "object_position": null,
            "order": null,
            "overflow": null,
            "overflow_x": null,
            "overflow_y": null,
            "padding": null,
            "right": null,
            "top": null,
            "visibility": null,
            "width": null
          }
        },
        "d63cc5d709b04571812995523c90e730": {
          "model_module": "@jupyter-widgets/controls",
          "model_name": "ProgressStyleModel",
          "model_module_version": "1.5.0",
          "state": {
            "_model_module": "@jupyter-widgets/controls",
            "_model_module_version": "1.5.0",
            "_model_name": "ProgressStyleModel",
            "_view_count": null,
            "_view_module": "@jupyter-widgets/base",
            "_view_module_version": "1.2.0",
            "_view_name": "StyleView",
            "bar_color": null,
            "description_width": ""
          }
        },
        "0defdf9bedd543968f64a8d09f97b540": {
          "model_module": "@jupyter-widgets/controls",
          "model_name": "VBoxModel",
          "model_module_version": "1.5.0",
          "state": {
            "_dom_classes": [],
            "_model_module": "@jupyter-widgets/controls",
            "_model_module_version": "1.5.0",
            "_model_name": "VBoxModel",
            "_view_count": null,
            "_view_module": "@jupyter-widgets/controls",
            "_view_module_version": "1.5.0",
            "_view_name": "VBoxView",
            "box_style": "",
            "children": [
              "IPY_MODEL_027f11920dcd4c9f8035e25210c585ab",
              "IPY_MODEL_f74c8807f57b4a0381b2a95b8cc2a348"
            ],
            "layout": "IPY_MODEL_efdbeff488a943d194d9d57003aba058"
          }
        },
        "027f11920dcd4c9f8035e25210c585ab": {
          "model_module": "@jupyter-widgets/controls",
          "model_name": "LabelModel",
          "model_module_version": "1.5.0",
          "state": {
            "_dom_classes": [],
            "_model_module": "@jupyter-widgets/controls",
            "_model_module_version": "1.5.0",
            "_model_name": "LabelModel",
            "_view_count": null,
            "_view_module": "@jupyter-widgets/controls",
            "_view_module_version": "1.5.0",
            "_view_name": "LabelView",
            "description": "",
            "description_tooltip": null,
            "layout": "IPY_MODEL_aa3d1c4226284ee694f5f2eab429d950",
            "placeholder": "​",
            "style": "IPY_MODEL_2ec000809bbb4a6081b24afa65d635eb",
            "value": "0.006 MB of 0.017 MB uploaded (0.000 MB deduped)\r"
          }
        },
        "f74c8807f57b4a0381b2a95b8cc2a348": {
          "model_module": "@jupyter-widgets/controls",
          "model_name": "FloatProgressModel",
          "model_module_version": "1.5.0",
          "state": {
            "_dom_classes": [],
            "_model_module": "@jupyter-widgets/controls",
            "_model_module_version": "1.5.0",
            "_model_name": "FloatProgressModel",
            "_view_count": null,
            "_view_module": "@jupyter-widgets/controls",
            "_view_module_version": "1.5.0",
            "_view_name": "ProgressView",
            "bar_style": "",
            "description": "",
            "description_tooltip": null,
            "layout": "IPY_MODEL_ee51dcdc8cf14e7d9743d3f96805eff0",
            "max": 1,
            "min": 0,
            "orientation": "horizontal",
            "style": "IPY_MODEL_b631454f1e424e258f51f1665c376545",
            "value": 0.3313449634214969
          }
        },
        "efdbeff488a943d194d9d57003aba058": {
          "model_module": "@jupyter-widgets/base",
          "model_name": "LayoutModel",
          "model_module_version": "1.2.0",
          "state": {
            "_model_module": "@jupyter-widgets/base",
            "_model_module_version": "1.2.0",
            "_model_name": "LayoutModel",
            "_view_count": null,
            "_view_module": "@jupyter-widgets/base",
            "_view_module_version": "1.2.0",
            "_view_name": "LayoutView",
            "align_content": null,
            "align_items": null,
            "align_self": null,
            "border": null,
            "bottom": null,
            "display": null,
            "flex": null,
            "flex_flow": null,
            "grid_area": null,
            "grid_auto_columns": null,
            "grid_auto_flow": null,
            "grid_auto_rows": null,
            "grid_column": null,
            "grid_gap": null,
            "grid_row": null,
            "grid_template_areas": null,
            "grid_template_columns": null,
            "grid_template_rows": null,
            "height": null,
            "justify_content": null,
            "justify_items": null,
            "left": null,
            "margin": null,
            "max_height": null,
            "max_width": null,
            "min_height": null,
            "min_width": null,
            "object_fit": null,
            "object_position": null,
            "order": null,
            "overflow": null,
            "overflow_x": null,
            "overflow_y": null,
            "padding": null,
            "right": null,
            "top": null,
            "visibility": null,
            "width": null
          }
        },
        "aa3d1c4226284ee694f5f2eab429d950": {
          "model_module": "@jupyter-widgets/base",
          "model_name": "LayoutModel",
          "model_module_version": "1.2.0",
          "state": {
            "_model_module": "@jupyter-widgets/base",
            "_model_module_version": "1.2.0",
            "_model_name": "LayoutModel",
            "_view_count": null,
            "_view_module": "@jupyter-widgets/base",
            "_view_module_version": "1.2.0",
            "_view_name": "LayoutView",
            "align_content": null,
            "align_items": null,
            "align_self": null,
            "border": null,
            "bottom": null,
            "display": null,
            "flex": null,
            "flex_flow": null,
            "grid_area": null,
            "grid_auto_columns": null,
            "grid_auto_flow": null,
            "grid_auto_rows": null,
            "grid_column": null,
            "grid_gap": null,
            "grid_row": null,
            "grid_template_areas": null,
            "grid_template_columns": null,
            "grid_template_rows": null,
            "height": null,
            "justify_content": null,
            "justify_items": null,
            "left": null,
            "margin": null,
            "max_height": null,
            "max_width": null,
            "min_height": null,
            "min_width": null,
            "object_fit": null,
            "object_position": null,
            "order": null,
            "overflow": null,
            "overflow_x": null,
            "overflow_y": null,
            "padding": null,
            "right": null,
            "top": null,
            "visibility": null,
            "width": null
          }
        },
        "2ec000809bbb4a6081b24afa65d635eb": {
          "model_module": "@jupyter-widgets/controls",
          "model_name": "DescriptionStyleModel",
          "model_module_version": "1.5.0",
          "state": {
            "_model_module": "@jupyter-widgets/controls",
            "_model_module_version": "1.5.0",
            "_model_name": "DescriptionStyleModel",
            "_view_count": null,
            "_view_module": "@jupyter-widgets/base",
            "_view_module_version": "1.2.0",
            "_view_name": "StyleView",
            "description_width": ""
          }
        },
        "ee51dcdc8cf14e7d9743d3f96805eff0": {
          "model_module": "@jupyter-widgets/base",
          "model_name": "LayoutModel",
          "model_module_version": "1.2.0",
          "state": {
            "_model_module": "@jupyter-widgets/base",
            "_model_module_version": "1.2.0",
            "_model_name": "LayoutModel",
            "_view_count": null,
            "_view_module": "@jupyter-widgets/base",
            "_view_module_version": "1.2.0",
            "_view_name": "LayoutView",
            "align_content": null,
            "align_items": null,
            "align_self": null,
            "border": null,
            "bottom": null,
            "display": null,
            "flex": null,
            "flex_flow": null,
            "grid_area": null,
            "grid_auto_columns": null,
            "grid_auto_flow": null,
            "grid_auto_rows": null,
            "grid_column": null,
            "grid_gap": null,
            "grid_row": null,
            "grid_template_areas": null,
            "grid_template_columns": null,
            "grid_template_rows": null,
            "height": null,
            "justify_content": null,
            "justify_items": null,
            "left": null,
            "margin": null,
            "max_height": null,
            "max_width": null,
            "min_height": null,
            "min_width": null,
            "object_fit": null,
            "object_position": null,
            "order": null,
            "overflow": null,
            "overflow_x": null,
            "overflow_y": null,
            "padding": null,
            "right": null,
            "top": null,
            "visibility": null,
            "width": null
          }
        },
        "b631454f1e424e258f51f1665c376545": {
          "model_module": "@jupyter-widgets/controls",
          "model_name": "ProgressStyleModel",
          "model_module_version": "1.5.0",
          "state": {
            "_model_module": "@jupyter-widgets/controls",
            "_model_module_version": "1.5.0",
            "_model_name": "ProgressStyleModel",
            "_view_count": null,
            "_view_module": "@jupyter-widgets/base",
            "_view_module_version": "1.2.0",
            "_view_name": "StyleView",
            "bar_color": null,
            "description_width": ""
          }
        },
        "360154f226034f19b9064411a3974829": {
          "model_module": "@jupyter-widgets/controls",
          "model_name": "VBoxModel",
          "model_module_version": "1.5.0",
          "state": {
            "_dom_classes": [],
            "_model_module": "@jupyter-widgets/controls",
            "_model_module_version": "1.5.0",
            "_model_name": "VBoxModel",
            "_view_count": null,
            "_view_module": "@jupyter-widgets/controls",
            "_view_module_version": "1.5.0",
            "_view_name": "VBoxView",
            "box_style": "",
            "children": [
              "IPY_MODEL_d162de41cef94dac8f49e6213e9e4107",
              "IPY_MODEL_a78759ac9d8b4e3d929d685dcfa13207"
            ],
            "layout": "IPY_MODEL_40d2c5f9527648b69a963ed582c41942"
          }
        },
        "d162de41cef94dac8f49e6213e9e4107": {
          "model_module": "@jupyter-widgets/controls",
          "model_name": "LabelModel",
          "model_module_version": "1.5.0",
          "state": {
            "_dom_classes": [],
            "_model_module": "@jupyter-widgets/controls",
            "_model_module_version": "1.5.0",
            "_model_name": "LabelModel",
            "_view_count": null,
            "_view_module": "@jupyter-widgets/controls",
            "_view_module_version": "1.5.0",
            "_view_name": "LabelView",
            "description": "",
            "description_tooltip": null,
            "layout": "IPY_MODEL_183ad62885e042038934277737be583f",
            "placeholder": "​",
            "style": "IPY_MODEL_bc782b6f33924c3d9e97ba5f2c158c59",
            "value": "0.019 MB of 0.019 MB uploaded (0.000 MB deduped)\r"
          }
        },
        "a78759ac9d8b4e3d929d685dcfa13207": {
          "model_module": "@jupyter-widgets/controls",
          "model_name": "FloatProgressModel",
          "model_module_version": "1.5.0",
          "state": {
            "_dom_classes": [],
            "_model_module": "@jupyter-widgets/controls",
            "_model_module_version": "1.5.0",
            "_model_name": "FloatProgressModel",
            "_view_count": null,
            "_view_module": "@jupyter-widgets/controls",
            "_view_module_version": "1.5.0",
            "_view_name": "ProgressView",
            "bar_style": "",
            "description": "",
            "description_tooltip": null,
            "layout": "IPY_MODEL_e1e21a64e2c14bebb238fd311752c1a7",
            "max": 1,
            "min": 0,
            "orientation": "horizontal",
            "style": "IPY_MODEL_fe0279c910344243af49e4212b5109f6",
            "value": 1
          }
        },
        "40d2c5f9527648b69a963ed582c41942": {
          "model_module": "@jupyter-widgets/base",
          "model_name": "LayoutModel",
          "model_module_version": "1.2.0",
          "state": {
            "_model_module": "@jupyter-widgets/base",
            "_model_module_version": "1.2.0",
            "_model_name": "LayoutModel",
            "_view_count": null,
            "_view_module": "@jupyter-widgets/base",
            "_view_module_version": "1.2.0",
            "_view_name": "LayoutView",
            "align_content": null,
            "align_items": null,
            "align_self": null,
            "border": null,
            "bottom": null,
            "display": null,
            "flex": null,
            "flex_flow": null,
            "grid_area": null,
            "grid_auto_columns": null,
            "grid_auto_flow": null,
            "grid_auto_rows": null,
            "grid_column": null,
            "grid_gap": null,
            "grid_row": null,
            "grid_template_areas": null,
            "grid_template_columns": null,
            "grid_template_rows": null,
            "height": null,
            "justify_content": null,
            "justify_items": null,
            "left": null,
            "margin": null,
            "max_height": null,
            "max_width": null,
            "min_height": null,
            "min_width": null,
            "object_fit": null,
            "object_position": null,
            "order": null,
            "overflow": null,
            "overflow_x": null,
            "overflow_y": null,
            "padding": null,
            "right": null,
            "top": null,
            "visibility": null,
            "width": null
          }
        },
        "183ad62885e042038934277737be583f": {
          "model_module": "@jupyter-widgets/base",
          "model_name": "LayoutModel",
          "model_module_version": "1.2.0",
          "state": {
            "_model_module": "@jupyter-widgets/base",
            "_model_module_version": "1.2.0",
            "_model_name": "LayoutModel",
            "_view_count": null,
            "_view_module": "@jupyter-widgets/base",
            "_view_module_version": "1.2.0",
            "_view_name": "LayoutView",
            "align_content": null,
            "align_items": null,
            "align_self": null,
            "border": null,
            "bottom": null,
            "display": null,
            "flex": null,
            "flex_flow": null,
            "grid_area": null,
            "grid_auto_columns": null,
            "grid_auto_flow": null,
            "grid_auto_rows": null,
            "grid_column": null,
            "grid_gap": null,
            "grid_row": null,
            "grid_template_areas": null,
            "grid_template_columns": null,
            "grid_template_rows": null,
            "height": null,
            "justify_content": null,
            "justify_items": null,
            "left": null,
            "margin": null,
            "max_height": null,
            "max_width": null,
            "min_height": null,
            "min_width": null,
            "object_fit": null,
            "object_position": null,
            "order": null,
            "overflow": null,
            "overflow_x": null,
            "overflow_y": null,
            "padding": null,
            "right": null,
            "top": null,
            "visibility": null,
            "width": null
          }
        },
        "bc782b6f33924c3d9e97ba5f2c158c59": {
          "model_module": "@jupyter-widgets/controls",
          "model_name": "DescriptionStyleModel",
          "model_module_version": "1.5.0",
          "state": {
            "_model_module": "@jupyter-widgets/controls",
            "_model_module_version": "1.5.0",
            "_model_name": "DescriptionStyleModel",
            "_view_count": null,
            "_view_module": "@jupyter-widgets/base",
            "_view_module_version": "1.2.0",
            "_view_name": "StyleView",
            "description_width": ""
          }
        },
        "e1e21a64e2c14bebb238fd311752c1a7": {
          "model_module": "@jupyter-widgets/base",
          "model_name": "LayoutModel",
          "model_module_version": "1.2.0",
          "state": {
            "_model_module": "@jupyter-widgets/base",
            "_model_module_version": "1.2.0",
            "_model_name": "LayoutModel",
            "_view_count": null,
            "_view_module": "@jupyter-widgets/base",
            "_view_module_version": "1.2.0",
            "_view_name": "LayoutView",
            "align_content": null,
            "align_items": null,
            "align_self": null,
            "border": null,
            "bottom": null,
            "display": null,
            "flex": null,
            "flex_flow": null,
            "grid_area": null,
            "grid_auto_columns": null,
            "grid_auto_flow": null,
            "grid_auto_rows": null,
            "grid_column": null,
            "grid_gap": null,
            "grid_row": null,
            "grid_template_areas": null,
            "grid_template_columns": null,
            "grid_template_rows": null,
            "height": null,
            "justify_content": null,
            "justify_items": null,
            "left": null,
            "margin": null,
            "max_height": null,
            "max_width": null,
            "min_height": null,
            "min_width": null,
            "object_fit": null,
            "object_position": null,
            "order": null,
            "overflow": null,
            "overflow_x": null,
            "overflow_y": null,
            "padding": null,
            "right": null,
            "top": null,
            "visibility": null,
            "width": null
          }
        },
        "fe0279c910344243af49e4212b5109f6": {
          "model_module": "@jupyter-widgets/controls",
          "model_name": "ProgressStyleModel",
          "model_module_version": "1.5.0",
          "state": {
            "_model_module": "@jupyter-widgets/controls",
            "_model_module_version": "1.5.0",
            "_model_name": "ProgressStyleModel",
            "_view_count": null,
            "_view_module": "@jupyter-widgets/base",
            "_view_module_version": "1.2.0",
            "_view_name": "StyleView",
            "bar_color": null,
            "description_width": ""
          }
        },
        "f20e0257229f41f8aa3256f584bb383f": {
          "model_module": "@jupyter-widgets/controls",
          "model_name": "VBoxModel",
          "model_module_version": "1.5.0",
          "state": {
            "_dom_classes": [],
            "_model_module": "@jupyter-widgets/controls",
            "_model_module_version": "1.5.0",
            "_model_name": "VBoxModel",
            "_view_count": null,
            "_view_module": "@jupyter-widgets/controls",
            "_view_module_version": "1.5.0",
            "_view_name": "VBoxView",
            "box_style": "",
            "children": [
              "IPY_MODEL_e8647065267a4282a3c79b2508c84000",
              "IPY_MODEL_db6c14f3940449c7a43ebf2288c0eb14"
            ],
            "layout": "IPY_MODEL_0dd9035b7d5c414e8863869959171a04"
          }
        },
        "e8647065267a4282a3c79b2508c84000": {
          "model_module": "@jupyter-widgets/controls",
          "model_name": "LabelModel",
          "model_module_version": "1.5.0",
          "state": {
            "_dom_classes": [],
            "_model_module": "@jupyter-widgets/controls",
            "_model_module_version": "1.5.0",
            "_model_name": "LabelModel",
            "_view_count": null,
            "_view_module": "@jupyter-widgets/controls",
            "_view_module_version": "1.5.0",
            "_view_name": "LabelView",
            "description": "",
            "description_tooltip": null,
            "layout": "IPY_MODEL_f1505807ae314da69e55e6408f0f52d0",
            "placeholder": "​",
            "style": "IPY_MODEL_4590cb302e8640308e1f5ff7f47bdcb9",
            "value": "0.006 MB of 0.017 MB uploaded (0.000 MB deduped)\r"
          }
        },
        "db6c14f3940449c7a43ebf2288c0eb14": {
          "model_module": "@jupyter-widgets/controls",
          "model_name": "FloatProgressModel",
          "model_module_version": "1.5.0",
          "state": {
            "_dom_classes": [],
            "_model_module": "@jupyter-widgets/controls",
            "_model_module_version": "1.5.0",
            "_model_name": "FloatProgressModel",
            "_view_count": null,
            "_view_module": "@jupyter-widgets/controls",
            "_view_module_version": "1.5.0",
            "_view_name": "ProgressView",
            "bar_style": "",
            "description": "",
            "description_tooltip": null,
            "layout": "IPY_MODEL_1086e1c7e20f43aa999ade5844697f0d",
            "max": 1,
            "min": 0,
            "orientation": "horizontal",
            "style": "IPY_MODEL_c213e310e6ca4f23a027691a0180f00d",
            "value": 0.3393093906727388
          }
        },
        "0dd9035b7d5c414e8863869959171a04": {
          "model_module": "@jupyter-widgets/base",
          "model_name": "LayoutModel",
          "model_module_version": "1.2.0",
          "state": {
            "_model_module": "@jupyter-widgets/base",
            "_model_module_version": "1.2.0",
            "_model_name": "LayoutModel",
            "_view_count": null,
            "_view_module": "@jupyter-widgets/base",
            "_view_module_version": "1.2.0",
            "_view_name": "LayoutView",
            "align_content": null,
            "align_items": null,
            "align_self": null,
            "border": null,
            "bottom": null,
            "display": null,
            "flex": null,
            "flex_flow": null,
            "grid_area": null,
            "grid_auto_columns": null,
            "grid_auto_flow": null,
            "grid_auto_rows": null,
            "grid_column": null,
            "grid_gap": null,
            "grid_row": null,
            "grid_template_areas": null,
            "grid_template_columns": null,
            "grid_template_rows": null,
            "height": null,
            "justify_content": null,
            "justify_items": null,
            "left": null,
            "margin": null,
            "max_height": null,
            "max_width": null,
            "min_height": null,
            "min_width": null,
            "object_fit": null,
            "object_position": null,
            "order": null,
            "overflow": null,
            "overflow_x": null,
            "overflow_y": null,
            "padding": null,
            "right": null,
            "top": null,
            "visibility": null,
            "width": null
          }
        },
        "f1505807ae314da69e55e6408f0f52d0": {
          "model_module": "@jupyter-widgets/base",
          "model_name": "LayoutModel",
          "model_module_version": "1.2.0",
          "state": {
            "_model_module": "@jupyter-widgets/base",
            "_model_module_version": "1.2.0",
            "_model_name": "LayoutModel",
            "_view_count": null,
            "_view_module": "@jupyter-widgets/base",
            "_view_module_version": "1.2.0",
            "_view_name": "LayoutView",
            "align_content": null,
            "align_items": null,
            "align_self": null,
            "border": null,
            "bottom": null,
            "display": null,
            "flex": null,
            "flex_flow": null,
            "grid_area": null,
            "grid_auto_columns": null,
            "grid_auto_flow": null,
            "grid_auto_rows": null,
            "grid_column": null,
            "grid_gap": null,
            "grid_row": null,
            "grid_template_areas": null,
            "grid_template_columns": null,
            "grid_template_rows": null,
            "height": null,
            "justify_content": null,
            "justify_items": null,
            "left": null,
            "margin": null,
            "max_height": null,
            "max_width": null,
            "min_height": null,
            "min_width": null,
            "object_fit": null,
            "object_position": null,
            "order": null,
            "overflow": null,
            "overflow_x": null,
            "overflow_y": null,
            "padding": null,
            "right": null,
            "top": null,
            "visibility": null,
            "width": null
          }
        },
        "4590cb302e8640308e1f5ff7f47bdcb9": {
          "model_module": "@jupyter-widgets/controls",
          "model_name": "DescriptionStyleModel",
          "model_module_version": "1.5.0",
          "state": {
            "_model_module": "@jupyter-widgets/controls",
            "_model_module_version": "1.5.0",
            "_model_name": "DescriptionStyleModel",
            "_view_count": null,
            "_view_module": "@jupyter-widgets/base",
            "_view_module_version": "1.2.0",
            "_view_name": "StyleView",
            "description_width": ""
          }
        },
        "1086e1c7e20f43aa999ade5844697f0d": {
          "model_module": "@jupyter-widgets/base",
          "model_name": "LayoutModel",
          "model_module_version": "1.2.0",
          "state": {
            "_model_module": "@jupyter-widgets/base",
            "_model_module_version": "1.2.0",
            "_model_name": "LayoutModel",
            "_view_count": null,
            "_view_module": "@jupyter-widgets/base",
            "_view_module_version": "1.2.0",
            "_view_name": "LayoutView",
            "align_content": null,
            "align_items": null,
            "align_self": null,
            "border": null,
            "bottom": null,
            "display": null,
            "flex": null,
            "flex_flow": null,
            "grid_area": null,
            "grid_auto_columns": null,
            "grid_auto_flow": null,
            "grid_auto_rows": null,
            "grid_column": null,
            "grid_gap": null,
            "grid_row": null,
            "grid_template_areas": null,
            "grid_template_columns": null,
            "grid_template_rows": null,
            "height": null,
            "justify_content": null,
            "justify_items": null,
            "left": null,
            "margin": null,
            "max_height": null,
            "max_width": null,
            "min_height": null,
            "min_width": null,
            "object_fit": null,
            "object_position": null,
            "order": null,
            "overflow": null,
            "overflow_x": null,
            "overflow_y": null,
            "padding": null,
            "right": null,
            "top": null,
            "visibility": null,
            "width": null
          }
        },
        "c213e310e6ca4f23a027691a0180f00d": {
          "model_module": "@jupyter-widgets/controls",
          "model_name": "ProgressStyleModel",
          "model_module_version": "1.5.0",
          "state": {
            "_model_module": "@jupyter-widgets/controls",
            "_model_module_version": "1.5.0",
            "_model_name": "ProgressStyleModel",
            "_view_count": null,
            "_view_module": "@jupyter-widgets/base",
            "_view_module_version": "1.2.0",
            "_view_name": "StyleView",
            "bar_color": null,
            "description_width": ""
          }
        },
        "6a67f6b67aee4e20ab1fc6a40b86d9dd": {
          "model_module": "@jupyter-widgets/controls",
          "model_name": "VBoxModel",
          "model_module_version": "1.5.0",
          "state": {
            "_dom_classes": [],
            "_model_module": "@jupyter-widgets/controls",
            "_model_module_version": "1.5.0",
            "_model_name": "VBoxModel",
            "_view_count": null,
            "_view_module": "@jupyter-widgets/controls",
            "_view_module_version": "1.5.0",
            "_view_name": "VBoxView",
            "box_style": "",
            "children": [
              "IPY_MODEL_f84f171505214ff1a8633735c489952b",
              "IPY_MODEL_d96e752a95384864a41ddd8634d82498"
            ],
            "layout": "IPY_MODEL_5856d2cdbd0e458c9d1c48e70940130d"
          }
        },
        "f84f171505214ff1a8633735c489952b": {
          "model_module": "@jupyter-widgets/controls",
          "model_name": "LabelModel",
          "model_module_version": "1.5.0",
          "state": {
            "_dom_classes": [],
            "_model_module": "@jupyter-widgets/controls",
            "_model_module_version": "1.5.0",
            "_model_name": "LabelModel",
            "_view_count": null,
            "_view_module": "@jupyter-widgets/controls",
            "_view_module_version": "1.5.0",
            "_view_name": "LabelView",
            "description": "",
            "description_tooltip": null,
            "layout": "IPY_MODEL_a13950e2ac354109887313b58ec70fea",
            "placeholder": "​",
            "style": "IPY_MODEL_0023e501cc4f455e842a2f105c748cf0",
            "value": ""
          }
        },
        "d96e752a95384864a41ddd8634d82498": {
          "model_module": "@jupyter-widgets/controls",
          "model_name": "FloatProgressModel",
          "model_module_version": "1.5.0",
          "state": {
            "_dom_classes": [],
            "_model_module": "@jupyter-widgets/controls",
            "_model_module_version": "1.5.0",
            "_model_name": "FloatProgressModel",
            "_view_count": null,
            "_view_module": "@jupyter-widgets/controls",
            "_view_module_version": "1.5.0",
            "_view_name": "ProgressView",
            "bar_style": "",
            "description": "",
            "description_tooltip": null,
            "layout": "IPY_MODEL_355a06c01c7042198a1ee5e86c4c7127",
            "max": 1,
            "min": 0,
            "orientation": "horizontal",
            "style": "IPY_MODEL_1000e5afb72340e3b7dd4417f8d1264f",
            "value": 0
          }
        },
        "5856d2cdbd0e458c9d1c48e70940130d": {
          "model_module": "@jupyter-widgets/base",
          "model_name": "LayoutModel",
          "model_module_version": "1.2.0",
          "state": {
            "_model_module": "@jupyter-widgets/base",
            "_model_module_version": "1.2.0",
            "_model_name": "LayoutModel",
            "_view_count": null,
            "_view_module": "@jupyter-widgets/base",
            "_view_module_version": "1.2.0",
            "_view_name": "LayoutView",
            "align_content": null,
            "align_items": null,
            "align_self": null,
            "border": null,
            "bottom": null,
            "display": null,
            "flex": null,
            "flex_flow": null,
            "grid_area": null,
            "grid_auto_columns": null,
            "grid_auto_flow": null,
            "grid_auto_rows": null,
            "grid_column": null,
            "grid_gap": null,
            "grid_row": null,
            "grid_template_areas": null,
            "grid_template_columns": null,
            "grid_template_rows": null,
            "height": null,
            "justify_content": null,
            "justify_items": null,
            "left": null,
            "margin": null,
            "max_height": null,
            "max_width": null,
            "min_height": null,
            "min_width": null,
            "object_fit": null,
            "object_position": null,
            "order": null,
            "overflow": null,
            "overflow_x": null,
            "overflow_y": null,
            "padding": null,
            "right": null,
            "top": null,
            "visibility": null,
            "width": null
          }
        },
        "a13950e2ac354109887313b58ec70fea": {
          "model_module": "@jupyter-widgets/base",
          "model_name": "LayoutModel",
          "model_module_version": "1.2.0",
          "state": {
            "_model_module": "@jupyter-widgets/base",
            "_model_module_version": "1.2.0",
            "_model_name": "LayoutModel",
            "_view_count": null,
            "_view_module": "@jupyter-widgets/base",
            "_view_module_version": "1.2.0",
            "_view_name": "LayoutView",
            "align_content": null,
            "align_items": null,
            "align_self": null,
            "border": null,
            "bottom": null,
            "display": null,
            "flex": null,
            "flex_flow": null,
            "grid_area": null,
            "grid_auto_columns": null,
            "grid_auto_flow": null,
            "grid_auto_rows": null,
            "grid_column": null,
            "grid_gap": null,
            "grid_row": null,
            "grid_template_areas": null,
            "grid_template_columns": null,
            "grid_template_rows": null,
            "height": null,
            "justify_content": null,
            "justify_items": null,
            "left": null,
            "margin": null,
            "max_height": null,
            "max_width": null,
            "min_height": null,
            "min_width": null,
            "object_fit": null,
            "object_position": null,
            "order": null,
            "overflow": null,
            "overflow_x": null,
            "overflow_y": null,
            "padding": null,
            "right": null,
            "top": null,
            "visibility": null,
            "width": null
          }
        },
        "0023e501cc4f455e842a2f105c748cf0": {
          "model_module": "@jupyter-widgets/controls",
          "model_name": "DescriptionStyleModel",
          "model_module_version": "1.5.0",
          "state": {
            "_model_module": "@jupyter-widgets/controls",
            "_model_module_version": "1.5.0",
            "_model_name": "DescriptionStyleModel",
            "_view_count": null,
            "_view_module": "@jupyter-widgets/base",
            "_view_module_version": "1.2.0",
            "_view_name": "StyleView",
            "description_width": ""
          }
        },
        "355a06c01c7042198a1ee5e86c4c7127": {
          "model_module": "@jupyter-widgets/base",
          "model_name": "LayoutModel",
          "model_module_version": "1.2.0",
          "state": {
            "_model_module": "@jupyter-widgets/base",
            "_model_module_version": "1.2.0",
            "_model_name": "LayoutModel",
            "_view_count": null,
            "_view_module": "@jupyter-widgets/base",
            "_view_module_version": "1.2.0",
            "_view_name": "LayoutView",
            "align_content": null,
            "align_items": null,
            "align_self": null,
            "border": null,
            "bottom": null,
            "display": null,
            "flex": null,
            "flex_flow": null,
            "grid_area": null,
            "grid_auto_columns": null,
            "grid_auto_flow": null,
            "grid_auto_rows": null,
            "grid_column": null,
            "grid_gap": null,
            "grid_row": null,
            "grid_template_areas": null,
            "grid_template_columns": null,
            "grid_template_rows": null,
            "height": null,
            "justify_content": null,
            "justify_items": null,
            "left": null,
            "margin": null,
            "max_height": null,
            "max_width": null,
            "min_height": null,
            "min_width": null,
            "object_fit": null,
            "object_position": null,
            "order": null,
            "overflow": null,
            "overflow_x": null,
            "overflow_y": null,
            "padding": null,
            "right": null,
            "top": null,
            "visibility": null,
            "width": null
          }
        },
        "1000e5afb72340e3b7dd4417f8d1264f": {
          "model_module": "@jupyter-widgets/controls",
          "model_name": "ProgressStyleModel",
          "model_module_version": "1.5.0",
          "state": {
            "_model_module": "@jupyter-widgets/controls",
            "_model_module_version": "1.5.0",
            "_model_name": "ProgressStyleModel",
            "_view_count": null,
            "_view_module": "@jupyter-widgets/base",
            "_view_module_version": "1.2.0",
            "_view_name": "StyleView",
            "bar_color": null,
            "description_width": ""
          }
        },
        "59652d9f2de047d8801ef3f40c6b3eb2": {
          "model_module": "@jupyter-widgets/controls",
          "model_name": "VBoxModel",
          "model_module_version": "1.5.0",
          "state": {
            "_dom_classes": [],
            "_model_module": "@jupyter-widgets/controls",
            "_model_module_version": "1.5.0",
            "_model_name": "VBoxModel",
            "_view_count": null,
            "_view_module": "@jupyter-widgets/controls",
            "_view_module_version": "1.5.0",
            "_view_name": "VBoxView",
            "box_style": "",
            "children": [
              "IPY_MODEL_5c4c6141a83f47e1b8454a5f60f0a4d4",
              "IPY_MODEL_0bfab41f31c04cdbbc18f74749962066"
            ],
            "layout": "IPY_MODEL_5f0d8b1fa61c4baba2751d0bccdd2c31"
          }
        },
        "5c4c6141a83f47e1b8454a5f60f0a4d4": {
          "model_module": "@jupyter-widgets/controls",
          "model_name": "LabelModel",
          "model_module_version": "1.5.0",
          "state": {
            "_dom_classes": [],
            "_model_module": "@jupyter-widgets/controls",
            "_model_module_version": "1.5.0",
            "_model_name": "LabelModel",
            "_view_count": null,
            "_view_module": "@jupyter-widgets/controls",
            "_view_module_version": "1.5.0",
            "_view_name": "LabelView",
            "description": "",
            "description_tooltip": null,
            "layout": "IPY_MODEL_d1f38cfade474c3b946bd0f0fb3dfea0",
            "placeholder": "​",
            "style": "IPY_MODEL_15d6c4b53c484ae5a44b6d72f0b9c779",
            "value": "0.006 MB of 0.017 MB uploaded (0.000 MB deduped)\r"
          }
        },
        "0bfab41f31c04cdbbc18f74749962066": {
          "model_module": "@jupyter-widgets/controls",
          "model_name": "FloatProgressModel",
          "model_module_version": "1.5.0",
          "state": {
            "_dom_classes": [],
            "_model_module": "@jupyter-widgets/controls",
            "_model_module_version": "1.5.0",
            "_model_name": "FloatProgressModel",
            "_view_count": null,
            "_view_module": "@jupyter-widgets/controls",
            "_view_module_version": "1.5.0",
            "_view_name": "ProgressView",
            "bar_style": "",
            "description": "",
            "description_tooltip": null,
            "layout": "IPY_MODEL_b0f5daf02f414836bfc4714f4d18b486",
            "max": 1,
            "min": 0,
            "orientation": "horizontal",
            "style": "IPY_MODEL_89c3a10e7cb143dda6c5ccf893871571",
            "value": 0.3395019024558976
          }
        },
        "5f0d8b1fa61c4baba2751d0bccdd2c31": {
          "model_module": "@jupyter-widgets/base",
          "model_name": "LayoutModel",
          "model_module_version": "1.2.0",
          "state": {
            "_model_module": "@jupyter-widgets/base",
            "_model_module_version": "1.2.0",
            "_model_name": "LayoutModel",
            "_view_count": null,
            "_view_module": "@jupyter-widgets/base",
            "_view_module_version": "1.2.0",
            "_view_name": "LayoutView",
            "align_content": null,
            "align_items": null,
            "align_self": null,
            "border": null,
            "bottom": null,
            "display": null,
            "flex": null,
            "flex_flow": null,
            "grid_area": null,
            "grid_auto_columns": null,
            "grid_auto_flow": null,
            "grid_auto_rows": null,
            "grid_column": null,
            "grid_gap": null,
            "grid_row": null,
            "grid_template_areas": null,
            "grid_template_columns": null,
            "grid_template_rows": null,
            "height": null,
            "justify_content": null,
            "justify_items": null,
            "left": null,
            "margin": null,
            "max_height": null,
            "max_width": null,
            "min_height": null,
            "min_width": null,
            "object_fit": null,
            "object_position": null,
            "order": null,
            "overflow": null,
            "overflow_x": null,
            "overflow_y": null,
            "padding": null,
            "right": null,
            "top": null,
            "visibility": null,
            "width": null
          }
        },
        "d1f38cfade474c3b946bd0f0fb3dfea0": {
          "model_module": "@jupyter-widgets/base",
          "model_name": "LayoutModel",
          "model_module_version": "1.2.0",
          "state": {
            "_model_module": "@jupyter-widgets/base",
            "_model_module_version": "1.2.0",
            "_model_name": "LayoutModel",
            "_view_count": null,
            "_view_module": "@jupyter-widgets/base",
            "_view_module_version": "1.2.0",
            "_view_name": "LayoutView",
            "align_content": null,
            "align_items": null,
            "align_self": null,
            "border": null,
            "bottom": null,
            "display": null,
            "flex": null,
            "flex_flow": null,
            "grid_area": null,
            "grid_auto_columns": null,
            "grid_auto_flow": null,
            "grid_auto_rows": null,
            "grid_column": null,
            "grid_gap": null,
            "grid_row": null,
            "grid_template_areas": null,
            "grid_template_columns": null,
            "grid_template_rows": null,
            "height": null,
            "justify_content": null,
            "justify_items": null,
            "left": null,
            "margin": null,
            "max_height": null,
            "max_width": null,
            "min_height": null,
            "min_width": null,
            "object_fit": null,
            "object_position": null,
            "order": null,
            "overflow": null,
            "overflow_x": null,
            "overflow_y": null,
            "padding": null,
            "right": null,
            "top": null,
            "visibility": null,
            "width": null
          }
        },
        "15d6c4b53c484ae5a44b6d72f0b9c779": {
          "model_module": "@jupyter-widgets/controls",
          "model_name": "DescriptionStyleModel",
          "model_module_version": "1.5.0",
          "state": {
            "_model_module": "@jupyter-widgets/controls",
            "_model_module_version": "1.5.0",
            "_model_name": "DescriptionStyleModel",
            "_view_count": null,
            "_view_module": "@jupyter-widgets/base",
            "_view_module_version": "1.2.0",
            "_view_name": "StyleView",
            "description_width": ""
          }
        },
        "b0f5daf02f414836bfc4714f4d18b486": {
          "model_module": "@jupyter-widgets/base",
          "model_name": "LayoutModel",
          "model_module_version": "1.2.0",
          "state": {
            "_model_module": "@jupyter-widgets/base",
            "_model_module_version": "1.2.0",
            "_model_name": "LayoutModel",
            "_view_count": null,
            "_view_module": "@jupyter-widgets/base",
            "_view_module_version": "1.2.0",
            "_view_name": "LayoutView",
            "align_content": null,
            "align_items": null,
            "align_self": null,
            "border": null,
            "bottom": null,
            "display": null,
            "flex": null,
            "flex_flow": null,
            "grid_area": null,
            "grid_auto_columns": null,
            "grid_auto_flow": null,
            "grid_auto_rows": null,
            "grid_column": null,
            "grid_gap": null,
            "grid_row": null,
            "grid_template_areas": null,
            "grid_template_columns": null,
            "grid_template_rows": null,
            "height": null,
            "justify_content": null,
            "justify_items": null,
            "left": null,
            "margin": null,
            "max_height": null,
            "max_width": null,
            "min_height": null,
            "min_width": null,
            "object_fit": null,
            "object_position": null,
            "order": null,
            "overflow": null,
            "overflow_x": null,
            "overflow_y": null,
            "padding": null,
            "right": null,
            "top": null,
            "visibility": null,
            "width": null
          }
        },
        "89c3a10e7cb143dda6c5ccf893871571": {
          "model_module": "@jupyter-widgets/controls",
          "model_name": "ProgressStyleModel",
          "model_module_version": "1.5.0",
          "state": {
            "_model_module": "@jupyter-widgets/controls",
            "_model_module_version": "1.5.0",
            "_model_name": "ProgressStyleModel",
            "_view_count": null,
            "_view_module": "@jupyter-widgets/base",
            "_view_module_version": "1.2.0",
            "_view_name": "StyleView",
            "bar_color": null,
            "description_width": ""
          }
        },
        "f09a98a0883349cea5951306fd7058e6": {
          "model_module": "@jupyter-widgets/controls",
          "model_name": "VBoxModel",
          "model_module_version": "1.5.0",
          "state": {
            "_dom_classes": [],
            "_model_module": "@jupyter-widgets/controls",
            "_model_module_version": "1.5.0",
            "_model_name": "VBoxModel",
            "_view_count": null,
            "_view_module": "@jupyter-widgets/controls",
            "_view_module_version": "1.5.0",
            "_view_name": "VBoxView",
            "box_style": "",
            "children": [
              "IPY_MODEL_018131ab5c7444ba85ab3297f77ebf32",
              "IPY_MODEL_39ba387d284d442f9ad00b89acf5f552"
            ],
            "layout": "IPY_MODEL_aa172e1f26e44e31b34db6c9bfcb9145"
          }
        },
        "018131ab5c7444ba85ab3297f77ebf32": {
          "model_module": "@jupyter-widgets/controls",
          "model_name": "LabelModel",
          "model_module_version": "1.5.0",
          "state": {
            "_dom_classes": [],
            "_model_module": "@jupyter-widgets/controls",
            "_model_module_version": "1.5.0",
            "_model_name": "LabelModel",
            "_view_count": null,
            "_view_module": "@jupyter-widgets/controls",
            "_view_module_version": "1.5.0",
            "_view_name": "LabelView",
            "description": "",
            "description_tooltip": null,
            "layout": "IPY_MODEL_f159f43e047d476c8c2ab1483bf0b692",
            "placeholder": "​",
            "style": "IPY_MODEL_38b47213fd4741c0bcbf1547d12dc867",
            "value": "0.017 MB of 0.017 MB uploaded (0.000 MB deduped)\r"
          }
        },
        "39ba387d284d442f9ad00b89acf5f552": {
          "model_module": "@jupyter-widgets/controls",
          "model_name": "FloatProgressModel",
          "model_module_version": "1.5.0",
          "state": {
            "_dom_classes": [],
            "_model_module": "@jupyter-widgets/controls",
            "_model_module_version": "1.5.0",
            "_model_name": "FloatProgressModel",
            "_view_count": null,
            "_view_module": "@jupyter-widgets/controls",
            "_view_module_version": "1.5.0",
            "_view_name": "ProgressView",
            "bar_style": "",
            "description": "",
            "description_tooltip": null,
            "layout": "IPY_MODEL_6782572cf46c425daa88c2fb2f841157",
            "max": 1,
            "min": 0,
            "orientation": "horizontal",
            "style": "IPY_MODEL_8539245f3f6b4423999c4fc688f85e7d",
            "value": 1
          }
        },
        "aa172e1f26e44e31b34db6c9bfcb9145": {
          "model_module": "@jupyter-widgets/base",
          "model_name": "LayoutModel",
          "model_module_version": "1.2.0",
          "state": {
            "_model_module": "@jupyter-widgets/base",
            "_model_module_version": "1.2.0",
            "_model_name": "LayoutModel",
            "_view_count": null,
            "_view_module": "@jupyter-widgets/base",
            "_view_module_version": "1.2.0",
            "_view_name": "LayoutView",
            "align_content": null,
            "align_items": null,
            "align_self": null,
            "border": null,
            "bottom": null,
            "display": null,
            "flex": null,
            "flex_flow": null,
            "grid_area": null,
            "grid_auto_columns": null,
            "grid_auto_flow": null,
            "grid_auto_rows": null,
            "grid_column": null,
            "grid_gap": null,
            "grid_row": null,
            "grid_template_areas": null,
            "grid_template_columns": null,
            "grid_template_rows": null,
            "height": null,
            "justify_content": null,
            "justify_items": null,
            "left": null,
            "margin": null,
            "max_height": null,
            "max_width": null,
            "min_height": null,
            "min_width": null,
            "object_fit": null,
            "object_position": null,
            "order": null,
            "overflow": null,
            "overflow_x": null,
            "overflow_y": null,
            "padding": null,
            "right": null,
            "top": null,
            "visibility": null,
            "width": null
          }
        },
        "f159f43e047d476c8c2ab1483bf0b692": {
          "model_module": "@jupyter-widgets/base",
          "model_name": "LayoutModel",
          "model_module_version": "1.2.0",
          "state": {
            "_model_module": "@jupyter-widgets/base",
            "_model_module_version": "1.2.0",
            "_model_name": "LayoutModel",
            "_view_count": null,
            "_view_module": "@jupyter-widgets/base",
            "_view_module_version": "1.2.0",
            "_view_name": "LayoutView",
            "align_content": null,
            "align_items": null,
            "align_self": null,
            "border": null,
            "bottom": null,
            "display": null,
            "flex": null,
            "flex_flow": null,
            "grid_area": null,
            "grid_auto_columns": null,
            "grid_auto_flow": null,
            "grid_auto_rows": null,
            "grid_column": null,
            "grid_gap": null,
            "grid_row": null,
            "grid_template_areas": null,
            "grid_template_columns": null,
            "grid_template_rows": null,
            "height": null,
            "justify_content": null,
            "justify_items": null,
            "left": null,
            "margin": null,
            "max_height": null,
            "max_width": null,
            "min_height": null,
            "min_width": null,
            "object_fit": null,
            "object_position": null,
            "order": null,
            "overflow": null,
            "overflow_x": null,
            "overflow_y": null,
            "padding": null,
            "right": null,
            "top": null,
            "visibility": null,
            "width": null
          }
        },
        "38b47213fd4741c0bcbf1547d12dc867": {
          "model_module": "@jupyter-widgets/controls",
          "model_name": "DescriptionStyleModel",
          "model_module_version": "1.5.0",
          "state": {
            "_model_module": "@jupyter-widgets/controls",
            "_model_module_version": "1.5.0",
            "_model_name": "DescriptionStyleModel",
            "_view_count": null,
            "_view_module": "@jupyter-widgets/base",
            "_view_module_version": "1.2.0",
            "_view_name": "StyleView",
            "description_width": ""
          }
        },
        "6782572cf46c425daa88c2fb2f841157": {
          "model_module": "@jupyter-widgets/base",
          "model_name": "LayoutModel",
          "model_module_version": "1.2.0",
          "state": {
            "_model_module": "@jupyter-widgets/base",
            "_model_module_version": "1.2.0",
            "_model_name": "LayoutModel",
            "_view_count": null,
            "_view_module": "@jupyter-widgets/base",
            "_view_module_version": "1.2.0",
            "_view_name": "LayoutView",
            "align_content": null,
            "align_items": null,
            "align_self": null,
            "border": null,
            "bottom": null,
            "display": null,
            "flex": null,
            "flex_flow": null,
            "grid_area": null,
            "grid_auto_columns": null,
            "grid_auto_flow": null,
            "grid_auto_rows": null,
            "grid_column": null,
            "grid_gap": null,
            "grid_row": null,
            "grid_template_areas": null,
            "grid_template_columns": null,
            "grid_template_rows": null,
            "height": null,
            "justify_content": null,
            "justify_items": null,
            "left": null,
            "margin": null,
            "max_height": null,
            "max_width": null,
            "min_height": null,
            "min_width": null,
            "object_fit": null,
            "object_position": null,
            "order": null,
            "overflow": null,
            "overflow_x": null,
            "overflow_y": null,
            "padding": null,
            "right": null,
            "top": null,
            "visibility": null,
            "width": null
          }
        },
        "8539245f3f6b4423999c4fc688f85e7d": {
          "model_module": "@jupyter-widgets/controls",
          "model_name": "ProgressStyleModel",
          "model_module_version": "1.5.0",
          "state": {
            "_model_module": "@jupyter-widgets/controls",
            "_model_module_version": "1.5.0",
            "_model_name": "ProgressStyleModel",
            "_view_count": null,
            "_view_module": "@jupyter-widgets/base",
            "_view_module_version": "1.2.0",
            "_view_name": "StyleView",
            "bar_color": null,
            "description_width": ""
          }
        },
        "80c8f832627d4baf9808338ae1288d2d": {
          "model_module": "@jupyter-widgets/controls",
          "model_name": "VBoxModel",
          "model_module_version": "1.5.0",
          "state": {
            "_dom_classes": [],
            "_model_module": "@jupyter-widgets/controls",
            "_model_module_version": "1.5.0",
            "_model_name": "VBoxModel",
            "_view_count": null,
            "_view_module": "@jupyter-widgets/controls",
            "_view_module_version": "1.5.0",
            "_view_name": "VBoxView",
            "box_style": "",
            "children": [
              "IPY_MODEL_f1bba5583d4e4e79b21747dcd570e26d",
              "IPY_MODEL_4a349fe358ec4b98a3f533adcc36ee4a"
            ],
            "layout": "IPY_MODEL_537dcfc85f884271a58b999722d0ea10"
          }
        },
        "f1bba5583d4e4e79b21747dcd570e26d": {
          "model_module": "@jupyter-widgets/controls",
          "model_name": "LabelModel",
          "model_module_version": "1.5.0",
          "state": {
            "_dom_classes": [],
            "_model_module": "@jupyter-widgets/controls",
            "_model_module_version": "1.5.0",
            "_model_name": "LabelModel",
            "_view_count": null,
            "_view_module": "@jupyter-widgets/controls",
            "_view_module_version": "1.5.0",
            "_view_name": "LabelView",
            "description": "",
            "description_tooltip": null,
            "layout": "IPY_MODEL_d35699ae3cbb4d38aa8f08bda240cb91",
            "placeholder": "​",
            "style": "IPY_MODEL_8ae5967e74df4a0fa7294b11ed68918b",
            "value": "0.006 MB of 0.017 MB uploaded (0.000 MB deduped)\r"
          }
        },
        "4a349fe358ec4b98a3f533adcc36ee4a": {
          "model_module": "@jupyter-widgets/controls",
          "model_name": "FloatProgressModel",
          "model_module_version": "1.5.0",
          "state": {
            "_dom_classes": [],
            "_model_module": "@jupyter-widgets/controls",
            "_model_module_version": "1.5.0",
            "_model_name": "FloatProgressModel",
            "_view_count": null,
            "_view_module": "@jupyter-widgets/controls",
            "_view_module_version": "1.5.0",
            "_view_name": "ProgressView",
            "bar_style": "",
            "description": "",
            "description_tooltip": null,
            "layout": "IPY_MODEL_d96fdf6d76484e15a0ace352a65838b3",
            "max": 1,
            "min": 0,
            "orientation": "horizontal",
            "style": "IPY_MODEL_a8c2e6856df4423b9f6ad6f57a5aecd8",
            "value": 0.3393876491956409
          }
        },
        "537dcfc85f884271a58b999722d0ea10": {
          "model_module": "@jupyter-widgets/base",
          "model_name": "LayoutModel",
          "model_module_version": "1.2.0",
          "state": {
            "_model_module": "@jupyter-widgets/base",
            "_model_module_version": "1.2.0",
            "_model_name": "LayoutModel",
            "_view_count": null,
            "_view_module": "@jupyter-widgets/base",
            "_view_module_version": "1.2.0",
            "_view_name": "LayoutView",
            "align_content": null,
            "align_items": null,
            "align_self": null,
            "border": null,
            "bottom": null,
            "display": null,
            "flex": null,
            "flex_flow": null,
            "grid_area": null,
            "grid_auto_columns": null,
            "grid_auto_flow": null,
            "grid_auto_rows": null,
            "grid_column": null,
            "grid_gap": null,
            "grid_row": null,
            "grid_template_areas": null,
            "grid_template_columns": null,
            "grid_template_rows": null,
            "height": null,
            "justify_content": null,
            "justify_items": null,
            "left": null,
            "margin": null,
            "max_height": null,
            "max_width": null,
            "min_height": null,
            "min_width": null,
            "object_fit": null,
            "object_position": null,
            "order": null,
            "overflow": null,
            "overflow_x": null,
            "overflow_y": null,
            "padding": null,
            "right": null,
            "top": null,
            "visibility": null,
            "width": null
          }
        },
        "d35699ae3cbb4d38aa8f08bda240cb91": {
          "model_module": "@jupyter-widgets/base",
          "model_name": "LayoutModel",
          "model_module_version": "1.2.0",
          "state": {
            "_model_module": "@jupyter-widgets/base",
            "_model_module_version": "1.2.0",
            "_model_name": "LayoutModel",
            "_view_count": null,
            "_view_module": "@jupyter-widgets/base",
            "_view_module_version": "1.2.0",
            "_view_name": "LayoutView",
            "align_content": null,
            "align_items": null,
            "align_self": null,
            "border": null,
            "bottom": null,
            "display": null,
            "flex": null,
            "flex_flow": null,
            "grid_area": null,
            "grid_auto_columns": null,
            "grid_auto_flow": null,
            "grid_auto_rows": null,
            "grid_column": null,
            "grid_gap": null,
            "grid_row": null,
            "grid_template_areas": null,
            "grid_template_columns": null,
            "grid_template_rows": null,
            "height": null,
            "justify_content": null,
            "justify_items": null,
            "left": null,
            "margin": null,
            "max_height": null,
            "max_width": null,
            "min_height": null,
            "min_width": null,
            "object_fit": null,
            "object_position": null,
            "order": null,
            "overflow": null,
            "overflow_x": null,
            "overflow_y": null,
            "padding": null,
            "right": null,
            "top": null,
            "visibility": null,
            "width": null
          }
        },
        "8ae5967e74df4a0fa7294b11ed68918b": {
          "model_module": "@jupyter-widgets/controls",
          "model_name": "DescriptionStyleModel",
          "model_module_version": "1.5.0",
          "state": {
            "_model_module": "@jupyter-widgets/controls",
            "_model_module_version": "1.5.0",
            "_model_name": "DescriptionStyleModel",
            "_view_count": null,
            "_view_module": "@jupyter-widgets/base",
            "_view_module_version": "1.2.0",
            "_view_name": "StyleView",
            "description_width": ""
          }
        },
        "d96fdf6d76484e15a0ace352a65838b3": {
          "model_module": "@jupyter-widgets/base",
          "model_name": "LayoutModel",
          "model_module_version": "1.2.0",
          "state": {
            "_model_module": "@jupyter-widgets/base",
            "_model_module_version": "1.2.0",
            "_model_name": "LayoutModel",
            "_view_count": null,
            "_view_module": "@jupyter-widgets/base",
            "_view_module_version": "1.2.0",
            "_view_name": "LayoutView",
            "align_content": null,
            "align_items": null,
            "align_self": null,
            "border": null,
            "bottom": null,
            "display": null,
            "flex": null,
            "flex_flow": null,
            "grid_area": null,
            "grid_auto_columns": null,
            "grid_auto_flow": null,
            "grid_auto_rows": null,
            "grid_column": null,
            "grid_gap": null,
            "grid_row": null,
            "grid_template_areas": null,
            "grid_template_columns": null,
            "grid_template_rows": null,
            "height": null,
            "justify_content": null,
            "justify_items": null,
            "left": null,
            "margin": null,
            "max_height": null,
            "max_width": null,
            "min_height": null,
            "min_width": null,
            "object_fit": null,
            "object_position": null,
            "order": null,
            "overflow": null,
            "overflow_x": null,
            "overflow_y": null,
            "padding": null,
            "right": null,
            "top": null,
            "visibility": null,
            "width": null
          }
        },
        "a8c2e6856df4423b9f6ad6f57a5aecd8": {
          "model_module": "@jupyter-widgets/controls",
          "model_name": "ProgressStyleModel",
          "model_module_version": "1.5.0",
          "state": {
            "_model_module": "@jupyter-widgets/controls",
            "_model_module_version": "1.5.0",
            "_model_name": "ProgressStyleModel",
            "_view_count": null,
            "_view_module": "@jupyter-widgets/base",
            "_view_module_version": "1.2.0",
            "_view_name": "StyleView",
            "bar_color": null,
            "description_width": ""
          }
        },
        "b54a91eb4e0b42688c57fcb477dca616": {
          "model_module": "@jupyter-widgets/controls",
          "model_name": "VBoxModel",
          "model_module_version": "1.5.0",
          "state": {
            "_dom_classes": [],
            "_model_module": "@jupyter-widgets/controls",
            "_model_module_version": "1.5.0",
            "_model_name": "VBoxModel",
            "_view_count": null,
            "_view_module": "@jupyter-widgets/controls",
            "_view_module_version": "1.5.0",
            "_view_name": "VBoxView",
            "box_style": "",
            "children": [
              "IPY_MODEL_74116a88a1a54bf3b55fb862464985b1",
              "IPY_MODEL_b9c07edec3784ba4b904d369abb58a2e"
            ],
            "layout": "IPY_MODEL_0e82f6a5557a412ba9d480c261c148c1"
          }
        },
        "74116a88a1a54bf3b55fb862464985b1": {
          "model_module": "@jupyter-widgets/controls",
          "model_name": "LabelModel",
          "model_module_version": "1.5.0",
          "state": {
            "_dom_classes": [],
            "_model_module": "@jupyter-widgets/controls",
            "_model_module_version": "1.5.0",
            "_model_name": "LabelModel",
            "_view_count": null,
            "_view_module": "@jupyter-widgets/controls",
            "_view_module_version": "1.5.0",
            "_view_name": "LabelView",
            "description": "",
            "description_tooltip": null,
            "layout": "IPY_MODEL_0cd2b92f8fbf4214843ce8bcd5c684b6",
            "placeholder": "​",
            "style": "IPY_MODEL_c382633b7f694e08ab71bf857e82fab9",
            "value": "0.017 MB of 0.017 MB uploaded (0.000 MB deduped)\r"
          }
        },
        "b9c07edec3784ba4b904d369abb58a2e": {
          "model_module": "@jupyter-widgets/controls",
          "model_name": "FloatProgressModel",
          "model_module_version": "1.5.0",
          "state": {
            "_dom_classes": [],
            "_model_module": "@jupyter-widgets/controls",
            "_model_module_version": "1.5.0",
            "_model_name": "FloatProgressModel",
            "_view_count": null,
            "_view_module": "@jupyter-widgets/controls",
            "_view_module_version": "1.5.0",
            "_view_name": "ProgressView",
            "bar_style": "",
            "description": "",
            "description_tooltip": null,
            "layout": "IPY_MODEL_9e075d29da14442eb0b5a0ad0da640e5",
            "max": 1,
            "min": 0,
            "orientation": "horizontal",
            "style": "IPY_MODEL_6b5471304a19487580b181a426c0b98b",
            "value": 1
          }
        },
        "0e82f6a5557a412ba9d480c261c148c1": {
          "model_module": "@jupyter-widgets/base",
          "model_name": "LayoutModel",
          "model_module_version": "1.2.0",
          "state": {
            "_model_module": "@jupyter-widgets/base",
            "_model_module_version": "1.2.0",
            "_model_name": "LayoutModel",
            "_view_count": null,
            "_view_module": "@jupyter-widgets/base",
            "_view_module_version": "1.2.0",
            "_view_name": "LayoutView",
            "align_content": null,
            "align_items": null,
            "align_self": null,
            "border": null,
            "bottom": null,
            "display": null,
            "flex": null,
            "flex_flow": null,
            "grid_area": null,
            "grid_auto_columns": null,
            "grid_auto_flow": null,
            "grid_auto_rows": null,
            "grid_column": null,
            "grid_gap": null,
            "grid_row": null,
            "grid_template_areas": null,
            "grid_template_columns": null,
            "grid_template_rows": null,
            "height": null,
            "justify_content": null,
            "justify_items": null,
            "left": null,
            "margin": null,
            "max_height": null,
            "max_width": null,
            "min_height": null,
            "min_width": null,
            "object_fit": null,
            "object_position": null,
            "order": null,
            "overflow": null,
            "overflow_x": null,
            "overflow_y": null,
            "padding": null,
            "right": null,
            "top": null,
            "visibility": null,
            "width": null
          }
        },
        "0cd2b92f8fbf4214843ce8bcd5c684b6": {
          "model_module": "@jupyter-widgets/base",
          "model_name": "LayoutModel",
          "model_module_version": "1.2.0",
          "state": {
            "_model_module": "@jupyter-widgets/base",
            "_model_module_version": "1.2.0",
            "_model_name": "LayoutModel",
            "_view_count": null,
            "_view_module": "@jupyter-widgets/base",
            "_view_module_version": "1.2.0",
            "_view_name": "LayoutView",
            "align_content": null,
            "align_items": null,
            "align_self": null,
            "border": null,
            "bottom": null,
            "display": null,
            "flex": null,
            "flex_flow": null,
            "grid_area": null,
            "grid_auto_columns": null,
            "grid_auto_flow": null,
            "grid_auto_rows": null,
            "grid_column": null,
            "grid_gap": null,
            "grid_row": null,
            "grid_template_areas": null,
            "grid_template_columns": null,
            "grid_template_rows": null,
            "height": null,
            "justify_content": null,
            "justify_items": null,
            "left": null,
            "margin": null,
            "max_height": null,
            "max_width": null,
            "min_height": null,
            "min_width": null,
            "object_fit": null,
            "object_position": null,
            "order": null,
            "overflow": null,
            "overflow_x": null,
            "overflow_y": null,
            "padding": null,
            "right": null,
            "top": null,
            "visibility": null,
            "width": null
          }
        },
        "c382633b7f694e08ab71bf857e82fab9": {
          "model_module": "@jupyter-widgets/controls",
          "model_name": "DescriptionStyleModel",
          "model_module_version": "1.5.0",
          "state": {
            "_model_module": "@jupyter-widgets/controls",
            "_model_module_version": "1.5.0",
            "_model_name": "DescriptionStyleModel",
            "_view_count": null,
            "_view_module": "@jupyter-widgets/base",
            "_view_module_version": "1.2.0",
            "_view_name": "StyleView",
            "description_width": ""
          }
        },
        "9e075d29da14442eb0b5a0ad0da640e5": {
          "model_module": "@jupyter-widgets/base",
          "model_name": "LayoutModel",
          "model_module_version": "1.2.0",
          "state": {
            "_model_module": "@jupyter-widgets/base",
            "_model_module_version": "1.2.0",
            "_model_name": "LayoutModel",
            "_view_count": null,
            "_view_module": "@jupyter-widgets/base",
            "_view_module_version": "1.2.0",
            "_view_name": "LayoutView",
            "align_content": null,
            "align_items": null,
            "align_self": null,
            "border": null,
            "bottom": null,
            "display": null,
            "flex": null,
            "flex_flow": null,
            "grid_area": null,
            "grid_auto_columns": null,
            "grid_auto_flow": null,
            "grid_auto_rows": null,
            "grid_column": null,
            "grid_gap": null,
            "grid_row": null,
            "grid_template_areas": null,
            "grid_template_columns": null,
            "grid_template_rows": null,
            "height": null,
            "justify_content": null,
            "justify_items": null,
            "left": null,
            "margin": null,
            "max_height": null,
            "max_width": null,
            "min_height": null,
            "min_width": null,
            "object_fit": null,
            "object_position": null,
            "order": null,
            "overflow": null,
            "overflow_x": null,
            "overflow_y": null,
            "padding": null,
            "right": null,
            "top": null,
            "visibility": null,
            "width": null
          }
        },
        "6b5471304a19487580b181a426c0b98b": {
          "model_module": "@jupyter-widgets/controls",
          "model_name": "ProgressStyleModel",
          "model_module_version": "1.5.0",
          "state": {
            "_model_module": "@jupyter-widgets/controls",
            "_model_module_version": "1.5.0",
            "_model_name": "ProgressStyleModel",
            "_view_count": null,
            "_view_module": "@jupyter-widgets/base",
            "_view_module_version": "1.2.0",
            "_view_name": "StyleView",
            "bar_color": null,
            "description_width": ""
          }
        },
        "fce297ac5fb8431bb639dbede5eac022": {
          "model_module": "@jupyter-widgets/controls",
          "model_name": "VBoxModel",
          "model_module_version": "1.5.0",
          "state": {
            "_dom_classes": [],
            "_model_module": "@jupyter-widgets/controls",
            "_model_module_version": "1.5.0",
            "_model_name": "VBoxModel",
            "_view_count": null,
            "_view_module": "@jupyter-widgets/controls",
            "_view_module_version": "1.5.0",
            "_view_name": "VBoxView",
            "box_style": "",
            "children": [
              "IPY_MODEL_b254fe51117641e5b21f1e1bc83d9eb5",
              "IPY_MODEL_29987bebdc57446b8a876383170a4a4f"
            ],
            "layout": "IPY_MODEL_7304c15793bf44bb8b82ef37b6e6ed7a"
          }
        },
        "b254fe51117641e5b21f1e1bc83d9eb5": {
          "model_module": "@jupyter-widgets/controls",
          "model_name": "LabelModel",
          "model_module_version": "1.5.0",
          "state": {
            "_dom_classes": [],
            "_model_module": "@jupyter-widgets/controls",
            "_model_module_version": "1.5.0",
            "_model_name": "LabelModel",
            "_view_count": null,
            "_view_module": "@jupyter-widgets/controls",
            "_view_module_version": "1.5.0",
            "_view_name": "LabelView",
            "description": "",
            "description_tooltip": null,
            "layout": "IPY_MODEL_b8c512b536a5498ca9eee6797970e5d0",
            "placeholder": "​",
            "style": "IPY_MODEL_fe191291f61348c9a46df4f2ea829da6",
            "value": "0.017 MB of 0.017 MB uploaded (0.000 MB deduped)\r"
          }
        },
        "29987bebdc57446b8a876383170a4a4f": {
          "model_module": "@jupyter-widgets/controls",
          "model_name": "FloatProgressModel",
          "model_module_version": "1.5.0",
          "state": {
            "_dom_classes": [],
            "_model_module": "@jupyter-widgets/controls",
            "_model_module_version": "1.5.0",
            "_model_name": "FloatProgressModel",
            "_view_count": null,
            "_view_module": "@jupyter-widgets/controls",
            "_view_module_version": "1.5.0",
            "_view_name": "ProgressView",
            "bar_style": "",
            "description": "",
            "description_tooltip": null,
            "layout": "IPY_MODEL_07414d0570a4438cb89d2fc3dbfbf3ee",
            "max": 1,
            "min": 0,
            "orientation": "horizontal",
            "style": "IPY_MODEL_aa0159c5d6434cc3ab7965c4897aeb58",
            "value": 1
          }
        },
        "7304c15793bf44bb8b82ef37b6e6ed7a": {
          "model_module": "@jupyter-widgets/base",
          "model_name": "LayoutModel",
          "model_module_version": "1.2.0",
          "state": {
            "_model_module": "@jupyter-widgets/base",
            "_model_module_version": "1.2.0",
            "_model_name": "LayoutModel",
            "_view_count": null,
            "_view_module": "@jupyter-widgets/base",
            "_view_module_version": "1.2.0",
            "_view_name": "LayoutView",
            "align_content": null,
            "align_items": null,
            "align_self": null,
            "border": null,
            "bottom": null,
            "display": null,
            "flex": null,
            "flex_flow": null,
            "grid_area": null,
            "grid_auto_columns": null,
            "grid_auto_flow": null,
            "grid_auto_rows": null,
            "grid_column": null,
            "grid_gap": null,
            "grid_row": null,
            "grid_template_areas": null,
            "grid_template_columns": null,
            "grid_template_rows": null,
            "height": null,
            "justify_content": null,
            "justify_items": null,
            "left": null,
            "margin": null,
            "max_height": null,
            "max_width": null,
            "min_height": null,
            "min_width": null,
            "object_fit": null,
            "object_position": null,
            "order": null,
            "overflow": null,
            "overflow_x": null,
            "overflow_y": null,
            "padding": null,
            "right": null,
            "top": null,
            "visibility": null,
            "width": null
          }
        },
        "b8c512b536a5498ca9eee6797970e5d0": {
          "model_module": "@jupyter-widgets/base",
          "model_name": "LayoutModel",
          "model_module_version": "1.2.0",
          "state": {
            "_model_module": "@jupyter-widgets/base",
            "_model_module_version": "1.2.0",
            "_model_name": "LayoutModel",
            "_view_count": null,
            "_view_module": "@jupyter-widgets/base",
            "_view_module_version": "1.2.0",
            "_view_name": "LayoutView",
            "align_content": null,
            "align_items": null,
            "align_self": null,
            "border": null,
            "bottom": null,
            "display": null,
            "flex": null,
            "flex_flow": null,
            "grid_area": null,
            "grid_auto_columns": null,
            "grid_auto_flow": null,
            "grid_auto_rows": null,
            "grid_column": null,
            "grid_gap": null,
            "grid_row": null,
            "grid_template_areas": null,
            "grid_template_columns": null,
            "grid_template_rows": null,
            "height": null,
            "justify_content": null,
            "justify_items": null,
            "left": null,
            "margin": null,
            "max_height": null,
            "max_width": null,
            "min_height": null,
            "min_width": null,
            "object_fit": null,
            "object_position": null,
            "order": null,
            "overflow": null,
            "overflow_x": null,
            "overflow_y": null,
            "padding": null,
            "right": null,
            "top": null,
            "visibility": null,
            "width": null
          }
        },
        "fe191291f61348c9a46df4f2ea829da6": {
          "model_module": "@jupyter-widgets/controls",
          "model_name": "DescriptionStyleModel",
          "model_module_version": "1.5.0",
          "state": {
            "_model_module": "@jupyter-widgets/controls",
            "_model_module_version": "1.5.0",
            "_model_name": "DescriptionStyleModel",
            "_view_count": null,
            "_view_module": "@jupyter-widgets/base",
            "_view_module_version": "1.2.0",
            "_view_name": "StyleView",
            "description_width": ""
          }
        },
        "07414d0570a4438cb89d2fc3dbfbf3ee": {
          "model_module": "@jupyter-widgets/base",
          "model_name": "LayoutModel",
          "model_module_version": "1.2.0",
          "state": {
            "_model_module": "@jupyter-widgets/base",
            "_model_module_version": "1.2.0",
            "_model_name": "LayoutModel",
            "_view_count": null,
            "_view_module": "@jupyter-widgets/base",
            "_view_module_version": "1.2.0",
            "_view_name": "LayoutView",
            "align_content": null,
            "align_items": null,
            "align_self": null,
            "border": null,
            "bottom": null,
            "display": null,
            "flex": null,
            "flex_flow": null,
            "grid_area": null,
            "grid_auto_columns": null,
            "grid_auto_flow": null,
            "grid_auto_rows": null,
            "grid_column": null,
            "grid_gap": null,
            "grid_row": null,
            "grid_template_areas": null,
            "grid_template_columns": null,
            "grid_template_rows": null,
            "height": null,
            "justify_content": null,
            "justify_items": null,
            "left": null,
            "margin": null,
            "max_height": null,
            "max_width": null,
            "min_height": null,
            "min_width": null,
            "object_fit": null,
            "object_position": null,
            "order": null,
            "overflow": null,
            "overflow_x": null,
            "overflow_y": null,
            "padding": null,
            "right": null,
            "top": null,
            "visibility": null,
            "width": null
          }
        },
        "aa0159c5d6434cc3ab7965c4897aeb58": {
          "model_module": "@jupyter-widgets/controls",
          "model_name": "ProgressStyleModel",
          "model_module_version": "1.5.0",
          "state": {
            "_model_module": "@jupyter-widgets/controls",
            "_model_module_version": "1.5.0",
            "_model_name": "ProgressStyleModel",
            "_view_count": null,
            "_view_module": "@jupyter-widgets/base",
            "_view_module_version": "1.2.0",
            "_view_name": "StyleView",
            "bar_color": null,
            "description_width": ""
          }
        },
        "0a88a1e2023848cf980deba29370e57d": {
          "model_module": "@jupyter-widgets/controls",
          "model_name": "VBoxModel",
          "model_module_version": "1.5.0",
          "state": {
            "_dom_classes": [],
            "_model_module": "@jupyter-widgets/controls",
            "_model_module_version": "1.5.0",
            "_model_name": "VBoxModel",
            "_view_count": null,
            "_view_module": "@jupyter-widgets/controls",
            "_view_module_version": "1.5.0",
            "_view_name": "VBoxView",
            "box_style": "",
            "children": [
              "IPY_MODEL_d9d7e9bf618a42b28174b655f53014d0",
              "IPY_MODEL_8061b6e7ff1845fa93fb7f0f9eef9aab"
            ],
            "layout": "IPY_MODEL_931e3a0b58c24c10bfa23041b7b4c54b"
          }
        },
        "d9d7e9bf618a42b28174b655f53014d0": {
          "model_module": "@jupyter-widgets/controls",
          "model_name": "LabelModel",
          "model_module_version": "1.5.0",
          "state": {
            "_dom_classes": [],
            "_model_module": "@jupyter-widgets/controls",
            "_model_module_version": "1.5.0",
            "_model_name": "LabelModel",
            "_view_count": null,
            "_view_module": "@jupyter-widgets/controls",
            "_view_module_version": "1.5.0",
            "_view_name": "LabelView",
            "description": "",
            "description_tooltip": null,
            "layout": "IPY_MODEL_590817ab902843568ee4a438135c4ada",
            "placeholder": "​",
            "style": "IPY_MODEL_8b8791f9e8534f22be54f82c4d5acd2f",
            "value": "0.017 MB of 0.017 MB uploaded (0.000 MB deduped)\r"
          }
        },
        "8061b6e7ff1845fa93fb7f0f9eef9aab": {
          "model_module": "@jupyter-widgets/controls",
          "model_name": "FloatProgressModel",
          "model_module_version": "1.5.0",
          "state": {
            "_dom_classes": [],
            "_model_module": "@jupyter-widgets/controls",
            "_model_module_version": "1.5.0",
            "_model_name": "FloatProgressModel",
            "_view_count": null,
            "_view_module": "@jupyter-widgets/controls",
            "_view_module_version": "1.5.0",
            "_view_name": "ProgressView",
            "bar_style": "",
            "description": "",
            "description_tooltip": null,
            "layout": "IPY_MODEL_ebd0cb15f9ed46bfb4bc3b10cde835cb",
            "max": 1,
            "min": 0,
            "orientation": "horizontal",
            "style": "IPY_MODEL_82f76a2d5ab0444c906c3b02ef12956c",
            "value": 1
          }
        },
        "931e3a0b58c24c10bfa23041b7b4c54b": {
          "model_module": "@jupyter-widgets/base",
          "model_name": "LayoutModel",
          "model_module_version": "1.2.0",
          "state": {
            "_model_module": "@jupyter-widgets/base",
            "_model_module_version": "1.2.0",
            "_model_name": "LayoutModel",
            "_view_count": null,
            "_view_module": "@jupyter-widgets/base",
            "_view_module_version": "1.2.0",
            "_view_name": "LayoutView",
            "align_content": null,
            "align_items": null,
            "align_self": null,
            "border": null,
            "bottom": null,
            "display": null,
            "flex": null,
            "flex_flow": null,
            "grid_area": null,
            "grid_auto_columns": null,
            "grid_auto_flow": null,
            "grid_auto_rows": null,
            "grid_column": null,
            "grid_gap": null,
            "grid_row": null,
            "grid_template_areas": null,
            "grid_template_columns": null,
            "grid_template_rows": null,
            "height": null,
            "justify_content": null,
            "justify_items": null,
            "left": null,
            "margin": null,
            "max_height": null,
            "max_width": null,
            "min_height": null,
            "min_width": null,
            "object_fit": null,
            "object_position": null,
            "order": null,
            "overflow": null,
            "overflow_x": null,
            "overflow_y": null,
            "padding": null,
            "right": null,
            "top": null,
            "visibility": null,
            "width": null
          }
        },
        "590817ab902843568ee4a438135c4ada": {
          "model_module": "@jupyter-widgets/base",
          "model_name": "LayoutModel",
          "model_module_version": "1.2.0",
          "state": {
            "_model_module": "@jupyter-widgets/base",
            "_model_module_version": "1.2.0",
            "_model_name": "LayoutModel",
            "_view_count": null,
            "_view_module": "@jupyter-widgets/base",
            "_view_module_version": "1.2.0",
            "_view_name": "LayoutView",
            "align_content": null,
            "align_items": null,
            "align_self": null,
            "border": null,
            "bottom": null,
            "display": null,
            "flex": null,
            "flex_flow": null,
            "grid_area": null,
            "grid_auto_columns": null,
            "grid_auto_flow": null,
            "grid_auto_rows": null,
            "grid_column": null,
            "grid_gap": null,
            "grid_row": null,
            "grid_template_areas": null,
            "grid_template_columns": null,
            "grid_template_rows": null,
            "height": null,
            "justify_content": null,
            "justify_items": null,
            "left": null,
            "margin": null,
            "max_height": null,
            "max_width": null,
            "min_height": null,
            "min_width": null,
            "object_fit": null,
            "object_position": null,
            "order": null,
            "overflow": null,
            "overflow_x": null,
            "overflow_y": null,
            "padding": null,
            "right": null,
            "top": null,
            "visibility": null,
            "width": null
          }
        },
        "8b8791f9e8534f22be54f82c4d5acd2f": {
          "model_module": "@jupyter-widgets/controls",
          "model_name": "DescriptionStyleModel",
          "model_module_version": "1.5.0",
          "state": {
            "_model_module": "@jupyter-widgets/controls",
            "_model_module_version": "1.5.0",
            "_model_name": "DescriptionStyleModel",
            "_view_count": null,
            "_view_module": "@jupyter-widgets/base",
            "_view_module_version": "1.2.0",
            "_view_name": "StyleView",
            "description_width": ""
          }
        },
        "ebd0cb15f9ed46bfb4bc3b10cde835cb": {
          "model_module": "@jupyter-widgets/base",
          "model_name": "LayoutModel",
          "model_module_version": "1.2.0",
          "state": {
            "_model_module": "@jupyter-widgets/base",
            "_model_module_version": "1.2.0",
            "_model_name": "LayoutModel",
            "_view_count": null,
            "_view_module": "@jupyter-widgets/base",
            "_view_module_version": "1.2.0",
            "_view_name": "LayoutView",
            "align_content": null,
            "align_items": null,
            "align_self": null,
            "border": null,
            "bottom": null,
            "display": null,
            "flex": null,
            "flex_flow": null,
            "grid_area": null,
            "grid_auto_columns": null,
            "grid_auto_flow": null,
            "grid_auto_rows": null,
            "grid_column": null,
            "grid_gap": null,
            "grid_row": null,
            "grid_template_areas": null,
            "grid_template_columns": null,
            "grid_template_rows": null,
            "height": null,
            "justify_content": null,
            "justify_items": null,
            "left": null,
            "margin": null,
            "max_height": null,
            "max_width": null,
            "min_height": null,
            "min_width": null,
            "object_fit": null,
            "object_position": null,
            "order": null,
            "overflow": null,
            "overflow_x": null,
            "overflow_y": null,
            "padding": null,
            "right": null,
            "top": null,
            "visibility": null,
            "width": null
          }
        },
        "82f76a2d5ab0444c906c3b02ef12956c": {
          "model_module": "@jupyter-widgets/controls",
          "model_name": "ProgressStyleModel",
          "model_module_version": "1.5.0",
          "state": {
            "_model_module": "@jupyter-widgets/controls",
            "_model_module_version": "1.5.0",
            "_model_name": "ProgressStyleModel",
            "_view_count": null,
            "_view_module": "@jupyter-widgets/base",
            "_view_module_version": "1.2.0",
            "_view_name": "StyleView",
            "bar_color": null,
            "description_width": ""
          }
        },
        "7094a227617d4fcc9f6f8c58d15d4196": {
          "model_module": "@jupyter-widgets/controls",
          "model_name": "VBoxModel",
          "model_module_version": "1.5.0",
          "state": {
            "_dom_classes": [],
            "_model_module": "@jupyter-widgets/controls",
            "_model_module_version": "1.5.0",
            "_model_name": "VBoxModel",
            "_view_count": null,
            "_view_module": "@jupyter-widgets/controls",
            "_view_module_version": "1.5.0",
            "_view_name": "VBoxView",
            "box_style": "",
            "children": [
              "IPY_MODEL_53e681721ed749a8af3e20be5d4e9874",
              "IPY_MODEL_924176ea5431470e816e2f7763ada791"
            ],
            "layout": "IPY_MODEL_769b7807955044c882d1724dd6872b10"
          }
        },
        "53e681721ed749a8af3e20be5d4e9874": {
          "model_module": "@jupyter-widgets/controls",
          "model_name": "LabelModel",
          "model_module_version": "1.5.0",
          "state": {
            "_dom_classes": [],
            "_model_module": "@jupyter-widgets/controls",
            "_model_module_version": "1.5.0",
            "_model_name": "LabelModel",
            "_view_count": null,
            "_view_module": "@jupyter-widgets/controls",
            "_view_module_version": "1.5.0",
            "_view_name": "LabelView",
            "description": "",
            "description_tooltip": null,
            "layout": "IPY_MODEL_ad807ce2acdb4697a558dc2d2e6fc186",
            "placeholder": "​",
            "style": "IPY_MODEL_47eb567aa29c48d180c6c282f4145e3d",
            "value": "0.017 MB of 0.017 MB uploaded (0.000 MB deduped)\r"
          }
        },
        "924176ea5431470e816e2f7763ada791": {
          "model_module": "@jupyter-widgets/controls",
          "model_name": "FloatProgressModel",
          "model_module_version": "1.5.0",
          "state": {
            "_dom_classes": [],
            "_model_module": "@jupyter-widgets/controls",
            "_model_module_version": "1.5.0",
            "_model_name": "FloatProgressModel",
            "_view_count": null,
            "_view_module": "@jupyter-widgets/controls",
            "_view_module_version": "1.5.0",
            "_view_name": "ProgressView",
            "bar_style": "",
            "description": "",
            "description_tooltip": null,
            "layout": "IPY_MODEL_00219fa9d9a643388c8a967ce14e8e0e",
            "max": 1,
            "min": 0,
            "orientation": "horizontal",
            "style": "IPY_MODEL_ce4d0b5332a64b4bbc735b57e16c36d9",
            "value": 1
          }
        },
        "769b7807955044c882d1724dd6872b10": {
          "model_module": "@jupyter-widgets/base",
          "model_name": "LayoutModel",
          "model_module_version": "1.2.0",
          "state": {
            "_model_module": "@jupyter-widgets/base",
            "_model_module_version": "1.2.0",
            "_model_name": "LayoutModel",
            "_view_count": null,
            "_view_module": "@jupyter-widgets/base",
            "_view_module_version": "1.2.0",
            "_view_name": "LayoutView",
            "align_content": null,
            "align_items": null,
            "align_self": null,
            "border": null,
            "bottom": null,
            "display": null,
            "flex": null,
            "flex_flow": null,
            "grid_area": null,
            "grid_auto_columns": null,
            "grid_auto_flow": null,
            "grid_auto_rows": null,
            "grid_column": null,
            "grid_gap": null,
            "grid_row": null,
            "grid_template_areas": null,
            "grid_template_columns": null,
            "grid_template_rows": null,
            "height": null,
            "justify_content": null,
            "justify_items": null,
            "left": null,
            "margin": null,
            "max_height": null,
            "max_width": null,
            "min_height": null,
            "min_width": null,
            "object_fit": null,
            "object_position": null,
            "order": null,
            "overflow": null,
            "overflow_x": null,
            "overflow_y": null,
            "padding": null,
            "right": null,
            "top": null,
            "visibility": null,
            "width": null
          }
        },
        "ad807ce2acdb4697a558dc2d2e6fc186": {
          "model_module": "@jupyter-widgets/base",
          "model_name": "LayoutModel",
          "model_module_version": "1.2.0",
          "state": {
            "_model_module": "@jupyter-widgets/base",
            "_model_module_version": "1.2.0",
            "_model_name": "LayoutModel",
            "_view_count": null,
            "_view_module": "@jupyter-widgets/base",
            "_view_module_version": "1.2.0",
            "_view_name": "LayoutView",
            "align_content": null,
            "align_items": null,
            "align_self": null,
            "border": null,
            "bottom": null,
            "display": null,
            "flex": null,
            "flex_flow": null,
            "grid_area": null,
            "grid_auto_columns": null,
            "grid_auto_flow": null,
            "grid_auto_rows": null,
            "grid_column": null,
            "grid_gap": null,
            "grid_row": null,
            "grid_template_areas": null,
            "grid_template_columns": null,
            "grid_template_rows": null,
            "height": null,
            "justify_content": null,
            "justify_items": null,
            "left": null,
            "margin": null,
            "max_height": null,
            "max_width": null,
            "min_height": null,
            "min_width": null,
            "object_fit": null,
            "object_position": null,
            "order": null,
            "overflow": null,
            "overflow_x": null,
            "overflow_y": null,
            "padding": null,
            "right": null,
            "top": null,
            "visibility": null,
            "width": null
          }
        },
        "47eb567aa29c48d180c6c282f4145e3d": {
          "model_module": "@jupyter-widgets/controls",
          "model_name": "DescriptionStyleModel",
          "model_module_version": "1.5.0",
          "state": {
            "_model_module": "@jupyter-widgets/controls",
            "_model_module_version": "1.5.0",
            "_model_name": "DescriptionStyleModel",
            "_view_count": null,
            "_view_module": "@jupyter-widgets/base",
            "_view_module_version": "1.2.0",
            "_view_name": "StyleView",
            "description_width": ""
          }
        },
        "00219fa9d9a643388c8a967ce14e8e0e": {
          "model_module": "@jupyter-widgets/base",
          "model_name": "LayoutModel",
          "model_module_version": "1.2.0",
          "state": {
            "_model_module": "@jupyter-widgets/base",
            "_model_module_version": "1.2.0",
            "_model_name": "LayoutModel",
            "_view_count": null,
            "_view_module": "@jupyter-widgets/base",
            "_view_module_version": "1.2.0",
            "_view_name": "LayoutView",
            "align_content": null,
            "align_items": null,
            "align_self": null,
            "border": null,
            "bottom": null,
            "display": null,
            "flex": null,
            "flex_flow": null,
            "grid_area": null,
            "grid_auto_columns": null,
            "grid_auto_flow": null,
            "grid_auto_rows": null,
            "grid_column": null,
            "grid_gap": null,
            "grid_row": null,
            "grid_template_areas": null,
            "grid_template_columns": null,
            "grid_template_rows": null,
            "height": null,
            "justify_content": null,
            "justify_items": null,
            "left": null,
            "margin": null,
            "max_height": null,
            "max_width": null,
            "min_height": null,
            "min_width": null,
            "object_fit": null,
            "object_position": null,
            "order": null,
            "overflow": null,
            "overflow_x": null,
            "overflow_y": null,
            "padding": null,
            "right": null,
            "top": null,
            "visibility": null,
            "width": null
          }
        },
        "ce4d0b5332a64b4bbc735b57e16c36d9": {
          "model_module": "@jupyter-widgets/controls",
          "model_name": "ProgressStyleModel",
          "model_module_version": "1.5.0",
          "state": {
            "_model_module": "@jupyter-widgets/controls",
            "_model_module_version": "1.5.0",
            "_model_name": "ProgressStyleModel",
            "_view_count": null,
            "_view_module": "@jupyter-widgets/base",
            "_view_module_version": "1.2.0",
            "_view_name": "StyleView",
            "bar_color": null,
            "description_width": ""
          }
        },
        "a9389b6fd7464452824031c902c7e8f4": {
          "model_module": "@jupyter-widgets/controls",
          "model_name": "VBoxModel",
          "model_module_version": "1.5.0",
          "state": {
            "_dom_classes": [],
            "_model_module": "@jupyter-widgets/controls",
            "_model_module_version": "1.5.0",
            "_model_name": "VBoxModel",
            "_view_count": null,
            "_view_module": "@jupyter-widgets/controls",
            "_view_module_version": "1.5.0",
            "_view_name": "VBoxView",
            "box_style": "",
            "children": [
              "IPY_MODEL_f8c966027695497682108c78092ecac5",
              "IPY_MODEL_a1c88a8bd9d2422fab89410f7e65e3a9"
            ],
            "layout": "IPY_MODEL_df7954b4c1d749bd90f95e14b598628e"
          }
        },
        "f8c966027695497682108c78092ecac5": {
          "model_module": "@jupyter-widgets/controls",
          "model_name": "LabelModel",
          "model_module_version": "1.5.0",
          "state": {
            "_dom_classes": [],
            "_model_module": "@jupyter-widgets/controls",
            "_model_module_version": "1.5.0",
            "_model_name": "LabelModel",
            "_view_count": null,
            "_view_module": "@jupyter-widgets/controls",
            "_view_module_version": "1.5.0",
            "_view_name": "LabelView",
            "description": "",
            "description_tooltip": null,
            "layout": "IPY_MODEL_69819e2afb034cda917220508f85a71f",
            "placeholder": "​",
            "style": "IPY_MODEL_4747b297233c45fd9fb90d1aa32fe064",
            "value": "0.006 MB of 0.017 MB uploaded (0.000 MB deduped)\r"
          }
        },
        "a1c88a8bd9d2422fab89410f7e65e3a9": {
          "model_module": "@jupyter-widgets/controls",
          "model_name": "FloatProgressModel",
          "model_module_version": "1.5.0",
          "state": {
            "_dom_classes": [],
            "_model_module": "@jupyter-widgets/controls",
            "_model_module_version": "1.5.0",
            "_model_name": "FloatProgressModel",
            "_view_count": null,
            "_view_module": "@jupyter-widgets/controls",
            "_view_module_version": "1.5.0",
            "_view_name": "ProgressView",
            "bar_style": "",
            "description": "",
            "description_tooltip": null,
            "layout": "IPY_MODEL_7432a84c0e6a4dbf9d8f39a9a6d9d6f3",
            "max": 1,
            "min": 0,
            "orientation": "horizontal",
            "style": "IPY_MODEL_05c823b6cd384774b69db3a9d26b6d78",
            "value": 0.3397761366258943
          }
        },
        "df7954b4c1d749bd90f95e14b598628e": {
          "model_module": "@jupyter-widgets/base",
          "model_name": "LayoutModel",
          "model_module_version": "1.2.0",
          "state": {
            "_model_module": "@jupyter-widgets/base",
            "_model_module_version": "1.2.0",
            "_model_name": "LayoutModel",
            "_view_count": null,
            "_view_module": "@jupyter-widgets/base",
            "_view_module_version": "1.2.0",
            "_view_name": "LayoutView",
            "align_content": null,
            "align_items": null,
            "align_self": null,
            "border": null,
            "bottom": null,
            "display": null,
            "flex": null,
            "flex_flow": null,
            "grid_area": null,
            "grid_auto_columns": null,
            "grid_auto_flow": null,
            "grid_auto_rows": null,
            "grid_column": null,
            "grid_gap": null,
            "grid_row": null,
            "grid_template_areas": null,
            "grid_template_columns": null,
            "grid_template_rows": null,
            "height": null,
            "justify_content": null,
            "justify_items": null,
            "left": null,
            "margin": null,
            "max_height": null,
            "max_width": null,
            "min_height": null,
            "min_width": null,
            "object_fit": null,
            "object_position": null,
            "order": null,
            "overflow": null,
            "overflow_x": null,
            "overflow_y": null,
            "padding": null,
            "right": null,
            "top": null,
            "visibility": null,
            "width": null
          }
        },
        "69819e2afb034cda917220508f85a71f": {
          "model_module": "@jupyter-widgets/base",
          "model_name": "LayoutModel",
          "model_module_version": "1.2.0",
          "state": {
            "_model_module": "@jupyter-widgets/base",
            "_model_module_version": "1.2.0",
            "_model_name": "LayoutModel",
            "_view_count": null,
            "_view_module": "@jupyter-widgets/base",
            "_view_module_version": "1.2.0",
            "_view_name": "LayoutView",
            "align_content": null,
            "align_items": null,
            "align_self": null,
            "border": null,
            "bottom": null,
            "display": null,
            "flex": null,
            "flex_flow": null,
            "grid_area": null,
            "grid_auto_columns": null,
            "grid_auto_flow": null,
            "grid_auto_rows": null,
            "grid_column": null,
            "grid_gap": null,
            "grid_row": null,
            "grid_template_areas": null,
            "grid_template_columns": null,
            "grid_template_rows": null,
            "height": null,
            "justify_content": null,
            "justify_items": null,
            "left": null,
            "margin": null,
            "max_height": null,
            "max_width": null,
            "min_height": null,
            "min_width": null,
            "object_fit": null,
            "object_position": null,
            "order": null,
            "overflow": null,
            "overflow_x": null,
            "overflow_y": null,
            "padding": null,
            "right": null,
            "top": null,
            "visibility": null,
            "width": null
          }
        },
        "4747b297233c45fd9fb90d1aa32fe064": {
          "model_module": "@jupyter-widgets/controls",
          "model_name": "DescriptionStyleModel",
          "model_module_version": "1.5.0",
          "state": {
            "_model_module": "@jupyter-widgets/controls",
            "_model_module_version": "1.5.0",
            "_model_name": "DescriptionStyleModel",
            "_view_count": null,
            "_view_module": "@jupyter-widgets/base",
            "_view_module_version": "1.2.0",
            "_view_name": "StyleView",
            "description_width": ""
          }
        },
        "7432a84c0e6a4dbf9d8f39a9a6d9d6f3": {
          "model_module": "@jupyter-widgets/base",
          "model_name": "LayoutModel",
          "model_module_version": "1.2.0",
          "state": {
            "_model_module": "@jupyter-widgets/base",
            "_model_module_version": "1.2.0",
            "_model_name": "LayoutModel",
            "_view_count": null,
            "_view_module": "@jupyter-widgets/base",
            "_view_module_version": "1.2.0",
            "_view_name": "LayoutView",
            "align_content": null,
            "align_items": null,
            "align_self": null,
            "border": null,
            "bottom": null,
            "display": null,
            "flex": null,
            "flex_flow": null,
            "grid_area": null,
            "grid_auto_columns": null,
            "grid_auto_flow": null,
            "grid_auto_rows": null,
            "grid_column": null,
            "grid_gap": null,
            "grid_row": null,
            "grid_template_areas": null,
            "grid_template_columns": null,
            "grid_template_rows": null,
            "height": null,
            "justify_content": null,
            "justify_items": null,
            "left": null,
            "margin": null,
            "max_height": null,
            "max_width": null,
            "min_height": null,
            "min_width": null,
            "object_fit": null,
            "object_position": null,
            "order": null,
            "overflow": null,
            "overflow_x": null,
            "overflow_y": null,
            "padding": null,
            "right": null,
            "top": null,
            "visibility": null,
            "width": null
          }
        },
        "05c823b6cd384774b69db3a9d26b6d78": {
          "model_module": "@jupyter-widgets/controls",
          "model_name": "ProgressStyleModel",
          "model_module_version": "1.5.0",
          "state": {
            "_model_module": "@jupyter-widgets/controls",
            "_model_module_version": "1.5.0",
            "_model_name": "ProgressStyleModel",
            "_view_count": null,
            "_view_module": "@jupyter-widgets/base",
            "_view_module_version": "1.2.0",
            "_view_name": "StyleView",
            "bar_color": null,
            "description_width": ""
          }
        },
        "c957abc471234fb49b67399f59dfabfd": {
          "model_module": "@jupyter-widgets/controls",
          "model_name": "VBoxModel",
          "model_module_version": "1.5.0",
          "state": {
            "_dom_classes": [],
            "_model_module": "@jupyter-widgets/controls",
            "_model_module_version": "1.5.0",
            "_model_name": "VBoxModel",
            "_view_count": null,
            "_view_module": "@jupyter-widgets/controls",
            "_view_module_version": "1.5.0",
            "_view_name": "VBoxView",
            "box_style": "",
            "children": [
              "IPY_MODEL_a1894f95038c49f3bec5d14f7e0db6e7",
              "IPY_MODEL_40468b45dc03400c98cb9fd56a490c7b"
            ],
            "layout": "IPY_MODEL_0293fedf1adf45418622c15c39c8c5d5"
          }
        },
        "a1894f95038c49f3bec5d14f7e0db6e7": {
          "model_module": "@jupyter-widgets/controls",
          "model_name": "LabelModel",
          "model_module_version": "1.5.0",
          "state": {
            "_dom_classes": [],
            "_model_module": "@jupyter-widgets/controls",
            "_model_module_version": "1.5.0",
            "_model_name": "LabelModel",
            "_view_count": null,
            "_view_module": "@jupyter-widgets/controls",
            "_view_module_version": "1.5.0",
            "_view_name": "LabelView",
            "description": "",
            "description_tooltip": null,
            "layout": "IPY_MODEL_dae33780fb0c4df3a806fb6604241878",
            "placeholder": "​",
            "style": "IPY_MODEL_f4927067b47e441dae38db321b84b703",
            "value": "0.006 MB of 0.006 MB uploaded (0.000 MB deduped)\r"
          }
        },
        "40468b45dc03400c98cb9fd56a490c7b": {
          "model_module": "@jupyter-widgets/controls",
          "model_name": "FloatProgressModel",
          "model_module_version": "1.5.0",
          "state": {
            "_dom_classes": [],
            "_model_module": "@jupyter-widgets/controls",
            "_model_module_version": "1.5.0",
            "_model_name": "FloatProgressModel",
            "_view_count": null,
            "_view_module": "@jupyter-widgets/controls",
            "_view_module_version": "1.5.0",
            "_view_name": "ProgressView",
            "bar_style": "",
            "description": "",
            "description_tooltip": null,
            "layout": "IPY_MODEL_f0fc3eb34d39410e8d98689f1f5360aa",
            "max": 1,
            "min": 0,
            "orientation": "horizontal",
            "style": "IPY_MODEL_093090ddf44e4ae5ad82b3979900deda",
            "value": 1
          }
        },
        "0293fedf1adf45418622c15c39c8c5d5": {
          "model_module": "@jupyter-widgets/base",
          "model_name": "LayoutModel",
          "model_module_version": "1.2.0",
          "state": {
            "_model_module": "@jupyter-widgets/base",
            "_model_module_version": "1.2.0",
            "_model_name": "LayoutModel",
            "_view_count": null,
            "_view_module": "@jupyter-widgets/base",
            "_view_module_version": "1.2.0",
            "_view_name": "LayoutView",
            "align_content": null,
            "align_items": null,
            "align_self": null,
            "border": null,
            "bottom": null,
            "display": null,
            "flex": null,
            "flex_flow": null,
            "grid_area": null,
            "grid_auto_columns": null,
            "grid_auto_flow": null,
            "grid_auto_rows": null,
            "grid_column": null,
            "grid_gap": null,
            "grid_row": null,
            "grid_template_areas": null,
            "grid_template_columns": null,
            "grid_template_rows": null,
            "height": null,
            "justify_content": null,
            "justify_items": null,
            "left": null,
            "margin": null,
            "max_height": null,
            "max_width": null,
            "min_height": null,
            "min_width": null,
            "object_fit": null,
            "object_position": null,
            "order": null,
            "overflow": null,
            "overflow_x": null,
            "overflow_y": null,
            "padding": null,
            "right": null,
            "top": null,
            "visibility": null,
            "width": null
          }
        },
        "dae33780fb0c4df3a806fb6604241878": {
          "model_module": "@jupyter-widgets/base",
          "model_name": "LayoutModel",
          "model_module_version": "1.2.0",
          "state": {
            "_model_module": "@jupyter-widgets/base",
            "_model_module_version": "1.2.0",
            "_model_name": "LayoutModel",
            "_view_count": null,
            "_view_module": "@jupyter-widgets/base",
            "_view_module_version": "1.2.0",
            "_view_name": "LayoutView",
            "align_content": null,
            "align_items": null,
            "align_self": null,
            "border": null,
            "bottom": null,
            "display": null,
            "flex": null,
            "flex_flow": null,
            "grid_area": null,
            "grid_auto_columns": null,
            "grid_auto_flow": null,
            "grid_auto_rows": null,
            "grid_column": null,
            "grid_gap": null,
            "grid_row": null,
            "grid_template_areas": null,
            "grid_template_columns": null,
            "grid_template_rows": null,
            "height": null,
            "justify_content": null,
            "justify_items": null,
            "left": null,
            "margin": null,
            "max_height": null,
            "max_width": null,
            "min_height": null,
            "min_width": null,
            "object_fit": null,
            "object_position": null,
            "order": null,
            "overflow": null,
            "overflow_x": null,
            "overflow_y": null,
            "padding": null,
            "right": null,
            "top": null,
            "visibility": null,
            "width": null
          }
        },
        "f4927067b47e441dae38db321b84b703": {
          "model_module": "@jupyter-widgets/controls",
          "model_name": "DescriptionStyleModel",
          "model_module_version": "1.5.0",
          "state": {
            "_model_module": "@jupyter-widgets/controls",
            "_model_module_version": "1.5.0",
            "_model_name": "DescriptionStyleModel",
            "_view_count": null,
            "_view_module": "@jupyter-widgets/base",
            "_view_module_version": "1.2.0",
            "_view_name": "StyleView",
            "description_width": ""
          }
        },
        "f0fc3eb34d39410e8d98689f1f5360aa": {
          "model_module": "@jupyter-widgets/base",
          "model_name": "LayoutModel",
          "model_module_version": "1.2.0",
          "state": {
            "_model_module": "@jupyter-widgets/base",
            "_model_module_version": "1.2.0",
            "_model_name": "LayoutModel",
            "_view_count": null,
            "_view_module": "@jupyter-widgets/base",
            "_view_module_version": "1.2.0",
            "_view_name": "LayoutView",
            "align_content": null,
            "align_items": null,
            "align_self": null,
            "border": null,
            "bottom": null,
            "display": null,
            "flex": null,
            "flex_flow": null,
            "grid_area": null,
            "grid_auto_columns": null,
            "grid_auto_flow": null,
            "grid_auto_rows": null,
            "grid_column": null,
            "grid_gap": null,
            "grid_row": null,
            "grid_template_areas": null,
            "grid_template_columns": null,
            "grid_template_rows": null,
            "height": null,
            "justify_content": null,
            "justify_items": null,
            "left": null,
            "margin": null,
            "max_height": null,
            "max_width": null,
            "min_height": null,
            "min_width": null,
            "object_fit": null,
            "object_position": null,
            "order": null,
            "overflow": null,
            "overflow_x": null,
            "overflow_y": null,
            "padding": null,
            "right": null,
            "top": null,
            "visibility": null,
            "width": null
          }
        },
        "093090ddf44e4ae5ad82b3979900deda": {
          "model_module": "@jupyter-widgets/controls",
          "model_name": "ProgressStyleModel",
          "model_module_version": "1.5.0",
          "state": {
            "_model_module": "@jupyter-widgets/controls",
            "_model_module_version": "1.5.0",
            "_model_name": "ProgressStyleModel",
            "_view_count": null,
            "_view_module": "@jupyter-widgets/base",
            "_view_module_version": "1.2.0",
            "_view_name": "StyleView",
            "bar_color": null,
            "description_width": ""
          }
        },
        "babc5949ffa24601a60bfc8c55db6989": {
          "model_module": "@jupyter-widgets/controls",
          "model_name": "VBoxModel",
          "model_module_version": "1.5.0",
          "state": {
            "_dom_classes": [],
            "_model_module": "@jupyter-widgets/controls",
            "_model_module_version": "1.5.0",
            "_model_name": "VBoxModel",
            "_view_count": null,
            "_view_module": "@jupyter-widgets/controls",
            "_view_module_version": "1.5.0",
            "_view_name": "VBoxView",
            "box_style": "",
            "children": [
              "IPY_MODEL_699da3fa75be4a97b25a477044cf724c",
              "IPY_MODEL_88eb7d75b84f4a6b86ce55728e178e49"
            ],
            "layout": "IPY_MODEL_863c256fc40c465db6da4260ecf4b1d6"
          }
        },
        "699da3fa75be4a97b25a477044cf724c": {
          "model_module": "@jupyter-widgets/controls",
          "model_name": "LabelModel",
          "model_module_version": "1.5.0",
          "state": {
            "_dom_classes": [],
            "_model_module": "@jupyter-widgets/controls",
            "_model_module_version": "1.5.0",
            "_model_name": "LabelModel",
            "_view_count": null,
            "_view_module": "@jupyter-widgets/controls",
            "_view_module_version": "1.5.0",
            "_view_name": "LabelView",
            "description": "",
            "description_tooltip": null,
            "layout": "IPY_MODEL_afc9cf3496254a6883e1380b2efd9210",
            "placeholder": "​",
            "style": "IPY_MODEL_e85990a69eae4f01ab642c3ebdc70db0",
            "value": "0.017 MB of 0.017 MB uploaded (0.000 MB deduped)\r"
          }
        },
        "88eb7d75b84f4a6b86ce55728e178e49": {
          "model_module": "@jupyter-widgets/controls",
          "model_name": "FloatProgressModel",
          "model_module_version": "1.5.0",
          "state": {
            "_dom_classes": [],
            "_model_module": "@jupyter-widgets/controls",
            "_model_module_version": "1.5.0",
            "_model_name": "FloatProgressModel",
            "_view_count": null,
            "_view_module": "@jupyter-widgets/controls",
            "_view_module_version": "1.5.0",
            "_view_name": "ProgressView",
            "bar_style": "",
            "description": "",
            "description_tooltip": null,
            "layout": "IPY_MODEL_5e02427994304511bfb7230e18f80a9e",
            "max": 1,
            "min": 0,
            "orientation": "horizontal",
            "style": "IPY_MODEL_106bc1f5cea74859956c242d34b47353",
            "value": 1
          }
        },
        "863c256fc40c465db6da4260ecf4b1d6": {
          "model_module": "@jupyter-widgets/base",
          "model_name": "LayoutModel",
          "model_module_version": "1.2.0",
          "state": {
            "_model_module": "@jupyter-widgets/base",
            "_model_module_version": "1.2.0",
            "_model_name": "LayoutModel",
            "_view_count": null,
            "_view_module": "@jupyter-widgets/base",
            "_view_module_version": "1.2.0",
            "_view_name": "LayoutView",
            "align_content": null,
            "align_items": null,
            "align_self": null,
            "border": null,
            "bottom": null,
            "display": null,
            "flex": null,
            "flex_flow": null,
            "grid_area": null,
            "grid_auto_columns": null,
            "grid_auto_flow": null,
            "grid_auto_rows": null,
            "grid_column": null,
            "grid_gap": null,
            "grid_row": null,
            "grid_template_areas": null,
            "grid_template_columns": null,
            "grid_template_rows": null,
            "height": null,
            "justify_content": null,
            "justify_items": null,
            "left": null,
            "margin": null,
            "max_height": null,
            "max_width": null,
            "min_height": null,
            "min_width": null,
            "object_fit": null,
            "object_position": null,
            "order": null,
            "overflow": null,
            "overflow_x": null,
            "overflow_y": null,
            "padding": null,
            "right": null,
            "top": null,
            "visibility": null,
            "width": null
          }
        },
        "afc9cf3496254a6883e1380b2efd9210": {
          "model_module": "@jupyter-widgets/base",
          "model_name": "LayoutModel",
          "model_module_version": "1.2.0",
          "state": {
            "_model_module": "@jupyter-widgets/base",
            "_model_module_version": "1.2.0",
            "_model_name": "LayoutModel",
            "_view_count": null,
            "_view_module": "@jupyter-widgets/base",
            "_view_module_version": "1.2.0",
            "_view_name": "LayoutView",
            "align_content": null,
            "align_items": null,
            "align_self": null,
            "border": null,
            "bottom": null,
            "display": null,
            "flex": null,
            "flex_flow": null,
            "grid_area": null,
            "grid_auto_columns": null,
            "grid_auto_flow": null,
            "grid_auto_rows": null,
            "grid_column": null,
            "grid_gap": null,
            "grid_row": null,
            "grid_template_areas": null,
            "grid_template_columns": null,
            "grid_template_rows": null,
            "height": null,
            "justify_content": null,
            "justify_items": null,
            "left": null,
            "margin": null,
            "max_height": null,
            "max_width": null,
            "min_height": null,
            "min_width": null,
            "object_fit": null,
            "object_position": null,
            "order": null,
            "overflow": null,
            "overflow_x": null,
            "overflow_y": null,
            "padding": null,
            "right": null,
            "top": null,
            "visibility": null,
            "width": null
          }
        },
        "e85990a69eae4f01ab642c3ebdc70db0": {
          "model_module": "@jupyter-widgets/controls",
          "model_name": "DescriptionStyleModel",
          "model_module_version": "1.5.0",
          "state": {
            "_model_module": "@jupyter-widgets/controls",
            "_model_module_version": "1.5.0",
            "_model_name": "DescriptionStyleModel",
            "_view_count": null,
            "_view_module": "@jupyter-widgets/base",
            "_view_module_version": "1.2.0",
            "_view_name": "StyleView",
            "description_width": ""
          }
        },
        "5e02427994304511bfb7230e18f80a9e": {
          "model_module": "@jupyter-widgets/base",
          "model_name": "LayoutModel",
          "model_module_version": "1.2.0",
          "state": {
            "_model_module": "@jupyter-widgets/base",
            "_model_module_version": "1.2.0",
            "_model_name": "LayoutModel",
            "_view_count": null,
            "_view_module": "@jupyter-widgets/base",
            "_view_module_version": "1.2.0",
            "_view_name": "LayoutView",
            "align_content": null,
            "align_items": null,
            "align_self": null,
            "border": null,
            "bottom": null,
            "display": null,
            "flex": null,
            "flex_flow": null,
            "grid_area": null,
            "grid_auto_columns": null,
            "grid_auto_flow": null,
            "grid_auto_rows": null,
            "grid_column": null,
            "grid_gap": null,
            "grid_row": null,
            "grid_template_areas": null,
            "grid_template_columns": null,
            "grid_template_rows": null,
            "height": null,
            "justify_content": null,
            "justify_items": null,
            "left": null,
            "margin": null,
            "max_height": null,
            "max_width": null,
            "min_height": null,
            "min_width": null,
            "object_fit": null,
            "object_position": null,
            "order": null,
            "overflow": null,
            "overflow_x": null,
            "overflow_y": null,
            "padding": null,
            "right": null,
            "top": null,
            "visibility": null,
            "width": null
          }
        },
        "106bc1f5cea74859956c242d34b47353": {
          "model_module": "@jupyter-widgets/controls",
          "model_name": "ProgressStyleModel",
          "model_module_version": "1.5.0",
          "state": {
            "_model_module": "@jupyter-widgets/controls",
            "_model_module_version": "1.5.0",
            "_model_name": "ProgressStyleModel",
            "_view_count": null,
            "_view_module": "@jupyter-widgets/base",
            "_view_module_version": "1.2.0",
            "_view_name": "StyleView",
            "bar_color": null,
            "description_width": ""
          }
        },
        "fd41bca9de2647adbafc5f4dc2c18760": {
          "model_module": "@jupyter-widgets/controls",
          "model_name": "VBoxModel",
          "model_module_version": "1.5.0",
          "state": {
            "_dom_classes": [],
            "_model_module": "@jupyter-widgets/controls",
            "_model_module_version": "1.5.0",
            "_model_name": "VBoxModel",
            "_view_count": null,
            "_view_module": "@jupyter-widgets/controls",
            "_view_module_version": "1.5.0",
            "_view_name": "VBoxView",
            "box_style": "",
            "children": [
              "IPY_MODEL_6d395024b01f41b1a2cb384b9d509fb0",
              "IPY_MODEL_5cae140a6c6748aea34e883ffa6e2d8a"
            ],
            "layout": "IPY_MODEL_2a0857b8e6a64fb5b10353d43bf74b65"
          }
        },
        "6d395024b01f41b1a2cb384b9d509fb0": {
          "model_module": "@jupyter-widgets/controls",
          "model_name": "LabelModel",
          "model_module_version": "1.5.0",
          "state": {
            "_dom_classes": [],
            "_model_module": "@jupyter-widgets/controls",
            "_model_module_version": "1.5.0",
            "_model_name": "LabelModel",
            "_view_count": null,
            "_view_module": "@jupyter-widgets/controls",
            "_view_module_version": "1.5.0",
            "_view_name": "LabelView",
            "description": "",
            "description_tooltip": null,
            "layout": "IPY_MODEL_453c374e39ad472184535ae41c2983cf",
            "placeholder": "​",
            "style": "IPY_MODEL_5924adda8b674c9d951eb17235e14a11",
            "value": "0.017 MB of 0.017 MB uploaded (0.000 MB deduped)\r"
          }
        },
        "5cae140a6c6748aea34e883ffa6e2d8a": {
          "model_module": "@jupyter-widgets/controls",
          "model_name": "FloatProgressModel",
          "model_module_version": "1.5.0",
          "state": {
            "_dom_classes": [],
            "_model_module": "@jupyter-widgets/controls",
            "_model_module_version": "1.5.0",
            "_model_name": "FloatProgressModel",
            "_view_count": null,
            "_view_module": "@jupyter-widgets/controls",
            "_view_module_version": "1.5.0",
            "_view_name": "ProgressView",
            "bar_style": "",
            "description": "",
            "description_tooltip": null,
            "layout": "IPY_MODEL_29079383d640425c95d165b0f87557cb",
            "max": 1,
            "min": 0,
            "orientation": "horizontal",
            "style": "IPY_MODEL_4a4e56b5f65844268142df217e30ff20",
            "value": 1
          }
        },
        "2a0857b8e6a64fb5b10353d43bf74b65": {
          "model_module": "@jupyter-widgets/base",
          "model_name": "LayoutModel",
          "model_module_version": "1.2.0",
          "state": {
            "_model_module": "@jupyter-widgets/base",
            "_model_module_version": "1.2.0",
            "_model_name": "LayoutModel",
            "_view_count": null,
            "_view_module": "@jupyter-widgets/base",
            "_view_module_version": "1.2.0",
            "_view_name": "LayoutView",
            "align_content": null,
            "align_items": null,
            "align_self": null,
            "border": null,
            "bottom": null,
            "display": null,
            "flex": null,
            "flex_flow": null,
            "grid_area": null,
            "grid_auto_columns": null,
            "grid_auto_flow": null,
            "grid_auto_rows": null,
            "grid_column": null,
            "grid_gap": null,
            "grid_row": null,
            "grid_template_areas": null,
            "grid_template_columns": null,
            "grid_template_rows": null,
            "height": null,
            "justify_content": null,
            "justify_items": null,
            "left": null,
            "margin": null,
            "max_height": null,
            "max_width": null,
            "min_height": null,
            "min_width": null,
            "object_fit": null,
            "object_position": null,
            "order": null,
            "overflow": null,
            "overflow_x": null,
            "overflow_y": null,
            "padding": null,
            "right": null,
            "top": null,
            "visibility": null,
            "width": null
          }
        },
        "453c374e39ad472184535ae41c2983cf": {
          "model_module": "@jupyter-widgets/base",
          "model_name": "LayoutModel",
          "model_module_version": "1.2.0",
          "state": {
            "_model_module": "@jupyter-widgets/base",
            "_model_module_version": "1.2.0",
            "_model_name": "LayoutModel",
            "_view_count": null,
            "_view_module": "@jupyter-widgets/base",
            "_view_module_version": "1.2.0",
            "_view_name": "LayoutView",
            "align_content": null,
            "align_items": null,
            "align_self": null,
            "border": null,
            "bottom": null,
            "display": null,
            "flex": null,
            "flex_flow": null,
            "grid_area": null,
            "grid_auto_columns": null,
            "grid_auto_flow": null,
            "grid_auto_rows": null,
            "grid_column": null,
            "grid_gap": null,
            "grid_row": null,
            "grid_template_areas": null,
            "grid_template_columns": null,
            "grid_template_rows": null,
            "height": null,
            "justify_content": null,
            "justify_items": null,
            "left": null,
            "margin": null,
            "max_height": null,
            "max_width": null,
            "min_height": null,
            "min_width": null,
            "object_fit": null,
            "object_position": null,
            "order": null,
            "overflow": null,
            "overflow_x": null,
            "overflow_y": null,
            "padding": null,
            "right": null,
            "top": null,
            "visibility": null,
            "width": null
          }
        },
        "5924adda8b674c9d951eb17235e14a11": {
          "model_module": "@jupyter-widgets/controls",
          "model_name": "DescriptionStyleModel",
          "model_module_version": "1.5.0",
          "state": {
            "_model_module": "@jupyter-widgets/controls",
            "_model_module_version": "1.5.0",
            "_model_name": "DescriptionStyleModel",
            "_view_count": null,
            "_view_module": "@jupyter-widgets/base",
            "_view_module_version": "1.2.0",
            "_view_name": "StyleView",
            "description_width": ""
          }
        },
        "29079383d640425c95d165b0f87557cb": {
          "model_module": "@jupyter-widgets/base",
          "model_name": "LayoutModel",
          "model_module_version": "1.2.0",
          "state": {
            "_model_module": "@jupyter-widgets/base",
            "_model_module_version": "1.2.0",
            "_model_name": "LayoutModel",
            "_view_count": null,
            "_view_module": "@jupyter-widgets/base",
            "_view_module_version": "1.2.0",
            "_view_name": "LayoutView",
            "align_content": null,
            "align_items": null,
            "align_self": null,
            "border": null,
            "bottom": null,
            "display": null,
            "flex": null,
            "flex_flow": null,
            "grid_area": null,
            "grid_auto_columns": null,
            "grid_auto_flow": null,
            "grid_auto_rows": null,
            "grid_column": null,
            "grid_gap": null,
            "grid_row": null,
            "grid_template_areas": null,
            "grid_template_columns": null,
            "grid_template_rows": null,
            "height": null,
            "justify_content": null,
            "justify_items": null,
            "left": null,
            "margin": null,
            "max_height": null,
            "max_width": null,
            "min_height": null,
            "min_width": null,
            "object_fit": null,
            "object_position": null,
            "order": null,
            "overflow": null,
            "overflow_x": null,
            "overflow_y": null,
            "padding": null,
            "right": null,
            "top": null,
            "visibility": null,
            "width": null
          }
        },
        "4a4e56b5f65844268142df217e30ff20": {
          "model_module": "@jupyter-widgets/controls",
          "model_name": "ProgressStyleModel",
          "model_module_version": "1.5.0",
          "state": {
            "_model_module": "@jupyter-widgets/controls",
            "_model_module_version": "1.5.0",
            "_model_name": "ProgressStyleModel",
            "_view_count": null,
            "_view_module": "@jupyter-widgets/base",
            "_view_module_version": "1.2.0",
            "_view_name": "StyleView",
            "bar_color": null,
            "description_width": ""
          }
        }
      }
    }
  },
  "nbformat": 4,
  "nbformat_minor": 0
}