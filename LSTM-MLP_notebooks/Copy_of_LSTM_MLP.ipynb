{
  "cells": [
    {
      "cell_type": "markdown",
      "metadata": {
        "id": "s2MNO3kPTnkd"
      },
      "source": [
        "# Setup"
      ]
    },
    {
      "cell_type": "code",
      "execution_count": 1,
      "metadata": {
        "id": "oOQkqhqFTnkg",
        "colab": {
          "base_uri": "https://localhost:8080/"
        },
        "outputId": "e8742d71-6d2c-4ba4-c0b2-703d747e17f0"
      },
      "outputs": [
        {
          "output_type": "stream",
          "name": "stdout",
          "text": [
            "\u001b[2K     \u001b[90m━━━━━━━━━━━━━━━━━━━━━━━━━━━━━━━━━━━━━━━━\u001b[0m \u001b[32m2.0/2.0 MB\u001b[0m \u001b[31m15.3 MB/s\u001b[0m eta \u001b[36m0:00:00\u001b[0m\n",
            "\u001b[2K     \u001b[90m━━━━━━━━━━━━━━━━━━━━━━━━━━━━━━━━━━━━━━━\u001b[0m \u001b[32m199.2/199.2 kB\u001b[0m \u001b[31m7.3 MB/s\u001b[0m eta \u001b[36m0:00:00\u001b[0m\n",
            "\u001b[?25h  Preparing metadata (setup.py) ... \u001b[?25l\u001b[?25hdone\n",
            "\u001b[2K     \u001b[90m━━━━━━━━━━━━━━━━━━━━━━━━━━━━━━━━━━━━━━\u001b[0m \u001b[32m184.3/184.3 kB\u001b[0m \u001b[31m23.3 MB/s\u001b[0m eta \u001b[36m0:00:00\u001b[0m\n",
            "\u001b[2K     \u001b[90m━━━━━━━━━━━━━━━━━━━━━━━━━━━━━━━━━━━━━━━━\u001b[0m \u001b[32m62.7/62.7 kB\u001b[0m \u001b[31m8.5 MB/s\u001b[0m eta \u001b[36m0:00:00\u001b[0m\n",
            "\u001b[?25h  Building wheel for pathtools (setup.py) ... \u001b[?25l\u001b[?25hdone\n"
          ]
        }
      ],
      "source": [
        "# Weights and Biases\n",
        "!pip install -q wandb\n",
        "# Tensorflow\n",
        "!pip install -q tensorflow"
      ]
    },
    {
      "cell_type": "code",
      "execution_count": 2,
      "metadata": {
        "id": "Bfwvf6vGTnki"
      },
      "outputs": [],
      "source": [
        "from keras.models import Sequential, Model\n",
        "from keras.layers import Input, LSTM, Concatenate, Dense, BatchNormalization, LeakyReLU\n",
        "from keras.activations import tanh\n",
        "from tensorflow.keras.optimizers import Adam\n",
        "from keras.callbacks import EarlyStopping\n",
        "from tensorflow.keras.optimizers.schedules import ExponentialDecay\n",
        "import pandas as pd\n",
        "import numpy as np\n",
        "import os\n",
        "from sklearn.preprocessing import MinMaxScaler\n",
        "import wandb\n",
        "from wandb.keras import WandbCallback\n",
        "from datetime import datetime\n",
        "from dateutil.relativedelta import relativedelta\n",
        "from tensorflow import square, reduce_mean\n",
        "from tensorflow.keras.losses import MSE\n",
        "from tensorflow.keras.callbacks import Callback, EarlyStopping, ModelCheckpoint\n",
        "from tensorflow.keras.models import load_model\n",
        "from tensorflow.math import multiply\n",
        "from tensorflow.keras.metrics import MeanSquaredError, RootMeanSquaredError\n",
        "from math import log"
      ]
    },
    {
      "cell_type": "code",
      "execution_count": 3,
      "metadata": {
        "colab": {
          "base_uri": "https://localhost:8080/"
        },
        "id": "1fduF6iTTnkj",
        "outputId": "5b7602eb-eaf1-45f5-952f-82dbea5d9db7"
      },
      "outputs": [
        {
          "output_type": "stream",
          "name": "stderr",
          "text": [
            "\u001b[34m\u001b[1mwandb\u001b[0m: W&B API key is configured. Use \u001b[1m`wandb login --relogin`\u001b[0m to force relogin\n",
            "\u001b[34m\u001b[1mwandb\u001b[0m: \u001b[33mWARNING\u001b[0m If you're specifying your api key in code, ensure this code is not shared publicly.\n",
            "\u001b[34m\u001b[1mwandb\u001b[0m: \u001b[33mWARNING\u001b[0m Consider setting the WANDB_API_KEY environment variable, or running `wandb login` from the command line.\n",
            "\u001b[34m\u001b[1mwandb\u001b[0m: Appending key for api.wandb.ai to your netrc file: /root/.netrc\n"
          ]
        },
        {
          "output_type": "execute_result",
          "data": {
            "text/plain": [
              "True"
            ]
          },
          "metadata": {},
          "execution_count": 3
        }
      ],
      "source": [
        "# If running in colab, insert your wandb key here\n",
        "\n",
        "#import config\n",
        "#Erlend\n",
        "#wandb.login(key=config.erlend_key)\n",
        "# Hjalmar\n",
        "wandb.login(key=\"b47bcf387a0571c5520c58a13be35cda8ada0a99\")\n"
      ]
    },
    {
      "cell_type": "markdown",
      "metadata": {
        "id": "zJGDiGMLTnkl"
      },
      "source": [
        "# Load, split and normalize data"
      ]
    },
    {
      "cell_type": "markdown",
      "metadata": {
        "id": "UI1j3mQWTnkl"
      },
      "source": [
        "### Load data"
      ]
    },
    {
      "cell_type": "code",
      "execution_count": 4,
      "metadata": {
        "colab": {
          "base_uri": "https://localhost:8080/",
          "height": 848
        },
        "id": "OKcl8WWJTnkl",
        "outputId": "ae4a4b41-072f-457a-ef7a-aa5510f839f6"
      },
      "outputs": [
        {
          "output_type": "stream",
          "name": "stdout",
          "text": [
            "Sat Apr 15 14:58:24 2023       \n",
            "+-----------------------------------------------------------------------------+\n",
            "| NVIDIA-SMI 525.85.12    Driver Version: 525.85.12    CUDA Version: 12.0     |\n",
            "|-------------------------------+----------------------+----------------------+\n",
            "| GPU  Name        Persistence-M| Bus-Id        Disp.A | Volatile Uncorr. ECC |\n",
            "| Fan  Temp  Perf  Pwr:Usage/Cap|         Memory-Usage | GPU-Util  Compute M. |\n",
            "|                               |                      |               MIG M. |\n",
            "|===============================+======================+======================|\n",
            "|   0  Tesla T4            Off  | 00000000:00:04.0 Off |                    0 |\n",
            "| N/A   38C    P8     9W /  70W |      0MiB / 15360MiB |      0%      Default |\n",
            "|                               |                      |                  N/A |\n",
            "+-------------------------------+----------------------+----------------------+\n",
            "                                                                               \n",
            "+-----------------------------------------------------------------------------+\n",
            "| Processes:                                                                  |\n",
            "|  GPU   GI   CI        PID   Type   Process name                  GPU Memory |\n",
            "|        ID   ID                                                   Usage      |\n",
            "|=============================================================================|\n",
            "|  No running processes found                                                 |\n",
            "+-----------------------------------------------------------------------------+\n",
            "Your runtime has 54.8 gigabytes of available RAM\n",
            "\n",
            "You are using a high-RAM runtime!\n"
          ]
        },
        {
          "output_type": "display_data",
          "data": {
            "text/plain": [
              "          Unnamed: 0  Quote_date    Price  Underlying_last  Strike   TTM     R\n",
              "0                  0  2013-01-02  361.355          1462.33  1100.0     2  0.07\n",
              "1                  1  2013-01-02  336.600          1462.33  1125.0     2  0.07\n",
              "2                  2  2013-01-02  311.350          1462.33  1150.0     2  0.07\n",
              "3                  3  2013-01-02  286.345          1462.33  1175.0     2  0.07\n",
              "4                  4  2013-01-02  281.345          1462.33  1180.0     2  0.07\n",
              "...              ...         ...      ...              ...     ...   ...   ...\n",
              "12459173    12459173  2022-12-30    6.950          3839.81  8400.0  1085  4.22\n",
              "12459174    12459174  2022-12-30    5.950          3839.81  8600.0  1085  4.22\n",
              "12459175    12459175  2022-12-30    5.450          3839.81  8800.0  1085  4.22\n",
              "12459176    12459176  2022-12-30    4.500          3839.81  9000.0  1085  4.22\n",
              "12459177    12459177  2022-12-30    4.025          3839.81  9200.0  1085  4.22\n",
              "\n",
              "[12459178 rows x 7 columns]"
            ],
            "text/html": [
              "\n",
              "  <div id=\"df-3d550ca7-6774-4200-b96b-b94a64353a18\">\n",
              "    <div class=\"colab-df-container\">\n",
              "      <div>\n",
              "<style scoped>\n",
              "    .dataframe tbody tr th:only-of-type {\n",
              "        vertical-align: middle;\n",
              "    }\n",
              "\n",
              "    .dataframe tbody tr th {\n",
              "        vertical-align: top;\n",
              "    }\n",
              "\n",
              "    .dataframe thead th {\n",
              "        text-align: right;\n",
              "    }\n",
              "</style>\n",
              "<table border=\"1\" class=\"dataframe\">\n",
              "  <thead>\n",
              "    <tr style=\"text-align: right;\">\n",
              "      <th></th>\n",
              "      <th>Unnamed: 0</th>\n",
              "      <th>Quote_date</th>\n",
              "      <th>Price</th>\n",
              "      <th>Underlying_last</th>\n",
              "      <th>Strike</th>\n",
              "      <th>TTM</th>\n",
              "      <th>R</th>\n",
              "    </tr>\n",
              "  </thead>\n",
              "  <tbody>\n",
              "    <tr>\n",
              "      <th>0</th>\n",
              "      <td>0</td>\n",
              "      <td>2013-01-02</td>\n",
              "      <td>361.355</td>\n",
              "      <td>1462.33</td>\n",
              "      <td>1100.0</td>\n",
              "      <td>2</td>\n",
              "      <td>0.07</td>\n",
              "    </tr>\n",
              "    <tr>\n",
              "      <th>1</th>\n",
              "      <td>1</td>\n",
              "      <td>2013-01-02</td>\n",
              "      <td>336.600</td>\n",
              "      <td>1462.33</td>\n",
              "      <td>1125.0</td>\n",
              "      <td>2</td>\n",
              "      <td>0.07</td>\n",
              "    </tr>\n",
              "    <tr>\n",
              "      <th>2</th>\n",
              "      <td>2</td>\n",
              "      <td>2013-01-02</td>\n",
              "      <td>311.350</td>\n",
              "      <td>1462.33</td>\n",
              "      <td>1150.0</td>\n",
              "      <td>2</td>\n",
              "      <td>0.07</td>\n",
              "    </tr>\n",
              "    <tr>\n",
              "      <th>3</th>\n",
              "      <td>3</td>\n",
              "      <td>2013-01-02</td>\n",
              "      <td>286.345</td>\n",
              "      <td>1462.33</td>\n",
              "      <td>1175.0</td>\n",
              "      <td>2</td>\n",
              "      <td>0.07</td>\n",
              "    </tr>\n",
              "    <tr>\n",
              "      <th>4</th>\n",
              "      <td>4</td>\n",
              "      <td>2013-01-02</td>\n",
              "      <td>281.345</td>\n",
              "      <td>1462.33</td>\n",
              "      <td>1180.0</td>\n",
              "      <td>2</td>\n",
              "      <td>0.07</td>\n",
              "    </tr>\n",
              "    <tr>\n",
              "      <th>...</th>\n",
              "      <td>...</td>\n",
              "      <td>...</td>\n",
              "      <td>...</td>\n",
              "      <td>...</td>\n",
              "      <td>...</td>\n",
              "      <td>...</td>\n",
              "      <td>...</td>\n",
              "    </tr>\n",
              "    <tr>\n",
              "      <th>12459173</th>\n",
              "      <td>12459173</td>\n",
              "      <td>2022-12-30</td>\n",
              "      <td>6.950</td>\n",
              "      <td>3839.81</td>\n",
              "      <td>8400.0</td>\n",
              "      <td>1085</td>\n",
              "      <td>4.22</td>\n",
              "    </tr>\n",
              "    <tr>\n",
              "      <th>12459174</th>\n",
              "      <td>12459174</td>\n",
              "      <td>2022-12-30</td>\n",
              "      <td>5.950</td>\n",
              "      <td>3839.81</td>\n",
              "      <td>8600.0</td>\n",
              "      <td>1085</td>\n",
              "      <td>4.22</td>\n",
              "    </tr>\n",
              "    <tr>\n",
              "      <th>12459175</th>\n",
              "      <td>12459175</td>\n",
              "      <td>2022-12-30</td>\n",
              "      <td>5.450</td>\n",
              "      <td>3839.81</td>\n",
              "      <td>8800.0</td>\n",
              "      <td>1085</td>\n",
              "      <td>4.22</td>\n",
              "    </tr>\n",
              "    <tr>\n",
              "      <th>12459176</th>\n",
              "      <td>12459176</td>\n",
              "      <td>2022-12-30</td>\n",
              "      <td>4.500</td>\n",
              "      <td>3839.81</td>\n",
              "      <td>9000.0</td>\n",
              "      <td>1085</td>\n",
              "      <td>4.22</td>\n",
              "    </tr>\n",
              "    <tr>\n",
              "      <th>12459177</th>\n",
              "      <td>12459177</td>\n",
              "      <td>2022-12-30</td>\n",
              "      <td>4.025</td>\n",
              "      <td>3839.81</td>\n",
              "      <td>9200.0</td>\n",
              "      <td>1085</td>\n",
              "      <td>4.22</td>\n",
              "    </tr>\n",
              "  </tbody>\n",
              "</table>\n",
              "<p>12459178 rows × 7 columns</p>\n",
              "</div>\n",
              "      <button class=\"colab-df-convert\" onclick=\"convertToInteractive('df-3d550ca7-6774-4200-b96b-b94a64353a18')\"\n",
              "              title=\"Convert this dataframe to an interactive table.\"\n",
              "              style=\"display:none;\">\n",
              "        \n",
              "  <svg xmlns=\"http://www.w3.org/2000/svg\" height=\"24px\"viewBox=\"0 0 24 24\"\n",
              "       width=\"24px\">\n",
              "    <path d=\"M0 0h24v24H0V0z\" fill=\"none\"/>\n",
              "    <path d=\"M18.56 5.44l.94 2.06.94-2.06 2.06-.94-2.06-.94-.94-2.06-.94 2.06-2.06.94zm-11 1L8.5 8.5l.94-2.06 2.06-.94-2.06-.94L8.5 2.5l-.94 2.06-2.06.94zm10 10l.94 2.06.94-2.06 2.06-.94-2.06-.94-.94-2.06-.94 2.06-2.06.94z\"/><path d=\"M17.41 7.96l-1.37-1.37c-.4-.4-.92-.59-1.43-.59-.52 0-1.04.2-1.43.59L10.3 9.45l-7.72 7.72c-.78.78-.78 2.05 0 2.83L4 21.41c.39.39.9.59 1.41.59.51 0 1.02-.2 1.41-.59l7.78-7.78 2.81-2.81c.8-.78.8-2.07 0-2.86zM5.41 20L4 18.59l7.72-7.72 1.47 1.35L5.41 20z\"/>\n",
              "  </svg>\n",
              "      </button>\n",
              "      \n",
              "  <style>\n",
              "    .colab-df-container {\n",
              "      display:flex;\n",
              "      flex-wrap:wrap;\n",
              "      gap: 12px;\n",
              "    }\n",
              "\n",
              "    .colab-df-convert {\n",
              "      background-color: #E8F0FE;\n",
              "      border: none;\n",
              "      border-radius: 50%;\n",
              "      cursor: pointer;\n",
              "      display: none;\n",
              "      fill: #1967D2;\n",
              "      height: 32px;\n",
              "      padding: 0 0 0 0;\n",
              "      width: 32px;\n",
              "    }\n",
              "\n",
              "    .colab-df-convert:hover {\n",
              "      background-color: #E2EBFA;\n",
              "      box-shadow: 0px 1px 2px rgba(60, 64, 67, 0.3), 0px 1px 3px 1px rgba(60, 64, 67, 0.15);\n",
              "      fill: #174EA6;\n",
              "    }\n",
              "\n",
              "    [theme=dark] .colab-df-convert {\n",
              "      background-color: #3B4455;\n",
              "      fill: #D2E3FC;\n",
              "    }\n",
              "\n",
              "    [theme=dark] .colab-df-convert:hover {\n",
              "      background-color: #434B5C;\n",
              "      box-shadow: 0px 1px 3px 1px rgba(0, 0, 0, 0.15);\n",
              "      filter: drop-shadow(0px 1px 2px rgba(0, 0, 0, 0.3));\n",
              "      fill: #FFFFFF;\n",
              "    }\n",
              "  </style>\n",
              "\n",
              "      <script>\n",
              "        const buttonEl =\n",
              "          document.querySelector('#df-3d550ca7-6774-4200-b96b-b94a64353a18 button.colab-df-convert');\n",
              "        buttonEl.style.display =\n",
              "          google.colab.kernel.accessAllowed ? 'block' : 'none';\n",
              "\n",
              "        async function convertToInteractive(key) {\n",
              "          const element = document.querySelector('#df-3d550ca7-6774-4200-b96b-b94a64353a18');\n",
              "          const dataTable =\n",
              "            await google.colab.kernel.invokeFunction('convertToInteractive',\n",
              "                                                     [key], {});\n",
              "          if (!dataTable) return;\n",
              "\n",
              "          const docLinkHtml = 'Like what you see? Visit the ' +\n",
              "            '<a target=\"_blank\" href=https://colab.research.google.com/notebooks/data_table.ipynb>data table notebook</a>'\n",
              "            + ' to learn more about interactive tables.';\n",
              "          element.innerHTML = '';\n",
              "          dataTable['output_type'] = 'display_data';\n",
              "          await google.colab.output.renderOutput(dataTable, element);\n",
              "          const docLink = document.createElement('div');\n",
              "          docLink.innerHTML = docLinkHtml;\n",
              "          element.appendChild(docLink);\n",
              "        }\n",
              "      </script>\n",
              "    </div>\n",
              "  </div>\n",
              "  "
            ]
          },
          "metadata": {}
        }
      ],
      "source": [
        "google_colab = True\n",
        "\n",
        "if google_colab:\n",
        "    import tensorflow as tf\n",
        "    # Pring info\n",
        "    gpu_info = !nvidia-smi\n",
        "    gpu_info = '\\n'.join(gpu_info)\n",
        "    if gpu_info.find('failed') >= 0:\n",
        "        print('Not connected to a GPU')\n",
        "    else:\n",
        "        print(gpu_info)\n",
        "    \n",
        "    from psutil import virtual_memory\n",
        "    ram_gb = virtual_memory().total / 1e9\n",
        "    print('Your runtime has {:.1f} gigabytes of available RAM\\n'.format(ram_gb))\n",
        "\n",
        "    if ram_gb < 20:\n",
        "        print('Not using a high-RAM runtime')\n",
        "    else:\n",
        "        print('You are using a high-RAM runtime!')\n",
        "\n",
        "    # Code to read csv file into Colaboratory:\n",
        "    !pip install -U -q PyDrive\n",
        "    from pydrive.auth import GoogleAuth\n",
        "    from pydrive.drive import GoogleDrive\n",
        "    from google.colab import auth\n",
        "    from oauth2client.client import GoogleCredentials\n",
        "    # Authenticate and create the PyDrive client.\n",
        "    auth.authenticate_user()\n",
        "    gauth = GoogleAuth()\n",
        "    gauth.credentials = GoogleCredentials.get_application_default()\n",
        "    drive = GoogleDrive(gauth)\n",
        "    id = \"1Ic73MqpS5ACG1p2oJ_R5cTuEhlQRM_Q6\"\n",
        "    downloaded = drive.CreateFile({'id':id}) \n",
        "    downloaded.GetContentFile('2013-2022_wo_lags.csv')  \n",
        "    df_read = pd.read_csv('2013-2022_wo_lags.csv')\n",
        "else:\n",
        "    file = \"../data/processed_data/2020_2022_moneyness_filtere.csv\"\n",
        "    df_read = pd.read_csv(file)\n",
        "\n",
        "display(df_read)"
      ]
    },
    {
      "cell_type": "code",
      "execution_count": 5,
      "metadata": {
        "id": "CpcmhVq6Tnkm"
      },
      "outputs": [],
      "source": [
        "df = df_read\n",
        "del df_read\n",
        "\n",
        "# Group the data by Quote Date and calculate the mean for Underlying Price\n",
        "df_agg = df.groupby('Quote_date').mean().reset_index()\n",
        "\n",
        "# Values to returns\n",
        "df_agg[\"Underlying_return\"] = df_agg[\"Underlying_last\"].pct_change()\n",
        "\n",
        "lags = 10\n",
        "\n",
        "# Add the Underlying Price Lag column\n",
        "for i in range(1, lags + 1):\n",
        "    df_agg['Underlying_' + str(i)] = df_agg['Underlying_return'].shift(i)\n",
        "\n",
        "df = pd.merge(df, df_agg[['Quote_date', \"Underlying_return\"] + ['Underlying_' + str(i) for i in range(1, lags + 1)]], on='Quote_date', how='left')\n",
        "\n",
        "# Filter df between 2014-01-01 and 2022-12-31\n",
        "df = df[(df[\"Quote_date\"] >= \"2014-01-01\") & (df[\"Quote_date\"] <= \"2022-12-31\")]"
      ]
    },
    {
      "cell_type": "code",
      "execution_count": 6,
      "metadata": {
        "colab": {
          "base_uri": "https://localhost:8080/",
          "height": 505
        },
        "id": "2eAUxhRsTnkn",
        "outputId": "a766d901-e492-42b6-dc7c-c94bbb9e10d8"
      },
      "outputs": [
        {
          "output_type": "display_data",
          "data": {
            "text/plain": [
              "          Unnamed: 0  Quote_date    Price  Underlying_last  Strike   TTM  \\\n",
              "405271        405271  2014-01-03  555.455          1831.47  1275.0     7   \n",
              "405272        405272  2014-01-03  530.500          1831.47  1300.0     7   \n",
              "405273        405273  2014-01-03  505.495          1831.47  1325.0     7   \n",
              "405274        405274  2014-01-03  480.355          1831.47  1350.0     7   \n",
              "405275        405275  2014-01-03  455.350          1831.47  1375.0     7   \n",
              "...              ...         ...      ...              ...     ...   ...   \n",
              "12459173    12459173  2022-12-30    6.950          3839.81  8400.0  1085   \n",
              "12459174    12459174  2022-12-30    5.950          3839.81  8600.0  1085   \n",
              "12459175    12459175  2022-12-30    5.450          3839.81  8800.0  1085   \n",
              "12459176    12459176  2022-12-30    4.500          3839.81  9000.0  1085   \n",
              "12459177    12459177  2022-12-30    4.025          3839.81  9200.0  1085   \n",
              "\n",
              "             R  Underlying_return  Underlying_1  Underlying_2  Underlying_3  \\\n",
              "405271    0.02          -0.008816      0.003677     -0.000147     -0.000331   \n",
              "405272    0.02          -0.008816      0.003677     -0.000147     -0.000331   \n",
              "405273    0.02          -0.008816      0.003677     -0.000147     -0.000331   \n",
              "405274    0.02          -0.008816      0.003677     -0.000147     -0.000331   \n",
              "405275    0.02          -0.008816      0.003677     -0.000147     -0.000331   \n",
              "...        ...                ...           ...           ...           ...   \n",
              "12459173  4.22          -0.002300      0.017343     -0.012034     -0.004081   \n",
              "12459174  4.22          -0.002300      0.017343     -0.012034     -0.004081   \n",
              "12459175  4.22          -0.002300      0.017343     -0.012034     -0.004081   \n",
              "12459176  4.22          -0.002300      0.017343     -0.012034     -0.004081   \n",
              "12459177  4.22          -0.002300      0.017343     -0.012034     -0.004081   \n",
              "\n",
              "          Underlying_4  Underlying_5  Underlying_6  Underlying_7  \\\n",
              "405271        0.004664      0.002828      0.004721      0.005565   \n",
              "405272        0.004664      0.002828      0.004721      0.005565   \n",
              "405273        0.004664      0.002828      0.004721      0.005565   \n",
              "405274        0.004664      0.002828      0.004721      0.005565   \n",
              "405275        0.004664      0.002828      0.004721      0.005565   \n",
              "...                ...           ...           ...           ...   \n",
              "12459173      0.000096      0.005621     -0.014208      0.014673   \n",
              "12459174      0.000096      0.005621     -0.014208      0.014673   \n",
              "12459175      0.000096      0.005621     -0.014208      0.014673   \n",
              "12459176      0.000096      0.005621     -0.014208      0.014673   \n",
              "12459177      0.000096      0.005621     -0.014208      0.014673   \n",
              "\n",
              "          Underlying_8  Underlying_9  Underlying_10  \n",
              "405271       -0.000508      0.016502      -0.003006  \n",
              "405272       -0.000508      0.016502      -0.003006  \n",
              "405273       -0.000508      0.016502      -0.003006  \n",
              "405274       -0.000508      0.016502      -0.003006  \n",
              "405275       -0.000508      0.016502      -0.003006  \n",
              "...                ...           ...            ...  \n",
              "12459173      0.001048     -0.020257      -0.024582  \n",
              "12459174      0.001048     -0.020257      -0.024582  \n",
              "12459175      0.001048     -0.020257      -0.024582  \n",
              "12459176      0.001048     -0.020257      -0.024582  \n",
              "12459177      0.001048     -0.020257      -0.024582  \n",
              "\n",
              "[12053907 rows x 18 columns]"
            ],
            "text/html": [
              "\n",
              "  <div id=\"df-4e09e12e-b63b-4fcf-8268-8a07824c46d6\">\n",
              "    <div class=\"colab-df-container\">\n",
              "      <div>\n",
              "<style scoped>\n",
              "    .dataframe tbody tr th:only-of-type {\n",
              "        vertical-align: middle;\n",
              "    }\n",
              "\n",
              "    .dataframe tbody tr th {\n",
              "        vertical-align: top;\n",
              "    }\n",
              "\n",
              "    .dataframe thead th {\n",
              "        text-align: right;\n",
              "    }\n",
              "</style>\n",
              "<table border=\"1\" class=\"dataframe\">\n",
              "  <thead>\n",
              "    <tr style=\"text-align: right;\">\n",
              "      <th></th>\n",
              "      <th>Unnamed: 0</th>\n",
              "      <th>Quote_date</th>\n",
              "      <th>Price</th>\n",
              "      <th>Underlying_last</th>\n",
              "      <th>Strike</th>\n",
              "      <th>TTM</th>\n",
              "      <th>R</th>\n",
              "      <th>Underlying_return</th>\n",
              "      <th>Underlying_1</th>\n",
              "      <th>Underlying_2</th>\n",
              "      <th>Underlying_3</th>\n",
              "      <th>Underlying_4</th>\n",
              "      <th>Underlying_5</th>\n",
              "      <th>Underlying_6</th>\n",
              "      <th>Underlying_7</th>\n",
              "      <th>Underlying_8</th>\n",
              "      <th>Underlying_9</th>\n",
              "      <th>Underlying_10</th>\n",
              "    </tr>\n",
              "  </thead>\n",
              "  <tbody>\n",
              "    <tr>\n",
              "      <th>405271</th>\n",
              "      <td>405271</td>\n",
              "      <td>2014-01-03</td>\n",
              "      <td>555.455</td>\n",
              "      <td>1831.47</td>\n",
              "      <td>1275.0</td>\n",
              "      <td>7</td>\n",
              "      <td>0.02</td>\n",
              "      <td>-0.008816</td>\n",
              "      <td>0.003677</td>\n",
              "      <td>-0.000147</td>\n",
              "      <td>-0.000331</td>\n",
              "      <td>0.004664</td>\n",
              "      <td>0.002828</td>\n",
              "      <td>0.004721</td>\n",
              "      <td>0.005565</td>\n",
              "      <td>-0.000508</td>\n",
              "      <td>0.016502</td>\n",
              "      <td>-0.003006</td>\n",
              "    </tr>\n",
              "    <tr>\n",
              "      <th>405272</th>\n",
              "      <td>405272</td>\n",
              "      <td>2014-01-03</td>\n",
              "      <td>530.500</td>\n",
              "      <td>1831.47</td>\n",
              "      <td>1300.0</td>\n",
              "      <td>7</td>\n",
              "      <td>0.02</td>\n",
              "      <td>-0.008816</td>\n",
              "      <td>0.003677</td>\n",
              "      <td>-0.000147</td>\n",
              "      <td>-0.000331</td>\n",
              "      <td>0.004664</td>\n",
              "      <td>0.002828</td>\n",
              "      <td>0.004721</td>\n",
              "      <td>0.005565</td>\n",
              "      <td>-0.000508</td>\n",
              "      <td>0.016502</td>\n",
              "      <td>-0.003006</td>\n",
              "    </tr>\n",
              "    <tr>\n",
              "      <th>405273</th>\n",
              "      <td>405273</td>\n",
              "      <td>2014-01-03</td>\n",
              "      <td>505.495</td>\n",
              "      <td>1831.47</td>\n",
              "      <td>1325.0</td>\n",
              "      <td>7</td>\n",
              "      <td>0.02</td>\n",
              "      <td>-0.008816</td>\n",
              "      <td>0.003677</td>\n",
              "      <td>-0.000147</td>\n",
              "      <td>-0.000331</td>\n",
              "      <td>0.004664</td>\n",
              "      <td>0.002828</td>\n",
              "      <td>0.004721</td>\n",
              "      <td>0.005565</td>\n",
              "      <td>-0.000508</td>\n",
              "      <td>0.016502</td>\n",
              "      <td>-0.003006</td>\n",
              "    </tr>\n",
              "    <tr>\n",
              "      <th>405274</th>\n",
              "      <td>405274</td>\n",
              "      <td>2014-01-03</td>\n",
              "      <td>480.355</td>\n",
              "      <td>1831.47</td>\n",
              "      <td>1350.0</td>\n",
              "      <td>7</td>\n",
              "      <td>0.02</td>\n",
              "      <td>-0.008816</td>\n",
              "      <td>0.003677</td>\n",
              "      <td>-0.000147</td>\n",
              "      <td>-0.000331</td>\n",
              "      <td>0.004664</td>\n",
              "      <td>0.002828</td>\n",
              "      <td>0.004721</td>\n",
              "      <td>0.005565</td>\n",
              "      <td>-0.000508</td>\n",
              "      <td>0.016502</td>\n",
              "      <td>-0.003006</td>\n",
              "    </tr>\n",
              "    <tr>\n",
              "      <th>405275</th>\n",
              "      <td>405275</td>\n",
              "      <td>2014-01-03</td>\n",
              "      <td>455.350</td>\n",
              "      <td>1831.47</td>\n",
              "      <td>1375.0</td>\n",
              "      <td>7</td>\n",
              "      <td>0.02</td>\n",
              "      <td>-0.008816</td>\n",
              "      <td>0.003677</td>\n",
              "      <td>-0.000147</td>\n",
              "      <td>-0.000331</td>\n",
              "      <td>0.004664</td>\n",
              "      <td>0.002828</td>\n",
              "      <td>0.004721</td>\n",
              "      <td>0.005565</td>\n",
              "      <td>-0.000508</td>\n",
              "      <td>0.016502</td>\n",
              "      <td>-0.003006</td>\n",
              "    </tr>\n",
              "    <tr>\n",
              "      <th>...</th>\n",
              "      <td>...</td>\n",
              "      <td>...</td>\n",
              "      <td>...</td>\n",
              "      <td>...</td>\n",
              "      <td>...</td>\n",
              "      <td>...</td>\n",
              "      <td>...</td>\n",
              "      <td>...</td>\n",
              "      <td>...</td>\n",
              "      <td>...</td>\n",
              "      <td>...</td>\n",
              "      <td>...</td>\n",
              "      <td>...</td>\n",
              "      <td>...</td>\n",
              "      <td>...</td>\n",
              "      <td>...</td>\n",
              "      <td>...</td>\n",
              "      <td>...</td>\n",
              "    </tr>\n",
              "    <tr>\n",
              "      <th>12459173</th>\n",
              "      <td>12459173</td>\n",
              "      <td>2022-12-30</td>\n",
              "      <td>6.950</td>\n",
              "      <td>3839.81</td>\n",
              "      <td>8400.0</td>\n",
              "      <td>1085</td>\n",
              "      <td>4.22</td>\n",
              "      <td>-0.002300</td>\n",
              "      <td>0.017343</td>\n",
              "      <td>-0.012034</td>\n",
              "      <td>-0.004081</td>\n",
              "      <td>0.000096</td>\n",
              "      <td>0.005621</td>\n",
              "      <td>-0.014208</td>\n",
              "      <td>0.014673</td>\n",
              "      <td>0.001048</td>\n",
              "      <td>-0.020257</td>\n",
              "      <td>-0.024582</td>\n",
              "    </tr>\n",
              "    <tr>\n",
              "      <th>12459174</th>\n",
              "      <td>12459174</td>\n",
              "      <td>2022-12-30</td>\n",
              "      <td>5.950</td>\n",
              "      <td>3839.81</td>\n",
              "      <td>8600.0</td>\n",
              "      <td>1085</td>\n",
              "      <td>4.22</td>\n",
              "      <td>-0.002300</td>\n",
              "      <td>0.017343</td>\n",
              "      <td>-0.012034</td>\n",
              "      <td>-0.004081</td>\n",
              "      <td>0.000096</td>\n",
              "      <td>0.005621</td>\n",
              "      <td>-0.014208</td>\n",
              "      <td>0.014673</td>\n",
              "      <td>0.001048</td>\n",
              "      <td>-0.020257</td>\n",
              "      <td>-0.024582</td>\n",
              "    </tr>\n",
              "    <tr>\n",
              "      <th>12459175</th>\n",
              "      <td>12459175</td>\n",
              "      <td>2022-12-30</td>\n",
              "      <td>5.450</td>\n",
              "      <td>3839.81</td>\n",
              "      <td>8800.0</td>\n",
              "      <td>1085</td>\n",
              "      <td>4.22</td>\n",
              "      <td>-0.002300</td>\n",
              "      <td>0.017343</td>\n",
              "      <td>-0.012034</td>\n",
              "      <td>-0.004081</td>\n",
              "      <td>0.000096</td>\n",
              "      <td>0.005621</td>\n",
              "      <td>-0.014208</td>\n",
              "      <td>0.014673</td>\n",
              "      <td>0.001048</td>\n",
              "      <td>-0.020257</td>\n",
              "      <td>-0.024582</td>\n",
              "    </tr>\n",
              "    <tr>\n",
              "      <th>12459176</th>\n",
              "      <td>12459176</td>\n",
              "      <td>2022-12-30</td>\n",
              "      <td>4.500</td>\n",
              "      <td>3839.81</td>\n",
              "      <td>9000.0</td>\n",
              "      <td>1085</td>\n",
              "      <td>4.22</td>\n",
              "      <td>-0.002300</td>\n",
              "      <td>0.017343</td>\n",
              "      <td>-0.012034</td>\n",
              "      <td>-0.004081</td>\n",
              "      <td>0.000096</td>\n",
              "      <td>0.005621</td>\n",
              "      <td>-0.014208</td>\n",
              "      <td>0.014673</td>\n",
              "      <td>0.001048</td>\n",
              "      <td>-0.020257</td>\n",
              "      <td>-0.024582</td>\n",
              "    </tr>\n",
              "    <tr>\n",
              "      <th>12459177</th>\n",
              "      <td>12459177</td>\n",
              "      <td>2022-12-30</td>\n",
              "      <td>4.025</td>\n",
              "      <td>3839.81</td>\n",
              "      <td>9200.0</td>\n",
              "      <td>1085</td>\n",
              "      <td>4.22</td>\n",
              "      <td>-0.002300</td>\n",
              "      <td>0.017343</td>\n",
              "      <td>-0.012034</td>\n",
              "      <td>-0.004081</td>\n",
              "      <td>0.000096</td>\n",
              "      <td>0.005621</td>\n",
              "      <td>-0.014208</td>\n",
              "      <td>0.014673</td>\n",
              "      <td>0.001048</td>\n",
              "      <td>-0.020257</td>\n",
              "      <td>-0.024582</td>\n",
              "    </tr>\n",
              "  </tbody>\n",
              "</table>\n",
              "<p>12053907 rows × 18 columns</p>\n",
              "</div>\n",
              "      <button class=\"colab-df-convert\" onclick=\"convertToInteractive('df-4e09e12e-b63b-4fcf-8268-8a07824c46d6')\"\n",
              "              title=\"Convert this dataframe to an interactive table.\"\n",
              "              style=\"display:none;\">\n",
              "        \n",
              "  <svg xmlns=\"http://www.w3.org/2000/svg\" height=\"24px\"viewBox=\"0 0 24 24\"\n",
              "       width=\"24px\">\n",
              "    <path d=\"M0 0h24v24H0V0z\" fill=\"none\"/>\n",
              "    <path d=\"M18.56 5.44l.94 2.06.94-2.06 2.06-.94-2.06-.94-.94-2.06-.94 2.06-2.06.94zm-11 1L8.5 8.5l.94-2.06 2.06-.94-2.06-.94L8.5 2.5l-.94 2.06-2.06.94zm10 10l.94 2.06.94-2.06 2.06-.94-2.06-.94-.94-2.06-.94 2.06-2.06.94z\"/><path d=\"M17.41 7.96l-1.37-1.37c-.4-.4-.92-.59-1.43-.59-.52 0-1.04.2-1.43.59L10.3 9.45l-7.72 7.72c-.78.78-.78 2.05 0 2.83L4 21.41c.39.39.9.59 1.41.59.51 0 1.02-.2 1.41-.59l7.78-7.78 2.81-2.81c.8-.78.8-2.07 0-2.86zM5.41 20L4 18.59l7.72-7.72 1.47 1.35L5.41 20z\"/>\n",
              "  </svg>\n",
              "      </button>\n",
              "      \n",
              "  <style>\n",
              "    .colab-df-container {\n",
              "      display:flex;\n",
              "      flex-wrap:wrap;\n",
              "      gap: 12px;\n",
              "    }\n",
              "\n",
              "    .colab-df-convert {\n",
              "      background-color: #E8F0FE;\n",
              "      border: none;\n",
              "      border-radius: 50%;\n",
              "      cursor: pointer;\n",
              "      display: none;\n",
              "      fill: #1967D2;\n",
              "      height: 32px;\n",
              "      padding: 0 0 0 0;\n",
              "      width: 32px;\n",
              "    }\n",
              "\n",
              "    .colab-df-convert:hover {\n",
              "      background-color: #E2EBFA;\n",
              "      box-shadow: 0px 1px 2px rgba(60, 64, 67, 0.3), 0px 1px 3px 1px rgba(60, 64, 67, 0.15);\n",
              "      fill: #174EA6;\n",
              "    }\n",
              "\n",
              "    [theme=dark] .colab-df-convert {\n",
              "      background-color: #3B4455;\n",
              "      fill: #D2E3FC;\n",
              "    }\n",
              "\n",
              "    [theme=dark] .colab-df-convert:hover {\n",
              "      background-color: #434B5C;\n",
              "      box-shadow: 0px 1px 3px 1px rgba(0, 0, 0, 0.15);\n",
              "      filter: drop-shadow(0px 1px 2px rgba(0, 0, 0, 0.3));\n",
              "      fill: #FFFFFF;\n",
              "    }\n",
              "  </style>\n",
              "\n",
              "      <script>\n",
              "        const buttonEl =\n",
              "          document.querySelector('#df-4e09e12e-b63b-4fcf-8268-8a07824c46d6 button.colab-df-convert');\n",
              "        buttonEl.style.display =\n",
              "          google.colab.kernel.accessAllowed ? 'block' : 'none';\n",
              "\n",
              "        async function convertToInteractive(key) {\n",
              "          const element = document.querySelector('#df-4e09e12e-b63b-4fcf-8268-8a07824c46d6');\n",
              "          const dataTable =\n",
              "            await google.colab.kernel.invokeFunction('convertToInteractive',\n",
              "                                                     [key], {});\n",
              "          if (!dataTable) return;\n",
              "\n",
              "          const docLinkHtml = 'Like what you see? Visit the ' +\n",
              "            '<a target=\"_blank\" href=https://colab.research.google.com/notebooks/data_table.ipynb>data table notebook</a>'\n",
              "            + ' to learn more about interactive tables.';\n",
              "          element.innerHTML = '';\n",
              "          dataTable['output_type'] = 'display_data';\n",
              "          await google.colab.output.renderOutput(dataTable, element);\n",
              "          const docLink = document.createElement('div');\n",
              "          docLink.innerHTML = docLinkHtml;\n",
              "          element.appendChild(docLink);\n",
              "        }\n",
              "      </script>\n",
              "    </div>\n",
              "  </div>\n",
              "  "
            ]
          },
          "metadata": {}
        }
      ],
      "source": [
        "display(df)"
      ]
    },
    {
      "cell_type": "markdown",
      "metadata": {
        "id": "j1fuXIvmTnkn"
      },
      "source": [
        "### Format input data"
      ]
    },
    {
      "cell_type": "code",
      "execution_count": 7,
      "metadata": {
        "colab": {
          "base_uri": "https://localhost:8080/"
        },
        "id": "YKAFyCmTTnko",
        "outputId": "06a71958-92f8-4d87-fdfd-28838cfc203a"
      },
      "outputs": [
        {
          "output_type": "stream",
          "name": "stdout",
          "text": [
            "Train shape: (172963, 10, 1), (172963, 4)\n",
            "Val shape: (11980, 10, 1), (11980, 4)\n",
            "Test shape: (25322, 10, 1), (25322, 4)\n"
          ]
        }
      ],
      "source": [
        "# Format settings\n",
        "max_timesteps = lags\n",
        "moneyness = False\n",
        "bs_vars = ['Moneyness', 'TTM', 'R'] if moneyness else ['Underlying_last', 'Strike', 'TTM', 'R']\n",
        "underlying_lags = ['Underlying_last'] + [f'Underlying_{i}' for i in range (1, max_timesteps)]\n",
        "\n",
        "def create_rw_dataset(window_number = 0, df = df):\n",
        "    '''Creates dataset for a single rolling window period offsett by the window number'''\n",
        "\n",
        "    # Create train, validation and test set split points\n",
        "    test_weeks = 2\n",
        "    train_start = datetime(2014,9,23) + relativedelta(weeks=window_number * test_weeks)\n",
        "    val_start = train_start + relativedelta(months=3)\n",
        "    test_start = val_start + relativedelta(weeks=1)\n",
        "    test_end = test_start + relativedelta(weeks=test_weeks)\n",
        "    train_start = str(train_start.date())\n",
        "    val_start = str(val_start.date())\n",
        "    test_start = str(test_start.date())\n",
        "    test_end = str(test_end.date())\n",
        "\n",
        "    # Add moneyness column\n",
        "    if not moneyness:\n",
        "        df['Moneyness'] = df['Underlying_last'] / df['Strike']\n",
        "\n",
        "\n",
        "    # Split train and validation data\n",
        "    df_train = df[(df['Quote_date'] >= train_start) & (df['Quote_date'] < val_start)]\n",
        "    df_val = df[(df['Quote_date'] >= val_start) & (df['Quote_date'] < test_start)]\n",
        "    df_test = df[(df['Quote_date'] >= test_start) & (df['Quote_date'] < test_end)]\n",
        "\n",
        "    del df\n",
        "\n",
        "    # Filter out top and bottom 5% of moneyness in df_train, and using the same filter in df_val and df_test\n",
        "    top = df_train['Moneyness'].quantile(0.95)\n",
        "    bottom = df_train['Moneyness'].quantile(0.05)\n",
        "    df_train = df_train[(df_train['Moneyness'] <= top) & (df_train['Moneyness'] >= bottom)]\n",
        "    df_val = df_val[(df_val['Moneyness'] <= top) & (df_val['Moneyness'] >= bottom)]\n",
        "    df_test = df_test[(df_test['Moneyness'] <= top) & (df_test['Moneyness'] >= bottom)]\n",
        "\n",
        "\n",
        "    # Extract target values\n",
        "    train_y = (df_train['Price'] / df_train['Strike']).to_numpy() if moneyness else df_train['Price'].to_numpy()\n",
        "    val_y = (df_val['Price'] / df_val['Strike']).to_numpy() if moneyness else df_val['Price'].to_numpy()\n",
        "    test_y = (df_test['Price'] / df_test['Strike']).to_numpy() if moneyness else df_test['Price'].to_numpy()\n",
        "\n",
        "    # If usining moneyness, extract strike\n",
        "    if moneyness:\n",
        "        train_strike = df_train['Strike'].to_numpy()\n",
        "        val_strike = df_val['Strike'].to_numpy()\n",
        "        test_strike = df_test['Strike'].to_numpy()\n",
        "\n",
        "    # Convert dataframes to numpy arrays\n",
        "    train_x = [df_train[underlying_lags].to_numpy(), df_train[bs_vars].to_numpy()]\n",
        "    val_x = [df_val[underlying_lags].to_numpy(), df_val[bs_vars].to_numpy()]\n",
        "    test_x = [df_test[underlying_lags].to_numpy(), df_test[bs_vars].to_numpy()]\n",
        "\n",
        "    del df_train\n",
        "    del df_val\n",
        "\n",
        "    # Scale features based on training set\n",
        "    underlying_scaler = MinMaxScaler()\n",
        "    train_x[0] = underlying_scaler.fit_transform(train_x[0])\n",
        "    val_x[0] = underlying_scaler.transform(val_x[0])\n",
        "    test_x[0] = underlying_scaler.transform(test_x[0])\n",
        "\n",
        "    bs_scaler = MinMaxScaler()\n",
        "    train_x[1] = bs_scaler.fit_transform(train_x[1])\n",
        "    val_x[1] = bs_scaler.transform(val_x[1])\n",
        "    test_x[1] = bs_scaler.transform(test_x[1])\n",
        "\n",
        "\n",
        "    # Shuffle training set\n",
        "    np.random.seed(0)\n",
        "    shuffle = np.random.permutation(len(train_x[0]))\n",
        "    train_x = [train_x[0][shuffle], train_x[1][shuffle]]\n",
        "    train_y = train_y[shuffle]\n",
        "    if moneyness:\n",
        "        train_strike = train_strike[shuffle]\n",
        "\n",
        "    # Reshape data to fit LSTM\n",
        "    train_x = [train_x[0].reshape(len(train_x[0]), max_timesteps, 1), train_x[1]]\n",
        "    val_x = [val_x[0].reshape(len(val_x[0]), max_timesteps, 1), val_x[1]]\n",
        "    test_x = [test_x[0].reshape(len(test_x[0]), max_timesteps, 1), test_x[1]]\n",
        "\n",
        "    print(f'Train shape: {train_x[0].shape}, {train_x[1].shape}')\n",
        "    print(f'Val shape: {val_x[0].shape}, {val_x[1].shape}')\n",
        "    print(f'Test shape: {test_x[0].shape}, {test_x[1].shape}')\n",
        "\n",
        "    if moneyness:\n",
        "        return train_x, train_y, val_x, val_y, test_x, test_y, train_start, val_start, test_start, df_test, train_strike, val_strike, test_strike,\n",
        "    return train_x, train_y, val_x, val_y, test_x, test_y, train_start, val_start, test_start, df_test\n",
        "\n",
        "# Create the dataset for the first rolling window period\n",
        "if moneyness:\n",
        "    train_x, train_y, val_x, val_y, test_x, test_y, train_start, val_start, test_start, df_test, train_strike, val_strike, test_strike = create_rw_dataset()\n",
        "else:\n",
        "    train_x, train_y, val_x, val_y, test_x, test_y, train_start, val_start, test_start, df_test = create_rw_dataset()"
      ]
    },
    {
      "cell_type": "markdown",
      "metadata": {
        "id": "inutSrd8Tnko"
      },
      "source": [
        "# Model construction"
      ]
    },
    {
      "cell_type": "code",
      "execution_count": 8,
      "metadata": {
        "id": "gewRG-rHTnkp"
      },
      "outputs": [],
      "source": [
        "def create_model(config):\n",
        "    '''Builds an LSTM-MLP model of minimum 2 layers sequentially from a given config dictionary'''\n",
        "\n",
        "    # Input layers\n",
        "    underlying_history = Input((config.LSTM_timesteps,1))\n",
        "    bs_vars = Input((config.Num_features,))\n",
        "\n",
        "    # LSTM layers\n",
        "    model = Sequential()\n",
        "\n",
        "    model.add(LSTM(\n",
        "        units = config.LSTM_units,\n",
        "        activation = tanh,\n",
        "        input_shape = (config.LSTM_timesteps, 1),\n",
        "        return_sequences = True\n",
        "    ))\n",
        "\n",
        "    for _ in range(config.LSTM_layers - 2):\n",
        "        model.add(LSTM(\n",
        "            units = config.LSTM_units,\n",
        "            activation = tanh,\n",
        "            return_sequences = True\n",
        "        ))\n",
        "    \n",
        "    model.add(LSTM(\n",
        "        units = config.Interface_units,\n",
        "        activation = tanh,\n",
        "        return_sequences = False\n",
        "    ))\n",
        "\n",
        "    # MLP layers\n",
        "    layers = Concatenate()([model(underlying_history), model(underlying_history), model(underlying_history), model(underlying_history), model(underlying_history), bs_vars])\n",
        "    \n",
        "    for _ in range(config.MLP_layers - 1):\n",
        "        layers = Dense(config.MLP_units)(layers)\n",
        "        layers = BatchNormalization(momentum=config.Bn_momentum)(layers)\n",
        "        layers = LeakyReLU()(layers)\n",
        "\n",
        "    output = Dense(1, activation='relu')(layers)\n",
        "\n",
        "    # Exponential decaying learning rate\n",
        "    lr_schedule = ExponentialDecay(\n",
        "        initial_learning_rate = config.Lr,\n",
        "        decay_steps = int(len(train_x[0])/config.Minibatch_size),\n",
        "        decay_rate=config.Lr_decay\n",
        "    )\n",
        "\n",
        "    # Compile model\n",
        "    model = Model(inputs=[underlying_history, bs_vars], outputs=output)\n",
        "    model.compile(loss='mse', optimizer=Adam(learning_rate=lr_schedule))\n",
        "\n",
        "    model.summary()\n",
        "    return model"
      ]
    },
    {
      "cell_type": "markdown",
      "metadata": {
        "id": "Rqno7WFBTnkp"
      },
      "source": [
        "# Hyperparameter search setup"
      ]
    },
    {
      "cell_type": "code",
      "execution_count": 9,
      "metadata": {
        "colab": {
          "base_uri": "https://localhost:8080/"
        },
        "id": "__KmrL9HTnkp",
        "outputId": "d110dc5e-4ad4-4269-b225-0f968771e21e"
      },
      "outputs": [
        {
          "output_type": "stream",
          "name": "stderr",
          "text": [
            "\u001b[34m\u001b[1mwandb\u001b[0m: \u001b[33mWARNING\u001b[0m Malformed sweep config detected! This may cause your sweep to behave in unexpected ways.\n",
            "\u001b[34m\u001b[1mwandb\u001b[0m: \u001b[33mWARNING\u001b[0m To avoid this, please fix the sweep config schema violations below:\n",
            "\u001b[34m\u001b[1mwandb\u001b[0m: \u001b[33mWARNING\u001b[0m   Violation 1. Lr uses log_uniform, where min/max specify base-e exponents. Use log_uniform_values to specify limit values.\n",
            "\u001b[34m\u001b[1mwandb\u001b[0m: \u001b[33mWARNING\u001b[0m   Violation 2. Lr_decay uses log_uniform, where min/max specify base-e exponents. Use log_uniform_values to specify limit values.\n"
          ]
        },
        {
          "output_type": "stream",
          "name": "stdout",
          "text": [
            "Create sweep with ID: i0m10kyl\n",
            "Sweep URL: https://wandb.ai/avogadro/Deep%20learning%20for%20option%20pricing%20-%20test%20area/sweeps/i0m10kyl\n"
          ]
        }
      ],
      "source": [
        "# Configuring the sweep hyperparameter search space\n",
        "sweep_configuration = {\n",
        "    'method': 'bayes',\n",
        "    'name': 'LSTM-MLP v4.0: fix nan issue',\n",
        "    'metric': {\n",
        "        'goal': 'minimize', \n",
        "        'name': 'val_loss'\n",
        "\t\t},\n",
        "    'parameters': {\n",
        "        'LSTM_units': {\n",
        "            'values': [4, 8, 16, 32]},\n",
        "        'Interface_units': {\n",
        "            'values': [4, 8, 16, 32]},\n",
        "        'MLP_units': {\n",
        "            'values': [50, 100, 200, 400, 600]},\n",
        "        'LSTM_timesteps': {\n",
        "            'values': [10, 20, 40, 60, 90, 150]},\n",
        "        'LSTM_layers': {\n",
        "            'distribution': 'int_uniform',\n",
        "            'max': 8, 'min': 2},\n",
        "        'MLP_layers': {\n",
        "            'distribution': 'int_uniform',\n",
        "            'max': 8, 'min': 2},\n",
        "        'Bn_momentum': {\n",
        "            'values': [0.1, 0.4, 0.7, 0.99]},\n",
        "        'Lr': {\n",
        "            'distribution': 'log_uniform',\n",
        "            'max': log(0.1), 'min': log(0.0001)},\n",
        "        'Lr_decay': {\n",
        "            'distribution': 'log_uniform',\n",
        "            'max': log(1), 'min': log(0.8)},        \n",
        "        'Minibatch_size': {\n",
        "            'value': 4096},\n",
        "        'Min_delta': {\n",
        "            'value': 0.01 if moneyness else 1},\n",
        "        'Patience': {\n",
        "            'value': 20},\n",
        "        'Num_features': {\n",
        "            'value': 3 if moneyness else 4},\n",
        "    }\n",
        "}\n",
        "\n",
        "# Initialize sweep and creating sweepID\n",
        "\n",
        "# If new sweep, uncomment the line below and comment the line after it\n",
        "sweep_id = wandb.sweep(sweep=sweep_configuration, project='Deep learning for option pricing - test area') \n",
        "#sweep_id = '98bxt6oq'"
      ]
    },
    {
      "cell_type": "markdown",
      "metadata": {
        "id": "AogdJkrRTnkq"
      },
      "source": [
        "# Run hyperparameter search"
      ]
    },
    {
      "cell_type": "code",
      "execution_count": 10,
      "metadata": {
        "id": "67l6iqWdTnkq"
      },
      "outputs": [],
      "source": [
        "#WIP\n",
        "class MSE_LossCallback(Callback):\n",
        "    def __init__(self, train_x, train_y, train_strike, val_x, val_y, val_strike):\n",
        "        self.train_x = train_x\n",
        "        self.train_y = train_y\n",
        "        self.train_strike = train_strike\n",
        "        self.val_x = val_x\n",
        "        self.val_y = val_y\n",
        "        self.val_strike = val_strike\n",
        "    \n",
        "    def on_epoch_end(self, epoch, logs={}):\n",
        "        train_pred = self.model(train_x)\n",
        "        val_pred = self.model(val_x)\n",
        "\n",
        "        train_mse = reduce_mean(square(multiply(train_pred[:,0] - self.train_y, self.train_strike)))\n",
        "        val_mse = reduce_mean(square(multiply(val_pred[:,0] - self.val_y, self.val_strike)))\n",
        "\n",
        "        print(f' Training scaled MSE: {train_mse}, Validation scaled MSE: {val_mse}')\n"
      ]
    },
    {
      "cell_type": "code",
      "execution_count": 11,
      "metadata": {
        "id": "5ogZE0y_Tnkq"
      },
      "outputs": [],
      "source": [
        "# Calculate the training and validation MSE loss on the actual option price when using price/strike as the target\n",
        "def MSE_loss(model, train_x, train_y, train_strike, val_x, val_y, val_strike):\n",
        "    train_pred = model(train_x)\n",
        "    val_pred = model(val_x)\n",
        "\n",
        "    train_mse = reduce_mean(square((train_pred[:,0] - train_y)*train_strike))\n",
        "    val_mse = reduce_mean(square((val_pred[:,0] - val_y)*val_strike))\n",
        "\n",
        "    print(f' Training scaled MSE: {train_mse}, Validation scaled MSE: {val_mse}')"
      ]
    },
    {
      "cell_type": "code",
      "execution_count": 12,
      "metadata": {
        "id": "xf-ICRDKTnkr"
      },
      "outputs": [],
      "source": [
        "import gc\n",
        "from tensorflow.keras import backend as k\n",
        "\n",
        "class ClearMemory(Callback):\n",
        "    def on_epoch_end(self, epoch, logs=None):\n",
        "        gc.collect()\n",
        "        k.clear_session()"
      ]
    },
    {
      "cell_type": "markdown",
      "metadata": {
        "id": "v4CRxFJrTnkr"
      },
      "source": [
        "## Creating trainer function"
      ]
    },
    {
      "cell_type": "code",
      "execution_count": 13,
      "metadata": {
        "id": "EZsaCBmrTnkr"
      },
      "outputs": [],
      "source": [
        "def trainer(train_x = train_x, train_y = train_y, val_x = val_x, val_y = val_y, config = None, project = None, previous_checkpoint_path = None, checkpoint_path = None):\n",
        "    # Initialize a new wandb run\n",
        "    with wandb.init(config=config, project = project):\n",
        "\n",
        "        # If called by wandb.agent, as below,\n",
        "        # this config will be set by Sweep Controller\n",
        "        config = wandb.config\n",
        "\n",
        "        # Build model and create callbacks\n",
        "        if previous_checkpoint_path and os.path.exists(previous_checkpoint_path + \".h5\"):\n",
        "            model = load_model(previous_checkpoint_path + \".h5\")\n",
        "        else:\n",
        "            model = create_model(config)\n",
        "\n",
        "        early_stopping = EarlyStopping(\n",
        "            monitor='val_loss',\n",
        "            mode='min',\n",
        "            min_delta = config.Min_delta,\n",
        "            patience = config.Patience,\n",
        "        )\n",
        "        \n",
        "        wandb_callback = WandbCallback(\n",
        "            monitor='val_loss',\n",
        "            mode='min',\n",
        "            save_model=False\n",
        "        )\n",
        "        \n",
        "        # Check if the checkpoint folder exists\n",
        "        if checkpoint_path and not os.path.exists(checkpoint_path):\n",
        "            # Create the checkpoint folder if it does not exist\n",
        "            os.makedirs(checkpoint_path)\n",
        "        \n",
        "        checkpoint = ModelCheckpoint(\n",
        "            filepath=checkpoint_path + \".h5\",\n",
        "            monitor='val_loss',\n",
        "            mode='min',\n",
        "            save_best_only=True,\n",
        "            save_weights_only=False\n",
        "        )\n",
        "\n",
        "        # Adapt sequence length to config\n",
        "        train_x_adjusted = [train_x[0][:, :config.LSTM_timesteps, :], train_x[1]]\n",
        "        val_x_adjusted = [val_x[0][:, :config.LSTM_timesteps, :], val_x[1]]\n",
        "        print(f'Train shape: {train_x_adjusted[0].shape}, {train_x_adjusted[0].shape}')\n",
        "        print(f'Val shape: {val_x_adjusted[0].shape}, {val_x_adjusted[0].shape}')\n",
        "\n",
        "        # Train model\n",
        "        model.fit(\n",
        "            train_x_adjusted,\n",
        "            train_y,\n",
        "            batch_size = config.Minibatch_size,\n",
        "            validation_data = (val_x_adjusted, val_y),\n",
        "            epochs = 1000,\n",
        "            callbacks = [early_stopping, wandb_callback, checkpoint, ClearMemory()] if checkpoint_path else [early_stopping, wandb_callback, ClearMemory()],\n",
        "        )\n",
        "\n",
        "        if moneyness:\n",
        "            MSE_loss(model, train_x, train_y, train_strike, val_x, val_y, val_strike)"
      ]
    },
    {
      "cell_type": "markdown",
      "metadata": {
        "id": "CQyg6eZKTnkr"
      },
      "source": [
        "### Run full sweep"
      ]
    },
    {
      "cell_type": "code",
      "execution_count": 14,
      "metadata": {
        "id": "mC5YLKBTTnks"
      },
      "outputs": [],
      "source": [
        "#wandb.agent(sweep_id=sweep_id, function=trainer, project='Deep learning for option pricing - test area', count = 100)"
      ]
    },
    {
      "cell_type": "markdown",
      "metadata": {
        "id": "EuuoYP4ITnks"
      },
      "source": [
        "### Single run"
      ]
    },
    {
      "cell_type": "markdown",
      "metadata": {
        "id": "zaS4BiSNTnks"
      },
      "source": [
        "# Rolling window"
      ]
    },
    {
      "cell_type": "code",
      "execution_count": 15,
      "metadata": {
        "id": "ifDAjXS3Tnks"
      },
      "outputs": [],
      "source": [
        "def calculate_error(predictions, original):\n",
        "    m = MeanSquaredError()\n",
        "    m.update_state(predictions, original)\n",
        "    print(\"MSE:\", m.result().numpy())\n",
        "    m = RootMeanSquaredError()\n",
        "    m.update_state(predictions, original)\n",
        "    print(\"RMSE:\", m.result().numpy())\n",
        "\n",
        "class config_object:\n",
        "    def __init__(self, config):\n",
        "        self.LSTM_units = config['LSTM_units']\n",
        "        self.Interface_units = config['Interface_units']\n",
        "        self.MLP_units = config['MLP_units']\n",
        "        self.LSTM_timesteps = config['LSTM_timesteps']\n",
        "        self.LSTM_layers = config['LSTM_layers']\n",
        "        self.MLP_layers = config['MLP_layers']\n",
        "        self.Bn_momentum = config['Bn_momentum']\n",
        "        self.Lr = config['Lr']\n",
        "        self.Lr_decay = config['Lr_decay']\n",
        "        self.Minibatch_size = config['Minibatch_size']\n",
        "        self.Min_delta = config['Min_delta']\n",
        "        self.Patience = config['Patience']\n",
        "        self.Num_features = config['Num_features']\n",
        "        self.Architecture = config['Architecture']\n",
        "        "
      ]
    },
    {
      "cell_type": "code",
      "execution_count": null,
      "metadata": {
        "colab": {
          "base_uri": "https://localhost:8080/",
          "height": 1000,
          "referenced_widgets": [
            "b7bd3da7630841f48ee12c472e155d36",
            "397311d9c8b64f32ba3ae0e785608aad",
            "0988225246644845aa770c5b70796fe2",
            "dc2fa3b454ea45a1a4ad5907e27b37d2",
            "f4640af24b6d49b6af11425d2a2605d2",
            "780c42123e204494a8d98f520706ea6d",
            "cd6a5f4de86d4ee79a6a404d614d3e74",
            "7ecc79cd1d514d69b84b5c69131a9f24",
            "e2bd7202abf344ec959dd6942bb05de4",
            "a759fc4075b84c30843ba770a3ef9d53",
            "68471fbb4cc64dd69ccb92ad4fe76452",
            "5cd75aa4d12b4f6aa1ebac25a7cd10fa",
            "80082612113e4a05b49e9e1fea78f77e",
            "c1e7f30404bf4cbd9fda7a8b55d018d4",
            "d762c2a05dc840fc9e80b4c948f33695",
            "eac16b8464d6497f9d67d54d6f11fab2",
            "b549885418884fef82dca20cf5f70298",
            "60c36c4bdacc4b67a3a63c5b870d47d1",
            "e5f1859fbcf248f38d0e36ff8f82fe13",
            "752d964580fb4f36bfb636d1c6e04f47",
            "b01fb1af831b4ed492202b624a80ac72",
            "5a90abffb803464c9d013e9a2e1e101a",
            "79fd6685f85e4118919abb07b2a18f48",
            "d63cc5d709b04571812995523c90e730",
            "0defdf9bedd543968f64a8d09f97b540",
            "027f11920dcd4c9f8035e25210c585ab",
            "f74c8807f57b4a0381b2a95b8cc2a348",
            "efdbeff488a943d194d9d57003aba058",
            "aa3d1c4226284ee694f5f2eab429d950",
            "2ec000809bbb4a6081b24afa65d635eb",
            "ee51dcdc8cf14e7d9743d3f96805eff0",
            "b631454f1e424e258f51f1665c376545",
            "360154f226034f19b9064411a3974829",
            "d162de41cef94dac8f49e6213e9e4107",
            "a78759ac9d8b4e3d929d685dcfa13207",
            "40d2c5f9527648b69a963ed582c41942",
            "183ad62885e042038934277737be583f",
            "bc782b6f33924c3d9e97ba5f2c158c59",
            "e1e21a64e2c14bebb238fd311752c1a7",
            "fe0279c910344243af49e4212b5109f6"
          ]
        },
        "id": "lRV8wlklTnks",
        "outputId": "2791399e-e2ac-4b0d-806d-e8c5950993e3"
      },
      "outputs": [
        {
          "output_type": "stream",
          "name": "stdout",
          "text": [
            "Mounted at /content/drive\n",
            "Train shape: (172963, 10, 1), (172963, 4)\n",
            "Val shape: (11980, 10, 1), (11980, 4)\n",
            "Test shape: (25322, 10, 1), (25322, 4)\n",
            "-------------------------------------------\n",
            "Checkpoint_path =  /content/drive/MyDrive/01. Masters Thesis - Shared/05. Checkpoints/04-15_14-59/2014-09-23/\n",
            "Previous checkpoint_path =  None\n",
            "-------------------------------------------\n"
          ]
        },
        {
          "output_type": "display_data",
          "data": {
            "text/plain": [
              "<IPython.core.display.HTML object>"
            ],
            "text/html": [
              "Changes to your `wandb` environment variables will be ignored because your `wandb` session has already started. For more information on how to modify your settings with `wandb.init()` arguments, please refer to <a href='https://wandb.me/wandb-init' target=\"_blank\">the W&B docs</a>."
            ]
          },
          "metadata": {}
        },
        {
          "output_type": "stream",
          "name": "stderr",
          "text": [
            "\u001b[34m\u001b[1mwandb\u001b[0m: Currently logged in as: \u001b[33mvinje\u001b[0m (\u001b[33mavogadro\u001b[0m). Use \u001b[1m`wandb login --relogin`\u001b[0m to force relogin\n"
          ]
        },
        {
          "output_type": "display_data",
          "data": {
            "text/plain": [
              "<IPython.core.display.HTML object>"
            ],
            "text/html": [
              "Tracking run with wandb version 0.14.2"
            ]
          },
          "metadata": {}
        },
        {
          "output_type": "display_data",
          "data": {
            "text/plain": [
              "<IPython.core.display.HTML object>"
            ],
            "text/html": [
              "Run data is saved locally in <code>/content/wandb/run-20230415_150003-mdeblv1u</code>"
            ]
          },
          "metadata": {}
        },
        {
          "output_type": "display_data",
          "data": {
            "text/plain": [
              "<IPython.core.display.HTML object>"
            ],
            "text/html": [
              "Syncing run <strong><a href='https://wandb.ai/avogadro/Deep%20learning%20for%20option%20pricing%20-%20rolling%20windows/runs/mdeblv1u' target=\"_blank\">whole-shadow-234</a></strong> to <a href='https://wandb.ai/avogadro/Deep%20learning%20for%20option%20pricing%20-%20rolling%20windows' target=\"_blank\">Weights & Biases</a> (<a href='https://wandb.me/run' target=\"_blank\">docs</a>)<br/>"
            ]
          },
          "metadata": {}
        },
        {
          "output_type": "display_data",
          "data": {
            "text/plain": [
              "<IPython.core.display.HTML object>"
            ],
            "text/html": [
              " View project at <a href='https://wandb.ai/avogadro/Deep%20learning%20for%20option%20pricing%20-%20rolling%20windows' target=\"_blank\">https://wandb.ai/avogadro/Deep%20learning%20for%20option%20pricing%20-%20rolling%20windows</a>"
            ]
          },
          "metadata": {}
        },
        {
          "output_type": "display_data",
          "data": {
            "text/plain": [
              "<IPython.core.display.HTML object>"
            ],
            "text/html": [
              " View run at <a href='https://wandb.ai/avogadro/Deep%20learning%20for%20option%20pricing%20-%20rolling%20windows/runs/mdeblv1u' target=\"_blank\">https://wandb.ai/avogadro/Deep%20learning%20for%20option%20pricing%20-%20rolling%20windows/runs/mdeblv1u</a>"
            ]
          },
          "metadata": {}
        },
        {
          "output_type": "stream",
          "name": "stdout",
          "text": [
            "Model: \"model\"\n",
            "__________________________________________________________________________________________________\n",
            " Layer (type)                   Output Shape         Param #     Connected to                     \n",
            "==================================================================================================\n",
            " input_1 (InputLayer)           [(None, 10, 1)]      0           []                               \n",
            "                                                                                                  \n",
            " sequential (Sequential)        (None, 16)           2016        ['input_1[0][0]',                \n",
            "                                                                  'input_1[0][0]',                \n",
            "                                                                  'input_1[0][0]',                \n",
            "                                                                  'input_1[0][0]',                \n",
            "                                                                  'input_1[0][0]']                \n",
            "                                                                                                  \n",
            " input_2 (InputLayer)           [(None, 4)]          0           []                               \n",
            "                                                                                                  \n",
            " concatenate (Concatenate)      (None, 84)           0           ['sequential[0][0]',             \n",
            "                                                                  'sequential[1][0]',             \n",
            "                                                                  'sequential[2][0]',             \n",
            "                                                                  'sequential[3][0]',             \n",
            "                                                                  'sequential[4][0]',             \n",
            "                                                                  'input_2[0][0]']                \n",
            "                                                                                                  \n",
            " dense (Dense)                  (None, 600)          51000       ['concatenate[0][0]']            \n",
            "                                                                                                  \n",
            " batch_normalization (BatchNorm  (None, 600)         2400        ['dense[0][0]']                  \n",
            " alization)                                                                                       \n",
            "                                                                                                  \n",
            " leaky_re_lu (LeakyReLU)        (None, 600)          0           ['batch_normalization[0][0]']    \n",
            "                                                                                                  \n",
            " dense_1 (Dense)                (None, 600)          360600      ['leaky_re_lu[0][0]']            \n",
            "                                                                                                  \n",
            " batch_normalization_1 (BatchNo  (None, 600)         2400        ['dense_1[0][0]']                \n",
            " rmalization)                                                                                     \n",
            "                                                                                                  \n",
            " leaky_re_lu_1 (LeakyReLU)      (None, 600)          0           ['batch_normalization_1[0][0]']  \n",
            "                                                                                                  \n",
            " dense_2 (Dense)                (None, 600)          360600      ['leaky_re_lu_1[0][0]']          \n",
            "                                                                                                  \n",
            " batch_normalization_2 (BatchNo  (None, 600)         2400        ['dense_2[0][0]']                \n",
            " rmalization)                                                                                     \n",
            "                                                                                                  \n",
            " leaky_re_lu_2 (LeakyReLU)      (None, 600)          0           ['batch_normalization_2[0][0]']  \n",
            "                                                                                                  \n",
            " dense_3 (Dense)                (None, 600)          360600      ['leaky_re_lu_2[0][0]']          \n",
            "                                                                                                  \n",
            " batch_normalization_3 (BatchNo  (None, 600)         2400        ['dense_3[0][0]']                \n",
            " rmalization)                                                                                     \n",
            "                                                                                                  \n",
            " leaky_re_lu_3 (LeakyReLU)      (None, 600)          0           ['batch_normalization_3[0][0]']  \n",
            "                                                                                                  \n",
            " dense_4 (Dense)                (None, 600)          360600      ['leaky_re_lu_3[0][0]']          \n",
            "                                                                                                  \n",
            " batch_normalization_4 (BatchNo  (None, 600)         2400        ['dense_4[0][0]']                \n",
            " rmalization)                                                                                     \n",
            "                                                                                                  \n",
            " leaky_re_lu_4 (LeakyReLU)      (None, 600)          0           ['batch_normalization_4[0][0]']  \n",
            "                                                                                                  \n",
            " dense_5 (Dense)                (None, 600)          360600      ['leaky_re_lu_4[0][0]']          \n",
            "                                                                                                  \n",
            " batch_normalization_5 (BatchNo  (None, 600)         2400        ['dense_5[0][0]']                \n",
            " rmalization)                                                                                     \n",
            "                                                                                                  \n",
            " leaky_re_lu_5 (LeakyReLU)      (None, 600)          0           ['batch_normalization_5[0][0]']  \n",
            "                                                                                                  \n",
            " dense_6 (Dense)                (None, 1)            601         ['leaky_re_lu_5[0][0]']          \n",
            "                                                                                                  \n",
            "==================================================================================================\n",
            "Total params: 1,871,017\n",
            "Trainable params: 1,863,817\n",
            "Non-trainable params: 7,200\n",
            "__________________________________________________________________________________________________\n",
            "Train shape: (172963, 10, 1), (172963, 10, 1)\n",
            "Val shape: (11980, 10, 1), (11980, 10, 1)\n",
            "Epoch 1/1000\n",
            "43/43 [==============================] - 56s 280ms/step - loss: 140795.3438 - val_loss: 183615.8125\n",
            "Epoch 2/1000\n",
            "43/43 [==============================] - 10s 112ms/step - loss: 73543.7188 - val_loss: 44839.7891\n",
            "Epoch 3/1000\n",
            "43/43 [==============================] - 10s 105ms/step - loss: 24608.2461 - val_loss: 57651.5742\n",
            "Epoch 4/1000\n",
            "43/43 [==============================] - 10s 108ms/step - loss: 5648.1426 - val_loss: 122333.9609\n",
            "Epoch 5/1000\n",
            "43/43 [==============================] - 10s 111ms/step - loss: 1287.5560 - val_loss: 110680.4922\n",
            "Epoch 6/1000\n",
            "43/43 [==============================] - 10s 112ms/step - loss: 481.4304 - val_loss: 87108.8203\n",
            "Epoch 7/1000\n",
            "43/43 [==============================] - 10s 112ms/step - loss: 260.3416 - val_loss: 56536.3320\n",
            "Epoch 8/1000\n",
            "43/43 [==============================] - 10s 112ms/step - loss: 187.7145 - val_loss: 46396.5312\n",
            "Epoch 9/1000\n",
            "43/43 [==============================] - 11s 132ms/step - loss: 145.8750 - val_loss: 34473.3867\n",
            "Epoch 10/1000\n",
            "43/43 [==============================] - 10s 112ms/step - loss: 125.8135 - val_loss: 27652.7812\n",
            "Epoch 11/1000\n",
            "43/43 [==============================] - 10s 113ms/step - loss: 87.2184 - val_loss: 22282.7871\n",
            "Epoch 12/1000\n",
            "43/43 [==============================] - 10s 115ms/step - loss: 106.2739 - val_loss: 16807.8379\n",
            "Epoch 13/1000\n",
            "43/43 [==============================] - 11s 135ms/step - loss: 93.1918 - val_loss: 11827.7646\n",
            "Epoch 14/1000\n",
            "43/43 [==============================] - 10s 115ms/step - loss: 74.3945 - val_loss: 7540.5547\n",
            "Epoch 15/1000\n",
            "43/43 [==============================] - 11s 135ms/step - loss: 73.4152 - val_loss: 5222.1094\n",
            "Epoch 16/1000\n",
            "43/43 [==============================] - 10s 113ms/step - loss: 68.8686 - val_loss: 2185.0256\n",
            "Epoch 17/1000\n",
            "43/43 [==============================] - 10s 116ms/step - loss: 66.7732 - val_loss: 1291.1316\n",
            "Epoch 18/1000\n",
            "43/43 [==============================] - 11s 132ms/step - loss: 62.5716 - val_loss: 501.2919\n",
            "Epoch 19/1000\n",
            "43/43 [==============================] - 10s 115ms/step - loss: 56.0392 - val_loss: 143.9589\n",
            "Epoch 20/1000\n",
            "43/43 [==============================] - 10s 114ms/step - loss: 60.6427 - val_loss: 118.4602\n",
            "Epoch 21/1000\n",
            "43/43 [==============================] - 10s 109ms/step - loss: 50.8521 - val_loss: 163.8569\n",
            "Epoch 22/1000\n",
            "43/43 [==============================] - 10s 110ms/step - loss: 49.8883 - val_loss: 126.7132\n",
            "Epoch 23/1000\n",
            "43/43 [==============================] - 10s 109ms/step - loss: 61.4102 - val_loss: 347.6681\n",
            "Epoch 24/1000\n",
            "43/43 [==============================] - 11s 131ms/step - loss: 46.6855 - val_loss: 110.7266\n",
            "Epoch 25/1000\n",
            "43/43 [==============================] - 10s 107ms/step - loss: 46.8332 - val_loss: 223.4918\n",
            "Epoch 26/1000\n",
            "43/43 [==============================] - 11s 138ms/step - loss: 39.2002 - val_loss: 92.8489\n",
            "Epoch 27/1000\n",
            "43/43 [==============================] - 10s 114ms/step - loss: 39.7834 - val_loss: 55.5957\n",
            "Epoch 28/1000\n",
            "43/43 [==============================] - 10s 109ms/step - loss: 39.2047 - val_loss: 69.0966\n",
            "Epoch 29/1000\n",
            "43/43 [==============================] - 11s 116ms/step - loss: 40.7628 - val_loss: 83.5622\n",
            "Epoch 30/1000\n",
            "43/43 [==============================] - 11s 138ms/step - loss: 48.6129 - val_loss: 37.1659\n",
            "Epoch 31/1000\n",
            "43/43 [==============================] - 10s 110ms/step - loss: 48.4948 - val_loss: 68.5590\n",
            "Epoch 32/1000\n",
            "43/43 [==============================] - 10s 111ms/step - loss: 34.8274 - val_loss: 140.9366\n",
            "Epoch 33/1000\n",
            "43/43 [==============================] - 10s 113ms/step - loss: 42.7192 - val_loss: 56.0541\n",
            "Epoch 34/1000\n",
            "43/43 [==============================] - 11s 136ms/step - loss: 50.7816 - val_loss: 15.4472\n",
            "Epoch 35/1000\n",
            "43/43 [==============================] - 10s 114ms/step - loss: 50.7700 - val_loss: 29.3463\n",
            "Epoch 36/1000\n",
            "43/43 [==============================] - 10s 115ms/step - loss: 40.1344 - val_loss: 59.9117\n",
            "Epoch 37/1000\n",
            "43/43 [==============================] - 10s 115ms/step - loss: 44.0970 - val_loss: 43.2544\n",
            "Epoch 38/1000\n",
            "43/43 [==============================] - 10s 109ms/step - loss: 35.5491 - val_loss: 44.9642\n",
            "Epoch 39/1000\n",
            "43/43 [==============================] - 10s 109ms/step - loss: 33.8560 - val_loss: 57.8182\n",
            "Epoch 40/1000\n",
            "43/43 [==============================] - 10s 107ms/step - loss: 33.0177 - val_loss: 49.5889\n",
            "Epoch 41/1000\n",
            "43/43 [==============================] - 10s 111ms/step - loss: 34.2214 - val_loss: 49.3988\n",
            "Epoch 42/1000\n",
            "43/43 [==============================] - 10s 109ms/step - loss: 45.9769 - val_loss: 40.3828\n",
            "Epoch 43/1000\n",
            "43/43 [==============================] - 10s 107ms/step - loss: 36.3952 - val_loss: 38.7269\n",
            "Epoch 44/1000\n",
            "43/43 [==============================] - 10s 109ms/step - loss: 45.7844 - val_loss: 31.6067\n",
            "Epoch 45/1000\n",
            "43/43 [==============================] - 10s 110ms/step - loss: 44.7623 - val_loss: 25.7091\n",
            "Epoch 46/1000\n",
            "43/43 [==============================] - 10s 110ms/step - loss: 41.3064 - val_loss: 31.1737\n",
            "Epoch 47/1000\n",
            "43/43 [==============================] - 10s 110ms/step - loss: 32.0313 - val_loss: 32.0778\n",
            "Epoch 48/1000\n",
            "43/43 [==============================] - 10s 108ms/step - loss: 36.4522 - val_loss: 26.5134\n",
            "Epoch 49/1000\n",
            "43/43 [==============================] - 10s 111ms/step - loss: 44.1020 - val_loss: 30.8942\n",
            "Epoch 50/1000\n",
            "43/43 [==============================] - 10s 110ms/step - loss: 40.7989 - val_loss: 35.0421\n",
            "Epoch 51/1000\n",
            "43/43 [==============================] - 10s 109ms/step - loss: 35.9999 - val_loss: 35.2432\n",
            "Epoch 52/1000\n",
            "43/43 [==============================] - 10s 110ms/step - loss: 28.8590 - val_loss: 31.3010\n",
            "Epoch 53/1000\n",
            "43/43 [==============================] - 10s 109ms/step - loss: 40.9560 - val_loss: 36.7738\n",
            "Epoch 54/1000\n",
            "43/43 [==============================] - 10s 112ms/step - loss: 34.9032 - val_loss: 30.2417\n"
          ]
        },
        {
          "output_type": "display_data",
          "data": {
            "text/plain": [
              "<IPython.core.display.HTML object>"
            ],
            "text/html": [
              "Waiting for W&B process to finish... <strong style=\"color:green\">(success).</strong>"
            ]
          },
          "metadata": {}
        },
        {
          "output_type": "display_data",
          "data": {
            "text/plain": [
              "VBox(children=(Label(value='0.006 MB of 0.006 MB uploaded (0.000 MB deduped)\\r'), FloatProgress(value=1.0, max…"
            ],
            "application/vnd.jupyter.widget-view+json": {
              "version_major": 2,
              "version_minor": 0,
              "model_id": "b7bd3da7630841f48ee12c472e155d36"
            }
          },
          "metadata": {}
        },
        {
          "output_type": "display_data",
          "data": {
            "text/plain": [
              "<IPython.core.display.HTML object>"
            ],
            "text/html": [
              "<style>\n",
              "    table.wandb td:nth-child(1) { padding: 0 10px; text-align: left ; width: auto;} td:nth-child(2) {text-align: left ; width: 100%}\n",
              "    .wandb-row { display: flex; flex-direction: row; flex-wrap: wrap; justify-content: flex-start; width: 100% }\n",
              "    .wandb-col { display: flex; flex-direction: column; flex-basis: 100%; flex: 1; padding: 10px; }\n",
              "    </style>\n",
              "<div class=\"wandb-row\"><div class=\"wandb-col\"><h3>Run history:</h3><br/><table class=\"wandb\"><tr><td>epoch</td><td>▁▁▁▂▂▂▂▂▂▃▃▃▃▃▄▄▄▄▄▄▅▅▅▅▅▅▆▆▆▆▆▇▇▇▇▇▇███</td></tr><tr><td>loss</td><td>█▅▂▁▁▁▁▁▁▁▁▁▁▁▁▁▁▁▁▁▁▁▁▁▁▁▁▁▁▁▁▁▁▁▁▁▁▁▁▁</td></tr><tr><td>val_loss</td><td>█▃▃▅▄▃▂▂▂▁▁▁▁▁▁▁▁▁▁▁▁▁▁▁▁▁▁▁▁▁▁▁▁▁▁▁▁▁▁▁</td></tr></table><br/></div><div class=\"wandb-col\"><h3>Run summary:</h3><br/><table class=\"wandb\"><tr><td>best_epoch</td><td>33</td></tr><tr><td>best_val_loss</td><td>15.44719</td></tr><tr><td>epoch</td><td>53</td></tr><tr><td>loss</td><td>34.90315</td></tr><tr><td>val_loss</td><td>30.24173</td></tr></table><br/></div></div>"
            ]
          },
          "metadata": {}
        },
        {
          "output_type": "display_data",
          "data": {
            "text/plain": [
              "<IPython.core.display.HTML object>"
            ],
            "text/html": [
              " View run <strong style=\"color:#cdcd00\">whole-shadow-234</strong> at: <a href='https://wandb.ai/avogadro/Deep%20learning%20for%20option%20pricing%20-%20rolling%20windows/runs/mdeblv1u' target=\"_blank\">https://wandb.ai/avogadro/Deep%20learning%20for%20option%20pricing%20-%20rolling%20windows/runs/mdeblv1u</a><br/>Synced 5 W&B file(s), 1 media file(s), 0 artifact file(s) and 0 other file(s)"
            ]
          },
          "metadata": {}
        },
        {
          "output_type": "display_data",
          "data": {
            "text/plain": [
              "<IPython.core.display.HTML object>"
            ],
            "text/html": [
              "Find logs at: <code>./wandb/run-20230415_150003-mdeblv1u/logs</code>"
            ]
          },
          "metadata": {}
        },
        {
          "output_type": "stream",
          "name": "stdout",
          "text": [
            "--- Predictions for test_start 2014-12-30 ---\n",
            "MSE: 29.728848\n",
            "RMSE: 5.452417\n",
            "-------------------------------------------\n",
            "Train shape: (173097, 10, 1), (173097, 4)\n",
            "Val shape: (14083, 10, 1), (14083, 4)\n",
            "Test shape: (24916, 10, 1), (24916, 4)\n",
            "-------------------------------------------\n",
            "Checkpoint_path =  /content/drive/MyDrive/01. Masters Thesis - Shared/05. Checkpoints/04-15_14-59/2014-10-07/\n",
            "Previous checkpoint_path =  /content/drive/MyDrive/01. Masters Thesis - Shared/05. Checkpoints/04-15_14-59/2014-09-23/\n",
            "-------------------------------------------\n"
          ]
        },
        {
          "output_type": "display_data",
          "data": {
            "text/plain": [
              "<IPython.core.display.HTML object>"
            ],
            "text/html": [
              "Changes to your `wandb` environment variables will be ignored because your `wandb` session has already started. For more information on how to modify your settings with `wandb.init()` arguments, please refer to <a href='https://wandb.me/wandb-init' target=\"_blank\">the W&B docs</a>."
            ]
          },
          "metadata": {}
        },
        {
          "output_type": "display_data",
          "data": {
            "text/plain": [
              "<IPython.core.display.HTML object>"
            ],
            "text/html": [
              "Tracking run with wandb version 0.14.2"
            ]
          },
          "metadata": {}
        },
        {
          "output_type": "display_data",
          "data": {
            "text/plain": [
              "<IPython.core.display.HTML object>"
            ],
            "text/html": [
              "Run data is saved locally in <code>/content/wandb/run-20230415_151038-tr4y9cm1</code>"
            ]
          },
          "metadata": {}
        },
        {
          "output_type": "display_data",
          "data": {
            "text/plain": [
              "<IPython.core.display.HTML object>"
            ],
            "text/html": [
              "Syncing run <strong><a href='https://wandb.ai/avogadro/Deep%20learning%20for%20option%20pricing%20-%20rolling%20windows/runs/tr4y9cm1' target=\"_blank\">desert-sky-235</a></strong> to <a href='https://wandb.ai/avogadro/Deep%20learning%20for%20option%20pricing%20-%20rolling%20windows' target=\"_blank\">Weights & Biases</a> (<a href='https://wandb.me/run' target=\"_blank\">docs</a>)<br/>"
            ]
          },
          "metadata": {}
        },
        {
          "output_type": "display_data",
          "data": {
            "text/plain": [
              "<IPython.core.display.HTML object>"
            ],
            "text/html": [
              " View project at <a href='https://wandb.ai/avogadro/Deep%20learning%20for%20option%20pricing%20-%20rolling%20windows' target=\"_blank\">https://wandb.ai/avogadro/Deep%20learning%20for%20option%20pricing%20-%20rolling%20windows</a>"
            ]
          },
          "metadata": {}
        },
        {
          "output_type": "display_data",
          "data": {
            "text/plain": [
              "<IPython.core.display.HTML object>"
            ],
            "text/html": [
              " View run at <a href='https://wandb.ai/avogadro/Deep%20learning%20for%20option%20pricing%20-%20rolling%20windows/runs/tr4y9cm1' target=\"_blank\">https://wandb.ai/avogadro/Deep%20learning%20for%20option%20pricing%20-%20rolling%20windows/runs/tr4y9cm1</a>"
            ]
          },
          "metadata": {}
        },
        {
          "output_type": "stream",
          "name": "stdout",
          "text": [
            "Train shape: (172963, 10, 1), (172963, 10, 1)\n",
            "Val shape: (11980, 10, 1), (11980, 10, 1)\n",
            "Epoch 1/1000\n",
            "43/43 [==============================] - 37s 268ms/step - loss: 50.0692 - val_loss: 25.1029\n",
            "Epoch 2/1000\n",
            "43/43 [==============================] - 10s 111ms/step - loss: 37.4174 - val_loss: 19.2470\n",
            "Epoch 3/1000\n",
            "43/43 [==============================] - 10s 105ms/step - loss: 33.7816 - val_loss: 25.9617\n",
            "Epoch 4/1000\n",
            "43/43 [==============================] - 10s 105ms/step - loss: 35.8898 - val_loss: 47.3648\n",
            "Epoch 5/1000\n",
            "43/43 [==============================] - 10s 105ms/step - loss: 35.2843 - val_loss: 36.9420\n",
            "Epoch 6/1000\n",
            "43/43 [==============================] - 10s 106ms/step - loss: 37.4728 - val_loss: 22.0806\n",
            "Epoch 7/1000\n",
            "43/43 [==============================] - 10s 103ms/step - loss: 39.2883 - val_loss: 29.3635\n",
            "Epoch 8/1000\n",
            "43/43 [==============================] - 10s 105ms/step - loss: 43.1407 - val_loss: 35.6954\n",
            "Epoch 9/1000\n",
            "43/43 [==============================] - 9s 107ms/step - loss: 51.0402 - val_loss: 40.6779\n",
            "Epoch 10/1000\n",
            "43/43 [==============================] - 10s 106ms/step - loss: 35.6124 - val_loss: 35.9647\n",
            "Epoch 11/1000\n",
            "43/43 [==============================] - 10s 106ms/step - loss: 40.9956 - val_loss: 23.1232\n",
            "Epoch 12/1000\n",
            "43/43 [==============================] - 10s 105ms/step - loss: 39.6786 - val_loss: 27.8664\n",
            "Epoch 13/1000\n",
            "43/43 [==============================] - 9s 107ms/step - loss: 48.1806 - val_loss: 26.8000\n",
            "Epoch 14/1000\n",
            "43/43 [==============================] - 10s 106ms/step - loss: 40.7416 - val_loss: 31.7878\n",
            "Epoch 15/1000\n",
            "43/43 [==============================] - 10s 106ms/step - loss: 34.4797 - val_loss: 32.2383\n",
            "Epoch 16/1000\n",
            "43/43 [==============================] - 10s 107ms/step - loss: 39.7682 - val_loss: 37.6866\n",
            "Epoch 17/1000\n",
            "43/43 [==============================] - 10s 112ms/step - loss: 34.2405 - val_loss: 34.6846\n",
            "Epoch 18/1000\n",
            "43/43 [==============================] - 10s 114ms/step - loss: 44.8529 - val_loss: 28.1915\n",
            "Epoch 19/1000\n",
            "43/43 [==============================] - 10s 111ms/step - loss: 36.5127 - val_loss: 32.5905\n",
            "Epoch 20/1000\n",
            "43/43 [==============================] - 10s 108ms/step - loss: 39.1316 - val_loss: 30.4830\n",
            "Epoch 21/1000\n",
            "43/43 [==============================] - 10s 106ms/step - loss: 37.1266 - val_loss: 31.3245\n",
            "Epoch 22/1000\n",
            "43/43 [==============================] - 10s 107ms/step - loss: 41.6884 - val_loss: 31.0036\n"
          ]
        },
        {
          "output_type": "display_data",
          "data": {
            "text/plain": [
              "<IPython.core.display.HTML object>"
            ],
            "text/html": [
              "Waiting for W&B process to finish... <strong style=\"color:green\">(success).</strong>"
            ]
          },
          "metadata": {}
        },
        {
          "output_type": "display_data",
          "data": {
            "text/plain": [
              "VBox(children=(Label(value='0.006 MB of 0.006 MB uploaded (0.000 MB deduped)\\r'), FloatProgress(value=1.0, max…"
            ],
            "application/vnd.jupyter.widget-view+json": {
              "version_major": 2,
              "version_minor": 0,
              "model_id": "e2bd7202abf344ec959dd6942bb05de4"
            }
          },
          "metadata": {}
        },
        {
          "output_type": "display_data",
          "data": {
            "text/plain": [
              "<IPython.core.display.HTML object>"
            ],
            "text/html": [
              "<style>\n",
              "    table.wandb td:nth-child(1) { padding: 0 10px; text-align: left ; width: auto;} td:nth-child(2) {text-align: left ; width: 100%}\n",
              "    .wandb-row { display: flex; flex-direction: row; flex-wrap: wrap; justify-content: flex-start; width: 100% }\n",
              "    .wandb-col { display: flex; flex-direction: column; flex-basis: 100%; flex: 1; padding: 10px; }\n",
              "    </style>\n",
              "<div class=\"wandb-row\"><div class=\"wandb-col\"><h3>Run history:</h3><br/><table class=\"wandb\"><tr><td>epoch</td><td>▁▁▂▂▂▃▃▃▄▄▄▅▅▅▆▆▆▇▇▇██</td></tr><tr><td>loss</td><td>█▂▁▂▂▂▃▅█▂▄▃▇▄▁▃▁▅▂▃▂▄</td></tr><tr><td>val_loss</td><td>▂▁▃█▅▂▄▅▆▅▂▃▃▄▄▆▅▃▄▄▄▄</td></tr></table><br/></div><div class=\"wandb-col\"><h3>Run summary:</h3><br/><table class=\"wandb\"><tr><td>best_epoch</td><td>1</td></tr><tr><td>best_val_loss</td><td>19.24705</td></tr><tr><td>epoch</td><td>21</td></tr><tr><td>loss</td><td>41.68844</td></tr><tr><td>val_loss</td><td>31.00356</td></tr></table><br/></div></div>"
            ]
          },
          "metadata": {}
        },
        {
          "output_type": "display_data",
          "data": {
            "text/plain": [
              "<IPython.core.display.HTML object>"
            ],
            "text/html": [
              " View run <strong style=\"color:#cdcd00\">desert-sky-235</strong> at: <a href='https://wandb.ai/avogadro/Deep%20learning%20for%20option%20pricing%20-%20rolling%20windows/runs/tr4y9cm1' target=\"_blank\">https://wandb.ai/avogadro/Deep%20learning%20for%20option%20pricing%20-%20rolling%20windows/runs/tr4y9cm1</a><br/>Synced 5 W&B file(s), 1 media file(s), 0 artifact file(s) and 0 other file(s)"
            ]
          },
          "metadata": {}
        },
        {
          "output_type": "display_data",
          "data": {
            "text/plain": [
              "<IPython.core.display.HTML object>"
            ],
            "text/html": [
              "Find logs at: <code>./wandb/run-20230415_151038-tr4y9cm1/logs</code>"
            ]
          },
          "metadata": {}
        },
        {
          "output_type": "stream",
          "name": "stdout",
          "text": [
            "--- Predictions for test_start 2015-01-14 ---\n",
            "MSE: 190.85107\n",
            "RMSE: 13.814886\n",
            "-------------------------------------------\n",
            "Train shape: (172240, 10, 1), (172240, 4)\n",
            "Val shape: (14080, 10, 1), (14080, 4)\n",
            "Test shape: (28919, 10, 1), (28919, 4)\n",
            "-------------------------------------------\n",
            "Checkpoint_path =  /content/drive/MyDrive/01. Masters Thesis - Shared/05. Checkpoints/04-15_14-59/2014-10-21/\n",
            "Previous checkpoint_path =  /content/drive/MyDrive/01. Masters Thesis - Shared/05. Checkpoints/04-15_14-59/2014-10-07/\n",
            "-------------------------------------------\n"
          ]
        },
        {
          "output_type": "display_data",
          "data": {
            "text/plain": [
              "<IPython.core.display.HTML object>"
            ],
            "text/html": [
              "Changes to your `wandb` environment variables will be ignored because your `wandb` session has already started. For more information on how to modify your settings with `wandb.init()` arguments, please refer to <a href='https://wandb.me/wandb-init' target=\"_blank\">the W&B docs</a>."
            ]
          },
          "metadata": {}
        },
        {
          "output_type": "display_data",
          "data": {
            "text/plain": [
              "<IPython.core.display.HTML object>"
            ],
            "text/html": [
              "Tracking run with wandb version 0.14.2"
            ]
          },
          "metadata": {}
        },
        {
          "output_type": "display_data",
          "data": {
            "text/plain": [
              "<IPython.core.display.HTML object>"
            ],
            "text/html": [
              "Run data is saved locally in <code>/content/wandb/run-20230415_151517-usxretq0</code>"
            ]
          },
          "metadata": {}
        },
        {
          "output_type": "display_data",
          "data": {
            "text/plain": [
              "<IPython.core.display.HTML object>"
            ],
            "text/html": [
              "Syncing run <strong><a href='https://wandb.ai/avogadro/Deep%20learning%20for%20option%20pricing%20-%20rolling%20windows/runs/usxretq0' target=\"_blank\">copper-dream-236</a></strong> to <a href='https://wandb.ai/avogadro/Deep%20learning%20for%20option%20pricing%20-%20rolling%20windows' target=\"_blank\">Weights & Biases</a> (<a href='https://wandb.me/run' target=\"_blank\">docs</a>)<br/>"
            ]
          },
          "metadata": {}
        },
        {
          "output_type": "display_data",
          "data": {
            "text/plain": [
              "<IPython.core.display.HTML object>"
            ],
            "text/html": [
              " View project at <a href='https://wandb.ai/avogadro/Deep%20learning%20for%20option%20pricing%20-%20rolling%20windows' target=\"_blank\">https://wandb.ai/avogadro/Deep%20learning%20for%20option%20pricing%20-%20rolling%20windows</a>"
            ]
          },
          "metadata": {}
        },
        {
          "output_type": "display_data",
          "data": {
            "text/plain": [
              "<IPython.core.display.HTML object>"
            ],
            "text/html": [
              " View run at <a href='https://wandb.ai/avogadro/Deep%20learning%20for%20option%20pricing%20-%20rolling%20windows/runs/usxretq0' target=\"_blank\">https://wandb.ai/avogadro/Deep%20learning%20for%20option%20pricing%20-%20rolling%20windows/runs/usxretq0</a>"
            ]
          },
          "metadata": {}
        },
        {
          "output_type": "stream",
          "name": "stdout",
          "text": [
            "Train shape: (172963, 10, 1), (172963, 10, 1)\n",
            "Val shape: (11980, 10, 1), (11980, 10, 1)\n",
            "Epoch 1/1000\n",
            "43/43 [==============================] - 35s 269ms/step - loss: 37.8942 - val_loss: 33.4427\n",
            "Epoch 2/1000\n",
            "43/43 [==============================] - 9s 108ms/step - loss: 49.3844 - val_loss: 29.3273\n",
            "Epoch 3/1000\n",
            "43/43 [==============================] - 9s 103ms/step - loss: 43.5855 - val_loss: 46.8074\n",
            "Epoch 4/1000\n",
            "43/43 [==============================] - 9s 106ms/step - loss: 34.8490 - val_loss: 33.9565\n",
            "Epoch 5/1000\n",
            "43/43 [==============================] - 9s 103ms/step - loss: 45.5098 - val_loss: 52.1129\n",
            "Epoch 6/1000\n",
            "43/43 [==============================] - 9s 104ms/step - loss: 39.9103 - val_loss: 55.3305\n",
            "Epoch 7/1000\n",
            "43/43 [==============================] - 9s 104ms/step - loss: 42.2718 - val_loss: 41.6497\n",
            "Epoch 8/1000\n",
            "43/43 [==============================] - 9s 106ms/step - loss: 37.2647 - val_loss: 35.0274\n",
            "Epoch 9/1000\n",
            "43/43 [==============================] - 9s 103ms/step - loss: 39.3884 - val_loss: 40.7015\n",
            "Epoch 10/1000\n",
            "43/43 [==============================] - 9s 105ms/step - loss: 42.6297 - val_loss: 30.6332\n",
            "Epoch 11/1000\n",
            "43/43 [==============================] - 10s 128ms/step - loss: 32.5630 - val_loss: 24.6864\n",
            "Epoch 12/1000\n",
            "43/43 [==============================] - 10s 109ms/step - loss: 47.4663 - val_loss: 23.9909\n",
            "Epoch 13/1000\n",
            "43/43 [==============================] - 9s 105ms/step - loss: 33.8829 - val_loss: 24.6025\n",
            "Epoch 14/1000\n",
            "43/43 [==============================] - 10s 104ms/step - loss: 38.9209 - val_loss: 28.0622\n",
            "Epoch 15/1000\n",
            "43/43 [==============================] - 9s 105ms/step - loss: 35.3170 - val_loss: 31.0263\n",
            "Epoch 16/1000\n",
            "43/43 [==============================] - 10s 108ms/step - loss: 41.8622 - val_loss: 37.8251\n",
            "Epoch 17/1000\n",
            "43/43 [==============================] - 10s 104ms/step - loss: 27.6119 - val_loss: 36.6265\n",
            "Epoch 18/1000\n",
            "43/43 [==============================] - 10s 107ms/step - loss: 31.4072 - val_loss: 29.7022\n",
            "Epoch 19/1000\n",
            "43/43 [==============================] - 10s 112ms/step - loss: 42.1686 - val_loss: 28.0145\n",
            "Epoch 20/1000\n",
            "43/43 [==============================] - 10s 113ms/step - loss: 35.5317 - val_loss: 27.5458\n",
            "Epoch 21/1000\n",
            "43/43 [==============================] - 10s 110ms/step - loss: 35.3687 - val_loss: 28.3597\n",
            "Epoch 22/1000\n",
            "43/43 [==============================] - 10s 105ms/step - loss: 42.4970 - val_loss: 30.2288\n",
            "Epoch 23/1000\n",
            "43/43 [==============================] - 10s 107ms/step - loss: 39.2746 - val_loss: 28.5102\n",
            "Epoch 24/1000\n",
            "43/43 [==============================] - 10s 107ms/step - loss: 33.6094 - val_loss: 30.0405\n",
            "Epoch 25/1000\n",
            "43/43 [==============================] - 9s 105ms/step - loss: 43.5876 - val_loss: 29.7593\n",
            "Epoch 26/1000\n",
            "43/43 [==============================] - 10s 105ms/step - loss: 41.5098 - val_loss: 27.1082\n",
            "Epoch 27/1000\n",
            "43/43 [==============================] - 10s 106ms/step - loss: 33.7732 - val_loss: 28.4548\n",
            "Epoch 28/1000\n",
            "43/43 [==============================] - 10s 108ms/step - loss: 45.0352 - val_loss: 28.9460\n",
            "Epoch 29/1000\n",
            "43/43 [==============================] - 9s 106ms/step - loss: 38.3580 - val_loss: 28.2933\n",
            "Epoch 30/1000\n",
            "43/43 [==============================] - 10s 105ms/step - loss: 34.1357 - val_loss: 28.7886\n",
            "Epoch 31/1000\n",
            "43/43 [==============================] - 9s 105ms/step - loss: 47.0835 - val_loss: 29.3109\n"
          ]
        },
        {
          "output_type": "display_data",
          "data": {
            "text/plain": [
              "<IPython.core.display.HTML object>"
            ],
            "text/html": [
              "Waiting for W&B process to finish... <strong style=\"color:green\">(success).</strong>"
            ]
          },
          "metadata": {}
        },
        {
          "output_type": "display_data",
          "data": {
            "text/plain": [
              "VBox(children=(Label(value='0.006 MB of 0.006 MB uploaded (0.000 MB deduped)\\r'), FloatProgress(value=1.0, max…"
            ],
            "application/vnd.jupyter.widget-view+json": {
              "version_major": 2,
              "version_minor": 0,
              "model_id": "b549885418884fef82dca20cf5f70298"
            }
          },
          "metadata": {}
        },
        {
          "output_type": "display_data",
          "data": {
            "text/plain": [
              "<IPython.core.display.HTML object>"
            ],
            "text/html": [
              "<style>\n",
              "    table.wandb td:nth-child(1) { padding: 0 10px; text-align: left ; width: auto;} td:nth-child(2) {text-align: left ; width: 100%}\n",
              "    .wandb-row { display: flex; flex-direction: row; flex-wrap: wrap; justify-content: flex-start; width: 100% }\n",
              "    .wandb-col { display: flex; flex-direction: column; flex-basis: 100%; flex: 1; padding: 10px; }\n",
              "    </style>\n",
              "<div class=\"wandb-row\"><div class=\"wandb-col\"><h3>Run history:</h3><br/><table class=\"wandb\"><tr><td>epoch</td><td>▁▁▁▂▂▂▂▃▃▃▃▄▄▄▄▅▅▅▅▅▆▆▆▆▇▇▇▇███</td></tr><tr><td>loss</td><td>▄█▆▃▇▅▆▄▅▆▃▇▃▅▃▆▁▂▆▄▃▆▅▃▆▅▃▇▄▃▇</td></tr><tr><td>val_loss</td><td>▃▂▆▃▇█▅▃▅▂▁▁▁▂▃▄▄▂▂▂▂▂▂▂▂▂▂▂▂▂▂</td></tr></table><br/></div><div class=\"wandb-col\"><h3>Run summary:</h3><br/><table class=\"wandb\"><tr><td>best_epoch</td><td>11</td></tr><tr><td>best_val_loss</td><td>23.99088</td></tr><tr><td>epoch</td><td>30</td></tr><tr><td>loss</td><td>47.08347</td></tr><tr><td>val_loss</td><td>29.31094</td></tr></table><br/></div></div>"
            ]
          },
          "metadata": {}
        },
        {
          "output_type": "display_data",
          "data": {
            "text/plain": [
              "<IPython.core.display.HTML object>"
            ],
            "text/html": [
              " View run <strong style=\"color:#cdcd00\">copper-dream-236</strong> at: <a href='https://wandb.ai/avogadro/Deep%20learning%20for%20option%20pricing%20-%20rolling%20windows/runs/usxretq0' target=\"_blank\">https://wandb.ai/avogadro/Deep%20learning%20for%20option%20pricing%20-%20rolling%20windows/runs/usxretq0</a><br/>Synced 5 W&B file(s), 1 media file(s), 0 artifact file(s) and 0 other file(s)"
            ]
          },
          "metadata": {}
        },
        {
          "output_type": "display_data",
          "data": {
            "text/plain": [
              "<IPython.core.display.HTML object>"
            ],
            "text/html": [
              "Find logs at: <code>./wandb/run-20230415_151517-usxretq0/logs</code>"
            ]
          },
          "metadata": {}
        },
        {
          "output_type": "stream",
          "name": "stdout",
          "text": [
            "--- Predictions for test_start 2015-01-28 ---\n",
            "MSE: 450.3543\n",
            "RMSE: 21.221552\n",
            "-------------------------------------------\n",
            "Train shape: (173892, 10, 1), (173892, 4)\n",
            "Val shape: (14731, 10, 1), (14731, 4)\n",
            "Test shape: (27127, 10, 1), (27127, 4)\n",
            "-------------------------------------------\n",
            "Checkpoint_path =  /content/drive/MyDrive/01. Masters Thesis - Shared/05. Checkpoints/04-15_14-59/2014-11-04/\n",
            "Previous checkpoint_path =  /content/drive/MyDrive/01. Masters Thesis - Shared/05. Checkpoints/04-15_14-59/2014-10-21/\n",
            "-------------------------------------------\n"
          ]
        },
        {
          "output_type": "display_data",
          "data": {
            "text/plain": [
              "<IPython.core.display.HTML object>"
            ],
            "text/html": [
              "Changes to your `wandb` environment variables will be ignored because your `wandb` session has already started. For more information on how to modify your settings with `wandb.init()` arguments, please refer to <a href='https://wandb.me/wandb-init' target=\"_blank\">the W&B docs</a>."
            ]
          },
          "metadata": {}
        },
        {
          "output_type": "display_data",
          "data": {
            "text/plain": [
              "<IPython.core.display.HTML object>"
            ],
            "text/html": [
              "Tracking run with wandb version 0.14.2"
            ]
          },
          "metadata": {}
        },
        {
          "output_type": "display_data",
          "data": {
            "text/plain": [
              "<IPython.core.display.HTML object>"
            ],
            "text/html": [
              "Run data is saved locally in <code>/content/wandb/run-20230415_152123-i350jvop</code>"
            ]
          },
          "metadata": {}
        },
        {
          "output_type": "display_data",
          "data": {
            "text/plain": [
              "<IPython.core.display.HTML object>"
            ],
            "text/html": [
              "Syncing run <strong><a href='https://wandb.ai/avogadro/Deep%20learning%20for%20option%20pricing%20-%20rolling%20windows/runs/i350jvop' target=\"_blank\">playful-glade-237</a></strong> to <a href='https://wandb.ai/avogadro/Deep%20learning%20for%20option%20pricing%20-%20rolling%20windows' target=\"_blank\">Weights & Biases</a> (<a href='https://wandb.me/run' target=\"_blank\">docs</a>)<br/>"
            ]
          },
          "metadata": {}
        },
        {
          "output_type": "display_data",
          "data": {
            "text/plain": [
              "<IPython.core.display.HTML object>"
            ],
            "text/html": [
              " View project at <a href='https://wandb.ai/avogadro/Deep%20learning%20for%20option%20pricing%20-%20rolling%20windows' target=\"_blank\">https://wandb.ai/avogadro/Deep%20learning%20for%20option%20pricing%20-%20rolling%20windows</a>"
            ]
          },
          "metadata": {}
        },
        {
          "output_type": "display_data",
          "data": {
            "text/plain": [
              "<IPython.core.display.HTML object>"
            ],
            "text/html": [
              " View run at <a href='https://wandb.ai/avogadro/Deep%20learning%20for%20option%20pricing%20-%20rolling%20windows/runs/i350jvop' target=\"_blank\">https://wandb.ai/avogadro/Deep%20learning%20for%20option%20pricing%20-%20rolling%20windows/runs/i350jvop</a>"
            ]
          },
          "metadata": {}
        },
        {
          "output_type": "stream",
          "name": "stdout",
          "text": [
            "Train shape: (172963, 10, 1), (172963, 10, 1)\n",
            "Val shape: (11980, 10, 1), (11980, 10, 1)\n",
            "Epoch 1/1000\n",
            "43/43 [==============================] - 35s 280ms/step - loss: 38.2921 - val_loss: 30.5891\n",
            "Epoch 2/1000\n",
            "43/43 [==============================] - 10s 115ms/step - loss: 40.2727 - val_loss: 30.0639\n",
            "Epoch 3/1000\n",
            "43/43 [==============================] - 10s 113ms/step - loss: 41.9062 - val_loss: 31.2564\n",
            "Epoch 4/1000\n",
            "43/43 [==============================] - 12s 158ms/step - loss: 38.2407 - val_loss: 28.6888\n",
            "Epoch 5/1000\n",
            "43/43 [==============================] - 10s 109ms/step - loss: 38.2493 - val_loss: 26.0664\n",
            "Epoch 6/1000\n",
            "43/43 [==============================] - 9s 105ms/step - loss: 41.7248 - val_loss: 27.2050\n",
            "Epoch 7/1000\n",
            "43/43 [==============================] - 10s 106ms/step - loss: 48.3145 - val_loss: 27.7039\n",
            "Epoch 8/1000\n",
            "43/43 [==============================] - 9s 108ms/step - loss: 37.3262 - val_loss: 29.7122\n",
            "Epoch 9/1000\n",
            "43/43 [==============================] - 9s 105ms/step - loss: 38.3569 - val_loss: 29.5796\n",
            "Epoch 10/1000\n",
            "43/43 [==============================] - 10s 105ms/step - loss: 32.4168 - val_loss: 29.3146\n",
            "Epoch 11/1000\n",
            "43/43 [==============================] - 9s 106ms/step - loss: 40.9185 - val_loss: 31.2002\n",
            "Epoch 12/1000\n",
            "43/43 [==============================] - 9s 105ms/step - loss: 36.3949 - val_loss: 28.5698\n",
            "Epoch 13/1000\n",
            "43/43 [==============================] - 10s 108ms/step - loss: 36.4915 - val_loss: 29.3075\n",
            "Epoch 14/1000\n",
            "43/43 [==============================] - 10s 104ms/step - loss: 34.2552 - val_loss: 26.4254\n",
            "Epoch 15/1000\n",
            "43/43 [==============================] - 10s 107ms/step - loss: 39.6603 - val_loss: 28.5300\n",
            "Epoch 16/1000\n",
            "43/43 [==============================] - 10s 107ms/step - loss: 32.6900 - val_loss: 29.6745\n",
            "Epoch 17/1000\n",
            "43/43 [==============================] - 10s 106ms/step - loss: 36.7791 - val_loss: 27.2502\n",
            "Epoch 18/1000\n",
            "43/43 [==============================] - 10s 106ms/step - loss: 30.9812 - val_loss: 26.8615\n",
            "Epoch 19/1000\n",
            "43/43 [==============================] - 10s 108ms/step - loss: 35.9944 - val_loss: 27.3318\n",
            "Epoch 20/1000\n",
            "43/43 [==============================] - 10s 106ms/step - loss: 41.7702 - val_loss: 27.7473\n",
            "Epoch 21/1000\n",
            "43/43 [==============================] - 10s 107ms/step - loss: 44.0888 - val_loss: 28.0751\n",
            "Epoch 22/1000\n",
            "43/43 [==============================] - 10s 113ms/step - loss: 31.8058 - val_loss: 28.2163\n",
            "Epoch 23/1000\n",
            "43/43 [==============================] - 10s 113ms/step - loss: 33.4338 - val_loss: 28.2791\n",
            "Epoch 24/1000\n",
            "43/43 [==============================] - 10s 114ms/step - loss: 33.2511 - val_loss: 26.9755\n",
            "Epoch 25/1000\n",
            "43/43 [==============================] - 10s 113ms/step - loss: 29.2430 - val_loss: 27.3141\n"
          ]
        },
        {
          "output_type": "display_data",
          "data": {
            "text/plain": [
              "<IPython.core.display.HTML object>"
            ],
            "text/html": [
              "Waiting for W&B process to finish... <strong style=\"color:green\">(success).</strong>"
            ]
          },
          "metadata": {}
        },
        {
          "output_type": "display_data",
          "data": {
            "text/plain": [
              "VBox(children=(Label(value='0.006 MB of 0.006 MB uploaded (0.000 MB deduped)\\r'), FloatProgress(value=1.0, max…"
            ],
            "application/vnd.jupyter.widget-view+json": {
              "version_major": 2,
              "version_minor": 0,
              "model_id": "0defdf9bedd543968f64a8d09f97b540"
            }
          },
          "metadata": {}
        },
        {
          "output_type": "display_data",
          "data": {
            "text/plain": [
              "<IPython.core.display.HTML object>"
            ],
            "text/html": [
              "<style>\n",
              "    table.wandb td:nth-child(1) { padding: 0 10px; text-align: left ; width: auto;} td:nth-child(2) {text-align: left ; width: 100%}\n",
              "    .wandb-row { display: flex; flex-direction: row; flex-wrap: wrap; justify-content: flex-start; width: 100% }\n",
              "    .wandb-col { display: flex; flex-direction: column; flex-basis: 100%; flex: 1; padding: 10px; }\n",
              "    </style>\n",
              "<div class=\"wandb-row\"><div class=\"wandb-col\"><h3>Run history:</h3><br/><table class=\"wandb\"><tr><td>epoch</td><td>▁▁▂▂▂▂▃▃▃▄▄▄▅▅▅▅▆▆▆▇▇▇▇██</td></tr><tr><td>loss</td><td>▄▅▆▄▄▆█▄▄▂▅▄▄▃▅▂▄▂▃▆▆▂▃▂▁</td></tr><tr><td>val_loss</td><td>▇▆█▅▁▃▃▆▆▅█▄▅▁▄▆▃▂▃▃▄▄▄▂▃</td></tr></table><br/></div><div class=\"wandb-col\"><h3>Run summary:</h3><br/><table class=\"wandb\"><tr><td>best_epoch</td><td>4</td></tr><tr><td>best_val_loss</td><td>26.06639</td></tr><tr><td>epoch</td><td>24</td></tr><tr><td>loss</td><td>29.24304</td></tr><tr><td>val_loss</td><td>27.31411</td></tr></table><br/></div></div>"
            ]
          },
          "metadata": {}
        },
        {
          "output_type": "display_data",
          "data": {
            "text/plain": [
              "<IPython.core.display.HTML object>"
            ],
            "text/html": [
              " View run <strong style=\"color:#cdcd00\">playful-glade-237</strong> at: <a href='https://wandb.ai/avogadro/Deep%20learning%20for%20option%20pricing%20-%20rolling%20windows/runs/i350jvop' target=\"_blank\">https://wandb.ai/avogadro/Deep%20learning%20for%20option%20pricing%20-%20rolling%20windows/runs/i350jvop</a><br/>Synced 5 W&B file(s), 1 media file(s), 0 artifact file(s) and 0 other file(s)"
            ]
          },
          "metadata": {}
        },
        {
          "output_type": "display_data",
          "data": {
            "text/plain": [
              "<IPython.core.display.HTML object>"
            ],
            "text/html": [
              "Find logs at: <code>./wandb/run-20230415_152123-i350jvop/logs</code>"
            ]
          },
          "metadata": {}
        },
        {
          "output_type": "stream",
          "name": "stdout",
          "text": [
            "--- Predictions for test_start 2015-02-11 ---\n",
            "MSE: 497.70966\n",
            "RMSE: 22.309406\n",
            "-------------------------------------------\n",
            "Train shape: (172749, 10, 1), (172749, 4)\n",
            "Val shape: (14949, 10, 1), (14949, 4)\n",
            "Test shape: (32907, 10, 1), (32907, 4)\n",
            "-------------------------------------------\n",
            "Checkpoint_path =  /content/drive/MyDrive/01. Masters Thesis - Shared/05. Checkpoints/04-15_14-59/2014-11-18/\n",
            "Previous checkpoint_path =  /content/drive/MyDrive/01. Masters Thesis - Shared/05. Checkpoints/04-15_14-59/2014-11-04/\n",
            "-------------------------------------------\n"
          ]
        },
        {
          "output_type": "display_data",
          "data": {
            "text/plain": [
              "<IPython.core.display.HTML object>"
            ],
            "text/html": [
              "Changes to your `wandb` environment variables will be ignored because your `wandb` session has already started. For more information on how to modify your settings with `wandb.init()` arguments, please refer to <a href='https://wandb.me/wandb-init' target=\"_blank\">the W&B docs</a>."
            ]
          },
          "metadata": {}
        },
        {
          "output_type": "display_data",
          "data": {
            "text/plain": [
              "<IPython.core.display.HTML object>"
            ],
            "text/html": [
              "Tracking run with wandb version 0.14.2"
            ]
          },
          "metadata": {}
        },
        {
          "output_type": "display_data",
          "data": {
            "text/plain": [
              "<IPython.core.display.HTML object>"
            ],
            "text/html": [
              "Run data is saved locally in <code>/content/wandb/run-20230415_152636-dixvc7cw</code>"
            ]
          },
          "metadata": {}
        },
        {
          "output_type": "display_data",
          "data": {
            "text/plain": [
              "<IPython.core.display.HTML object>"
            ],
            "text/html": [
              "Syncing run <strong><a href='https://wandb.ai/avogadro/Deep%20learning%20for%20option%20pricing%20-%20rolling%20windows/runs/dixvc7cw' target=\"_blank\">bright-frog-238</a></strong> to <a href='https://wandb.ai/avogadro/Deep%20learning%20for%20option%20pricing%20-%20rolling%20windows' target=\"_blank\">Weights & Biases</a> (<a href='https://wandb.me/run' target=\"_blank\">docs</a>)<br/>"
            ]
          },
          "metadata": {}
        },
        {
          "output_type": "display_data",
          "data": {
            "text/plain": [
              "<IPython.core.display.HTML object>"
            ],
            "text/html": [
              " View project at <a href='https://wandb.ai/avogadro/Deep%20learning%20for%20option%20pricing%20-%20rolling%20windows' target=\"_blank\">https://wandb.ai/avogadro/Deep%20learning%20for%20option%20pricing%20-%20rolling%20windows</a>"
            ]
          },
          "metadata": {}
        },
        {
          "output_type": "display_data",
          "data": {
            "text/plain": [
              "<IPython.core.display.HTML object>"
            ],
            "text/html": [
              " View run at <a href='https://wandb.ai/avogadro/Deep%20learning%20for%20option%20pricing%20-%20rolling%20windows/runs/dixvc7cw' target=\"_blank\">https://wandb.ai/avogadro/Deep%20learning%20for%20option%20pricing%20-%20rolling%20windows/runs/dixvc7cw</a>"
            ]
          },
          "metadata": {}
        },
        {
          "output_type": "stream",
          "name": "stdout",
          "text": [
            "Train shape: (172963, 10, 1), (172963, 10, 1)\n",
            "Val shape: (11980, 10, 1), (11980, 10, 1)\n",
            "Epoch 1/1000\n",
            "43/43 [==============================] - 36s 274ms/step - loss: 31.6365 - val_loss: 28.1635\n",
            "Epoch 2/1000\n",
            "43/43 [==============================] - 10s 105ms/step - loss: 32.9428 - val_loss: 34.4918\n",
            "Epoch 3/1000\n",
            "43/43 [==============================] - 10s 105ms/step - loss: 36.8697 - val_loss: 30.9200\n",
            "Epoch 4/1000\n",
            "43/43 [==============================] - 10s 106ms/step - loss: 32.2366 - val_loss: 29.4026\n",
            "Epoch 5/1000\n",
            "43/43 [==============================] - 10s 108ms/step - loss: 39.8920 - val_loss: 30.6359\n",
            "Epoch 6/1000\n",
            "43/43 [==============================] - 10s 105ms/step - loss: 42.2519 - val_loss: 30.0585\n",
            "Epoch 7/1000\n",
            "43/43 [==============================] - 10s 107ms/step - loss: 34.3446 - val_loss: 28.5589\n",
            "Epoch 8/1000\n",
            "43/43 [==============================] - 9s 106ms/step - loss: 38.6673 - val_loss: 28.1695\n",
            "Epoch 9/1000\n",
            "43/43 [==============================] - 10s 130ms/step - loss: 33.7389 - val_loss: 27.8227\n",
            "Epoch 10/1000\n",
            "43/43 [==============================] - 9s 107ms/step - loss: 36.5719 - val_loss: 28.1821\n",
            "Epoch 11/1000\n",
            "43/43 [==============================] - 11s 134ms/step - loss: 37.5837 - val_loss: 27.3329\n",
            "Epoch 12/1000\n",
            "43/43 [==============================] - 10s 108ms/step - loss: 35.4648 - val_loss: 27.5581\n",
            "Epoch 13/1000\n",
            "43/43 [==============================] - 11s 132ms/step - loss: 32.4600 - val_loss: 26.7326\n",
            "Epoch 14/1000\n",
            "43/43 [==============================] - 10s 107ms/step - loss: 46.2595 - val_loss: 28.3447\n",
            "Epoch 15/1000\n",
            "43/43 [==============================] - 10s 105ms/step - loss: 37.5438 - val_loss: 28.7461\n",
            "Epoch 16/1000\n",
            "43/43 [==============================] - 10s 108ms/step - loss: 44.3708 - val_loss: 27.9606\n",
            "Epoch 17/1000\n",
            "43/43 [==============================] - 10s 108ms/step - loss: 33.9329 - val_loss: 27.8543\n",
            "Epoch 18/1000\n",
            "43/43 [==============================] - 10s 111ms/step - loss: 35.4808 - val_loss: 27.0062\n",
            "Epoch 19/1000\n",
            "43/43 [==============================] - 10s 107ms/step - loss: 30.4025 - val_loss: 26.9028\n",
            "Epoch 20/1000\n",
            "43/43 [==============================] - 11s 133ms/step - loss: 38.7570 - val_loss: 26.0772\n",
            "Epoch 21/1000\n",
            "43/43 [==============================] - 10s 111ms/step - loss: 44.1406 - val_loss: 27.2258\n",
            "Epoch 22/1000\n",
            "43/43 [==============================] - 10s 115ms/step - loss: 30.0408 - val_loss: 27.6904\n",
            "Epoch 23/1000\n",
            "43/43 [==============================] - 10s 113ms/step - loss: 32.7905 - val_loss: 27.3754\n",
            "Epoch 24/1000\n",
            "43/43 [==============================] - 11s 135ms/step - loss: 42.2576 - val_loss: 25.9376\n",
            "Epoch 25/1000\n",
            "43/43 [==============================] - 11s 118ms/step - loss: 35.2529 - val_loss: 25.5743\n",
            "Epoch 26/1000\n",
            "43/43 [==============================] - 10s 109ms/step - loss: 38.6157 - val_loss: 25.7405\n",
            "Epoch 27/1000\n",
            "43/43 [==============================] - 10s 109ms/step - loss: 42.2013 - val_loss: 26.1143\n",
            "Epoch 28/1000\n",
            "43/43 [==============================] - 10s 107ms/step - loss: 41.7241 - val_loss: 26.5673\n",
            "Epoch 29/1000\n",
            "43/43 [==============================] - 10s 107ms/step - loss: 37.0826 - val_loss: 25.8105\n",
            "Epoch 30/1000\n",
            "43/43 [==============================] - 10s 108ms/step - loss: 49.5782 - val_loss: 26.9303\n",
            "Epoch 31/1000\n",
            "43/43 [==============================] - 10s 110ms/step - loss: 38.3153 - val_loss: 26.2317\n",
            "Epoch 32/1000\n",
            "43/43 [==============================] - 10s 106ms/step - loss: 34.1317 - val_loss: 26.6343\n",
            "Epoch 33/1000\n",
            "43/43 [==============================] - 10s 106ms/step - loss: 38.8783 - val_loss: 26.1632\n",
            "Epoch 34/1000\n",
            "43/43 [==============================] - 10s 107ms/step - loss: 38.4432 - val_loss: 26.1513\n",
            "Epoch 35/1000\n",
            "43/43 [==============================] - 10s 107ms/step - loss: 44.6394 - val_loss: 26.0573\n",
            "Epoch 36/1000\n",
            "43/43 [==============================] - 10s 107ms/step - loss: 37.6825 - val_loss: 26.0977\n",
            "Epoch 37/1000\n",
            "43/43 [==============================] - 10s 111ms/step - loss: 34.7904 - val_loss: 27.1822\n",
            "Epoch 38/1000\n",
            "43/43 [==============================] - 10s 112ms/step - loss: 30.5322 - val_loss: 27.8185\n",
            "Epoch 39/1000\n",
            "43/43 [==============================] - 10s 114ms/step - loss: 36.1274 - val_loss: 26.5292\n",
            "Epoch 40/1000\n",
            "43/43 [==============================] - 10s 109ms/step - loss: 40.3405 - val_loss: 26.1260\n",
            "Epoch 41/1000\n",
            "43/43 [==============================] - 10s 106ms/step - loss: 33.2387 - val_loss: 26.5664\n",
            "Epoch 42/1000\n",
            "43/43 [==============================] - 10s 109ms/step - loss: 36.2522 - val_loss: 25.7088\n",
            "Epoch 43/1000\n",
            "43/43 [==============================] - 10s 108ms/step - loss: 33.9493 - val_loss: 26.2586\n",
            "Epoch 44/1000\n",
            "43/43 [==============================] - 10s 114ms/step - loss: 36.6381 - val_loss: 26.2113\n",
            "Epoch 45/1000\n",
            "43/43 [==============================] - 10s 110ms/step - loss: 33.7568 - val_loss: 26.9324\n"
          ]
        },
        {
          "output_type": "display_data",
          "data": {
            "text/plain": [
              "<IPython.core.display.HTML object>"
            ],
            "text/html": [
              "Waiting for W&B process to finish... <strong style=\"color:green\">(success).</strong>"
            ]
          },
          "metadata": {}
        },
        {
          "output_type": "display_data",
          "data": {
            "text/plain": [
              "VBox(children=(Label(value='0.019 MB of 0.019 MB uploaded (0.000 MB deduped)\\r'), FloatProgress(value=1.0, max…"
            ],
            "application/vnd.jupyter.widget-view+json": {
              "version_major": 2,
              "version_minor": 0,
              "model_id": "360154f226034f19b9064411a3974829"
            }
          },
          "metadata": {}
        },
        {
          "output_type": "display_data",
          "data": {
            "text/plain": [
              "<IPython.core.display.HTML object>"
            ],
            "text/html": [
              "<style>\n",
              "    table.wandb td:nth-child(1) { padding: 0 10px; text-align: left ; width: auto;} td:nth-child(2) {text-align: left ; width: 100%}\n",
              "    .wandb-row { display: flex; flex-direction: row; flex-wrap: wrap; justify-content: flex-start; width: 100% }\n",
              "    .wandb-col { display: flex; flex-direction: column; flex-basis: 100%; flex: 1; padding: 10px; }\n",
              "    </style>\n",
              "<div class=\"wandb-row\"><div class=\"wandb-col\"><h3>Run history:</h3><br/><table class=\"wandb\"><tr><td>epoch</td><td>▁▁▁▁▂▂▂▂▂▃▃▃▃▃▃▄▄▄▄▄▅▅▅▅▅▅▆▆▆▆▆▆▇▇▇▇▇███</td></tr><tr><td>loss</td><td>▂▂▃▂▅▅▃▄▃▄▃▂▇▄▆▂▁▄▆▁▂▅▃▄▅▄█▄▂▄▄▆▃▁▃▅▂▃▂▂</td></tr><tr><td>val_loss</td><td>▃█▅▄▅▅▃▃▃▂▃▂▃▃▃▃▂▁▂▃▂▁▁▁▂▁▂▂▂▁▁▁▂▃▂▁▂▁▂▂</td></tr></table><br/></div><div class=\"wandb-col\"><h3>Run summary:</h3><br/><table class=\"wandb\"><tr><td>best_epoch</td><td>24</td></tr><tr><td>best_val_loss</td><td>25.57425</td></tr><tr><td>epoch</td><td>44</td></tr><tr><td>loss</td><td>33.75679</td></tr><tr><td>val_loss</td><td>26.93236</td></tr></table><br/></div></div>"
            ]
          },
          "metadata": {}
        },
        {
          "output_type": "display_data",
          "data": {
            "text/plain": [
              "<IPython.core.display.HTML object>"
            ],
            "text/html": [
              " View run <strong style=\"color:#cdcd00\">bright-frog-238</strong> at: <a href='https://wandb.ai/avogadro/Deep%20learning%20for%20option%20pricing%20-%20rolling%20windows/runs/dixvc7cw' target=\"_blank\">https://wandb.ai/avogadro/Deep%20learning%20for%20option%20pricing%20-%20rolling%20windows/runs/dixvc7cw</a><br/>Synced 5 W&B file(s), 1 media file(s), 0 artifact file(s) and 0 other file(s)"
            ]
          },
          "metadata": {}
        },
        {
          "output_type": "display_data",
          "data": {
            "text/plain": [
              "<IPython.core.display.HTML object>"
            ],
            "text/html": [
              "Find logs at: <code>./wandb/run-20230415_152636-dixvc7cw/logs</code>"
            ]
          },
          "metadata": {}
        },
        {
          "output_type": "stream",
          "name": "stdout",
          "text": [
            "--- Predictions for test_start 2015-02-25 ---\n",
            "MSE: 370.88254\n",
            "RMSE: 19.25831\n",
            "-------------------------------------------\n",
            "Train shape: (171868, 10, 1), (171868, 4)\n",
            "Val shape: (16649, 10, 1), (16649, 4)\n",
            "Test shape: (34131, 10, 1), (34131, 4)\n",
            "-------------------------------------------\n",
            "Checkpoint_path =  /content/drive/MyDrive/01. Masters Thesis - Shared/05. Checkpoints/04-15_14-59/2014-12-02/\n",
            "Previous checkpoint_path =  /content/drive/MyDrive/01. Masters Thesis - Shared/05. Checkpoints/04-15_14-59/2014-11-18/\n",
            "-------------------------------------------\n"
          ]
        },
        {
          "output_type": "display_data",
          "data": {
            "text/plain": [
              "<IPython.core.display.HTML object>"
            ],
            "text/html": [
              "Changes to your `wandb` environment variables will be ignored because your `wandb` session has already started. For more information on how to modify your settings with `wandb.init()` arguments, please refer to <a href='https://wandb.me/wandb-init' target=\"_blank\">the W&B docs</a>."
            ]
          },
          "metadata": {}
        },
        {
          "output_type": "display_data",
          "data": {
            "text/plain": [
              "<IPython.core.display.HTML object>"
            ],
            "text/html": [
              "Tracking run with wandb version 0.14.2"
            ]
          },
          "metadata": {}
        },
        {
          "output_type": "display_data",
          "data": {
            "text/plain": [
              "<IPython.core.display.HTML object>"
            ],
            "text/html": [
              "Run data is saved locally in <code>/content/wandb/run-20230415_153507-rnpbgn2u</code>"
            ]
          },
          "metadata": {}
        },
        {
          "output_type": "display_data",
          "data": {
            "text/plain": [
              "<IPython.core.display.HTML object>"
            ],
            "text/html": [
              "Syncing run <strong><a href='https://wandb.ai/avogadro/Deep%20learning%20for%20option%20pricing%20-%20rolling%20windows/runs/rnpbgn2u' target=\"_blank\">comfy-valley-239</a></strong> to <a href='https://wandb.ai/avogadro/Deep%20learning%20for%20option%20pricing%20-%20rolling%20windows' target=\"_blank\">Weights & Biases</a> (<a href='https://wandb.me/run' target=\"_blank\">docs</a>)<br/>"
            ]
          },
          "metadata": {}
        },
        {
          "output_type": "display_data",
          "data": {
            "text/plain": [
              "<IPython.core.display.HTML object>"
            ],
            "text/html": [
              " View project at <a href='https://wandb.ai/avogadro/Deep%20learning%20for%20option%20pricing%20-%20rolling%20windows' target=\"_blank\">https://wandb.ai/avogadro/Deep%20learning%20for%20option%20pricing%20-%20rolling%20windows</a>"
            ]
          },
          "metadata": {}
        },
        {
          "output_type": "display_data",
          "data": {
            "text/plain": [
              "<IPython.core.display.HTML object>"
            ],
            "text/html": [
              " View run at <a href='https://wandb.ai/avogadro/Deep%20learning%20for%20option%20pricing%20-%20rolling%20windows/runs/rnpbgn2u' target=\"_blank\">https://wandb.ai/avogadro/Deep%20learning%20for%20option%20pricing%20-%20rolling%20windows/runs/rnpbgn2u</a>"
            ]
          },
          "metadata": {}
        },
        {
          "output_type": "stream",
          "name": "stdout",
          "text": [
            "Train shape: (172963, 10, 1), (172963, 10, 1)\n",
            "Val shape: (11980, 10, 1), (11980, 10, 1)\n",
            "Epoch 1/1000\n"
          ]
        }
      ],
      "source": [
        "num_windows = 26 #84\n",
        "\n",
        "config = {\n",
        "    'LSTM_units': 4,\n",
        "    'Interface_units': 16,\n",
        "    'MLP_units': 600,\n",
        "    'LSTM_timesteps': 10,\n",
        "    'LSTM_layers': 6,\n",
        "    'MLP_layers': 7,\n",
        "    'Bn_momentum': 0.99,\n",
        "    'Lr': 0.005,\n",
        "    'Lr_decay': 0.89,\n",
        "    'Minibatch_size': 4096,\n",
        "    'Min_delta': 0.01 if moneyness else 1,\n",
        "    'Patience': 20,\n",
        "    'Num_features': 3 if moneyness else 4, \n",
        "    'Architecture': 'LSTM-MLP v.5.0',\n",
        "}\n",
        "\n",
        "# Ask before training, so that you don't have to verify later\n",
        "from google.colab import drive\n",
        "if google_colab == True:\n",
        "  drive.mount('/content/drive')\n",
        "\n",
        "df_test_combined = pd.DataFrame()\n",
        "\n",
        "checkpoint_time = datetime.now().strftime(\"%m-%d_%H-%M\")\n",
        "\n",
        "previous_checkpoint_path = None\n",
        "\n",
        "for window in range(num_windows):\n",
        "    if moneyness:\n",
        "        train_x, train_y, val_x, val_y, test_x, test_y, train_start, val_start, test_start, df_test, train_strike, val_strike, test_strike, = create_rw_dataset(window)\n",
        "    else:\n",
        "        train_x, train_y, val_x, val_y, test_x, test_y, train_start, val_start, test_start, df_test = create_rw_dataset(window)\n",
        "\n",
        "    checkpoint_path = f'/content/drive/MyDrive/01. Masters Thesis - Shared/05. Checkpoints/{checkpoint_time}/{train_start}/'\n",
        "\n",
        "    print('-------------------------------------------')\n",
        "    print(\"Checkpoint_path = \", checkpoint_path)\n",
        "    print(\"Previous checkpoint_path = \", previous_checkpoint_path)\n",
        "    print(\"Test start: \", test_start)\n",
        "    print('-------------------------------------------')\n",
        "\n",
        "    config['Dataset'] = f'{train_start} - {val_start} - {test_start}'\n",
        "\n",
        "    trainer(config = config, project = 'Deep learning for option pricing - rolling windows', previous_checkpoint_path = previous_checkpoint_path, checkpoint_path = checkpoint_path)\n",
        "    c_model = load_model(checkpoint_path + \".h5\")\n",
        "    predictions = np.array(c_model(test_x))\n",
        "    print(f'--- Predictions for test_start {test_start} ---')\n",
        "    calculate_error(predictions, test_y)\n",
        "    print('-------------------------------------------')\n",
        "    df_test[\"Prediction\"] = predictions\n",
        "    df_test_combined = pd.concat([df_test_combined, df_test[[\"Quote_date\", \"Price\", \"Prediction\"] + bs_vars]])\n",
        "    \n",
        "    previous_checkpoint_path = checkpoint_path\n",
        "\n",
        "\n",
        "print(f\"--- All model predictions ---\")\n",
        "calculate_error(df_test_combined[\"Prediction\"], df_test_combined[\"Price\"])\n",
        "print(\"-------------------------------------------\")\n",
        "\n",
        "if google_colab == False:\n",
        "    predictions_path = './predictions/'\n",
        "    if checkpoint_path and not os.path.exists(predictions_path):\n",
        "        os.makedirs(predictions_path)\n",
        "    df_test_combined.to_csv(f'{predictions_path}{datetime.now().strftime(\"%m-%d_%H-%M\")}.csv')\n",
        "\n",
        "if google_colab == True:\n",
        "  path = '/content/drive/My Drive/Predictions/predictions_2015_v5_4_2weektest_modelload.csv'\n",
        "  with open(path, 'w', encoding = 'utf-8-sig') as f:\n",
        "    df_test_combined.to_csv(f)"
      ]
    },
    {
      "cell_type": "markdown",
      "metadata": {
        "id": "ucgo2McGTnkt"
      },
      "source": [
        "### Load single model"
      ]
    },
    {
      "cell_type": "code",
      "execution_count": null,
      "metadata": {
        "id": "YggplbxMTnkt"
      },
      "outputs": [],
      "source": [
        "config = {\n",
        "    'LSTM_units': 4,\n",
        "    'Interface_units': 4,\n",
        "    'MLP_units': 600,\n",
        "    'LSTM_timesteps': 10,\n",
        "    'LSTM_layers': 3,\n",
        "    'MLP_layers': 7,\n",
        "    'Bn_momentum': 0.99,\n",
        "    'Lr': 0.0001,\n",
        "    'Lr_decay': 0.92,\n",
        "    'Minibatch_size': 4096,\n",
        "    'Min_delta': 0.01 if moneyness else 1,\n",
        "    'Patience': 20,\n",
        "    'Num_features': 3 if moneyness else 4, \n",
        "    'Architecture': 'LSTM-MLP v.1.0',\n",
        "}\n",
        "\n",
        "window = 1\n",
        "if moneyness:\n",
        "        train_x, train_y, val_x, val_y, test_x, test_y, train_start, val_start, test_start, df_test, train_strike, val_strike, test_strike, = create_rw_dataset(window)\n",
        "else:\n",
        "    train_x, train_y, val_x, val_y, test_x, test_y, train_start, val_start, test_start, df_test = create_rw_dataset(window)\n",
        "\n",
        "checkpoint_path = f'./checkpoint/03-20_12-35/{train_start}/'\n",
        "\n",
        "co = config_object(config)\n",
        "c_model = create_model(co)\n",
        "c_model.load_weights(checkpoint_path)\n",
        "predictions = np.array(c_model(test_x))\n",
        "print(f'--- Predictions for {test_start} ---')\n",
        "calculate_error(predictions, test_y)\n",
        "print('-------------------------------------------')"
      ]
    },
    {
      "cell_type": "code",
      "execution_count": null,
      "metadata": {
        "id": "MQQfeNDKTnkt"
      },
      "outputs": [],
      "source": []
    }
  ],
  "metadata": {
    "accelerator": "GPU",
    "colab": {
      "machine_shape": "hm",
      "provenance": []
    },
    "gpuClass": "standard",
    "kernelspec": {
      "display_name": "Python 3",
      "language": "python",
      "name": "python3"
    },
    "language_info": {
      "codemirror_mode": {
        "name": "ipython",
        "version": 3
      },
      "file_extension": ".py",
      "mimetype": "text/x-python",
      "name": "python",
      "nbconvert_exporter": "python",
      "pygments_lexer": "ipython3",
      "version": "3.10.9"
    },
    "vscode": {
      "interpreter": {
        "hash": "aee8b7b246df8f9039afb4144a1f6fd8d2ca17a180786b69acc140d282b71a49"
      }
    },
    "widgets": {
      "application/vnd.jupyter.widget-state+json": {
        "b7bd3da7630841f48ee12c472e155d36": {
          "model_module": "@jupyter-widgets/controls",
          "model_name": "VBoxModel",
          "model_module_version": "1.5.0",
          "state": {
            "_dom_classes": [],
            "_model_module": "@jupyter-widgets/controls",
            "_model_module_version": "1.5.0",
            "_model_name": "VBoxModel",
            "_view_count": null,
            "_view_module": "@jupyter-widgets/controls",
            "_view_module_version": "1.5.0",
            "_view_name": "VBoxView",
            "box_style": "",
            "children": [
              "IPY_MODEL_397311d9c8b64f32ba3ae0e785608aad",
              "IPY_MODEL_0988225246644845aa770c5b70796fe2"
            ],
            "layout": "IPY_MODEL_dc2fa3b454ea45a1a4ad5907e27b37d2"
          }
        },
        "397311d9c8b64f32ba3ae0e785608aad": {
          "model_module": "@jupyter-widgets/controls",
          "model_name": "LabelModel",
          "model_module_version": "1.5.0",
          "state": {
            "_dom_classes": [],
            "_model_module": "@jupyter-widgets/controls",
            "_model_module_version": "1.5.0",
            "_model_name": "LabelModel",
            "_view_count": null,
            "_view_module": "@jupyter-widgets/controls",
            "_view_module_version": "1.5.0",
            "_view_name": "LabelView",
            "description": "",
            "description_tooltip": null,
            "layout": "IPY_MODEL_f4640af24b6d49b6af11425d2a2605d2",
            "placeholder": "​",
            "style": "IPY_MODEL_780c42123e204494a8d98f520706ea6d",
            "value": "0.023 MB of 0.023 MB uploaded (0.000 MB deduped)\r"
          }
        },
        "0988225246644845aa770c5b70796fe2": {
          "model_module": "@jupyter-widgets/controls",
          "model_name": "FloatProgressModel",
          "model_module_version": "1.5.0",
          "state": {
            "_dom_classes": [],
            "_model_module": "@jupyter-widgets/controls",
            "_model_module_version": "1.5.0",
            "_model_name": "FloatProgressModel",
            "_view_count": null,
            "_view_module": "@jupyter-widgets/controls",
            "_view_module_version": "1.5.0",
            "_view_name": "ProgressView",
            "bar_style": "",
            "description": "",
            "description_tooltip": null,
            "layout": "IPY_MODEL_cd6a5f4de86d4ee79a6a404d614d3e74",
            "max": 1,
            "min": 0,
            "orientation": "horizontal",
            "style": "IPY_MODEL_7ecc79cd1d514d69b84b5c69131a9f24",
            "value": 1
          }
        },
        "dc2fa3b454ea45a1a4ad5907e27b37d2": {
          "model_module": "@jupyter-widgets/base",
          "model_name": "LayoutModel",
          "model_module_version": "1.2.0",
          "state": {
            "_model_module": "@jupyter-widgets/base",
            "_model_module_version": "1.2.0",
            "_model_name": "LayoutModel",
            "_view_count": null,
            "_view_module": "@jupyter-widgets/base",
            "_view_module_version": "1.2.0",
            "_view_name": "LayoutView",
            "align_content": null,
            "align_items": null,
            "align_self": null,
            "border": null,
            "bottom": null,
            "display": null,
            "flex": null,
            "flex_flow": null,
            "grid_area": null,
            "grid_auto_columns": null,
            "grid_auto_flow": null,
            "grid_auto_rows": null,
            "grid_column": null,
            "grid_gap": null,
            "grid_row": null,
            "grid_template_areas": null,
            "grid_template_columns": null,
            "grid_template_rows": null,
            "height": null,
            "justify_content": null,
            "justify_items": null,
            "left": null,
            "margin": null,
            "max_height": null,
            "max_width": null,
            "min_height": null,
            "min_width": null,
            "object_fit": null,
            "object_position": null,
            "order": null,
            "overflow": null,
            "overflow_x": null,
            "overflow_y": null,
            "padding": null,
            "right": null,
            "top": null,
            "visibility": null,
            "width": null
          }
        },
        "f4640af24b6d49b6af11425d2a2605d2": {
          "model_module": "@jupyter-widgets/base",
          "model_name": "LayoutModel",
          "model_module_version": "1.2.0",
          "state": {
            "_model_module": "@jupyter-widgets/base",
            "_model_module_version": "1.2.0",
            "_model_name": "LayoutModel",
            "_view_count": null,
            "_view_module": "@jupyter-widgets/base",
            "_view_module_version": "1.2.0",
            "_view_name": "LayoutView",
            "align_content": null,
            "align_items": null,
            "align_self": null,
            "border": null,
            "bottom": null,
            "display": null,
            "flex": null,
            "flex_flow": null,
            "grid_area": null,
            "grid_auto_columns": null,
            "grid_auto_flow": null,
            "grid_auto_rows": null,
            "grid_column": null,
            "grid_gap": null,
            "grid_row": null,
            "grid_template_areas": null,
            "grid_template_columns": null,
            "grid_template_rows": null,
            "height": null,
            "justify_content": null,
            "justify_items": null,
            "left": null,
            "margin": null,
            "max_height": null,
            "max_width": null,
            "min_height": null,
            "min_width": null,
            "object_fit": null,
            "object_position": null,
            "order": null,
            "overflow": null,
            "overflow_x": null,
            "overflow_y": null,
            "padding": null,
            "right": null,
            "top": null,
            "visibility": null,
            "width": null
          }
        },
        "780c42123e204494a8d98f520706ea6d": {
          "model_module": "@jupyter-widgets/controls",
          "model_name": "DescriptionStyleModel",
          "model_module_version": "1.5.0",
          "state": {
            "_model_module": "@jupyter-widgets/controls",
            "_model_module_version": "1.5.0",
            "_model_name": "DescriptionStyleModel",
            "_view_count": null,
            "_view_module": "@jupyter-widgets/base",
            "_view_module_version": "1.2.0",
            "_view_name": "StyleView",
            "description_width": ""
          }
        },
        "cd6a5f4de86d4ee79a6a404d614d3e74": {
          "model_module": "@jupyter-widgets/base",
          "model_name": "LayoutModel",
          "model_module_version": "1.2.0",
          "state": {
            "_model_module": "@jupyter-widgets/base",
            "_model_module_version": "1.2.0",
            "_model_name": "LayoutModel",
            "_view_count": null,
            "_view_module": "@jupyter-widgets/base",
            "_view_module_version": "1.2.0",
            "_view_name": "LayoutView",
            "align_content": null,
            "align_items": null,
            "align_self": null,
            "border": null,
            "bottom": null,
            "display": null,
            "flex": null,
            "flex_flow": null,
            "grid_area": null,
            "grid_auto_columns": null,
            "grid_auto_flow": null,
            "grid_auto_rows": null,
            "grid_column": null,
            "grid_gap": null,
            "grid_row": null,
            "grid_template_areas": null,
            "grid_template_columns": null,
            "grid_template_rows": null,
            "height": null,
            "justify_content": null,
            "justify_items": null,
            "left": null,
            "margin": null,
            "max_height": null,
            "max_width": null,
            "min_height": null,
            "min_width": null,
            "object_fit": null,
            "object_position": null,
            "order": null,
            "overflow": null,
            "overflow_x": null,
            "overflow_y": null,
            "padding": null,
            "right": null,
            "top": null,
            "visibility": null,
            "width": null
          }
        },
        "7ecc79cd1d514d69b84b5c69131a9f24": {
          "model_module": "@jupyter-widgets/controls",
          "model_name": "ProgressStyleModel",
          "model_module_version": "1.5.0",
          "state": {
            "_model_module": "@jupyter-widgets/controls",
            "_model_module_version": "1.5.0",
            "_model_name": "ProgressStyleModel",
            "_view_count": null,
            "_view_module": "@jupyter-widgets/base",
            "_view_module_version": "1.2.0",
            "_view_name": "StyleView",
            "bar_color": null,
            "description_width": ""
          }
        },
        "e2bd7202abf344ec959dd6942bb05de4": {
          "model_module": "@jupyter-widgets/controls",
          "model_name": "VBoxModel",
          "model_module_version": "1.5.0",
          "state": {
            "_dom_classes": [],
            "_model_module": "@jupyter-widgets/controls",
            "_model_module_version": "1.5.0",
            "_model_name": "VBoxModel",
            "_view_count": null,
            "_view_module": "@jupyter-widgets/controls",
            "_view_module_version": "1.5.0",
            "_view_name": "VBoxView",
            "box_style": "",
            "children": [
              "IPY_MODEL_a759fc4075b84c30843ba770a3ef9d53",
              "IPY_MODEL_68471fbb4cc64dd69ccb92ad4fe76452"
            ],
            "layout": "IPY_MODEL_5cd75aa4d12b4f6aa1ebac25a7cd10fa"
          }
        },
        "a759fc4075b84c30843ba770a3ef9d53": {
          "model_module": "@jupyter-widgets/controls",
          "model_name": "LabelModel",
          "model_module_version": "1.5.0",
          "state": {
            "_dom_classes": [],
            "_model_module": "@jupyter-widgets/controls",
            "_model_module_version": "1.5.0",
            "_model_name": "LabelModel",
            "_view_count": null,
            "_view_module": "@jupyter-widgets/controls",
            "_view_module_version": "1.5.0",
            "_view_name": "LabelView",
            "description": "",
            "description_tooltip": null,
            "layout": "IPY_MODEL_80082612113e4a05b49e9e1fea78f77e",
            "placeholder": "​",
            "style": "IPY_MODEL_c1e7f30404bf4cbd9fda7a8b55d018d4",
            "value": "0.017 MB of 0.017 MB uploaded (0.000 MB deduped)\r"
          }
        },
        "68471fbb4cc64dd69ccb92ad4fe76452": {
          "model_module": "@jupyter-widgets/controls",
          "model_name": "FloatProgressModel",
          "model_module_version": "1.5.0",
          "state": {
            "_dom_classes": [],
            "_model_module": "@jupyter-widgets/controls",
            "_model_module_version": "1.5.0",
            "_model_name": "FloatProgressModel",
            "_view_count": null,
            "_view_module": "@jupyter-widgets/controls",
            "_view_module_version": "1.5.0",
            "_view_name": "ProgressView",
            "bar_style": "",
            "description": "",
            "description_tooltip": null,
            "layout": "IPY_MODEL_d762c2a05dc840fc9e80b4c948f33695",
            "max": 1,
            "min": 0,
            "orientation": "horizontal",
            "style": "IPY_MODEL_eac16b8464d6497f9d67d54d6f11fab2",
            "value": 1
          }
        },
        "5cd75aa4d12b4f6aa1ebac25a7cd10fa": {
          "model_module": "@jupyter-widgets/base",
          "model_name": "LayoutModel",
          "model_module_version": "1.2.0",
          "state": {
            "_model_module": "@jupyter-widgets/base",
            "_model_module_version": "1.2.0",
            "_model_name": "LayoutModel",
            "_view_count": null,
            "_view_module": "@jupyter-widgets/base",
            "_view_module_version": "1.2.0",
            "_view_name": "LayoutView",
            "align_content": null,
            "align_items": null,
            "align_self": null,
            "border": null,
            "bottom": null,
            "display": null,
            "flex": null,
            "flex_flow": null,
            "grid_area": null,
            "grid_auto_columns": null,
            "grid_auto_flow": null,
            "grid_auto_rows": null,
            "grid_column": null,
            "grid_gap": null,
            "grid_row": null,
            "grid_template_areas": null,
            "grid_template_columns": null,
            "grid_template_rows": null,
            "height": null,
            "justify_content": null,
            "justify_items": null,
            "left": null,
            "margin": null,
            "max_height": null,
            "max_width": null,
            "min_height": null,
            "min_width": null,
            "object_fit": null,
            "object_position": null,
            "order": null,
            "overflow": null,
            "overflow_x": null,
            "overflow_y": null,
            "padding": null,
            "right": null,
            "top": null,
            "visibility": null,
            "width": null
          }
        },
        "80082612113e4a05b49e9e1fea78f77e": {
          "model_module": "@jupyter-widgets/base",
          "model_name": "LayoutModel",
          "model_module_version": "1.2.0",
          "state": {
            "_model_module": "@jupyter-widgets/base",
            "_model_module_version": "1.2.0",
            "_model_name": "LayoutModel",
            "_view_count": null,
            "_view_module": "@jupyter-widgets/base",
            "_view_module_version": "1.2.0",
            "_view_name": "LayoutView",
            "align_content": null,
            "align_items": null,
            "align_self": null,
            "border": null,
            "bottom": null,
            "display": null,
            "flex": null,
            "flex_flow": null,
            "grid_area": null,
            "grid_auto_columns": null,
            "grid_auto_flow": null,
            "grid_auto_rows": null,
            "grid_column": null,
            "grid_gap": null,
            "grid_row": null,
            "grid_template_areas": null,
            "grid_template_columns": null,
            "grid_template_rows": null,
            "height": null,
            "justify_content": null,
            "justify_items": null,
            "left": null,
            "margin": null,
            "max_height": null,
            "max_width": null,
            "min_height": null,
            "min_width": null,
            "object_fit": null,
            "object_position": null,
            "order": null,
            "overflow": null,
            "overflow_x": null,
            "overflow_y": null,
            "padding": null,
            "right": null,
            "top": null,
            "visibility": null,
            "width": null
          }
        },
        "c1e7f30404bf4cbd9fda7a8b55d018d4": {
          "model_module": "@jupyter-widgets/controls",
          "model_name": "DescriptionStyleModel",
          "model_module_version": "1.5.0",
          "state": {
            "_model_module": "@jupyter-widgets/controls",
            "_model_module_version": "1.5.0",
            "_model_name": "DescriptionStyleModel",
            "_view_count": null,
            "_view_module": "@jupyter-widgets/base",
            "_view_module_version": "1.2.0",
            "_view_name": "StyleView",
            "description_width": ""
          }
        },
        "d762c2a05dc840fc9e80b4c948f33695": {
          "model_module": "@jupyter-widgets/base",
          "model_name": "LayoutModel",
          "model_module_version": "1.2.0",
          "state": {
            "_model_module": "@jupyter-widgets/base",
            "_model_module_version": "1.2.0",
            "_model_name": "LayoutModel",
            "_view_count": null,
            "_view_module": "@jupyter-widgets/base",
            "_view_module_version": "1.2.0",
            "_view_name": "LayoutView",
            "align_content": null,
            "align_items": null,
            "align_self": null,
            "border": null,
            "bottom": null,
            "display": null,
            "flex": null,
            "flex_flow": null,
            "grid_area": null,
            "grid_auto_columns": null,
            "grid_auto_flow": null,
            "grid_auto_rows": null,
            "grid_column": null,
            "grid_gap": null,
            "grid_row": null,
            "grid_template_areas": null,
            "grid_template_columns": null,
            "grid_template_rows": null,
            "height": null,
            "justify_content": null,
            "justify_items": null,
            "left": null,
            "margin": null,
            "max_height": null,
            "max_width": null,
            "min_height": null,
            "min_width": null,
            "object_fit": null,
            "object_position": null,
            "order": null,
            "overflow": null,
            "overflow_x": null,
            "overflow_y": null,
            "padding": null,
            "right": null,
            "top": null,
            "visibility": null,
            "width": null
          }
        },
        "eac16b8464d6497f9d67d54d6f11fab2": {
          "model_module": "@jupyter-widgets/controls",
          "model_name": "ProgressStyleModel",
          "model_module_version": "1.5.0",
          "state": {
            "_model_module": "@jupyter-widgets/controls",
            "_model_module_version": "1.5.0",
            "_model_name": "ProgressStyleModel",
            "_view_count": null,
            "_view_module": "@jupyter-widgets/base",
            "_view_module_version": "1.2.0",
            "_view_name": "StyleView",
            "bar_color": null,
            "description_width": ""
          }
        },
        "b549885418884fef82dca20cf5f70298": {
          "model_module": "@jupyter-widgets/controls",
          "model_name": "VBoxModel",
          "model_module_version": "1.5.0",
          "state": {
            "_dom_classes": [],
            "_model_module": "@jupyter-widgets/controls",
            "_model_module_version": "1.5.0",
            "_model_name": "VBoxModel",
            "_view_count": null,
            "_view_module": "@jupyter-widgets/controls",
            "_view_module_version": "1.5.0",
            "_view_name": "VBoxView",
            "box_style": "",
            "children": [
              "IPY_MODEL_60c36c4bdacc4b67a3a63c5b870d47d1",
              "IPY_MODEL_e5f1859fbcf248f38d0e36ff8f82fe13"
            ],
            "layout": "IPY_MODEL_752d964580fb4f36bfb636d1c6e04f47"
          }
        },
        "60c36c4bdacc4b67a3a63c5b870d47d1": {
          "model_module": "@jupyter-widgets/controls",
          "model_name": "LabelModel",
          "model_module_version": "1.5.0",
          "state": {
            "_dom_classes": [],
            "_model_module": "@jupyter-widgets/controls",
            "_model_module_version": "1.5.0",
            "_model_name": "LabelModel",
            "_view_count": null,
            "_view_module": "@jupyter-widgets/controls",
            "_view_module_version": "1.5.0",
            "_view_name": "LabelView",
            "description": "",
            "description_tooltip": null,
            "layout": "IPY_MODEL_b01fb1af831b4ed492202b624a80ac72",
            "placeholder": "​",
            "style": "IPY_MODEL_5a90abffb803464c9d013e9a2e1e101a",
            "value": "0.006 MB of 0.018 MB uploaded (0.000 MB deduped)\r"
          }
        },
        "e5f1859fbcf248f38d0e36ff8f82fe13": {
          "model_module": "@jupyter-widgets/controls",
          "model_name": "FloatProgressModel",
          "model_module_version": "1.5.0",
          "state": {
            "_dom_classes": [],
            "_model_module": "@jupyter-widgets/controls",
            "_model_module_version": "1.5.0",
            "_model_name": "FloatProgressModel",
            "_view_count": null,
            "_view_module": "@jupyter-widgets/controls",
            "_view_module_version": "1.5.0",
            "_view_name": "ProgressView",
            "bar_style": "",
            "description": "",
            "description_tooltip": null,
            "layout": "IPY_MODEL_79fd6685f85e4118919abb07b2a18f48",
            "max": 1,
            "min": 0,
            "orientation": "horizontal",
            "style": "IPY_MODEL_d63cc5d709b04571812995523c90e730",
            "value": 0.3199500162990329
          }
        },
        "752d964580fb4f36bfb636d1c6e04f47": {
          "model_module": "@jupyter-widgets/base",
          "model_name": "LayoutModel",
          "model_module_version": "1.2.0",
          "state": {
            "_model_module": "@jupyter-widgets/base",
            "_model_module_version": "1.2.0",
            "_model_name": "LayoutModel",
            "_view_count": null,
            "_view_module": "@jupyter-widgets/base",
            "_view_module_version": "1.2.0",
            "_view_name": "LayoutView",
            "align_content": null,
            "align_items": null,
            "align_self": null,
            "border": null,
            "bottom": null,
            "display": null,
            "flex": null,
            "flex_flow": null,
            "grid_area": null,
            "grid_auto_columns": null,
            "grid_auto_flow": null,
            "grid_auto_rows": null,
            "grid_column": null,
            "grid_gap": null,
            "grid_row": null,
            "grid_template_areas": null,
            "grid_template_columns": null,
            "grid_template_rows": null,
            "height": null,
            "justify_content": null,
            "justify_items": null,
            "left": null,
            "margin": null,
            "max_height": null,
            "max_width": null,
            "min_height": null,
            "min_width": null,
            "object_fit": null,
            "object_position": null,
            "order": null,
            "overflow": null,
            "overflow_x": null,
            "overflow_y": null,
            "padding": null,
            "right": null,
            "top": null,
            "visibility": null,
            "width": null
          }
        },
        "b01fb1af831b4ed492202b624a80ac72": {
          "model_module": "@jupyter-widgets/base",
          "model_name": "LayoutModel",
          "model_module_version": "1.2.0",
          "state": {
            "_model_module": "@jupyter-widgets/base",
            "_model_module_version": "1.2.0",
            "_model_name": "LayoutModel",
            "_view_count": null,
            "_view_module": "@jupyter-widgets/base",
            "_view_module_version": "1.2.0",
            "_view_name": "LayoutView",
            "align_content": null,
            "align_items": null,
            "align_self": null,
            "border": null,
            "bottom": null,
            "display": null,
            "flex": null,
            "flex_flow": null,
            "grid_area": null,
            "grid_auto_columns": null,
            "grid_auto_flow": null,
            "grid_auto_rows": null,
            "grid_column": null,
            "grid_gap": null,
            "grid_row": null,
            "grid_template_areas": null,
            "grid_template_columns": null,
            "grid_template_rows": null,
            "height": null,
            "justify_content": null,
            "justify_items": null,
            "left": null,
            "margin": null,
            "max_height": null,
            "max_width": null,
            "min_height": null,
            "min_width": null,
            "object_fit": null,
            "object_position": null,
            "order": null,
            "overflow": null,
            "overflow_x": null,
            "overflow_y": null,
            "padding": null,
            "right": null,
            "top": null,
            "visibility": null,
            "width": null
          }
        },
        "5a90abffb803464c9d013e9a2e1e101a": {
          "model_module": "@jupyter-widgets/controls",
          "model_name": "DescriptionStyleModel",
          "model_module_version": "1.5.0",
          "state": {
            "_model_module": "@jupyter-widgets/controls",
            "_model_module_version": "1.5.0",
            "_model_name": "DescriptionStyleModel",
            "_view_count": null,
            "_view_module": "@jupyter-widgets/base",
            "_view_module_version": "1.2.0",
            "_view_name": "StyleView",
            "description_width": ""
          }
        },
        "79fd6685f85e4118919abb07b2a18f48": {
          "model_module": "@jupyter-widgets/base",
          "model_name": "LayoutModel",
          "model_module_version": "1.2.0",
          "state": {
            "_model_module": "@jupyter-widgets/base",
            "_model_module_version": "1.2.0",
            "_model_name": "LayoutModel",
            "_view_count": null,
            "_view_module": "@jupyter-widgets/base",
            "_view_module_version": "1.2.0",
            "_view_name": "LayoutView",
            "align_content": null,
            "align_items": null,
            "align_self": null,
            "border": null,
            "bottom": null,
            "display": null,
            "flex": null,
            "flex_flow": null,
            "grid_area": null,
            "grid_auto_columns": null,
            "grid_auto_flow": null,
            "grid_auto_rows": null,
            "grid_column": null,
            "grid_gap": null,
            "grid_row": null,
            "grid_template_areas": null,
            "grid_template_columns": null,
            "grid_template_rows": null,
            "height": null,
            "justify_content": null,
            "justify_items": null,
            "left": null,
            "margin": null,
            "max_height": null,
            "max_width": null,
            "min_height": null,
            "min_width": null,
            "object_fit": null,
            "object_position": null,
            "order": null,
            "overflow": null,
            "overflow_x": null,
            "overflow_y": null,
            "padding": null,
            "right": null,
            "top": null,
            "visibility": null,
            "width": null
          }
        },
        "d63cc5d709b04571812995523c90e730": {
          "model_module": "@jupyter-widgets/controls",
          "model_name": "ProgressStyleModel",
          "model_module_version": "1.5.0",
          "state": {
            "_model_module": "@jupyter-widgets/controls",
            "_model_module_version": "1.5.0",
            "_model_name": "ProgressStyleModel",
            "_view_count": null,
            "_view_module": "@jupyter-widgets/base",
            "_view_module_version": "1.2.0",
            "_view_name": "StyleView",
            "bar_color": null,
            "description_width": ""
          }
        },
        "0defdf9bedd543968f64a8d09f97b540": {
          "model_module": "@jupyter-widgets/controls",
          "model_name": "VBoxModel",
          "model_module_version": "1.5.0",
          "state": {
            "_dom_classes": [],
            "_model_module": "@jupyter-widgets/controls",
            "_model_module_version": "1.5.0",
            "_model_name": "VBoxModel",
            "_view_count": null,
            "_view_module": "@jupyter-widgets/controls",
            "_view_module_version": "1.5.0",
            "_view_name": "VBoxView",
            "box_style": "",
            "children": [
              "IPY_MODEL_027f11920dcd4c9f8035e25210c585ab",
              "IPY_MODEL_f74c8807f57b4a0381b2a95b8cc2a348"
            ],
            "layout": "IPY_MODEL_efdbeff488a943d194d9d57003aba058"
          }
        },
        "027f11920dcd4c9f8035e25210c585ab": {
          "model_module": "@jupyter-widgets/controls",
          "model_name": "LabelModel",
          "model_module_version": "1.5.0",
          "state": {
            "_dom_classes": [],
            "_model_module": "@jupyter-widgets/controls",
            "_model_module_version": "1.5.0",
            "_model_name": "LabelModel",
            "_view_count": null,
            "_view_module": "@jupyter-widgets/controls",
            "_view_module_version": "1.5.0",
            "_view_name": "LabelView",
            "description": "",
            "description_tooltip": null,
            "layout": "IPY_MODEL_aa3d1c4226284ee694f5f2eab429d950",
            "placeholder": "​",
            "style": "IPY_MODEL_2ec000809bbb4a6081b24afa65d635eb",
            "value": "0.006 MB of 0.017 MB uploaded (0.000 MB deduped)\r"
          }
        },
        "f74c8807f57b4a0381b2a95b8cc2a348": {
          "model_module": "@jupyter-widgets/controls",
          "model_name": "FloatProgressModel",
          "model_module_version": "1.5.0",
          "state": {
            "_dom_classes": [],
            "_model_module": "@jupyter-widgets/controls",
            "_model_module_version": "1.5.0",
            "_model_name": "FloatProgressModel",
            "_view_count": null,
            "_view_module": "@jupyter-widgets/controls",
            "_view_module_version": "1.5.0",
            "_view_name": "ProgressView",
            "bar_style": "",
            "description": "",
            "description_tooltip": null,
            "layout": "IPY_MODEL_ee51dcdc8cf14e7d9743d3f96805eff0",
            "max": 1,
            "min": 0,
            "orientation": "horizontal",
            "style": "IPY_MODEL_b631454f1e424e258f51f1665c376545",
            "value": 0.3313449634214969
          }
        },
        "efdbeff488a943d194d9d57003aba058": {
          "model_module": "@jupyter-widgets/base",
          "model_name": "LayoutModel",
          "model_module_version": "1.2.0",
          "state": {
            "_model_module": "@jupyter-widgets/base",
            "_model_module_version": "1.2.0",
            "_model_name": "LayoutModel",
            "_view_count": null,
            "_view_module": "@jupyter-widgets/base",
            "_view_module_version": "1.2.0",
            "_view_name": "LayoutView",
            "align_content": null,
            "align_items": null,
            "align_self": null,
            "border": null,
            "bottom": null,
            "display": null,
            "flex": null,
            "flex_flow": null,
            "grid_area": null,
            "grid_auto_columns": null,
            "grid_auto_flow": null,
            "grid_auto_rows": null,
            "grid_column": null,
            "grid_gap": null,
            "grid_row": null,
            "grid_template_areas": null,
            "grid_template_columns": null,
            "grid_template_rows": null,
            "height": null,
            "justify_content": null,
            "justify_items": null,
            "left": null,
            "margin": null,
            "max_height": null,
            "max_width": null,
            "min_height": null,
            "min_width": null,
            "object_fit": null,
            "object_position": null,
            "order": null,
            "overflow": null,
            "overflow_x": null,
            "overflow_y": null,
            "padding": null,
            "right": null,
            "top": null,
            "visibility": null,
            "width": null
          }
        },
        "aa3d1c4226284ee694f5f2eab429d950": {
          "model_module": "@jupyter-widgets/base",
          "model_name": "LayoutModel",
          "model_module_version": "1.2.0",
          "state": {
            "_model_module": "@jupyter-widgets/base",
            "_model_module_version": "1.2.0",
            "_model_name": "LayoutModel",
            "_view_count": null,
            "_view_module": "@jupyter-widgets/base",
            "_view_module_version": "1.2.0",
            "_view_name": "LayoutView",
            "align_content": null,
            "align_items": null,
            "align_self": null,
            "border": null,
            "bottom": null,
            "display": null,
            "flex": null,
            "flex_flow": null,
            "grid_area": null,
            "grid_auto_columns": null,
            "grid_auto_flow": null,
            "grid_auto_rows": null,
            "grid_column": null,
            "grid_gap": null,
            "grid_row": null,
            "grid_template_areas": null,
            "grid_template_columns": null,
            "grid_template_rows": null,
            "height": null,
            "justify_content": null,
            "justify_items": null,
            "left": null,
            "margin": null,
            "max_height": null,
            "max_width": null,
            "min_height": null,
            "min_width": null,
            "object_fit": null,
            "object_position": null,
            "order": null,
            "overflow": null,
            "overflow_x": null,
            "overflow_y": null,
            "padding": null,
            "right": null,
            "top": null,
            "visibility": null,
            "width": null
          }
        },
        "2ec000809bbb4a6081b24afa65d635eb": {
          "model_module": "@jupyter-widgets/controls",
          "model_name": "DescriptionStyleModel",
          "model_module_version": "1.5.0",
          "state": {
            "_model_module": "@jupyter-widgets/controls",
            "_model_module_version": "1.5.0",
            "_model_name": "DescriptionStyleModel",
            "_view_count": null,
            "_view_module": "@jupyter-widgets/base",
            "_view_module_version": "1.2.0",
            "_view_name": "StyleView",
            "description_width": ""
          }
        },
        "ee51dcdc8cf14e7d9743d3f96805eff0": {
          "model_module": "@jupyter-widgets/base",
          "model_name": "LayoutModel",
          "model_module_version": "1.2.0",
          "state": {
            "_model_module": "@jupyter-widgets/base",
            "_model_module_version": "1.2.0",
            "_model_name": "LayoutModel",
            "_view_count": null,
            "_view_module": "@jupyter-widgets/base",
            "_view_module_version": "1.2.0",
            "_view_name": "LayoutView",
            "align_content": null,
            "align_items": null,
            "align_self": null,
            "border": null,
            "bottom": null,
            "display": null,
            "flex": null,
            "flex_flow": null,
            "grid_area": null,
            "grid_auto_columns": null,
            "grid_auto_flow": null,
            "grid_auto_rows": null,
            "grid_column": null,
            "grid_gap": null,
            "grid_row": null,
            "grid_template_areas": null,
            "grid_template_columns": null,
            "grid_template_rows": null,
            "height": null,
            "justify_content": null,
            "justify_items": null,
            "left": null,
            "margin": null,
            "max_height": null,
            "max_width": null,
            "min_height": null,
            "min_width": null,
            "object_fit": null,
            "object_position": null,
            "order": null,
            "overflow": null,
            "overflow_x": null,
            "overflow_y": null,
            "padding": null,
            "right": null,
            "top": null,
            "visibility": null,
            "width": null
          }
        },
        "b631454f1e424e258f51f1665c376545": {
          "model_module": "@jupyter-widgets/controls",
          "model_name": "ProgressStyleModel",
          "model_module_version": "1.5.0",
          "state": {
            "_model_module": "@jupyter-widgets/controls",
            "_model_module_version": "1.5.0",
            "_model_name": "ProgressStyleModel",
            "_view_count": null,
            "_view_module": "@jupyter-widgets/base",
            "_view_module_version": "1.2.0",
            "_view_name": "StyleView",
            "bar_color": null,
            "description_width": ""
          }
        },
        "360154f226034f19b9064411a3974829": {
          "model_module": "@jupyter-widgets/controls",
          "model_name": "VBoxModel",
          "model_module_version": "1.5.0",
          "state": {
            "_dom_classes": [],
            "_model_module": "@jupyter-widgets/controls",
            "_model_module_version": "1.5.0",
            "_model_name": "VBoxModel",
            "_view_count": null,
            "_view_module": "@jupyter-widgets/controls",
            "_view_module_version": "1.5.0",
            "_view_name": "VBoxView",
            "box_style": "",
            "children": [
              "IPY_MODEL_d162de41cef94dac8f49e6213e9e4107",
              "IPY_MODEL_a78759ac9d8b4e3d929d685dcfa13207"
            ],
            "layout": "IPY_MODEL_40d2c5f9527648b69a963ed582c41942"
          }
        },
        "d162de41cef94dac8f49e6213e9e4107": {
          "model_module": "@jupyter-widgets/controls",
          "model_name": "LabelModel",
          "model_module_version": "1.5.0",
          "state": {
            "_dom_classes": [],
            "_model_module": "@jupyter-widgets/controls",
            "_model_module_version": "1.5.0",
            "_model_name": "LabelModel",
            "_view_count": null,
            "_view_module": "@jupyter-widgets/controls",
            "_view_module_version": "1.5.0",
            "_view_name": "LabelView",
            "description": "",
            "description_tooltip": null,
            "layout": "IPY_MODEL_183ad62885e042038934277737be583f",
            "placeholder": "​",
            "style": "IPY_MODEL_bc782b6f33924c3d9e97ba5f2c158c59",
            "value": "0.019 MB of 0.019 MB uploaded (0.000 MB deduped)\r"
          }
        },
        "a78759ac9d8b4e3d929d685dcfa13207": {
          "model_module": "@jupyter-widgets/controls",
          "model_name": "FloatProgressModel",
          "model_module_version": "1.5.0",
          "state": {
            "_dom_classes": [],
            "_model_module": "@jupyter-widgets/controls",
            "_model_module_version": "1.5.0",
            "_model_name": "FloatProgressModel",
            "_view_count": null,
            "_view_module": "@jupyter-widgets/controls",
            "_view_module_version": "1.5.0",
            "_view_name": "ProgressView",
            "bar_style": "",
            "description": "",
            "description_tooltip": null,
            "layout": "IPY_MODEL_e1e21a64e2c14bebb238fd311752c1a7",
            "max": 1,
            "min": 0,
            "orientation": "horizontal",
            "style": "IPY_MODEL_fe0279c910344243af49e4212b5109f6",
            "value": 1
          }
        },
        "40d2c5f9527648b69a963ed582c41942": {
          "model_module": "@jupyter-widgets/base",
          "model_name": "LayoutModel",
          "model_module_version": "1.2.0",
          "state": {
            "_model_module": "@jupyter-widgets/base",
            "_model_module_version": "1.2.0",
            "_model_name": "LayoutModel",
            "_view_count": null,
            "_view_module": "@jupyter-widgets/base",
            "_view_module_version": "1.2.0",
            "_view_name": "LayoutView",
            "align_content": null,
            "align_items": null,
            "align_self": null,
            "border": null,
            "bottom": null,
            "display": null,
            "flex": null,
            "flex_flow": null,
            "grid_area": null,
            "grid_auto_columns": null,
            "grid_auto_flow": null,
            "grid_auto_rows": null,
            "grid_column": null,
            "grid_gap": null,
            "grid_row": null,
            "grid_template_areas": null,
            "grid_template_columns": null,
            "grid_template_rows": null,
            "height": null,
            "justify_content": null,
            "justify_items": null,
            "left": null,
            "margin": null,
            "max_height": null,
            "max_width": null,
            "min_height": null,
            "min_width": null,
            "object_fit": null,
            "object_position": null,
            "order": null,
            "overflow": null,
            "overflow_x": null,
            "overflow_y": null,
            "padding": null,
            "right": null,
            "top": null,
            "visibility": null,
            "width": null
          }
        },
        "183ad62885e042038934277737be583f": {
          "model_module": "@jupyter-widgets/base",
          "model_name": "LayoutModel",
          "model_module_version": "1.2.0",
          "state": {
            "_model_module": "@jupyter-widgets/base",
            "_model_module_version": "1.2.0",
            "_model_name": "LayoutModel",
            "_view_count": null,
            "_view_module": "@jupyter-widgets/base",
            "_view_module_version": "1.2.0",
            "_view_name": "LayoutView",
            "align_content": null,
            "align_items": null,
            "align_self": null,
            "border": null,
            "bottom": null,
            "display": null,
            "flex": null,
            "flex_flow": null,
            "grid_area": null,
            "grid_auto_columns": null,
            "grid_auto_flow": null,
            "grid_auto_rows": null,
            "grid_column": null,
            "grid_gap": null,
            "grid_row": null,
            "grid_template_areas": null,
            "grid_template_columns": null,
            "grid_template_rows": null,
            "height": null,
            "justify_content": null,
            "justify_items": null,
            "left": null,
            "margin": null,
            "max_height": null,
            "max_width": null,
            "min_height": null,
            "min_width": null,
            "object_fit": null,
            "object_position": null,
            "order": null,
            "overflow": null,
            "overflow_x": null,
            "overflow_y": null,
            "padding": null,
            "right": null,
            "top": null,
            "visibility": null,
            "width": null
          }
        },
        "bc782b6f33924c3d9e97ba5f2c158c59": {
          "model_module": "@jupyter-widgets/controls",
          "model_name": "DescriptionStyleModel",
          "model_module_version": "1.5.0",
          "state": {
            "_model_module": "@jupyter-widgets/controls",
            "_model_module_version": "1.5.0",
            "_model_name": "DescriptionStyleModel",
            "_view_count": null,
            "_view_module": "@jupyter-widgets/base",
            "_view_module_version": "1.2.0",
            "_view_name": "StyleView",
            "description_width": ""
          }
        },
        "e1e21a64e2c14bebb238fd311752c1a7": {
          "model_module": "@jupyter-widgets/base",
          "model_name": "LayoutModel",
          "model_module_version": "1.2.0",
          "state": {
            "_model_module": "@jupyter-widgets/base",
            "_model_module_version": "1.2.0",
            "_model_name": "LayoutModel",
            "_view_count": null,
            "_view_module": "@jupyter-widgets/base",
            "_view_module_version": "1.2.0",
            "_view_name": "LayoutView",
            "align_content": null,
            "align_items": null,
            "align_self": null,
            "border": null,
            "bottom": null,
            "display": null,
            "flex": null,
            "flex_flow": null,
            "grid_area": null,
            "grid_auto_columns": null,
            "grid_auto_flow": null,
            "grid_auto_rows": null,
            "grid_column": null,
            "grid_gap": null,
            "grid_row": null,
            "grid_template_areas": null,
            "grid_template_columns": null,
            "grid_template_rows": null,
            "height": null,
            "justify_content": null,
            "justify_items": null,
            "left": null,
            "margin": null,
            "max_height": null,
            "max_width": null,
            "min_height": null,
            "min_width": null,
            "object_fit": null,
            "object_position": null,
            "order": null,
            "overflow": null,
            "overflow_x": null,
            "overflow_y": null,
            "padding": null,
            "right": null,
            "top": null,
            "visibility": null,
            "width": null
          }
        },
        "fe0279c910344243af49e4212b5109f6": {
          "model_module": "@jupyter-widgets/controls",
          "model_name": "ProgressStyleModel",
          "model_module_version": "1.5.0",
          "state": {
            "_model_module": "@jupyter-widgets/controls",
            "_model_module_version": "1.5.0",
            "_model_name": "ProgressStyleModel",
            "_view_count": null,
            "_view_module": "@jupyter-widgets/base",
            "_view_module_version": "1.2.0",
            "_view_name": "StyleView",
            "bar_color": null,
            "description_width": ""
          }
        }
      }
    }
  },
  "nbformat": 4,
  "nbformat_minor": 0
}