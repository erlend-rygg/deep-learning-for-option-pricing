{
  "cells": [
    {
      "cell_type": "markdown",
      "metadata": {
        "id": "s2MNO3kPTnkd"
      },
      "source": [
        "# Setup"
      ]
    },
    {
      "cell_type": "code",
      "execution_count": null,
      "metadata": {
        "id": "oOQkqhqFTnkg"
      },
      "outputs": [],
      "source": [
        "# Weights and Biases\n",
        "!pip install -q wandb\n",
        "# Tensorflow\n",
        "!pip install -q tensorflow"
      ]
    },
    {
      "cell_type": "code",
      "execution_count": null,
      "metadata": {
        "id": "Bfwvf6vGTnki"
      },
      "outputs": [],
      "source": [
        "from keras.models import Sequential, Model\n",
        "from keras.layers import Input, LSTM, Concatenate, Dense, BatchNormalization, LeakyReLU\n",
        "from keras.activations import tanh\n",
        "from tensorflow.keras.optimizers import Adam\n",
        "from keras.callbacks import EarlyStopping\n",
        "from tensorflow.keras.optimizers.schedules import ExponentialDecay\n",
        "import pandas as pd\n",
        "import numpy as np\n",
        "import os\n",
        "from sklearn.preprocessing import MinMaxScaler\n",
        "import wandb\n",
        "from wandb.keras import WandbCallback\n",
        "from datetime import datetime\n",
        "from dateutil.relativedelta import relativedelta\n",
        "from tensorflow import square, reduce_mean\n",
        "from tensorflow.keras.losses import MSE\n",
        "from tensorflow.keras.callbacks import Callback, EarlyStopping, ModelCheckpoint\n",
        "from tensorflow.keras.models import load_model\n",
        "from tensorflow.math import multiply\n",
        "from tensorflow.keras.metrics import MeanSquaredError, RootMeanSquaredError\n",
        "from math import log"
      ]
    },
    {
      "cell_type": "code",
      "execution_count": null,
      "metadata": {
        "colab": {
          "base_uri": "https://localhost:8080/"
        },
        "id": "1fduF6iTTnkj",
        "outputId": "fb4f7dee-051d-4088-f58d-df1236be03c0"
      },
      "outputs": [
        {
          "name": "stderr",
          "output_type": "stream",
          "text": [
            "\u001b[34m\u001b[1mwandb\u001b[0m: \u001b[33mWARNING\u001b[0m If you're specifying your api key in code, ensure this code is not shared publicly.\n",
            "\u001b[34m\u001b[1mwandb\u001b[0m: \u001b[33mWARNING\u001b[0m Consider setting the WANDB_API_KEY environment variable, or running `wandb login` from the command line.\n",
            "\u001b[34m\u001b[1mwandb\u001b[0m: Appending key for api.wandb.ai to your netrc file: /root/.netrc\n"
          ]
        },
        {
          "data": {
            "text/plain": [
              "True"
            ]
          },
          "execution_count": 43,
          "metadata": {},
          "output_type": "execute_result"
        }
      ],
      "source": [
        "# If running in colab, insert your wandb key here\n",
        "\n",
        "#import config\n",
        "#Erlend\n",
        "#wandb.login(key=config.erlend_key)\n",
        "# Hjalmar\n",
        "wandb.login(key=\"b47bcf387a0571c5520c58a13be35cda8ada0a99\")\n"
      ]
    },
    {
      "cell_type": "markdown",
      "metadata": {
        "id": "zJGDiGMLTnkl"
      },
      "source": [
        "# Load, split and normalize data"
      ]
    },
    {
      "cell_type": "markdown",
      "metadata": {
        "id": "UI1j3mQWTnkl"
      },
      "source": [
        "### Load data"
      ]
    },
    {
      "cell_type": "code",
      "execution_count": null,
      "metadata": {
        "colab": {
          "base_uri": "https://localhost:8080/",
          "height": 829
        },
        "id": "OKcl8WWJTnkl",
        "outputId": "a3aa1b9b-47f7-44a4-88d8-a86c63b9efd2"
      },
      "outputs": [
        {
          "name": "stdout",
          "output_type": "stream",
          "text": [
            "Thu Apr 13 15:56:52 2023       \n",
            "+-----------------------------------------------------------------------------+\n",
            "| NVIDIA-SMI 525.85.12    Driver Version: 525.85.12    CUDA Version: 12.0     |\n",
            "|-------------------------------+----------------------+----------------------+\n",
            "| GPU  Name        Persistence-M| Bus-Id        Disp.A | Volatile Uncorr. ECC |\n",
            "| Fan  Temp  Perf  Pwr:Usage/Cap|         Memory-Usage | GPU-Util  Compute M. |\n",
            "|                               |                      |               MIG M. |\n",
            "|===============================+======================+======================|\n",
            "|   0  Tesla T4            Off  | 00000000:00:04.0 Off |                    0 |\n",
            "| N/A   64C    P0    29W /  70W |   1745MiB / 15360MiB |      0%      Default |\n",
            "|                               |                      |                  N/A |\n",
            "+-------------------------------+----------------------+----------------------+\n",
            "                                                                               \n",
            "+-----------------------------------------------------------------------------+\n",
            "| Processes:                                                                  |\n",
            "|  GPU   GI   CI        PID   Type   Process name                  GPU Memory |\n",
            "|        ID   ID                                                   Usage      |\n",
            "|=============================================================================|\n",
            "+-----------------------------------------------------------------------------+\n",
            "Your runtime has 54.8 gigabytes of available RAM\n",
            "\n",
            "You are using a high-RAM runtime!\n"
          ]
        },
        {
          "data": {
            "text/html": [
              "\n",
              "  <div id=\"df-9c09697b-6bb2-4ff8-b630-bfbee9101e5b\">\n",
              "    <div class=\"colab-df-container\">\n",
              "      <div>\n",
              "<style scoped>\n",
              "    .dataframe tbody tr th:only-of-type {\n",
              "        vertical-align: middle;\n",
              "    }\n",
              "\n",
              "    .dataframe tbody tr th {\n",
              "        vertical-align: top;\n",
              "    }\n",
              "\n",
              "    .dataframe thead th {\n",
              "        text-align: right;\n",
              "    }\n",
              "</style>\n",
              "<table border=\"1\" class=\"dataframe\">\n",
              "  <thead>\n",
              "    <tr style=\"text-align: right;\">\n",
              "      <th></th>\n",
              "      <th>Unnamed: 0</th>\n",
              "      <th>Quote_date</th>\n",
              "      <th>Price</th>\n",
              "      <th>Underlying_last</th>\n",
              "      <th>Strike</th>\n",
              "      <th>TTM</th>\n",
              "      <th>R</th>\n",
              "    </tr>\n",
              "  </thead>\n",
              "  <tbody>\n",
              "    <tr>\n",
              "      <th>0</th>\n",
              "      <td>0</td>\n",
              "      <td>2013-01-02</td>\n",
              "      <td>361.355</td>\n",
              "      <td>1462.33</td>\n",
              "      <td>1100.0</td>\n",
              "      <td>2</td>\n",
              "      <td>0.07</td>\n",
              "    </tr>\n",
              "    <tr>\n",
              "      <th>1</th>\n",
              "      <td>1</td>\n",
              "      <td>2013-01-02</td>\n",
              "      <td>336.600</td>\n",
              "      <td>1462.33</td>\n",
              "      <td>1125.0</td>\n",
              "      <td>2</td>\n",
              "      <td>0.07</td>\n",
              "    </tr>\n",
              "    <tr>\n",
              "      <th>2</th>\n",
              "      <td>2</td>\n",
              "      <td>2013-01-02</td>\n",
              "      <td>311.350</td>\n",
              "      <td>1462.33</td>\n",
              "      <td>1150.0</td>\n",
              "      <td>2</td>\n",
              "      <td>0.07</td>\n",
              "    </tr>\n",
              "    <tr>\n",
              "      <th>3</th>\n",
              "      <td>3</td>\n",
              "      <td>2013-01-02</td>\n",
              "      <td>286.345</td>\n",
              "      <td>1462.33</td>\n",
              "      <td>1175.0</td>\n",
              "      <td>2</td>\n",
              "      <td>0.07</td>\n",
              "    </tr>\n",
              "    <tr>\n",
              "      <th>4</th>\n",
              "      <td>4</td>\n",
              "      <td>2013-01-02</td>\n",
              "      <td>281.345</td>\n",
              "      <td>1462.33</td>\n",
              "      <td>1180.0</td>\n",
              "      <td>2</td>\n",
              "      <td>0.07</td>\n",
              "    </tr>\n",
              "    <tr>\n",
              "      <th>...</th>\n",
              "      <td>...</td>\n",
              "      <td>...</td>\n",
              "      <td>...</td>\n",
              "      <td>...</td>\n",
              "      <td>...</td>\n",
              "      <td>...</td>\n",
              "      <td>...</td>\n",
              "    </tr>\n",
              "    <tr>\n",
              "      <th>12459173</th>\n",
              "      <td>12459173</td>\n",
              "      <td>2022-12-30</td>\n",
              "      <td>6.950</td>\n",
              "      <td>3839.81</td>\n",
              "      <td>8400.0</td>\n",
              "      <td>1085</td>\n",
              "      <td>4.22</td>\n",
              "    </tr>\n",
              "    <tr>\n",
              "      <th>12459174</th>\n",
              "      <td>12459174</td>\n",
              "      <td>2022-12-30</td>\n",
              "      <td>5.950</td>\n",
              "      <td>3839.81</td>\n",
              "      <td>8600.0</td>\n",
              "      <td>1085</td>\n",
              "      <td>4.22</td>\n",
              "    </tr>\n",
              "    <tr>\n",
              "      <th>12459175</th>\n",
              "      <td>12459175</td>\n",
              "      <td>2022-12-30</td>\n",
              "      <td>5.450</td>\n",
              "      <td>3839.81</td>\n",
              "      <td>8800.0</td>\n",
              "      <td>1085</td>\n",
              "      <td>4.22</td>\n",
              "    </tr>\n",
              "    <tr>\n",
              "      <th>12459176</th>\n",
              "      <td>12459176</td>\n",
              "      <td>2022-12-30</td>\n",
              "      <td>4.500</td>\n",
              "      <td>3839.81</td>\n",
              "      <td>9000.0</td>\n",
              "      <td>1085</td>\n",
              "      <td>4.22</td>\n",
              "    </tr>\n",
              "    <tr>\n",
              "      <th>12459177</th>\n",
              "      <td>12459177</td>\n",
              "      <td>2022-12-30</td>\n",
              "      <td>4.025</td>\n",
              "      <td>3839.81</td>\n",
              "      <td>9200.0</td>\n",
              "      <td>1085</td>\n",
              "      <td>4.22</td>\n",
              "    </tr>\n",
              "  </tbody>\n",
              "</table>\n",
              "<p>12459178 rows × 7 columns</p>\n",
              "</div>\n",
              "      <button class=\"colab-df-convert\" onclick=\"convertToInteractive('df-9c09697b-6bb2-4ff8-b630-bfbee9101e5b')\"\n",
              "              title=\"Convert this dataframe to an interactive table.\"\n",
              "              style=\"display:none;\">\n",
              "        \n",
              "  <svg xmlns=\"http://www.w3.org/2000/svg\" height=\"24px\"viewBox=\"0 0 24 24\"\n",
              "       width=\"24px\">\n",
              "    <path d=\"M0 0h24v24H0V0z\" fill=\"none\"/>\n",
              "    <path d=\"M18.56 5.44l.94 2.06.94-2.06 2.06-.94-2.06-.94-.94-2.06-.94 2.06-2.06.94zm-11 1L8.5 8.5l.94-2.06 2.06-.94-2.06-.94L8.5 2.5l-.94 2.06-2.06.94zm10 10l.94 2.06.94-2.06 2.06-.94-2.06-.94-.94-2.06-.94 2.06-2.06.94z\"/><path d=\"M17.41 7.96l-1.37-1.37c-.4-.4-.92-.59-1.43-.59-.52 0-1.04.2-1.43.59L10.3 9.45l-7.72 7.72c-.78.78-.78 2.05 0 2.83L4 21.41c.39.39.9.59 1.41.59.51 0 1.02-.2 1.41-.59l7.78-7.78 2.81-2.81c.8-.78.8-2.07 0-2.86zM5.41 20L4 18.59l7.72-7.72 1.47 1.35L5.41 20z\"/>\n",
              "  </svg>\n",
              "      </button>\n",
              "      \n",
              "  <style>\n",
              "    .colab-df-container {\n",
              "      display:flex;\n",
              "      flex-wrap:wrap;\n",
              "      gap: 12px;\n",
              "    }\n",
              "\n",
              "    .colab-df-convert {\n",
              "      background-color: #E8F0FE;\n",
              "      border: none;\n",
              "      border-radius: 50%;\n",
              "      cursor: pointer;\n",
              "      display: none;\n",
              "      fill: #1967D2;\n",
              "      height: 32px;\n",
              "      padding: 0 0 0 0;\n",
              "      width: 32px;\n",
              "    }\n",
              "\n",
              "    .colab-df-convert:hover {\n",
              "      background-color: #E2EBFA;\n",
              "      box-shadow: 0px 1px 2px rgba(60, 64, 67, 0.3), 0px 1px 3px 1px rgba(60, 64, 67, 0.15);\n",
              "      fill: #174EA6;\n",
              "    }\n",
              "\n",
              "    [theme=dark] .colab-df-convert {\n",
              "      background-color: #3B4455;\n",
              "      fill: #D2E3FC;\n",
              "    }\n",
              "\n",
              "    [theme=dark] .colab-df-convert:hover {\n",
              "      background-color: #434B5C;\n",
              "      box-shadow: 0px 1px 3px 1px rgba(0, 0, 0, 0.15);\n",
              "      filter: drop-shadow(0px 1px 2px rgba(0, 0, 0, 0.3));\n",
              "      fill: #FFFFFF;\n",
              "    }\n",
              "  </style>\n",
              "\n",
              "      <script>\n",
              "        const buttonEl =\n",
              "          document.querySelector('#df-9c09697b-6bb2-4ff8-b630-bfbee9101e5b button.colab-df-convert');\n",
              "        buttonEl.style.display =\n",
              "          google.colab.kernel.accessAllowed ? 'block' : 'none';\n",
              "\n",
              "        async function convertToInteractive(key) {\n",
              "          const element = document.querySelector('#df-9c09697b-6bb2-4ff8-b630-bfbee9101e5b');\n",
              "          const dataTable =\n",
              "            await google.colab.kernel.invokeFunction('convertToInteractive',\n",
              "                                                     [key], {});\n",
              "          if (!dataTable) return;\n",
              "\n",
              "          const docLinkHtml = 'Like what you see? Visit the ' +\n",
              "            '<a target=\"_blank\" href=https://colab.research.google.com/notebooks/data_table.ipynb>data table notebook</a>'\n",
              "            + ' to learn more about interactive tables.';\n",
              "          element.innerHTML = '';\n",
              "          dataTable['output_type'] = 'display_data';\n",
              "          await google.colab.output.renderOutput(dataTable, element);\n",
              "          const docLink = document.createElement('div');\n",
              "          docLink.innerHTML = docLinkHtml;\n",
              "          element.appendChild(docLink);\n",
              "        }\n",
              "      </script>\n",
              "    </div>\n",
              "  </div>\n",
              "  "
            ],
            "text/plain": [
              "          Unnamed: 0  Quote_date    Price  Underlying_last  Strike   TTM     R\n",
              "0                  0  2013-01-02  361.355          1462.33  1100.0     2  0.07\n",
              "1                  1  2013-01-02  336.600          1462.33  1125.0     2  0.07\n",
              "2                  2  2013-01-02  311.350          1462.33  1150.0     2  0.07\n",
              "3                  3  2013-01-02  286.345          1462.33  1175.0     2  0.07\n",
              "4                  4  2013-01-02  281.345          1462.33  1180.0     2  0.07\n",
              "...              ...         ...      ...              ...     ...   ...   ...\n",
              "12459173    12459173  2022-12-30    6.950          3839.81  8400.0  1085  4.22\n",
              "12459174    12459174  2022-12-30    5.950          3839.81  8600.0  1085  4.22\n",
              "12459175    12459175  2022-12-30    5.450          3839.81  8800.0  1085  4.22\n",
              "12459176    12459176  2022-12-30    4.500          3839.81  9000.0  1085  4.22\n",
              "12459177    12459177  2022-12-30    4.025          3839.81  9200.0  1085  4.22\n",
              "\n",
              "[12459178 rows x 7 columns]"
            ]
          },
          "metadata": {},
          "output_type": "display_data"
        }
      ],
      "source": [
        "google_colab = True\n",
        "\n",
        "if google_colab:\n",
        "    import tensorflow as tf\n",
        "    # Pring info\n",
        "    gpu_info = !nvidia-smi\n",
        "    gpu_info = '\\n'.join(gpu_info)\n",
        "    if gpu_info.find('failed') >= 0:\n",
        "        print('Not connected to a GPU')\n",
        "    else:\n",
        "        print(gpu_info)\n",
        "    \n",
        "    from psutil import virtual_memory\n",
        "    ram_gb = virtual_memory().total / 1e9\n",
        "    print('Your runtime has {:.1f} gigabytes of available RAM\\n'.format(ram_gb))\n",
        "\n",
        "    if ram_gb < 20:\n",
        "        print('Not using a high-RAM runtime')\n",
        "    else:\n",
        "        print('You are using a high-RAM runtime!')\n",
        "\n",
        "    # Code to read csv file into Colaboratory:\n",
        "    !pip install -U -q PyDrive\n",
        "    from pydrive.auth import GoogleAuth\n",
        "    from pydrive.drive import GoogleDrive\n",
        "    from google.colab import auth\n",
        "    from oauth2client.client import GoogleCredentials\n",
        "    # Authenticate and create the PyDrive client.\n",
        "    auth.authenticate_user()\n",
        "    gauth = GoogleAuth()\n",
        "    gauth.credentials = GoogleCredentials.get_application_default()\n",
        "    drive = GoogleDrive(gauth)\n",
        "    id = \"1Ic73MqpS5ACG1p2oJ_R5cTuEhlQRM_Q6\"\n",
        "    downloaded = drive.CreateFile({'id':id}) \n",
        "    downloaded.GetContentFile('2013-2022_wo_lags.csv')  \n",
        "    df_read = pd.read_csv('2013-2022_wo_lags.csv')\n",
        "else:\n",
        "    file = \"../data/processed_data/2020_2022_moneyness_filtere.csv\"\n",
        "    df_read = pd.read_csv(file)\n",
        "\n",
        "display(df_read)"
      ]
    },
    {
      "cell_type": "code",
      "execution_count": null,
      "metadata": {
        "id": "CpcmhVq6Tnkm"
      },
      "outputs": [],
      "source": [
        "df = df_read\n",
        "del df_read\n",
        "\n",
        "# Group the data by Quote Date and calculate the mean for Underlying Price\n",
        "df_agg = df.groupby('Quote_date').mean().reset_index()\n",
        "\n",
        "# Values to returns\n",
        "df_agg[\"Underlying_return\"] = df_agg[\"Underlying_last\"].pct_change()\n",
        "\n",
        "lags = 10\n",
        "\n",
        "# Add the Underlying Price Lag column\n",
        "for i in range(1, lags + 1):\n",
        "    df_agg['Underlying_' + str(i)] = df_agg['Underlying_return'].shift(i)\n",
        "\n",
        "df = pd.merge(df, df_agg[['Quote_date', \"Underlying_return\"] + ['Underlying_' + str(i) for i in range(1, lags + 1)]], on='Quote_date', how='left')\n",
        "\n",
        "# Filter df between 2014-01-01 and 2022-12-31\n",
        "df = df[(df[\"Quote_date\"] >= \"2014-01-01\") & (df[\"Quote_date\"] <= \"2022-12-31\")]"
      ]
    },
    {
      "cell_type": "code",
      "execution_count": null,
      "metadata": {
        "colab": {
          "base_uri": "https://localhost:8080/",
          "height": 423
        },
        "id": "2eAUxhRsTnkn",
        "outputId": "bc8ca165-31f7-4583-a480-11447e4249e8"
      },
      "outputs": [
        {
          "data": {
            "text/html": [
              "\n",
              "  <div id=\"df-7eebc6cd-6587-4cb3-9b2f-5bef638c3043\">\n",
              "    <div class=\"colab-df-container\">\n",
              "      <div>\n",
              "<style scoped>\n",
              "    .dataframe tbody tr th:only-of-type {\n",
              "        vertical-align: middle;\n",
              "    }\n",
              "\n",
              "    .dataframe tbody tr th {\n",
              "        vertical-align: top;\n",
              "    }\n",
              "\n",
              "    .dataframe thead th {\n",
              "        text-align: right;\n",
              "    }\n",
              "</style>\n",
              "<table border=\"1\" class=\"dataframe\">\n",
              "  <thead>\n",
              "    <tr style=\"text-align: right;\">\n",
              "      <th></th>\n",
              "      <th>Unnamed: 0</th>\n",
              "      <th>Quote_date</th>\n",
              "      <th>Price</th>\n",
              "      <th>Underlying_last</th>\n",
              "      <th>Strike</th>\n",
              "      <th>TTM</th>\n",
              "      <th>R</th>\n",
              "      <th>Underlying_return</th>\n",
              "      <th>Underlying_1</th>\n",
              "      <th>Underlying_2</th>\n",
              "      <th>Underlying_3</th>\n",
              "      <th>Underlying_4</th>\n",
              "      <th>Underlying_5</th>\n",
              "      <th>Underlying_6</th>\n",
              "      <th>Underlying_7</th>\n",
              "      <th>Underlying_8</th>\n",
              "      <th>Underlying_9</th>\n",
              "      <th>Underlying_10</th>\n",
              "    </tr>\n",
              "  </thead>\n",
              "  <tbody>\n",
              "    <tr>\n",
              "      <th>405271</th>\n",
              "      <td>405271</td>\n",
              "      <td>2014-01-03</td>\n",
              "      <td>555.455</td>\n",
              "      <td>1831.47</td>\n",
              "      <td>1275.0</td>\n",
              "      <td>7</td>\n",
              "      <td>0.02</td>\n",
              "      <td>-0.008816</td>\n",
              "      <td>0.003677</td>\n",
              "      <td>-0.000147</td>\n",
              "      <td>-0.000331</td>\n",
              "      <td>0.004664</td>\n",
              "      <td>0.002828</td>\n",
              "      <td>0.004721</td>\n",
              "      <td>0.005565</td>\n",
              "      <td>-0.000508</td>\n",
              "      <td>0.016502</td>\n",
              "      <td>-0.003006</td>\n",
              "    </tr>\n",
              "    <tr>\n",
              "      <th>405272</th>\n",
              "      <td>405272</td>\n",
              "      <td>2014-01-03</td>\n",
              "      <td>530.500</td>\n",
              "      <td>1831.47</td>\n",
              "      <td>1300.0</td>\n",
              "      <td>7</td>\n",
              "      <td>0.02</td>\n",
              "      <td>-0.008816</td>\n",
              "      <td>0.003677</td>\n",
              "      <td>-0.000147</td>\n",
              "      <td>-0.000331</td>\n",
              "      <td>0.004664</td>\n",
              "      <td>0.002828</td>\n",
              "      <td>0.004721</td>\n",
              "      <td>0.005565</td>\n",
              "      <td>-0.000508</td>\n",
              "      <td>0.016502</td>\n",
              "      <td>-0.003006</td>\n",
              "    </tr>\n",
              "    <tr>\n",
              "      <th>405273</th>\n",
              "      <td>405273</td>\n",
              "      <td>2014-01-03</td>\n",
              "      <td>505.495</td>\n",
              "      <td>1831.47</td>\n",
              "      <td>1325.0</td>\n",
              "      <td>7</td>\n",
              "      <td>0.02</td>\n",
              "      <td>-0.008816</td>\n",
              "      <td>0.003677</td>\n",
              "      <td>-0.000147</td>\n",
              "      <td>-0.000331</td>\n",
              "      <td>0.004664</td>\n",
              "      <td>0.002828</td>\n",
              "      <td>0.004721</td>\n",
              "      <td>0.005565</td>\n",
              "      <td>-0.000508</td>\n",
              "      <td>0.016502</td>\n",
              "      <td>-0.003006</td>\n",
              "    </tr>\n",
              "    <tr>\n",
              "      <th>405274</th>\n",
              "      <td>405274</td>\n",
              "      <td>2014-01-03</td>\n",
              "      <td>480.355</td>\n",
              "      <td>1831.47</td>\n",
              "      <td>1350.0</td>\n",
              "      <td>7</td>\n",
              "      <td>0.02</td>\n",
              "      <td>-0.008816</td>\n",
              "      <td>0.003677</td>\n",
              "      <td>-0.000147</td>\n",
              "      <td>-0.000331</td>\n",
              "      <td>0.004664</td>\n",
              "      <td>0.002828</td>\n",
              "      <td>0.004721</td>\n",
              "      <td>0.005565</td>\n",
              "      <td>-0.000508</td>\n",
              "      <td>0.016502</td>\n",
              "      <td>-0.003006</td>\n",
              "    </tr>\n",
              "    <tr>\n",
              "      <th>405275</th>\n",
              "      <td>405275</td>\n",
              "      <td>2014-01-03</td>\n",
              "      <td>455.350</td>\n",
              "      <td>1831.47</td>\n",
              "      <td>1375.0</td>\n",
              "      <td>7</td>\n",
              "      <td>0.02</td>\n",
              "      <td>-0.008816</td>\n",
              "      <td>0.003677</td>\n",
              "      <td>-0.000147</td>\n",
              "      <td>-0.000331</td>\n",
              "      <td>0.004664</td>\n",
              "      <td>0.002828</td>\n",
              "      <td>0.004721</td>\n",
              "      <td>0.005565</td>\n",
              "      <td>-0.000508</td>\n",
              "      <td>0.016502</td>\n",
              "      <td>-0.003006</td>\n",
              "    </tr>\n",
              "    <tr>\n",
              "      <th>...</th>\n",
              "      <td>...</td>\n",
              "      <td>...</td>\n",
              "      <td>...</td>\n",
              "      <td>...</td>\n",
              "      <td>...</td>\n",
              "      <td>...</td>\n",
              "      <td>...</td>\n",
              "      <td>...</td>\n",
              "      <td>...</td>\n",
              "      <td>...</td>\n",
              "      <td>...</td>\n",
              "      <td>...</td>\n",
              "      <td>...</td>\n",
              "      <td>...</td>\n",
              "      <td>...</td>\n",
              "      <td>...</td>\n",
              "      <td>...</td>\n",
              "      <td>...</td>\n",
              "    </tr>\n",
              "    <tr>\n",
              "      <th>12459173</th>\n",
              "      <td>12459173</td>\n",
              "      <td>2022-12-30</td>\n",
              "      <td>6.950</td>\n",
              "      <td>3839.81</td>\n",
              "      <td>8400.0</td>\n",
              "      <td>1085</td>\n",
              "      <td>4.22</td>\n",
              "      <td>-0.002300</td>\n",
              "      <td>0.017343</td>\n",
              "      <td>-0.012034</td>\n",
              "      <td>-0.004081</td>\n",
              "      <td>0.000096</td>\n",
              "      <td>0.005621</td>\n",
              "      <td>-0.014208</td>\n",
              "      <td>0.014673</td>\n",
              "      <td>0.001048</td>\n",
              "      <td>-0.020257</td>\n",
              "      <td>-0.024582</td>\n",
              "    </tr>\n",
              "    <tr>\n",
              "      <th>12459174</th>\n",
              "      <td>12459174</td>\n",
              "      <td>2022-12-30</td>\n",
              "      <td>5.950</td>\n",
              "      <td>3839.81</td>\n",
              "      <td>8600.0</td>\n",
              "      <td>1085</td>\n",
              "      <td>4.22</td>\n",
              "      <td>-0.002300</td>\n",
              "      <td>0.017343</td>\n",
              "      <td>-0.012034</td>\n",
              "      <td>-0.004081</td>\n",
              "      <td>0.000096</td>\n",
              "      <td>0.005621</td>\n",
              "      <td>-0.014208</td>\n",
              "      <td>0.014673</td>\n",
              "      <td>0.001048</td>\n",
              "      <td>-0.020257</td>\n",
              "      <td>-0.024582</td>\n",
              "    </tr>\n",
              "    <tr>\n",
              "      <th>12459175</th>\n",
              "      <td>12459175</td>\n",
              "      <td>2022-12-30</td>\n",
              "      <td>5.450</td>\n",
              "      <td>3839.81</td>\n",
              "      <td>8800.0</td>\n",
              "      <td>1085</td>\n",
              "      <td>4.22</td>\n",
              "      <td>-0.002300</td>\n",
              "      <td>0.017343</td>\n",
              "      <td>-0.012034</td>\n",
              "      <td>-0.004081</td>\n",
              "      <td>0.000096</td>\n",
              "      <td>0.005621</td>\n",
              "      <td>-0.014208</td>\n",
              "      <td>0.014673</td>\n",
              "      <td>0.001048</td>\n",
              "      <td>-0.020257</td>\n",
              "      <td>-0.024582</td>\n",
              "    </tr>\n",
              "    <tr>\n",
              "      <th>12459176</th>\n",
              "      <td>12459176</td>\n",
              "      <td>2022-12-30</td>\n",
              "      <td>4.500</td>\n",
              "      <td>3839.81</td>\n",
              "      <td>9000.0</td>\n",
              "      <td>1085</td>\n",
              "      <td>4.22</td>\n",
              "      <td>-0.002300</td>\n",
              "      <td>0.017343</td>\n",
              "      <td>-0.012034</td>\n",
              "      <td>-0.004081</td>\n",
              "      <td>0.000096</td>\n",
              "      <td>0.005621</td>\n",
              "      <td>-0.014208</td>\n",
              "      <td>0.014673</td>\n",
              "      <td>0.001048</td>\n",
              "      <td>-0.020257</td>\n",
              "      <td>-0.024582</td>\n",
              "    </tr>\n",
              "    <tr>\n",
              "      <th>12459177</th>\n",
              "      <td>12459177</td>\n",
              "      <td>2022-12-30</td>\n",
              "      <td>4.025</td>\n",
              "      <td>3839.81</td>\n",
              "      <td>9200.0</td>\n",
              "      <td>1085</td>\n",
              "      <td>4.22</td>\n",
              "      <td>-0.002300</td>\n",
              "      <td>0.017343</td>\n",
              "      <td>-0.012034</td>\n",
              "      <td>-0.004081</td>\n",
              "      <td>0.000096</td>\n",
              "      <td>0.005621</td>\n",
              "      <td>-0.014208</td>\n",
              "      <td>0.014673</td>\n",
              "      <td>0.001048</td>\n",
              "      <td>-0.020257</td>\n",
              "      <td>-0.024582</td>\n",
              "    </tr>\n",
              "  </tbody>\n",
              "</table>\n",
              "<p>12053907 rows × 18 columns</p>\n",
              "</div>\n",
              "      <button class=\"colab-df-convert\" onclick=\"convertToInteractive('df-7eebc6cd-6587-4cb3-9b2f-5bef638c3043')\"\n",
              "              title=\"Convert this dataframe to an interactive table.\"\n",
              "              style=\"display:none;\">\n",
              "        \n",
              "  <svg xmlns=\"http://www.w3.org/2000/svg\" height=\"24px\"viewBox=\"0 0 24 24\"\n",
              "       width=\"24px\">\n",
              "    <path d=\"M0 0h24v24H0V0z\" fill=\"none\"/>\n",
              "    <path d=\"M18.56 5.44l.94 2.06.94-2.06 2.06-.94-2.06-.94-.94-2.06-.94 2.06-2.06.94zm-11 1L8.5 8.5l.94-2.06 2.06-.94-2.06-.94L8.5 2.5l-.94 2.06-2.06.94zm10 10l.94 2.06.94-2.06 2.06-.94-2.06-.94-.94-2.06-.94 2.06-2.06.94z\"/><path d=\"M17.41 7.96l-1.37-1.37c-.4-.4-.92-.59-1.43-.59-.52 0-1.04.2-1.43.59L10.3 9.45l-7.72 7.72c-.78.78-.78 2.05 0 2.83L4 21.41c.39.39.9.59 1.41.59.51 0 1.02-.2 1.41-.59l7.78-7.78 2.81-2.81c.8-.78.8-2.07 0-2.86zM5.41 20L4 18.59l7.72-7.72 1.47 1.35L5.41 20z\"/>\n",
              "  </svg>\n",
              "      </button>\n",
              "      \n",
              "  <style>\n",
              "    .colab-df-container {\n",
              "      display:flex;\n",
              "      flex-wrap:wrap;\n",
              "      gap: 12px;\n",
              "    }\n",
              "\n",
              "    .colab-df-convert {\n",
              "      background-color: #E8F0FE;\n",
              "      border: none;\n",
              "      border-radius: 50%;\n",
              "      cursor: pointer;\n",
              "      display: none;\n",
              "      fill: #1967D2;\n",
              "      height: 32px;\n",
              "      padding: 0 0 0 0;\n",
              "      width: 32px;\n",
              "    }\n",
              "\n",
              "    .colab-df-convert:hover {\n",
              "      background-color: #E2EBFA;\n",
              "      box-shadow: 0px 1px 2px rgba(60, 64, 67, 0.3), 0px 1px 3px 1px rgba(60, 64, 67, 0.15);\n",
              "      fill: #174EA6;\n",
              "    }\n",
              "\n",
              "    [theme=dark] .colab-df-convert {\n",
              "      background-color: #3B4455;\n",
              "      fill: #D2E3FC;\n",
              "    }\n",
              "\n",
              "    [theme=dark] .colab-df-convert:hover {\n",
              "      background-color: #434B5C;\n",
              "      box-shadow: 0px 1px 3px 1px rgba(0, 0, 0, 0.15);\n",
              "      filter: drop-shadow(0px 1px 2px rgba(0, 0, 0, 0.3));\n",
              "      fill: #FFFFFF;\n",
              "    }\n",
              "  </style>\n",
              "\n",
              "      <script>\n",
              "        const buttonEl =\n",
              "          document.querySelector('#df-7eebc6cd-6587-4cb3-9b2f-5bef638c3043 button.colab-df-convert');\n",
              "        buttonEl.style.display =\n",
              "          google.colab.kernel.accessAllowed ? 'block' : 'none';\n",
              "\n",
              "        async function convertToInteractive(key) {\n",
              "          const element = document.querySelector('#df-7eebc6cd-6587-4cb3-9b2f-5bef638c3043');\n",
              "          const dataTable =\n",
              "            await google.colab.kernel.invokeFunction('convertToInteractive',\n",
              "                                                     [key], {});\n",
              "          if (!dataTable) return;\n",
              "\n",
              "          const docLinkHtml = 'Like what you see? Visit the ' +\n",
              "            '<a target=\"_blank\" href=https://colab.research.google.com/notebooks/data_table.ipynb>data table notebook</a>'\n",
              "            + ' to learn more about interactive tables.';\n",
              "          element.innerHTML = '';\n",
              "          dataTable['output_type'] = 'display_data';\n",
              "          await google.colab.output.renderOutput(dataTable, element);\n",
              "          const docLink = document.createElement('div');\n",
              "          docLink.innerHTML = docLinkHtml;\n",
              "          element.appendChild(docLink);\n",
              "        }\n",
              "      </script>\n",
              "    </div>\n",
              "  </div>\n",
              "  "
            ],
            "text/plain": [
              "          Unnamed: 0  Quote_date    Price  Underlying_last  Strike   TTM  \\\n",
              "405271        405271  2014-01-03  555.455          1831.47  1275.0     7   \n",
              "405272        405272  2014-01-03  530.500          1831.47  1300.0     7   \n",
              "405273        405273  2014-01-03  505.495          1831.47  1325.0     7   \n",
              "405274        405274  2014-01-03  480.355          1831.47  1350.0     7   \n",
              "405275        405275  2014-01-03  455.350          1831.47  1375.0     7   \n",
              "...              ...         ...      ...              ...     ...   ...   \n",
              "12459173    12459173  2022-12-30    6.950          3839.81  8400.0  1085   \n",
              "12459174    12459174  2022-12-30    5.950          3839.81  8600.0  1085   \n",
              "12459175    12459175  2022-12-30    5.450          3839.81  8800.0  1085   \n",
              "12459176    12459176  2022-12-30    4.500          3839.81  9000.0  1085   \n",
              "12459177    12459177  2022-12-30    4.025          3839.81  9200.0  1085   \n",
              "\n",
              "             R  Underlying_return  Underlying_1  Underlying_2  Underlying_3  \\\n",
              "405271    0.02          -0.008816      0.003677     -0.000147     -0.000331   \n",
              "405272    0.02          -0.008816      0.003677     -0.000147     -0.000331   \n",
              "405273    0.02          -0.008816      0.003677     -0.000147     -0.000331   \n",
              "405274    0.02          -0.008816      0.003677     -0.000147     -0.000331   \n",
              "405275    0.02          -0.008816      0.003677     -0.000147     -0.000331   \n",
              "...        ...                ...           ...           ...           ...   \n",
              "12459173  4.22          -0.002300      0.017343     -0.012034     -0.004081   \n",
              "12459174  4.22          -0.002300      0.017343     -0.012034     -0.004081   \n",
              "12459175  4.22          -0.002300      0.017343     -0.012034     -0.004081   \n",
              "12459176  4.22          -0.002300      0.017343     -0.012034     -0.004081   \n",
              "12459177  4.22          -0.002300      0.017343     -0.012034     -0.004081   \n",
              "\n",
              "          Underlying_4  Underlying_5  Underlying_6  Underlying_7  \\\n",
              "405271        0.004664      0.002828      0.004721      0.005565   \n",
              "405272        0.004664      0.002828      0.004721      0.005565   \n",
              "405273        0.004664      0.002828      0.004721      0.005565   \n",
              "405274        0.004664      0.002828      0.004721      0.005565   \n",
              "405275        0.004664      0.002828      0.004721      0.005565   \n",
              "...                ...           ...           ...           ...   \n",
              "12459173      0.000096      0.005621     -0.014208      0.014673   \n",
              "12459174      0.000096      0.005621     -0.014208      0.014673   \n",
              "12459175      0.000096      0.005621     -0.014208      0.014673   \n",
              "12459176      0.000096      0.005621     -0.014208      0.014673   \n",
              "12459177      0.000096      0.005621     -0.014208      0.014673   \n",
              "\n",
              "          Underlying_8  Underlying_9  Underlying_10  \n",
              "405271       -0.000508      0.016502      -0.003006  \n",
              "405272       -0.000508      0.016502      -0.003006  \n",
              "405273       -0.000508      0.016502      -0.003006  \n",
              "405274       -0.000508      0.016502      -0.003006  \n",
              "405275       -0.000508      0.016502      -0.003006  \n",
              "...                ...           ...            ...  \n",
              "12459173      0.001048     -0.020257      -0.024582  \n",
              "12459174      0.001048     -0.020257      -0.024582  \n",
              "12459175      0.001048     -0.020257      -0.024582  \n",
              "12459176      0.001048     -0.020257      -0.024582  \n",
              "12459177      0.001048     -0.020257      -0.024582  \n",
              "\n",
              "[12053907 rows x 18 columns]"
            ]
          },
          "metadata": {},
          "output_type": "display_data"
        }
      ],
      "source": [
        "display(df)"
      ]
    },
    {
      "cell_type": "markdown",
      "metadata": {
        "id": "j1fuXIvmTnkn"
      },
      "source": [
        "### Format input data"
      ]
    },
    {
      "cell_type": "code",
      "execution_count": null,
      "metadata": {
        "colab": {
          "base_uri": "https://localhost:8080/"
        },
        "id": "YKAFyCmTTnko",
        "outputId": "05b2af91-a720-41b4-e40b-6aff8d7eb256"
      },
      "outputs": [
        {
          "name": "stdout",
          "output_type": "stream",
          "text": [
            "Train shape: (268651, 10, 1), (268651, 4)\n",
            "Val shape: (14139, 10, 1), (14139, 4)\n",
            "Test shape: (23128, 10, 1), (23128, 4)\n"
          ]
        }
      ],
      "source": [
        "# Format settings\n",
        "max_timesteps = lags\n",
        "moneyness = False\n",
        "bs_vars = ['Moneyness', 'TTM', 'R'] if moneyness else ['Underlying_last', 'Strike', 'TTM', 'R']\n",
        "underlying_lags = ['Underlying_last'] + [f'Underlying_{i}' for i in range (1, max_timesteps)]\n",
        "\n",
        "def create_rw_dataset(window_number = 0, df = df):\n",
        "    '''Creates dataset for a single rolling window period offsett by the window number'''\n",
        "\n",
        "    # Create train, validation and test set split points\n",
        "    test_weeks = 2\n",
        "    train_start = datetime(2014,10,17) + relativedelta(weeks=window_number * test_weeks)\n",
        "    val_start = train_start + relativedelta(months=2)\n",
        "    test_start = val_start + relativedelta(weeks=1)\n",
        "    test_end = test_start + relativedelta(weeks=test_weeks)\n",
        "    train_start = str(train_start.date())\n",
        "    val_start = str(val_start.date())\n",
        "    test_start = str(test_start.date())\n",
        "    test_end = str(test_end.date())\n",
        "\n",
        "    # Add moneyness column\n",
        "    if not moneyness:\n",
        "        df['Moneyness'] = df['Underlying_last'] / df['Strike']\n",
        "\n",
        "\n",
        "    # Split train and validation data\n",
        "    df_train = df[(df['Quote_date'] >= train_start) & (df['Quote_date'] < val_start)]\n",
        "    df_val = df[(df['Quote_date'] >= val_start) & (df['Quote_date'] < test_start)]\n",
        "    df_test = df[(df['Quote_date'] >= test_start) & (df['Quote_date'] < test_end)]\n",
        "\n",
        "    del df\n",
        "\n",
        "    # Filter out top and bottom 5% of moneyness in df_train, and using the same filter in df_val and df_test\n",
        "    top = df_train['Moneyness'].quantile(0.95)\n",
        "    bottom = df_train['Moneyness'].quantile(0.05)\n",
        "    df_train = df_train[(df_train['Moneyness'] <= top) & (df_train['Moneyness'] >= bottom)]\n",
        "    df_val = df_val[(df_val['Moneyness'] <= top) & (df_val['Moneyness'] >= bottom)]\n",
        "    df_test = df_test[(df_test['Moneyness'] <= top) & (df_test['Moneyness'] >= bottom)]\n",
        "\n",
        "\n",
        "    # Extract target values\n",
        "    train_y = (df_train['Price'] / df_train['Strike']).to_numpy() if moneyness else df_train['Price'].to_numpy()\n",
        "    val_y = (df_val['Price'] / df_val['Strike']).to_numpy() if moneyness else df_val['Price'].to_numpy()\n",
        "    test_y = (df_test['Price'] / df_test['Strike']).to_numpy() if moneyness else df_test['Price'].to_numpy()\n",
        "\n",
        "    # If usining moneyness, extract strike\n",
        "    if moneyness:\n",
        "        train_strike = df_train['Strike'].to_numpy()\n",
        "        val_strike = df_val['Strike'].to_numpy()\n",
        "        test_strike = df_test['Strike'].to_numpy()\n",
        "\n",
        "    # Convert dataframes to numpy arrays\n",
        "    train_x = [df_train[underlying_lags].to_numpy(), df_train[bs_vars].to_numpy()]\n",
        "    val_x = [df_val[underlying_lags].to_numpy(), df_val[bs_vars].to_numpy()]\n",
        "    test_x = [df_test[underlying_lags].to_numpy(), df_test[bs_vars].to_numpy()]\n",
        "\n",
        "    del df_train\n",
        "    del df_val\n",
        "\n",
        "    # Scale features based on training set\n",
        "    underlying_scaler = MinMaxScaler()\n",
        "    train_x[0] = underlying_scaler.fit_transform(train_x[0])\n",
        "    val_x[0] = underlying_scaler.transform(val_x[0])\n",
        "    test_x[0] = underlying_scaler.transform(test_x[0])\n",
        "\n",
        "    bs_scaler = MinMaxScaler()\n",
        "    train_x[1] = bs_scaler.fit_transform(train_x[1])\n",
        "    val_x[1] = bs_scaler.transform(val_x[1])\n",
        "    test_x[1] = bs_scaler.transform(test_x[1])\n",
        "\n",
        "\n",
        "    # Shuffle training set\n",
        "    np.random.seed(0)\n",
        "    shuffle = np.random.permutation(len(train_x[0]))\n",
        "    train_x = [train_x[0][shuffle], train_x[1][shuffle]]\n",
        "    train_y = train_y[shuffle]\n",
        "    if moneyness:\n",
        "        train_strike = train_strike[shuffle]\n",
        "\n",
        "    # Reshape data to fit LSTM\n",
        "    train_x = [train_x[0].reshape(len(train_x[0]), max_timesteps, 1), train_x[1]]\n",
        "    val_x = [val_x[0].reshape(len(val_x[0]), max_timesteps, 1), val_x[1]]\n",
        "    test_x = [test_x[0].reshape(len(test_x[0]), max_timesteps, 1), test_x[1]]\n",
        "\n",
        "    print(f'Train shape: {train_x[0].shape}, {train_x[1].shape}')\n",
        "    print(f'Val shape: {val_x[0].shape}, {val_x[1].shape}')\n",
        "    print(f'Test shape: {test_x[0].shape}, {test_x[1].shape}')\n",
        "\n",
        "    if moneyness:\n",
        "        return train_x, train_y, val_x, val_y, test_x, test_y, train_start, val_start, test_start, df_test, train_strike, val_strike, test_strike,\n",
        "    return train_x, train_y, val_x, val_y, test_x, test_y, train_start, val_start, test_start, df_test\n",
        "\n",
        "# Create the dataset for the first rolling window period\n",
        "if moneyness:\n",
        "    train_x, train_y, val_x, val_y, test_x, test_y, train_start, val_start, test_start, df_test, train_strike, val_strike, test_strike = create_rw_dataset()\n",
        "else:\n",
        "    train_x, train_y, val_x, val_y, test_x, test_y, train_start, val_start, test_start, df_test = create_rw_dataset()"
      ]
    },
    {
      "cell_type": "markdown",
      "metadata": {
        "id": "inutSrd8Tnko"
      },
      "source": [
        "# Model construction"
      ]
    },
    {
      "cell_type": "code",
      "execution_count": null,
      "metadata": {
        "id": "gewRG-rHTnkp"
      },
      "outputs": [],
      "source": [
        "def create_model(config):\n",
        "    '''Builds an LSTM-MLP model of minimum 2 layers sequentially from a given config dictionary'''\n",
        "\n",
        "    # Input layers\n",
        "    underlying_history = Input((config.LSTM_timesteps,1))\n",
        "    bs_vars = Input((config.Num_features,))\n",
        "\n",
        "    # LSTM layers\n",
        "    model = Sequential()\n",
        "\n",
        "    model.add(LSTM(\n",
        "        units = config.LSTM_units,\n",
        "        activation = tanh,\n",
        "        input_shape = (config.LSTM_timesteps, 1),\n",
        "        return_sequences = True\n",
        "    ))\n",
        "\n",
        "    for _ in range(config.LSTM_layers - 2):\n",
        "        model.add(LSTM(\n",
        "            units = config.LSTM_units,\n",
        "            activation = tanh,\n",
        "            return_sequences = True\n",
        "        ))\n",
        "    \n",
        "    model.add(LSTM(\n",
        "        units = config.Interface_units,\n",
        "        activation = tanh,\n",
        "        return_sequences = False\n",
        "    ))\n",
        "\n",
        "    # MLP layers\n",
        "    layers = Concatenate()([model(underlying_history), model(underlying_history), model(underlying_history), model(underlying_history), model(underlying_history), bs_vars])\n",
        "    \n",
        "    for _ in range(config.MLP_layers - 1):\n",
        "        layers = Dense(config.MLP_units)(layers)\n",
        "        layers = BatchNormalization(momentum=config.Bn_momentum)(layers)\n",
        "        layers = LeakyReLU()(layers)\n",
        "\n",
        "    output = Dense(1, activation='relu')(layers)\n",
        "\n",
        "    # Exponential decaying learning rate\n",
        "    lr_schedule = ExponentialDecay(\n",
        "        initial_learning_rate = config.Lr,\n",
        "        decay_steps = int(len(train_x[0])/config.Minibatch_size),\n",
        "        decay_rate=config.Lr_decay\n",
        "    )\n",
        "\n",
        "    # Compile model\n",
        "    model = Model(inputs=[underlying_history, bs_vars], outputs=output)\n",
        "    model.compile(loss='mse', optimizer=Adam(learning_rate=lr_schedule))\n",
        "\n",
        "    model.summary()\n",
        "    return model"
      ]
    },
    {
      "cell_type": "markdown",
      "metadata": {
        "id": "Rqno7WFBTnkp"
      },
      "source": [
        "# Hyperparameter search setup"
      ]
    },
    {
      "cell_type": "code",
      "execution_count": null,
      "metadata": {
        "colab": {
          "base_uri": "https://localhost:8080/"
        },
        "id": "__KmrL9HTnkp",
        "outputId": "8fabc307-76c4-4345-b27d-dfc2a190d1a5"
      },
      "outputs": [
        {
          "name": "stderr",
          "output_type": "stream",
          "text": [
            "\u001b[34m\u001b[1mwandb\u001b[0m: \u001b[33mWARNING\u001b[0m Malformed sweep config detected! This may cause your sweep to behave in unexpected ways.\n",
            "\u001b[34m\u001b[1mwandb\u001b[0m: \u001b[33mWARNING\u001b[0m To avoid this, please fix the sweep config schema violations below:\n",
            "\u001b[34m\u001b[1mwandb\u001b[0m: \u001b[33mWARNING\u001b[0m   Violation 1. Lr uses log_uniform, where min/max specify base-e exponents. Use log_uniform_values to specify limit values.\n",
            "\u001b[34m\u001b[1mwandb\u001b[0m: \u001b[33mWARNING\u001b[0m   Violation 2. Lr_decay uses log_uniform, where min/max specify base-e exponents. Use log_uniform_values to specify limit values.\n"
          ]
        },
        {
          "name": "stdout",
          "output_type": "stream",
          "text": [
            "Create sweep with ID: 0z824bm2\n",
            "Sweep URL: https://wandb.ai/avogadro/Deep%20learning%20for%20option%20pricing%20-%20test%20area/sweeps/0z824bm2\n"
          ]
        }
      ],
      "source": [
        "# Configuring the sweep hyperparameter search space\n",
        "sweep_configuration = {\n",
        "    'method': 'bayes',\n",
        "    'name': 'LSTM-MLP v4.0: fix nan issue',\n",
        "    'metric': {\n",
        "        'goal': 'minimize', \n",
        "        'name': 'val_loss'\n",
        "\t\t},\n",
        "    'parameters': {\n",
        "        'LSTM_units': {\n",
        "            'values': [4, 8, 16, 32]},\n",
        "        'Interface_units': {\n",
        "            'values': [4, 8, 16, 32]},\n",
        "        'MLP_units': {\n",
        "            'values': [50, 100, 200, 400, 600]},\n",
        "        'LSTM_timesteps': {\n",
        "            'values': [10, 20, 40, 60, 90, 150]},\n",
        "        'LSTM_layers': {\n",
        "            'distribution': 'int_uniform',\n",
        "            'max': 8, 'min': 2},\n",
        "        'MLP_layers': {\n",
        "            'distribution': 'int_uniform',\n",
        "            'max': 8, 'min': 2},\n",
        "        'Bn_momentum': {\n",
        "            'values': [0.1, 0.4, 0.7, 0.99]},\n",
        "        'Lr': {\n",
        "            'distribution': 'log_uniform',\n",
        "            'max': log(0.1), 'min': log(0.0001)},\n",
        "        'Lr_decay': {\n",
        "            'distribution': 'log_uniform',\n",
        "            'max': log(1), 'min': log(0.8)},        \n",
        "        'Minibatch_size': {\n",
        "            'value': 4096},\n",
        "        'Min_delta': {\n",
        "            'value': 0.01 if moneyness else 1},\n",
        "        'Patience': {\n",
        "            'value': 20},\n",
        "        'Num_features': {\n",
        "            'value': 3 if moneyness else 4},\n",
        "    }\n",
        "}\n",
        "\n",
        "# Initialize sweep and creating sweepID\n",
        "\n",
        "# If new sweep, uncomment the line below and comment the line after it\n",
        "sweep_id = wandb.sweep(sweep=sweep_configuration, project='Deep learning for option pricing - test area') \n",
        "#sweep_id = '98bxt6oq'"
      ]
    },
    {
      "cell_type": "markdown",
      "metadata": {
        "id": "AogdJkrRTnkq"
      },
      "source": [
        "# Run hyperparameter search"
      ]
    },
    {
      "cell_type": "code",
      "execution_count": null,
      "metadata": {
        "id": "67l6iqWdTnkq"
      },
      "outputs": [],
      "source": [
        "#WIP\n",
        "class MSE_LossCallback(Callback):\n",
        "    def __init__(self, train_x, train_y, train_strike, val_x, val_y, val_strike):\n",
        "        self.train_x = train_x\n",
        "        self.train_y = train_y\n",
        "        self.train_strike = train_strike\n",
        "        self.val_x = val_x\n",
        "        self.val_y = val_y\n",
        "        self.val_strike = val_strike\n",
        "    \n",
        "    def on_epoch_end(self, epoch, logs={}):\n",
        "        train_pred = self.model(train_x)\n",
        "        val_pred = self.model(val_x)\n",
        "\n",
        "        train_mse = reduce_mean(square(multiply(train_pred[:,0] - self.train_y, self.train_strike)))\n",
        "        val_mse = reduce_mean(square(multiply(val_pred[:,0] - self.val_y, self.val_strike)))\n",
        "\n",
        "        print(f' Training scaled MSE: {train_mse}, Validation scaled MSE: {val_mse}')\n"
      ]
    },
    {
      "cell_type": "code",
      "execution_count": null,
      "metadata": {
        "id": "5ogZE0y_Tnkq"
      },
      "outputs": [],
      "source": [
        "# Calculate the training and validation MSE loss on the actual option price when using price/strike as the target\n",
        "def MSE_loss(model, train_x, train_y, train_strike, val_x, val_y, val_strike):\n",
        "    train_pred = model(train_x)\n",
        "    val_pred = model(val_x)\n",
        "\n",
        "    train_mse = reduce_mean(square((train_pred[:,0] - train_y)*train_strike))\n",
        "    val_mse = reduce_mean(square((val_pred[:,0] - val_y)*val_strike))\n",
        "\n",
        "    print(f' Training scaled MSE: {train_mse}, Validation scaled MSE: {val_mse}')"
      ]
    },
    {
      "cell_type": "code",
      "execution_count": null,
      "metadata": {
        "id": "xf-ICRDKTnkr"
      },
      "outputs": [],
      "source": [
        "import gc\n",
        "from tensorflow.keras import backend as k\n",
        "\n",
        "class ClearMemory(Callback):\n",
        "    def on_epoch_end(self, epoch, logs=None):\n",
        "        gc.collect()\n",
        "        k.clear_session()"
      ]
    },
    {
      "cell_type": "markdown",
      "metadata": {
        "id": "v4CRxFJrTnkr"
      },
      "source": [
        "## Creating trainer function"
      ]
    },
    {
      "cell_type": "code",
      "execution_count": null,
      "metadata": {
        "id": "EZsaCBmrTnkr"
      },
      "outputs": [],
      "source": [
        "def trainer(train_x = train_x, train_y = train_y, val_x = val_x, val_y = val_y, config = None, project = None, checkpoint_path = None):\n",
        "    # Initialize a new wandb run\n",
        "    with wandb.init(config=config, project = project):\n",
        "\n",
        "        # If called by wandb.agent, as below,\n",
        "        # this config will be set by Sweep Controller\n",
        "        config = wandb.config\n",
        "\n",
        "        # Build model and create callbacks\n",
        "        model = create_model(config)\n",
        "\n",
        "        early_stopping = EarlyStopping(\n",
        "            monitor='val_loss',\n",
        "            mode='min',\n",
        "            min_delta = config.Min_delta,\n",
        "            patience = config.Patience,\n",
        "        )\n",
        "        \n",
        "        wandb_callback = WandbCallback(\n",
        "            monitor='val_loss',\n",
        "            mode='min',\n",
        "            save_model=False\n",
        "        )\n",
        "        \n",
        "        # Check if the checkpoint folder exists\n",
        "        if checkpoint_path and not os.path.exists(checkpoint_path):\n",
        "            # Create the checkpoint folder if it does not exist\n",
        "            os.makedirs(checkpoint_path)\n",
        "        \n",
        "        checkpoint = ModelCheckpoint(\n",
        "            filepath=checkpoint_path + \".h5\",\n",
        "            monitor='val_loss',\n",
        "            mode='min',\n",
        "            save_best_only=True,\n",
        "            save_weights_only=False\n",
        "        )\n",
        "\n",
        "        # Adapt sequence length to config\n",
        "        train_x_adjusted = [train_x[0][:, :config.LSTM_timesteps, :], train_x[1]]\n",
        "        val_x_adjusted = [val_x[0][:, :config.LSTM_timesteps, :], val_x[1]]\n",
        "        print(f'Train shape: {train_x_adjusted[0].shape}, {train_x_adjusted[0].shape}')\n",
        "        print(f'Val shape: {val_x_adjusted[0].shape}, {val_x_adjusted[0].shape}')\n",
        "\n",
        "        # Train model\n",
        "        model.fit(\n",
        "            train_x_adjusted,\n",
        "            train_y,\n",
        "            batch_size = config.Minibatch_size,\n",
        "            validation_data = (val_x_adjusted, val_y),\n",
        "            epochs = 1000,\n",
        "            callbacks = [early_stopping, wandb_callback, checkpoint, ClearMemory()] if checkpoint_path else [early_stopping, wandb_callback, ClearMemory()],\n",
        "        )\n",
        "\n",
        "        if moneyness:\n",
        "            MSE_loss(model, train_x, train_y, train_strike, val_x, val_y, val_strike)"
      ]
    },
    {
      "cell_type": "markdown",
      "metadata": {
        "id": "CQyg6eZKTnkr"
      },
      "source": [
        "### Run full sweep"
      ]
    },
    {
      "cell_type": "code",
      "execution_count": null,
      "metadata": {
        "id": "mC5YLKBTTnks"
      },
      "outputs": [],
      "source": [
        "#wandb.agent(sweep_id=sweep_id, function=trainer, project='Deep learning for option pricing - test area', count = 100)"
      ]
    },
    {
      "cell_type": "markdown",
      "metadata": {
        "id": "EuuoYP4ITnks"
      },
      "source": [
        "### Single run"
      ]
    },
    {
      "cell_type": "markdown",
      "metadata": {
        "id": "zaS4BiSNTnks"
      },
      "source": [
        "# Rolling window"
      ]
    },
    {
      "cell_type": "code",
      "execution_count": null,
      "metadata": {
        "id": "ifDAjXS3Tnks"
      },
      "outputs": [],
      "source": [
        "def calculate_error(predictions, original):\n",
        "    m = MeanSquaredError()\n",
        "    m.update_state(predictions, original)\n",
        "    print(\"MSE:\", m.result().numpy())\n",
        "    m = RootMeanSquaredError()\n",
        "    m.update_state(predictions, original)\n",
        "    print(\"RMSE:\", m.result().numpy())\n",
        "\n",
        "class config_object:\n",
        "    def __init__(self, config):\n",
        "        self.LSTM_units = config['LSTM_units']\n",
        "        self.Interface_units = config['Interface_units']\n",
        "        self.MLP_units = config['MLP_units']\n",
        "        self.LSTM_timesteps = config['LSTM_timesteps']\n",
        "        self.LSTM_layers = config['LSTM_layers']\n",
        "        self.MLP_layers = config['MLP_layers']\n",
        "        self.Bn_momentum = config['Bn_momentum']\n",
        "        self.Lr = config['Lr']\n",
        "        self.Lr_decay = config['Lr_decay']\n",
        "        self.Minibatch_size = config['Minibatch_size']\n",
        "        self.Min_delta = config['Min_delta']\n",
        "        self.Patience = config['Patience']\n",
        "        self.Num_features = config['Num_features']\n",
        "        self.Architecture = config['Architecture']\n",
        "        "
      ]
    },
    {
      "cell_type": "code",
      "execution_count": null,
      "metadata": {
        "colab": {
          "background_save": true,
          "base_uri": "https://localhost:8080/",
          "height": 1000,
          "referenced_widgets": [
            "e885010a52b349a4adf1e6e6f53a0aee",
            "9b1bbef824334937b89911cb0f14414c",
            "3128f2c32010427db498a5a1d409c1e7",
            "9097033c1b244ba58cba28d6588f2202",
            "716a1eb0d07944fe8656175f133ce114",
            "97a4ce43a4034c8c893902350b1c7837",
            "71f449accb084eecbe712c452174fcad",
            "c1482a18d9324d78b93fd8b729393e82",
            "c3aee750b61f43e3a076a1ffade5179f",
            "4e35f76f1bae47c2820370b44e3cecf5",
            "9fd7e27e0ebc4889be24e147f5d7d488",
            "90c9319e55e54b78a928f3f70c20ba82",
            "5c77bfaa37df4863ae1ee8b5c310a429",
            "6ab5c9390a44440994aea99a753b4826",
            "333c8397f5bc4bef88d3471b534e6488",
            "e54ecd6b360c47c89a2c92a2c7bc34af",
            "672f85a80d64497e860f80b159af0a44",
            "bdbe1a20589244f19e47322db4799fcf"
          ]
        },
        "id": "lRV8wlklTnks",
        "outputId": "03c0015b-68b8-4277-894d-88499763bdce"
      },
      "outputs": [
        {
          "name": "stdout",
          "output_type": "stream",
          "text": [
            "Drive already mounted at /content/drive; to attempt to forcibly remount, call drive.mount(\"/content/drive\", force_remount=True).\n",
            "Train shape: (268651, 10, 1), (268651, 4)\n",
            "Val shape: (14139, 10, 1), (14139, 4)\n",
            "Test shape: (23128, 10, 1), (23128, 4)\n"
          ]
        },
        {
          "data": {
            "text/html": [
              "Changes to your `wandb` environment variables will be ignored because your `wandb` session has already started. For more information on how to modify your settings with `wandb.init()` arguments, please refer to <a href='https://wandb.me/wandb-init' target=\"_blank\">the W&B docs</a>."
            ],
            "text/plain": [
              "<IPython.core.display.HTML object>"
            ]
          },
          "metadata": {},
          "output_type": "display_data"
        },
        {
          "data": {
            "text/html": [
              "Tracking run with wandb version 0.14.2"
            ],
            "text/plain": [
              "<IPython.core.display.HTML object>"
            ]
          },
          "metadata": {},
          "output_type": "display_data"
        },
        {
          "data": {
            "text/html": [
              "Run data is saved locally in <code>/content/wandb/run-20230413_155737-ht8ad5uv</code>"
            ],
            "text/plain": [
              "<IPython.core.display.HTML object>"
            ]
          },
          "metadata": {},
          "output_type": "display_data"
        },
        {
          "data": {
            "text/html": [
              "Syncing run <strong><a href='https://wandb.ai/avogadro/Deep%20learning%20for%20option%20pricing%20-%20rolling%20windows/runs/ht8ad5uv' target=\"_blank\">olive-paper-187</a></strong> to <a href='https://wandb.ai/avogadro/Deep%20learning%20for%20option%20pricing%20-%20rolling%20windows' target=\"_blank\">Weights & Biases</a> (<a href='https://wandb.me/run' target=\"_blank\">docs</a>)<br/>"
            ],
            "text/plain": [
              "<IPython.core.display.HTML object>"
            ]
          },
          "metadata": {},
          "output_type": "display_data"
        },
        {
          "data": {
            "text/html": [
              " View project at <a href='https://wandb.ai/avogadro/Deep%20learning%20for%20option%20pricing%20-%20rolling%20windows' target=\"_blank\">https://wandb.ai/avogadro/Deep%20learning%20for%20option%20pricing%20-%20rolling%20windows</a>"
            ],
            "text/plain": [
              "<IPython.core.display.HTML object>"
            ]
          },
          "metadata": {},
          "output_type": "display_data"
        },
        {
          "data": {
            "text/html": [
              " View run at <a href='https://wandb.ai/avogadro/Deep%20learning%20for%20option%20pricing%20-%20rolling%20windows/runs/ht8ad5uv' target=\"_blank\">https://wandb.ai/avogadro/Deep%20learning%20for%20option%20pricing%20-%20rolling%20windows/runs/ht8ad5uv</a>"
            ],
            "text/plain": [
              "<IPython.core.display.HTML object>"
            ]
          },
          "metadata": {},
          "output_type": "display_data"
        },
        {
          "name": "stdout",
          "output_type": "stream",
          "text": [
            "Model: \"model\"\n",
            "__________________________________________________________________________________________________\n",
            " Layer (type)                   Output Shape         Param #     Connected to                     \n",
            "==================================================================================================\n",
            " input_1 (InputLayer)           [(None, 10, 1)]      0           []                               \n",
            "                                                                                                  \n",
            " sequential (Sequential)        (None, 16)           2016        ['input_1[0][0]',                \n",
            "                                                                  'input_1[0][0]',                \n",
            "                                                                  'input_1[0][0]',                \n",
            "                                                                  'input_1[0][0]',                \n",
            "                                                                  'input_1[0][0]']                \n",
            "                                                                                                  \n",
            " input_2 (InputLayer)           [(None, 4)]          0           []                               \n",
            "                                                                                                  \n",
            " concatenate (Concatenate)      (None, 84)           0           ['sequential[0][0]',             \n",
            "                                                                  'sequential[1][0]',             \n",
            "                                                                  'sequential[2][0]',             \n",
            "                                                                  'sequential[3][0]',             \n",
            "                                                                  'sequential[4][0]',             \n",
            "                                                                  'input_2[0][0]']                \n",
            "                                                                                                  \n",
            " dense (Dense)                  (None, 600)          51000       ['concatenate[0][0]']            \n",
            "                                                                                                  \n",
            " batch_normalization (BatchNorm  (None, 600)         2400        ['dense[0][0]']                  \n",
            " alization)                                                                                       \n",
            "                                                                                                  \n",
            " leaky_re_lu (LeakyReLU)        (None, 600)          0           ['batch_normalization[0][0]']    \n",
            "                                                                                                  \n",
            " dense_1 (Dense)                (None, 600)          360600      ['leaky_re_lu[0][0]']            \n",
            "                                                                                                  \n",
            " batch_normalization_1 (BatchNo  (None, 600)         2400        ['dense_1[0][0]']                \n",
            " rmalization)                                                                                     \n",
            "                                                                                                  \n",
            " leaky_re_lu_1 (LeakyReLU)      (None, 600)          0           ['batch_normalization_1[0][0]']  \n",
            "                                                                                                  \n",
            " dense_2 (Dense)                (None, 600)          360600      ['leaky_re_lu_1[0][0]']          \n",
            "                                                                                                  \n",
            " batch_normalization_2 (BatchNo  (None, 600)         2400        ['dense_2[0][0]']                \n",
            " rmalization)                                                                                     \n",
            "                                                                                                  \n",
            " leaky_re_lu_2 (LeakyReLU)      (None, 600)          0           ['batch_normalization_2[0][0]']  \n",
            "                                                                                                  \n",
            " dense_3 (Dense)                (None, 600)          360600      ['leaky_re_lu_2[0][0]']          \n",
            "                                                                                                  \n",
            " batch_normalization_3 (BatchNo  (None, 600)         2400        ['dense_3[0][0]']                \n",
            " rmalization)                                                                                     \n",
            "                                                                                                  \n",
            " leaky_re_lu_3 (LeakyReLU)      (None, 600)          0           ['batch_normalization_3[0][0]']  \n",
            "                                                                                                  \n",
            " dense_4 (Dense)                (None, 600)          360600      ['leaky_re_lu_3[0][0]']          \n",
            "                                                                                                  \n",
            " batch_normalization_4 (BatchNo  (None, 600)         2400        ['dense_4[0][0]']                \n",
            " rmalization)                                                                                     \n",
            "                                                                                                  \n",
            " leaky_re_lu_4 (LeakyReLU)      (None, 600)          0           ['batch_normalization_4[0][0]']  \n",
            "                                                                                                  \n",
            " dense_5 (Dense)                (None, 600)          360600      ['leaky_re_lu_4[0][0]']          \n",
            "                                                                                                  \n",
            " batch_normalization_5 (BatchNo  (None, 600)         2400        ['dense_5[0][0]']                \n",
            " rmalization)                                                                                     \n",
            "                                                                                                  \n",
            " leaky_re_lu_5 (LeakyReLU)      (None, 600)          0           ['batch_normalization_5[0][0]']  \n",
            "                                                                                                  \n",
            " dense_6 (Dense)                (None, 1)            601         ['leaky_re_lu_5[0][0]']          \n",
            "                                                                                                  \n",
            "==================================================================================================\n",
            "Total params: 1,871,017\n",
            "Trainable params: 1,863,817\n",
            "Non-trainable params: 7,200\n",
            "__________________________________________________________________________________________________\n",
            "Train shape: (268651, 10, 1), (268651, 10, 1)\n",
            "Val shape: (14139, 10, 1), (14139, 10, 1)\n",
            "Epoch 1/1000\n",
            "66/66 [==============================] - 57s 233ms/step - loss: 118116.9219 - val_loss: 134110.2031\n",
            "Epoch 2/1000\n",
            "66/66 [==============================] - 11s 94ms/step - loss: 32298.1621 - val_loss: 53224.7617\n",
            "Epoch 3/1000\n",
            "66/66 [==============================] - 11s 91ms/step - loss: 3870.7510 - val_loss: 65663.3203\n",
            "Epoch 4/1000\n",
            "66/66 [==============================] - 11s 93ms/step - loss: 615.8372 - val_loss: 62997.5000\n",
            "Epoch 5/1000\n",
            "66/66 [==============================] - 12s 106ms/step - loss: 203.2104 - val_loss: 48332.6250\n",
            "Epoch 6/1000\n",
            "66/66 [==============================] - 11s 94ms/step - loss: 141.5244 - val_loss: 36059.8633\n",
            "Epoch 7/1000\n",
            "66/66 [==============================] - 11s 95ms/step - loss: 111.9708 - val_loss: 23070.3906\n",
            "Epoch 8/1000\n",
            "66/66 [==============================] - 12s 109ms/step - loss: 89.7393 - val_loss: 14759.7178\n",
            "Epoch 9/1000\n",
            "66/66 [==============================] - 12s 96ms/step - loss: 78.0614 - val_loss: 7568.2432\n",
            "Epoch 10/1000\n",
            "66/66 [==============================] - 12s 95ms/step - loss: 70.4876 - val_loss: 3843.7688\n",
            "Epoch 11/1000\n",
            "66/66 [==============================] - 11s 94ms/step - loss: 66.0707 - val_loss: 1008.6644\n",
            "Epoch 12/1000\n",
            "66/66 [==============================] - 11s 93ms/step - loss: 59.6596 - val_loss: 359.4274\n",
            "Epoch 13/1000\n",
            "66/66 [==============================] - 12s 108ms/step - loss: 51.7234 - val_loss: 82.2471\n",
            "Epoch 14/1000\n",
            "66/66 [==============================] - 11s 93ms/step - loss: 56.1035 - val_loss: 169.1304\n",
            "Epoch 15/1000\n",
            "66/66 [==============================] - 12s 106ms/step - loss: 56.3274 - val_loss: 72.7860\n",
            "Epoch 16/1000\n",
            "66/66 [==============================] - 11s 92ms/step - loss: 51.3919 - val_loss: 356.9846\n",
            "Epoch 17/1000\n",
            "66/66 [==============================] - 11s 92ms/step - loss: 51.3948 - val_loss: 153.3282\n",
            "Epoch 18/1000\n",
            "66/66 [==============================] - 11s 93ms/step - loss: 50.1176 - val_loss: 108.3212\n",
            "Epoch 19/1000\n",
            "66/66 [==============================] - 11s 93ms/step - loss: 43.0927 - val_loss: 132.0300\n",
            "Epoch 20/1000\n",
            "66/66 [==============================] - 11s 93ms/step - loss: 44.6583 - val_loss: 91.0551\n",
            "Epoch 21/1000\n",
            "66/66 [==============================] - 11s 93ms/step - loss: 45.8788 - val_loss: 98.5297\n",
            "Epoch 22/1000\n",
            "66/66 [==============================] - 11s 92ms/step - loss: 43.5560 - val_loss: 74.0540\n",
            "Epoch 23/1000\n",
            "66/66 [==============================] - 12s 106ms/step - loss: 40.8375 - val_loss: 68.1799\n",
            "Epoch 24/1000\n",
            "66/66 [==============================] - 12s 95ms/step - loss: 39.0494 - val_loss: 59.4079\n",
            "Epoch 25/1000\n",
            "66/66 [==============================] - 12s 96ms/step - loss: 40.0779 - val_loss: 51.5376\n",
            "Epoch 26/1000\n",
            "66/66 [==============================] - 11s 92ms/step - loss: 46.2229 - val_loss: 52.4785\n",
            "Epoch 27/1000\n",
            "66/66 [==============================] - 11s 92ms/step - loss: 41.6112 - val_loss: 64.1009\n",
            "Epoch 28/1000\n",
            "66/66 [==============================] - 12s 107ms/step - loss: 45.9738 - val_loss: 51.2280\n",
            "Epoch 29/1000\n",
            "66/66 [==============================] - 11s 92ms/step - loss: 39.8961 - val_loss: 54.9325\n",
            "Epoch 30/1000\n",
            "66/66 [==============================] - 11s 94ms/step - loss: 39.9443 - val_loss: 57.6069\n",
            "Epoch 31/1000\n",
            "66/66 [==============================] - 11s 94ms/step - loss: 35.1687 - val_loss: 57.7579\n",
            "Epoch 32/1000\n",
            "66/66 [==============================] - 11s 92ms/step - loss: 42.7012 - val_loss: 59.5107\n",
            "Epoch 33/1000\n",
            "66/66 [==============================] - 11s 91ms/step - loss: 38.9881 - val_loss: 62.7074\n",
            "Epoch 34/1000\n",
            "66/66 [==============================] - 11s 91ms/step - loss: 38.8033 - val_loss: 61.5843\n",
            "Epoch 35/1000\n",
            "66/66 [==============================] - 11s 93ms/step - loss: 41.8149 - val_loss: 64.1259\n",
            "Epoch 36/1000\n",
            "66/66 [==============================] - 12s 94ms/step - loss: 43.7713 - val_loss: 61.3718\n",
            "Epoch 37/1000\n",
            "66/66 [==============================] - 12s 95ms/step - loss: 46.7395 - val_loss: 60.7518\n",
            "Epoch 38/1000\n",
            "66/66 [==============================] - 11s 95ms/step - loss: 32.1683 - val_loss: 63.3604\n",
            "Epoch 39/1000\n",
            "66/66 [==============================] - 12s 95ms/step - loss: 38.4669 - val_loss: 61.5693\n",
            "Epoch 40/1000\n",
            "66/66 [==============================] - 11s 95ms/step - loss: 37.5447 - val_loss: 62.0783\n",
            "Epoch 41/1000\n",
            "66/66 [==============================] - 11s 92ms/step - loss: 38.2845 - val_loss: 62.5367\n",
            "Epoch 42/1000\n",
            "66/66 [==============================] - 11s 92ms/step - loss: 40.5989 - val_loss: 61.8776\n",
            "Epoch 43/1000\n",
            "66/66 [==============================] - 11s 93ms/step - loss: 41.6117 - val_loss: 63.2697\n",
            "Epoch 44/1000\n",
            "66/66 [==============================] - 11s 93ms/step - loss: 57.9129 - val_loss: 63.0813\n",
            "Epoch 45/1000\n",
            "66/66 [==============================] - 11s 92ms/step - loss: 42.2077 - val_loss: 62.9119\n"
          ]
        },
        {
          "data": {
            "text/html": [
              "Waiting for W&B process to finish... <strong style=\"color:green\">(success).</strong>"
            ],
            "text/plain": [
              "<IPython.core.display.HTML object>"
            ]
          },
          "metadata": {},
          "output_type": "display_data"
        },
        {
          "data": {
            "application/vnd.jupyter.widget-view+json": {
              "model_id": "e885010a52b349a4adf1e6e6f53a0aee",
              "version_major": 2,
              "version_minor": 0
            },
            "text/plain": [
              "VBox(children=(Label(value='0.006 MB of 0.022 MB uploaded (0.000 MB deduped)\\r'), FloatProgress(value=0.249022…"
            ]
          },
          "metadata": {},
          "output_type": "display_data"
        },
        {
          "data": {
            "text/html": [
              "<style>\n",
              "    table.wandb td:nth-child(1) { padding: 0 10px; text-align: left ; width: auto;} td:nth-child(2) {text-align: left ; width: 100%}\n",
              "    .wandb-row { display: flex; flex-direction: row; flex-wrap: wrap; justify-content: flex-start; width: 100% }\n",
              "    .wandb-col { display: flex; flex-direction: column; flex-basis: 100%; flex: 1; padding: 10px; }\n",
              "    </style>\n",
              "<div class=\"wandb-row\"><div class=\"wandb-col\"><h3>Run history:</h3><br/><table class=\"wandb\"><tr><td>epoch</td><td>▁▁▁▁▂▂▂▂▂▃▃▃▃▃▃▄▄▄▄▄▅▅▅▅▅▅▆▆▆▆▆▆▇▇▇▇▇███</td></tr><tr><td>loss</td><td>█▃▁▁▁▁▁▁▁▁▁▁▁▁▁▁▁▁▁▁▁▁▁▁▁▁▁▁▁▁▁▁▁▁▁▁▁▁▁▁</td></tr><tr><td>val_loss</td><td>█▄▄▄▄▃▂▂▁▁▁▁▁▁▁▁▁▁▁▁▁▁▁▁▁▁▁▁▁▁▁▁▁▁▁▁▁▁▁▁</td></tr></table><br/></div><div class=\"wandb-col\"><h3>Run summary:</h3><br/><table class=\"wandb\"><tr><td>best_epoch</td><td>27</td></tr><tr><td>best_val_loss</td><td>51.22803</td></tr><tr><td>epoch</td><td>44</td></tr><tr><td>loss</td><td>42.2077</td></tr><tr><td>val_loss</td><td>62.91189</td></tr></table><br/></div></div>"
            ],
            "text/plain": [
              "<IPython.core.display.HTML object>"
            ]
          },
          "metadata": {},
          "output_type": "display_data"
        },
        {
          "data": {
            "text/html": [
              " View run <strong style=\"color:#cdcd00\">olive-paper-187</strong> at: <a href='https://wandb.ai/avogadro/Deep%20learning%20for%20option%20pricing%20-%20rolling%20windows/runs/ht8ad5uv' target=\"_blank\">https://wandb.ai/avogadro/Deep%20learning%20for%20option%20pricing%20-%20rolling%20windows/runs/ht8ad5uv</a><br/>Synced 5 W&B file(s), 1 media file(s), 0 artifact file(s) and 0 other file(s)"
            ],
            "text/plain": [
              "<IPython.core.display.HTML object>"
            ]
          },
          "metadata": {},
          "output_type": "display_data"
        },
        {
          "data": {
            "text/html": [
              "Find logs at: <code>./wandb/run-20230413_155737-ht8ad5uv/logs</code>"
            ],
            "text/plain": [
              "<IPython.core.display.HTML object>"
            ]
          },
          "metadata": {},
          "output_type": "display_data"
        },
        {
          "name": "stdout",
          "output_type": "stream",
          "text": [
            "--- Predictions for test_start 2014-12-24 ---\n",
            "MSE: 40.85204\n",
            "RMSE: 6.39156\n",
            "-------------------------------------------\n",
            "Train shape: (273665, 10, 1), (273665, 4)\n",
            "Val shape: (11045, 10, 1), (11045, 4)\n",
            "Test shape: (24797, 10, 1), (24797, 4)\n"
          ]
        },
        {
          "data": {
            "text/html": [
              "Changes to your `wandb` environment variables will be ignored because your `wandb` session has already started. For more information on how to modify your settings with `wandb.init()` arguments, please refer to <a href='https://wandb.me/wandb-init' target=\"_blank\">the W&B docs</a>."
            ],
            "text/plain": [
              "<IPython.core.display.HTML object>"
            ]
          },
          "metadata": {},
          "output_type": "display_data"
        },
        {
          "data": {
            "text/html": [
              "Tracking run with wandb version 0.14.2"
            ],
            "text/plain": [
              "<IPython.core.display.HTML object>"
            ]
          },
          "metadata": {},
          "output_type": "display_data"
        },
        {
          "data": {
            "text/html": [
              "Run data is saved locally in <code>/content/wandb/run-20230413_160739-em4sm8hc</code>"
            ],
            "text/plain": [
              "<IPython.core.display.HTML object>"
            ]
          },
          "metadata": {},
          "output_type": "display_data"
        },
        {
          "data": {
            "text/html": [
              "Syncing run <strong><a href='https://wandb.ai/avogadro/Deep%20learning%20for%20option%20pricing%20-%20rolling%20windows/runs/em4sm8hc' target=\"_blank\">icy-feather-188</a></strong> to <a href='https://wandb.ai/avogadro/Deep%20learning%20for%20option%20pricing%20-%20rolling%20windows' target=\"_blank\">Weights & Biases</a> (<a href='https://wandb.me/run' target=\"_blank\">docs</a>)<br/>"
            ],
            "text/plain": [
              "<IPython.core.display.HTML object>"
            ]
          },
          "metadata": {},
          "output_type": "display_data"
        },
        {
          "data": {
            "text/html": [
              " View project at <a href='https://wandb.ai/avogadro/Deep%20learning%20for%20option%20pricing%20-%20rolling%20windows' target=\"_blank\">https://wandb.ai/avogadro/Deep%20learning%20for%20option%20pricing%20-%20rolling%20windows</a>"
            ],
            "text/plain": [
              "<IPython.core.display.HTML object>"
            ]
          },
          "metadata": {},
          "output_type": "display_data"
        },
        {
          "data": {
            "text/html": [
              " View run at <a href='https://wandb.ai/avogadro/Deep%20learning%20for%20option%20pricing%20-%20rolling%20windows/runs/em4sm8hc' target=\"_blank\">https://wandb.ai/avogadro/Deep%20learning%20for%20option%20pricing%20-%20rolling%20windows/runs/em4sm8hc</a>"
            ],
            "text/plain": [
              "<IPython.core.display.HTML object>"
            ]
          },
          "metadata": {},
          "output_type": "display_data"
        },
        {
          "name": "stdout",
          "output_type": "stream",
          "text": [
            "Model: \"model\"\n",
            "__________________________________________________________________________________________________\n",
            " Layer (type)                   Output Shape         Param #     Connected to                     \n",
            "==================================================================================================\n",
            " input_1 (InputLayer)           [(None, 10, 1)]      0           []                               \n",
            "                                                                                                  \n",
            " sequential (Sequential)        (None, 16)           2016        ['input_1[0][0]',                \n",
            "                                                                  'input_1[0][0]',                \n",
            "                                                                  'input_1[0][0]',                \n",
            "                                                                  'input_1[0][0]',                \n",
            "                                                                  'input_1[0][0]']                \n",
            "                                                                                                  \n",
            " input_2 (InputLayer)           [(None, 4)]          0           []                               \n",
            "                                                                                                  \n",
            " concatenate (Concatenate)      (None, 84)           0           ['sequential[0][0]',             \n",
            "                                                                  'sequential[1][0]',             \n",
            "                                                                  'sequential[2][0]',             \n",
            "                                                                  'sequential[3][0]',             \n",
            "                                                                  'sequential[4][0]',             \n",
            "                                                                  'input_2[0][0]']                \n",
            "                                                                                                  \n",
            " dense (Dense)                  (None, 600)          51000       ['concatenate[0][0]']            \n",
            "                                                                                                  \n",
            " batch_normalization (BatchNorm  (None, 600)         2400        ['dense[0][0]']                  \n",
            " alization)                                                                                       \n",
            "                                                                                                  \n",
            " leaky_re_lu (LeakyReLU)        (None, 600)          0           ['batch_normalization[0][0]']    \n",
            "                                                                                                  \n",
            " dense_1 (Dense)                (None, 600)          360600      ['leaky_re_lu[0][0]']            \n",
            "                                                                                                  \n",
            " batch_normalization_1 (BatchNo  (None, 600)         2400        ['dense_1[0][0]']                \n",
            " rmalization)                                                                                     \n",
            "                                                                                                  \n",
            " leaky_re_lu_1 (LeakyReLU)      (None, 600)          0           ['batch_normalization_1[0][0]']  \n",
            "                                                                                                  \n",
            " dense_2 (Dense)                (None, 600)          360600      ['leaky_re_lu_1[0][0]']          \n",
            "                                                                                                  \n",
            " batch_normalization_2 (BatchNo  (None, 600)         2400        ['dense_2[0][0]']                \n",
            " rmalization)                                                                                     \n",
            "                                                                                                  \n",
            " leaky_re_lu_2 (LeakyReLU)      (None, 600)          0           ['batch_normalization_2[0][0]']  \n",
            "                                                                                                  \n",
            " dense_3 (Dense)                (None, 600)          360600      ['leaky_re_lu_2[0][0]']          \n",
            "                                                                                                  \n",
            " batch_normalization_3 (BatchNo  (None, 600)         2400        ['dense_3[0][0]']                \n",
            " rmalization)                                                                                     \n",
            "                                                                                                  \n",
            " leaky_re_lu_3 (LeakyReLU)      (None, 600)          0           ['batch_normalization_3[0][0]']  \n",
            "                                                                                                  \n",
            " dense_4 (Dense)                (None, 600)          360600      ['leaky_re_lu_3[0][0]']          \n",
            "                                                                                                  \n",
            " batch_normalization_4 (BatchNo  (None, 600)         2400        ['dense_4[0][0]']                \n",
            " rmalization)                                                                                     \n",
            "                                                                                                  \n",
            " leaky_re_lu_4 (LeakyReLU)      (None, 600)          0           ['batch_normalization_4[0][0]']  \n",
            "                                                                                                  \n",
            " dense_5 (Dense)                (None, 600)          360600      ['leaky_re_lu_4[0][0]']          \n",
            "                                                                                                  \n",
            " batch_normalization_5 (BatchNo  (None, 600)         2400        ['dense_5[0][0]']                \n",
            " rmalization)                                                                                     \n",
            "                                                                                                  \n",
            " leaky_re_lu_5 (LeakyReLU)      (None, 600)          0           ['batch_normalization_5[0][0]']  \n",
            "                                                                                                  \n",
            " dense_6 (Dense)                (None, 1)            601         ['leaky_re_lu_5[0][0]']          \n",
            "                                                                                                  \n",
            "==================================================================================================\n",
            "Total params: 1,871,017\n",
            "Trainable params: 1,863,817\n",
            "Non-trainable params: 7,200\n",
            "__________________________________________________________________________________________________\n",
            "Train shape: (268651, 10, 1), (268651, 10, 1)\n",
            "Val shape: (14139, 10, 1), (14139, 10, 1)\n",
            "Epoch 1/1000\n",
            "66/66 [==============================] - 54s 194ms/step - loss: 117031.7188 - val_loss: 144752.8906\n",
            "Epoch 2/1000\n",
            "66/66 [==============================] - 11s 94ms/step - loss: 30490.0684 - val_loss: 62061.7539\n",
            "Epoch 3/1000\n",
            "66/66 [==============================] - 11s 91ms/step - loss: 3352.2026 - val_loss: 86536.2734\n",
            "Epoch 4/1000\n",
            "66/66 [==============================] - 11s 92ms/step - loss: 539.1897 - val_loss: 66999.1641\n",
            "Epoch 5/1000\n",
            "66/66 [==============================] - 13s 122ms/step - loss: 225.2689 - val_loss: 44631.5195\n",
            "Epoch 6/1000\n",
            "66/66 [==============================] - 11s 96ms/step - loss: 123.3791 - val_loss: 35385.1680\n",
            "Epoch 7/1000\n",
            "66/66 [==============================] - 11s 95ms/step - loss: 124.5654 - val_loss: 22862.9375\n",
            "Epoch 8/1000\n",
            "66/66 [==============================] - 12s 107ms/step - loss: 81.3171 - val_loss: 13939.7568\n",
            "Epoch 9/1000\n",
            "66/66 [==============================] - 11s 94ms/step - loss: 70.9681 - val_loss: 10044.4170\n",
            "Epoch 10/1000\n",
            "66/66 [==============================] - 11s 97ms/step - loss: 64.5302 - val_loss: 5352.5161\n",
            "Epoch 11/1000\n",
            "66/66 [==============================] - 11s 96ms/step - loss: 64.1894 - val_loss: 5271.7446\n",
            "Epoch 12/1000\n",
            "66/66 [==============================] - 11s 95ms/step - loss: 106.9462 - val_loss: 2408.1260\n",
            "Epoch 13/1000\n",
            "66/66 [==============================] - 11s 92ms/step - loss: 61.4582 - val_loss: 3436.4331\n",
            "Epoch 14/1000\n",
            "66/66 [==============================] - 11s 92ms/step - loss: 62.6105 - val_loss: 6714.4634\n",
            "Epoch 15/1000\n",
            "66/66 [==============================] - 11s 92ms/step - loss: 61.3289 - val_loss: 2900.9526\n",
            "Epoch 16/1000\n",
            "66/66 [==============================] - 11s 92ms/step - loss: 49.6117 - val_loss: 16118.8008\n",
            "Epoch 17/1000\n",
            "66/66 [==============================] - 11s 92ms/step - loss: 49.3317 - val_loss: 5645.9292\n",
            "Epoch 18/1000\n",
            "66/66 [==============================] - 11s 92ms/step - loss: 53.2276 - val_loss: 4469.3154\n",
            "Epoch 19/1000\n",
            "66/66 [==============================] - 11s 93ms/step - loss: 42.6073 - val_loss: 5251.0020\n",
            "Epoch 20/1000\n",
            "66/66 [==============================] - 11s 94ms/step - loss: 48.4015 - val_loss: 4270.8452\n",
            "Epoch 21/1000\n",
            "66/66 [==============================] - 11s 94ms/step - loss: 49.5477 - val_loss: 3560.6746\n",
            "Epoch 22/1000\n",
            "66/66 [==============================] - 11s 92ms/step - loss: 42.3520 - val_loss: 2841.3743\n",
            "Epoch 23/1000\n",
            "66/66 [==============================] - 11s 93ms/step - loss: 42.4336 - val_loss: 3402.7693\n",
            "Epoch 24/1000\n",
            "66/66 [==============================] - 11s 91ms/step - loss: 45.7527 - val_loss: 2799.4419\n",
            "Epoch 25/1000\n",
            "66/66 [==============================] - 12s 104ms/step - loss: 43.5820 - val_loss: 2120.2708\n",
            "Epoch 26/1000\n",
            "66/66 [==============================] - 11s 94ms/step - loss: 44.0713 - val_loss: 1613.9072\n",
            "Epoch 27/1000\n",
            "66/66 [==============================] - 11s 94ms/step - loss: 43.1248 - val_loss: 1242.5873\n",
            "Epoch 28/1000\n",
            "66/66 [==============================] - 11s 95ms/step - loss: 36.6882 - val_loss: 1114.9452\n",
            "Epoch 29/1000\n",
            "66/66 [==============================] - 11s 96ms/step - loss: 46.8493 - val_loss: 882.9890\n",
            "Epoch 30/1000\n",
            "66/66 [==============================] - 11s 96ms/step - loss: 36.2664 - val_loss: 584.8943\n",
            "Epoch 31/1000\n",
            "66/66 [==============================] - 11s 96ms/step - loss: 37.5667 - val_loss: 409.8879\n",
            "Epoch 32/1000\n",
            "66/66 [==============================] - 12s 110ms/step - loss: 42.8906 - val_loss: 312.2691\n",
            "Epoch 33/1000\n",
            "66/66 [==============================] - 11s 94ms/step - loss: 38.8581 - val_loss: 223.7784\n",
            "Epoch 34/1000\n",
            "66/66 [==============================] - 11s 95ms/step - loss: 40.3057 - val_loss: 193.6618\n",
            "Epoch 35/1000\n",
            "66/66 [==============================] - 11s 96ms/step - loss: 46.4705 - val_loss: 139.6740\n",
            "Epoch 36/1000\n",
            "66/66 [==============================] - 11s 96ms/step - loss: 48.5573 - val_loss: 117.9416\n",
            "Epoch 37/1000\n",
            "66/66 [==============================] - 11s 97ms/step - loss: 41.6022 - val_loss: 89.0113\n",
            "Epoch 38/1000\n",
            "66/66 [==============================] - 11s 97ms/step - loss: 39.2088 - val_loss: 74.8144\n",
            "Epoch 39/1000\n",
            "66/66 [==============================] - 11s 97ms/step - loss: 45.4692 - val_loss: 65.3769\n",
            "Epoch 40/1000\n",
            "66/66 [==============================] - 12s 110ms/step - loss: 40.6240 - val_loss: 55.8887\n",
            "Epoch 41/1000\n",
            "66/66 [==============================] - 12s 97ms/step - loss: 39.0162 - val_loss: 51.0868\n",
            "Epoch 42/1000\n",
            "66/66 [==============================] - 11s 96ms/step - loss: 41.9600 - val_loss: 45.3430\n",
            "Epoch 43/1000\n",
            "66/66 [==============================] - 11s 94ms/step - loss: 42.5899 - val_loss: 42.9816\n",
            "Epoch 44/1000\n",
            "66/66 [==============================] - 11s 95ms/step - loss: 40.2915 - val_loss: 41.6547\n",
            "Epoch 45/1000\n",
            "66/66 [==============================] - 12s 111ms/step - loss: 40.4172 - val_loss: 39.9054\n",
            "Epoch 46/1000\n",
            "66/66 [==============================] - 11s 94ms/step - loss: 40.7195 - val_loss: 38.2551\n",
            "Epoch 47/1000\n",
            "66/66 [==============================] - 11s 96ms/step - loss: 43.8884 - val_loss: 36.8507\n",
            "Epoch 48/1000\n",
            "66/66 [==============================] - 11s 96ms/step - loss: 41.5813 - val_loss: 36.5016\n",
            "Epoch 49/1000\n",
            "66/66 [==============================] - 11s 96ms/step - loss: 38.4516 - val_loss: 36.2102\n",
            "Epoch 50/1000\n",
            "66/66 [==============================] - 11s 94ms/step - loss: 44.3606 - val_loss: 35.3740\n",
            "Epoch 51/1000\n",
            "66/66 [==============================] - 11s 96ms/step - loss: 43.1609 - val_loss: 34.8271\n",
            "Epoch 52/1000\n",
            "66/66 [==============================] - 11s 96ms/step - loss: 33.1491 - val_loss: 34.6191\n",
            "Epoch 53/1000\n",
            "66/66 [==============================] - 11s 91ms/step - loss: 38.9057 - val_loss: 34.6543\n",
            "Epoch 54/1000\n",
            "66/66 [==============================] - 12s 106ms/step - loss: 33.6157 - val_loss: 34.2634\n",
            "Epoch 55/1000\n",
            "66/66 [==============================] - 11s 92ms/step - loss: 38.6963 - val_loss: 34.2976\n",
            "Epoch 56/1000\n",
            "66/66 [==============================] - 12s 106ms/step - loss: 41.9814 - val_loss: 34.1226\n",
            "Epoch 57/1000\n",
            "66/66 [==============================] - 11s 93ms/step - loss: 43.0180 - val_loss: 34.1633\n",
            "Epoch 58/1000\n",
            "66/66 [==============================] - 11s 93ms/step - loss: 39.3037 - val_loss: 34.2119\n",
            "Epoch 59/1000\n",
            "66/66 [==============================] - 12s 109ms/step - loss: 37.5046 - val_loss: 33.9032\n",
            "Epoch 60/1000\n",
            "66/66 [==============================] - 11s 95ms/step - loss: 39.9781 - val_loss: 33.9846\n",
            "Epoch 61/1000\n",
            "66/66 [==============================] - 11s 94ms/step - loss: 40.4292 - val_loss: 33.9450\n",
            "Epoch 62/1000\n",
            "66/66 [==============================] - 11s 91ms/step - loss: 37.0044 - val_loss: 33.9849\n",
            "Epoch 63/1000\n",
            "66/66 [==============================] - 11s 91ms/step - loss: 44.6006 - val_loss: 33.9844\n",
            "Epoch 64/1000\n",
            "66/66 [==============================] - 11s 92ms/step - loss: 42.5076 - val_loss: 34.0885\n",
            "Epoch 65/1000\n",
            "66/66 [==============================] - 11s 93ms/step - loss: 37.5036 - val_loss: 33.9075\n",
            "Epoch 66/1000\n",
            "66/66 [==============================] - 11s 91ms/step - loss: 37.8762 - val_loss: 33.9904\n",
            "Epoch 67/1000\n",
            "66/66 [==============================] - 11s 92ms/step - loss: 44.4348 - val_loss: 34.2300\n",
            "Epoch 68/1000\n",
            "66/66 [==============================] - 11s 93ms/step - loss: 40.4052 - val_loss: 34.0939\n",
            "Epoch 69/1000\n",
            "66/66 [==============================] - 11s 92ms/step - loss: 44.5469 - val_loss: 34.2017\n",
            "Epoch 70/1000\n",
            "66/66 [==============================] - 11s 93ms/step - loss: 36.8555 - val_loss: 34.0352\n",
            "Epoch 71/1000\n",
            "66/66 [==============================] - 12s 107ms/step - loss: 35.0002 - val_loss: 33.8024\n",
            "Epoch 72/1000\n",
            "66/66 [==============================] - 11s 95ms/step - loss: 36.8965 - val_loss: 33.4207\n",
            "Epoch 73/1000\n",
            "66/66 [==============================] - 11s 90ms/step - loss: 36.4754 - val_loss: 33.4534\n",
            "Epoch 74/1000\n",
            "66/66 [==============================] - 12s 106ms/step - loss: 37.0088 - val_loss: 33.4089\n"
          ]
        },
        {
          "data": {
            "text/html": [
              "Waiting for W&B process to finish... <strong style=\"color:green\">(success).</strong>"
            ],
            "text/plain": [
              "<IPython.core.display.HTML object>"
            ]
          },
          "metadata": {},
          "output_type": "display_data"
        },
        {
          "data": {
            "application/vnd.jupyter.widget-view+json": {
              "model_id": "c3aee750b61f43e3a076a1ffade5179f",
              "version_major": 2,
              "version_minor": 0
            },
            "text/plain": [
              "VBox(children=(Label(value='0.006 MB of 0.006 MB uploaded (0.000 MB deduped)\\r'), FloatProgress(value=1.0, max…"
            ]
          },
          "metadata": {},
          "output_type": "display_data"
        },
        {
          "data": {
            "text/html": [
              "<style>\n",
              "    table.wandb td:nth-child(1) { padding: 0 10px; text-align: left ; width: auto;} td:nth-child(2) {text-align: left ; width: 100%}\n",
              "    .wandb-row { display: flex; flex-direction: row; flex-wrap: wrap; justify-content: flex-start; width: 100% }\n",
              "    .wandb-col { display: flex; flex-direction: column; flex-basis: 100%; flex: 1; padding: 10px; }\n",
              "    </style>\n",
              "<div class=\"wandb-row\"><div class=\"wandb-col\"><h3>Run history:</h3><br/><table class=\"wandb\"><tr><td>epoch</td><td>▁▁▁▁▂▂▂▂▂▃▃▃▃▃▃▄▄▄▄▄▅▅▅▅▅▅▆▆▆▆▆▇▇▇▇▇▇███</td></tr><tr><td>loss</td><td>█▃▁▁▁▁▁▁▁▁▁▁▁▁▁▁▁▁▁▁▁▁▁▁▁▁▁▁▁▁▁▁▁▁▁▁▁▁▁▁</td></tr><tr><td>val_loss</td><td>█▄▄▃▂▁▁▁▁▁▁▁▁▁▁▁▁▁▁▁▁▁▁▁▁▁▁▁▁▁▁▁▁▁▁▁▁▁▁▁</td></tr></table><br/></div><div class=\"wandb-col\"><h3>Run summary:</h3><br/><table class=\"wandb\"><tr><td>best_epoch</td><td>73</td></tr><tr><td>best_val_loss</td><td>33.40888</td></tr><tr><td>epoch</td><td>73</td></tr><tr><td>loss</td><td>37.00877</td></tr><tr><td>val_loss</td><td>33.40888</td></tr></table><br/></div></div>"
            ],
            "text/plain": [
              "<IPython.core.display.HTML object>"
            ]
          },
          "metadata": {},
          "output_type": "display_data"
        },
        {
          "data": {
            "text/html": [
              " View run <strong style=\"color:#cdcd00\">icy-feather-188</strong> at: <a href='https://wandb.ai/avogadro/Deep%20learning%20for%20option%20pricing%20-%20rolling%20windows/runs/em4sm8hc' target=\"_blank\">https://wandb.ai/avogadro/Deep%20learning%20for%20option%20pricing%20-%20rolling%20windows/runs/em4sm8hc</a><br/>Synced 5 W&B file(s), 1 media file(s), 0 artifact file(s) and 0 other file(s)"
            ],
            "text/plain": [
              "<IPython.core.display.HTML object>"
            ]
          },
          "metadata": {},
          "output_type": "display_data"
        },
        {
          "data": {
            "text/html": [
              "Find logs at: <code>./wandb/run-20230413_160739-em4sm8hc/logs</code>"
            ],
            "text/plain": [
              "<IPython.core.display.HTML object>"
            ]
          },
          "metadata": {},
          "output_type": "display_data"
        },
        {
          "name": "stdout",
          "output_type": "stream",
          "text": [
            "--- Predictions for test_start 2015-01-07 ---\n",
            "MSE: 206.92735\n",
            "RMSE: 14.38497\n",
            "-------------------------------------------\n",
            "Train shape: (278990, 10, 1), (278990, 4)\n",
            "Val shape: (10719, 10, 1), (10719, 4)\n",
            "Test shape: (28436, 10, 1), (28436, 4)\n"
          ]
        },
        {
          "data": {
            "text/html": [
              "Changes to your `wandb` environment variables will be ignored because your `wandb` session has already started. For more information on how to modify your settings with `wandb.init()` arguments, please refer to <a href='https://wandb.me/wandb-init' target=\"_blank\">the W&B docs</a>."
            ],
            "text/plain": [
              "<IPython.core.display.HTML object>"
            ]
          },
          "metadata": {},
          "output_type": "display_data"
        },
        {
          "data": {
            "text/html": [
              "Tracking run with wandb version 0.14.2"
            ],
            "text/plain": [
              "<IPython.core.display.HTML object>"
            ]
          },
          "metadata": {},
          "output_type": "display_data"
        },
        {
          "data": {
            "text/html": [
              "Run data is saved locally in <code>/content/wandb/run-20230413_162252-kjrrio53</code>"
            ],
            "text/plain": [
              "<IPython.core.display.HTML object>"
            ]
          },
          "metadata": {},
          "output_type": "display_data"
        },
        {
          "data": {
            "text/html": [
              "Syncing run <strong><a href='https://wandb.ai/avogadro/Deep%20learning%20for%20option%20pricing%20-%20rolling%20windows/runs/kjrrio53' target=\"_blank\">pious-star-190</a></strong> to <a href='https://wandb.ai/avogadro/Deep%20learning%20for%20option%20pricing%20-%20rolling%20windows' target=\"_blank\">Weights & Biases</a> (<a href='https://wandb.me/run' target=\"_blank\">docs</a>)<br/>"
            ],
            "text/plain": [
              "<IPython.core.display.HTML object>"
            ]
          },
          "metadata": {},
          "output_type": "display_data"
        },
        {
          "data": {
            "text/html": [
              " View project at <a href='https://wandb.ai/avogadro/Deep%20learning%20for%20option%20pricing%20-%20rolling%20windows' target=\"_blank\">https://wandb.ai/avogadro/Deep%20learning%20for%20option%20pricing%20-%20rolling%20windows</a>"
            ],
            "text/plain": [
              "<IPython.core.display.HTML object>"
            ]
          },
          "metadata": {},
          "output_type": "display_data"
        },
        {
          "data": {
            "text/html": [
              " View run at <a href='https://wandb.ai/avogadro/Deep%20learning%20for%20option%20pricing%20-%20rolling%20windows/runs/kjrrio53' target=\"_blank\">https://wandb.ai/avogadro/Deep%20learning%20for%20option%20pricing%20-%20rolling%20windows/runs/kjrrio53</a>"
            ],
            "text/plain": [
              "<IPython.core.display.HTML object>"
            ]
          },
          "metadata": {},
          "output_type": "display_data"
        },
        {
          "name": "stdout",
          "output_type": "stream",
          "text": [
            "Model: \"model\"\n",
            "__________________________________________________________________________________________________\n",
            " Layer (type)                   Output Shape         Param #     Connected to                     \n",
            "==================================================================================================\n",
            " input_1 (InputLayer)           [(None, 10, 1)]      0           []                               \n",
            "                                                                                                  \n",
            " sequential (Sequential)        (None, 16)           2016        ['input_1[0][0]',                \n",
            "                                                                  'input_1[0][0]',                \n",
            "                                                                  'input_1[0][0]',                \n",
            "                                                                  'input_1[0][0]',                \n",
            "                                                                  'input_1[0][0]']                \n",
            "                                                                                                  \n",
            " input_2 (InputLayer)           [(None, 4)]          0           []                               \n",
            "                                                                                                  \n",
            " concatenate (Concatenate)      (None, 84)           0           ['sequential[0][0]',             \n",
            "                                                                  'sequential[1][0]',             \n",
            "                                                                  'sequential[2][0]',             \n",
            "                                                                  'sequential[3][0]',             \n",
            "                                                                  'sequential[4][0]',             \n",
            "                                                                  'input_2[0][0]']                \n",
            "                                                                                                  \n",
            " dense (Dense)                  (None, 600)          51000       ['concatenate[0][0]']            \n",
            "                                                                                                  \n",
            " batch_normalization (BatchNorm  (None, 600)         2400        ['dense[0][0]']                  \n",
            " alization)                                                                                       \n",
            "                                                                                                  \n",
            " leaky_re_lu (LeakyReLU)        (None, 600)          0           ['batch_normalization[0][0]']    \n",
            "                                                                                                  \n",
            " dense_1 (Dense)                (None, 600)          360600      ['leaky_re_lu[0][0]']            \n",
            "                                                                                                  \n",
            " batch_normalization_1 (BatchNo  (None, 600)         2400        ['dense_1[0][0]']                \n",
            " rmalization)                                                                                     \n",
            "                                                                                                  \n",
            " leaky_re_lu_1 (LeakyReLU)      (None, 600)          0           ['batch_normalization_1[0][0]']  \n",
            "                                                                                                  \n",
            " dense_2 (Dense)                (None, 600)          360600      ['leaky_re_lu_1[0][0]']          \n",
            "                                                                                                  \n",
            " batch_normalization_2 (BatchNo  (None, 600)         2400        ['dense_2[0][0]']                \n",
            " rmalization)                                                                                     \n",
            "                                                                                                  \n",
            " leaky_re_lu_2 (LeakyReLU)      (None, 600)          0           ['batch_normalization_2[0][0]']  \n",
            "                                                                                                  \n",
            " dense_3 (Dense)                (None, 600)          360600      ['leaky_re_lu_2[0][0]']          \n",
            "                                                                                                  \n",
            " batch_normalization_3 (BatchNo  (None, 600)         2400        ['dense_3[0][0]']                \n",
            " rmalization)                                                                                     \n",
            "                                                                                                  \n",
            " leaky_re_lu_3 (LeakyReLU)      (None, 600)          0           ['batch_normalization_3[0][0]']  \n",
            "                                                                                                  \n",
            " dense_4 (Dense)                (None, 600)          360600      ['leaky_re_lu_3[0][0]']          \n",
            "                                                                                                  \n",
            " batch_normalization_4 (BatchNo  (None, 600)         2400        ['dense_4[0][0]']                \n",
            " rmalization)                                                                                     \n",
            "                                                                                                  \n",
            " leaky_re_lu_4 (LeakyReLU)      (None, 600)          0           ['batch_normalization_4[0][0]']  \n",
            "                                                                                                  \n",
            " dense_5 (Dense)                (None, 600)          360600      ['leaky_re_lu_4[0][0]']          \n",
            "                                                                                                  \n",
            " batch_normalization_5 (BatchNo  (None, 600)         2400        ['dense_5[0][0]']                \n",
            " rmalization)                                                                                     \n",
            "                                                                                                  \n",
            " leaky_re_lu_5 (LeakyReLU)      (None, 600)          0           ['batch_normalization_5[0][0]']  \n",
            "                                                                                                  \n",
            " dense_6 (Dense)                (None, 1)            601         ['leaky_re_lu_5[0][0]']          \n",
            "                                                                                                  \n",
            "==================================================================================================\n",
            "Total params: 1,871,017\n",
            "Trainable params: 1,863,817\n",
            "Non-trainable params: 7,200\n",
            "__________________________________________________________________________________________________\n",
            "Train shape: (268651, 10, 1), (268651, 10, 1)\n",
            "Val shape: (14139, 10, 1), (14139, 10, 1)\n",
            "Epoch 1/1000\n",
            "66/66 [==============================] - 55s 194ms/step - loss: 116189.7891 - val_loss: 136418.5469\n",
            "Epoch 2/1000\n",
            "66/66 [==============================] - 11s 94ms/step - loss: 29665.3086 - val_loss: 64447.9883\n",
            "Epoch 3/1000\n",
            "66/66 [==============================] - 11s 89ms/step - loss: 3145.7280 - val_loss: 123064.0703\n",
            "Epoch 4/1000\n",
            "66/66 [==============================] - 12s 108ms/step - loss: 490.9950 - val_loss: 59745.6797\n",
            "Epoch 5/1000\n",
            "66/66 [==============================] - 11s 97ms/step - loss: 180.0659 - val_loss: 43831.2539\n",
            "Epoch 6/1000\n",
            "66/66 [==============================] - 12s 98ms/step - loss: 116.1662 - val_loss: 35519.6602\n",
            "Epoch 7/1000\n",
            "66/66 [==============================] - 12s 98ms/step - loss: 127.6728 - val_loss: 19989.8672\n",
            "Epoch 8/1000\n",
            "66/66 [==============================] - 12s 98ms/step - loss: 109.0727 - val_loss: 13093.3076\n",
            "Epoch 9/1000\n",
            "66/66 [==============================] - 12s 112ms/step - loss: 89.6061 - val_loss: 7403.3843\n",
            "Epoch 10/1000\n",
            "66/66 [==============================] - 12s 98ms/step - loss: 77.8571 - val_loss: 4594.4004\n",
            "Epoch 11/1000\n",
            "66/66 [==============================] - 12s 98ms/step - loss: 70.9257 - val_loss: 2207.6335\n",
            "Epoch 12/1000\n",
            "66/66 [==============================] - 12s 99ms/step - loss: 76.4110 - val_loss: 803.8209\n",
            "Epoch 13/1000\n",
            "66/66 [==============================] - 11s 95ms/step - loss: 61.7235 - val_loss: 839.0277\n",
            "Epoch 14/1000\n",
            "66/66 [==============================] - 11s 92ms/step - loss: 44.1482 - val_loss: 1520.7699\n",
            "Epoch 15/1000\n",
            "66/66 [==============================] - 11s 93ms/step - loss: 41.6889 - val_loss: 1592.2911\n",
            "Epoch 16/1000\n",
            "66/66 [==============================] - 11s 92ms/step - loss: 50.1485 - val_loss: 1111.5468\n",
            "Epoch 17/1000\n",
            "66/66 [==============================] - 12s 107ms/step - loss: 51.6798 - val_loss: 683.6843\n",
            "Epoch 18/1000\n",
            "66/66 [==============================] - 11s 94ms/step - loss: 51.2681 - val_loss: 136.9782\n",
            "Epoch 19/1000\n",
            "66/66 [==============================] - 11s 95ms/step - loss: 38.8806 - val_loss: 115.1682\n",
            "Epoch 20/1000\n",
            "66/66 [==============================] - 11s 92ms/step - loss: 44.7775 - val_loss: 189.2504\n",
            "Epoch 21/1000\n",
            "66/66 [==============================] - 12s 109ms/step - loss: 45.9895 - val_loss: 51.7272\n",
            "Epoch 22/1000\n",
            "66/66 [==============================] - 11s 92ms/step - loss: 47.7168 - val_loss: 84.3083\n",
            "Epoch 23/1000\n",
            "66/66 [==============================] - 12s 107ms/step - loss: 44.8156 - val_loss: 31.1443\n",
            "Epoch 24/1000\n",
            "66/66 [==============================] - 11s 93ms/step - loss: 38.6449 - val_loss: 48.4168\n",
            "Epoch 25/1000\n",
            "66/66 [==============================] - 11s 92ms/step - loss: 43.5073 - val_loss: 56.2353\n",
            "Epoch 26/1000\n",
            "66/66 [==============================] - 11s 92ms/step - loss: 45.7020 - val_loss: 57.5110\n",
            "Epoch 27/1000\n",
            "66/66 [==============================] - 11s 92ms/step - loss: 45.6640 - val_loss: 50.8298\n",
            "Epoch 28/1000\n",
            "66/66 [==============================] - 11s 93ms/step - loss: 44.1744 - val_loss: 44.7684\n",
            "Epoch 29/1000\n",
            "66/66 [==============================] - 11s 92ms/step - loss: 37.6772 - val_loss: 33.2769\n",
            "Epoch 30/1000\n",
            "66/66 [==============================] - 12s 106ms/step - loss: 33.6546 - val_loss: 27.8757\n",
            "Epoch 31/1000\n",
            "66/66 [==============================] - 11s 95ms/step - loss: 38.7605 - val_loss: 26.5398\n",
            "Epoch 32/1000\n",
            "66/66 [==============================] - 11s 91ms/step - loss: 39.4204 - val_loss: 26.6526\n",
            "Epoch 33/1000\n",
            "66/66 [==============================] - 11s 91ms/step - loss: 38.9062 - val_loss: 31.5555\n",
            "Epoch 34/1000\n",
            "66/66 [==============================] - 11s 92ms/step - loss: 36.2515 - val_loss: 29.0529\n",
            "Epoch 35/1000\n",
            "66/66 [==============================] - 11s 92ms/step - loss: 40.3488 - val_loss: 32.4826\n",
            "Epoch 36/1000\n",
            "66/66 [==============================] - 11s 90ms/step - loss: 39.7376 - val_loss: 34.0438\n",
            "Epoch 37/1000\n",
            "66/66 [==============================] - 11s 91ms/step - loss: 34.6717 - val_loss: 36.5368\n",
            "Epoch 38/1000\n",
            "66/66 [==============================] - 11s 90ms/step - loss: 38.1591 - val_loss: 36.0753\n",
            "Epoch 39/1000\n",
            "66/66 [==============================] - 11s 91ms/step - loss: 36.6962 - val_loss: 35.1936\n",
            "Epoch 40/1000\n",
            "66/66 [==============================] - 11s 91ms/step - loss: 45.8481 - val_loss: 34.8525\n",
            "Epoch 41/1000\n",
            "66/66 [==============================] - 11s 92ms/step - loss: 37.9339 - val_loss: 34.1752\n",
            "Epoch 42/1000\n",
            "66/66 [==============================] - 11s 92ms/step - loss: 41.2503 - val_loss: 34.2874\n",
            "Epoch 43/1000\n",
            "66/66 [==============================] - 11s 91ms/step - loss: 33.1811 - val_loss: 34.9088\n",
            "Epoch 44/1000\n",
            "66/66 [==============================] - 11s 92ms/step - loss: 34.0979 - val_loss: 35.4022\n",
            "Epoch 45/1000\n",
            "66/66 [==============================] - 11s 92ms/step - loss: 34.7624 - val_loss: 35.4540\n",
            "Epoch 46/1000\n",
            "66/66 [==============================] - 11s 92ms/step - loss: 48.9312 - val_loss: 34.7998\n",
            "Epoch 47/1000\n",
            "66/66 [==============================] - 11s 91ms/step - loss: 33.1561 - val_loss: 34.6946\n",
            "Epoch 48/1000\n",
            "66/66 [==============================] - 11s 92ms/step - loss: 40.3481 - val_loss: 35.2212\n",
            "Epoch 49/1000\n",
            "66/66 [==============================] - 11s 93ms/step - loss: 40.3718 - val_loss: 35.5024\n",
            "Epoch 50/1000\n",
            "66/66 [==============================] - 11s 91ms/step - loss: 38.7097 - val_loss: 35.9645\n",
            "Epoch 51/1000\n",
            "66/66 [==============================] - 11s 91ms/step - loss: 31.4539 - val_loss: 35.5407\n"
          ]
        },
        {
          "data": {
            "text/html": [
              "Waiting for W&B process to finish... <strong style=\"color:green\">(success).</strong>"
            ],
            "text/plain": [
              "<IPython.core.display.HTML object>"
            ]
          },
          "metadata": {},
          "output_type": "display_data"
        },
        {
          "data": {
            "application/vnd.jupyter.widget-view+json": {
              "model_id": "4e35f76f1bae47c2820370b44e3cecf5",
              "version_major": 2,
              "version_minor": 0
            },
            "text/plain": [
              "VBox(children=(Label(value='0.006 MB of 0.006 MB uploaded (0.000 MB deduped)\\r'), FloatProgress(value=1.0, max…"
            ]
          },
          "metadata": {},
          "output_type": "display_data"
        },
        {
          "data": {
            "text/html": [
              "<style>\n",
              "    table.wandb td:nth-child(1) { padding: 0 10px; text-align: left ; width: auto;} td:nth-child(2) {text-align: left ; width: 100%}\n",
              "    .wandb-row { display: flex; flex-direction: row; flex-wrap: wrap; justify-content: flex-start; width: 100% }\n",
              "    .wandb-col { display: flex; flex-direction: column; flex-basis: 100%; flex: 1; padding: 10px; }\n",
              "    </style>\n",
              "<div class=\"wandb-row\"><div class=\"wandb-col\"><h3>Run history:</h3><br/><table class=\"wandb\"><tr><td>epoch</td><td>▁▁▁▁▂▂▂▂▂▃▃▃▃▃▃▄▄▄▄▄▅▅▅▅▅▅▆▆▆▆▆▆▇▇▇▇▇███</td></tr><tr><td>loss</td><td>█▃▁▁▁▁▁▁▁▁▁▁▁▁▁▁▁▁▁▁▁▁▁▁▁▁▁▁▁▁▁▁▁▁▁▁▁▁▁▁</td></tr><tr><td>val_loss</td><td>█▄▇▄▃▂▂▁▁▁▁▁▁▁▁▁▁▁▁▁▁▁▁▁▁▁▁▁▁▁▁▁▁▁▁▁▁▁▁▁</td></tr></table><br/></div><div class=\"wandb-col\"><h3>Run summary:</h3><br/><table class=\"wandb\"><tr><td>best_epoch</td><td>30</td></tr><tr><td>best_val_loss</td><td>26.53979</td></tr><tr><td>epoch</td><td>50</td></tr><tr><td>loss</td><td>31.45391</td></tr><tr><td>val_loss</td><td>35.54074</td></tr></table><br/></div></div>"
            ],
            "text/plain": [
              "<IPython.core.display.HTML object>"
            ]
          },
          "metadata": {},
          "output_type": "display_data"
        },
        {
          "data": {
            "text/html": [
              " View run <strong style=\"color:#cdcd00\">pious-star-190</strong> at: <a href='https://wandb.ai/avogadro/Deep%20learning%20for%20option%20pricing%20-%20rolling%20windows/runs/kjrrio53' target=\"_blank\">https://wandb.ai/avogadro/Deep%20learning%20for%20option%20pricing%20-%20rolling%20windows/runs/kjrrio53</a><br/>Synced 5 W&B file(s), 1 media file(s), 0 artifact file(s) and 0 other file(s)"
            ],
            "text/plain": [
              "<IPython.core.display.HTML object>"
            ]
          },
          "metadata": {},
          "output_type": "display_data"
        },
        {
          "data": {
            "text/html": [
              "Find logs at: <code>./wandb/run-20230413_162252-kjrrio53/logs</code>"
            ],
            "text/plain": [
              "<IPython.core.display.HTML object>"
            ]
          },
          "metadata": {},
          "output_type": "display_data"
        },
        {
          "name": "stdout",
          "output_type": "stream",
          "text": [
            "--- Predictions for test_start 2015-01-21 ---\n",
            "MSE: 155.28326\n",
            "RMSE: 12.46127\n",
            "-------------------------------------------\n",
            "Train shape: (281477, 10, 1), (281477, 4)\n",
            "Val shape: (14328, 10, 1), (14328, 4)\n",
            "Test shape: (27027, 10, 1), (27027, 4)\n"
          ]
        },
        {
          "data": {
            "text/html": [
              "Changes to your `wandb` environment variables will be ignored because your `wandb` session has already started. For more information on how to modify your settings with `wandb.init()` arguments, please refer to <a href='https://wandb.me/wandb-init' target=\"_blank\">the W&B docs</a>."
            ],
            "text/plain": [
              "<IPython.core.display.HTML object>"
            ]
          },
          "metadata": {},
          "output_type": "display_data"
        },
        {
          "data": {
            "text/html": [
              "Tracking run with wandb version 0.14.2"
            ],
            "text/plain": [
              "<IPython.core.display.HTML object>"
            ]
          },
          "metadata": {},
          "output_type": "display_data"
        },
        {
          "data": {
            "text/html": [
              "Run data is saved locally in <code>/content/wandb/run-20230413_163353-kkp8t2dq</code>"
            ],
            "text/plain": [
              "<IPython.core.display.HTML object>"
            ]
          },
          "metadata": {},
          "output_type": "display_data"
        },
        {
          "data": {
            "text/html": [
              "Syncing run <strong><a href='https://wandb.ai/avogadro/Deep%20learning%20for%20option%20pricing%20-%20rolling%20windows/runs/kkp8t2dq' target=\"_blank\">good-elevator-191</a></strong> to <a href='https://wandb.ai/avogadro/Deep%20learning%20for%20option%20pricing%20-%20rolling%20windows' target=\"_blank\">Weights & Biases</a> (<a href='https://wandb.me/run' target=\"_blank\">docs</a>)<br/>"
            ],
            "text/plain": [
              "<IPython.core.display.HTML object>"
            ]
          },
          "metadata": {},
          "output_type": "display_data"
        },
        {
          "data": {
            "text/html": [
              " View project at <a href='https://wandb.ai/avogadro/Deep%20learning%20for%20option%20pricing%20-%20rolling%20windows' target=\"_blank\">https://wandb.ai/avogadro/Deep%20learning%20for%20option%20pricing%20-%20rolling%20windows</a>"
            ],
            "text/plain": [
              "<IPython.core.display.HTML object>"
            ]
          },
          "metadata": {},
          "output_type": "display_data"
        },
        {
          "data": {
            "text/html": [
              " View run at <a href='https://wandb.ai/avogadro/Deep%20learning%20for%20option%20pricing%20-%20rolling%20windows/runs/kkp8t2dq' target=\"_blank\">https://wandb.ai/avogadro/Deep%20learning%20for%20option%20pricing%20-%20rolling%20windows/runs/kkp8t2dq</a>"
            ],
            "text/plain": [
              "<IPython.core.display.HTML object>"
            ]
          },
          "metadata": {},
          "output_type": "display_data"
        },
        {
          "name": "stdout",
          "output_type": "stream",
          "text": [
            "Model: \"model\"\n",
            "__________________________________________________________________________________________________\n",
            " Layer (type)                   Output Shape         Param #     Connected to                     \n",
            "==================================================================================================\n",
            " input_1 (InputLayer)           [(None, 10, 1)]      0           []                               \n",
            "                                                                                                  \n",
            " sequential (Sequential)        (None, 16)           2016        ['input_1[0][0]',                \n",
            "                                                                  'input_1[0][0]',                \n",
            "                                                                  'input_1[0][0]',                \n",
            "                                                                  'input_1[0][0]',                \n",
            "                                                                  'input_1[0][0]']                \n",
            "                                                                                                  \n",
            " input_2 (InputLayer)           [(None, 4)]          0           []                               \n",
            "                                                                                                  \n",
            " concatenate (Concatenate)      (None, 84)           0           ['sequential[0][0]',             \n",
            "                                                                  'sequential[1][0]',             \n",
            "                                                                  'sequential[2][0]',             \n",
            "                                                                  'sequential[3][0]',             \n",
            "                                                                  'sequential[4][0]',             \n",
            "                                                                  'input_2[0][0]']                \n",
            "                                                                                                  \n",
            " dense (Dense)                  (None, 600)          51000       ['concatenate[0][0]']            \n",
            "                                                                                                  \n",
            " batch_normalization (BatchNorm  (None, 600)         2400        ['dense[0][0]']                  \n",
            " alization)                                                                                       \n",
            "                                                                                                  \n",
            " leaky_re_lu (LeakyReLU)        (None, 600)          0           ['batch_normalization[0][0]']    \n",
            "                                                                                                  \n",
            " dense_1 (Dense)                (None, 600)          360600      ['leaky_re_lu[0][0]']            \n",
            "                                                                                                  \n",
            " batch_normalization_1 (BatchNo  (None, 600)         2400        ['dense_1[0][0]']                \n",
            " rmalization)                                                                                     \n",
            "                                                                                                  \n",
            " leaky_re_lu_1 (LeakyReLU)      (None, 600)          0           ['batch_normalization_1[0][0]']  \n",
            "                                                                                                  \n",
            " dense_2 (Dense)                (None, 600)          360600      ['leaky_re_lu_1[0][0]']          \n",
            "                                                                                                  \n",
            " batch_normalization_2 (BatchNo  (None, 600)         2400        ['dense_2[0][0]']                \n",
            " rmalization)                                                                                     \n",
            "                                                                                                  \n",
            " leaky_re_lu_2 (LeakyReLU)      (None, 600)          0           ['batch_normalization_2[0][0]']  \n",
            "                                                                                                  \n",
            " dense_3 (Dense)                (None, 600)          360600      ['leaky_re_lu_2[0][0]']          \n",
            "                                                                                                  \n",
            " batch_normalization_3 (BatchNo  (None, 600)         2400        ['dense_3[0][0]']                \n",
            " rmalization)                                                                                     \n",
            "                                                                                                  \n",
            " leaky_re_lu_3 (LeakyReLU)      (None, 600)          0           ['batch_normalization_3[0][0]']  \n",
            "                                                                                                  \n",
            " dense_4 (Dense)                (None, 600)          360600      ['leaky_re_lu_3[0][0]']          \n",
            "                                                                                                  \n",
            " batch_normalization_4 (BatchNo  (None, 600)         2400        ['dense_4[0][0]']                \n",
            " rmalization)                                                                                     \n",
            "                                                                                                  \n",
            " leaky_re_lu_4 (LeakyReLU)      (None, 600)          0           ['batch_normalization_4[0][0]']  \n",
            "                                                                                                  \n",
            " dense_5 (Dense)                (None, 600)          360600      ['leaky_re_lu_4[0][0]']          \n",
            "                                                                                                  \n",
            " batch_normalization_5 (BatchNo  (None, 600)         2400        ['dense_5[0][0]']                \n",
            " rmalization)                                                                                     \n",
            "                                                                                                  \n",
            " leaky_re_lu_5 (LeakyReLU)      (None, 600)          0           ['batch_normalization_5[0][0]']  \n",
            "                                                                                                  \n",
            " dense_6 (Dense)                (None, 1)            601         ['leaky_re_lu_5[0][0]']          \n",
            "                                                                                                  \n",
            "==================================================================================================\n",
            "Total params: 1,871,017\n",
            "Trainable params: 1,863,817\n",
            "Non-trainable params: 7,200\n",
            "__________________________________________________________________________________________________\n",
            "Train shape: (268651, 10, 1), (268651, 10, 1)\n",
            "Val shape: (14139, 10, 1), (14139, 10, 1)\n",
            "Epoch 1/1000\n",
            "66/66 [==============================] - 54s 196ms/step - loss: 116726.9375 - val_loss: 125264.9297\n",
            "Epoch 2/1000\n",
            "66/66 [==============================] - 11s 95ms/step - loss: 30430.1816 - val_loss: 56511.3906\n",
            "Epoch 3/1000\n",
            "66/66 [==============================] - 11s 92ms/step - loss: 3283.5352 - val_loss: 91560.0391\n",
            "Epoch 4/1000\n",
            "66/66 [==============================] - 11s 92ms/step - loss: 492.5526 - val_loss: 61957.1367\n",
            "Epoch 5/1000\n",
            "66/66 [==============================] - 12s 106ms/step - loss: 194.7485 - val_loss: 43615.6367\n",
            "Epoch 6/1000\n",
            "66/66 [==============================] - 11s 94ms/step - loss: 157.0056 - val_loss: 34080.1445\n",
            "Epoch 7/1000\n",
            "66/66 [==============================] - 11s 94ms/step - loss: 91.2289 - val_loss: 26544.4648\n",
            "Epoch 8/1000\n",
            "66/66 [==============================] - 11s 95ms/step - loss: 106.6810 - val_loss: 14179.7480\n",
            "Epoch 9/1000\n",
            "66/66 [==============================] - 11s 93ms/step - loss: 75.8573 - val_loss: 7940.7939\n",
            "Epoch 10/1000\n",
            "66/66 [==============================] - 11s 96ms/step - loss: 74.9796 - val_loss: 4924.0703\n",
            "Epoch 11/1000\n",
            "66/66 [==============================] - 11s 96ms/step - loss: 61.3671 - val_loss: 1826.9504\n",
            "Epoch 12/1000\n",
            "66/66 [==============================] - 12s 109ms/step - loss: 54.3878 - val_loss: 925.7526\n",
            "Epoch 13/1000\n",
            "66/66 [==============================] - 11s 91ms/step - loss: 57.9017 - val_loss: 1876.2372\n",
            "Epoch 14/1000\n",
            "66/66 [==============================] - 12s 105ms/step - loss: 62.2831 - val_loss: 642.2971\n",
            "Epoch 15/1000\n",
            "66/66 [==============================] - 11s 95ms/step - loss: 53.9193 - val_loss: 498.8361\n",
            "Epoch 16/1000\n",
            "66/66 [==============================] - 11s 95ms/step - loss: 48.1981 - val_loss: 187.7534\n",
            "Epoch 17/1000\n",
            "66/66 [==============================] - 11s 94ms/step - loss: 48.8476 - val_loss: 96.4133\n",
            "Epoch 18/1000\n",
            "66/66 [==============================] - 11s 93ms/step - loss: 51.5190 - val_loss: 33.1600\n",
            "Epoch 19/1000\n",
            "66/66 [==============================] - 11s 92ms/step - loss: 43.3849 - val_loss: 41.4715\n",
            "Epoch 20/1000\n",
            "66/66 [==============================] - 11s 92ms/step - loss: 36.9674 - val_loss: 87.5143\n",
            "Epoch 21/1000\n",
            "66/66 [==============================] - 11s 92ms/step - loss: 40.5556 - val_loss: 38.5475\n",
            "Epoch 22/1000\n",
            "66/66 [==============================] - 11s 93ms/step - loss: 48.4739 - val_loss: 77.3306\n",
            "Epoch 23/1000\n",
            "66/66 [==============================] - 11s 91ms/step - loss: 36.3084 - val_loss: 42.1061\n",
            "Epoch 24/1000\n",
            "66/66 [==============================] - 11s 91ms/step - loss: 39.4757 - val_loss: 42.1466\n",
            "Epoch 25/1000\n",
            "66/66 [==============================] - 11s 92ms/step - loss: 35.1004 - val_loss: 74.4123\n",
            "Epoch 26/1000\n",
            "66/66 [==============================] - 11s 91ms/step - loss: 43.0490 - val_loss: 54.7069\n",
            "Epoch 27/1000\n",
            "66/66 [==============================] - 11s 91ms/step - loss: 42.0492 - val_loss: 33.9340\n",
            "Epoch 28/1000\n",
            "66/66 [==============================] - 11s 91ms/step - loss: 40.2352 - val_loss: 66.9739\n",
            "Epoch 29/1000\n",
            "66/66 [==============================] - 11s 92ms/step - loss: 34.0344 - val_loss: 62.5945\n",
            "Epoch 30/1000\n",
            "66/66 [==============================] - 11s 94ms/step - loss: 39.0945 - val_loss: 44.5714\n",
            "Epoch 31/1000\n",
            "66/66 [==============================] - 11s 92ms/step - loss: 36.2201 - val_loss: 41.0609\n",
            "Epoch 32/1000\n",
            "66/66 [==============================] - 11s 93ms/step - loss: 34.1382 - val_loss: 33.3229\n",
            "Epoch 33/1000\n",
            "66/66 [==============================] - 11s 92ms/step - loss: 36.6883 - val_loss: 33.3085\n",
            "Epoch 34/1000\n",
            "66/66 [==============================] - 11s 91ms/step - loss: 33.6163 - val_loss: 40.1063\n",
            "Epoch 35/1000\n",
            "66/66 [==============================] - 11s 90ms/step - loss: 41.4224 - val_loss: 39.7497\n",
            "Epoch 36/1000\n",
            "66/66 [==============================] - 11s 93ms/step - loss: 42.9786 - val_loss: 37.5282\n",
            "Epoch 37/1000\n",
            "66/66 [==============================] - 11s 91ms/step - loss: 35.8272 - val_loss: 36.0433\n",
            "Epoch 38/1000\n",
            "66/66 [==============================] - 11s 90ms/step - loss: 37.0640 - val_loss: 37.5861\n"
          ]
        },
        {
          "data": {
            "text/html": [
              "Waiting for W&B process to finish... <strong style=\"color:green\">(success).</strong>"
            ],
            "text/plain": [
              "<IPython.core.display.HTML object>"
            ]
          },
          "metadata": {},
          "output_type": "display_data"
        },
        {
          "data": {
            "application/vnd.jupyter.widget-view+json": {
              "model_id": "9fd7e27e0ebc4889be24e147f5d7d488",
              "version_major": 2,
              "version_minor": 0
            },
            "text/plain": [
              "VBox(children=(Label(value='0.006 MB of 0.021 MB uploaded (0.000 MB deduped)\\r'), FloatProgress(value=0.257359…"
            ]
          },
          "metadata": {},
          "output_type": "display_data"
        },
        {
          "data": {
            "text/html": [
              "<style>\n",
              "    table.wandb td:nth-child(1) { padding: 0 10px; text-align: left ; width: auto;} td:nth-child(2) {text-align: left ; width: 100%}\n",
              "    .wandb-row { display: flex; flex-direction: row; flex-wrap: wrap; justify-content: flex-start; width: 100% }\n",
              "    .wandb-col { display: flex; flex-direction: column; flex-basis: 100%; flex: 1; padding: 10px; }\n",
              "    </style>\n",
              "<div class=\"wandb-row\"><div class=\"wandb-col\"><h3>Run history:</h3><br/><table class=\"wandb\"><tr><td>epoch</td><td>▁▁▁▂▂▂▂▂▃▃▃▃▃▃▄▄▄▄▄▅▅▅▅▅▆▆▆▆▆▆▇▇▇▇▇███</td></tr><tr><td>loss</td><td>█▃▁▁▁▁▁▁▁▁▁▁▁▁▁▁▁▁▁▁▁▁▁▁▁▁▁▁▁▁▁▁▁▁▁▁▁▁</td></tr><tr><td>val_loss</td><td>█▄▆▄▃▃▂▂▁▁▁▁▁▁▁▁▁▁▁▁▁▁▁▁▁▁▁▁▁▁▁▁▁▁▁▁▁▁</td></tr></table><br/></div><div class=\"wandb-col\"><h3>Run summary:</h3><br/><table class=\"wandb\"><tr><td>best_epoch</td><td>17</td></tr><tr><td>best_val_loss</td><td>33.16005</td></tr><tr><td>epoch</td><td>37</td></tr><tr><td>loss</td><td>37.06395</td></tr><tr><td>val_loss</td><td>37.58614</td></tr></table><br/></div></div>"
            ],
            "text/plain": [
              "<IPython.core.display.HTML object>"
            ]
          },
          "metadata": {},
          "output_type": "display_data"
        },
        {
          "data": {
            "text/html": [
              " View run <strong style=\"color:#cdcd00\">good-elevator-191</strong> at: <a href='https://wandb.ai/avogadro/Deep%20learning%20for%20option%20pricing%20-%20rolling%20windows/runs/kkp8t2dq' target=\"_blank\">https://wandb.ai/avogadro/Deep%20learning%20for%20option%20pricing%20-%20rolling%20windows/runs/kkp8t2dq</a><br/>Synced 5 W&B file(s), 1 media file(s), 0 artifact file(s) and 0 other file(s)"
            ],
            "text/plain": [
              "<IPython.core.display.HTML object>"
            ]
          },
          "metadata": {},
          "output_type": "display_data"
        },
        {
          "data": {
            "text/html": [
              "Find logs at: <code>./wandb/run-20230413_163353-kkp8t2dq/logs</code>"
            ],
            "text/plain": [
              "<IPython.core.display.HTML object>"
            ]
          },
          "metadata": {},
          "output_type": "display_data"
        },
        {
          "name": "stdout",
          "output_type": "stream",
          "text": [
            "--- Predictions for test_start 2015-02-04 ---\n",
            "MSE: 145.07828\n",
            "RMSE: 12.044845\n",
            "-------------------------------------------\n",
            "Train shape: (289305, 10, 1), (289305, 4)\n",
            "Val shape: (12300, 10, 1), (12300, 4)\n",
            "Test shape: (30788, 10, 1), (30788, 4)\n"
          ]
        },
        {
          "data": {
            "text/html": [
              "Changes to your `wandb` environment variables will be ignored because your `wandb` session has already started. For more information on how to modify your settings with `wandb.init()` arguments, please refer to <a href='https://wandb.me/wandb-init' target=\"_blank\">the W&B docs</a>."
            ],
            "text/plain": [
              "<IPython.core.display.HTML object>"
            ]
          },
          "metadata": {},
          "output_type": "display_data"
        },
        {
          "data": {
            "text/html": [
              "Tracking run with wandb version 0.14.2"
            ],
            "text/plain": [
              "<IPython.core.display.HTML object>"
            ]
          },
          "metadata": {},
          "output_type": "display_data"
        },
        {
          "data": {
            "text/html": [
              "Run data is saved locally in <code>/content/wandb/run-20230413_164222-gh2toygw</code>"
            ],
            "text/plain": [
              "<IPython.core.display.HTML object>"
            ]
          },
          "metadata": {},
          "output_type": "display_data"
        },
        {
          "data": {
            "text/html": [
              "Syncing run <strong><a href='https://wandb.ai/avogadro/Deep%20learning%20for%20option%20pricing%20-%20rolling%20windows/runs/gh2toygw' target=\"_blank\">good-fog-192</a></strong> to <a href='https://wandb.ai/avogadro/Deep%20learning%20for%20option%20pricing%20-%20rolling%20windows' target=\"_blank\">Weights & Biases</a> (<a href='https://wandb.me/run' target=\"_blank\">docs</a>)<br/>"
            ],
            "text/plain": [
              "<IPython.core.display.HTML object>"
            ]
          },
          "metadata": {},
          "output_type": "display_data"
        },
        {
          "data": {
            "text/html": [
              " View project at <a href='https://wandb.ai/avogadro/Deep%20learning%20for%20option%20pricing%20-%20rolling%20windows' target=\"_blank\">https://wandb.ai/avogadro/Deep%20learning%20for%20option%20pricing%20-%20rolling%20windows</a>"
            ],
            "text/plain": [
              "<IPython.core.display.HTML object>"
            ]
          },
          "metadata": {},
          "output_type": "display_data"
        },
        {
          "data": {
            "text/html": [
              " View run at <a href='https://wandb.ai/avogadro/Deep%20learning%20for%20option%20pricing%20-%20rolling%20windows/runs/gh2toygw' target=\"_blank\">https://wandb.ai/avogadro/Deep%20learning%20for%20option%20pricing%20-%20rolling%20windows/runs/gh2toygw</a>"
            ],
            "text/plain": [
              "<IPython.core.display.HTML object>"
            ]
          },
          "metadata": {},
          "output_type": "display_data"
        },
        {
          "name": "stdout",
          "output_type": "stream",
          "text": [
            "Model: \"model\"\n",
            "__________________________________________________________________________________________________\n",
            " Layer (type)                   Output Shape         Param #     Connected to                     \n",
            "==================================================================================================\n",
            " input_1 (InputLayer)           [(None, 10, 1)]      0           []                               \n",
            "                                                                                                  \n",
            " sequential (Sequential)        (None, 16)           2016        ['input_1[0][0]',                \n",
            "                                                                  'input_1[0][0]',                \n",
            "                                                                  'input_1[0][0]',                \n",
            "                                                                  'input_1[0][0]',                \n",
            "                                                                  'input_1[0][0]']                \n",
            "                                                                                                  \n",
            " input_2 (InputLayer)           [(None, 4)]          0           []                               \n",
            "                                                                                                  \n",
            " concatenate (Concatenate)      (None, 84)           0           ['sequential[0][0]',             \n",
            "                                                                  'sequential[1][0]',             \n",
            "                                                                  'sequential[2][0]',             \n",
            "                                                                  'sequential[3][0]',             \n",
            "                                                                  'sequential[4][0]',             \n",
            "                                                                  'input_2[0][0]']                \n",
            "                                                                                                  \n",
            " dense (Dense)                  (None, 600)          51000       ['concatenate[0][0]']            \n",
            "                                                                                                  \n",
            " batch_normalization (BatchNorm  (None, 600)         2400        ['dense[0][0]']                  \n",
            " alization)                                                                                       \n",
            "                                                                                                  \n",
            " leaky_re_lu (LeakyReLU)        (None, 600)          0           ['batch_normalization[0][0]']    \n",
            "                                                                                                  \n",
            " dense_1 (Dense)                (None, 600)          360600      ['leaky_re_lu[0][0]']            \n",
            "                                                                                                  \n",
            " batch_normalization_1 (BatchNo  (None, 600)         2400        ['dense_1[0][0]']                \n",
            " rmalization)                                                                                     \n",
            "                                                                                                  \n",
            " leaky_re_lu_1 (LeakyReLU)      (None, 600)          0           ['batch_normalization_1[0][0]']  \n",
            "                                                                                                  \n",
            " dense_2 (Dense)                (None, 600)          360600      ['leaky_re_lu_1[0][0]']          \n",
            "                                                                                                  \n",
            " batch_normalization_2 (BatchNo  (None, 600)         2400        ['dense_2[0][0]']                \n",
            " rmalization)                                                                                     \n",
            "                                                                                                  \n",
            " leaky_re_lu_2 (LeakyReLU)      (None, 600)          0           ['batch_normalization_2[0][0]']  \n",
            "                                                                                                  \n",
            " dense_3 (Dense)                (None, 600)          360600      ['leaky_re_lu_2[0][0]']          \n",
            "                                                                                                  \n",
            " batch_normalization_3 (BatchNo  (None, 600)         2400        ['dense_3[0][0]']                \n",
            " rmalization)                                                                                     \n",
            "                                                                                                  \n",
            " leaky_re_lu_3 (LeakyReLU)      (None, 600)          0           ['batch_normalization_3[0][0]']  \n",
            "                                                                                                  \n",
            " dense_4 (Dense)                (None, 600)          360600      ['leaky_re_lu_3[0][0]']          \n",
            "                                                                                                  \n",
            " batch_normalization_4 (BatchNo  (None, 600)         2400        ['dense_4[0][0]']                \n",
            " rmalization)                                                                                     \n",
            "                                                                                                  \n",
            " leaky_re_lu_4 (LeakyReLU)      (None, 600)          0           ['batch_normalization_4[0][0]']  \n",
            "                                                                                                  \n",
            " dense_5 (Dense)                (None, 600)          360600      ['leaky_re_lu_4[0][0]']          \n",
            "                                                                                                  \n",
            " batch_normalization_5 (BatchNo  (None, 600)         2400        ['dense_5[0][0]']                \n",
            " rmalization)                                                                                     \n",
            "                                                                                                  \n",
            " leaky_re_lu_5 (LeakyReLU)      (None, 600)          0           ['batch_normalization_5[0][0]']  \n",
            "                                                                                                  \n",
            " dense_6 (Dense)                (None, 1)            601         ['leaky_re_lu_5[0][0]']          \n",
            "                                                                                                  \n",
            "==================================================================================================\n",
            "Total params: 1,871,017\n",
            "Trainable params: 1,863,817\n",
            "Non-trainable params: 7,200\n",
            "__________________________________________________________________________________________________\n",
            "Train shape: (268651, 10, 1), (268651, 10, 1)\n",
            "Val shape: (14139, 10, 1), (14139, 10, 1)\n",
            "Epoch 1/1000\n",
            "66/66 [==============================] - 54s 193ms/step - loss: 119325.8828 - val_loss: 154597.8750\n",
            "Epoch 2/1000\n",
            "66/66 [==============================] - 11s 93ms/step - loss: 32739.4766 - val_loss: 51270.0430\n",
            "Epoch 3/1000\n",
            "66/66 [==============================] - 11s 91ms/step - loss: 3723.3665 - val_loss: 85846.6016\n",
            "Epoch 4/1000\n",
            "66/66 [==============================] - 11s 90ms/step - loss: 527.8458 - val_loss: 65256.7422\n",
            "Epoch 5/1000\n",
            "66/66 [==============================] - 12s 104ms/step - loss: 191.8301 - val_loss: 47778.7148\n",
            "Epoch 6/1000\n",
            "66/66 [==============================] - 11s 94ms/step - loss: 131.2563 - val_loss: 39265.5586\n",
            "Epoch 7/1000\n",
            "66/66 [==============================] - 11s 94ms/step - loss: 112.6551 - val_loss: 29028.4004\n",
            "Epoch 8/1000\n",
            "66/66 [==============================] - 11s 92ms/step - loss: 119.7843 - val_loss: 18387.6914\n",
            "Epoch 9/1000\n",
            "66/66 [==============================] - 11s 95ms/step - loss: 70.8697 - val_loss: 10943.2080\n",
            "Epoch 10/1000\n",
            "66/66 [==============================] - 11s 95ms/step - loss: 63.0253 - val_loss: 7433.7002\n",
            "Epoch 11/1000\n",
            "66/66 [==============================] - 11s 92ms/step - loss: 57.5420 - val_loss: 11318.1816\n",
            "Epoch 12/1000\n",
            "66/66 [==============================] - 12s 110ms/step - loss: 58.0829 - val_loss: 1397.5104\n",
            "Epoch 13/1000\n",
            "66/66 [==============================] - 11s 92ms/step - loss: 68.7471 - val_loss: 3685.9348\n",
            "Epoch 14/1000\n",
            "66/66 [==============================] - 11s 91ms/step - loss: 52.7428 - val_loss: 3314.7617\n",
            "Epoch 15/1000\n",
            "66/66 [==============================] - 11s 92ms/step - loss: 45.3495 - val_loss: 4060.4172\n",
            "Epoch 16/1000\n",
            "66/66 [==============================] - 11s 92ms/step - loss: 47.8576 - val_loss: 3025.8584\n",
            "Epoch 17/1000\n",
            "66/66 [==============================] - 11s 91ms/step - loss: 38.1773 - val_loss: 1810.3563\n",
            "Epoch 18/1000\n",
            "66/66 [==============================] - 12s 105ms/step - loss: 43.8380 - val_loss: 963.1752\n",
            "Epoch 19/1000\n",
            "66/66 [==============================] - 11s 93ms/step - loss: 48.1165 - val_loss: 956.4952\n",
            "Epoch 20/1000\n",
            "66/66 [==============================] - 11s 92ms/step - loss: 42.5005 - val_loss: 1113.6422\n",
            "Epoch 21/1000\n",
            "66/66 [==============================] - 11s 91ms/step - loss: 41.4032 - val_loss: 957.9125\n",
            "Epoch 22/1000\n",
            "66/66 [==============================] - 12s 109ms/step - loss: 38.1972 - val_loss: 399.4621\n",
            "Epoch 23/1000\n",
            "66/66 [==============================] - 11s 95ms/step - loss: 44.6540 - val_loss: 194.6490\n",
            "Epoch 24/1000\n",
            "66/66 [==============================] - 11s 94ms/step - loss: 35.5932 - val_loss: 54.7605\n",
            "Epoch 25/1000\n",
            "66/66 [==============================] - 11s 90ms/step - loss: 33.6421 - val_loss: 95.4382\n",
            "Epoch 26/1000\n",
            "66/66 [==============================] - 11s 90ms/step - loss: 39.5125 - val_loss: 103.9453\n",
            "Epoch 27/1000\n",
            "66/66 [==============================] - 12s 104ms/step - loss: 36.1111 - val_loss: 32.4843\n",
            "Epoch 28/1000\n",
            "66/66 [==============================] - 12s 106ms/step - loss: 41.4669 - val_loss: 25.6542\n",
            "Epoch 29/1000\n",
            "66/66 [==============================] - 11s 92ms/step - loss: 42.2323 - val_loss: 25.6858\n",
            "Epoch 30/1000\n",
            "66/66 [==============================] - 11s 90ms/step - loss: 35.5001 - val_loss: 37.0823\n",
            "Epoch 31/1000\n",
            "66/66 [==============================] - 11s 90ms/step - loss: 38.2528 - val_loss: 26.0950\n",
            "Epoch 32/1000\n",
            "66/66 [==============================] - 11s 90ms/step - loss: 33.1675 - val_loss: 28.2553\n",
            "Epoch 33/1000\n",
            "66/66 [==============================] - 11s 91ms/step - loss: 34.8727 - val_loss: 32.8895\n",
            "Epoch 34/1000\n",
            "66/66 [==============================] - 11s 91ms/step - loss: 36.3280 - val_loss: 36.3493\n",
            "Epoch 35/1000\n",
            "66/66 [==============================] - 11s 91ms/step - loss: 34.1034 - val_loss: 32.7938\n",
            "Epoch 36/1000\n",
            "66/66 [==============================] - 11s 90ms/step - loss: 33.6666 - val_loss: 34.2234\n",
            "Epoch 37/1000\n",
            "66/66 [==============================] - 11s 92ms/step - loss: 32.4921 - val_loss: 37.1128\n",
            "Epoch 38/1000\n",
            "66/66 [==============================] - 11s 90ms/step - loss: 43.0535 - val_loss: 35.1011\n",
            "Epoch 39/1000\n",
            "66/66 [==============================] - 11s 90ms/step - loss: 45.5524 - val_loss: 38.4061\n",
            "Epoch 40/1000\n",
            "66/66 [==============================] - 11s 91ms/step - loss: 37.4618 - val_loss: 39.8756\n",
            "Epoch 41/1000\n",
            "66/66 [==============================] - 11s 90ms/step - loss: 38.7695 - val_loss: 41.3457\n",
            "Epoch 42/1000\n",
            "66/66 [==============================] - 11s 93ms/step - loss: 36.7962 - val_loss: 41.2481\n",
            "Epoch 43/1000\n",
            "66/66 [==============================] - 11s 90ms/step - loss: 34.9677 - val_loss: 43.5647\n",
            "Epoch 44/1000\n",
            "66/66 [==============================] - 11s 91ms/step - loss: 32.5072 - val_loss: 43.9803\n",
            "Epoch 45/1000\n",
            "66/66 [==============================] - 11s 89ms/step - loss: 34.8803 - val_loss: 45.6834\n",
            "Epoch 46/1000\n",
            "66/66 [==============================] - 11s 90ms/step - loss: 39.1536 - val_loss: 45.4329\n",
            "Epoch 47/1000\n",
            "66/66 [==============================] - 11s 91ms/step - loss: 35.6104 - val_loss: 46.0610\n",
            "Epoch 48/1000\n",
            "66/66 [==============================] - 11s 90ms/step - loss: 34.3027 - val_loss: 45.8764\n"
          ]
        },
        {
          "data": {
            "text/html": [
              "Waiting for W&B process to finish... <strong style=\"color:green\">(success).</strong>"
            ],
            "text/plain": [
              "<IPython.core.display.HTML object>"
            ]
          },
          "metadata": {},
          "output_type": "display_data"
        },
        {
          "data": {
            "application/vnd.jupyter.widget-view+json": {
              "model_id": "90c9319e55e54b78a928f3f70c20ba82",
              "version_major": 2,
              "version_minor": 0
            },
            "text/plain": [
              "VBox(children=(Label(value='0.006 MB of 0.023 MB uploaded (0.000 MB deduped)\\r'), FloatProgress(value=0.245394…"
            ]
          },
          "metadata": {},
          "output_type": "display_data"
        },
        {
          "data": {
            "text/html": [
              "<style>\n",
              "    table.wandb td:nth-child(1) { padding: 0 10px; text-align: left ; width: auto;} td:nth-child(2) {text-align: left ; width: 100%}\n",
              "    .wandb-row { display: flex; flex-direction: row; flex-wrap: wrap; justify-content: flex-start; width: 100% }\n",
              "    .wandb-col { display: flex; flex-direction: column; flex-basis: 100%; flex: 1; padding: 10px; }\n",
              "    </style>\n",
              "<div class=\"wandb-row\"><div class=\"wandb-col\"><h3>Run history:</h3><br/><table class=\"wandb\"><tr><td>epoch</td><td>▁▁▁▁▂▂▂▂▂▂▃▃▃▃▃▄▄▄▄▄▅▅▅▅▅▅▆▆▆▆▆▇▇▇▇▇▇███</td></tr><tr><td>loss</td><td>█▃▁▁▁▁▁▁▁▁▁▁▁▁▁▁▁▁▁▁▁▁▁▁▁▁▁▁▁▁▁▁▁▁▁▁▁▁▁▁</td></tr><tr><td>val_loss</td><td>█▃▅▄▃▂▂▁▁▂▁▁▁▁▁▁▁▁▁▁▁▁▁▁▁▁▁▁▁▁▁▁▁▁▁▁▁▁▁▁</td></tr></table><br/></div><div class=\"wandb-col\"><h3>Run summary:</h3><br/><table class=\"wandb\"><tr><td>best_epoch</td><td>27</td></tr><tr><td>best_val_loss</td><td>25.65416</td></tr><tr><td>epoch</td><td>47</td></tr><tr><td>loss</td><td>34.3027</td></tr><tr><td>val_loss</td><td>45.87645</td></tr></table><br/></div></div>"
            ],
            "text/plain": [
              "<IPython.core.display.HTML object>"
            ]
          },
          "metadata": {},
          "output_type": "display_data"
        },
        {
          "data": {
            "text/html": [
              " View run <strong style=\"color:#cdcd00\">good-fog-192</strong> at: <a href='https://wandb.ai/avogadro/Deep%20learning%20for%20option%20pricing%20-%20rolling%20windows/runs/gh2toygw' target=\"_blank\">https://wandb.ai/avogadro/Deep%20learning%20for%20option%20pricing%20-%20rolling%20windows/runs/gh2toygw</a><br/>Synced 5 W&B file(s), 1 media file(s), 0 artifact file(s) and 0 other file(s)"
            ],
            "text/plain": [
              "<IPython.core.display.HTML object>"
            ]
          },
          "metadata": {},
          "output_type": "display_data"
        },
        {
          "data": {
            "text/html": [
              "Find logs at: <code>./wandb/run-20230413_164222-gh2toygw/logs</code>"
            ],
            "text/plain": [
              "<IPython.core.display.HTML object>"
            ]
          },
          "metadata": {},
          "output_type": "display_data"
        },
        {
          "name": "stdout",
          "output_type": "stream",
          "text": [
            "--- Predictions for test_start 2015-02-18 ---\n",
            "MSE: 183.67503\n",
            "RMSE: 13.552676\n",
            "-------------------------------------------\n",
            "Train shape: (290480, 10, 1), (290480, 4)\n",
            "Val shape: (15862, 10, 1), (15862, 4)\n",
            "Test shape: (34282, 10, 1), (34282, 4)\n"
          ]
        },
        {
          "data": {
            "text/html": [
              "Changes to your `wandb` environment variables will be ignored because your `wandb` session has already started. For more information on how to modify your settings with `wandb.init()` arguments, please refer to <a href='https://wandb.me/wandb-init' target=\"_blank\">the W&B docs</a>."
            ],
            "text/plain": [
              "<IPython.core.display.HTML object>"
            ]
          },
          "metadata": {},
          "output_type": "display_data"
        },
        {
          "data": {
            "text/html": [
              "Tracking run with wandb version 0.14.2"
            ],
            "text/plain": [
              "<IPython.core.display.HTML object>"
            ]
          },
          "metadata": {},
          "output_type": "display_data"
        },
        {
          "data": {
            "text/html": [
              "Run data is saved locally in <code>/content/wandb/run-20230413_165238-i6yw5d6g</code>"
            ],
            "text/plain": [
              "<IPython.core.display.HTML object>"
            ]
          },
          "metadata": {},
          "output_type": "display_data"
        },
        {
          "data": {
            "text/html": [
              "Syncing run <strong><a href='https://wandb.ai/avogadro/Deep%20learning%20for%20option%20pricing%20-%20rolling%20windows/runs/i6yw5d6g' target=\"_blank\">twilight-planet-193</a></strong> to <a href='https://wandb.ai/avogadro/Deep%20learning%20for%20option%20pricing%20-%20rolling%20windows' target=\"_blank\">Weights & Biases</a> (<a href='https://wandb.me/run' target=\"_blank\">docs</a>)<br/>"
            ],
            "text/plain": [
              "<IPython.core.display.HTML object>"
            ]
          },
          "metadata": {},
          "output_type": "display_data"
        },
        {
          "data": {
            "text/html": [
              " View project at <a href='https://wandb.ai/avogadro/Deep%20learning%20for%20option%20pricing%20-%20rolling%20windows' target=\"_blank\">https://wandb.ai/avogadro/Deep%20learning%20for%20option%20pricing%20-%20rolling%20windows</a>"
            ],
            "text/plain": [
              "<IPython.core.display.HTML object>"
            ]
          },
          "metadata": {},
          "output_type": "display_data"
        },
        {
          "data": {
            "text/html": [
              " View run at <a href='https://wandb.ai/avogadro/Deep%20learning%20for%20option%20pricing%20-%20rolling%20windows/runs/i6yw5d6g' target=\"_blank\">https://wandb.ai/avogadro/Deep%20learning%20for%20option%20pricing%20-%20rolling%20windows/runs/i6yw5d6g</a>"
            ],
            "text/plain": [
              "<IPython.core.display.HTML object>"
            ]
          },
          "metadata": {},
          "output_type": "display_data"
        },
        {
          "name": "stdout",
          "output_type": "stream",
          "text": [
            "Model: \"model\"\n",
            "__________________________________________________________________________________________________\n",
            " Layer (type)                   Output Shape         Param #     Connected to                     \n",
            "==================================================================================================\n",
            " input_1 (InputLayer)           [(None, 10, 1)]      0           []                               \n",
            "                                                                                                  \n",
            " sequential (Sequential)        (None, 16)           2016        ['input_1[0][0]',                \n",
            "                                                                  'input_1[0][0]',                \n",
            "                                                                  'input_1[0][0]',                \n",
            "                                                                  'input_1[0][0]',                \n",
            "                                                                  'input_1[0][0]']                \n",
            "                                                                                                  \n",
            " input_2 (InputLayer)           [(None, 4)]          0           []                               \n",
            "                                                                                                  \n",
            " concatenate (Concatenate)      (None, 84)           0           ['sequential[0][0]',             \n",
            "                                                                  'sequential[1][0]',             \n",
            "                                                                  'sequential[2][0]',             \n",
            "                                                                  'sequential[3][0]',             \n",
            "                                                                  'sequential[4][0]',             \n",
            "                                                                  'input_2[0][0]']                \n",
            "                                                                                                  \n",
            " dense (Dense)                  (None, 600)          51000       ['concatenate[0][0]']            \n",
            "                                                                                                  \n",
            " batch_normalization (BatchNorm  (None, 600)         2400        ['dense[0][0]']                  \n",
            " alization)                                                                                       \n",
            "                                                                                                  \n",
            " leaky_re_lu (LeakyReLU)        (None, 600)          0           ['batch_normalization[0][0]']    \n",
            "                                                                                                  \n",
            " dense_1 (Dense)                (None, 600)          360600      ['leaky_re_lu[0][0]']            \n",
            "                                                                                                  \n",
            " batch_normalization_1 (BatchNo  (None, 600)         2400        ['dense_1[0][0]']                \n",
            " rmalization)                                                                                     \n",
            "                                                                                                  \n",
            " leaky_re_lu_1 (LeakyReLU)      (None, 600)          0           ['batch_normalization_1[0][0]']  \n",
            "                                                                                                  \n",
            " dense_2 (Dense)                (None, 600)          360600      ['leaky_re_lu_1[0][0]']          \n",
            "                                                                                                  \n",
            " batch_normalization_2 (BatchNo  (None, 600)         2400        ['dense_2[0][0]']                \n",
            " rmalization)                                                                                     \n",
            "                                                                                                  \n",
            " leaky_re_lu_2 (LeakyReLU)      (None, 600)          0           ['batch_normalization_2[0][0]']  \n",
            "                                                                                                  \n",
            " dense_3 (Dense)                (None, 600)          360600      ['leaky_re_lu_2[0][0]']          \n",
            "                                                                                                  \n",
            " batch_normalization_3 (BatchNo  (None, 600)         2400        ['dense_3[0][0]']                \n",
            " rmalization)                                                                                     \n",
            "                                                                                                  \n",
            " leaky_re_lu_3 (LeakyReLU)      (None, 600)          0           ['batch_normalization_3[0][0]']  \n",
            "                                                                                                  \n",
            " dense_4 (Dense)                (None, 600)          360600      ['leaky_re_lu_3[0][0]']          \n",
            "                                                                                                  \n",
            " batch_normalization_4 (BatchNo  (None, 600)         2400        ['dense_4[0][0]']                \n",
            " rmalization)                                                                                     \n",
            "                                                                                                  \n",
            " leaky_re_lu_4 (LeakyReLU)      (None, 600)          0           ['batch_normalization_4[0][0]']  \n",
            "                                                                                                  \n",
            " dense_5 (Dense)                (None, 600)          360600      ['leaky_re_lu_4[0][0]']          \n",
            "                                                                                                  \n",
            " batch_normalization_5 (BatchNo  (None, 600)         2400        ['dense_5[0][0]']                \n",
            " rmalization)                                                                                     \n",
            "                                                                                                  \n",
            " leaky_re_lu_5 (LeakyReLU)      (None, 600)          0           ['batch_normalization_5[0][0]']  \n",
            "                                                                                                  \n",
            " dense_6 (Dense)                (None, 1)            601         ['leaky_re_lu_5[0][0]']          \n",
            "                                                                                                  \n",
            "==================================================================================================\n",
            "Total params: 1,871,017\n",
            "Trainable params: 1,863,817\n",
            "Non-trainable params: 7,200\n",
            "__________________________________________________________________________________________________\n",
            "Train shape: (268651, 10, 1), (268651, 10, 1)\n",
            "Val shape: (14139, 10, 1), (14139, 10, 1)\n",
            "Epoch 1/1000\n",
            "66/66 [==============================] - 54s 192ms/step - loss: 118116.8438 - val_loss: 161898.1562\n",
            "Epoch 2/1000\n",
            "66/66 [==============================] - 11s 92ms/step - loss: 31397.5586 - val_loss: 67038.5547\n",
            "Epoch 3/1000\n",
            "66/66 [==============================] - 11s 89ms/step - loss: 3407.3955 - val_loss: 85726.0156\n",
            "Epoch 4/1000\n",
            "66/66 [==============================] - 11s 90ms/step - loss: 537.9002 - val_loss: 73483.5938\n",
            "Epoch 5/1000\n",
            "66/66 [==============================] - 12s 108ms/step - loss: 215.4199 - val_loss: 47771.0234\n",
            "Epoch 6/1000\n",
            "66/66 [==============================] - 11s 92ms/step - loss: 136.5050 - val_loss: 36353.0625\n",
            "Epoch 7/1000\n",
            "66/66 [==============================] - 11s 92ms/step - loss: 103.6274 - val_loss: 25816.5176\n",
            "Epoch 8/1000\n",
            "66/66 [==============================] - 12s 109ms/step - loss: 114.4450 - val_loss: 15652.4141\n",
            "Epoch 9/1000\n",
            "66/66 [==============================] - 11s 93ms/step - loss: 86.9659 - val_loss: 14466.0146\n",
            "Epoch 10/1000\n",
            "66/66 [==============================] - 11s 93ms/step - loss: 71.3726 - val_loss: 7229.7217\n",
            "Epoch 11/1000\n",
            "66/66 [==============================] - 11s 93ms/step - loss: 81.9040 - val_loss: 617.8253\n",
            "Epoch 12/1000\n",
            "66/66 [==============================] - 11s 90ms/step - loss: 55.3179 - val_loss: 1977.4333\n",
            "Epoch 13/1000\n",
            "66/66 [==============================] - 12s 106ms/step - loss: 61.0555 - val_loss: 448.9969\n",
            "Epoch 14/1000\n",
            "66/66 [==============================] - 11s 93ms/step - loss: 57.0659 - val_loss: 352.2306\n",
            "Epoch 15/1000\n",
            "66/66 [==============================] - 11s 91ms/step - loss: 52.1331 - val_loss: 554.4975\n",
            "Epoch 16/1000\n",
            "66/66 [==============================] - 11s 90ms/step - loss: 46.7557 - val_loss: 555.4066\n",
            "Epoch 17/1000\n",
            "66/66 [==============================] - 11s 90ms/step - loss: 45.0232 - val_loss: 2325.7393\n",
            "Epoch 18/1000\n",
            "66/66 [==============================] - 11s 90ms/step - loss: 44.6694 - val_loss: 393.9012\n",
            "Epoch 19/1000\n",
            "66/66 [==============================] - 12s 105ms/step - loss: 49.3549 - val_loss: 292.1590\n",
            "Epoch 20/1000\n",
            "66/66 [==============================] - 11s 94ms/step - loss: 48.4284 - val_loss: 207.3329\n",
            "Epoch 21/1000\n",
            "66/66 [==============================] - 11s 91ms/step - loss: 50.8515 - val_loss: 231.3743\n",
            "Epoch 22/1000\n",
            "66/66 [==============================] - 11s 89ms/step - loss: 42.6577 - val_loss: 279.6718\n",
            "Epoch 23/1000\n",
            "66/66 [==============================] - 12s 103ms/step - loss: 43.1470 - val_loss: 171.2316\n",
            "Epoch 24/1000\n",
            "66/66 [==============================] - 11s 93ms/step - loss: 40.2508 - val_loss: 107.7528\n",
            "Epoch 25/1000\n",
            "66/66 [==============================] - 11s 90ms/step - loss: 34.4436 - val_loss: 183.9331\n",
            "Epoch 26/1000\n",
            "66/66 [==============================] - 11s 91ms/step - loss: 45.6952 - val_loss: 305.6653\n",
            "Epoch 27/1000\n",
            "66/66 [==============================] - 11s 92ms/step - loss: 33.5670 - val_loss: 180.1357\n",
            "Epoch 28/1000\n",
            "66/66 [==============================] - 11s 90ms/step - loss: 38.0432 - val_loss: 150.7924\n",
            "Epoch 29/1000\n",
            "66/66 [==============================] - 12s 106ms/step - loss: 38.6553 - val_loss: 71.1117\n",
            "Epoch 30/1000\n",
            "66/66 [==============================] - 11s 92ms/step - loss: 43.3020 - val_loss: 67.8640\n",
            "Epoch 31/1000\n",
            "66/66 [==============================] - 11s 92ms/step - loss: 40.2019 - val_loss: 60.0959\n",
            "Epoch 32/1000\n",
            "66/66 [==============================] - 11s 90ms/step - loss: 44.2745 - val_loss: 67.4943\n",
            "Epoch 33/1000\n",
            "66/66 [==============================] - 11s 90ms/step - loss: 43.1980 - val_loss: 70.3906\n",
            "Epoch 34/1000\n",
            "66/66 [==============================] - 11s 90ms/step - loss: 38.6031 - val_loss: 66.2592\n",
            "Epoch 35/1000\n",
            "66/66 [==============================] - 11s 90ms/step - loss: 41.5943 - val_loss: 71.6838\n",
            "Epoch 36/1000\n",
            "66/66 [==============================] - 12s 105ms/step - loss: 44.2227 - val_loss: 54.8624\n",
            "Epoch 37/1000\n",
            "66/66 [==============================] - 11s 92ms/step - loss: 40.9951 - val_loss: 57.8026\n",
            "Epoch 38/1000\n",
            "66/66 [==============================] - 11s 90ms/step - loss: 34.9873 - val_loss: 78.3375\n",
            "Epoch 39/1000\n",
            "66/66 [==============================] - 11s 90ms/step - loss: 34.6372 - val_loss: 76.6400\n",
            "Epoch 40/1000\n",
            "66/66 [==============================] - 11s 90ms/step - loss: 36.4937 - val_loss: 72.9093\n",
            "Epoch 41/1000\n",
            "66/66 [==============================] - 11s 89ms/step - loss: 42.9100 - val_loss: 78.9968\n",
            "Epoch 42/1000\n",
            "66/66 [==============================] - 11s 90ms/step - loss: 36.9157 - val_loss: 83.3034\n",
            "Epoch 43/1000\n",
            "66/66 [==============================] - 11s 92ms/step - loss: 43.0012 - val_loss: 83.1334\n",
            "Epoch 44/1000\n",
            "66/66 [==============================] - 11s 90ms/step - loss: 34.3550 - val_loss: 80.3012\n",
            "Epoch 45/1000\n",
            "66/66 [==============================] - 11s 92ms/step - loss: 38.6222 - val_loss: 80.4263\n",
            "Epoch 46/1000\n",
            "66/66 [==============================] - 11s 89ms/step - loss: 35.1468 - val_loss: 73.5019\n",
            "Epoch 47/1000\n",
            "66/66 [==============================] - 11s 90ms/step - loss: 48.9188 - val_loss: 72.4394\n",
            "Epoch 48/1000\n",
            "66/66 [==============================] - 11s 89ms/step - loss: 40.5532 - val_loss: 74.3862\n",
            "Epoch 49/1000\n",
            "66/66 [==============================] - 11s 89ms/step - loss: 39.4461 - val_loss: 73.3694\n",
            "Epoch 50/1000\n",
            "66/66 [==============================] - 11s 90ms/step - loss: 38.5503 - val_loss: 73.4000\n",
            "Epoch 51/1000\n",
            "66/66 [==============================] - 11s 92ms/step - loss: 42.5936 - val_loss: 73.4868\n",
            "Epoch 52/1000\n",
            "66/66 [==============================] - 11s 93ms/step - loss: 39.8458 - val_loss: 74.9141\n",
            "Epoch 53/1000\n",
            "66/66 [==============================] - 11s 92ms/step - loss: 39.5831 - val_loss: 74.4804\n",
            "Epoch 54/1000\n",
            "66/66 [==============================] - 11s 93ms/step - loss: 43.8783 - val_loss: 75.3898\n",
            "Epoch 55/1000\n",
            "66/66 [==============================] - 11s 91ms/step - loss: 39.9526 - val_loss: 75.6573\n",
            "Epoch 56/1000\n",
            "66/66 [==============================] - 11s 90ms/step - loss: 31.5523 - val_loss: 75.0412\n"
          ]
        },
        {
          "data": {
            "text/html": [
              "Waiting for W&B process to finish... <strong style=\"color:green\">(success).</strong>"
            ],
            "text/plain": [
              "<IPython.core.display.HTML object>"
            ]
          },
          "metadata": {},
          "output_type": "display_data"
        },
        {
          "data": {
            "application/vnd.jupyter.widget-view+json": {
              "model_id": "5c77bfaa37df4863ae1ee8b5c310a429",
              "version_major": 2,
              "version_minor": 0
            },
            "text/plain": [
              "VBox(children=(Label(value='0.006 MB of 0.006 MB uploaded (0.000 MB deduped)\\r'), FloatProgress(value=1.0, max…"
            ]
          },
          "metadata": {},
          "output_type": "display_data"
        },
        {
          "data": {
            "text/html": [
              "<style>\n",
              "    table.wandb td:nth-child(1) { padding: 0 10px; text-align: left ; width: auto;} td:nth-child(2) {text-align: left ; width: 100%}\n",
              "    .wandb-row { display: flex; flex-direction: row; flex-wrap: wrap; justify-content: flex-start; width: 100% }\n",
              "    .wandb-col { display: flex; flex-direction: column; flex-basis: 100%; flex: 1; padding: 10px; }\n",
              "    </style>\n",
              "<div class=\"wandb-row\"><div class=\"wandb-col\"><h3>Run history:</h3><br/><table class=\"wandb\"><tr><td>epoch</td><td>▁▁▁▂▂▂▂▂▂▃▃▃▃▃▃▄▄▄▄▄▅▅▅▅▅▅▆▆▆▆▆▆▇▇▇▇▇███</td></tr><tr><td>loss</td><td>█▃▁▁▁▁▁▁▁▁▁▁▁▁▁▁▁▁▁▁▁▁▁▁▁▁▁▁▁▁▁▁▁▁▁▁▁▁▁▁</td></tr><tr><td>val_loss</td><td>█▄▅▃▃▂▂▁▁▁▁▁▁▁▁▁▁▁▁▁▁▁▁▁▁▁▁▁▁▁▁▁▁▁▁▁▁▁▁▁</td></tr></table><br/></div><div class=\"wandb-col\"><h3>Run summary:</h3><br/><table class=\"wandb\"><tr><td>best_epoch</td><td>35</td></tr><tr><td>best_val_loss</td><td>54.86241</td></tr><tr><td>epoch</td><td>55</td></tr><tr><td>loss</td><td>31.55226</td></tr><tr><td>val_loss</td><td>75.04121</td></tr></table><br/></div></div>"
            ],
            "text/plain": [
              "<IPython.core.display.HTML object>"
            ]
          },
          "metadata": {},
          "output_type": "display_data"
        },
        {
          "data": {
            "text/html": [
              " View run <strong style=\"color:#cdcd00\">twilight-planet-193</strong> at: <a href='https://wandb.ai/avogadro/Deep%20learning%20for%20option%20pricing%20-%20rolling%20windows/runs/i6yw5d6g' target=\"_blank\">https://wandb.ai/avogadro/Deep%20learning%20for%20option%20pricing%20-%20rolling%20windows/runs/i6yw5d6g</a><br/>Synced 5 W&B file(s), 1 media file(s), 0 artifact file(s) and 0 other file(s)"
            ],
            "text/plain": [
              "<IPython.core.display.HTML object>"
            ]
          },
          "metadata": {},
          "output_type": "display_data"
        },
        {
          "data": {
            "text/html": [
              "Find logs at: <code>./wandb/run-20230413_165238-i6yw5d6g/logs</code>"
            ],
            "text/plain": [
              "<IPython.core.display.HTML object>"
            ]
          },
          "metadata": {},
          "output_type": "display_data"
        },
        {
          "name": "stdout",
          "output_type": "stream",
          "text": [
            "--- Predictions for test_start 2015-03-04 ---\n",
            "MSE: 308.11243\n",
            "RMSE: 17.553131\n",
            "-------------------------------------------\n",
            "Train shape: (290659, 10, 1), (290659, 4)\n",
            "Val shape: (17220, 10, 1), (17220, 4)\n",
            "Test shape: (34022, 10, 1), (34022, 4)\n"
          ]
        },
        {
          "data": {
            "text/html": [
              "Changes to your `wandb` environment variables will be ignored because your `wandb` session has already started. For more information on how to modify your settings with `wandb.init()` arguments, please refer to <a href='https://wandb.me/wandb-init' target=\"_blank\">the W&B docs</a>."
            ],
            "text/plain": [
              "<IPython.core.display.HTML object>"
            ]
          },
          "metadata": {},
          "output_type": "display_data"
        },
        {
          "data": {
            "text/html": [
              "Tracking run with wandb version 0.14.2"
            ],
            "text/plain": [
              "<IPython.core.display.HTML object>"
            ]
          },
          "metadata": {},
          "output_type": "display_data"
        },
        {
          "data": {
            "text/html": [
              "Run data is saved locally in <code>/content/wandb/run-20230413_170420-oqdbuivq</code>"
            ],
            "text/plain": [
              "<IPython.core.display.HTML object>"
            ]
          },
          "metadata": {},
          "output_type": "display_data"
        },
        {
          "data": {
            "text/html": [
              "Syncing run <strong><a href='https://wandb.ai/avogadro/Deep%20learning%20for%20option%20pricing%20-%20rolling%20windows/runs/oqdbuivq' target=\"_blank\">pleasant-pond-194</a></strong> to <a href='https://wandb.ai/avogadro/Deep%20learning%20for%20option%20pricing%20-%20rolling%20windows' target=\"_blank\">Weights & Biases</a> (<a href='https://wandb.me/run' target=\"_blank\">docs</a>)<br/>"
            ],
            "text/plain": [
              "<IPython.core.display.HTML object>"
            ]
          },
          "metadata": {},
          "output_type": "display_data"
        },
        {
          "data": {
            "text/html": [
              " View project at <a href='https://wandb.ai/avogadro/Deep%20learning%20for%20option%20pricing%20-%20rolling%20windows' target=\"_blank\">https://wandb.ai/avogadro/Deep%20learning%20for%20option%20pricing%20-%20rolling%20windows</a>"
            ],
            "text/plain": [
              "<IPython.core.display.HTML object>"
            ]
          },
          "metadata": {},
          "output_type": "display_data"
        },
        {
          "data": {
            "text/html": [
              " View run at <a href='https://wandb.ai/avogadro/Deep%20learning%20for%20option%20pricing%20-%20rolling%20windows/runs/oqdbuivq' target=\"_blank\">https://wandb.ai/avogadro/Deep%20learning%20for%20option%20pricing%20-%20rolling%20windows/runs/oqdbuivq</a>"
            ],
            "text/plain": [
              "<IPython.core.display.HTML object>"
            ]
          },
          "metadata": {},
          "output_type": "display_data"
        },
        {
          "name": "stdout",
          "output_type": "stream",
          "text": [
            "Model: \"model\"\n",
            "__________________________________________________________________________________________________\n",
            " Layer (type)                   Output Shape         Param #     Connected to                     \n",
            "==================================================================================================\n",
            " input_1 (InputLayer)           [(None, 10, 1)]      0           []                               \n",
            "                                                                                                  \n",
            " sequential (Sequential)        (None, 16)           2016        ['input_1[0][0]',                \n",
            "                                                                  'input_1[0][0]',                \n",
            "                                                                  'input_1[0][0]',                \n",
            "                                                                  'input_1[0][0]',                \n",
            "                                                                  'input_1[0][0]']                \n",
            "                                                                                                  \n",
            " input_2 (InputLayer)           [(None, 4)]          0           []                               \n",
            "                                                                                                  \n",
            " concatenate (Concatenate)      (None, 84)           0           ['sequential[0][0]',             \n",
            "                                                                  'sequential[1][0]',             \n",
            "                                                                  'sequential[2][0]',             \n",
            "                                                                  'sequential[3][0]',             \n",
            "                                                                  'sequential[4][0]',             \n",
            "                                                                  'input_2[0][0]']                \n",
            "                                                                                                  \n",
            " dense (Dense)                  (None, 600)          51000       ['concatenate[0][0]']            \n",
            "                                                                                                  \n",
            " batch_normalization (BatchNorm  (None, 600)         2400        ['dense[0][0]']                  \n",
            " alization)                                                                                       \n",
            "                                                                                                  \n",
            " leaky_re_lu (LeakyReLU)        (None, 600)          0           ['batch_normalization[0][0]']    \n",
            "                                                                                                  \n",
            " dense_1 (Dense)                (None, 600)          360600      ['leaky_re_lu[0][0]']            \n",
            "                                                                                                  \n",
            " batch_normalization_1 (BatchNo  (None, 600)         2400        ['dense_1[0][0]']                \n",
            " rmalization)                                                                                     \n",
            "                                                                                                  \n",
            " leaky_re_lu_1 (LeakyReLU)      (None, 600)          0           ['batch_normalization_1[0][0]']  \n",
            "                                                                                                  \n",
            " dense_2 (Dense)                (None, 600)          360600      ['leaky_re_lu_1[0][0]']          \n",
            "                                                                                                  \n",
            " batch_normalization_2 (BatchNo  (None, 600)         2400        ['dense_2[0][0]']                \n",
            " rmalization)                                                                                     \n",
            "                                                                                                  \n",
            " leaky_re_lu_2 (LeakyReLU)      (None, 600)          0           ['batch_normalization_2[0][0]']  \n",
            "                                                                                                  \n",
            " dense_3 (Dense)                (None, 600)          360600      ['leaky_re_lu_2[0][0]']          \n",
            "                                                                                                  \n",
            " batch_normalization_3 (BatchNo  (None, 600)         2400        ['dense_3[0][0]']                \n",
            " rmalization)                                                                                     \n",
            "                                                                                                  \n",
            " leaky_re_lu_3 (LeakyReLU)      (None, 600)          0           ['batch_normalization_3[0][0]']  \n",
            "                                                                                                  \n",
            " dense_4 (Dense)                (None, 600)          360600      ['leaky_re_lu_3[0][0]']          \n",
            "                                                                                                  \n",
            " batch_normalization_4 (BatchNo  (None, 600)         2400        ['dense_4[0][0]']                \n",
            " rmalization)                                                                                     \n",
            "                                                                                                  \n",
            " leaky_re_lu_4 (LeakyReLU)      (None, 600)          0           ['batch_normalization_4[0][0]']  \n",
            "                                                                                                  \n",
            " dense_5 (Dense)                (None, 600)          360600      ['leaky_re_lu_4[0][0]']          \n",
            "                                                                                                  \n",
            " batch_normalization_5 (BatchNo  (None, 600)         2400        ['dense_5[0][0]']                \n",
            " rmalization)                                                                                     \n",
            "                                                                                                  \n",
            " leaky_re_lu_5 (LeakyReLU)      (None, 600)          0           ['batch_normalization_5[0][0]']  \n",
            "                                                                                                  \n",
            " dense_6 (Dense)                (None, 1)            601         ['leaky_re_lu_5[0][0]']          \n",
            "                                                                                                  \n",
            "==================================================================================================\n",
            "Total params: 1,871,017\n",
            "Trainable params: 1,863,817\n",
            "Non-trainable params: 7,200\n",
            "__________________________________________________________________________________________________\n",
            "Train shape: (268651, 10, 1), (268651, 10, 1)\n",
            "Val shape: (14139, 10, 1), (14139, 10, 1)\n",
            "Epoch 1/1000\n",
            "66/66 [==============================] - 56s 202ms/step - loss: 117026.0703 - val_loss: 140441.1719\n",
            "Epoch 2/1000\n",
            "66/66 [==============================] - 12s 94ms/step - loss: 30017.9219 - val_loss: 61534.1875\n",
            "Epoch 3/1000\n",
            "66/66 [==============================] - 11s 93ms/step - loss: 3061.1262 - val_loss: 114131.2344\n",
            "Epoch 4/1000\n",
            "66/66 [==============================] - 12s 109ms/step - loss: 452.6788 - val_loss: 60086.9102\n",
            "Epoch 5/1000\n",
            "66/66 [==============================] - 11s 95ms/step - loss: 216.0805 - val_loss: 47600.7656\n",
            "Epoch 6/1000\n",
            "66/66 [==============================] - 11s 95ms/step - loss: 134.2921 - val_loss: 36264.9336\n",
            "Epoch 7/1000\n",
            "66/66 [==============================] - 11s 97ms/step - loss: 90.1190 - val_loss: 26229.6035\n",
            "Epoch 8/1000\n",
            "66/66 [==============================] - 11s 96ms/step - loss: 79.7624 - val_loss: 15705.2891\n",
            "Epoch 9/1000\n",
            "66/66 [==============================] - 11s 97ms/step - loss: 72.5182 - val_loss: 18733.2168\n",
            "Epoch 10/1000\n",
            "66/66 [==============================] - 12s 109ms/step - loss: 74.7945 - val_loss: 12822.9980\n",
            "Epoch 11/1000\n",
            "66/66 [==============================] - 11s 94ms/step - loss: 67.6510 - val_loss: 16931.5898\n",
            "Epoch 12/1000\n",
            "66/66 [==============================] - 12s 106ms/step - loss: 61.3846 - val_loss: 3787.4868\n",
            "Epoch 13/1000\n",
            "66/66 [==============================] - 11s 92ms/step - loss: 47.6697 - val_loss: 4493.9751\n",
            "Epoch 14/1000\n",
            "66/66 [==============================] - 12s 108ms/step - loss: 45.1552 - val_loss: 1783.0938\n",
            "Epoch 15/1000\n",
            "66/66 [==============================] - 11s 93ms/step - loss: 47.7847 - val_loss: 1981.9374\n",
            "Epoch 16/1000\n",
            "66/66 [==============================] - 12s 106ms/step - loss: 48.9336 - val_loss: 629.9742\n",
            "Epoch 17/1000\n",
            "66/66 [==============================] - 11s 93ms/step - loss: 49.5923 - val_loss: 2071.1245\n",
            "Epoch 18/1000\n",
            "66/66 [==============================] - 11s 92ms/step - loss: 41.9483 - val_loss: 4438.6060\n",
            "Epoch 19/1000\n",
            "66/66 [==============================] - 12s 107ms/step - loss: 48.3537 - val_loss: 425.6318\n",
            "Epoch 20/1000\n",
            "66/66 [==============================] - 11s 95ms/step - loss: 38.1768 - val_loss: 399.6049\n",
            "Epoch 21/1000\n",
            "66/66 [==============================] - 11s 92ms/step - loss: 49.5806 - val_loss: 851.2053\n",
            "Epoch 22/1000\n",
            "66/66 [==============================] - 14s 131ms/step - loss: 36.8556 - val_loss: 70.0887\n",
            "Epoch 23/1000\n",
            "66/66 [==============================] - 11s 92ms/step - loss: 46.2963 - val_loss: 205.4547\n",
            "Epoch 24/1000\n",
            "66/66 [==============================] - 11s 94ms/step - loss: 40.2384 - val_loss: 621.6086\n",
            "Epoch 25/1000\n",
            "66/66 [==============================] - 11s 94ms/step - loss: 37.8960 - val_loss: 714.3899\n",
            "Epoch 26/1000\n",
            "66/66 [==============================] - 11s 93ms/step - loss: 38.7943 - val_loss: 237.7056\n",
            "Epoch 27/1000\n",
            "66/66 [==============================] - 11s 94ms/step - loss: 42.8737 - val_loss: 250.2548\n",
            "Epoch 28/1000\n",
            "66/66 [==============================] - 11s 92ms/step - loss: 31.8369 - val_loss: 119.3366\n",
            "Epoch 29/1000\n",
            "66/66 [==============================] - 11s 92ms/step - loss: 40.2721 - val_loss: 107.5923\n",
            "Epoch 30/1000\n",
            "66/66 [==============================] - 11s 94ms/step - loss: 35.9529 - val_loss: 141.7559\n",
            "Epoch 31/1000\n",
            "66/66 [==============================] - 11s 93ms/step - loss: 35.2347 - val_loss: 79.1794\n",
            "Epoch 32/1000\n",
            "66/66 [==============================] - 12s 107ms/step - loss: 38.6270 - val_loss: 39.8168\n",
            "Epoch 33/1000\n",
            "66/66 [==============================] - 11s 92ms/step - loss: 37.3109 - val_loss: 66.4094\n",
            "Epoch 34/1000\n",
            "66/66 [==============================] - 11s 94ms/step - loss: 38.3002 - val_loss: 92.6804\n",
            "Epoch 35/1000\n",
            "66/66 [==============================] - 11s 93ms/step - loss: 38.1535 - val_loss: 89.5092\n",
            "Epoch 36/1000\n",
            "66/66 [==============================] - 11s 92ms/step - loss: 39.2931 - val_loss: 95.1437\n",
            "Epoch 37/1000\n",
            "66/66 [==============================] - 11s 94ms/step - loss: 40.6166 - val_loss: 89.6275\n",
            "Epoch 38/1000\n",
            "66/66 [==============================] - 11s 93ms/step - loss: 34.5895 - val_loss: 90.9927\n",
            "Epoch 39/1000\n",
            "66/66 [==============================] - 11s 91ms/step - loss: 36.4420 - val_loss: 94.7606\n",
            "Epoch 40/1000\n",
            "66/66 [==============================] - 11s 93ms/step - loss: 40.5864 - val_loss: 100.3093\n",
            "Epoch 41/1000\n",
            "66/66 [==============================] - 11s 93ms/step - loss: 39.3494 - val_loss: 94.9173\n",
            "Epoch 42/1000\n",
            "66/66 [==============================] - 11s 93ms/step - loss: 34.7225 - val_loss: 98.7823\n",
            "Epoch 43/1000\n",
            "66/66 [==============================] - 11s 94ms/step - loss: 39.6434 - val_loss: 94.3183\n",
            "Epoch 44/1000\n",
            "66/66 [==============================] - 11s 93ms/step - loss: 32.9864 - val_loss: 91.9316\n",
            "Epoch 45/1000\n",
            "66/66 [==============================] - 11s 94ms/step - loss: 34.3729 - val_loss: 92.9848\n",
            "Epoch 46/1000\n",
            "66/66 [==============================] - 11s 94ms/step - loss: 35.9346 - val_loss: 91.8389\n",
            "Epoch 47/1000\n",
            "66/66 [==============================] - 11s 93ms/step - loss: 31.5680 - val_loss: 90.8492\n",
            "Epoch 48/1000\n",
            "66/66 [==============================] - 11s 92ms/step - loss: 27.9438 - val_loss: 87.8995\n",
            "Epoch 49/1000\n",
            "66/66 [==============================] - 11s 90ms/step - loss: 35.3123 - val_loss: 89.3697\n",
            "Epoch 50/1000\n",
            "66/66 [==============================] - 11s 90ms/step - loss: 39.9886 - val_loss: 87.5681\n",
            "Epoch 51/1000\n",
            "66/66 [==============================] - 11s 91ms/step - loss: 35.2189 - val_loss: 88.0272\n",
            "Epoch 52/1000\n",
            "66/66 [==============================] - 11s 92ms/step - loss: 34.6026 - val_loss: 89.3634\n"
          ]
        },
        {
          "data": {
            "text/html": [
              "Waiting for W&B process to finish... <strong style=\"color:green\">(success).</strong>"
            ],
            "text/plain": [
              "<IPython.core.display.HTML object>"
            ]
          },
          "metadata": {},
          "output_type": "display_data"
        },
        {
          "data": {
            "application/vnd.jupyter.widget-view+json": {
              "model_id": "6ab5c9390a44440994aea99a753b4826",
              "version_major": 2,
              "version_minor": 0
            },
            "text/plain": [
              "VBox(children=(Label(value='0.006 MB of 0.014 MB uploaded (0.000 MB deduped)\\r'), FloatProgress(value=0.388445…"
            ]
          },
          "metadata": {},
          "output_type": "display_data"
        },
        {
          "data": {
            "text/html": [
              "<style>\n",
              "    table.wandb td:nth-child(1) { padding: 0 10px; text-align: left ; width: auto;} td:nth-child(2) {text-align: left ; width: 100%}\n",
              "    .wandb-row { display: flex; flex-direction: row; flex-wrap: wrap; justify-content: flex-start; width: 100% }\n",
              "    .wandb-col { display: flex; flex-direction: column; flex-basis: 100%; flex: 1; padding: 10px; }\n",
              "    </style>\n",
              "<div class=\"wandb-row\"><div class=\"wandb-col\"><h3>Run history:</h3><br/><table class=\"wandb\"><tr><td>epoch</td><td>▁▁▁▁▂▂▂▂▂▃▃▃▃▃▃▄▄▄▄▄▅▅▅▅▅▅▆▆▆▆▆▆▇▇▇▇▇███</td></tr><tr><td>loss</td><td>█▃▁▁▁▁▁▁▁▁▁▁▁▁▁▁▁▁▁▁▁▁▁▁▁▁▁▁▁▁▁▁▁▁▁▁▁▁▁▁</td></tr><tr><td>val_loss</td><td>█▄▇▄▃▂▂▂▂▁▁▁▁▁▁▁▁▁▁▁▁▁▁▁▁▁▁▁▁▁▁▁▁▁▁▁▁▁▁▁</td></tr></table><br/></div><div class=\"wandb-col\"><h3>Run summary:</h3><br/><table class=\"wandb\"><tr><td>best_epoch</td><td>31</td></tr><tr><td>best_val_loss</td><td>39.81684</td></tr><tr><td>epoch</td><td>51</td></tr><tr><td>loss</td><td>34.60265</td></tr><tr><td>val_loss</td><td>89.36344</td></tr></table><br/></div></div>"
            ],
            "text/plain": [
              "<IPython.core.display.HTML object>"
            ]
          },
          "metadata": {},
          "output_type": "display_data"
        },
        {
          "data": {
            "text/html": [
              " View run <strong style=\"color:#cdcd00\">pleasant-pond-194</strong> at: <a href='https://wandb.ai/avogadro/Deep%20learning%20for%20option%20pricing%20-%20rolling%20windows/runs/oqdbuivq' target=\"_blank\">https://wandb.ai/avogadro/Deep%20learning%20for%20option%20pricing%20-%20rolling%20windows/runs/oqdbuivq</a><br/>Synced 5 W&B file(s), 1 media file(s), 0 artifact file(s) and 0 other file(s)"
            ],
            "text/plain": [
              "<IPython.core.display.HTML object>"
            ]
          },
          "metadata": {},
          "output_type": "display_data"
        },
        {
          "data": {
            "text/html": [
              "Find logs at: <code>./wandb/run-20230413_170420-oqdbuivq/logs</code>"
            ],
            "text/plain": [
              "<IPython.core.display.HTML object>"
            ]
          },
          "metadata": {},
          "output_type": "display_data"
        },
        {
          "name": "stdout",
          "output_type": "stream",
          "text": [
            "--- Predictions for test_start 2015-03-16 ---\n",
            "MSE: 131.89194\n",
            "RMSE: 11.484422\n",
            "-------------------------------------------\n",
            "Train shape: (298107, 10, 1), (298107, 4)\n",
            "Val shape: (17117, 10, 1), (17117, 4)\n",
            "Test shape: (30450, 10, 1), (30450, 4)\n"
          ]
        },
        {
          "data": {
            "text/html": [
              "Changes to your `wandb` environment variables will be ignored because your `wandb` session has already started. For more information on how to modify your settings with `wandb.init()` arguments, please refer to <a href='https://wandb.me/wandb-init' target=\"_blank\">the W&B docs</a>."
            ],
            "text/plain": [
              "<IPython.core.display.HTML object>"
            ]
          },
          "metadata": {},
          "output_type": "display_data"
        },
        {
          "data": {
            "text/html": [
              "Tracking run with wandb version 0.14.2"
            ],
            "text/plain": [
              "<IPython.core.display.HTML object>"
            ]
          },
          "metadata": {},
          "output_type": "display_data"
        },
        {
          "data": {
            "text/html": [
              "Run data is saved locally in <code>/content/wandb/run-20230413_171541-8l76erkx</code>"
            ],
            "text/plain": [
              "<IPython.core.display.HTML object>"
            ]
          },
          "metadata": {},
          "output_type": "display_data"
        },
        {
          "data": {
            "text/html": [
              "Syncing run <strong><a href='https://wandb.ai/avogadro/Deep%20learning%20for%20option%20pricing%20-%20rolling%20windows/runs/8l76erkx' target=\"_blank\">hearty-thunder-195</a></strong> to <a href='https://wandb.ai/avogadro/Deep%20learning%20for%20option%20pricing%20-%20rolling%20windows' target=\"_blank\">Weights & Biases</a> (<a href='https://wandb.me/run' target=\"_blank\">docs</a>)<br/>"
            ],
            "text/plain": [
              "<IPython.core.display.HTML object>"
            ]
          },
          "metadata": {},
          "output_type": "display_data"
        },
        {
          "data": {
            "text/html": [
              " View project at <a href='https://wandb.ai/avogadro/Deep%20learning%20for%20option%20pricing%20-%20rolling%20windows' target=\"_blank\">https://wandb.ai/avogadro/Deep%20learning%20for%20option%20pricing%20-%20rolling%20windows</a>"
            ],
            "text/plain": [
              "<IPython.core.display.HTML object>"
            ]
          },
          "metadata": {},
          "output_type": "display_data"
        },
        {
          "data": {
            "text/html": [
              " View run at <a href='https://wandb.ai/avogadro/Deep%20learning%20for%20option%20pricing%20-%20rolling%20windows/runs/8l76erkx' target=\"_blank\">https://wandb.ai/avogadro/Deep%20learning%20for%20option%20pricing%20-%20rolling%20windows/runs/8l76erkx</a>"
            ],
            "text/plain": [
              "<IPython.core.display.HTML object>"
            ]
          },
          "metadata": {},
          "output_type": "display_data"
        },
        {
          "name": "stdout",
          "output_type": "stream",
          "text": [
            "Model: \"model\"\n",
            "__________________________________________________________________________________________________\n",
            " Layer (type)                   Output Shape         Param #     Connected to                     \n",
            "==================================================================================================\n",
            " input_1 (InputLayer)           [(None, 10, 1)]      0           []                               \n",
            "                                                                                                  \n",
            " sequential (Sequential)        (None, 16)           2016        ['input_1[0][0]',                \n",
            "                                                                  'input_1[0][0]',                \n",
            "                                                                  'input_1[0][0]',                \n",
            "                                                                  'input_1[0][0]',                \n",
            "                                                                  'input_1[0][0]']                \n",
            "                                                                                                  \n",
            " input_2 (InputLayer)           [(None, 4)]          0           []                               \n",
            "                                                                                                  \n",
            " concatenate (Concatenate)      (None, 84)           0           ['sequential[0][0]',             \n",
            "                                                                  'sequential[1][0]',             \n",
            "                                                                  'sequential[2][0]',             \n",
            "                                                                  'sequential[3][0]',             \n",
            "                                                                  'sequential[4][0]',             \n",
            "                                                                  'input_2[0][0]']                \n",
            "                                                                                                  \n",
            " dense (Dense)                  (None, 600)          51000       ['concatenate[0][0]']            \n",
            "                                                                                                  \n",
            " batch_normalization (BatchNorm  (None, 600)         2400        ['dense[0][0]']                  \n",
            " alization)                                                                                       \n",
            "                                                                                                  \n",
            " leaky_re_lu (LeakyReLU)        (None, 600)          0           ['batch_normalization[0][0]']    \n",
            "                                                                                                  \n",
            " dense_1 (Dense)                (None, 600)          360600      ['leaky_re_lu[0][0]']            \n",
            "                                                                                                  \n",
            " batch_normalization_1 (BatchNo  (None, 600)         2400        ['dense_1[0][0]']                \n",
            " rmalization)                                                                                     \n",
            "                                                                                                  \n",
            " leaky_re_lu_1 (LeakyReLU)      (None, 600)          0           ['batch_normalization_1[0][0]']  \n",
            "                                                                                                  \n",
            " dense_2 (Dense)                (None, 600)          360600      ['leaky_re_lu_1[0][0]']          \n",
            "                                                                                                  \n",
            " batch_normalization_2 (BatchNo  (None, 600)         2400        ['dense_2[0][0]']                \n",
            " rmalization)                                                                                     \n",
            "                                                                                                  \n",
            " leaky_re_lu_2 (LeakyReLU)      (None, 600)          0           ['batch_normalization_2[0][0]']  \n",
            "                                                                                                  \n",
            " dense_3 (Dense)                (None, 600)          360600      ['leaky_re_lu_2[0][0]']          \n",
            "                                                                                                  \n",
            " batch_normalization_3 (BatchNo  (None, 600)         2400        ['dense_3[0][0]']                \n",
            " rmalization)                                                                                     \n",
            "                                                                                                  \n",
            " leaky_re_lu_3 (LeakyReLU)      (None, 600)          0           ['batch_normalization_3[0][0]']  \n",
            "                                                                                                  \n",
            " dense_4 (Dense)                (None, 600)          360600      ['leaky_re_lu_3[0][0]']          \n",
            "                                                                                                  \n",
            " batch_normalization_4 (BatchNo  (None, 600)         2400        ['dense_4[0][0]']                \n",
            " rmalization)                                                                                     \n",
            "                                                                                                  \n",
            " leaky_re_lu_4 (LeakyReLU)      (None, 600)          0           ['batch_normalization_4[0][0]']  \n",
            "                                                                                                  \n",
            " dense_5 (Dense)                (None, 600)          360600      ['leaky_re_lu_4[0][0]']          \n",
            "                                                                                                  \n",
            " batch_normalization_5 (BatchNo  (None, 600)         2400        ['dense_5[0][0]']                \n",
            " rmalization)                                                                                     \n",
            "                                                                                                  \n",
            " leaky_re_lu_5 (LeakyReLU)      (None, 600)          0           ['batch_normalization_5[0][0]']  \n",
            "                                                                                                  \n",
            " dense_6 (Dense)                (None, 1)            601         ['leaky_re_lu_5[0][0]']          \n",
            "                                                                                                  \n",
            "==================================================================================================\n",
            "Total params: 1,871,017\n",
            "Trainable params: 1,863,817\n",
            "Non-trainable params: 7,200\n",
            "__________________________________________________________________________________________________\n",
            "Train shape: (268651, 10, 1), (268651, 10, 1)\n",
            "Val shape: (14139, 10, 1), (14139, 10, 1)\n",
            "Epoch 1/1000\n",
            "66/66 [==============================] - 55s 196ms/step - loss: 115491.0938 - val_loss: 130924.0781\n",
            "Epoch 2/1000\n",
            "66/66 [==============================] - 11s 96ms/step - loss: 28050.4961 - val_loss: 38613.5312\n",
            "Epoch 3/1000\n",
            "66/66 [==============================] - 11s 92ms/step - loss: 2775.4705 - val_loss: 78961.6406\n",
            "Epoch 4/1000\n",
            "66/66 [==============================] - 11s 92ms/step - loss: 458.1165 - val_loss: 59879.9609\n",
            "Epoch 5/1000\n",
            "66/66 [==============================] - 11s 91ms/step - loss: 200.9573 - val_loss: 43277.0352\n",
            "Epoch 6/1000\n",
            "66/66 [==============================] - 12s 107ms/step - loss: 123.0319 - val_loss: 33642.3945\n",
            "Epoch 7/1000\n",
            "66/66 [==============================] - 11s 95ms/step - loss: 107.4062 - val_loss: 24866.0332\n",
            "Epoch 8/1000\n",
            "66/66 [==============================] - 11s 94ms/step - loss: 88.4807 - val_loss: 16704.5137\n",
            "Epoch 9/1000\n",
            "66/66 [==============================] - 11s 94ms/step - loss: 84.2271 - val_loss: 11979.5908\n",
            "Epoch 10/1000\n",
            "66/66 [==============================] - 11s 94ms/step - loss: 67.1599 - val_loss: 11659.5791\n",
            "Epoch 11/1000\n",
            "66/66 [==============================] - 11s 93ms/step - loss: 65.9164 - val_loss: 3258.4004\n",
            "Epoch 12/1000\n",
            "66/66 [==============================] - 11s 94ms/step - loss: 64.3549 - val_loss: 2321.3542\n",
            "Epoch 13/1000\n",
            "66/66 [==============================] - 11s 91ms/step - loss: 52.0196 - val_loss: 4440.4434\n",
            "Epoch 14/1000\n",
            "66/66 [==============================] - 11s 92ms/step - loss: 52.2322 - val_loss: 10878.0234\n",
            "Epoch 15/1000\n",
            "66/66 [==============================] - 11s 92ms/step - loss: 59.5484 - val_loss: 11332.2930\n",
            "Epoch 16/1000\n",
            "66/66 [==============================] - 11s 90ms/step - loss: 62.4524 - val_loss: 8345.8936\n",
            "Epoch 17/1000\n",
            "66/66 [==============================] - 11s 90ms/step - loss: 42.7621 - val_loss: 4449.9355\n",
            "Epoch 18/1000\n",
            "66/66 [==============================] - 11s 91ms/step - loss: 45.3537 - val_loss: 4304.8516\n",
            "Epoch 19/1000\n",
            "66/66 [==============================] - 11s 91ms/step - loss: 36.3341 - val_loss: 4624.8472\n",
            "Epoch 20/1000\n",
            "66/66 [==============================] - 11s 91ms/step - loss: 49.1733 - val_loss: 4352.8057\n",
            "Epoch 21/1000\n",
            "66/66 [==============================] - 11s 90ms/step - loss: 37.3878 - val_loss: 4308.5820\n",
            "Epoch 22/1000\n",
            "66/66 [==============================] - 11s 91ms/step - loss: 47.5718 - val_loss: 2756.9688\n",
            "Epoch 23/1000\n",
            "66/66 [==============================] - 12s 105ms/step - loss: 43.7531 - val_loss: 2039.5918\n",
            "Epoch 24/1000\n",
            "66/66 [==============================] - 11s 95ms/step - loss: 41.2394 - val_loss: 1285.6503\n",
            "Epoch 25/1000\n",
            "66/66 [==============================] - 11s 96ms/step - loss: 54.6358 - val_loss: 472.7907\n",
            "Epoch 26/1000\n",
            "66/66 [==============================] - 11s 92ms/step - loss: 42.7877 - val_loss: 522.7847\n",
            "Epoch 27/1000\n",
            "66/66 [==============================] - 11s 91ms/step - loss: 38.6582 - val_loss: 548.1843\n",
            "Epoch 28/1000\n",
            "66/66 [==============================] - 12s 105ms/step - loss: 37.9913 - val_loss: 411.0049\n",
            "Epoch 29/1000\n",
            "66/66 [==============================] - 12s 107ms/step - loss: 36.2945 - val_loss: 228.1730\n",
            "Epoch 30/1000\n",
            "66/66 [==============================] - 11s 94ms/step - loss: 43.4828 - val_loss: 178.6152\n",
            "Epoch 31/1000\n",
            "66/66 [==============================] - 11s 95ms/step - loss: 38.8357 - val_loss: 104.7473\n",
            "Epoch 32/1000\n",
            "66/66 [==============================] - 11s 95ms/step - loss: 34.9224 - val_loss: 85.8306\n",
            "Epoch 33/1000\n",
            "66/66 [==============================] - 11s 94ms/step - loss: 35.7201 - val_loss: 68.1886\n",
            "Epoch 34/1000\n",
            "66/66 [==============================] - 11s 93ms/step - loss: 40.2018 - val_loss: 41.6301\n",
            "Epoch 35/1000\n",
            "66/66 [==============================] - 11s 94ms/step - loss: 36.1804 - val_loss: 41.1926\n",
            "Epoch 36/1000\n",
            "66/66 [==============================] - 11s 96ms/step - loss: 34.7507 - val_loss: 27.5880\n",
            "Epoch 37/1000\n",
            "66/66 [==============================] - 13s 111ms/step - loss: 38.5632 - val_loss: 25.9610\n",
            "Epoch 38/1000\n",
            "66/66 [==============================] - 11s 95ms/step - loss: 44.4297 - val_loss: 28.6250\n",
            "Epoch 39/1000\n",
            "66/66 [==============================] - 11s 94ms/step - loss: 35.2799 - val_loss: 27.1935\n",
            "Epoch 40/1000\n",
            "66/66 [==============================] - 11s 93ms/step - loss: 29.5768 - val_loss: 28.9144\n",
            "Epoch 41/1000\n",
            "66/66 [==============================] - 11s 93ms/step - loss: 48.6425 - val_loss: 29.8563\n",
            "Epoch 42/1000\n",
            "66/66 [==============================] - 11s 90ms/step - loss: 40.6304 - val_loss: 28.4334\n",
            "Epoch 43/1000\n",
            "66/66 [==============================] - 11s 91ms/step - loss: 44.8961 - val_loss: 27.4919\n",
            "Epoch 44/1000\n",
            "66/66 [==============================] - 11s 91ms/step - loss: 38.3723 - val_loss: 27.4772\n",
            "Epoch 45/1000\n",
            "66/66 [==============================] - 11s 91ms/step - loss: 36.6469 - val_loss: 28.0081\n",
            "Epoch 46/1000\n",
            "66/66 [==============================] - 11s 91ms/step - loss: 36.5158 - val_loss: 28.1525\n",
            "Epoch 47/1000\n",
            "66/66 [==============================] - 11s 92ms/step - loss: 34.7202 - val_loss: 28.4223\n",
            "Epoch 48/1000\n",
            "66/66 [==============================] - 11s 91ms/step - loss: 38.6714 - val_loss: 27.6651\n",
            "Epoch 49/1000\n",
            "66/66 [==============================] - 11s 94ms/step - loss: 34.3783 - val_loss: 27.5625\n",
            "Epoch 50/1000\n",
            "66/66 [==============================] - 11s 93ms/step - loss: 34.7187 - val_loss: 28.0460\n",
            "Epoch 51/1000\n",
            "66/66 [==============================] - 11s 91ms/step - loss: 36.8276 - val_loss: 28.0827\n",
            "Epoch 52/1000\n",
            "66/66 [==============================] - 11s 91ms/step - loss: 44.5255 - val_loss: 28.3116\n",
            "Epoch 53/1000\n",
            "66/66 [==============================] - 11s 90ms/step - loss: 35.1888 - val_loss: 28.0422\n",
            "Epoch 54/1000\n",
            "66/66 [==============================] - 11s 92ms/step - loss: 35.7716 - val_loss: 28.0885\n",
            "Epoch 55/1000\n",
            "66/66 [==============================] - 11s 91ms/step - loss: 35.1145 - val_loss: 28.0697\n",
            "Epoch 56/1000\n",
            "66/66 [==============================] - 11s 94ms/step - loss: 40.7412 - val_loss: 28.1905\n",
            "Epoch 57/1000\n",
            "66/66 [==============================] - 11s 93ms/step - loss: 41.3156 - val_loss: 28.1748\n"
          ]
        },
        {
          "data": {
            "text/html": [
              "Waiting for W&B process to finish... <strong style=\"color:green\">(success).</strong>"
            ],
            "text/plain": [
              "<IPython.core.display.HTML object>"
            ]
          },
          "metadata": {},
          "output_type": "display_data"
        },
        {
          "data": {
            "text/html": [
              "<style>\n",
              "    table.wandb td:nth-child(1) { padding: 0 10px; text-align: left ; width: auto;} td:nth-child(2) {text-align: left ; width: 100%}\n",
              "    .wandb-row { display: flex; flex-direction: row; flex-wrap: wrap; justify-content: flex-start; width: 100% }\n",
              "    .wandb-col { display: flex; flex-direction: column; flex-basis: 100%; flex: 1; padding: 10px; }\n",
              "    </style>\n",
              "<div class=\"wandb-row\"><div class=\"wandb-col\"><h3>Run history:</h3><br/><table class=\"wandb\"><tr><td>epoch</td><td>▁▁▁▁▂▂▂▂▂▃▃▃▃▃▃▄▄▄▄▄▅▅▅▅▅▅▆▆▆▆▆▇▇▇▇▇▇███</td></tr><tr><td>loss</td><td>█▃▁▁▁▁▁▁▁▁▁▁▁▁▁▁▁▁▁▁▁▁▁▁▁▁▁▁▁▁▁▁▁▁▁▁▁▁▁▁</td></tr><tr><td>val_loss</td><td>█▃▅▃▃▂▂▁▁▁▂▁▁▁▁▁▁▁▁▁▁▁▁▁▁▁▁▁▁▁▁▁▁▁▁▁▁▁▁▁</td></tr></table><br/></div><div class=\"wandb-col\"><h3>Run summary:</h3><br/><table class=\"wandb\"><tr><td>best_epoch</td><td>36</td></tr><tr><td>best_val_loss</td><td>25.961</td></tr><tr><td>epoch</td><td>56</td></tr><tr><td>loss</td><td>41.3156</td></tr><tr><td>val_loss</td><td>28.1748</td></tr></table><br/></div></div>"
            ],
            "text/plain": [
              "<IPython.core.display.HTML object>"
            ]
          },
          "metadata": {},
          "output_type": "display_data"
        },
        {
          "data": {
            "text/html": [
              " View run <strong style=\"color:#cdcd00\">hearty-thunder-195</strong> at: <a href='https://wandb.ai/avogadro/Deep%20learning%20for%20option%20pricing%20-%20rolling%20windows/runs/8l76erkx' target=\"_blank\">https://wandb.ai/avogadro/Deep%20learning%20for%20option%20pricing%20-%20rolling%20windows/runs/8l76erkx</a><br/>Synced 5 W&B file(s), 1 media file(s), 0 artifact file(s) and 0 other file(s)"
            ],
            "text/plain": [
              "<IPython.core.display.HTML object>"
            ]
          },
          "metadata": {},
          "output_type": "display_data"
        },
        {
          "data": {
            "text/html": [
              "Find logs at: <code>./wandb/run-20230413_171541-8l76erkx/logs</code>"
            ],
            "text/plain": [
              "<IPython.core.display.HTML object>"
            ]
          },
          "metadata": {},
          "output_type": "display_data"
        },
        {
          "name": "stdout",
          "output_type": "stream",
          "text": [
            "--- Predictions for test_start 2015-03-30 ---\n",
            "MSE: 53.668594\n",
            "RMSE: 7.3258853\n",
            "-------------------------------------------\n",
            "Train shape: (301614, 10, 1), (301614, 4)\n",
            "Val shape: (17096, 10, 1), (17096, 4)\n",
            "Test shape: (33841, 10, 1), (33841, 4)\n"
          ]
        },
        {
          "data": {
            "text/html": [
              "Changes to your `wandb` environment variables will be ignored because your `wandb` session has already started. For more information on how to modify your settings with `wandb.init()` arguments, please refer to <a href='https://wandb.me/wandb-init' target=\"_blank\">the W&B docs</a>."
            ],
            "text/plain": [
              "<IPython.core.display.HTML object>"
            ]
          },
          "metadata": {},
          "output_type": "display_data"
        },
        {
          "data": {
            "text/html": [
              "Tracking run with wandb version 0.14.2"
            ],
            "text/plain": [
              "<IPython.core.display.HTML object>"
            ]
          },
          "metadata": {},
          "output_type": "display_data"
        },
        {
          "data": {
            "text/html": [
              "Run data is saved locally in <code>/content/wandb/run-20230413_172748-4qy5tr8l</code>"
            ],
            "text/plain": [
              "<IPython.core.display.HTML object>"
            ]
          },
          "metadata": {},
          "output_type": "display_data"
        },
        {
          "data": {
            "text/html": [
              "Syncing run <strong><a href='https://wandb.ai/avogadro/Deep%20learning%20for%20option%20pricing%20-%20rolling%20windows/runs/4qy5tr8l' target=\"_blank\">eternal-shadow-196</a></strong> to <a href='https://wandb.ai/avogadro/Deep%20learning%20for%20option%20pricing%20-%20rolling%20windows' target=\"_blank\">Weights & Biases</a> (<a href='https://wandb.me/run' target=\"_blank\">docs</a>)<br/>"
            ],
            "text/plain": [
              "<IPython.core.display.HTML object>"
            ]
          },
          "metadata": {},
          "output_type": "display_data"
        },
        {
          "data": {
            "text/html": [
              " View project at <a href='https://wandb.ai/avogadro/Deep%20learning%20for%20option%20pricing%20-%20rolling%20windows' target=\"_blank\">https://wandb.ai/avogadro/Deep%20learning%20for%20option%20pricing%20-%20rolling%20windows</a>"
            ],
            "text/plain": [
              "<IPython.core.display.HTML object>"
            ]
          },
          "metadata": {},
          "output_type": "display_data"
        },
        {
          "data": {
            "text/html": [
              " View run at <a href='https://wandb.ai/avogadro/Deep%20learning%20for%20option%20pricing%20-%20rolling%20windows/runs/4qy5tr8l' target=\"_blank\">https://wandb.ai/avogadro/Deep%20learning%20for%20option%20pricing%20-%20rolling%20windows/runs/4qy5tr8l</a>"
            ],
            "text/plain": [
              "<IPython.core.display.HTML object>"
            ]
          },
          "metadata": {},
          "output_type": "display_data"
        },
        {
          "name": "stdout",
          "output_type": "stream",
          "text": [
            "Model: \"model\"\n",
            "__________________________________________________________________________________________________\n",
            " Layer (type)                   Output Shape         Param #     Connected to                     \n",
            "==================================================================================================\n",
            " input_1 (InputLayer)           [(None, 10, 1)]      0           []                               \n",
            "                                                                                                  \n",
            " sequential (Sequential)        (None, 16)           2016        ['input_1[0][0]',                \n",
            "                                                                  'input_1[0][0]',                \n",
            "                                                                  'input_1[0][0]',                \n",
            "                                                                  'input_1[0][0]',                \n",
            "                                                                  'input_1[0][0]']                \n",
            "                                                                                                  \n",
            " input_2 (InputLayer)           [(None, 4)]          0           []                               \n",
            "                                                                                                  \n",
            " concatenate (Concatenate)      (None, 84)           0           ['sequential[0][0]',             \n",
            "                                                                  'sequential[1][0]',             \n",
            "                                                                  'sequential[2][0]',             \n",
            "                                                                  'sequential[3][0]',             \n",
            "                                                                  'sequential[4][0]',             \n",
            "                                                                  'input_2[0][0]']                \n",
            "                                                                                                  \n",
            " dense (Dense)                  (None, 600)          51000       ['concatenate[0][0]']            \n",
            "                                                                                                  \n",
            " batch_normalization (BatchNorm  (None, 600)         2400        ['dense[0][0]']                  \n",
            " alization)                                                                                       \n",
            "                                                                                                  \n",
            " leaky_re_lu (LeakyReLU)        (None, 600)          0           ['batch_normalization[0][0]']    \n",
            "                                                                                                  \n",
            " dense_1 (Dense)                (None, 600)          360600      ['leaky_re_lu[0][0]']            \n",
            "                                                                                                  \n",
            " batch_normalization_1 (BatchNo  (None, 600)         2400        ['dense_1[0][0]']                \n",
            " rmalization)                                                                                     \n",
            "                                                                                                  \n",
            " leaky_re_lu_1 (LeakyReLU)      (None, 600)          0           ['batch_normalization_1[0][0]']  \n",
            "                                                                                                  \n",
            " dense_2 (Dense)                (None, 600)          360600      ['leaky_re_lu_1[0][0]']          \n",
            "                                                                                                  \n",
            " batch_normalization_2 (BatchNo  (None, 600)         2400        ['dense_2[0][0]']                \n",
            " rmalization)                                                                                     \n",
            "                                                                                                  \n",
            " leaky_re_lu_2 (LeakyReLU)      (None, 600)          0           ['batch_normalization_2[0][0]']  \n",
            "                                                                                                  \n",
            " dense_3 (Dense)                (None, 600)          360600      ['leaky_re_lu_2[0][0]']          \n",
            "                                                                                                  \n",
            " batch_normalization_3 (BatchNo  (None, 600)         2400        ['dense_3[0][0]']                \n",
            " rmalization)                                                                                     \n",
            "                                                                                                  \n",
            " leaky_re_lu_3 (LeakyReLU)      (None, 600)          0           ['batch_normalization_3[0][0]']  \n",
            "                                                                                                  \n",
            " dense_4 (Dense)                (None, 600)          360600      ['leaky_re_lu_3[0][0]']          \n",
            "                                                                                                  \n",
            " batch_normalization_4 (BatchNo  (None, 600)         2400        ['dense_4[0][0]']                \n",
            " rmalization)                                                                                     \n",
            "                                                                                                  \n",
            " leaky_re_lu_4 (LeakyReLU)      (None, 600)          0           ['batch_normalization_4[0][0]']  \n",
            "                                                                                                  \n",
            " dense_5 (Dense)                (None, 600)          360600      ['leaky_re_lu_4[0][0]']          \n",
            "                                                                                                  \n",
            " batch_normalization_5 (BatchNo  (None, 600)         2400        ['dense_5[0][0]']                \n",
            " rmalization)                                                                                     \n",
            "                                                                                                  \n",
            " leaky_re_lu_5 (LeakyReLU)      (None, 600)          0           ['batch_normalization_5[0][0]']  \n",
            "                                                                                                  \n",
            " dense_6 (Dense)                (None, 1)            601         ['leaky_re_lu_5[0][0]']          \n",
            "                                                                                                  \n",
            "==================================================================================================\n",
            "Total params: 1,871,017\n",
            "Trainable params: 1,863,817\n",
            "Non-trainable params: 7,200\n",
            "__________________________________________________________________________________________________\n",
            "Train shape: (268651, 10, 1), (268651, 10, 1)\n",
            "Val shape: (14139, 10, 1), (14139, 10, 1)\n",
            "Epoch 1/1000\n",
            "66/66 [==============================] - 55s 194ms/step - loss: 116508.0703 - val_loss: 147440.2656\n",
            "Epoch 2/1000\n",
            "66/66 [==============================] - 11s 93ms/step - loss: 29267.5098 - val_loss: 65637.1641\n",
            "Epoch 3/1000\n",
            "66/66 [==============================] - 11s 92ms/step - loss: 2876.7290 - val_loss: 80488.7891\n",
            "Epoch 4/1000\n",
            "66/66 [==============================] - 11s 91ms/step - loss: 448.1493 - val_loss: 76477.3906\n",
            "Epoch 5/1000\n",
            "66/66 [==============================] - 12s 106ms/step - loss: 179.8428 - val_loss: 42536.3008\n",
            "Epoch 6/1000\n",
            "66/66 [==============================] - 11s 93ms/step - loss: 120.9585 - val_loss: 34242.2734\n",
            "Epoch 7/1000\n",
            "66/66 [==============================] - 12s 107ms/step - loss: 108.2147 - val_loss: 22874.0762\n",
            "Epoch 8/1000\n",
            "66/66 [==============================] - 11s 94ms/step - loss: 90.6427 - val_loss: 15560.6797\n",
            "Epoch 9/1000\n",
            "66/66 [==============================] - 11s 94ms/step - loss: 80.2285 - val_loss: 8617.6055\n",
            "Epoch 10/1000\n",
            "66/66 [==============================] - 11s 94ms/step - loss: 65.1002 - val_loss: 4367.0977\n",
            "Epoch 11/1000\n",
            "66/66 [==============================] - 11s 95ms/step - loss: 59.4017 - val_loss: 1893.3104\n",
            "Epoch 12/1000\n",
            "66/66 [==============================] - 11s 94ms/step - loss: 56.1098 - val_loss: 685.1825\n",
            "Epoch 13/1000\n",
            "66/66 [==============================] - 11s 95ms/step - loss: 44.8496 - val_loss: 394.7379\n",
            "Epoch 14/1000\n",
            "66/66 [==============================] - 11s 92ms/step - loss: 61.4226 - val_loss: 683.0682\n",
            "Epoch 15/1000\n",
            "66/66 [==============================] - 12s 106ms/step - loss: 53.2089 - val_loss: 204.0322\n",
            "Epoch 16/1000\n",
            "66/66 [==============================] - 11s 92ms/step - loss: 40.7591 - val_loss: 319.9784\n",
            "Epoch 17/1000\n",
            "66/66 [==============================] - 12s 104ms/step - loss: 39.8372 - val_loss: 173.0024\n",
            "Epoch 18/1000\n",
            "66/66 [==============================] - 11s 94ms/step - loss: 50.4712 - val_loss: 157.7796\n",
            "Epoch 19/1000\n",
            "66/66 [==============================] - 11s 91ms/step - loss: 44.6589 - val_loss: 266.9536\n",
            "Epoch 20/1000\n",
            "66/66 [==============================] - 11s 91ms/step - loss: 38.1541 - val_loss: 208.8818\n",
            "Epoch 21/1000\n",
            "66/66 [==============================] - 12s 105ms/step - loss: 41.8688 - val_loss: 149.8637\n",
            "Epoch 22/1000\n",
            "66/66 [==============================] - 11s 91ms/step - loss: 39.5759 - val_loss: 377.4734\n",
            "Epoch 23/1000\n",
            "66/66 [==============================] - 11s 91ms/step - loss: 46.7605 - val_loss: 244.1544\n",
            "Epoch 24/1000\n",
            "66/66 [==============================] - 11s 91ms/step - loss: 37.3917 - val_loss: 324.0626\n",
            "Epoch 25/1000\n",
            "66/66 [==============================] - 11s 93ms/step - loss: 33.2149 - val_loss: 261.8553\n",
            "Epoch 26/1000\n",
            "66/66 [==============================] - 12s 112ms/step - loss: 43.2211 - val_loss: 126.6191\n",
            "Epoch 27/1000\n",
            "66/66 [==============================] - 11s 95ms/step - loss: 41.5171 - val_loss: 119.3097\n",
            "Epoch 28/1000\n",
            "66/66 [==============================] - 12s 109ms/step - loss: 40.4327 - val_loss: 76.0839\n",
            "Epoch 29/1000\n",
            "66/66 [==============================] - 11s 94ms/step - loss: 32.5792 - val_loss: 53.6399\n",
            "Epoch 30/1000\n",
            "66/66 [==============================] - 11s 94ms/step - loss: 36.5416 - val_loss: 46.8537\n",
            "Epoch 31/1000\n",
            "66/66 [==============================] - 11s 95ms/step - loss: 34.9442 - val_loss: 42.8195\n",
            "Epoch 32/1000\n",
            "66/66 [==============================] - 11s 94ms/step - loss: 36.8207 - val_loss: 40.8664\n",
            "Epoch 33/1000\n",
            "66/66 [==============================] - 11s 92ms/step - loss: 36.2187 - val_loss: 41.7713\n",
            "Epoch 34/1000\n",
            "66/66 [==============================] - 12s 105ms/step - loss: 39.7817 - val_loss: 40.0834\n",
            "Epoch 35/1000\n",
            "66/66 [==============================] - 11s 90ms/step - loss: 33.0389 - val_loss: 49.8381\n",
            "Epoch 36/1000\n",
            "66/66 [==============================] - 11s 91ms/step - loss: 47.3890 - val_loss: 49.2640\n",
            "Epoch 37/1000\n",
            "66/66 [==============================] - 11s 91ms/step - loss: 42.1204 - val_loss: 50.7628\n",
            "Epoch 38/1000\n",
            "66/66 [==============================] - 11s 91ms/step - loss: 41.1037 - val_loss: 56.2584\n",
            "Epoch 39/1000\n",
            "66/66 [==============================] - 11s 93ms/step - loss: 38.6581 - val_loss: 52.6349\n",
            "Epoch 40/1000\n",
            "66/66 [==============================] - 11s 92ms/step - loss: 33.4653 - val_loss: 50.7661\n",
            "Epoch 41/1000\n",
            "66/66 [==============================] - 11s 92ms/step - loss: 36.3130 - val_loss: 53.2050\n",
            "Epoch 42/1000\n",
            "66/66 [==============================] - 11s 91ms/step - loss: 37.6717 - val_loss: 54.6172\n",
            "Epoch 43/1000\n",
            "66/66 [==============================] - 11s 91ms/step - loss: 38.0817 - val_loss: 58.5611\n",
            "Epoch 44/1000\n",
            "66/66 [==============================] - 11s 91ms/step - loss: 35.4740 - val_loss: 56.1997\n",
            "Epoch 45/1000\n",
            "66/66 [==============================] - 11s 91ms/step - loss: 35.6177 - val_loss: 53.7339\n",
            "Epoch 46/1000\n",
            "66/66 [==============================] - 11s 91ms/step - loss: 31.6137 - val_loss: 57.3415\n",
            "Epoch 47/1000\n",
            "66/66 [==============================] - 11s 93ms/step - loss: 33.2238 - val_loss: 57.8797\n",
            "Epoch 48/1000\n",
            "66/66 [==============================] - 11s 92ms/step - loss: 35.3543 - val_loss: 57.3616\n",
            "Epoch 49/1000\n",
            "66/66 [==============================] - 11s 92ms/step - loss: 34.9433 - val_loss: 60.1952\n",
            "Epoch 50/1000\n",
            "66/66 [==============================] - 11s 92ms/step - loss: 34.9514 - val_loss: 58.6959\n",
            "Epoch 51/1000\n",
            "66/66 [==============================] - 11s 91ms/step - loss: 33.6893 - val_loss: 59.4246\n",
            "Epoch 52/1000\n",
            "66/66 [==============================] - 11s 91ms/step - loss: 34.5172 - val_loss: 59.7834\n"
          ]
        },
        {
          "data": {
            "text/html": [
              "Waiting for W&B process to finish... <strong style=\"color:green\">(success).</strong>"
            ],
            "text/plain": [
              "<IPython.core.display.HTML object>"
            ]
          },
          "metadata": {},
          "output_type": "display_data"
        },
        {
          "data": {
            "application/vnd.jupyter.widget-view+json": {
              "model_id": "333c8397f5bc4bef88d3471b534e6488",
              "version_major": 2,
              "version_minor": 0
            },
            "text/plain": [
              "VBox(children=(Label(value='0.006 MB of 0.023 MB uploaded (0.000 MB deduped)\\r'), FloatProgress(value=0.241126…"
            ]
          },
          "metadata": {},
          "output_type": "display_data"
        },
        {
          "data": {
            "text/html": [
              "<style>\n",
              "    table.wandb td:nth-child(1) { padding: 0 10px; text-align: left ; width: auto;} td:nth-child(2) {text-align: left ; width: 100%}\n",
              "    .wandb-row { display: flex; flex-direction: row; flex-wrap: wrap; justify-content: flex-start; width: 100% }\n",
              "    .wandb-col { display: flex; flex-direction: column; flex-basis: 100%; flex: 1; padding: 10px; }\n",
              "    </style>\n",
              "<div class=\"wandb-row\"><div class=\"wandb-col\"><h3>Run history:</h3><br/><table class=\"wandb\"><tr><td>epoch</td><td>▁▁▁▁▂▂▂▂▂▃▃▃▃▃▃▄▄▄▄▄▅▅▅▅▅▅▆▆▆▆▆▆▇▇▇▇▇███</td></tr><tr><td>loss</td><td>█▃▁▁▁▁▁▁▁▁▁▁▁▁▁▁▁▁▁▁▁▁▁▁▁▁▁▁▁▁▁▁▁▁▁▁▁▁▁▁</td></tr><tr><td>val_loss</td><td>█▄▅▅▃▂▂▁▁▁▁▁▁▁▁▁▁▁▁▁▁▁▁▁▁▁▁▁▁▁▁▁▁▁▁▁▁▁▁▁</td></tr></table><br/></div><div class=\"wandb-col\"><h3>Run summary:</h3><br/><table class=\"wandb\"><tr><td>best_epoch</td><td>33</td></tr><tr><td>best_val_loss</td><td>40.08338</td></tr><tr><td>epoch</td><td>51</td></tr><tr><td>loss</td><td>34.5172</td></tr><tr><td>val_loss</td><td>59.78337</td></tr></table><br/></div></div>"
            ],
            "text/plain": [
              "<IPython.core.display.HTML object>"
            ]
          },
          "metadata": {},
          "output_type": "display_data"
        },
        {
          "data": {
            "text/html": [
              " View run <strong style=\"color:#cdcd00\">eternal-shadow-196</strong> at: <a href='https://wandb.ai/avogadro/Deep%20learning%20for%20option%20pricing%20-%20rolling%20windows/runs/4qy5tr8l' target=\"_blank\">https://wandb.ai/avogadro/Deep%20learning%20for%20option%20pricing%20-%20rolling%20windows/runs/4qy5tr8l</a><br/>Synced 5 W&B file(s), 1 media file(s), 0 artifact file(s) and 0 other file(s)"
            ],
            "text/plain": [
              "<IPython.core.display.HTML object>"
            ]
          },
          "metadata": {},
          "output_type": "display_data"
        },
        {
          "data": {
            "text/html": [
              "Find logs at: <code>./wandb/run-20230413_172748-4qy5tr8l/logs</code>"
            ],
            "text/plain": [
              "<IPython.core.display.HTML object>"
            ]
          },
          "metadata": {},
          "output_type": "display_data"
        },
        {
          "name": "stdout",
          "output_type": "stream",
          "text": [
            "--- Predictions for test_start 2015-04-13 ---\n",
            "MSE: 73.32183\n",
            "RMSE: 8.562817\n",
            "-------------------------------------------\n",
            "Train shape: (306545, 10, 1), (306545, 4)\n",
            "Val shape: (17312, 10, 1), (17312, 4)\n",
            "Test shape: (34697, 10, 1), (34697, 4)\n"
          ]
        },
        {
          "data": {
            "text/html": [
              "Changes to your `wandb` environment variables will be ignored because your `wandb` session has already started. For more information on how to modify your settings with `wandb.init()` arguments, please refer to <a href='https://wandb.me/wandb-init' target=\"_blank\">the W&B docs</a>."
            ],
            "text/plain": [
              "<IPython.core.display.HTML object>"
            ]
          },
          "metadata": {},
          "output_type": "display_data"
        },
        {
          "data": {
            "text/html": [
              "Tracking run with wandb version 0.14.2"
            ],
            "text/plain": [
              "<IPython.core.display.HTML object>"
            ]
          },
          "metadata": {},
          "output_type": "display_data"
        },
        {
          "data": {
            "text/html": [
              "Run data is saved locally in <code>/content/wandb/run-20230413_173859-0mww26z5</code>"
            ],
            "text/plain": [
              "<IPython.core.display.HTML object>"
            ]
          },
          "metadata": {},
          "output_type": "display_data"
        },
        {
          "data": {
            "text/html": [
              "Syncing run <strong><a href='https://wandb.ai/avogadro/Deep%20learning%20for%20option%20pricing%20-%20rolling%20windows/runs/0mww26z5' target=\"_blank\">scarlet-blaze-197</a></strong> to <a href='https://wandb.ai/avogadro/Deep%20learning%20for%20option%20pricing%20-%20rolling%20windows' target=\"_blank\">Weights & Biases</a> (<a href='https://wandb.me/run' target=\"_blank\">docs</a>)<br/>"
            ],
            "text/plain": [
              "<IPython.core.display.HTML object>"
            ]
          },
          "metadata": {},
          "output_type": "display_data"
        },
        {
          "data": {
            "text/html": [
              " View project at <a href='https://wandb.ai/avogadro/Deep%20learning%20for%20option%20pricing%20-%20rolling%20windows' target=\"_blank\">https://wandb.ai/avogadro/Deep%20learning%20for%20option%20pricing%20-%20rolling%20windows</a>"
            ],
            "text/plain": [
              "<IPython.core.display.HTML object>"
            ]
          },
          "metadata": {},
          "output_type": "display_data"
        },
        {
          "data": {
            "text/html": [
              " View run at <a href='https://wandb.ai/avogadro/Deep%20learning%20for%20option%20pricing%20-%20rolling%20windows/runs/0mww26z5' target=\"_blank\">https://wandb.ai/avogadro/Deep%20learning%20for%20option%20pricing%20-%20rolling%20windows/runs/0mww26z5</a>"
            ],
            "text/plain": [
              "<IPython.core.display.HTML object>"
            ]
          },
          "metadata": {},
          "output_type": "display_data"
        },
        {
          "name": "stdout",
          "output_type": "stream",
          "text": [
            "Model: \"model\"\n",
            "__________________________________________________________________________________________________\n",
            " Layer (type)                   Output Shape         Param #     Connected to                     \n",
            "==================================================================================================\n",
            " input_1 (InputLayer)           [(None, 10, 1)]      0           []                               \n",
            "                                                                                                  \n",
            " sequential (Sequential)        (None, 16)           2016        ['input_1[0][0]',                \n",
            "                                                                  'input_1[0][0]',                \n",
            "                                                                  'input_1[0][0]',                \n",
            "                                                                  'input_1[0][0]',                \n",
            "                                                                  'input_1[0][0]']                \n",
            "                                                                                                  \n",
            " input_2 (InputLayer)           [(None, 4)]          0           []                               \n",
            "                                                                                                  \n",
            " concatenate (Concatenate)      (None, 84)           0           ['sequential[0][0]',             \n",
            "                                                                  'sequential[1][0]',             \n",
            "                                                                  'sequential[2][0]',             \n",
            "                                                                  'sequential[3][0]',             \n",
            "                                                                  'sequential[4][0]',             \n",
            "                                                                  'input_2[0][0]']                \n",
            "                                                                                                  \n",
            " dense (Dense)                  (None, 600)          51000       ['concatenate[0][0]']            \n",
            "                                                                                                  \n",
            " batch_normalization (BatchNorm  (None, 600)         2400        ['dense[0][0]']                  \n",
            " alization)                                                                                       \n",
            "                                                                                                  \n",
            " leaky_re_lu (LeakyReLU)        (None, 600)          0           ['batch_normalization[0][0]']    \n",
            "                                                                                                  \n",
            " dense_1 (Dense)                (None, 600)          360600      ['leaky_re_lu[0][0]']            \n",
            "                                                                                                  \n",
            " batch_normalization_1 (BatchNo  (None, 600)         2400        ['dense_1[0][0]']                \n",
            " rmalization)                                                                                     \n",
            "                                                                                                  \n",
            " leaky_re_lu_1 (LeakyReLU)      (None, 600)          0           ['batch_normalization_1[0][0]']  \n",
            "                                                                                                  \n",
            " dense_2 (Dense)                (None, 600)          360600      ['leaky_re_lu_1[0][0]']          \n",
            "                                                                                                  \n",
            " batch_normalization_2 (BatchNo  (None, 600)         2400        ['dense_2[0][0]']                \n",
            " rmalization)                                                                                     \n",
            "                                                                                                  \n",
            " leaky_re_lu_2 (LeakyReLU)      (None, 600)          0           ['batch_normalization_2[0][0]']  \n",
            "                                                                                                  \n",
            " dense_3 (Dense)                (None, 600)          360600      ['leaky_re_lu_2[0][0]']          \n",
            "                                                                                                  \n",
            " batch_normalization_3 (BatchNo  (None, 600)         2400        ['dense_3[0][0]']                \n",
            " rmalization)                                                                                     \n",
            "                                                                                                  \n",
            " leaky_re_lu_3 (LeakyReLU)      (None, 600)          0           ['batch_normalization_3[0][0]']  \n",
            "                                                                                                  \n",
            " dense_4 (Dense)                (None, 600)          360600      ['leaky_re_lu_3[0][0]']          \n",
            "                                                                                                  \n",
            " batch_normalization_4 (BatchNo  (None, 600)         2400        ['dense_4[0][0]']                \n",
            " rmalization)                                                                                     \n",
            "                                                                                                  \n",
            " leaky_re_lu_4 (LeakyReLU)      (None, 600)          0           ['batch_normalization_4[0][0]']  \n",
            "                                                                                                  \n",
            " dense_5 (Dense)                (None, 600)          360600      ['leaky_re_lu_4[0][0]']          \n",
            "                                                                                                  \n",
            " batch_normalization_5 (BatchNo  (None, 600)         2400        ['dense_5[0][0]']                \n",
            " rmalization)                                                                                     \n",
            "                                                                                                  \n",
            " leaky_re_lu_5 (LeakyReLU)      (None, 600)          0           ['batch_normalization_5[0][0]']  \n",
            "                                                                                                  \n",
            " dense_6 (Dense)                (None, 1)            601         ['leaky_re_lu_5[0][0]']          \n",
            "                                                                                                  \n",
            "==================================================================================================\n",
            "Total params: 1,871,017\n",
            "Trainable params: 1,863,817\n",
            "Non-trainable params: 7,200\n",
            "__________________________________________________________________________________________________\n",
            "Train shape: (268651, 10, 1), (268651, 10, 1)\n",
            "Val shape: (14139, 10, 1), (14139, 10, 1)\n",
            "Epoch 1/1000\n",
            "66/66 [==============================] - 54s 195ms/step - loss: 117583.6094 - val_loss: 131106.0469\n",
            "Epoch 2/1000\n",
            "66/66 [==============================] - 11s 95ms/step - loss: 30600.8848 - val_loss: 57231.3633\n",
            "Epoch 3/1000\n",
            "66/66 [==============================] - 11s 92ms/step - loss: 3140.6194 - val_loss: 88936.6328\n",
            "Epoch 4/1000\n",
            "66/66 [==============================] - 11s 91ms/step - loss: 470.1303 - val_loss: 62191.8125\n",
            "Epoch 5/1000\n",
            "66/66 [==============================] - 12s 107ms/step - loss: 218.5324 - val_loss: 49012.3281\n",
            "Epoch 6/1000\n",
            "66/66 [==============================] - 12s 107ms/step - loss: 154.9377 - val_loss: 33045.2812\n",
            "Epoch 7/1000\n",
            "66/66 [==============================] - 11s 95ms/step - loss: 107.6362 - val_loss: 22641.7891\n",
            "Epoch 8/1000\n",
            "66/66 [==============================] - 11s 95ms/step - loss: 74.1360 - val_loss: 15514.0410\n",
            "Epoch 9/1000\n",
            "66/66 [==============================] - 11s 96ms/step - loss: 89.7306 - val_loss: 6386.5039\n",
            "Epoch 10/1000\n",
            "66/66 [==============================] - 11s 94ms/step - loss: 61.9250 - val_loss: 4001.3472\n",
            "Epoch 11/1000\n",
            "66/66 [==============================] - 11s 93ms/step - loss: 66.9216 - val_loss: 1431.4183\n",
            "Epoch 12/1000\n",
            "66/66 [==============================] - 11s 93ms/step - loss: 64.1812 - val_loss: 507.4090\n",
            "Epoch 13/1000\n",
            "66/66 [==============================] - 11s 91ms/step - loss: 48.5318 - val_loss: 1772.4176\n",
            "Epoch 14/1000\n",
            "66/66 [==============================] - 11s 90ms/step - loss: 60.9640 - val_loss: 2618.9778\n",
            "Epoch 15/1000\n",
            "66/66 [==============================] - 11s 92ms/step - loss: 60.2258 - val_loss: 9596.1377\n",
            "Epoch 16/1000\n",
            "66/66 [==============================] - 11s 92ms/step - loss: 53.3280 - val_loss: 35831.6328\n",
            "Epoch 17/1000\n",
            "66/66 [==============================] - 11s 92ms/step - loss: 56.1137 - val_loss: 44481.0469\n",
            "Epoch 18/1000\n",
            "66/66 [==============================] - 11s 91ms/step - loss: 57.2700 - val_loss: 37757.5547\n",
            "Epoch 19/1000\n",
            "66/66 [==============================] - 11s 91ms/step - loss: 45.0553 - val_loss: 25946.4043\n",
            "Epoch 20/1000\n",
            "66/66 [==============================] - 11s 91ms/step - loss: 44.2162 - val_loss: 18471.1719\n",
            "Epoch 21/1000\n",
            "66/66 [==============================] - 11s 90ms/step - loss: 40.6741 - val_loss: 8357.9170\n",
            "Epoch 22/1000\n",
            "66/66 [==============================] - 11s 90ms/step - loss: 41.6838 - val_loss: 5552.6187\n",
            "Epoch 23/1000\n",
            "66/66 [==============================] - 11s 91ms/step - loss: 37.7023 - val_loss: 3806.7891\n",
            "Epoch 24/1000\n",
            "66/66 [==============================] - 11s 92ms/step - loss: 38.4038 - val_loss: 4136.4175\n",
            "Epoch 25/1000\n",
            "66/66 [==============================] - 11s 92ms/step - loss: 45.0551 - val_loss: 2397.2522\n",
            "Epoch 26/1000\n",
            "66/66 [==============================] - 11s 91ms/step - loss: 37.9317 - val_loss: 1952.9669\n",
            "Epoch 27/1000\n",
            "66/66 [==============================] - 11s 92ms/step - loss: 36.2387 - val_loss: 1272.3300\n",
            "Epoch 28/1000\n",
            "66/66 [==============================] - 11s 91ms/step - loss: 43.1150 - val_loss: 874.5060\n",
            "Epoch 29/1000\n",
            "66/66 [==============================] - 11s 91ms/step - loss: 39.1229 - val_loss: 518.4722\n",
            "Epoch 30/1000\n",
            "66/66 [==============================] - 12s 106ms/step - loss: 35.9280 - val_loss: 492.2501\n",
            "Epoch 31/1000\n",
            "66/66 [==============================] - 11s 95ms/step - loss: 33.8304 - val_loss: 265.1089\n",
            "Epoch 32/1000\n",
            "66/66 [==============================] - 11s 94ms/step - loss: 46.7225 - val_loss: 184.8454\n",
            "Epoch 33/1000\n",
            "66/66 [==============================] - 12s 108ms/step - loss: 34.3306 - val_loss: 102.0977\n",
            "Epoch 34/1000\n",
            "66/66 [==============================] - 11s 91ms/step - loss: 39.8786 - val_loss: 106.1634\n",
            "Epoch 35/1000\n",
            "66/66 [==============================] - 12s 105ms/step - loss: 38.0465 - val_loss: 90.4448\n",
            "Epoch 36/1000\n",
            "66/66 [==============================] - 11s 95ms/step - loss: 34.0328 - val_loss: 80.1617\n",
            "Epoch 37/1000\n",
            "66/66 [==============================] - 11s 92ms/step - loss: 38.5864 - val_loss: 103.6737\n",
            "Epoch 38/1000\n",
            "66/66 [==============================] - 11s 93ms/step - loss: 38.0263 - val_loss: 99.4853\n",
            "Epoch 39/1000\n",
            "66/66 [==============================] - 11s 92ms/step - loss: 33.6705 - val_loss: 91.3227\n",
            "Epoch 40/1000\n",
            "66/66 [==============================] - 12s 106ms/step - loss: 44.4212 - val_loss: 66.9368\n",
            "Epoch 41/1000\n",
            "66/66 [==============================] - 11s 95ms/step - loss: 40.0043 - val_loss: 49.9167\n",
            "Epoch 42/1000\n",
            "66/66 [==============================] - 11s 94ms/step - loss: 35.2622 - val_loss: 47.2489\n",
            "Epoch 43/1000\n",
            "66/66 [==============================] - 11s 95ms/step - loss: 36.5288 - val_loss: 43.9675\n",
            "Epoch 44/1000\n",
            "66/66 [==============================] - 11s 91ms/step - loss: 32.1526 - val_loss: 45.7699\n",
            "Epoch 45/1000\n",
            "66/66 [==============================] - 11s 91ms/step - loss: 35.8629 - val_loss: 47.3900\n",
            "Epoch 46/1000\n",
            "66/66 [==============================] - 11s 91ms/step - loss: 32.3309 - val_loss: 46.9866\n",
            "Epoch 47/1000\n",
            "66/66 [==============================] - 11s 91ms/step - loss: 39.4694 - val_loss: 49.4136\n",
            "Epoch 48/1000\n",
            "66/66 [==============================] - 11s 92ms/step - loss: 37.0267 - val_loss: 47.4419\n",
            "Epoch 49/1000\n",
            "66/66 [==============================] - 11s 92ms/step - loss: 32.4499 - val_loss: 48.6183\n",
            "Epoch 50/1000\n",
            "66/66 [==============================] - 11s 92ms/step - loss: 44.3136 - val_loss: 46.8477\n",
            "Epoch 51/1000\n",
            "66/66 [==============================] - 11s 91ms/step - loss: 34.6057 - val_loss: 47.9552\n",
            "Epoch 52/1000\n",
            "66/66 [==============================] - 11s 91ms/step - loss: 38.8235 - val_loss: 46.8239\n",
            "Epoch 53/1000\n",
            "66/66 [==============================] - 11s 90ms/step - loss: 43.4820 - val_loss: 48.3839\n",
            "Epoch 54/1000\n",
            "66/66 [==============================] - 11s 91ms/step - loss: 37.4894 - val_loss: 47.8212\n",
            "Epoch 55/1000\n",
            "66/66 [==============================] - 11s 91ms/step - loss: 33.4623 - val_loss: 49.0233\n",
            "Epoch 56/1000\n",
            "66/66 [==============================] - 11s 93ms/step - loss: 39.4424 - val_loss: 48.5928\n",
            "Epoch 57/1000\n",
            "66/66 [==============================] - 11s 91ms/step - loss: 27.8045 - val_loss: 48.8013\n",
            "Epoch 58/1000\n",
            "66/66 [==============================] - 11s 91ms/step - loss: 34.4378 - val_loss: 48.0829\n",
            "Epoch 59/1000\n",
            "66/66 [==============================] - 11s 92ms/step - loss: 39.1121 - val_loss: 47.7049\n",
            "Epoch 60/1000\n",
            "66/66 [==============================] - 11s 91ms/step - loss: 34.7695 - val_loss: 48.3742\n",
            "Epoch 61/1000\n",
            "66/66 [==============================] - 11s 92ms/step - loss: 29.1479 - val_loss: 48.7392\n",
            "Epoch 62/1000\n",
            "66/66 [==============================] - 11s 92ms/step - loss: 33.4801 - val_loss: 48.2243\n",
            "Epoch 63/1000\n",
            "66/66 [==============================] - 11s 90ms/step - loss: 39.2404 - val_loss: 47.8430\n"
          ]
        },
        {
          "data": {
            "text/html": [
              "Waiting for W&B process to finish... <strong style=\"color:green\">(success).</strong>"
            ],
            "text/plain": [
              "<IPython.core.display.HTML object>"
            ]
          },
          "metadata": {},
          "output_type": "display_data"
        },
        {
          "data": {
            "application/vnd.jupyter.widget-view+json": {
              "model_id": "e54ecd6b360c47c89a2c92a2c7bc34af",
              "version_major": 2,
              "version_minor": 0
            },
            "text/plain": [
              "VBox(children=(Label(value='0.006 MB of 0.024 MB uploaded (0.000 MB deduped)\\r'), FloatProgress(value=0.229726…"
            ]
          },
          "metadata": {},
          "output_type": "display_data"
        },
        {
          "data": {
            "text/html": [
              "<style>\n",
              "    table.wandb td:nth-child(1) { padding: 0 10px; text-align: left ; width: auto;} td:nth-child(2) {text-align: left ; width: 100%}\n",
              "    .wandb-row { display: flex; flex-direction: row; flex-wrap: wrap; justify-content: flex-start; width: 100% }\n",
              "    .wandb-col { display: flex; flex-direction: column; flex-basis: 100%; flex: 1; padding: 10px; }\n",
              "    </style>\n",
              "<div class=\"wandb-row\"><div class=\"wandb-col\"><h3>Run history:</h3><br/><table class=\"wandb\"><tr><td>epoch</td><td>▁▁▁▁▂▂▂▂▂▃▃▃▃▃▄▄▄▄▄▄▅▅▅▅▅▅▆▆▆▆▆▇▇▇▇▇████</td></tr><tr><td>loss</td><td>█▃▁▁▁▁▁▁▁▁▁▁▁▁▁▁▁▁▁▁▁▁▁▁▁▁▁▁▁▁▁▁▁▁▁▁▁▁▁▁</td></tr><tr><td>val_loss</td><td>█▄▄▄▂▂▁▁▁▂▃▃▂▁▁▁▁▁▁▁▁▁▁▁▁▁▁▁▁▁▁▁▁▁▁▁▁▁▁▁</td></tr></table><br/></div><div class=\"wandb-col\"><h3>Run summary:</h3><br/><table class=\"wandb\"><tr><td>best_epoch</td><td>42</td></tr><tr><td>best_val_loss</td><td>43.96754</td></tr><tr><td>epoch</td><td>62</td></tr><tr><td>loss</td><td>39.24037</td></tr><tr><td>val_loss</td><td>47.84299</td></tr></table><br/></div></div>"
            ],
            "text/plain": [
              "<IPython.core.display.HTML object>"
            ]
          },
          "metadata": {},
          "output_type": "display_data"
        },
        {
          "data": {
            "text/html": [
              " View run <strong style=\"color:#cdcd00\">scarlet-blaze-197</strong> at: <a href='https://wandb.ai/avogadro/Deep%20learning%20for%20option%20pricing%20-%20rolling%20windows/runs/0mww26z5' target=\"_blank\">https://wandb.ai/avogadro/Deep%20learning%20for%20option%20pricing%20-%20rolling%20windows/runs/0mww26z5</a><br/>Synced 5 W&B file(s), 1 media file(s), 0 artifact file(s) and 0 other file(s)"
            ],
            "text/plain": [
              "<IPython.core.display.HTML object>"
            ]
          },
          "metadata": {},
          "output_type": "display_data"
        },
        {
          "data": {
            "text/html": [
              "Find logs at: <code>./wandb/run-20230413_173859-0mww26z5/logs</code>"
            ],
            "text/plain": [
              "<IPython.core.display.HTML object>"
            ]
          },
          "metadata": {},
          "output_type": "display_data"
        },
        {
          "name": "stdout",
          "output_type": "stream",
          "text": [
            "--- Predictions for test_start 2015-04-27 ---\n",
            "MSE: 112.68101\n",
            "RMSE: 10.615131\n",
            "-------------------------------------------\n",
            "Train shape: (315647, 10, 1), (315647, 4)\n",
            "Val shape: (17491, 10, 1), (17491, 4)\n",
            "Test shape: (33905, 10, 1), (33905, 4)\n"
          ]
        },
        {
          "data": {
            "text/html": [
              "Changes to your `wandb` environment variables will be ignored because your `wandb` session has already started. For more information on how to modify your settings with `wandb.init()` arguments, please refer to <a href='https://wandb.me/wandb-init' target=\"_blank\">the W&B docs</a>."
            ],
            "text/plain": [
              "<IPython.core.display.HTML object>"
            ]
          },
          "metadata": {},
          "output_type": "display_data"
        },
        {
          "data": {
            "text/html": [
              "Tracking run with wandb version 0.14.2"
            ],
            "text/plain": [
              "<IPython.core.display.HTML object>"
            ]
          },
          "metadata": {},
          "output_type": "display_data"
        },
        {
          "data": {
            "text/html": [
              "Run data is saved locally in <code>/content/wandb/run-20230413_175209-0nwixgdf</code>"
            ],
            "text/plain": [
              "<IPython.core.display.HTML object>"
            ]
          },
          "metadata": {},
          "output_type": "display_data"
        },
        {
          "data": {
            "text/html": [
              "Syncing run <strong><a href='https://wandb.ai/avogadro/Deep%20learning%20for%20option%20pricing%20-%20rolling%20windows/runs/0nwixgdf' target=\"_blank\">fiery-pine-198</a></strong> to <a href='https://wandb.ai/avogadro/Deep%20learning%20for%20option%20pricing%20-%20rolling%20windows' target=\"_blank\">Weights & Biases</a> (<a href='https://wandb.me/run' target=\"_blank\">docs</a>)<br/>"
            ],
            "text/plain": [
              "<IPython.core.display.HTML object>"
            ]
          },
          "metadata": {},
          "output_type": "display_data"
        },
        {
          "data": {
            "text/html": [
              " View project at <a href='https://wandb.ai/avogadro/Deep%20learning%20for%20option%20pricing%20-%20rolling%20windows' target=\"_blank\">https://wandb.ai/avogadro/Deep%20learning%20for%20option%20pricing%20-%20rolling%20windows</a>"
            ],
            "text/plain": [
              "<IPython.core.display.HTML object>"
            ]
          },
          "metadata": {},
          "output_type": "display_data"
        },
        {
          "data": {
            "text/html": [
              " View run at <a href='https://wandb.ai/avogadro/Deep%20learning%20for%20option%20pricing%20-%20rolling%20windows/runs/0nwixgdf' target=\"_blank\">https://wandb.ai/avogadro/Deep%20learning%20for%20option%20pricing%20-%20rolling%20windows/runs/0nwixgdf</a>"
            ],
            "text/plain": [
              "<IPython.core.display.HTML object>"
            ]
          },
          "metadata": {},
          "output_type": "display_data"
        },
        {
          "name": "stdout",
          "output_type": "stream",
          "text": [
            "Model: \"model\"\n",
            "__________________________________________________________________________________________________\n",
            " Layer (type)                   Output Shape         Param #     Connected to                     \n",
            "==================================================================================================\n",
            " input_1 (InputLayer)           [(None, 10, 1)]      0           []                               \n",
            "                                                                                                  \n",
            " sequential (Sequential)        (None, 16)           2016        ['input_1[0][0]',                \n",
            "                                                                  'input_1[0][0]',                \n",
            "                                                                  'input_1[0][0]',                \n",
            "                                                                  'input_1[0][0]',                \n",
            "                                                                  'input_1[0][0]']                \n",
            "                                                                                                  \n",
            " input_2 (InputLayer)           [(None, 4)]          0           []                               \n",
            "                                                                                                  \n",
            " concatenate (Concatenate)      (None, 84)           0           ['sequential[0][0]',             \n",
            "                                                                  'sequential[1][0]',             \n",
            "                                                                  'sequential[2][0]',             \n",
            "                                                                  'sequential[3][0]',             \n",
            "                                                                  'sequential[4][0]',             \n",
            "                                                                  'input_2[0][0]']                \n",
            "                                                                                                  \n",
            " dense (Dense)                  (None, 600)          51000       ['concatenate[0][0]']            \n",
            "                                                                                                  \n",
            " batch_normalization (BatchNorm  (None, 600)         2400        ['dense[0][0]']                  \n",
            " alization)                                                                                       \n",
            "                                                                                                  \n",
            " leaky_re_lu (LeakyReLU)        (None, 600)          0           ['batch_normalization[0][0]']    \n",
            "                                                                                                  \n",
            " dense_1 (Dense)                (None, 600)          360600      ['leaky_re_lu[0][0]']            \n",
            "                                                                                                  \n",
            " batch_normalization_1 (BatchNo  (None, 600)         2400        ['dense_1[0][0]']                \n",
            " rmalization)                                                                                     \n",
            "                                                                                                  \n",
            " leaky_re_lu_1 (LeakyReLU)      (None, 600)          0           ['batch_normalization_1[0][0]']  \n",
            "                                                                                                  \n",
            " dense_2 (Dense)                (None, 600)          360600      ['leaky_re_lu_1[0][0]']          \n",
            "                                                                                                  \n",
            " batch_normalization_2 (BatchNo  (None, 600)         2400        ['dense_2[0][0]']                \n",
            " rmalization)                                                                                     \n",
            "                                                                                                  \n",
            " leaky_re_lu_2 (LeakyReLU)      (None, 600)          0           ['batch_normalization_2[0][0]']  \n",
            "                                                                                                  \n",
            " dense_3 (Dense)                (None, 600)          360600      ['leaky_re_lu_2[0][0]']          \n",
            "                                                                                                  \n",
            " batch_normalization_3 (BatchNo  (None, 600)         2400        ['dense_3[0][0]']                \n",
            " rmalization)                                                                                     \n",
            "                                                                                                  \n",
            " leaky_re_lu_3 (LeakyReLU)      (None, 600)          0           ['batch_normalization_3[0][0]']  \n",
            "                                                                                                  \n",
            " dense_4 (Dense)                (None, 600)          360600      ['leaky_re_lu_3[0][0]']          \n",
            "                                                                                                  \n",
            " batch_normalization_4 (BatchNo  (None, 600)         2400        ['dense_4[0][0]']                \n",
            " rmalization)                                                                                     \n",
            "                                                                                                  \n",
            " leaky_re_lu_4 (LeakyReLU)      (None, 600)          0           ['batch_normalization_4[0][0]']  \n",
            "                                                                                                  \n",
            " dense_5 (Dense)                (None, 600)          360600      ['leaky_re_lu_4[0][0]']          \n",
            "                                                                                                  \n",
            " batch_normalization_5 (BatchNo  (None, 600)         2400        ['dense_5[0][0]']                \n",
            " rmalization)                                                                                     \n",
            "                                                                                                  \n",
            " leaky_re_lu_5 (LeakyReLU)      (None, 600)          0           ['batch_normalization_5[0][0]']  \n",
            "                                                                                                  \n",
            " dense_6 (Dense)                (None, 1)            601         ['leaky_re_lu_5[0][0]']          \n",
            "                                                                                                  \n",
            "==================================================================================================\n",
            "Total params: 1,871,017\n",
            "Trainable params: 1,863,817\n",
            "Non-trainable params: 7,200\n",
            "__________________________________________________________________________________________________\n",
            "Train shape: (268651, 10, 1), (268651, 10, 1)\n",
            "Val shape: (14139, 10, 1), (14139, 10, 1)\n",
            "Epoch 1/1000\n",
            "66/66 [==============================] - 55s 195ms/step - loss: 116385.9375 - val_loss: 142878.7031\n",
            "Epoch 2/1000\n",
            "66/66 [==============================] - 11s 95ms/step - loss: 28935.1914 - val_loss: 78089.3594\n",
            "Epoch 3/1000\n",
            "66/66 [==============================] - 11s 91ms/step - loss: 2724.5505 - val_loss: 91721.3359\n",
            "Epoch 4/1000\n",
            "66/66 [==============================] - 12s 109ms/step - loss: 409.4600 - val_loss: 66351.9297\n",
            "Epoch 5/1000\n",
            "66/66 [==============================] - 12s 108ms/step - loss: 204.4355 - val_loss: 43636.8984\n",
            "Epoch 6/1000\n",
            "66/66 [==============================] - 11s 96ms/step - loss: 154.9735 - val_loss: 32318.4336\n",
            "Epoch 7/1000\n",
            "66/66 [==============================] - 11s 96ms/step - loss: 101.5724 - val_loss: 21290.1895\n",
            "Epoch 8/1000\n",
            "66/66 [==============================] - 11s 94ms/step - loss: 73.6109 - val_loss: 15798.0850\n",
            "Epoch 9/1000\n",
            "66/66 [==============================] - 11s 95ms/step - loss: 72.4323 - val_loss: 8998.1201\n",
            "Epoch 10/1000\n",
            "66/66 [==============================] - 11s 94ms/step - loss: 59.9018 - val_loss: 6045.4731\n",
            "Epoch 11/1000\n",
            "66/66 [==============================] - 11s 93ms/step - loss: 69.5753 - val_loss: 1583.7820\n",
            "Epoch 12/1000\n",
            "66/66 [==============================] - 11s 95ms/step - loss: 57.3376 - val_loss: 1067.9730\n",
            "Epoch 13/1000\n",
            "66/66 [==============================] - 12s 105ms/step - loss: 72.3958 - val_loss: 451.1149\n",
            "Epoch 14/1000\n",
            "66/66 [==============================] - 11s 90ms/step - loss: 58.2839 - val_loss: 542.1086\n",
            "Epoch 15/1000\n",
            "66/66 [==============================] - 12s 108ms/step - loss: 46.0494 - val_loss: 367.1468\n",
            "Epoch 16/1000\n",
            "66/66 [==============================] - 11s 93ms/step - loss: 43.0826 - val_loss: 997.2873\n",
            "Epoch 17/1000\n",
            "66/66 [==============================] - 11s 91ms/step - loss: 46.8757 - val_loss: 716.9296\n",
            "Epoch 18/1000\n",
            "66/66 [==============================] - 11s 91ms/step - loss: 44.3236 - val_loss: 479.5580\n",
            "Epoch 19/1000\n",
            "66/66 [==============================] - 11s 91ms/step - loss: 45.4822 - val_loss: 1580.3252\n",
            "Epoch 20/1000\n",
            "66/66 [==============================] - 11s 92ms/step - loss: 49.2809 - val_loss: 698.8730\n",
            "Epoch 21/1000\n",
            "66/66 [==============================] - 12s 104ms/step - loss: 37.7691 - val_loss: 253.4993\n",
            "Epoch 22/1000\n",
            "66/66 [==============================] - 11s 90ms/step - loss: 41.7028 - val_loss: 346.5327\n",
            "Epoch 23/1000\n",
            "66/66 [==============================] - 11s 91ms/step - loss: 40.5165 - val_loss: 328.7873\n",
            "Epoch 24/1000\n",
            "66/66 [==============================] - 12s 105ms/step - loss: 31.5794 - val_loss: 169.7207\n",
            "Epoch 25/1000\n",
            "66/66 [==============================] - 11s 93ms/step - loss: 33.6699 - val_loss: 137.8897\n",
            "Epoch 26/1000\n",
            "66/66 [==============================] - 11s 94ms/step - loss: 39.4846 - val_loss: 124.6315\n",
            "Epoch 27/1000\n",
            "66/66 [==============================] - 11s 95ms/step - loss: 37.4922 - val_loss: 65.9297\n",
            "Epoch 28/1000\n",
            "66/66 [==============================] - 11s 92ms/step - loss: 33.2081 - val_loss: 69.8511\n",
            "Epoch 29/1000\n",
            "66/66 [==============================] - 11s 91ms/step - loss: 30.6431 - val_loss: 73.2783\n",
            "Epoch 30/1000\n",
            "66/66 [==============================] - 11s 91ms/step - loss: 41.2820 - val_loss: 90.3078\n",
            "Epoch 31/1000\n",
            "66/66 [==============================] - 11s 90ms/step - loss: 42.9172 - val_loss: 80.2092\n",
            "Epoch 32/1000\n",
            "66/66 [==============================] - 12s 105ms/step - loss: 48.6016 - val_loss: 57.8422\n",
            "Epoch 33/1000\n",
            "66/66 [==============================] - 11s 95ms/step - loss: 30.3079 - val_loss: 48.7008\n",
            "Epoch 34/1000\n",
            "66/66 [==============================] - 11s 96ms/step - loss: 32.9278 - val_loss: 47.0691\n",
            "Epoch 35/1000\n",
            "66/66 [==============================] - 11s 95ms/step - loss: 30.1019 - val_loss: 46.5371\n",
            "Epoch 36/1000\n",
            "66/66 [==============================] - 12s 95ms/step - loss: 33.8076 - val_loss: 39.3933\n",
            "Epoch 37/1000\n",
            "66/66 [==============================] - 11s 92ms/step - loss: 33.4902 - val_loss: 49.8844\n",
            "Epoch 38/1000\n",
            "66/66 [==============================] - 11s 91ms/step - loss: 40.5658 - val_loss: 49.9969\n",
            "Epoch 39/1000\n",
            "66/66 [==============================] - 11s 91ms/step - loss: 34.2657 - val_loss: 53.4722\n",
            "Epoch 40/1000\n",
            "66/66 [==============================] - 11s 91ms/step - loss: 31.4650 - val_loss: 45.2314\n",
            "Epoch 41/1000\n",
            "66/66 [==============================] - 11s 91ms/step - loss: 34.5416 - val_loss: 42.5505\n",
            "Epoch 42/1000\n",
            "66/66 [==============================] - 11s 92ms/step - loss: 36.0757 - val_loss: 45.6343\n",
            "Epoch 43/1000\n",
            "66/66 [==============================] - 11s 91ms/step - loss: 39.7882 - val_loss: 42.0299\n",
            "Epoch 44/1000\n",
            "66/66 [==============================] - 11s 91ms/step - loss: 27.5479 - val_loss: 45.9309\n",
            "Epoch 45/1000\n",
            "66/66 [==============================] - 11s 91ms/step - loss: 33.0246 - val_loss: 46.4973\n",
            "Epoch 46/1000\n",
            "66/66 [==============================] - 11s 91ms/step - loss: 35.7530 - val_loss: 48.1959\n",
            "Epoch 47/1000\n",
            "66/66 [==============================] - 11s 92ms/step - loss: 30.3529 - val_loss: 45.7099\n",
            "Epoch 48/1000\n",
            "66/66 [==============================] - 11s 92ms/step - loss: 35.4902 - val_loss: 45.1542\n",
            "Epoch 49/1000\n",
            "66/66 [==============================] - 11s 91ms/step - loss: 33.9190 - val_loss: 46.6037\n",
            "Epoch 50/1000\n",
            "66/66 [==============================] - 11s 91ms/step - loss: 34.1343 - val_loss: 45.3159\n",
            "Epoch 51/1000\n",
            "66/66 [==============================] - 11s 91ms/step - loss: 37.6691 - val_loss: 46.1231\n",
            "Epoch 52/1000\n",
            "66/66 [==============================] - 11s 90ms/step - loss: 38.8326 - val_loss: 45.9662\n",
            "Epoch 53/1000\n",
            "66/66 [==============================] - 11s 91ms/step - loss: 34.1075 - val_loss: 46.1917\n",
            "Epoch 54/1000\n",
            "66/66 [==============================] - 11s 90ms/step - loss: 30.9197 - val_loss: 46.5348\n",
            "Epoch 55/1000\n",
            "66/66 [==============================] - 11s 91ms/step - loss: 36.3676 - val_loss: 46.6745\n",
            "Epoch 56/1000\n",
            "66/66 [==============================] - 11s 92ms/step - loss: 35.7515 - val_loss: 45.7047\n"
          ]
        },
        {
          "data": {
            "text/html": [
              "Waiting for W&B process to finish... <strong style=\"color:green\">(success).</strong>"
            ],
            "text/plain": [
              "<IPython.core.display.HTML object>"
            ]
          },
          "metadata": {},
          "output_type": "display_data"
        },
        {
          "data": {
            "application/vnd.jupyter.widget-view+json": {
              "model_id": "672f85a80d64497e860f80b159af0a44",
              "version_major": 2,
              "version_minor": 0
            },
            "text/plain": [
              "VBox(children=(Label(value='0.006 MB of 0.006 MB uploaded (0.000 MB deduped)\\r'), FloatProgress(value=1.0, max…"
            ]
          },
          "metadata": {},
          "output_type": "display_data"
        },
        {
          "data": {
            "text/html": [
              "<style>\n",
              "    table.wandb td:nth-child(1) { padding: 0 10px; text-align: left ; width: auto;} td:nth-child(2) {text-align: left ; width: 100%}\n",
              "    .wandb-row { display: flex; flex-direction: row; flex-wrap: wrap; justify-content: flex-start; width: 100% }\n",
              "    .wandb-col { display: flex; flex-direction: column; flex-basis: 100%; flex: 1; padding: 10px; }\n",
              "    </style>\n",
              "<div class=\"wandb-row\"><div class=\"wandb-col\"><h3>Run history:</h3><br/><table class=\"wandb\"><tr><td>epoch</td><td>▁▁▁▂▂▂▂▂▂▃▃▃▃▃▃▄▄▄▄▄▅▅▅▅▅▅▆▆▆▆▆▆▇▇▇▇▇███</td></tr><tr><td>loss</td><td>█▃▁▁▁▁▁▁▁▁▁▁▁▁▁▁▁▁▁▁▁▁▁▁▁▁▁▁▁▁▁▁▁▁▁▁▁▁▁▁</td></tr><tr><td>val_loss</td><td>█▅▅▃▃▂▁▁▁▁▁▁▁▁▁▁▁▁▁▁▁▁▁▁▁▁▁▁▁▁▁▁▁▁▁▁▁▁▁▁</td></tr></table><br/></div><div class=\"wandb-col\"><h3>Run summary:</h3><br/><table class=\"wandb\"><tr><td>best_epoch</td><td>35</td></tr><tr><td>best_val_loss</td><td>39.39332</td></tr><tr><td>epoch</td><td>55</td></tr><tr><td>loss</td><td>35.75154</td></tr><tr><td>val_loss</td><td>45.70474</td></tr></table><br/></div></div>"
            ],
            "text/plain": [
              "<IPython.core.display.HTML object>"
            ]
          },
          "metadata": {},
          "output_type": "display_data"
        },
        {
          "data": {
            "text/html": [
              " View run <strong style=\"color:#cdcd00\">fiery-pine-198</strong> at: <a href='https://wandb.ai/avogadro/Deep%20learning%20for%20option%20pricing%20-%20rolling%20windows/runs/0nwixgdf' target=\"_blank\">https://wandb.ai/avogadro/Deep%20learning%20for%20option%20pricing%20-%20rolling%20windows/runs/0nwixgdf</a><br/>Synced 5 W&B file(s), 1 media file(s), 0 artifact file(s) and 0 other file(s)"
            ],
            "text/plain": [
              "<IPython.core.display.HTML object>"
            ]
          },
          "metadata": {},
          "output_type": "display_data"
        },
        {
          "data": {
            "text/html": [
              "Find logs at: <code>./wandb/run-20230413_175209-0nwixgdf/logs</code>"
            ],
            "text/plain": [
              "<IPython.core.display.HTML object>"
            ]
          },
          "metadata": {},
          "output_type": "display_data"
        },
        {
          "name": "stdout",
          "output_type": "stream",
          "text": [
            "--- Predictions for test_start 2015-05-11 ---\n",
            "MSE: 388.58878\n",
            "RMSE: 19.712654\n",
            "-------------------------------------------\n",
            "Train shape: (324152, 10, 1), (324152, 4)\n",
            "Val shape: (16975, 10, 1), (16975, 4)\n",
            "Test shape: (31112, 10, 1), (31112, 4)\n"
          ]
        },
        {
          "data": {
            "text/html": [
              "Changes to your `wandb` environment variables will be ignored because your `wandb` session has already started. For more information on how to modify your settings with `wandb.init()` arguments, please refer to <a href='https://wandb.me/wandb-init' target=\"_blank\">the W&B docs</a>."
            ],
            "text/plain": [
              "<IPython.core.display.HTML object>"
            ]
          },
          "metadata": {},
          "output_type": "display_data"
        },
        {
          "data": {
            "text/html": [
              "Tracking run with wandb version 0.14.2"
            ],
            "text/plain": [
              "<IPython.core.display.HTML object>"
            ]
          },
          "metadata": {},
          "output_type": "display_data"
        },
        {
          "data": {
            "text/html": [
              "Run data is saved locally in <code>/content/wandb/run-20230413_180403-ftjj6imn</code>"
            ],
            "text/plain": [
              "<IPython.core.display.HTML object>"
            ]
          },
          "metadata": {},
          "output_type": "display_data"
        },
        {
          "data": {
            "text/html": [
              "Syncing run <strong><a href='https://wandb.ai/avogadro/Deep%20learning%20for%20option%20pricing%20-%20rolling%20windows/runs/ftjj6imn' target=\"_blank\">playful-music-199</a></strong> to <a href='https://wandb.ai/avogadro/Deep%20learning%20for%20option%20pricing%20-%20rolling%20windows' target=\"_blank\">Weights & Biases</a> (<a href='https://wandb.me/run' target=\"_blank\">docs</a>)<br/>"
            ],
            "text/plain": [
              "<IPython.core.display.HTML object>"
            ]
          },
          "metadata": {},
          "output_type": "display_data"
        },
        {
          "data": {
            "text/html": [
              " View project at <a href='https://wandb.ai/avogadro/Deep%20learning%20for%20option%20pricing%20-%20rolling%20windows' target=\"_blank\">https://wandb.ai/avogadro/Deep%20learning%20for%20option%20pricing%20-%20rolling%20windows</a>"
            ],
            "text/plain": [
              "<IPython.core.display.HTML object>"
            ]
          },
          "metadata": {},
          "output_type": "display_data"
        },
        {
          "data": {
            "text/html": [
              " View run at <a href='https://wandb.ai/avogadro/Deep%20learning%20for%20option%20pricing%20-%20rolling%20windows/runs/ftjj6imn' target=\"_blank\">https://wandb.ai/avogadro/Deep%20learning%20for%20option%20pricing%20-%20rolling%20windows/runs/ftjj6imn</a>"
            ],
            "text/plain": [
              "<IPython.core.display.HTML object>"
            ]
          },
          "metadata": {},
          "output_type": "display_data"
        },
        {
          "name": "stdout",
          "output_type": "stream",
          "text": [
            "Model: \"model\"\n",
            "__________________________________________________________________________________________________\n",
            " Layer (type)                   Output Shape         Param #     Connected to                     \n",
            "==================================================================================================\n",
            " input_1 (InputLayer)           [(None, 10, 1)]      0           []                               \n",
            "                                                                                                  \n",
            " sequential (Sequential)        (None, 16)           2016        ['input_1[0][0]',                \n",
            "                                                                  'input_1[0][0]',                \n",
            "                                                                  'input_1[0][0]',                \n",
            "                                                                  'input_1[0][0]',                \n",
            "                                                                  'input_1[0][0]']                \n",
            "                                                                                                  \n",
            " input_2 (InputLayer)           [(None, 4)]          0           []                               \n",
            "                                                                                                  \n",
            " concatenate (Concatenate)      (None, 84)           0           ['sequential[0][0]',             \n",
            "                                                                  'sequential[1][0]',             \n",
            "                                                                  'sequential[2][0]',             \n",
            "                                                                  'sequential[3][0]',             \n",
            "                                                                  'sequential[4][0]',             \n",
            "                                                                  'input_2[0][0]']                \n",
            "                                                                                                  \n",
            " dense (Dense)                  (None, 600)          51000       ['concatenate[0][0]']            \n",
            "                                                                                                  \n",
            " batch_normalization (BatchNorm  (None, 600)         2400        ['dense[0][0]']                  \n",
            " alization)                                                                                       \n",
            "                                                                                                  \n",
            " leaky_re_lu (LeakyReLU)        (None, 600)          0           ['batch_normalization[0][0]']    \n",
            "                                                                                                  \n",
            " dense_1 (Dense)                (None, 600)          360600      ['leaky_re_lu[0][0]']            \n",
            "                                                                                                  \n",
            " batch_normalization_1 (BatchNo  (None, 600)         2400        ['dense_1[0][0]']                \n",
            " rmalization)                                                                                     \n",
            "                                                                                                  \n",
            " leaky_re_lu_1 (LeakyReLU)      (None, 600)          0           ['batch_normalization_1[0][0]']  \n",
            "                                                                                                  \n",
            " dense_2 (Dense)                (None, 600)          360600      ['leaky_re_lu_1[0][0]']          \n",
            "                                                                                                  \n",
            " batch_normalization_2 (BatchNo  (None, 600)         2400        ['dense_2[0][0]']                \n",
            " rmalization)                                                                                     \n",
            "                                                                                                  \n",
            " leaky_re_lu_2 (LeakyReLU)      (None, 600)          0           ['batch_normalization_2[0][0]']  \n",
            "                                                                                                  \n",
            " dense_3 (Dense)                (None, 600)          360600      ['leaky_re_lu_2[0][0]']          \n",
            "                                                                                                  \n",
            " batch_normalization_3 (BatchNo  (None, 600)         2400        ['dense_3[0][0]']                \n",
            " rmalization)                                                                                     \n",
            "                                                                                                  \n",
            " leaky_re_lu_3 (LeakyReLU)      (None, 600)          0           ['batch_normalization_3[0][0]']  \n",
            "                                                                                                  \n",
            " dense_4 (Dense)                (None, 600)          360600      ['leaky_re_lu_3[0][0]']          \n",
            "                                                                                                  \n",
            " batch_normalization_4 (BatchNo  (None, 600)         2400        ['dense_4[0][0]']                \n",
            " rmalization)                                                                                     \n",
            "                                                                                                  \n",
            " leaky_re_lu_4 (LeakyReLU)      (None, 600)          0           ['batch_normalization_4[0][0]']  \n",
            "                                                                                                  \n",
            " dense_5 (Dense)                (None, 600)          360600      ['leaky_re_lu_4[0][0]']          \n",
            "                                                                                                  \n",
            " batch_normalization_5 (BatchNo  (None, 600)         2400        ['dense_5[0][0]']                \n",
            " rmalization)                                                                                     \n",
            "                                                                                                  \n",
            " leaky_re_lu_5 (LeakyReLU)      (None, 600)          0           ['batch_normalization_5[0][0]']  \n",
            "                                                                                                  \n",
            " dense_6 (Dense)                (None, 1)            601         ['leaky_re_lu_5[0][0]']          \n",
            "                                                                                                  \n",
            "==================================================================================================\n",
            "Total params: 1,871,017\n",
            "Trainable params: 1,863,817\n",
            "Non-trainable params: 7,200\n",
            "__________________________________________________________________________________________________\n",
            "Train shape: (268651, 10, 1), (268651, 10, 1)\n",
            "Val shape: (14139, 10, 1), (14139, 10, 1)\n",
            "Epoch 1/1000\n",
            "66/66 [==============================] - 54s 194ms/step - loss: 116416.1250 - val_loss: 119216.6719\n",
            "Epoch 2/1000\n",
            "66/66 [==============================] - 11s 93ms/step - loss: 28582.1504 - val_loss: 76402.8984\n",
            "Epoch 3/1000\n",
            "66/66 [==============================] - 11s 92ms/step - loss: 2606.7244 - val_loss: 123724.9766\n",
            "Epoch 4/1000\n",
            "66/66 [==============================] - 12s 108ms/step - loss: 388.2334 - val_loss: 61426.8125\n",
            "Epoch 5/1000\n",
            "66/66 [==============================] - 11s 95ms/step - loss: 182.2330 - val_loss: 44845.5078\n",
            "Epoch 6/1000\n",
            "66/66 [==============================] - 11s 94ms/step - loss: 116.2364 - val_loss: 34941.0938\n",
            "Epoch 7/1000\n",
            "66/66 [==============================] - 11s 94ms/step - loss: 87.7681 - val_loss: 25232.8223\n",
            "Epoch 8/1000\n",
            "66/66 [==============================] - 11s 96ms/step - loss: 98.4790 - val_loss: 11808.1064\n",
            "Epoch 9/1000\n",
            "66/66 [==============================] - 11s 94ms/step - loss: 63.8200 - val_loss: 8178.0664\n",
            "Epoch 10/1000\n",
            "66/66 [==============================] - 11s 95ms/step - loss: 71.5740 - val_loss: 6042.3521\n",
            "Epoch 11/1000\n",
            "66/66 [==============================] - 12s 108ms/step - loss: 62.8791 - val_loss: 2624.6543\n",
            "Epoch 12/1000\n",
            "66/66 [==============================] - 11s 92ms/step - loss: 63.3377 - val_loss: 2888.2847\n",
            "Epoch 13/1000\n",
            "66/66 [==============================] - 12s 105ms/step - loss: 49.2056 - val_loss: 2384.3528\n",
            "Epoch 14/1000\n",
            "66/66 [==============================] - 11s 93ms/step - loss: 44.0518 - val_loss: 2560.1646\n",
            "Epoch 15/1000\n",
            "66/66 [==============================] - 12s 111ms/step - loss: 43.4108 - val_loss: 1031.6267\n",
            "Epoch 16/1000\n",
            "66/66 [==============================] - 13s 112ms/step - loss: 44.1236 - val_loss: 70.4999\n",
            "Epoch 17/1000\n",
            "66/66 [==============================] - 11s 96ms/step - loss: 46.7520 - val_loss: 922.7342\n",
            "Epoch 18/1000\n",
            "66/66 [==============================] - 12s 95ms/step - loss: 37.8923 - val_loss: 1900.7457\n",
            "Epoch 19/1000\n",
            "66/66 [==============================] - 11s 94ms/step - loss: 45.2206 - val_loss: 4147.2485\n",
            "Epoch 20/1000\n",
            "66/66 [==============================] - 11s 94ms/step - loss: 36.8345 - val_loss: 5068.6143\n",
            "Epoch 21/1000\n",
            "66/66 [==============================] - 11s 92ms/step - loss: 42.3759 - val_loss: 7871.6152\n",
            "Epoch 22/1000\n",
            "66/66 [==============================] - 11s 92ms/step - loss: 41.7028 - val_loss: 9956.8721\n",
            "Epoch 23/1000\n",
            "66/66 [==============================] - 11s 93ms/step - loss: 36.5720 - val_loss: 8468.1279\n",
            "Epoch 24/1000\n",
            "66/66 [==============================] - 11s 93ms/step - loss: 33.5988 - val_loss: 6484.6172\n",
            "Epoch 25/1000\n",
            "66/66 [==============================] - 11s 94ms/step - loss: 39.9994 - val_loss: 7690.3638\n",
            "Epoch 26/1000\n",
            "66/66 [==============================] - 11s 94ms/step - loss: 38.1124 - val_loss: 5160.1909\n",
            "Epoch 27/1000\n",
            "66/66 [==============================] - 11s 95ms/step - loss: 33.7353 - val_loss: 3614.4446\n",
            "Epoch 28/1000\n",
            "66/66 [==============================] - 11s 93ms/step - loss: 37.4342 - val_loss: 2328.4734\n",
            "Epoch 29/1000\n",
            "66/66 [==============================] - 11s 93ms/step - loss: 33.3922 - val_loss: 2589.3909\n",
            "Epoch 30/1000\n",
            "66/66 [==============================] - 11s 93ms/step - loss: 34.0275 - val_loss: 1915.7345\n",
            "Epoch 31/1000\n",
            "66/66 [==============================] - 11s 93ms/step - loss: 33.8149 - val_loss: 1089.4602\n",
            "Epoch 32/1000\n",
            "66/66 [==============================] - 11s 92ms/step - loss: 31.2995 - val_loss: 794.3466\n",
            "Epoch 33/1000\n",
            "66/66 [==============================] - 11s 93ms/step - loss: 33.3736 - val_loss: 590.8418\n",
            "Epoch 34/1000\n",
            "66/66 [==============================] - 11s 93ms/step - loss: 37.1586 - val_loss: 470.1913\n",
            "Epoch 35/1000\n",
            "66/66 [==============================] - 11s 94ms/step - loss: 31.5700 - val_loss: 278.9134\n",
            "Epoch 36/1000\n",
            "66/66 [==============================] - 11s 93ms/step - loss: 27.5993 - val_loss: 182.2851\n"
          ]
        },
        {
          "data": {
            "text/html": [
              "Waiting for W&B process to finish... <strong style=\"color:green\">(success).</strong>"
            ],
            "text/plain": [
              "<IPython.core.display.HTML object>"
            ]
          },
          "metadata": {},
          "output_type": "display_data"
        },
        {
          "data": {
            "application/vnd.jupyter.widget-view+json": {
              "model_id": "bdbe1a20589244f19e47322db4799fcf",
              "version_major": 2,
              "version_minor": 0
            },
            "text/plain": [
              "VBox(children=(Label(value='0.006 MB of 0.006 MB uploaded (0.000 MB deduped)\\r'), FloatProgress(value=1.0, max…"
            ]
          },
          "metadata": {},
          "output_type": "display_data"
        },
        {
          "data": {
            "text/html": [
              "<style>\n",
              "    table.wandb td:nth-child(1) { padding: 0 10px; text-align: left ; width: auto;} td:nth-child(2) {text-align: left ; width: 100%}\n",
              "    .wandb-row { display: flex; flex-direction: row; flex-wrap: wrap; justify-content: flex-start; width: 100% }\n",
              "    .wandb-col { display: flex; flex-direction: column; flex-basis: 100%; flex: 1; padding: 10px; }\n",
              "    </style>\n",
              "<div class=\"wandb-row\"><div class=\"wandb-col\"><h3>Run history:</h3><br/><table class=\"wandb\"><tr><td>epoch</td><td>▁▁▁▂▂▂▂▂▃▃▃▃▃▄▄▄▄▄▅▅▅▅▅▆▆▆▆▆▇▇▇▇▇███</td></tr><tr><td>loss</td><td>█▃▁▁▁▁▁▁▁▁▁▁▁▁▁▁▁▁▁▁▁▁▁▁▁▁▁▁▁▁▁▁▁▁▁▁</td></tr><tr><td>val_loss</td><td>█▅█▄▄▃▂▂▁▁▁▁▁▁▁▁▁▁▁▁▁▂▁▁▁▁▁▁▁▁▁▁▁▁▁▁</td></tr></table><br/></div><div class=\"wandb-col\"><h3>Run summary:</h3><br/><table class=\"wandb\"><tr><td>best_epoch</td><td>15</td></tr><tr><td>best_val_loss</td><td>70.4999</td></tr><tr><td>epoch</td><td>35</td></tr><tr><td>loss</td><td>27.59926</td></tr><tr><td>val_loss</td><td>182.28508</td></tr></table><br/></div></div>"
            ],
            "text/plain": [
              "<IPython.core.display.HTML object>"
            ]
          },
          "metadata": {},
          "output_type": "display_data"
        },
        {
          "data": {
            "text/html": [
              " View run <strong style=\"color:#cdcd00\">playful-music-199</strong> at: <a href='https://wandb.ai/avogadro/Deep%20learning%20for%20option%20pricing%20-%20rolling%20windows/runs/ftjj6imn' target=\"_blank\">https://wandb.ai/avogadro/Deep%20learning%20for%20option%20pricing%20-%20rolling%20windows/runs/ftjj6imn</a><br/>Synced 5 W&B file(s), 1 media file(s), 0 artifact file(s) and 0 other file(s)"
            ],
            "text/plain": [
              "<IPython.core.display.HTML object>"
            ]
          },
          "metadata": {},
          "output_type": "display_data"
        },
        {
          "data": {
            "text/html": [
              "Find logs at: <code>./wandb/run-20230413_180403-ftjj6imn/logs</code>"
            ],
            "text/plain": [
              "<IPython.core.display.HTML object>"
            ]
          },
          "metadata": {},
          "output_type": "display_data"
        },
        {
          "name": "stdout",
          "output_type": "stream",
          "text": [
            "--- Predictions for test_start 2015-05-25 ---\n",
            "MSE: 203.551\n",
            "RMSE: 14.26713\n",
            "-------------------------------------------\n",
            "--- All model predictions ---\n",
            "MSE: 170.95041\n",
            "RMSE: 13.0748005\n",
            "-------------------------------------------\n"
          ]
        }
      ],
      "source": [
        "num_windows = 12 #84\n",
        "\n",
        "config = {\n",
        "    'LSTM_units': 4,\n",
        "    'Interface_units': 16,\n",
        "    'MLP_units': 600,\n",
        "    'LSTM_timesteps': 10,\n",
        "    'LSTM_layers': 6,\n",
        "    'MLP_layers': 7,\n",
        "    'Bn_momentum': 0.99,\n",
        "    'Lr': 0.005,\n",
        "    'Lr_decay': 0.82,\n",
        "    'Minibatch_size': 4096,\n",
        "    'Min_delta': 0.01 if moneyness else 1,\n",
        "    'Patience': 20,\n",
        "    'Num_features': 3 if moneyness else 4, \n",
        "    'Architecture': 'LSTM-MLP v.5.0',\n",
        "}\n",
        "\n",
        "# Ask before training, so that you don't have to verify later\n",
        "from google.colab import drive\n",
        "if google_colab == True:\n",
        "  drive.mount('/content/drive')\n",
        "\n",
        "df_test_combined = pd.DataFrame()\n",
        "\n",
        "checkpoint_time = datetime.now().strftime(\"%m-%d_%H-%M\")\n",
        "\n",
        "previous_checkpoint_path = None\n",
        "\n",
        "for window in range(num_windows):\n",
        "    if moneyness:\n",
        "        train_x, train_y, val_x, val_y, test_x, test_y, train_start, val_start, test_start, df_test, train_strike, val_strike, test_strike, = create_rw_dataset(window)\n",
        "    else:\n",
        "        train_x, train_y, val_x, val_y, test_x, test_y, train_start, val_start, test_start, df_test = create_rw_dataset(window)\n",
        "\n",
        "\n",
        "    if previous_checkpoint_path is not None:\n",
        "        checkpoint_path = previous_checkpoint_path\n",
        "    else:\n",
        "        checkpoint_path = f'/content/drive/MyDrive/01. Masters Thesis - Shared/05. Checkpoints/{checkpoint_time}/{train_start}/'\n",
        "\n",
        "\n",
        "    config['Dataset'] = f'{train_start} - {val_start} - {test_start}'\n",
        "\n",
        "    trainer(config = config, project = 'Deep learning for option pricing - rolling windows', checkpoint_path = checkpoint_path)\n",
        "    c_model = load_model(checkpoint_path + \".h5\")\n",
        "    predictions = np.array(c_model(test_x))\n",
        "    print(f'--- Predictions for test_start {test_start} ---')\n",
        "    calculate_error(predictions, test_y)\n",
        "    print('-------------------------------------------')\n",
        "    df_test[\"Prediction\"] = predictions\n",
        "    df_test_combined = pd.concat([df_test_combined, df_test[[\"Quote_date\", \"Price\", \"Prediction\"] + bs_vars]])\n",
        "    \n",
        "    previous_checkpoint_path = checkpoint_path\n",
        "\n",
        "\n",
        "print(f\"--- All model predictions ---\")\n",
        "calculate_error(df_test_combined[\"Prediction\"], df_test_combined[\"Price\"])\n",
        "print(\"-------------------------------------------\")\n",
        "\n",
        "if google_colab == False:\n",
        "    predictions_path = './predictions/'\n",
        "    if checkpoint_path and not os.path.exists(predictions_path):\n",
        "        os.makedirs(predictions_path)\n",
        "    df_test_combined.to_csv(f'{predictions_path}{datetime.now().strftime(\"%m-%d_%H-%M\")}.csv')\n",
        "\n",
        "if google_colab == True:\n",
        "  path = '/content/drive/My Drive/Predictions/predictions_2015_v5_4_2weektest.csv'\n",
        "  with open(path, 'w', encoding = 'utf-8-sig') as f:\n",
        "    df_test_combined.to_csv(f)"
      ]
    },
    {
      "cell_type": "markdown",
      "metadata": {
        "id": "ucgo2McGTnkt"
      },
      "source": [
        "### Load single model"
      ]
    },
    {
      "cell_type": "code",
      "execution_count": null,
      "metadata": {
        "colab": {
          "background_save": true
        },
        "id": "YggplbxMTnkt",
        "outputId": "40e7dc82-78e7-4ef1-f1f7-1a926195de89"
      },
      "outputs": [
        {
          "name": "stdout",
          "output_type": "stream",
          "text": [
            "Train shape: (273665, 10, 1), (273665, 4)\n",
            "Val shape: (11045, 10, 1), (11045, 4)\n",
            "Test shape: (24797, 10, 1), (24797, 4)\n",
            "Model: \"model\"\n",
            "__________________________________________________________________________________________________\n",
            " Layer (type)                   Output Shape         Param #     Connected to                     \n",
            "==================================================================================================\n",
            " input_1 (InputLayer)           [(None, 10, 1)]      0           []                               \n",
            "                                                                                                  \n",
            " sequential (Sequential)        (None, 4)            384         ['input_1[0][0]',                \n",
            "                                                                  'input_1[0][0]',                \n",
            "                                                                  'input_1[0][0]',                \n",
            "                                                                  'input_1[0][0]',                \n",
            "                                                                  'input_1[0][0]']                \n",
            "                                                                                                  \n",
            " input_2 (InputLayer)           [(None, 4)]          0           []                               \n",
            "                                                                                                  \n",
            " concatenate (Concatenate)      (None, 24)           0           ['sequential[0][0]',             \n",
            "                                                                  'sequential[1][0]',             \n",
            "                                                                  'sequential[2][0]',             \n",
            "                                                                  'sequential[3][0]',             \n",
            "                                                                  'sequential[4][0]',             \n",
            "                                                                  'input_2[0][0]']                \n",
            "                                                                                                  \n",
            " dense (Dense)                  (None, 600)          15000       ['concatenate[0][0]']            \n",
            "                                                                                                  \n",
            " batch_normalization (BatchNorm  (None, 600)         2400        ['dense[0][0]']                  \n",
            " alization)                                                                                       \n",
            "                                                                                                  \n",
            " leaky_re_lu (LeakyReLU)        (None, 600)          0           ['batch_normalization[0][0]']    \n",
            "                                                                                                  \n",
            " dense_1 (Dense)                (None, 600)          360600      ['leaky_re_lu[0][0]']            \n",
            "                                                                                                  \n",
            " batch_normalization_1 (BatchNo  (None, 600)         2400        ['dense_1[0][0]']                \n",
            " rmalization)                                                                                     \n",
            "                                                                                                  \n",
            " leaky_re_lu_1 (LeakyReLU)      (None, 600)          0           ['batch_normalization_1[0][0]']  \n",
            "                                                                                                  \n",
            " dense_2 (Dense)                (None, 600)          360600      ['leaky_re_lu_1[0][0]']          \n",
            "                                                                                                  \n",
            " batch_normalization_2 (BatchNo  (None, 600)         2400        ['dense_2[0][0]']                \n",
            " rmalization)                                                                                     \n",
            "                                                                                                  \n",
            " leaky_re_lu_2 (LeakyReLU)      (None, 600)          0           ['batch_normalization_2[0][0]']  \n",
            "                                                                                                  \n",
            " dense_3 (Dense)                (None, 600)          360600      ['leaky_re_lu_2[0][0]']          \n",
            "                                                                                                  \n",
            " batch_normalization_3 (BatchNo  (None, 600)         2400        ['dense_3[0][0]']                \n",
            " rmalization)                                                                                     \n",
            "                                                                                                  \n",
            " leaky_re_lu_3 (LeakyReLU)      (None, 600)          0           ['batch_normalization_3[0][0]']  \n",
            "                                                                                                  \n",
            " dense_4 (Dense)                (None, 600)          360600      ['leaky_re_lu_3[0][0]']          \n",
            "                                                                                                  \n",
            " batch_normalization_4 (BatchNo  (None, 600)         2400        ['dense_4[0][0]']                \n",
            " rmalization)                                                                                     \n",
            "                                                                                                  \n",
            " leaky_re_lu_4 (LeakyReLU)      (None, 600)          0           ['batch_normalization_4[0][0]']  \n",
            "                                                                                                  \n",
            " dense_5 (Dense)                (None, 600)          360600      ['leaky_re_lu_4[0][0]']          \n",
            "                                                                                                  \n",
            " batch_normalization_5 (BatchNo  (None, 600)         2400        ['dense_5[0][0]']                \n",
            " rmalization)                                                                                     \n",
            "                                                                                                  \n",
            " leaky_re_lu_5 (LeakyReLU)      (None, 600)          0           ['batch_normalization_5[0][0]']  \n",
            "                                                                                                  \n",
            " dense_6 (Dense)                (None, 1)            601         ['leaky_re_lu_5[0][0]']          \n",
            "                                                                                                  \n",
            "==================================================================================================\n",
            "Total params: 1,833,385\n",
            "Trainable params: 1,826,185\n",
            "Non-trainable params: 7,200\n",
            "__________________________________________________________________________________________________\n"
          ]
        },
        {
          "ename": "NotFoundError",
          "evalue": "ignored",
          "output_type": "error",
          "traceback": [
            "\u001b[0;31m---------------------------------------------------------------------------\u001b[0m",
            "\u001b[0;31mNotFoundError\u001b[0m                             Traceback (most recent call last)",
            "\u001b[0;32m<ipython-input-57-030cd1a8841c>\u001b[0m in \u001b[0;36m<cell line: 28>\u001b[0;34m()\u001b[0m\n\u001b[1;32m     26\u001b[0m \u001b[0mco\u001b[0m \u001b[0;34m=\u001b[0m \u001b[0mconfig_object\u001b[0m\u001b[0;34m(\u001b[0m\u001b[0mconfig\u001b[0m\u001b[0;34m)\u001b[0m\u001b[0;34m\u001b[0m\u001b[0;34m\u001b[0m\u001b[0m\n\u001b[1;32m     27\u001b[0m \u001b[0mc_model\u001b[0m \u001b[0;34m=\u001b[0m \u001b[0mcreate_model\u001b[0m\u001b[0;34m(\u001b[0m\u001b[0mco\u001b[0m\u001b[0;34m)\u001b[0m\u001b[0;34m\u001b[0m\u001b[0;34m\u001b[0m\u001b[0m\n\u001b[0;32m---> 28\u001b[0;31m \u001b[0mc_model\u001b[0m\u001b[0;34m.\u001b[0m\u001b[0mload_weights\u001b[0m\u001b[0;34m(\u001b[0m\u001b[0mcheckpoint_path\u001b[0m\u001b[0;34m)\u001b[0m\u001b[0;34m\u001b[0m\u001b[0;34m\u001b[0m\u001b[0m\n\u001b[0m\u001b[1;32m     29\u001b[0m \u001b[0mpredictions\u001b[0m \u001b[0;34m=\u001b[0m \u001b[0mnp\u001b[0m\u001b[0;34m.\u001b[0m\u001b[0marray\u001b[0m\u001b[0;34m(\u001b[0m\u001b[0mc_model\u001b[0m\u001b[0;34m(\u001b[0m\u001b[0mtest_x\u001b[0m\u001b[0;34m)\u001b[0m\u001b[0;34m)\u001b[0m\u001b[0;34m\u001b[0m\u001b[0;34m\u001b[0m\u001b[0m\n\u001b[1;32m     30\u001b[0m \u001b[0mprint\u001b[0m\u001b[0;34m(\u001b[0m\u001b[0;34mf'--- Predictions for {test_start} ---'\u001b[0m\u001b[0;34m)\u001b[0m\u001b[0;34m\u001b[0m\u001b[0;34m\u001b[0m\u001b[0m\n",
            "\u001b[0;32m/usr/local/lib/python3.9/dist-packages/keras/utils/traceback_utils.py\u001b[0m in \u001b[0;36merror_handler\u001b[0;34m(*args, **kwargs)\u001b[0m\n\u001b[1;32m     68\u001b[0m             \u001b[0;31m# To get the full stack trace, call:\u001b[0m\u001b[0;34m\u001b[0m\u001b[0;34m\u001b[0m\u001b[0m\n\u001b[1;32m     69\u001b[0m             \u001b[0;31m# `tf.debugging.disable_traceback_filtering()`\u001b[0m\u001b[0;34m\u001b[0m\u001b[0;34m\u001b[0m\u001b[0m\n\u001b[0;32m---> 70\u001b[0;31m             \u001b[0;32mraise\u001b[0m \u001b[0me\u001b[0m\u001b[0;34m.\u001b[0m\u001b[0mwith_traceback\u001b[0m\u001b[0;34m(\u001b[0m\u001b[0mfiltered_tb\u001b[0m\u001b[0;34m)\u001b[0m \u001b[0;32mfrom\u001b[0m \u001b[0;32mNone\u001b[0m\u001b[0;34m\u001b[0m\u001b[0;34m\u001b[0m\u001b[0m\n\u001b[0m\u001b[1;32m     71\u001b[0m         \u001b[0;32mfinally\u001b[0m\u001b[0;34m:\u001b[0m\u001b[0;34m\u001b[0m\u001b[0;34m\u001b[0m\u001b[0m\n\u001b[1;32m     72\u001b[0m             \u001b[0;32mdel\u001b[0m \u001b[0mfiltered_tb\u001b[0m\u001b[0;34m\u001b[0m\u001b[0;34m\u001b[0m\u001b[0m\n",
            "\u001b[0;32m/usr/local/lib/python3.9/dist-packages/tensorflow/python/training/py_checkpoint_reader.py\u001b[0m in \u001b[0;36merror_translator\u001b[0;34m(e)\u001b[0m\n\u001b[1;32m     29\u001b[0m       \u001b[0;34m'Failed to find any '\u001b[0m\u001b[0;34m\u001b[0m\u001b[0;34m\u001b[0m\u001b[0m\n\u001b[1;32m     30\u001b[0m       'matching files for') in error_message:\n\u001b[0;32m---> 31\u001b[0;31m     \u001b[0;32mraise\u001b[0m \u001b[0merrors_impl\u001b[0m\u001b[0;34m.\u001b[0m\u001b[0mNotFoundError\u001b[0m\u001b[0;34m(\u001b[0m\u001b[0;32mNone\u001b[0m\u001b[0;34m,\u001b[0m \u001b[0;32mNone\u001b[0m\u001b[0;34m,\u001b[0m \u001b[0merror_message\u001b[0m\u001b[0;34m)\u001b[0m\u001b[0;34m\u001b[0m\u001b[0;34m\u001b[0m\u001b[0m\n\u001b[0m\u001b[1;32m     32\u001b[0m   elif 'Sliced checkpoints are not supported' in error_message or (\n\u001b[1;32m     33\u001b[0m       \u001b[0;34m'Data type '\u001b[0m\u001b[0;34m\u001b[0m\u001b[0;34m\u001b[0m\u001b[0m\n",
            "\u001b[0;31mNotFoundError\u001b[0m: Unsuccessful TensorSliceReader constructor: Failed to find any matching files for ./checkpoint/03-20_12-35/2014-07-31/"
          ]
        }
      ],
      "source": [
        "config = {\n",
        "    'LSTM_units': 4,\n",
        "    'Interface_units': 4,\n",
        "    'MLP_units': 600,\n",
        "    'LSTM_timesteps': 10,\n",
        "    'LSTM_layers': 3,\n",
        "    'MLP_layers': 7,\n",
        "    'Bn_momentum': 0.99,\n",
        "    'Lr': 0.0001,\n",
        "    'Lr_decay': 0.92,\n",
        "    'Minibatch_size': 4096,\n",
        "    'Min_delta': 0.01 if moneyness else 1,\n",
        "    'Patience': 20,\n",
        "    'Num_features': 3 if moneyness else 4, \n",
        "    'Architecture': 'LSTM-MLP v.1.0',\n",
        "}\n",
        "\n",
        "window = 1\n",
        "if moneyness:\n",
        "        train_x, train_y, val_x, val_y, test_x, test_y, train_start, val_start, test_start, df_test, train_strike, val_strike, test_strike, = create_rw_dataset(window)\n",
        "else:\n",
        "    train_x, train_y, val_x, val_y, test_x, test_y, train_start, val_start, test_start, df_test = create_rw_dataset(window)\n",
        "\n",
        "checkpoint_path = f'./checkpoint/03-20_12-35/{train_start}/'\n",
        "\n",
        "co = config_object(config)\n",
        "c_model = create_model(co)\n",
        "c_model.load_weights(checkpoint_path)\n",
        "predictions = np.array(c_model(test_x))\n",
        "print(f'--- Predictions for {test_start} ---')\n",
        "calculate_error(predictions, test_y)\n",
        "print('-------------------------------------------')"
      ]
    },
    {
      "cell_type": "code",
      "execution_count": null,
      "metadata": {
        "colab": {
          "background_save": true
        },
        "id": "MQQfeNDKTnkt"
      },
      "outputs": [],
      "source": []
    }
  ],
  "metadata": {
    "accelerator": "GPU",
    "colab": {
      "machine_shape": "hm",
      "provenance": []
    },
    "gpuClass": "standard",
    "kernelspec": {
      "display_name": "Python 3",
      "language": "python",
      "name": "python3"
    },
    "language_info": {
      "codemirror_mode": {
        "name": "ipython",
        "version": 3
      },
      "file_extension": ".py",
      "mimetype": "text/x-python",
      "name": "python",
      "nbconvert_exporter": "python",
      "pygments_lexer": "ipython3",
      "version": "3.10.9"
    },
    "vscode": {
      "interpreter": {
        "hash": "aee8b7b246df8f9039afb4144a1f6fd8d2ca17a180786b69acc140d282b71a49"
      }
    },
    "widgets": {
      "application/vnd.jupyter.widget-state+json": {
        "3128f2c32010427db498a5a1d409c1e7": {
          "model_module": "@jupyter-widgets/controls",
          "model_module_version": "1.5.0",
          "model_name": "FloatProgressModel",
          "state": {
            "_dom_classes": [],
            "_model_module": "@jupyter-widgets/controls",
            "_model_module_version": "1.5.0",
            "_model_name": "FloatProgressModel",
            "_view_count": null,
            "_view_module": "@jupyter-widgets/controls",
            "_view_module_version": "1.5.0",
            "_view_name": "ProgressView",
            "bar_style": "",
            "description": "",
            "description_tooltip": null,
            "layout": "IPY_MODEL_71f449accb084eecbe712c452174fcad",
            "max": 1,
            "min": 0,
            "orientation": "horizontal",
            "style": "IPY_MODEL_c1482a18d9324d78b93fd8b729393e82",
            "value": 1
          }
        },
        "716a1eb0d07944fe8656175f133ce114": {
          "model_module": "@jupyter-widgets/base",
          "model_module_version": "1.2.0",
          "model_name": "LayoutModel",
          "state": {
            "_model_module": "@jupyter-widgets/base",
            "_model_module_version": "1.2.0",
            "_model_name": "LayoutModel",
            "_view_count": null,
            "_view_module": "@jupyter-widgets/base",
            "_view_module_version": "1.2.0",
            "_view_name": "LayoutView",
            "align_content": null,
            "align_items": null,
            "align_self": null,
            "border": null,
            "bottom": null,
            "display": null,
            "flex": null,
            "flex_flow": null,
            "grid_area": null,
            "grid_auto_columns": null,
            "grid_auto_flow": null,
            "grid_auto_rows": null,
            "grid_column": null,
            "grid_gap": null,
            "grid_row": null,
            "grid_template_areas": null,
            "grid_template_columns": null,
            "grid_template_rows": null,
            "height": null,
            "justify_content": null,
            "justify_items": null,
            "left": null,
            "margin": null,
            "max_height": null,
            "max_width": null,
            "min_height": null,
            "min_width": null,
            "object_fit": null,
            "object_position": null,
            "order": null,
            "overflow": null,
            "overflow_x": null,
            "overflow_y": null,
            "padding": null,
            "right": null,
            "top": null,
            "visibility": null,
            "width": null
          }
        },
        "71f449accb084eecbe712c452174fcad": {
          "model_module": "@jupyter-widgets/base",
          "model_module_version": "1.2.0",
          "model_name": "LayoutModel",
          "state": {
            "_model_module": "@jupyter-widgets/base",
            "_model_module_version": "1.2.0",
            "_model_name": "LayoutModel",
            "_view_count": null,
            "_view_module": "@jupyter-widgets/base",
            "_view_module_version": "1.2.0",
            "_view_name": "LayoutView",
            "align_content": null,
            "align_items": null,
            "align_self": null,
            "border": null,
            "bottom": null,
            "display": null,
            "flex": null,
            "flex_flow": null,
            "grid_area": null,
            "grid_auto_columns": null,
            "grid_auto_flow": null,
            "grid_auto_rows": null,
            "grid_column": null,
            "grid_gap": null,
            "grid_row": null,
            "grid_template_areas": null,
            "grid_template_columns": null,
            "grid_template_rows": null,
            "height": null,
            "justify_content": null,
            "justify_items": null,
            "left": null,
            "margin": null,
            "max_height": null,
            "max_width": null,
            "min_height": null,
            "min_width": null,
            "object_fit": null,
            "object_position": null,
            "order": null,
            "overflow": null,
            "overflow_x": null,
            "overflow_y": null,
            "padding": null,
            "right": null,
            "top": null,
            "visibility": null,
            "width": null
          }
        },
        "9097033c1b244ba58cba28d6588f2202": {
          "model_module": "@jupyter-widgets/base",
          "model_module_version": "1.2.0",
          "model_name": "LayoutModel",
          "state": {
            "_model_module": "@jupyter-widgets/base",
            "_model_module_version": "1.2.0",
            "_model_name": "LayoutModel",
            "_view_count": null,
            "_view_module": "@jupyter-widgets/base",
            "_view_module_version": "1.2.0",
            "_view_name": "LayoutView",
            "align_content": null,
            "align_items": null,
            "align_self": null,
            "border": null,
            "bottom": null,
            "display": null,
            "flex": null,
            "flex_flow": null,
            "grid_area": null,
            "grid_auto_columns": null,
            "grid_auto_flow": null,
            "grid_auto_rows": null,
            "grid_column": null,
            "grid_gap": null,
            "grid_row": null,
            "grid_template_areas": null,
            "grid_template_columns": null,
            "grid_template_rows": null,
            "height": null,
            "justify_content": null,
            "justify_items": null,
            "left": null,
            "margin": null,
            "max_height": null,
            "max_width": null,
            "min_height": null,
            "min_width": null,
            "object_fit": null,
            "object_position": null,
            "order": null,
            "overflow": null,
            "overflow_x": null,
            "overflow_y": null,
            "padding": null,
            "right": null,
            "top": null,
            "visibility": null,
            "width": null
          }
        },
        "97a4ce43a4034c8c893902350b1c7837": {
          "model_module": "@jupyter-widgets/controls",
          "model_module_version": "1.5.0",
          "model_name": "DescriptionStyleModel",
          "state": {
            "_model_module": "@jupyter-widgets/controls",
            "_model_module_version": "1.5.0",
            "_model_name": "DescriptionStyleModel",
            "_view_count": null,
            "_view_module": "@jupyter-widgets/base",
            "_view_module_version": "1.2.0",
            "_view_name": "StyleView",
            "description_width": ""
          }
        },
        "9b1bbef824334937b89911cb0f14414c": {
          "model_module": "@jupyter-widgets/controls",
          "model_module_version": "1.5.0",
          "model_name": "LabelModel",
          "state": {
            "_dom_classes": [],
            "_model_module": "@jupyter-widgets/controls",
            "_model_module_version": "1.5.0",
            "_model_name": "LabelModel",
            "_view_count": null,
            "_view_module": "@jupyter-widgets/controls",
            "_view_module_version": "1.5.0",
            "_view_name": "LabelView",
            "description": "",
            "description_tooltip": null,
            "layout": "IPY_MODEL_716a1eb0d07944fe8656175f133ce114",
            "placeholder": "​",
            "style": "IPY_MODEL_97a4ce43a4034c8c893902350b1c7837",
            "value": "0.022 MB of 0.022 MB uploaded (0.000 MB deduped)\r"
          }
        },
        "c1482a18d9324d78b93fd8b729393e82": {
          "model_module": "@jupyter-widgets/controls",
          "model_module_version": "1.5.0",
          "model_name": "ProgressStyleModel",
          "state": {
            "_model_module": "@jupyter-widgets/controls",
            "_model_module_version": "1.5.0",
            "_model_name": "ProgressStyleModel",
            "_view_count": null,
            "_view_module": "@jupyter-widgets/base",
            "_view_module_version": "1.2.0",
            "_view_name": "StyleView",
            "bar_color": null,
            "description_width": ""
          }
        },
        "e885010a52b349a4adf1e6e6f53a0aee": {
          "model_module": "@jupyter-widgets/controls",
          "model_module_version": "1.5.0",
          "model_name": "VBoxModel",
          "state": {
            "_dom_classes": [],
            "_model_module": "@jupyter-widgets/controls",
            "_model_module_version": "1.5.0",
            "_model_name": "VBoxModel",
            "_view_count": null,
            "_view_module": "@jupyter-widgets/controls",
            "_view_module_version": "1.5.0",
            "_view_name": "VBoxView",
            "box_style": "",
            "children": [
              "IPY_MODEL_9b1bbef824334937b89911cb0f14414c",
              "IPY_MODEL_3128f2c32010427db498a5a1d409c1e7"
            ],
            "layout": "IPY_MODEL_9097033c1b244ba58cba28d6588f2202"
          }
        }
      }
    }
  },
  "nbformat": 4,
  "nbformat_minor": 0
}
