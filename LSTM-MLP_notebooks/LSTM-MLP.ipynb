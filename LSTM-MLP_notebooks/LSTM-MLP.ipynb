{
  "cells": [
    {
      "cell_type": "markdown",
      "metadata": {
        "id": "s2MNO3kPTnkd"
      },
      "source": [
        "# Setup"
      ]
    },
    {
      "cell_type": "code",
      "execution_count": 1,
      "metadata": {
        "id": "oOQkqhqFTnkg"
      },
      "outputs": [],
      "source": [
        "# Weights and Biases\n",
        "!pip install -q wandb\n",
        "# Tensorflow\n",
        "!pip install -q tensorflow"
      ]
    },
    {
      "cell_type": "code",
      "execution_count": 2,
      "metadata": {
        "id": "Bfwvf6vGTnki"
      },
      "outputs": [],
      "source": [
        "from keras.models import Sequential, Model\n",
        "from keras.layers import Input, LSTM, Concatenate, Dense, BatchNormalization, LeakyReLU\n",
        "from keras.activations import tanh\n",
        "from tensorflow.keras.optimizers import Adam\n",
        "from keras.callbacks import EarlyStopping\n",
        "from tensorflow.keras.optimizers.schedules import ExponentialDecay\n",
        "import pandas as pd\n",
        "import numpy as np\n",
        "import os\n",
        "from sklearn.preprocessing import MinMaxScaler\n",
        "import wandb\n",
        "from wandb.keras import WandbCallback\n",
        "from datetime import datetime\n",
        "from dateutil.relativedelta import relativedelta\n",
        "from tensorflow import square, reduce_mean\n",
        "from tensorflow.keras.losses import MSE\n",
        "from tensorflow.keras.callbacks import Callback, EarlyStopping, ModelCheckpoint\n",
        "from tensorflow.keras.models import load_model\n",
        "from tensorflow.math import multiply\n",
        "from tensorflow.keras.metrics import MeanSquaredError, RootMeanSquaredError\n",
        "from math import log"
      ]
    },
    {
      "cell_type": "code",
      "execution_count": 3,
      "metadata": {
        "colab": {
          "base_uri": "https://localhost:8080/"
        },
        "id": "1fduF6iTTnkj",
        "outputId": "039bccba-ed08-467d-be86-a8a3a1de6fd4"
      },
      "outputs": [
        {
          "output_type": "stream",
          "name": "stderr",
          "text": [
            "\u001b[34m\u001b[1mwandb\u001b[0m: Currently logged in as: \u001b[33mvinje\u001b[0m (\u001b[33mavogadro\u001b[0m). Use \u001b[1m`wandb login --relogin`\u001b[0m to force relogin\n",
            "\u001b[34m\u001b[1mwandb\u001b[0m: \u001b[33mWARNING\u001b[0m If you're specifying your api key in code, ensure this code is not shared publicly.\n",
            "\u001b[34m\u001b[1mwandb\u001b[0m: \u001b[33mWARNING\u001b[0m Consider setting the WANDB_API_KEY environment variable, or running `wandb login` from the command line.\n",
            "\u001b[34m\u001b[1mwandb\u001b[0m: Appending key for api.wandb.ai to your netrc file: /root/.netrc\n"
          ]
        },
        {
          "output_type": "execute_result",
          "data": {
            "text/plain": [
              "True"
            ]
          },
          "metadata": {},
          "execution_count": 3
        }
      ],
      "source": [
        "# If running in colab, insert your wandb key here\n",
        "\n",
        "#import config\n",
        "#Erlend\n",
        "#wandb.login(key=config.erlend_key)\n",
        "# Hjalmar\n",
        "wandb.login(key=\"b47bcf387a0571c5520c58a13be35cda8ada0a99\")\n"
      ]
    },
    {
      "cell_type": "markdown",
      "metadata": {
        "id": "zJGDiGMLTnkl"
      },
      "source": [
        "# Load, split and normalize data"
      ]
    },
    {
      "cell_type": "markdown",
      "metadata": {
        "id": "UI1j3mQWTnkl"
      },
      "source": [
        "### Load data"
      ]
    },
    {
      "cell_type": "code",
      "execution_count": 4,
      "metadata": {
        "colab": {
          "base_uri": "https://localhost:8080/",
          "height": 848
        },
        "id": "OKcl8WWJTnkl",
        "outputId": "b8386b50-c60e-4d15-bafe-74787805e2a7"
      },
      "outputs": [
        {
          "output_type": "stream",
          "name": "stdout",
          "text": [
            "Thu Apr 13 13:10:45 2023       \n",
            "+-----------------------------------------------------------------------------+\n",
            "| NVIDIA-SMI 525.85.12    Driver Version: 525.85.12    CUDA Version: 12.0     |\n",
            "|-------------------------------+----------------------+----------------------+\n",
            "| GPU  Name        Persistence-M| Bus-Id        Disp.A | Volatile Uncorr. ECC |\n",
            "| Fan  Temp  Perf  Pwr:Usage/Cap|         Memory-Usage | GPU-Util  Compute M. |\n",
            "|                               |                      |               MIG M. |\n",
            "|===============================+======================+======================|\n",
            "|   0  Tesla T4            Off  | 00000000:00:04.0 Off |                    0 |\n",
            "| N/A   73C    P8    13W /  70W |      0MiB / 15360MiB |      0%      Default |\n",
            "|                               |                      |                  N/A |\n",
            "+-------------------------------+----------------------+----------------------+\n",
            "                                                                               \n",
            "+-----------------------------------------------------------------------------+\n",
            "| Processes:                                                                  |\n",
            "|  GPU   GI   CI        PID   Type   Process name                  GPU Memory |\n",
            "|        ID   ID                                                   Usage      |\n",
            "|=============================================================================|\n",
            "|  No running processes found                                                 |\n",
            "+-----------------------------------------------------------------------------+\n",
            "Your runtime has 54.8 gigabytes of available RAM\n",
            "\n",
            "You are using a high-RAM runtime!\n"
          ]
        },
        {
          "output_type": "display_data",
          "data": {
            "text/plain": [
              "          Unnamed: 0  Quote_date    Price  Underlying_last  Strike   TTM     R\n",
              "0                  0  2013-01-02  361.355          1462.33  1100.0     2  0.07\n",
              "1                  1  2013-01-02  336.600          1462.33  1125.0     2  0.07\n",
              "2                  2  2013-01-02  311.350          1462.33  1150.0     2  0.07\n",
              "3                  3  2013-01-02  286.345          1462.33  1175.0     2  0.07\n",
              "4                  4  2013-01-02  281.345          1462.33  1180.0     2  0.07\n",
              "...              ...         ...      ...              ...     ...   ...   ...\n",
              "12459173    12459173  2022-12-30    6.950          3839.81  8400.0  1085  4.22\n",
              "12459174    12459174  2022-12-30    5.950          3839.81  8600.0  1085  4.22\n",
              "12459175    12459175  2022-12-30    5.450          3839.81  8800.0  1085  4.22\n",
              "12459176    12459176  2022-12-30    4.500          3839.81  9000.0  1085  4.22\n",
              "12459177    12459177  2022-12-30    4.025          3839.81  9200.0  1085  4.22\n",
              "\n",
              "[12459178 rows x 7 columns]"
            ],
            "text/html": [
              "\n",
              "  <div id=\"df-fba0f440-f77f-47b1-8e82-cca7df80dc28\">\n",
              "    <div class=\"colab-df-container\">\n",
              "      <div>\n",
              "<style scoped>\n",
              "    .dataframe tbody tr th:only-of-type {\n",
              "        vertical-align: middle;\n",
              "    }\n",
              "\n",
              "    .dataframe tbody tr th {\n",
              "        vertical-align: top;\n",
              "    }\n",
              "\n",
              "    .dataframe thead th {\n",
              "        text-align: right;\n",
              "    }\n",
              "</style>\n",
              "<table border=\"1\" class=\"dataframe\">\n",
              "  <thead>\n",
              "    <tr style=\"text-align: right;\">\n",
              "      <th></th>\n",
              "      <th>Unnamed: 0</th>\n",
              "      <th>Quote_date</th>\n",
              "      <th>Price</th>\n",
              "      <th>Underlying_last</th>\n",
              "      <th>Strike</th>\n",
              "      <th>TTM</th>\n",
              "      <th>R</th>\n",
              "    </tr>\n",
              "  </thead>\n",
              "  <tbody>\n",
              "    <tr>\n",
              "      <th>0</th>\n",
              "      <td>0</td>\n",
              "      <td>2013-01-02</td>\n",
              "      <td>361.355</td>\n",
              "      <td>1462.33</td>\n",
              "      <td>1100.0</td>\n",
              "      <td>2</td>\n",
              "      <td>0.07</td>\n",
              "    </tr>\n",
              "    <tr>\n",
              "      <th>1</th>\n",
              "      <td>1</td>\n",
              "      <td>2013-01-02</td>\n",
              "      <td>336.600</td>\n",
              "      <td>1462.33</td>\n",
              "      <td>1125.0</td>\n",
              "      <td>2</td>\n",
              "      <td>0.07</td>\n",
              "    </tr>\n",
              "    <tr>\n",
              "      <th>2</th>\n",
              "      <td>2</td>\n",
              "      <td>2013-01-02</td>\n",
              "      <td>311.350</td>\n",
              "      <td>1462.33</td>\n",
              "      <td>1150.0</td>\n",
              "      <td>2</td>\n",
              "      <td>0.07</td>\n",
              "    </tr>\n",
              "    <tr>\n",
              "      <th>3</th>\n",
              "      <td>3</td>\n",
              "      <td>2013-01-02</td>\n",
              "      <td>286.345</td>\n",
              "      <td>1462.33</td>\n",
              "      <td>1175.0</td>\n",
              "      <td>2</td>\n",
              "      <td>0.07</td>\n",
              "    </tr>\n",
              "    <tr>\n",
              "      <th>4</th>\n",
              "      <td>4</td>\n",
              "      <td>2013-01-02</td>\n",
              "      <td>281.345</td>\n",
              "      <td>1462.33</td>\n",
              "      <td>1180.0</td>\n",
              "      <td>2</td>\n",
              "      <td>0.07</td>\n",
              "    </tr>\n",
              "    <tr>\n",
              "      <th>...</th>\n",
              "      <td>...</td>\n",
              "      <td>...</td>\n",
              "      <td>...</td>\n",
              "      <td>...</td>\n",
              "      <td>...</td>\n",
              "      <td>...</td>\n",
              "      <td>...</td>\n",
              "    </tr>\n",
              "    <tr>\n",
              "      <th>12459173</th>\n",
              "      <td>12459173</td>\n",
              "      <td>2022-12-30</td>\n",
              "      <td>6.950</td>\n",
              "      <td>3839.81</td>\n",
              "      <td>8400.0</td>\n",
              "      <td>1085</td>\n",
              "      <td>4.22</td>\n",
              "    </tr>\n",
              "    <tr>\n",
              "      <th>12459174</th>\n",
              "      <td>12459174</td>\n",
              "      <td>2022-12-30</td>\n",
              "      <td>5.950</td>\n",
              "      <td>3839.81</td>\n",
              "      <td>8600.0</td>\n",
              "      <td>1085</td>\n",
              "      <td>4.22</td>\n",
              "    </tr>\n",
              "    <tr>\n",
              "      <th>12459175</th>\n",
              "      <td>12459175</td>\n",
              "      <td>2022-12-30</td>\n",
              "      <td>5.450</td>\n",
              "      <td>3839.81</td>\n",
              "      <td>8800.0</td>\n",
              "      <td>1085</td>\n",
              "      <td>4.22</td>\n",
              "    </tr>\n",
              "    <tr>\n",
              "      <th>12459176</th>\n",
              "      <td>12459176</td>\n",
              "      <td>2022-12-30</td>\n",
              "      <td>4.500</td>\n",
              "      <td>3839.81</td>\n",
              "      <td>9000.0</td>\n",
              "      <td>1085</td>\n",
              "      <td>4.22</td>\n",
              "    </tr>\n",
              "    <tr>\n",
              "      <th>12459177</th>\n",
              "      <td>12459177</td>\n",
              "      <td>2022-12-30</td>\n",
              "      <td>4.025</td>\n",
              "      <td>3839.81</td>\n",
              "      <td>9200.0</td>\n",
              "      <td>1085</td>\n",
              "      <td>4.22</td>\n",
              "    </tr>\n",
              "  </tbody>\n",
              "</table>\n",
              "<p>12459178 rows × 7 columns</p>\n",
              "</div>\n",
              "      <button class=\"colab-df-convert\" onclick=\"convertToInteractive('df-fba0f440-f77f-47b1-8e82-cca7df80dc28')\"\n",
              "              title=\"Convert this dataframe to an interactive table.\"\n",
              "              style=\"display:none;\">\n",
              "        \n",
              "  <svg xmlns=\"http://www.w3.org/2000/svg\" height=\"24px\"viewBox=\"0 0 24 24\"\n",
              "       width=\"24px\">\n",
              "    <path d=\"M0 0h24v24H0V0z\" fill=\"none\"/>\n",
              "    <path d=\"M18.56 5.44l.94 2.06.94-2.06 2.06-.94-2.06-.94-.94-2.06-.94 2.06-2.06.94zm-11 1L8.5 8.5l.94-2.06 2.06-.94-2.06-.94L8.5 2.5l-.94 2.06-2.06.94zm10 10l.94 2.06.94-2.06 2.06-.94-2.06-.94-.94-2.06-.94 2.06-2.06.94z\"/><path d=\"M17.41 7.96l-1.37-1.37c-.4-.4-.92-.59-1.43-.59-.52 0-1.04.2-1.43.59L10.3 9.45l-7.72 7.72c-.78.78-.78 2.05 0 2.83L4 21.41c.39.39.9.59 1.41.59.51 0 1.02-.2 1.41-.59l7.78-7.78 2.81-2.81c.8-.78.8-2.07 0-2.86zM5.41 20L4 18.59l7.72-7.72 1.47 1.35L5.41 20z\"/>\n",
              "  </svg>\n",
              "      </button>\n",
              "      \n",
              "  <style>\n",
              "    .colab-df-container {\n",
              "      display:flex;\n",
              "      flex-wrap:wrap;\n",
              "      gap: 12px;\n",
              "    }\n",
              "\n",
              "    .colab-df-convert {\n",
              "      background-color: #E8F0FE;\n",
              "      border: none;\n",
              "      border-radius: 50%;\n",
              "      cursor: pointer;\n",
              "      display: none;\n",
              "      fill: #1967D2;\n",
              "      height: 32px;\n",
              "      padding: 0 0 0 0;\n",
              "      width: 32px;\n",
              "    }\n",
              "\n",
              "    .colab-df-convert:hover {\n",
              "      background-color: #E2EBFA;\n",
              "      box-shadow: 0px 1px 2px rgba(60, 64, 67, 0.3), 0px 1px 3px 1px rgba(60, 64, 67, 0.15);\n",
              "      fill: #174EA6;\n",
              "    }\n",
              "\n",
              "    [theme=dark] .colab-df-convert {\n",
              "      background-color: #3B4455;\n",
              "      fill: #D2E3FC;\n",
              "    }\n",
              "\n",
              "    [theme=dark] .colab-df-convert:hover {\n",
              "      background-color: #434B5C;\n",
              "      box-shadow: 0px 1px 3px 1px rgba(0, 0, 0, 0.15);\n",
              "      filter: drop-shadow(0px 1px 2px rgba(0, 0, 0, 0.3));\n",
              "      fill: #FFFFFF;\n",
              "    }\n",
              "  </style>\n",
              "\n",
              "      <script>\n",
              "        const buttonEl =\n",
              "          document.querySelector('#df-fba0f440-f77f-47b1-8e82-cca7df80dc28 button.colab-df-convert');\n",
              "        buttonEl.style.display =\n",
              "          google.colab.kernel.accessAllowed ? 'block' : 'none';\n",
              "\n",
              "        async function convertToInteractive(key) {\n",
              "          const element = document.querySelector('#df-fba0f440-f77f-47b1-8e82-cca7df80dc28');\n",
              "          const dataTable =\n",
              "            await google.colab.kernel.invokeFunction('convertToInteractive',\n",
              "                                                     [key], {});\n",
              "          if (!dataTable) return;\n",
              "\n",
              "          const docLinkHtml = 'Like what you see? Visit the ' +\n",
              "            '<a target=\"_blank\" href=https://colab.research.google.com/notebooks/data_table.ipynb>data table notebook</a>'\n",
              "            + ' to learn more about interactive tables.';\n",
              "          element.innerHTML = '';\n",
              "          dataTable['output_type'] = 'display_data';\n",
              "          await google.colab.output.renderOutput(dataTable, element);\n",
              "          const docLink = document.createElement('div');\n",
              "          docLink.innerHTML = docLinkHtml;\n",
              "          element.appendChild(docLink);\n",
              "        }\n",
              "      </script>\n",
              "    </div>\n",
              "  </div>\n",
              "  "
            ]
          },
          "metadata": {}
        }
      ],
      "source": [
        "google_colab = True\n",
        "\n",
        "if google_colab:\n",
        "    import tensorflow as tf\n",
        "    # Pring info\n",
        "    gpu_info = !nvidia-smi\n",
        "    gpu_info = '\\n'.join(gpu_info)\n",
        "    if gpu_info.find('failed') >= 0:\n",
        "        print('Not connected to a GPU')\n",
        "    else:\n",
        "        print(gpu_info)\n",
        "    \n",
        "    from psutil import virtual_memory\n",
        "    ram_gb = virtual_memory().total / 1e9\n",
        "    print('Your runtime has {:.1f} gigabytes of available RAM\\n'.format(ram_gb))\n",
        "\n",
        "    if ram_gb < 20:\n",
        "        print('Not using a high-RAM runtime')\n",
        "    else:\n",
        "        print('You are using a high-RAM runtime!')\n",
        "\n",
        "    # Code to read csv file into Colaboratory:\n",
        "    !pip install -U -q PyDrive\n",
        "    from pydrive.auth import GoogleAuth\n",
        "    from pydrive.drive import GoogleDrive\n",
        "    from google.colab import auth\n",
        "    from oauth2client.client import GoogleCredentials\n",
        "    # Authenticate and create the PyDrive client.\n",
        "    auth.authenticate_user()\n",
        "    gauth = GoogleAuth()\n",
        "    gauth.credentials = GoogleCredentials.get_application_default()\n",
        "    drive = GoogleDrive(gauth)\n",
        "    id = \"1Ic73MqpS5ACG1p2oJ_R5cTuEhlQRM_Q6\"\n",
        "    downloaded = drive.CreateFile({'id':id}) \n",
        "    downloaded.GetContentFile('2013-2022_wo_lags.csv')  \n",
        "    df_read = pd.read_csv('2013-2022_wo_lags.csv')\n",
        "else:\n",
        "    file = \"../data/processed_data/2020_2022_moneyness_filtere.csv\"\n",
        "    df_read = pd.read_csv(file)\n",
        "\n",
        "display(df_read)"
      ]
    },
    {
      "cell_type": "code",
      "execution_count": 5,
      "metadata": {
        "id": "CpcmhVq6Tnkm"
      },
      "outputs": [],
      "source": [
        "df = df_read\n",
        "del df_read\n",
        "\n",
        "# Group the data by Quote Date and calculate the mean for Underlying Price\n",
        "df_agg = df.groupby('Quote_date').mean().reset_index()\n",
        "\n",
        "# Values to returns\n",
        "df_agg[\"Underlying_return\"] = df_agg[\"Underlying_last\"].pct_change()\n",
        "\n",
        "lags = 10\n",
        "\n",
        "# Add the Underlying Price Lag column\n",
        "for i in range(1, lags + 1):\n",
        "    df_agg['Underlying_' + str(i)] = df_agg['Underlying_return'].shift(i)\n",
        "\n",
        "df = pd.merge(df, df_agg[['Quote_date', \"Underlying_return\"] + ['Underlying_' + str(i) for i in range(1, lags + 1)]], on='Quote_date', how='left')\n",
        "\n",
        "# Filter df between 2014-01-01 and 2022-12-31\n",
        "df = df[(df[\"Quote_date\"] >= \"2014-01-01\") & (df[\"Quote_date\"] <= \"2022-12-31\")]"
      ]
    },
    {
      "cell_type": "code",
      "execution_count": 6,
      "metadata": {
        "colab": {
          "base_uri": "https://localhost:8080/",
          "height": 505
        },
        "id": "2eAUxhRsTnkn",
        "outputId": "f4ec34f5-202a-4969-8dfe-7546007e81f4"
      },
      "outputs": [
        {
          "output_type": "display_data",
          "data": {
            "text/plain": [
              "          Unnamed: 0  Quote_date    Price  Underlying_last  Strike   TTM  \\\n",
              "405271        405271  2014-01-03  555.455          1831.47  1275.0     7   \n",
              "405272        405272  2014-01-03  530.500          1831.47  1300.0     7   \n",
              "405273        405273  2014-01-03  505.495          1831.47  1325.0     7   \n",
              "405274        405274  2014-01-03  480.355          1831.47  1350.0     7   \n",
              "405275        405275  2014-01-03  455.350          1831.47  1375.0     7   \n",
              "...              ...         ...      ...              ...     ...   ...   \n",
              "12459173    12459173  2022-12-30    6.950          3839.81  8400.0  1085   \n",
              "12459174    12459174  2022-12-30    5.950          3839.81  8600.0  1085   \n",
              "12459175    12459175  2022-12-30    5.450          3839.81  8800.0  1085   \n",
              "12459176    12459176  2022-12-30    4.500          3839.81  9000.0  1085   \n",
              "12459177    12459177  2022-12-30    4.025          3839.81  9200.0  1085   \n",
              "\n",
              "             R  Underlying_return  Underlying_1  Underlying_2  Underlying_3  \\\n",
              "405271    0.02          -0.008816      0.003677     -0.000147     -0.000331   \n",
              "405272    0.02          -0.008816      0.003677     -0.000147     -0.000331   \n",
              "405273    0.02          -0.008816      0.003677     -0.000147     -0.000331   \n",
              "405274    0.02          -0.008816      0.003677     -0.000147     -0.000331   \n",
              "405275    0.02          -0.008816      0.003677     -0.000147     -0.000331   \n",
              "...        ...                ...           ...           ...           ...   \n",
              "12459173  4.22          -0.002300      0.017343     -0.012034     -0.004081   \n",
              "12459174  4.22          -0.002300      0.017343     -0.012034     -0.004081   \n",
              "12459175  4.22          -0.002300      0.017343     -0.012034     -0.004081   \n",
              "12459176  4.22          -0.002300      0.017343     -0.012034     -0.004081   \n",
              "12459177  4.22          -0.002300      0.017343     -0.012034     -0.004081   \n",
              "\n",
              "          Underlying_4  Underlying_5  Underlying_6  Underlying_7  \\\n",
              "405271        0.004664      0.002828      0.004721      0.005565   \n",
              "405272        0.004664      0.002828      0.004721      0.005565   \n",
              "405273        0.004664      0.002828      0.004721      0.005565   \n",
              "405274        0.004664      0.002828      0.004721      0.005565   \n",
              "405275        0.004664      0.002828      0.004721      0.005565   \n",
              "...                ...           ...           ...           ...   \n",
              "12459173      0.000096      0.005621     -0.014208      0.014673   \n",
              "12459174      0.000096      0.005621     -0.014208      0.014673   \n",
              "12459175      0.000096      0.005621     -0.014208      0.014673   \n",
              "12459176      0.000096      0.005621     -0.014208      0.014673   \n",
              "12459177      0.000096      0.005621     -0.014208      0.014673   \n",
              "\n",
              "          Underlying_8  Underlying_9  Underlying_10  \n",
              "405271       -0.000508      0.016502      -0.003006  \n",
              "405272       -0.000508      0.016502      -0.003006  \n",
              "405273       -0.000508      0.016502      -0.003006  \n",
              "405274       -0.000508      0.016502      -0.003006  \n",
              "405275       -0.000508      0.016502      -0.003006  \n",
              "...                ...           ...            ...  \n",
              "12459173      0.001048     -0.020257      -0.024582  \n",
              "12459174      0.001048     -0.020257      -0.024582  \n",
              "12459175      0.001048     -0.020257      -0.024582  \n",
              "12459176      0.001048     -0.020257      -0.024582  \n",
              "12459177      0.001048     -0.020257      -0.024582  \n",
              "\n",
              "[12053907 rows x 18 columns]"
            ],
            "text/html": [
              "\n",
              "  <div id=\"df-25766391-a858-4b42-a811-5254b4955338\">\n",
              "    <div class=\"colab-df-container\">\n",
              "      <div>\n",
              "<style scoped>\n",
              "    .dataframe tbody tr th:only-of-type {\n",
              "        vertical-align: middle;\n",
              "    }\n",
              "\n",
              "    .dataframe tbody tr th {\n",
              "        vertical-align: top;\n",
              "    }\n",
              "\n",
              "    .dataframe thead th {\n",
              "        text-align: right;\n",
              "    }\n",
              "</style>\n",
              "<table border=\"1\" class=\"dataframe\">\n",
              "  <thead>\n",
              "    <tr style=\"text-align: right;\">\n",
              "      <th></th>\n",
              "      <th>Unnamed: 0</th>\n",
              "      <th>Quote_date</th>\n",
              "      <th>Price</th>\n",
              "      <th>Underlying_last</th>\n",
              "      <th>Strike</th>\n",
              "      <th>TTM</th>\n",
              "      <th>R</th>\n",
              "      <th>Underlying_return</th>\n",
              "      <th>Underlying_1</th>\n",
              "      <th>Underlying_2</th>\n",
              "      <th>Underlying_3</th>\n",
              "      <th>Underlying_4</th>\n",
              "      <th>Underlying_5</th>\n",
              "      <th>Underlying_6</th>\n",
              "      <th>Underlying_7</th>\n",
              "      <th>Underlying_8</th>\n",
              "      <th>Underlying_9</th>\n",
              "      <th>Underlying_10</th>\n",
              "    </tr>\n",
              "  </thead>\n",
              "  <tbody>\n",
              "    <tr>\n",
              "      <th>405271</th>\n",
              "      <td>405271</td>\n",
              "      <td>2014-01-03</td>\n",
              "      <td>555.455</td>\n",
              "      <td>1831.47</td>\n",
              "      <td>1275.0</td>\n",
              "      <td>7</td>\n",
              "      <td>0.02</td>\n",
              "      <td>-0.008816</td>\n",
              "      <td>0.003677</td>\n",
              "      <td>-0.000147</td>\n",
              "      <td>-0.000331</td>\n",
              "      <td>0.004664</td>\n",
              "      <td>0.002828</td>\n",
              "      <td>0.004721</td>\n",
              "      <td>0.005565</td>\n",
              "      <td>-0.000508</td>\n",
              "      <td>0.016502</td>\n",
              "      <td>-0.003006</td>\n",
              "    </tr>\n",
              "    <tr>\n",
              "      <th>405272</th>\n",
              "      <td>405272</td>\n",
              "      <td>2014-01-03</td>\n",
              "      <td>530.500</td>\n",
              "      <td>1831.47</td>\n",
              "      <td>1300.0</td>\n",
              "      <td>7</td>\n",
              "      <td>0.02</td>\n",
              "      <td>-0.008816</td>\n",
              "      <td>0.003677</td>\n",
              "      <td>-0.000147</td>\n",
              "      <td>-0.000331</td>\n",
              "      <td>0.004664</td>\n",
              "      <td>0.002828</td>\n",
              "      <td>0.004721</td>\n",
              "      <td>0.005565</td>\n",
              "      <td>-0.000508</td>\n",
              "      <td>0.016502</td>\n",
              "      <td>-0.003006</td>\n",
              "    </tr>\n",
              "    <tr>\n",
              "      <th>405273</th>\n",
              "      <td>405273</td>\n",
              "      <td>2014-01-03</td>\n",
              "      <td>505.495</td>\n",
              "      <td>1831.47</td>\n",
              "      <td>1325.0</td>\n",
              "      <td>7</td>\n",
              "      <td>0.02</td>\n",
              "      <td>-0.008816</td>\n",
              "      <td>0.003677</td>\n",
              "      <td>-0.000147</td>\n",
              "      <td>-0.000331</td>\n",
              "      <td>0.004664</td>\n",
              "      <td>0.002828</td>\n",
              "      <td>0.004721</td>\n",
              "      <td>0.005565</td>\n",
              "      <td>-0.000508</td>\n",
              "      <td>0.016502</td>\n",
              "      <td>-0.003006</td>\n",
              "    </tr>\n",
              "    <tr>\n",
              "      <th>405274</th>\n",
              "      <td>405274</td>\n",
              "      <td>2014-01-03</td>\n",
              "      <td>480.355</td>\n",
              "      <td>1831.47</td>\n",
              "      <td>1350.0</td>\n",
              "      <td>7</td>\n",
              "      <td>0.02</td>\n",
              "      <td>-0.008816</td>\n",
              "      <td>0.003677</td>\n",
              "      <td>-0.000147</td>\n",
              "      <td>-0.000331</td>\n",
              "      <td>0.004664</td>\n",
              "      <td>0.002828</td>\n",
              "      <td>0.004721</td>\n",
              "      <td>0.005565</td>\n",
              "      <td>-0.000508</td>\n",
              "      <td>0.016502</td>\n",
              "      <td>-0.003006</td>\n",
              "    </tr>\n",
              "    <tr>\n",
              "      <th>405275</th>\n",
              "      <td>405275</td>\n",
              "      <td>2014-01-03</td>\n",
              "      <td>455.350</td>\n",
              "      <td>1831.47</td>\n",
              "      <td>1375.0</td>\n",
              "      <td>7</td>\n",
              "      <td>0.02</td>\n",
              "      <td>-0.008816</td>\n",
              "      <td>0.003677</td>\n",
              "      <td>-0.000147</td>\n",
              "      <td>-0.000331</td>\n",
              "      <td>0.004664</td>\n",
              "      <td>0.002828</td>\n",
              "      <td>0.004721</td>\n",
              "      <td>0.005565</td>\n",
              "      <td>-0.000508</td>\n",
              "      <td>0.016502</td>\n",
              "      <td>-0.003006</td>\n",
              "    </tr>\n",
              "    <tr>\n",
              "      <th>...</th>\n",
              "      <td>...</td>\n",
              "      <td>...</td>\n",
              "      <td>...</td>\n",
              "      <td>...</td>\n",
              "      <td>...</td>\n",
              "      <td>...</td>\n",
              "      <td>...</td>\n",
              "      <td>...</td>\n",
              "      <td>...</td>\n",
              "      <td>...</td>\n",
              "      <td>...</td>\n",
              "      <td>...</td>\n",
              "      <td>...</td>\n",
              "      <td>...</td>\n",
              "      <td>...</td>\n",
              "      <td>...</td>\n",
              "      <td>...</td>\n",
              "      <td>...</td>\n",
              "    </tr>\n",
              "    <tr>\n",
              "      <th>12459173</th>\n",
              "      <td>12459173</td>\n",
              "      <td>2022-12-30</td>\n",
              "      <td>6.950</td>\n",
              "      <td>3839.81</td>\n",
              "      <td>8400.0</td>\n",
              "      <td>1085</td>\n",
              "      <td>4.22</td>\n",
              "      <td>-0.002300</td>\n",
              "      <td>0.017343</td>\n",
              "      <td>-0.012034</td>\n",
              "      <td>-0.004081</td>\n",
              "      <td>0.000096</td>\n",
              "      <td>0.005621</td>\n",
              "      <td>-0.014208</td>\n",
              "      <td>0.014673</td>\n",
              "      <td>0.001048</td>\n",
              "      <td>-0.020257</td>\n",
              "      <td>-0.024582</td>\n",
              "    </tr>\n",
              "    <tr>\n",
              "      <th>12459174</th>\n",
              "      <td>12459174</td>\n",
              "      <td>2022-12-30</td>\n",
              "      <td>5.950</td>\n",
              "      <td>3839.81</td>\n",
              "      <td>8600.0</td>\n",
              "      <td>1085</td>\n",
              "      <td>4.22</td>\n",
              "      <td>-0.002300</td>\n",
              "      <td>0.017343</td>\n",
              "      <td>-0.012034</td>\n",
              "      <td>-0.004081</td>\n",
              "      <td>0.000096</td>\n",
              "      <td>0.005621</td>\n",
              "      <td>-0.014208</td>\n",
              "      <td>0.014673</td>\n",
              "      <td>0.001048</td>\n",
              "      <td>-0.020257</td>\n",
              "      <td>-0.024582</td>\n",
              "    </tr>\n",
              "    <tr>\n",
              "      <th>12459175</th>\n",
              "      <td>12459175</td>\n",
              "      <td>2022-12-30</td>\n",
              "      <td>5.450</td>\n",
              "      <td>3839.81</td>\n",
              "      <td>8800.0</td>\n",
              "      <td>1085</td>\n",
              "      <td>4.22</td>\n",
              "      <td>-0.002300</td>\n",
              "      <td>0.017343</td>\n",
              "      <td>-0.012034</td>\n",
              "      <td>-0.004081</td>\n",
              "      <td>0.000096</td>\n",
              "      <td>0.005621</td>\n",
              "      <td>-0.014208</td>\n",
              "      <td>0.014673</td>\n",
              "      <td>0.001048</td>\n",
              "      <td>-0.020257</td>\n",
              "      <td>-0.024582</td>\n",
              "    </tr>\n",
              "    <tr>\n",
              "      <th>12459176</th>\n",
              "      <td>12459176</td>\n",
              "      <td>2022-12-30</td>\n",
              "      <td>4.500</td>\n",
              "      <td>3839.81</td>\n",
              "      <td>9000.0</td>\n",
              "      <td>1085</td>\n",
              "      <td>4.22</td>\n",
              "      <td>-0.002300</td>\n",
              "      <td>0.017343</td>\n",
              "      <td>-0.012034</td>\n",
              "      <td>-0.004081</td>\n",
              "      <td>0.000096</td>\n",
              "      <td>0.005621</td>\n",
              "      <td>-0.014208</td>\n",
              "      <td>0.014673</td>\n",
              "      <td>0.001048</td>\n",
              "      <td>-0.020257</td>\n",
              "      <td>-0.024582</td>\n",
              "    </tr>\n",
              "    <tr>\n",
              "      <th>12459177</th>\n",
              "      <td>12459177</td>\n",
              "      <td>2022-12-30</td>\n",
              "      <td>4.025</td>\n",
              "      <td>3839.81</td>\n",
              "      <td>9200.0</td>\n",
              "      <td>1085</td>\n",
              "      <td>4.22</td>\n",
              "      <td>-0.002300</td>\n",
              "      <td>0.017343</td>\n",
              "      <td>-0.012034</td>\n",
              "      <td>-0.004081</td>\n",
              "      <td>0.000096</td>\n",
              "      <td>0.005621</td>\n",
              "      <td>-0.014208</td>\n",
              "      <td>0.014673</td>\n",
              "      <td>0.001048</td>\n",
              "      <td>-0.020257</td>\n",
              "      <td>-0.024582</td>\n",
              "    </tr>\n",
              "  </tbody>\n",
              "</table>\n",
              "<p>12053907 rows × 18 columns</p>\n",
              "</div>\n",
              "      <button class=\"colab-df-convert\" onclick=\"convertToInteractive('df-25766391-a858-4b42-a811-5254b4955338')\"\n",
              "              title=\"Convert this dataframe to an interactive table.\"\n",
              "              style=\"display:none;\">\n",
              "        \n",
              "  <svg xmlns=\"http://www.w3.org/2000/svg\" height=\"24px\"viewBox=\"0 0 24 24\"\n",
              "       width=\"24px\">\n",
              "    <path d=\"M0 0h24v24H0V0z\" fill=\"none\"/>\n",
              "    <path d=\"M18.56 5.44l.94 2.06.94-2.06 2.06-.94-2.06-.94-.94-2.06-.94 2.06-2.06.94zm-11 1L8.5 8.5l.94-2.06 2.06-.94-2.06-.94L8.5 2.5l-.94 2.06-2.06.94zm10 10l.94 2.06.94-2.06 2.06-.94-2.06-.94-.94-2.06-.94 2.06-2.06.94z\"/><path d=\"M17.41 7.96l-1.37-1.37c-.4-.4-.92-.59-1.43-.59-.52 0-1.04.2-1.43.59L10.3 9.45l-7.72 7.72c-.78.78-.78 2.05 0 2.83L4 21.41c.39.39.9.59 1.41.59.51 0 1.02-.2 1.41-.59l7.78-7.78 2.81-2.81c.8-.78.8-2.07 0-2.86zM5.41 20L4 18.59l7.72-7.72 1.47 1.35L5.41 20z\"/>\n",
              "  </svg>\n",
              "      </button>\n",
              "      \n",
              "  <style>\n",
              "    .colab-df-container {\n",
              "      display:flex;\n",
              "      flex-wrap:wrap;\n",
              "      gap: 12px;\n",
              "    }\n",
              "\n",
              "    .colab-df-convert {\n",
              "      background-color: #E8F0FE;\n",
              "      border: none;\n",
              "      border-radius: 50%;\n",
              "      cursor: pointer;\n",
              "      display: none;\n",
              "      fill: #1967D2;\n",
              "      height: 32px;\n",
              "      padding: 0 0 0 0;\n",
              "      width: 32px;\n",
              "    }\n",
              "\n",
              "    .colab-df-convert:hover {\n",
              "      background-color: #E2EBFA;\n",
              "      box-shadow: 0px 1px 2px rgba(60, 64, 67, 0.3), 0px 1px 3px 1px rgba(60, 64, 67, 0.15);\n",
              "      fill: #174EA6;\n",
              "    }\n",
              "\n",
              "    [theme=dark] .colab-df-convert {\n",
              "      background-color: #3B4455;\n",
              "      fill: #D2E3FC;\n",
              "    }\n",
              "\n",
              "    [theme=dark] .colab-df-convert:hover {\n",
              "      background-color: #434B5C;\n",
              "      box-shadow: 0px 1px 3px 1px rgba(0, 0, 0, 0.15);\n",
              "      filter: drop-shadow(0px 1px 2px rgba(0, 0, 0, 0.3));\n",
              "      fill: #FFFFFF;\n",
              "    }\n",
              "  </style>\n",
              "\n",
              "      <script>\n",
              "        const buttonEl =\n",
              "          document.querySelector('#df-25766391-a858-4b42-a811-5254b4955338 button.colab-df-convert');\n",
              "        buttonEl.style.display =\n",
              "          google.colab.kernel.accessAllowed ? 'block' : 'none';\n",
              "\n",
              "        async function convertToInteractive(key) {\n",
              "          const element = document.querySelector('#df-25766391-a858-4b42-a811-5254b4955338');\n",
              "          const dataTable =\n",
              "            await google.colab.kernel.invokeFunction('convertToInteractive',\n",
              "                                                     [key], {});\n",
              "          if (!dataTable) return;\n",
              "\n",
              "          const docLinkHtml = 'Like what you see? Visit the ' +\n",
              "            '<a target=\"_blank\" href=https://colab.research.google.com/notebooks/data_table.ipynb>data table notebook</a>'\n",
              "            + ' to learn more about interactive tables.';\n",
              "          element.innerHTML = '';\n",
              "          dataTable['output_type'] = 'display_data';\n",
              "          await google.colab.output.renderOutput(dataTable, element);\n",
              "          const docLink = document.createElement('div');\n",
              "          docLink.innerHTML = docLinkHtml;\n",
              "          element.appendChild(docLink);\n",
              "        }\n",
              "      </script>\n",
              "    </div>\n",
              "  </div>\n",
              "  "
            ]
          },
          "metadata": {}
        }
      ],
      "source": [
        "display(df)"
      ]
    },
    {
      "cell_type": "markdown",
      "metadata": {
        "id": "j1fuXIvmTnkn"
      },
      "source": [
        "### Format input data"
      ]
    },
    {
      "cell_type": "code",
      "execution_count": 7,
      "metadata": {
        "colab": {
          "base_uri": "https://localhost:8080/"
        },
        "id": "YKAFyCmTTnko",
        "outputId": "0e572b3f-c4fb-4111-97ec-ed02eda6e87d"
      },
      "outputs": [
        {
          "output_type": "stream",
          "name": "stdout",
          "text": [
            "Train shape: (496184, 10, 1), (496184, 4)\n",
            "Val shape: (61101, 10, 1), (61101, 4)\n",
            "Test shape: (55924, 10, 1), (55924, 4)\n"
          ]
        }
      ],
      "source": [
        "# Format settings\n",
        "max_timesteps = lags\n",
        "moneyness = False\n",
        "bs_vars = ['Moneyness', 'TTM', 'R'] if moneyness else ['Underlying_last', 'Strike', 'TTM', 'R']\n",
        "underlying_lags = ['Underlying_last'] + [f'Underlying_{i}' for i in range (1, max_timesteps)]\n",
        "\n",
        "def create_rw_dataset(window_number = 0, df = df):\n",
        "    '''Creates dataset for a single rolling window period offsett by the window number'''\n",
        "\n",
        "    # Create train, validation and test set split points\n",
        "    train_start = datetime(2014,1,1) + relativedelta(months=window_number)\n",
        "    val_start = train_start + relativedelta(months=11)\n",
        "    test_start = val_start + relativedelta(months=1)\n",
        "    test_end = test_start + relativedelta(months=1)\n",
        "    train_start = str(train_start.date())\n",
        "    val_start = str(val_start.date())\n",
        "    test_start = str(test_start.date())\n",
        "    test_end = str(test_end.date())\n",
        "\n",
        "    # Add moneyness column\n",
        "    if not moneyness:\n",
        "        df['Moneyness'] = df['Underlying_last'] / df['Strike']\n",
        "\n",
        "\n",
        "    # Split train and validation data\n",
        "    df_train = df[(df['Quote_date'] >= train_start) & (df['Quote_date'] < val_start)]\n",
        "    df_val = df[(df['Quote_date'] >= val_start) & (df['Quote_date'] < test_start)]\n",
        "    df_test = df[(df['Quote_date'] >= test_start) & (df['Quote_date'] < test_end)]\n",
        "\n",
        "    del df\n",
        "\n",
        "    # Filter out top and bottom 5% of moneyness in df_train, and using the same filter in df_val and df_test\n",
        "    top = df_train['Moneyness'].quantile(0.95)\n",
        "    bottom = df_train['Moneyness'].quantile(0.05)\n",
        "    df_train = df_train[(df_train['Moneyness'] <= top) & (df_train['Moneyness'] >= bottom)]\n",
        "    df_val = df_val[(df_val['Moneyness'] <= top) & (df_val['Moneyness'] >= bottom)]\n",
        "    df_test = df_test[(df_test['Moneyness'] <= top) & (df_test['Moneyness'] >= bottom)]\n",
        "\n",
        "\n",
        "    # Extract target values\n",
        "    train_y = (df_train['Price'] / df_train['Strike']).to_numpy() if moneyness else df_train['Price'].to_numpy()\n",
        "    val_y = (df_val['Price'] / df_val['Strike']).to_numpy() if moneyness else df_val['Price'].to_numpy()\n",
        "    test_y = (df_test['Price'] / df_test['Strike']).to_numpy() if moneyness else df_test['Price'].to_numpy()\n",
        "\n",
        "    # If usining moneyness, extract strike\n",
        "    if moneyness:\n",
        "        train_strike = df_train['Strike'].to_numpy()\n",
        "        val_strike = df_val['Strike'].to_numpy()\n",
        "        test_strike = df_test['Strike'].to_numpy()\n",
        "\n",
        "    # Convert dataframes to numpy arrays\n",
        "    train_x = [df_train[underlying_lags].to_numpy(), df_train[bs_vars].to_numpy()]\n",
        "    val_x = [df_val[underlying_lags].to_numpy(), df_val[bs_vars].to_numpy()]\n",
        "    test_x = [df_test[underlying_lags].to_numpy(), df_test[bs_vars].to_numpy()]\n",
        "\n",
        "    del df_train\n",
        "    del df_val\n",
        "\n",
        "    # Scale features based on training set\n",
        "    underlying_scaler = MinMaxScaler()\n",
        "    train_x[0] = underlying_scaler.fit_transform(train_x[0])\n",
        "    val_x[0] = underlying_scaler.transform(val_x[0])\n",
        "    test_x[0] = underlying_scaler.transform(test_x[0])\n",
        "\n",
        "    bs_scaler = MinMaxScaler()\n",
        "    train_x[1] = bs_scaler.fit_transform(train_x[1])\n",
        "    val_x[1] = bs_scaler.transform(val_x[1])\n",
        "    test_x[1] = bs_scaler.transform(test_x[1])\n",
        "\n",
        "\n",
        "    # Shuffle training set\n",
        "    np.random.seed(0)\n",
        "    shuffle = np.random.permutation(len(train_x[0]))\n",
        "    train_x = [train_x[0][shuffle], train_x[1][shuffle]]\n",
        "    train_y = train_y[shuffle]\n",
        "    if moneyness:\n",
        "        train_strike = train_strike[shuffle]\n",
        "\n",
        "    # Reshape data to fit LSTM\n",
        "    train_x = [train_x[0].reshape(len(train_x[0]), max_timesteps, 1), train_x[1]]\n",
        "    val_x = [val_x[0].reshape(len(val_x[0]), max_timesteps, 1), val_x[1]]\n",
        "    test_x = [test_x[0].reshape(len(test_x[0]), max_timesteps, 1), test_x[1]]\n",
        "\n",
        "    print(f'Train shape: {train_x[0].shape}, {train_x[1].shape}')\n",
        "    print(f'Val shape: {val_x[0].shape}, {val_x[1].shape}')\n",
        "    print(f'Test shape: {test_x[0].shape}, {test_x[1].shape}')\n",
        "\n",
        "    if moneyness:\n",
        "        return train_x, train_y, val_x, val_y, test_x, test_y, train_start, val_start, test_start, df_test, train_strike, val_strike, test_strike,\n",
        "    return train_x, train_y, val_x, val_y, test_x, test_y, train_start, val_start, test_start, df_test\n",
        "\n",
        "# Create the dataset for the first rolling window period\n",
        "if moneyness:\n",
        "    train_x, train_y, val_x, val_y, test_x, test_y, train_start, val_start, test_start, df_test, train_strike, val_strike, test_strike = create_rw_dataset()\n",
        "else:\n",
        "    train_x, train_y, val_x, val_y, test_x, test_y, train_start, val_start, test_start, df_test = create_rw_dataset()"
      ]
    },
    {
      "cell_type": "markdown",
      "metadata": {
        "id": "inutSrd8Tnko"
      },
      "source": [
        "# Model construction"
      ]
    },
    {
      "cell_type": "code",
      "execution_count": 8,
      "metadata": {
        "id": "gewRG-rHTnkp"
      },
      "outputs": [],
      "source": [
        "def create_model(config):\n",
        "    '''Builds an LSTM-MLP model of minimum 2 layers sequentially from a given config dictionary'''\n",
        "\n",
        "    # Input layers\n",
        "    underlying_history = Input((config.LSTM_timesteps,1))\n",
        "    bs_vars = Input((config.Num_features,))\n",
        "\n",
        "    # LSTM layers\n",
        "    model = Sequential()\n",
        "\n",
        "    model.add(LSTM(\n",
        "        units = config.LSTM_units,\n",
        "        activation = tanh,\n",
        "        input_shape = (config.LSTM_timesteps, 1),\n",
        "        return_sequences = True\n",
        "    ))\n",
        "\n",
        "    for _ in range(config.LSTM_layers - 2):\n",
        "        model.add(LSTM(\n",
        "            units = config.LSTM_units,\n",
        "            activation = tanh,\n",
        "            return_sequences = True\n",
        "        ))\n",
        "    \n",
        "    model.add(LSTM(\n",
        "        units = config.Interface_units,\n",
        "        activation = tanh,\n",
        "        return_sequences = False\n",
        "    ))\n",
        "\n",
        "    # MLP layers\n",
        "    layers = Concatenate()([model(underlying_history), model(underlying_history), model(underlying_history), model(underlying_history), model(underlying_history), bs_vars])\n",
        "    \n",
        "    for _ in range(config.MLP_layers - 1):\n",
        "        layers = Dense(config.MLP_units)(layers)\n",
        "        layers = BatchNormalization(momentum=config.Bn_momentum)(layers)\n",
        "        layers = LeakyReLU()(layers)\n",
        "\n",
        "    output = Dense(1, activation='relu')(layers)\n",
        "\n",
        "    # Exponential decaying learning rate\n",
        "    lr_schedule = ExponentialDecay(\n",
        "        initial_learning_rate = config.Lr,\n",
        "        decay_steps = int(len(train_x[0])/config.Minibatch_size),\n",
        "        decay_rate=config.Lr_decay\n",
        "    )\n",
        "\n",
        "    # Compile model\n",
        "    model = Model(inputs=[underlying_history, bs_vars], outputs=output)\n",
        "    model.compile(loss='mse', optimizer=Adam(learning_rate=lr_schedule))\n",
        "\n",
        "    model.summary()\n",
        "    return model"
      ]
    },
    {
      "cell_type": "markdown",
      "metadata": {
        "id": "Rqno7WFBTnkp"
      },
      "source": [
        "# Hyperparameter search setup"
      ]
    },
    {
      "cell_type": "code",
      "execution_count": 9,
      "metadata": {
        "colab": {
          "base_uri": "https://localhost:8080/"
        },
        "id": "__KmrL9HTnkp",
        "outputId": "8cd1c1a0-3a32-4269-f07c-94b5e543606c"
      },
      "outputs": [
        {
          "output_type": "stream",
          "name": "stderr",
          "text": [
            "\u001b[34m\u001b[1mwandb\u001b[0m: \u001b[33mWARNING\u001b[0m Malformed sweep config detected! This may cause your sweep to behave in unexpected ways.\n",
            "\u001b[34m\u001b[1mwandb\u001b[0m: \u001b[33mWARNING\u001b[0m To avoid this, please fix the sweep config schema violations below:\n",
            "\u001b[34m\u001b[1mwandb\u001b[0m: \u001b[33mWARNING\u001b[0m   Violation 1. Lr_decay uses log_uniform, where min/max specify base-e exponents. Use log_uniform_values to specify limit values.\n",
            "\u001b[34m\u001b[1mwandb\u001b[0m: \u001b[33mWARNING\u001b[0m   Violation 2. Lr uses log_uniform, where min/max specify base-e exponents. Use log_uniform_values to specify limit values.\n"
          ]
        },
        {
          "output_type": "stream",
          "name": "stdout",
          "text": [
            "Create sweep with ID: pzchfnuu\n",
            "Sweep URL: https://wandb.ai/avogadro/Deep%20learning%20for%20option%20pricing%20-%20test%20area/sweeps/pzchfnuu\n"
          ]
        }
      ],
      "source": [
        "# Configuring the sweep hyperparameter search space\n",
        "sweep_configuration = {\n",
        "    'method': 'bayes',\n",
        "    'name': 'LSTM-MLP v4.0: fix nan issue',\n",
        "    'metric': {\n",
        "        'goal': 'minimize', \n",
        "        'name': 'val_loss'\n",
        "\t\t},\n",
        "    'parameters': {\n",
        "        'LSTM_units': {\n",
        "            'values': [4, 8, 16, 32]},\n",
        "        'Interface_units': {\n",
        "            'values': [4, 8, 16, 32]},\n",
        "        'MLP_units': {\n",
        "            'values': [50, 100, 200, 400, 600]},\n",
        "        'LSTM_timesteps': {\n",
        "            'values': [10, 20, 40, 60, 90, 150]},\n",
        "        'LSTM_layers': {\n",
        "            'distribution': 'int_uniform',\n",
        "            'max': 8, 'min': 2},\n",
        "        'MLP_layers': {\n",
        "            'distribution': 'int_uniform',\n",
        "            'max': 8, 'min': 2},\n",
        "        'Bn_momentum': {\n",
        "            'values': [0.1, 0.4, 0.7, 0.99]},\n",
        "        'Lr': {\n",
        "            'distribution': 'log_uniform',\n",
        "            'max': log(0.1), 'min': log(0.0001)},\n",
        "        'Lr_decay': {\n",
        "            'distribution': 'log_uniform',\n",
        "            'max': log(1), 'min': log(0.8)},        \n",
        "        'Minibatch_size': {\n",
        "            'value': 4096},\n",
        "        'Min_delta': {\n",
        "            'value': 0.01 if moneyness else 1},\n",
        "        'Patience': {\n",
        "            'value': 20},\n",
        "        'Num_features': {\n",
        "            'value': 3 if moneyness else 4},\n",
        "    }\n",
        "}\n",
        "\n",
        "# Initialize sweep and creating sweepID\n",
        "\n",
        "# If new sweep, uncomment the line below and comment the line after it\n",
        "sweep_id = wandb.sweep(sweep=sweep_configuration, project='Deep learning for option pricing - test area') \n",
        "#sweep_id = '98bxt6oq'"
      ]
    },
    {
      "cell_type": "markdown",
      "metadata": {
        "id": "AogdJkrRTnkq"
      },
      "source": [
        "# Run hyperparameter search"
      ]
    },
    {
      "cell_type": "code",
      "execution_count": 10,
      "metadata": {
        "id": "67l6iqWdTnkq"
      },
      "outputs": [],
      "source": [
        "#WIP\n",
        "class MSE_LossCallback(Callback):\n",
        "    def __init__(self, train_x, train_y, train_strike, val_x, val_y, val_strike):\n",
        "        self.train_x = train_x\n",
        "        self.train_y = train_y\n",
        "        self.train_strike = train_strike\n",
        "        self.val_x = val_x\n",
        "        self.val_y = val_y\n",
        "        self.val_strike = val_strike\n",
        "    \n",
        "    def on_epoch_end(self, epoch, logs={}):\n",
        "        train_pred = self.model(train_x)\n",
        "        val_pred = self.model(val_x)\n",
        "\n",
        "        train_mse = reduce_mean(square(multiply(train_pred[:,0] - self.train_y, self.train_strike)))\n",
        "        val_mse = reduce_mean(square(multiply(val_pred[:,0] - self.val_y, self.val_strike)))\n",
        "\n",
        "        print(f' Training scaled MSE: {train_mse}, Validation scaled MSE: {val_mse}')\n"
      ]
    },
    {
      "cell_type": "code",
      "execution_count": 11,
      "metadata": {
        "id": "5ogZE0y_Tnkq"
      },
      "outputs": [],
      "source": [
        "# Calculate the training and validation MSE loss on the actual option price when using price/strike as the target\n",
        "def MSE_loss(model, train_x, train_y, train_strike, val_x, val_y, val_strike):\n",
        "    train_pred = model(train_x)\n",
        "    val_pred = model(val_x)\n",
        "\n",
        "    train_mse = reduce_mean(square((train_pred[:,0] - train_y)*train_strike))\n",
        "    val_mse = reduce_mean(square((val_pred[:,0] - val_y)*val_strike))\n",
        "\n",
        "    print(f' Training scaled MSE: {train_mse}, Validation scaled MSE: {val_mse}')"
      ]
    },
    {
      "cell_type": "code",
      "execution_count": 12,
      "metadata": {
        "id": "xf-ICRDKTnkr"
      },
      "outputs": [],
      "source": [
        "import gc\n",
        "from tensorflow.keras import backend as k\n",
        "\n",
        "class ClearMemory(Callback):\n",
        "    def on_epoch_end(self, epoch, logs=None):\n",
        "        gc.collect()\n",
        "        k.clear_session()"
      ]
    },
    {
      "cell_type": "markdown",
      "metadata": {
        "id": "v4CRxFJrTnkr"
      },
      "source": [
        "## Creating trainer function"
      ]
    },
    {
      "cell_type": "code",
      "execution_count": 13,
      "metadata": {
        "id": "EZsaCBmrTnkr"
      },
      "outputs": [],
      "source": [
        "def trainer(train_x = train_x, train_y = train_y, val_x = val_x, val_y = val_y, config = None, project = None, checkpoint_path = None):\n",
        "    # Initialize a new wandb run\n",
        "    with wandb.init(config=config, project = project):\n",
        "\n",
        "        # If called by wandb.agent, as below,\n",
        "        # this config will be set by Sweep Controller\n",
        "        config = wandb.config\n",
        "\n",
        "        # Build model and create callbacks\n",
        "        model = create_model(config)\n",
        "\n",
        "        early_stopping = EarlyStopping(\n",
        "            monitor='val_loss',\n",
        "            mode='min',\n",
        "            min_delta = config.Min_delta,\n",
        "            patience = config.Patience,\n",
        "        )\n",
        "        \n",
        "        wandb_callback = WandbCallback(\n",
        "            monitor='val_loss',\n",
        "            mode='min',\n",
        "            save_model=False\n",
        "        )\n",
        "        \n",
        "        # Check if the checkpoint folder exists\n",
        "        if checkpoint_path and not os.path.exists(checkpoint_path):\n",
        "            # Create the checkpoint folder if it does not exist\n",
        "            os.makedirs(checkpoint_path)\n",
        "        \n",
        "        checkpoint = ModelCheckpoint(\n",
        "            filepath=checkpoint_path + \".h5\",\n",
        "            monitor='val_loss',\n",
        "            mode='min',\n",
        "            save_best_only=True,\n",
        "            save_weights_only=False\n",
        "        )\n",
        "\n",
        "        # Adapt sequence length to config\n",
        "        train_x_adjusted = [train_x[0][:, :config.LSTM_timesteps, :], train_x[1]]\n",
        "        val_x_adjusted = [val_x[0][:, :config.LSTM_timesteps, :], val_x[1]]\n",
        "        print(f'Train shape: {train_x_adjusted[0].shape}, {train_x_adjusted[0].shape}')\n",
        "        print(f'Val shape: {val_x_adjusted[0].shape}, {val_x_adjusted[0].shape}')\n",
        "\n",
        "        # Train model\n",
        "        model.fit(\n",
        "            train_x_adjusted,\n",
        "            train_y,\n",
        "            batch_size = config.Minibatch_size,\n",
        "            validation_data = (val_x_adjusted, val_y),\n",
        "            epochs = 1000,\n",
        "            callbacks = [early_stopping, wandb_callback, checkpoint, ClearMemory()] if checkpoint_path else [early_stopping, wandb_callback, ClearMemory()],\n",
        "        )\n",
        "\n",
        "        if moneyness:\n",
        "            MSE_loss(model, train_x, train_y, train_strike, val_x, val_y, val_strike)"
      ]
    },
    {
      "cell_type": "markdown",
      "metadata": {
        "id": "CQyg6eZKTnkr"
      },
      "source": [
        "### Run full sweep"
      ]
    },
    {
      "cell_type": "code",
      "execution_count": 14,
      "metadata": {
        "id": "mC5YLKBTTnks"
      },
      "outputs": [],
      "source": [
        "#wandb.agent(sweep_id=sweep_id, function=trainer, project='Deep learning for option pricing - test area', count = 100)"
      ]
    },
    {
      "cell_type": "markdown",
      "metadata": {
        "id": "EuuoYP4ITnks"
      },
      "source": [
        "### Single run"
      ]
    },
    {
      "cell_type": "markdown",
      "metadata": {
        "id": "zaS4BiSNTnks"
      },
      "source": [
        "# Rolling window"
      ]
    },
    {
      "cell_type": "code",
      "execution_count": 15,
      "metadata": {
        "id": "ifDAjXS3Tnks"
      },
      "outputs": [],
      "source": [
        "def calculate_error(predictions, original):\n",
        "    m = MeanSquaredError()\n",
        "    m.update_state(predictions, original)\n",
        "    print(\"MSE:\", m.result().numpy())\n",
        "    m = RootMeanSquaredError()\n",
        "    m.update_state(predictions, original)\n",
        "    print(\"RMSE:\", m.result().numpy())\n",
        "\n",
        "class config_object:\n",
        "    def __init__(self, config):\n",
        "        self.LSTM_units = config['LSTM_units']\n",
        "        self.Interface_units = config['Interface_units']\n",
        "        self.MLP_units = config['MLP_units']\n",
        "        self.LSTM_timesteps = config['LSTM_timesteps']\n",
        "        self.LSTM_layers = config['LSTM_layers']\n",
        "        self.MLP_layers = config['MLP_layers']\n",
        "        self.Bn_momentum = config['Bn_momentum']\n",
        "        self.Lr = config['Lr']\n",
        "        self.Lr_decay = config['Lr_decay']\n",
        "        self.Minibatch_size = config['Minibatch_size']\n",
        "        self.Min_delta = config['Min_delta']\n",
        "        self.Patience = config['Patience']\n",
        "        self.Num_features = config['Num_features']\n",
        "        self.Architecture = config['Architecture']\n",
        "        "
      ]
    },
    {
      "cell_type": "code",
      "execution_count": null,
      "metadata": {
        "colab": {
          "base_uri": "https://localhost:8080/",
          "height": 1000,
          "referenced_widgets": [
            "a1954bb78ce94f829a75bc643aeee409",
            "2d39a65a1f974e07a8b02bcc7faf6b88",
            "6c2f7124610c4a3f8d182cb43df763c1",
            "5c5d400dee2a495b82eb50a610855ff9",
            "4461526c5986459ba181e6349711be04",
            "59b15b1ecbd24a78a18bdd1c526ddccb",
            "bcb274d7ec5a4e028fcfa155037e74c9",
            "56c73630716b490ebc77a90eea6a6e5e",
            "467afce6d6504e4ba8a854c3a759b227",
            "be0cc820d3e84e4a8e20dd0bcddd3d0a",
            "0f191b24c63e45d99ef2a037746914f6",
            "83ecebcb0f244857b3887f62748f3756",
            "dd04418670d14644b08a55fe0dd77777",
            "a964036c0bd7473ea7ca5e1055f6d2db",
            "64a6ad6a09b243c29b4f9b4534d2ba11",
            "d77dd01635ef43859911fabebbe4deda",
            "5d97ac3cfed043f88dc4cb7230225f9c",
            "dc7c2ba0867d416a93ee22fce46d547d",
            "6301653bf0534cd6bfd9f51f11fa2f57",
            "4147b90eada94598aa53358ecce474b8",
            "473eff908935482c8130987ea98bf056",
            "2a00d5e54b5f447697c5b5d5d476517e",
            "fb751eb2248e4169b20151b073e110e4",
            "b879f97b98b54662928e2fa64c80d7e3",
            "e4e5f25eb6374ce5b50e0113c8d8f59f",
            "e72099cffe1f4689a88808e5bf130ee3",
            "e04d9daa46644d7c8012b2634ae6ad6b",
            "5d31a9d9e64744d19e8875674a3e664d",
            "c4ffac0716d546a19e3534b1757fc123",
            "22a45a2f7e9649ef97da194572e5dc65",
            "b7021d4d50f94fd0a450e29660cdee43",
            "1e1b3c1c7b934f7fbee81c08bbd82888",
            "d6c5907b9819481aae0ac2731de42e5e",
            "82a13456b5f6462198af93ce35345c59",
            "3fb9ff6de53a4b90a6999c965ae0d0dc",
            "eab651f8f39d4b678db0a47a9d9927bd",
            "8a95bc516c674458ad4ea588f76cd742",
            "26064bc65e1848de93bfa1d17824fd7f",
            "5191622a3a64431f8db43f5bc92bae26",
            "41318403a9244e9f9fbb93938726c200"
          ]
        },
        "id": "lRV8wlklTnks",
        "outputId": "7ceb6113-6d20-47bd-fc65-90788f9cef2c"
      },
      "outputs": [
        {
          "metadata": {
            "tags": null
          },
          "name": "stdout",
          "output_type": "stream",
          "text": [
            "Drive already mounted at /content/drive; to attempt to forcibly remount, call drive.mount(\"/content/drive\", force_remount=True).\n",
            "Train shape: (496184, 10, 1), (496184, 4)\n",
            "Val shape: (61101, 10, 1), (61101, 4)\n",
            "Test shape: (55924, 10, 1), (55924, 4)\n"
          ]
        },
        {
          "data": {
            "text/html": [
              "Changes to your `wandb` environment variables will be ignored because your `wandb` session has already started. For more information on how to modify your settings with `wandb.init()` arguments, please refer to <a href='https://wandb.me/wandb-init' target=\"_blank\">the W&B docs</a>."
            ],
            "text/plain": [
              "<IPython.core.display.HTML object>"
            ]
          },
          "metadata": {},
          "output_type": "display_data"
        },
        {
          "data": {
            "text/html": [
              "Tracking run with wandb version 0.14.2"
            ],
            "text/plain": [
              "<IPython.core.display.HTML object>"
            ]
          },
          "metadata": {},
          "output_type": "display_data"
        },
        {
          "data": {
            "text/html": [
              "Run data is saved locally in <code>/content/wandb/run-20230413_131126-lczl734o</code>"
            ],
            "text/plain": [
              "<IPython.core.display.HTML object>"
            ]
          },
          "metadata": {},
          "output_type": "display_data"
        },
        {
          "data": {
            "text/html": [
              "Syncing run <strong><a href='https://wandb.ai/avogadro/Deep%20learning%20for%20option%20pricing%20-%20rolling%20windows/runs/lczl734o' target=\"_blank\">neat-firefly-174</a></strong> to <a href='https://wandb.ai/avogadro/Deep%20learning%20for%20option%20pricing%20-%20rolling%20windows' target=\"_blank\">Weights & Biases</a> (<a href='https://wandb.me/run' target=\"_blank\">docs</a>)<br/>"
            ],
            "text/plain": [
              "<IPython.core.display.HTML object>"
            ]
          },
          "metadata": {},
          "output_type": "display_data"
        },
        {
          "data": {
            "text/html": [
              " View project at <a href='https://wandb.ai/avogadro/Deep%20learning%20for%20option%20pricing%20-%20rolling%20windows' target=\"_blank\">https://wandb.ai/avogadro/Deep%20learning%20for%20option%20pricing%20-%20rolling%20windows</a>"
            ],
            "text/plain": [
              "<IPython.core.display.HTML object>"
            ]
          },
          "metadata": {},
          "output_type": "display_data"
        },
        {
          "data": {
            "text/html": [
              " View run at <a href='https://wandb.ai/avogadro/Deep%20learning%20for%20option%20pricing%20-%20rolling%20windows/runs/lczl734o' target=\"_blank\">https://wandb.ai/avogadro/Deep%20learning%20for%20option%20pricing%20-%20rolling%20windows/runs/lczl734o</a>"
            ],
            "text/plain": [
              "<IPython.core.display.HTML object>"
            ]
          },
          "metadata": {},
          "output_type": "display_data"
        },
        {
          "metadata": {
            "tags": null
          },
          "name": "stdout",
          "output_type": "stream",
          "text": [
            "Model: \"model\"\n",
            "__________________________________________________________________________________________________\n",
            " Layer (type)                   Output Shape         Param #     Connected to                     \n",
            "==================================================================================================\n",
            " input_1 (InputLayer)           [(None, 10, 1)]      0           []                               \n",
            "                                                                                                  \n",
            " sequential (Sequential)        (None, 16)           2016        ['input_1[0][0]',                \n",
            "                                                                  'input_1[0][0]',                \n",
            "                                                                  'input_1[0][0]',                \n",
            "                                                                  'input_1[0][0]',                \n",
            "                                                                  'input_1[0][0]']                \n",
            "                                                                                                  \n",
            " input_2 (InputLayer)           [(None, 4)]          0           []                               \n",
            "                                                                                                  \n",
            " concatenate (Concatenate)      (None, 84)           0           ['sequential[0][0]',             \n",
            "                                                                  'sequential[1][0]',             \n",
            "                                                                  'sequential[2][0]',             \n",
            "                                                                  'sequential[3][0]',             \n",
            "                                                                  'sequential[4][0]',             \n",
            "                                                                  'input_2[0][0]']                \n",
            "                                                                                                  \n",
            " dense (Dense)                  (None, 600)          51000       ['concatenate[0][0]']            \n",
            "                                                                                                  \n",
            " batch_normalization (BatchNorm  (None, 600)         2400        ['dense[0][0]']                  \n",
            " alization)                                                                                       \n",
            "                                                                                                  \n",
            " leaky_re_lu (LeakyReLU)        (None, 600)          0           ['batch_normalization[0][0]']    \n",
            "                                                                                                  \n",
            " dense_1 (Dense)                (None, 600)          360600      ['leaky_re_lu[0][0]']            \n",
            "                                                                                                  \n",
            " batch_normalization_1 (BatchNo  (None, 600)         2400        ['dense_1[0][0]']                \n",
            " rmalization)                                                                                     \n",
            "                                                                                                  \n",
            " leaky_re_lu_1 (LeakyReLU)      (None, 600)          0           ['batch_normalization_1[0][0]']  \n",
            "                                                                                                  \n",
            " dense_2 (Dense)                (None, 600)          360600      ['leaky_re_lu_1[0][0]']          \n",
            "                                                                                                  \n",
            " batch_normalization_2 (BatchNo  (None, 600)         2400        ['dense_2[0][0]']                \n",
            " rmalization)                                                                                     \n",
            "                                                                                                  \n",
            " leaky_re_lu_2 (LeakyReLU)      (None, 600)          0           ['batch_normalization_2[0][0]']  \n",
            "                                                                                                  \n",
            " dense_3 (Dense)                (None, 600)          360600      ['leaky_re_lu_2[0][0]']          \n",
            "                                                                                                  \n",
            " batch_normalization_3 (BatchNo  (None, 600)         2400        ['dense_3[0][0]']                \n",
            " rmalization)                                                                                     \n",
            "                                                                                                  \n",
            " leaky_re_lu_3 (LeakyReLU)      (None, 600)          0           ['batch_normalization_3[0][0]']  \n",
            "                                                                                                  \n",
            " dense_4 (Dense)                (None, 600)          360600      ['leaky_re_lu_3[0][0]']          \n",
            "                                                                                                  \n",
            " batch_normalization_4 (BatchNo  (None, 600)         2400        ['dense_4[0][0]']                \n",
            " rmalization)                                                                                     \n",
            "                                                                                                  \n",
            " leaky_re_lu_4 (LeakyReLU)      (None, 600)          0           ['batch_normalization_4[0][0]']  \n",
            "                                                                                                  \n",
            " dense_5 (Dense)                (None, 600)          360600      ['leaky_re_lu_4[0][0]']          \n",
            "                                                                                                  \n",
            " batch_normalization_5 (BatchNo  (None, 600)         2400        ['dense_5[0][0]']                \n",
            " rmalization)                                                                                     \n",
            "                                                                                                  \n",
            " leaky_re_lu_5 (LeakyReLU)      (None, 600)          0           ['batch_normalization_5[0][0]']  \n",
            "                                                                                                  \n",
            " dense_6 (Dense)                (None, 1)            601         ['leaky_re_lu_5[0][0]']          \n",
            "                                                                                                  \n",
            "==================================================================================================\n",
            "Total params: 1,871,017\n",
            "Trainable params: 1,863,817\n",
            "Non-trainable params: 7,200\n",
            "__________________________________________________________________________________________________\n",
            "Train shape: (496184, 10, 1), (496184, 10, 1)\n",
            "Val shape: (61101, 10, 1), (61101, 10, 1)\n",
            "Epoch 1/1000\n",
            "122/122 [==============================] - 57s 133ms/step - loss: 72542.7031 - val_loss: 110710.3281\n",
            "Epoch 2/1000\n",
            "122/122 [==============================] - 15s 83ms/step - loss: 1409.5618 - val_loss: 92155.2578\n",
            "Epoch 3/1000\n",
            "122/122 [==============================] - 15s 84ms/step - loss: 131.8142 - val_loss: 45172.4258\n",
            "Epoch 4/1000\n",
            "122/122 [==============================] - 15s 85ms/step - loss: 101.5085 - val_loss: 38543.1758\n",
            "Epoch 5/1000\n",
            "122/122 [==============================] - 14s 75ms/step - loss: 64.5973 - val_loss: 79014.4531\n",
            "Epoch 6/1000\n",
            "122/122 [==============================] - 15s 83ms/step - loss: 74.1815 - val_loss: 13676.3271\n",
            "Epoch 7/1000\n",
            "122/122 [==============================] - 14s 75ms/step - loss: 73.1002 - val_loss: 54770.9688\n",
            "Epoch 8/1000\n",
            "122/122 [==============================] - 15s 83ms/step - loss: 52.5314 - val_loss: 3858.2498\n",
            "Epoch 9/1000\n",
            "122/122 [==============================] - 14s 76ms/step - loss: 56.2875 - val_loss: 22500.7832\n",
            "Epoch 10/1000\n",
            "122/122 [==============================] - 14s 76ms/step - loss: 55.8018 - val_loss: 6762.0518\n",
            "Epoch 11/1000\n",
            "122/122 [==============================] - 15s 82ms/step - loss: 58.9990 - val_loss: 1992.3517\n",
            "Epoch 12/1000\n",
            "122/122 [==============================] - 14s 76ms/step - loss: 42.1138 - val_loss: 4397.3975\n",
            "Epoch 13/1000\n",
            "122/122 [==============================] - 15s 83ms/step - loss: 44.7649 - val_loss: 134.2827\n",
            "Epoch 14/1000\n",
            "122/122 [==============================] - 14s 76ms/step - loss: 39.3984 - val_loss: 519.4344\n",
            "Epoch 15/1000\n",
            "122/122 [==============================] - 14s 77ms/step - loss: 36.0208 - val_loss: 965.3195\n",
            "Epoch 16/1000\n",
            "122/122 [==============================] - 14s 77ms/step - loss: 31.0621 - val_loss: 709.9467\n",
            "Epoch 17/1000\n",
            "122/122 [==============================] - 14s 76ms/step - loss: 31.6084 - val_loss: 845.6478\n",
            "Epoch 18/1000\n",
            "122/122 [==============================] - 14s 76ms/step - loss: 37.6325 - val_loss: 349.0202\n",
            "Epoch 19/1000\n",
            "122/122 [==============================] - 14s 76ms/step - loss: 37.3038 - val_loss: 357.7181\n",
            "Epoch 20/1000\n",
            "122/122 [==============================] - 14s 77ms/step - loss: 35.0089 - val_loss: 320.3340\n",
            "Epoch 21/1000\n",
            "122/122 [==============================] - 14s 76ms/step - loss: 31.9551 - val_loss: 292.5299\n",
            "Epoch 22/1000\n",
            "122/122 [==============================] - 16s 93ms/step - loss: 35.1668 - val_loss: 46.3349\n",
            "Epoch 23/1000\n",
            "122/122 [==============================] - 14s 76ms/step - loss: 36.9797 - val_loss: 210.7049\n",
            "Epoch 24/1000\n",
            "122/122 [==============================] - 14s 76ms/step - loss: 31.3345 - val_loss: 77.2663\n",
            "Epoch 25/1000\n",
            "122/122 [==============================] - 14s 76ms/step - loss: 31.9789 - val_loss: 115.1978\n",
            "Epoch 26/1000\n",
            "122/122 [==============================] - 15s 76ms/step - loss: 35.0085 - val_loss: 94.0895\n",
            "Epoch 27/1000\n",
            "122/122 [==============================] - 14s 76ms/step - loss: 26.3627 - val_loss: 70.3028\n",
            "Epoch 28/1000\n",
            "122/122 [==============================] - 15s 77ms/step - loss: 32.1510 - val_loss: 75.1927\n",
            "Epoch 29/1000\n",
            "122/122 [==============================] - 14s 76ms/step - loss: 28.8959 - val_loss: 65.0535\n",
            "Epoch 30/1000\n",
            "122/122 [==============================] - 14s 76ms/step - loss: 33.5216 - val_loss: 71.7038\n",
            "Epoch 31/1000\n",
            "122/122 [==============================] - 15s 84ms/step - loss: 31.5105 - val_loss: 44.5658\n",
            "Epoch 32/1000\n",
            "122/122 [==============================] - 14s 76ms/step - loss: 33.0170 - val_loss: 45.3739\n",
            "Epoch 33/1000\n",
            "122/122 [==============================] - 15s 83ms/step - loss: 34.0860 - val_loss: 40.5506\n",
            "Epoch 34/1000\n",
            "122/122 [==============================] - 14s 76ms/step - loss: 29.5426 - val_loss: 41.0049\n",
            "Epoch 35/1000\n",
            "122/122 [==============================] - 15s 84ms/step - loss: 33.0004 - val_loss: 39.7155\n",
            "Epoch 36/1000\n",
            "122/122 [==============================] - 14s 77ms/step - loss: 29.7865 - val_loss: 40.0298\n",
            "Epoch 37/1000\n",
            "122/122 [==============================] - 14s 77ms/step - loss: 31.9779 - val_loss: 41.9242\n",
            "Epoch 38/1000\n",
            "122/122 [==============================] - 15s 84ms/step - loss: 33.0427 - val_loss: 39.5133\n",
            "Epoch 39/1000\n",
            "122/122 [==============================] - 16s 85ms/step - loss: 28.5809 - val_loss: 39.2668\n",
            "Epoch 40/1000\n",
            "122/122 [==============================] - 14s 76ms/step - loss: 32.6779 - val_loss: 39.9028\n",
            "Epoch 41/1000\n",
            "122/122 [==============================] - 15s 77ms/step - loss: 30.9031 - val_loss: 40.1537\n",
            "Epoch 42/1000\n",
            "122/122 [==============================] - 15s 77ms/step - loss: 26.6521 - val_loss: 40.8092\n",
            "Epoch 43/1000\n",
            "122/122 [==============================] - 15s 84ms/step - loss: 27.4249 - val_loss: 39.0614\n",
            "Epoch 44/1000\n",
            "122/122 [==============================] - 14s 76ms/step - loss: 26.3347 - val_loss: 39.3622\n",
            "Epoch 45/1000\n",
            "122/122 [==============================] - 14s 76ms/step - loss: 23.5844 - val_loss: 39.5526\n",
            "Epoch 46/1000\n",
            "122/122 [==============================] - 14s 76ms/step - loss: 28.8419 - val_loss: 39.2331\n",
            "Epoch 47/1000\n",
            "122/122 [==============================] - 15s 77ms/step - loss: 32.9588 - val_loss: 39.9375\n",
            "Epoch 48/1000\n",
            "122/122 [==============================] - 15s 76ms/step - loss: 28.7890 - val_loss: 39.6145\n",
            "Epoch 49/1000\n",
            "122/122 [==============================] - 14s 76ms/step - loss: 26.3209 - val_loss: 39.4617\n",
            "Epoch 50/1000\n",
            "122/122 [==============================] - 15s 76ms/step - loss: 30.4370 - val_loss: 39.5280\n",
            "Epoch 51/1000\n",
            "122/122 [==============================] - 14s 77ms/step - loss: 30.0723 - val_loss: 39.5621\n",
            "Epoch 52/1000\n",
            "122/122 [==============================] - 14s 76ms/step - loss: 27.4388 - val_loss: 39.9621\n",
            "Epoch 53/1000\n",
            "122/122 [==============================] - 14s 77ms/step - loss: 30.6229 - val_loss: 39.6656\n",
            "Epoch 54/1000\n",
            "122/122 [==============================] - 14s 77ms/step - loss: 29.4640 - val_loss: 39.9418\n",
            "Epoch 55/1000\n",
            "122/122 [==============================] - 14s 77ms/step - loss: 32.8501 - val_loss: 39.5780\n",
            "Epoch 56/1000\n",
            "122/122 [==============================] - 14s 76ms/step - loss: 32.7412 - val_loss: 39.4383\n",
            "Epoch 57/1000\n",
            "122/122 [==============================] - 14s 76ms/step - loss: 30.9992 - val_loss: 40.1071\n",
            "Epoch 58/1000\n",
            "122/122 [==============================] - 15s 76ms/step - loss: 25.8352 - val_loss: 39.8575\n"
          ]
        },
        {
          "data": {
            "text/html": [
              "Waiting for W&B process to finish... <strong style=\"color:green\">(success).</strong>"
            ],
            "text/plain": [
              "<IPython.core.display.HTML object>"
            ]
          },
          "metadata": {},
          "output_type": "display_data"
        },
        {
          "data": {
            "application/vnd.jupyter.widget-view+json": {
              "model_id": "a1954bb78ce94f829a75bc643aeee409",
              "version_major": 2,
              "version_minor": 0
            },
            "text/plain": [
              "VBox(children=(Label(value='0.006 MB of 0.024 MB uploaded (0.000 MB deduped)\\r'), FloatProgress(value=0.235496…"
            ]
          },
          "metadata": {},
          "output_type": "display_data"
        },
        {
          "data": {
            "text/html": [
              "<style>\n",
              "    table.wandb td:nth-child(1) { padding: 0 10px; text-align: left ; width: auto;} td:nth-child(2) {text-align: left ; width: 100%}\n",
              "    .wandb-row { display: flex; flex-direction: row; flex-wrap: wrap; justify-content: flex-start; width: 100% }\n",
              "    .wandb-col { display: flex; flex-direction: column; flex-basis: 100%; flex: 1; padding: 10px; }\n",
              "    </style>\n",
              "<div class=\"wandb-row\"><div class=\"wandb-col\"><h3>Run history:</h3><br/><table class=\"wandb\"><tr><td>epoch</td><td>▁▁▁▁▂▂▂▂▂▃▃▃▃▃▃▄▄▄▄▄▅▅▅▅▅▅▆▆▆▆▆▇▇▇▇▇▇███</td></tr><tr><td>loss</td><td>█▁▁▁▁▁▁▁▁▁▁▁▁▁▁▁▁▁▁▁▁▁▁▁▁▁▁▁▁▁▁▁▁▁▁▁▁▁▁▁</td></tr><tr><td>val_loss</td><td>█▇▄▆▂▁▂▁▁▁▁▁▁▁▁▁▁▁▁▁▁▁▁▁▁▁▁▁▁▁▁▁▁▁▁▁▁▁▁▁</td></tr></table><br/></div><div class=\"wandb-col\"><h3>Run summary:</h3><br/><table class=\"wandb\"><tr><td>best_epoch</td><td>42</td></tr><tr><td>best_val_loss</td><td>39.06138</td></tr><tr><td>epoch</td><td>57</td></tr><tr><td>loss</td><td>25.83523</td></tr><tr><td>val_loss</td><td>39.8575</td></tr></table><br/></div></div>"
            ],
            "text/plain": [
              "<IPython.core.display.HTML object>"
            ]
          },
          "metadata": {},
          "output_type": "display_data"
        },
        {
          "data": {
            "text/html": [
              " View run <strong style=\"color:#cdcd00\">neat-firefly-174</strong> at: <a href='https://wandb.ai/avogadro/Deep%20learning%20for%20option%20pricing%20-%20rolling%20windows/runs/lczl734o' target=\"_blank\">https://wandb.ai/avogadro/Deep%20learning%20for%20option%20pricing%20-%20rolling%20windows/runs/lczl734o</a><br/>Synced 5 W&B file(s), 1 media file(s), 0 artifact file(s) and 0 other file(s)"
            ],
            "text/plain": [
              "<IPython.core.display.HTML object>"
            ]
          },
          "metadata": {},
          "output_type": "display_data"
        },
        {
          "data": {
            "text/html": [
              "Find logs at: <code>./wandb/run-20230413_131126-lczl734o/logs</code>"
            ],
            "text/plain": [
              "<IPython.core.display.HTML object>"
            ]
          },
          "metadata": {},
          "output_type": "display_data"
        },
        {
          "metadata": {
            "tags": null
          },
          "name": "stdout",
          "output_type": "stream",
          "text": [
            "--- Predictions for test_start 2015-01-01 ---\n",
            "MSE: 30.567791\n",
            "RMSE: 5.5288143\n",
            "-------------------------------------------\n",
            "Train shape: (520744, 10, 1), (520744, 4)\n",
            "Val shape: (55791, 10, 1), (55791, 4)\n",
            "Test shape: (57437, 10, 1), (57437, 4)\n"
          ]
        },
        {
          "data": {
            "text/html": [
              "Changes to your `wandb` environment variables will be ignored because your `wandb` session has already started. For more information on how to modify your settings with `wandb.init()` arguments, please refer to <a href='https://wandb.me/wandb-init' target=\"_blank\">the W&B docs</a>."
            ],
            "text/plain": [
              "<IPython.core.display.HTML object>"
            ]
          },
          "metadata": {},
          "output_type": "display_data"
        },
        {
          "data": {
            "text/html": [
              "Tracking run with wandb version 0.14.2"
            ],
            "text/plain": [
              "<IPython.core.display.HTML object>"
            ]
          },
          "metadata": {},
          "output_type": "display_data"
        },
        {
          "data": {
            "text/html": [
              "Run data is saved locally in <code>/content/wandb/run-20230413_132654-bbqh9vl0</code>"
            ],
            "text/plain": [
              "<IPython.core.display.HTML object>"
            ]
          },
          "metadata": {},
          "output_type": "display_data"
        },
        {
          "data": {
            "text/html": [
              "Syncing run <strong><a href='https://wandb.ai/avogadro/Deep%20learning%20for%20option%20pricing%20-%20rolling%20windows/runs/bbqh9vl0' target=\"_blank\">rare-brook-175</a></strong> to <a href='https://wandb.ai/avogadro/Deep%20learning%20for%20option%20pricing%20-%20rolling%20windows' target=\"_blank\">Weights & Biases</a> (<a href='https://wandb.me/run' target=\"_blank\">docs</a>)<br/>"
            ],
            "text/plain": [
              "<IPython.core.display.HTML object>"
            ]
          },
          "metadata": {},
          "output_type": "display_data"
        },
        {
          "data": {
            "text/html": [
              " View project at <a href='https://wandb.ai/avogadro/Deep%20learning%20for%20option%20pricing%20-%20rolling%20windows' target=\"_blank\">https://wandb.ai/avogadro/Deep%20learning%20for%20option%20pricing%20-%20rolling%20windows</a>"
            ],
            "text/plain": [
              "<IPython.core.display.HTML object>"
            ]
          },
          "metadata": {},
          "output_type": "display_data"
        },
        {
          "data": {
            "text/html": [
              " View run at <a href='https://wandb.ai/avogadro/Deep%20learning%20for%20option%20pricing%20-%20rolling%20windows/runs/bbqh9vl0' target=\"_blank\">https://wandb.ai/avogadro/Deep%20learning%20for%20option%20pricing%20-%20rolling%20windows/runs/bbqh9vl0</a>"
            ],
            "text/plain": [
              "<IPython.core.display.HTML object>"
            ]
          },
          "metadata": {},
          "output_type": "display_data"
        },
        {
          "metadata": {
            "tags": null
          },
          "name": "stdout",
          "output_type": "stream",
          "text": [
            "Model: \"model\"\n",
            "__________________________________________________________________________________________________\n",
            " Layer (type)                   Output Shape         Param #     Connected to                     \n",
            "==================================================================================================\n",
            " input_1 (InputLayer)           [(None, 10, 1)]      0           []                               \n",
            "                                                                                                  \n",
            " sequential (Sequential)        (None, 16)           2016        ['input_1[0][0]',                \n",
            "                                                                  'input_1[0][0]',                \n",
            "                                                                  'input_1[0][0]',                \n",
            "                                                                  'input_1[0][0]',                \n",
            "                                                                  'input_1[0][0]']                \n",
            "                                                                                                  \n",
            " input_2 (InputLayer)           [(None, 4)]          0           []                               \n",
            "                                                                                                  \n",
            " concatenate (Concatenate)      (None, 84)           0           ['sequential[0][0]',             \n",
            "                                                                  'sequential[1][0]',             \n",
            "                                                                  'sequential[2][0]',             \n",
            "                                                                  'sequential[3][0]',             \n",
            "                                                                  'sequential[4][0]',             \n",
            "                                                                  'input_2[0][0]']                \n",
            "                                                                                                  \n",
            " dense (Dense)                  (None, 600)          51000       ['concatenate[0][0]']            \n",
            "                                                                                                  \n",
            " batch_normalization (BatchNorm  (None, 600)         2400        ['dense[0][0]']                  \n",
            " alization)                                                                                       \n",
            "                                                                                                  \n",
            " leaky_re_lu (LeakyReLU)        (None, 600)          0           ['batch_normalization[0][0]']    \n",
            "                                                                                                  \n",
            " dense_1 (Dense)                (None, 600)          360600      ['leaky_re_lu[0][0]']            \n",
            "                                                                                                  \n",
            " batch_normalization_1 (BatchNo  (None, 600)         2400        ['dense_1[0][0]']                \n",
            " rmalization)                                                                                     \n",
            "                                                                                                  \n",
            " leaky_re_lu_1 (LeakyReLU)      (None, 600)          0           ['batch_normalization_1[0][0]']  \n",
            "                                                                                                  \n",
            " dense_2 (Dense)                (None, 600)          360600      ['leaky_re_lu_1[0][0]']          \n",
            "                                                                                                  \n",
            " batch_normalization_2 (BatchNo  (None, 600)         2400        ['dense_2[0][0]']                \n",
            " rmalization)                                                                                     \n",
            "                                                                                                  \n",
            " leaky_re_lu_2 (LeakyReLU)      (None, 600)          0           ['batch_normalization_2[0][0]']  \n",
            "                                                                                                  \n",
            " dense_3 (Dense)                (None, 600)          360600      ['leaky_re_lu_2[0][0]']          \n",
            "                                                                                                  \n",
            " batch_normalization_3 (BatchNo  (None, 600)         2400        ['dense_3[0][0]']                \n",
            " rmalization)                                                                                     \n",
            "                                                                                                  \n",
            " leaky_re_lu_3 (LeakyReLU)      (None, 600)          0           ['batch_normalization_3[0][0]']  \n",
            "                                                                                                  \n",
            " dense_4 (Dense)                (None, 600)          360600      ['leaky_re_lu_3[0][0]']          \n",
            "                                                                                                  \n",
            " batch_normalization_4 (BatchNo  (None, 600)         2400        ['dense_4[0][0]']                \n",
            " rmalization)                                                                                     \n",
            "                                                                                                  \n",
            " leaky_re_lu_4 (LeakyReLU)      (None, 600)          0           ['batch_normalization_4[0][0]']  \n",
            "                                                                                                  \n",
            " dense_5 (Dense)                (None, 600)          360600      ['leaky_re_lu_4[0][0]']          \n",
            "                                                                                                  \n",
            " batch_normalization_5 (BatchNo  (None, 600)         2400        ['dense_5[0][0]']                \n",
            " rmalization)                                                                                     \n",
            "                                                                                                  \n",
            " leaky_re_lu_5 (LeakyReLU)      (None, 600)          0           ['batch_normalization_5[0][0]']  \n",
            "                                                                                                  \n",
            " dense_6 (Dense)                (None, 1)            601         ['leaky_re_lu_5[0][0]']          \n",
            "                                                                                                  \n",
            "==================================================================================================\n",
            "Total params: 1,871,017\n",
            "Trainable params: 1,863,817\n",
            "Non-trainable params: 7,200\n",
            "__________________________________________________________________________________________________\n",
            "Train shape: (496184, 10, 1), (496184, 10, 1)\n",
            "Val shape: (61101, 10, 1), (61101, 10, 1)\n",
            "Epoch 1/1000\n",
            "122/122 [==============================] - 58s 134ms/step - loss: 73698.7188 - val_loss: 66955.9141\n",
            "Epoch 2/1000\n",
            "122/122 [==============================] - 14s 77ms/step - loss: 1516.2230 - val_loss: 71781.2422\n",
            "Epoch 3/1000\n",
            "122/122 [==============================] - 15s 84ms/step - loss: 134.8165 - val_loss: 41799.0977\n",
            "Epoch 4/1000\n",
            "122/122 [==============================] - 15s 86ms/step - loss: 81.0206 - val_loss: 20520.7910\n",
            "Epoch 5/1000\n",
            "122/122 [==============================] - 15s 85ms/step - loss: 75.3356 - val_loss: 3403.5164\n",
            "Epoch 6/1000\n",
            "122/122 [==============================] - 14s 77ms/step - loss: 65.3886 - val_loss: 9812.7002\n",
            "Epoch 7/1000\n",
            "122/122 [==============================] - 14s 77ms/step - loss: 57.0240 - val_loss: 3931.0850\n",
            "Epoch 8/1000\n",
            "122/122 [==============================] - 14s 77ms/step - loss: 56.9560 - val_loss: 8588.1094\n",
            "Epoch 9/1000\n",
            "122/122 [==============================] - 14s 77ms/step - loss: 47.7884 - val_loss: 22730.1660\n",
            "Epoch 10/1000\n",
            "122/122 [==============================] - 14s 77ms/step - loss: 50.6842 - val_loss: 15759.5381\n",
            "Epoch 11/1000\n",
            "122/122 [==============================] - 14s 77ms/step - loss: 44.3914 - val_loss: 9003.4307\n",
            "Epoch 12/1000\n",
            "122/122 [==============================] - 14s 77ms/step - loss: 41.5045 - val_loss: 13432.6699\n",
            "Epoch 13/1000\n",
            "122/122 [==============================] - 15s 77ms/step - loss: 47.8938 - val_loss: 3455.0146\n",
            "Epoch 14/1000\n",
            "122/122 [==============================] - 15s 84ms/step - loss: 40.1622 - val_loss: 1869.5680\n",
            "Epoch 15/1000\n",
            "122/122 [==============================] - 16s 85ms/step - loss: 38.4780 - val_loss: 168.9183\n",
            "Epoch 16/1000\n",
            "122/122 [==============================] - 14s 76ms/step - loss: 34.0603 - val_loss: 387.7997\n",
            "Epoch 17/1000\n",
            "122/122 [==============================] - 14s 77ms/step - loss: 32.6118 - val_loss: 185.6963\n",
            "Epoch 18/1000\n",
            "122/122 [==============================] - 15s 83ms/step - loss: 29.6217 - val_loss: 166.5146\n",
            "Epoch 19/1000\n",
            "122/122 [==============================] - 16s 85ms/step - loss: 31.1767 - val_loss: 72.8808\n",
            "Epoch 20/1000\n",
            "122/122 [==============================] - 15s 77ms/step - loss: 31.0301 - val_loss: 212.0091\n",
            "Epoch 21/1000\n",
            "122/122 [==============================] - 14s 77ms/step - loss: 36.4264 - val_loss: 156.1179\n",
            "Epoch 22/1000\n",
            "122/122 [==============================] - 15s 83ms/step - loss: 30.9286 - val_loss: 63.2388\n",
            "Epoch 23/1000\n",
            "122/122 [==============================] - 14s 76ms/step - loss: 34.4224 - val_loss: 97.6005\n",
            "Epoch 24/1000\n",
            "122/122 [==============================] - 14s 76ms/step - loss: 33.2556 - val_loss: 103.2706\n",
            "Epoch 25/1000\n",
            "122/122 [==============================] - 14s 76ms/step - loss: 26.7637 - val_loss: 70.2967\n",
            "Epoch 26/1000\n",
            "122/122 [==============================] - 15s 83ms/step - loss: 31.7718 - val_loss: 58.6563\n",
            "Epoch 27/1000\n",
            "122/122 [==============================] - 16s 86ms/step - loss: 26.8569 - val_loss: 53.0806\n",
            "Epoch 28/1000\n",
            "122/122 [==============================] - 15s 79ms/step - loss: 32.8942 - val_loss: 87.8282\n",
            "Epoch 29/1000\n",
            "122/122 [==============================] - 15s 78ms/step - loss: 30.7261 - val_loss: 59.4540\n",
            "Epoch 30/1000\n",
            "122/122 [==============================] - 14s 77ms/step - loss: 29.0514 - val_loss: 89.0803\n",
            "Epoch 31/1000\n",
            "122/122 [==============================] - 15s 78ms/step - loss: 31.6041 - val_loss: 65.1466\n",
            "Epoch 32/1000\n",
            "122/122 [==============================] - 15s 86ms/step - loss: 31.4229 - val_loss: 51.9095\n",
            "Epoch 33/1000\n",
            "122/122 [==============================] - 15s 78ms/step - loss: 29.8310 - val_loss: 52.6010\n",
            "Epoch 34/1000\n",
            "122/122 [==============================] - 15s 77ms/step - loss: 31.6533 - val_loss: 52.8655\n",
            "Epoch 35/1000\n",
            "122/122 [==============================] - 15s 78ms/step - loss: 26.6890 - val_loss: 53.4502\n",
            "Epoch 36/1000\n",
            "122/122 [==============================] - 15s 77ms/step - loss: 29.8623 - val_loss: 53.2754\n",
            "Epoch 37/1000\n",
            "122/122 [==============================] - 15s 85ms/step - loss: 33.7429 - val_loss: 50.6026\n",
            "Epoch 38/1000\n",
            "122/122 [==============================] - 14s 77ms/step - loss: 30.9070 - val_loss: 52.2566\n",
            "Epoch 39/1000\n",
            "122/122 [==============================] - 14s 77ms/step - loss: 30.7937 - val_loss: 50.9906\n",
            "Epoch 40/1000\n",
            "122/122 [==============================] - 15s 84ms/step - loss: 41.2834 - val_loss: 50.5186\n",
            "Epoch 41/1000\n",
            "122/122 [==============================] - 16s 87ms/step - loss: 27.4991 - val_loss: 49.6185\n",
            "Epoch 42/1000\n",
            "122/122 [==============================] - 16s 94ms/step - loss: 27.5038 - val_loss: 48.8033\n",
            "Epoch 43/1000\n",
            "122/122 [==============================] - 16s 87ms/step - loss: 28.7986 - val_loss: 48.4103\n",
            "Epoch 44/1000\n",
            "122/122 [==============================] - 15s 78ms/step - loss: 27.5329 - val_loss: 48.7066\n",
            "Epoch 45/1000\n",
            "122/122 [==============================] - 15s 78ms/step - loss: 26.9581 - val_loss: 48.4387\n",
            "Epoch 46/1000\n",
            "122/122 [==============================] - 15s 76ms/step - loss: 31.1404 - val_loss: 48.6172\n",
            "Epoch 47/1000\n",
            "122/122 [==============================] - 16s 85ms/step - loss: 30.7413 - val_loss: 48.3565\n",
            "Epoch 48/1000\n",
            "122/122 [==============================] - 15s 76ms/step - loss: 26.5032 - val_loss: 48.4014\n",
            "Epoch 49/1000\n",
            "122/122 [==============================] - 14s 76ms/step - loss: 29.1036 - val_loss: 48.3615\n",
            "Epoch 50/1000\n",
            "122/122 [==============================] - 16s 85ms/step - loss: 26.3520 - val_loss: 48.3304\n",
            "Epoch 51/1000\n",
            "122/122 [==============================] - 16s 86ms/step - loss: 30.3370 - val_loss: 48.0437\n",
            "Epoch 52/1000\n",
            "122/122 [==============================] - 16s 86ms/step - loss: 27.4620 - val_loss: 48.0190\n",
            "Epoch 53/1000\n",
            "122/122 [==============================] - 15s 77ms/step - loss: 28.4095 - val_loss: 48.5467\n",
            "Epoch 54/1000\n",
            "122/122 [==============================] - 14s 77ms/step - loss: 28.1165 - val_loss: 48.2588\n",
            "Epoch 55/1000\n",
            "122/122 [==============================] - 14s 77ms/step - loss: 27.1540 - val_loss: 48.2781\n",
            "Epoch 56/1000\n",
            "122/122 [==============================] - 15s 77ms/step - loss: 28.8053 - val_loss: 48.6955\n",
            "Epoch 57/1000\n",
            "122/122 [==============================] - 15s 76ms/step - loss: 28.8579 - val_loss: 48.2526\n",
            "Epoch 58/1000\n",
            "122/122 [==============================] - 15s 76ms/step - loss: 32.3879 - val_loss: 48.2490\n",
            "Epoch 59/1000\n",
            "122/122 [==============================] - 15s 76ms/step - loss: 25.7089 - val_loss: 48.5254\n",
            "Epoch 60/1000\n",
            "122/122 [==============================] - 15s 77ms/step - loss: 29.5580 - val_loss: 48.1589\n",
            "Epoch 61/1000\n",
            "122/122 [==============================] - 14s 77ms/step - loss: 29.6573 - val_loss: 48.2357\n",
            "Epoch 62/1000\n",
            "122/122 [==============================] - 14s 77ms/step - loss: 28.8340 - val_loss: 48.4329\n"
          ]
        },
        {
          "data": {
            "text/html": [
              "Waiting for W&B process to finish... <strong style=\"color:green\">(success).</strong>"
            ],
            "text/plain": [
              "<IPython.core.display.HTML object>"
            ]
          },
          "metadata": {},
          "output_type": "display_data"
        },
        {
          "data": {
            "application/vnd.jupyter.widget-view+json": {
              "model_id": "467afce6d6504e4ba8a854c3a759b227",
              "version_major": 2,
              "version_minor": 0
            },
            "text/plain": [
              "VBox(children=(Label(value='0.006 MB of 0.024 MB uploaded (0.000 MB deduped)\\r'), FloatProgress(value=0.231420…"
            ]
          },
          "metadata": {},
          "output_type": "display_data"
        },
        {
          "data": {
            "text/html": [
              "<style>\n",
              "    table.wandb td:nth-child(1) { padding: 0 10px; text-align: left ; width: auto;} td:nth-child(2) {text-align: left ; width: 100%}\n",
              "    .wandb-row { display: flex; flex-direction: row; flex-wrap: wrap; justify-content: flex-start; width: 100% }\n",
              "    .wandb-col { display: flex; flex-direction: column; flex-basis: 100%; flex: 1; padding: 10px; }\n",
              "    </style>\n",
              "<div class=\"wandb-row\"><div class=\"wandb-col\"><h3>Run history:</h3><br/><table class=\"wandb\"><tr><td>epoch</td><td>▁▁▁▁▂▂▂▂▂▃▃▃▃▃▃▄▄▄▄▄▅▅▅▅▅▅▆▆▆▆▆▇▇▇▇▇▇███</td></tr><tr><td>loss</td><td>█▁▁▁▁▁▁▁▁▁▁▁▁▁▁▁▁▁▁▁▁▁▁▁▁▁▁▁▁▁▁▁▁▁▁▁▁▁▁▁</td></tr><tr><td>val_loss</td><td>██▃▁▁▂▃▂▁▁▁▁▁▁▁▁▁▁▁▁▁▁▁▁▁▁▁▁▁▁▁▁▁▁▁▁▁▁▁▁</td></tr></table><br/></div><div class=\"wandb-col\"><h3>Run summary:</h3><br/><table class=\"wandb\"><tr><td>best_epoch</td><td>51</td></tr><tr><td>best_val_loss</td><td>48.01895</td></tr><tr><td>epoch</td><td>61</td></tr><tr><td>loss</td><td>28.83398</td></tr><tr><td>val_loss</td><td>48.43286</td></tr></table><br/></div></div>"
            ],
            "text/plain": [
              "<IPython.core.display.HTML object>"
            ]
          },
          "metadata": {},
          "output_type": "display_data"
        },
        {
          "data": {
            "text/html": [
              " View run <strong style=\"color:#cdcd00\">rare-brook-175</strong> at: <a href='https://wandb.ai/avogadro/Deep%20learning%20for%20option%20pricing%20-%20rolling%20windows/runs/bbqh9vl0' target=\"_blank\">https://wandb.ai/avogadro/Deep%20learning%20for%20option%20pricing%20-%20rolling%20windows/runs/bbqh9vl0</a><br/>Synced 5 W&B file(s), 1 media file(s), 0 artifact file(s) and 0 other file(s)"
            ],
            "text/plain": [
              "<IPython.core.display.HTML object>"
            ]
          },
          "metadata": {},
          "output_type": "display_data"
        },
        {
          "data": {
            "text/html": [
              "Find logs at: <code>./wandb/run-20230413_132654-bbqh9vl0/logs</code>"
            ],
            "text/plain": [
              "<IPython.core.display.HTML object>"
            ]
          },
          "metadata": {},
          "output_type": "display_data"
        },
        {
          "metadata": {
            "tags": null
          },
          "name": "stdout",
          "output_type": "stream",
          "text": [
            "--- Predictions for test_start 2015-02-01 ---\n",
            "MSE: 46.673695\n",
            "RMSE: 6.831815\n",
            "-------------------------------------------\n",
            "Train shape: (541020, 10, 1), (541020, 4)\n",
            "Val shape: (57408, 10, 1), (57408, 4)\n",
            "Test shape: (74416, 10, 1), (74416, 4)\n"
          ]
        },
        {
          "data": {
            "text/html": [
              "Changes to your `wandb` environment variables will be ignored because your `wandb` session has already started. For more information on how to modify your settings with `wandb.init()` arguments, please refer to <a href='https://wandb.me/wandb-init' target=\"_blank\">the W&B docs</a>."
            ],
            "text/plain": [
              "<IPython.core.display.HTML object>"
            ]
          },
          "metadata": {},
          "output_type": "display_data"
        },
        {
          "data": {
            "text/html": [
              "Tracking run with wandb version 0.14.2"
            ],
            "text/plain": [
              "<IPython.core.display.HTML object>"
            ]
          },
          "metadata": {},
          "output_type": "display_data"
        },
        {
          "data": {
            "text/html": [
              "Run data is saved locally in <code>/content/wandb/run-20230413_134335-8i4bsbbr</code>"
            ],
            "text/plain": [
              "<IPython.core.display.HTML object>"
            ]
          },
          "metadata": {},
          "output_type": "display_data"
        },
        {
          "data": {
            "text/html": [
              "Syncing run <strong><a href='https://wandb.ai/avogadro/Deep%20learning%20for%20option%20pricing%20-%20rolling%20windows/runs/8i4bsbbr' target=\"_blank\">dashing-brook-176</a></strong> to <a href='https://wandb.ai/avogadro/Deep%20learning%20for%20option%20pricing%20-%20rolling%20windows' target=\"_blank\">Weights & Biases</a> (<a href='https://wandb.me/run' target=\"_blank\">docs</a>)<br/>"
            ],
            "text/plain": [
              "<IPython.core.display.HTML object>"
            ]
          },
          "metadata": {},
          "output_type": "display_data"
        },
        {
          "data": {
            "text/html": [
              " View project at <a href='https://wandb.ai/avogadro/Deep%20learning%20for%20option%20pricing%20-%20rolling%20windows' target=\"_blank\">https://wandb.ai/avogadro/Deep%20learning%20for%20option%20pricing%20-%20rolling%20windows</a>"
            ],
            "text/plain": [
              "<IPython.core.display.HTML object>"
            ]
          },
          "metadata": {},
          "output_type": "display_data"
        },
        {
          "data": {
            "text/html": [
              " View run at <a href='https://wandb.ai/avogadro/Deep%20learning%20for%20option%20pricing%20-%20rolling%20windows/runs/8i4bsbbr' target=\"_blank\">https://wandb.ai/avogadro/Deep%20learning%20for%20option%20pricing%20-%20rolling%20windows/runs/8i4bsbbr</a>"
            ],
            "text/plain": [
              "<IPython.core.display.HTML object>"
            ]
          },
          "metadata": {},
          "output_type": "display_data"
        },
        {
          "metadata": {
            "tags": null
          },
          "name": "stdout",
          "output_type": "stream",
          "text": [
            "Model: \"model\"\n",
            "__________________________________________________________________________________________________\n",
            " Layer (type)                   Output Shape         Param #     Connected to                     \n",
            "==================================================================================================\n",
            " input_1 (InputLayer)           [(None, 10, 1)]      0           []                               \n",
            "                                                                                                  \n",
            " sequential (Sequential)        (None, 16)           2016        ['input_1[0][0]',                \n",
            "                                                                  'input_1[0][0]',                \n",
            "                                                                  'input_1[0][0]',                \n",
            "                                                                  'input_1[0][0]',                \n",
            "                                                                  'input_1[0][0]']                \n",
            "                                                                                                  \n",
            " input_2 (InputLayer)           [(None, 4)]          0           []                               \n",
            "                                                                                                  \n",
            " concatenate (Concatenate)      (None, 84)           0           ['sequential[0][0]',             \n",
            "                                                                  'sequential[1][0]',             \n",
            "                                                                  'sequential[2][0]',             \n",
            "                                                                  'sequential[3][0]',             \n",
            "                                                                  'sequential[4][0]',             \n",
            "                                                                  'input_2[0][0]']                \n",
            "                                                                                                  \n",
            " dense (Dense)                  (None, 600)          51000       ['concatenate[0][0]']            \n",
            "                                                                                                  \n",
            " batch_normalization (BatchNorm  (None, 600)         2400        ['dense[0][0]']                  \n",
            " alization)                                                                                       \n",
            "                                                                                                  \n",
            " leaky_re_lu (LeakyReLU)        (None, 600)          0           ['batch_normalization[0][0]']    \n",
            "                                                                                                  \n",
            " dense_1 (Dense)                (None, 600)          360600      ['leaky_re_lu[0][0]']            \n",
            "                                                                                                  \n",
            " batch_normalization_1 (BatchNo  (None, 600)         2400        ['dense_1[0][0]']                \n",
            " rmalization)                                                                                     \n",
            "                                                                                                  \n",
            " leaky_re_lu_1 (LeakyReLU)      (None, 600)          0           ['batch_normalization_1[0][0]']  \n",
            "                                                                                                  \n",
            " dense_2 (Dense)                (None, 600)          360600      ['leaky_re_lu_1[0][0]']          \n",
            "                                                                                                  \n",
            " batch_normalization_2 (BatchNo  (None, 600)         2400        ['dense_2[0][0]']                \n",
            " rmalization)                                                                                     \n",
            "                                                                                                  \n",
            " leaky_re_lu_2 (LeakyReLU)      (None, 600)          0           ['batch_normalization_2[0][0]']  \n",
            "                                                                                                  \n",
            " dense_3 (Dense)                (None, 600)          360600      ['leaky_re_lu_2[0][0]']          \n",
            "                                                                                                  \n",
            " batch_normalization_3 (BatchNo  (None, 600)         2400        ['dense_3[0][0]']                \n",
            " rmalization)                                                                                     \n",
            "                                                                                                  \n",
            " leaky_re_lu_3 (LeakyReLU)      (None, 600)          0           ['batch_normalization_3[0][0]']  \n",
            "                                                                                                  \n",
            " dense_4 (Dense)                (None, 600)          360600      ['leaky_re_lu_3[0][0]']          \n",
            "                                                                                                  \n",
            " batch_normalization_4 (BatchNo  (None, 600)         2400        ['dense_4[0][0]']                \n",
            " rmalization)                                                                                     \n",
            "                                                                                                  \n",
            " leaky_re_lu_4 (LeakyReLU)      (None, 600)          0           ['batch_normalization_4[0][0]']  \n",
            "                                                                                                  \n",
            " dense_5 (Dense)                (None, 600)          360600      ['leaky_re_lu_4[0][0]']          \n",
            "                                                                                                  \n",
            " batch_normalization_5 (BatchNo  (None, 600)         2400        ['dense_5[0][0]']                \n",
            " rmalization)                                                                                     \n",
            "                                                                                                  \n",
            " leaky_re_lu_5 (LeakyReLU)      (None, 600)          0           ['batch_normalization_5[0][0]']  \n",
            "                                                                                                  \n",
            " dense_6 (Dense)                (None, 1)            601         ['leaky_re_lu_5[0][0]']          \n",
            "                                                                                                  \n",
            "==================================================================================================\n",
            "Total params: 1,871,017\n",
            "Trainable params: 1,863,817\n",
            "Non-trainable params: 7,200\n",
            "__________________________________________________________________________________________________\n",
            "Train shape: (496184, 10, 1), (496184, 10, 1)\n",
            "Val shape: (61101, 10, 1), (61101, 10, 1)\n",
            "Epoch 1/1000\n",
            "122/122 [==============================] - 58s 133ms/step - loss: 73105.5859 - val_loss: 68256.9844\n",
            "Epoch 2/1000\n",
            "122/122 [==============================] - 15s 84ms/step - loss: 1382.0671 - val_loss: 65624.7734\n",
            "Epoch 3/1000\n",
            "122/122 [==============================] - 15s 85ms/step - loss: 129.1826 - val_loss: 35345.7148\n",
            "Epoch 4/1000\n",
            "122/122 [==============================] - 15s 85ms/step - loss: 74.7469 - val_loss: 22639.2988\n",
            "Epoch 5/1000\n",
            "122/122 [==============================] - 14s 75ms/step - loss: 60.5857 - val_loss: 25294.3555\n",
            "Epoch 6/1000\n",
            "122/122 [==============================] - 15s 83ms/step - loss: 77.7239 - val_loss: 11572.2422\n",
            "Epoch 7/1000\n",
            "122/122 [==============================] - 14s 76ms/step - loss: 51.6296 - val_loss: 32064.3320\n",
            "Epoch 8/1000\n",
            "122/122 [==============================] - 15s 83ms/step - loss: 52.4727 - val_loss: 2417.7952\n",
            "Epoch 9/1000\n",
            "122/122 [==============================] - 14s 76ms/step - loss: 55.2276 - val_loss: 5216.6641\n",
            "Epoch 10/1000\n",
            "122/122 [==============================] - 14s 77ms/step - loss: 59.8593 - val_loss: 11261.4756\n",
            "Epoch 11/1000\n",
            "122/122 [==============================] - 15s 85ms/step - loss: 38.6180 - val_loss: 1096.5629\n",
            "Epoch 12/1000\n",
            "122/122 [==============================] - 14s 77ms/step - loss: 54.8337 - val_loss: 1589.2704\n",
            "Epoch 13/1000\n",
            "122/122 [==============================] - 14s 77ms/step - loss: 39.5930 - val_loss: 3836.4377\n",
            "Epoch 14/1000\n",
            "122/122 [==============================] - 14s 77ms/step - loss: 34.4931 - val_loss: 2111.5967\n",
            "Epoch 15/1000\n",
            "122/122 [==============================] - 16s 86ms/step - loss: 32.7968 - val_loss: 534.5762\n",
            "Epoch 16/1000\n",
            "122/122 [==============================] - 15s 77ms/step - loss: 31.0213 - val_loss: 1684.8885\n",
            "Epoch 17/1000\n",
            "122/122 [==============================] - 14s 76ms/step - loss: 34.9072 - val_loss: 1320.8392\n",
            "Epoch 18/1000\n",
            "122/122 [==============================] - 14s 77ms/step - loss: 30.8570 - val_loss: 642.6531\n",
            "Epoch 19/1000\n",
            "122/122 [==============================] - 14s 76ms/step - loss: 32.5341 - val_loss: 757.7352\n",
            "Epoch 20/1000\n",
            "122/122 [==============================] - 15s 83ms/step - loss: 27.3273 - val_loss: 243.2259\n",
            "Epoch 21/1000\n",
            "122/122 [==============================] - 14s 75ms/step - loss: 32.9974 - val_loss: 413.2025\n",
            "Epoch 22/1000\n",
            "122/122 [==============================] - 15s 82ms/step - loss: 34.6608 - val_loss: 163.0604\n",
            "Epoch 23/1000\n",
            "122/122 [==============================] - 14s 75ms/step - loss: 28.3577 - val_loss: 255.2431\n",
            "Epoch 24/1000\n",
            "122/122 [==============================] - 15s 83ms/step - loss: 33.9401 - val_loss: 83.9312\n",
            "Epoch 25/1000\n",
            "122/122 [==============================] - 14s 76ms/step - loss: 32.2406 - val_loss: 133.1816\n",
            "Epoch 26/1000\n",
            "122/122 [==============================] - 15s 83ms/step - loss: 30.4062 - val_loss: 50.5584\n",
            "Epoch 27/1000\n",
            "122/122 [==============================] - 14s 76ms/step - loss: 34.5122 - val_loss: 61.4172\n",
            "Epoch 28/1000\n",
            "122/122 [==============================] - 14s 76ms/step - loss: 28.1895 - val_loss: 62.5100\n",
            "Epoch 29/1000\n",
            "122/122 [==============================] - 14s 75ms/step - loss: 32.7179 - val_loss: 54.2965\n",
            "Epoch 30/1000\n",
            "122/122 [==============================] - 14s 76ms/step - loss: 26.1117 - val_loss: 64.6229\n",
            "Epoch 31/1000\n",
            "122/122 [==============================] - 14s 75ms/step - loss: 25.2580 - val_loss: 60.4039\n",
            "Epoch 32/1000\n",
            "122/122 [==============================] - 14s 75ms/step - loss: 31.2806 - val_loss: 93.1363\n",
            "Epoch 33/1000\n",
            "122/122 [==============================] - 14s 75ms/step - loss: 26.2717 - val_loss: 68.2747\n",
            "Epoch 34/1000\n",
            "122/122 [==============================] - 15s 84ms/step - loss: 24.3361 - val_loss: 49.8008\n",
            "Epoch 35/1000\n",
            "122/122 [==============================] - 15s 85ms/step - loss: 29.6307 - val_loss: 48.9264\n",
            "Epoch 36/1000\n",
            "122/122 [==============================] - 15s 84ms/step - loss: 29.6328 - val_loss: 44.9636\n",
            "Epoch 37/1000\n",
            "122/122 [==============================] - 15s 84ms/step - loss: 30.9418 - val_loss: 44.7175\n",
            "Epoch 38/1000\n",
            "122/122 [==============================] - 14s 76ms/step - loss: 29.4326 - val_loss: 48.4826\n",
            "Epoch 39/1000\n",
            "122/122 [==============================] - 14s 75ms/step - loss: 32.0409 - val_loss: 46.8763\n",
            "Epoch 40/1000\n",
            "122/122 [==============================] - 15s 83ms/step - loss: 29.1496 - val_loss: 44.4611\n",
            "Epoch 41/1000\n",
            "122/122 [==============================] - 14s 76ms/step - loss: 30.1834 - val_loss: 44.6646\n",
            "Epoch 42/1000\n",
            "122/122 [==============================] - 15s 83ms/step - loss: 27.4619 - val_loss: 43.8185\n",
            "Epoch 43/1000\n",
            "122/122 [==============================] - 15s 84ms/step - loss: 26.9148 - val_loss: 43.6428\n",
            "Epoch 44/1000\n",
            "122/122 [==============================] - 14s 75ms/step - loss: 33.9369 - val_loss: 44.4222\n",
            "Epoch 45/1000\n",
            "122/122 [==============================] - 14s 75ms/step - loss: 28.5780 - val_loss: 45.4114\n",
            "Epoch 46/1000\n",
            "122/122 [==============================] - 14s 75ms/step - loss: 30.7651 - val_loss: 45.5036\n",
            "Epoch 47/1000\n",
            "122/122 [==============================] - 14s 76ms/step - loss: 25.3233 - val_loss: 45.3676\n",
            "Epoch 48/1000\n",
            "122/122 [==============================] - 14s 76ms/step - loss: 28.0781 - val_loss: 44.9394\n",
            "Epoch 49/1000\n",
            "122/122 [==============================] - 15s 77ms/step - loss: 30.6164 - val_loss: 45.2254\n",
            "Epoch 50/1000\n",
            "122/122 [==============================] - 14s 77ms/step - loss: 32.2971 - val_loss: 44.4563\n",
            "Epoch 51/1000\n",
            "122/122 [==============================] - 14s 76ms/step - loss: 27.8718 - val_loss: 44.5619\n",
            "Epoch 52/1000\n",
            "122/122 [==============================] - 14s 76ms/step - loss: 23.8242 - val_loss: 44.5071\n",
            "Epoch 53/1000\n",
            "122/122 [==============================] - 14s 76ms/step - loss: 30.6083 - val_loss: 44.6888\n",
            "Epoch 54/1000\n",
            "122/122 [==============================] - 14s 76ms/step - loss: 26.7656 - val_loss: 44.1482\n",
            "Epoch 55/1000\n",
            "122/122 [==============================] - 14s 77ms/step - loss: 28.7750 - val_loss: 44.3607\n",
            "Epoch 56/1000\n",
            "122/122 [==============================] - 15s 78ms/step - loss: 28.5538 - val_loss: 44.6572\n",
            "Epoch 57/1000\n",
            "122/122 [==============================] - 15s 77ms/step - loss: 27.6334 - val_loss: 44.6726\n",
            "Epoch 58/1000\n",
            "122/122 [==============================] - 14s 77ms/step - loss: 29.0694 - val_loss: 44.7525\n",
            "Epoch 59/1000\n",
            "122/122 [==============================] - 14s 77ms/step - loss: 25.2752 - val_loss: 44.5078\n",
            "Epoch 60/1000\n",
            "122/122 [==============================] - 14s 76ms/step - loss: 29.6552 - val_loss: 44.8043\n",
            "Epoch 61/1000\n",
            "122/122 [==============================] - 14s 78ms/step - loss: 27.8075 - val_loss: 44.4525\n",
            "Epoch 62/1000\n",
            "122/122 [==============================] - 14s 77ms/step - loss: 28.6760 - val_loss: 44.5679\n"
          ]
        },
        {
          "data": {
            "text/html": [
              "Waiting for W&B process to finish... <strong style=\"color:green\">(success).</strong>"
            ],
            "text/plain": [
              "<IPython.core.display.HTML object>"
            ]
          },
          "metadata": {},
          "output_type": "display_data"
        },
        {
          "data": {
            "application/vnd.jupyter.widget-view+json": {
              "model_id": "5d97ac3cfed043f88dc4cb7230225f9c",
              "version_major": 2,
              "version_minor": 0
            },
            "text/plain": [
              "VBox(children=(Label(value='0.006 MB of 0.006 MB uploaded (0.000 MB deduped)\\r'), FloatProgress(value=1.0, max…"
            ]
          },
          "metadata": {},
          "output_type": "display_data"
        },
        {
          "data": {
            "text/html": [
              "<style>\n",
              "    table.wandb td:nth-child(1) { padding: 0 10px; text-align: left ; width: auto;} td:nth-child(2) {text-align: left ; width: 100%}\n",
              "    .wandb-row { display: flex; flex-direction: row; flex-wrap: wrap; justify-content: flex-start; width: 100% }\n",
              "    .wandb-col { display: flex; flex-direction: column; flex-basis: 100%; flex: 1; padding: 10px; }\n",
              "    </style>\n",
              "<div class=\"wandb-row\"><div class=\"wandb-col\"><h3>Run history:</h3><br/><table class=\"wandb\"><tr><td>epoch</td><td>▁▁▁▁▂▂▂▂▂▃▃▃▃▃▃▄▄▄▄▄▅▅▅▅▅▅▆▆▆▆▆▇▇▇▇▇▇███</td></tr><tr><td>loss</td><td>█▁▁▁▁▁▁▁▁▁▁▁▁▁▁▁▁▁▁▁▁▁▁▁▁▁▁▁▁▁▁▁▁▁▁▁▁▁▁▁</td></tr><tr><td>val_loss</td><td>██▃▄▄▁▂▁▁▁▁▁▁▁▁▁▁▁▁▁▁▁▁▁▁▁▁▁▁▁▁▁▁▁▁▁▁▁▁▁</td></tr></table><br/></div><div class=\"wandb-col\"><h3>Run summary:</h3><br/><table class=\"wandb\"><tr><td>best_epoch</td><td>42</td></tr><tr><td>best_val_loss</td><td>43.64283</td></tr><tr><td>epoch</td><td>61</td></tr><tr><td>loss</td><td>28.67597</td></tr><tr><td>val_loss</td><td>44.56792</td></tr></table><br/></div></div>"
            ],
            "text/plain": [
              "<IPython.core.display.HTML object>"
            ]
          },
          "metadata": {},
          "output_type": "display_data"
        },
        {
          "data": {
            "text/html": [
              " View run <strong style=\"color:#cdcd00\">dashing-brook-176</strong> at: <a href='https://wandb.ai/avogadro/Deep%20learning%20for%20option%20pricing%20-%20rolling%20windows/runs/8i4bsbbr' target=\"_blank\">https://wandb.ai/avogadro/Deep%20learning%20for%20option%20pricing%20-%20rolling%20windows/runs/8i4bsbbr</a><br/>Synced 5 W&B file(s), 1 media file(s), 0 artifact file(s) and 0 other file(s)"
            ],
            "text/plain": [
              "<IPython.core.display.HTML object>"
            ]
          },
          "metadata": {},
          "output_type": "display_data"
        },
        {
          "data": {
            "text/html": [
              "Find logs at: <code>./wandb/run-20230413_134335-8i4bsbbr/logs</code>"
            ],
            "text/plain": [
              "<IPython.core.display.HTML object>"
            ]
          },
          "metadata": {},
          "output_type": "display_data"
        },
        {
          "metadata": {
            "tags": null
          },
          "name": "stdout",
          "output_type": "stream",
          "text": [
            "--- Predictions for test_start 2015-03-01 ---\n",
            "MSE: 293.1161\n",
            "RMSE: 17.120632\n",
            "-------------------------------------------\n",
            "Train shape: (556765, 10, 1), (556765, 4)\n",
            "Val shape: (74398, 10, 1), (74398, 4)\n",
            "Test shape: (71379, 10, 1), (71379, 4)\n"
          ]
        },
        {
          "data": {
            "text/html": [
              "Changes to your `wandb` environment variables will be ignored because your `wandb` session has already started. For more information on how to modify your settings with `wandb.init()` arguments, please refer to <a href='https://wandb.me/wandb-init' target=\"_blank\">the W&B docs</a>."
            ],
            "text/plain": [
              "<IPython.core.display.HTML object>"
            ]
          },
          "metadata": {},
          "output_type": "display_data"
        },
        {
          "data": {
            "text/html": [
              "Tracking run with wandb version 0.14.2"
            ],
            "text/plain": [
              "<IPython.core.display.HTML object>"
            ]
          },
          "metadata": {},
          "output_type": "display_data"
        },
        {
          "data": {
            "text/html": [
              "Run data is saved locally in <code>/content/wandb/run-20230413_140000-aw4j6vqm</code>"
            ],
            "text/plain": [
              "<IPython.core.display.HTML object>"
            ]
          },
          "metadata": {},
          "output_type": "display_data"
        },
        {
          "data": {
            "text/html": [
              "Syncing run <strong><a href='https://wandb.ai/avogadro/Deep%20learning%20for%20option%20pricing%20-%20rolling%20windows/runs/aw4j6vqm' target=\"_blank\">dainty-cloud-177</a></strong> to <a href='https://wandb.ai/avogadro/Deep%20learning%20for%20option%20pricing%20-%20rolling%20windows' target=\"_blank\">Weights & Biases</a> (<a href='https://wandb.me/run' target=\"_blank\">docs</a>)<br/>"
            ],
            "text/plain": [
              "<IPython.core.display.HTML object>"
            ]
          },
          "metadata": {},
          "output_type": "display_data"
        },
        {
          "data": {
            "text/html": [
              " View project at <a href='https://wandb.ai/avogadro/Deep%20learning%20for%20option%20pricing%20-%20rolling%20windows' target=\"_blank\">https://wandb.ai/avogadro/Deep%20learning%20for%20option%20pricing%20-%20rolling%20windows</a>"
            ],
            "text/plain": [
              "<IPython.core.display.HTML object>"
            ]
          },
          "metadata": {},
          "output_type": "display_data"
        },
        {
          "data": {
            "text/html": [
              " View run at <a href='https://wandb.ai/avogadro/Deep%20learning%20for%20option%20pricing%20-%20rolling%20windows/runs/aw4j6vqm' target=\"_blank\">https://wandb.ai/avogadro/Deep%20learning%20for%20option%20pricing%20-%20rolling%20windows/runs/aw4j6vqm</a>"
            ],
            "text/plain": [
              "<IPython.core.display.HTML object>"
            ]
          },
          "metadata": {},
          "output_type": "display_data"
        },
        {
          "metadata": {
            "tags": null
          },
          "name": "stdout",
          "output_type": "stream",
          "text": [
            "Model: \"model\"\n",
            "__________________________________________________________________________________________________\n",
            " Layer (type)                   Output Shape         Param #     Connected to                     \n",
            "==================================================================================================\n",
            " input_1 (InputLayer)           [(None, 10, 1)]      0           []                               \n",
            "                                                                                                  \n",
            " sequential (Sequential)        (None, 16)           2016        ['input_1[0][0]',                \n",
            "                                                                  'input_1[0][0]',                \n",
            "                                                                  'input_1[0][0]',                \n",
            "                                                                  'input_1[0][0]',                \n",
            "                                                                  'input_1[0][0]']                \n",
            "                                                                                                  \n",
            " input_2 (InputLayer)           [(None, 4)]          0           []                               \n",
            "                                                                                                  \n",
            " concatenate (Concatenate)      (None, 84)           0           ['sequential[0][0]',             \n",
            "                                                                  'sequential[1][0]',             \n",
            "                                                                  'sequential[2][0]',             \n",
            "                                                                  'sequential[3][0]',             \n",
            "                                                                  'sequential[4][0]',             \n",
            "                                                                  'input_2[0][0]']                \n",
            "                                                                                                  \n",
            " dense (Dense)                  (None, 600)          51000       ['concatenate[0][0]']            \n",
            "                                                                                                  \n",
            " batch_normalization (BatchNorm  (None, 600)         2400        ['dense[0][0]']                  \n",
            " alization)                                                                                       \n",
            "                                                                                                  \n",
            " leaky_re_lu (LeakyReLU)        (None, 600)          0           ['batch_normalization[0][0]']    \n",
            "                                                                                                  \n",
            " dense_1 (Dense)                (None, 600)          360600      ['leaky_re_lu[0][0]']            \n",
            "                                                                                                  \n",
            " batch_normalization_1 (BatchNo  (None, 600)         2400        ['dense_1[0][0]']                \n",
            " rmalization)                                                                                     \n",
            "                                                                                                  \n",
            " leaky_re_lu_1 (LeakyReLU)      (None, 600)          0           ['batch_normalization_1[0][0]']  \n",
            "                                                                                                  \n",
            " dense_2 (Dense)                (None, 600)          360600      ['leaky_re_lu_1[0][0]']          \n",
            "                                                                                                  \n",
            " batch_normalization_2 (BatchNo  (None, 600)         2400        ['dense_2[0][0]']                \n",
            " rmalization)                                                                                     \n",
            "                                                                                                  \n",
            " leaky_re_lu_2 (LeakyReLU)      (None, 600)          0           ['batch_normalization_2[0][0]']  \n",
            "                                                                                                  \n",
            " dense_3 (Dense)                (None, 600)          360600      ['leaky_re_lu_2[0][0]']          \n",
            "                                                                                                  \n",
            " batch_normalization_3 (BatchNo  (None, 600)         2400        ['dense_3[0][0]']                \n",
            " rmalization)                                                                                     \n",
            "                                                                                                  \n",
            " leaky_re_lu_3 (LeakyReLU)      (None, 600)          0           ['batch_normalization_3[0][0]']  \n",
            "                                                                                                  \n",
            " dense_4 (Dense)                (None, 600)          360600      ['leaky_re_lu_3[0][0]']          \n",
            "                                                                                                  \n",
            " batch_normalization_4 (BatchNo  (None, 600)         2400        ['dense_4[0][0]']                \n",
            " rmalization)                                                                                     \n",
            "                                                                                                  \n",
            " leaky_re_lu_4 (LeakyReLU)      (None, 600)          0           ['batch_normalization_4[0][0]']  \n",
            "                                                                                                  \n",
            " dense_5 (Dense)                (None, 600)          360600      ['leaky_re_lu_4[0][0]']          \n",
            "                                                                                                  \n",
            " batch_normalization_5 (BatchNo  (None, 600)         2400        ['dense_5[0][0]']                \n",
            " rmalization)                                                                                     \n",
            "                                                                                                  \n",
            " leaky_re_lu_5 (LeakyReLU)      (None, 600)          0           ['batch_normalization_5[0][0]']  \n",
            "                                                                                                  \n",
            " dense_6 (Dense)                (None, 1)            601         ['leaky_re_lu_5[0][0]']          \n",
            "                                                                                                  \n",
            "==================================================================================================\n",
            "Total params: 1,871,017\n",
            "Trainable params: 1,863,817\n",
            "Non-trainable params: 7,200\n",
            "__________________________________________________________________________________________________\n",
            "Train shape: (496184, 10, 1), (496184, 10, 1)\n",
            "Val shape: (61101, 10, 1), (61101, 10, 1)\n",
            "Epoch 1/1000\n",
            "122/122 [==============================] - 59s 133ms/step - loss: 73676.5000 - val_loss: 87537.5625\n",
            "Epoch 2/1000\n",
            "122/122 [==============================] - 14s 76ms/step - loss: 1417.9374 - val_loss: 93110.1016\n",
            "Epoch 3/1000\n",
            "122/122 [==============================] - 15s 84ms/step - loss: 150.8048 - val_loss: 37527.9219\n",
            "Epoch 4/1000\n",
            "122/122 [==============================] - 15s 85ms/step - loss: 93.0010 - val_loss: 16444.9180\n",
            "Epoch 5/1000\n",
            "122/122 [==============================] - 15s 85ms/step - loss: 68.2672 - val_loss: 2613.1475\n",
            "Epoch 6/1000\n",
            "122/122 [==============================] - 15s 86ms/step - loss: 70.3343 - val_loss: 525.6074\n",
            "Epoch 7/1000\n",
            "122/122 [==============================] - 14s 77ms/step - loss: 48.0823 - val_loss: 9413.9414\n",
            "Epoch 8/1000\n",
            "122/122 [==============================] - 14s 77ms/step - loss: 56.9032 - val_loss: 918.5007\n",
            "Epoch 9/1000\n",
            "122/122 [==============================] - 15s 84ms/step - loss: 42.4124 - val_loss: 307.6558\n",
            "Epoch 10/1000\n",
            "122/122 [==============================] - 14s 76ms/step - loss: 41.2250 - val_loss: 6212.3540\n",
            "Epoch 11/1000\n",
            "122/122 [==============================] - 14s 76ms/step - loss: 44.7705 - val_loss: 1302.7729\n",
            "Epoch 12/1000\n",
            "122/122 [==============================] - 15s 84ms/step - loss: 42.4696 - val_loss: 138.0992\n",
            "Epoch 13/1000\n",
            "122/122 [==============================] - 14s 77ms/step - loss: 39.8538 - val_loss: 219.8625\n",
            "Epoch 14/1000\n",
            "122/122 [==============================] - 15s 78ms/step - loss: 35.1887 - val_loss: 248.1679\n",
            "Epoch 15/1000\n",
            "122/122 [==============================] - 14s 77ms/step - loss: 37.1049 - val_loss: 150.6826\n",
            "Epoch 16/1000\n",
            "122/122 [==============================] - 15s 78ms/step - loss: 32.6707 - val_loss: 247.9787\n",
            "Epoch 17/1000\n",
            "122/122 [==============================] - 15s 85ms/step - loss: 28.7967 - val_loss: 102.0593\n",
            "Epoch 18/1000\n",
            "122/122 [==============================] - 14s 78ms/step - loss: 26.5920 - val_loss: 102.7949\n",
            "Epoch 19/1000\n",
            "122/122 [==============================] - 15s 85ms/step - loss: 33.3031 - val_loss: 88.0129\n",
            "Epoch 20/1000\n",
            "122/122 [==============================] - 16s 87ms/step - loss: 28.9054 - val_loss: 74.1859\n",
            "Epoch 21/1000\n",
            "122/122 [==============================] - 16s 87ms/step - loss: 32.0031 - val_loss: 59.8878\n",
            "Epoch 22/1000\n",
            "122/122 [==============================] - 14s 78ms/step - loss: 30.1058 - val_loss: 71.8785\n",
            "Epoch 23/1000\n",
            "122/122 [==============================] - 14s 77ms/step - loss: 35.2144 - val_loss: 94.3280\n",
            "Epoch 24/1000\n",
            "122/122 [==============================] - 15s 78ms/step - loss: 31.6501 - val_loss: 93.8976\n",
            "Epoch 25/1000\n",
            "122/122 [==============================] - 15s 85ms/step - loss: 24.8355 - val_loss: 51.5843\n",
            "Epoch 26/1000\n",
            "122/122 [==============================] - 15s 78ms/step - loss: 29.4520 - val_loss: 57.7348\n",
            "Epoch 27/1000\n",
            "122/122 [==============================] - 15s 78ms/step - loss: 28.0008 - val_loss: 55.5281\n",
            "Epoch 28/1000\n",
            "122/122 [==============================] - 14s 78ms/step - loss: 30.8429 - val_loss: 53.7068\n",
            "Epoch 29/1000\n",
            "122/122 [==============================] - 15s 78ms/step - loss: 29.8007 - val_loss: 60.7012\n",
            "Epoch 30/1000\n",
            "122/122 [==============================] - 14s 78ms/step - loss: 27.9088 - val_loss: 58.4218\n",
            "Epoch 31/1000\n",
            "122/122 [==============================] - 15s 78ms/step - loss: 24.8157 - val_loss: 54.3373\n",
            "Epoch 32/1000\n",
            "122/122 [==============================] - 16s 86ms/step - loss: 27.9665 - val_loss: 46.9845\n",
            "Epoch 33/1000\n",
            "122/122 [==============================] - 16s 85ms/step - loss: 29.8147 - val_loss: 46.9440\n",
            "Epoch 34/1000\n",
            "122/122 [==============================] - 16s 87ms/step - loss: 25.3347 - val_loss: 46.8260\n",
            "Epoch 35/1000\n",
            "122/122 [==============================] - 14s 77ms/step - loss: 31.0551 - val_loss: 48.2032\n",
            "Epoch 36/1000\n",
            "122/122 [==============================] - 16s 86ms/step - loss: 30.1529 - val_loss: 46.5889\n",
            "Epoch 37/1000\n",
            "122/122 [==============================] - 15s 77ms/step - loss: 28.1970 - val_loss: 48.3520\n",
            "Epoch 38/1000\n",
            "122/122 [==============================] - 15s 84ms/step - loss: 29.2215 - val_loss: 45.6267\n",
            "Epoch 39/1000\n",
            "122/122 [==============================] - 15s 77ms/step - loss: 27.4668 - val_loss: 46.4801\n",
            "Epoch 40/1000\n",
            "122/122 [==============================] - 15s 79ms/step - loss: 28.8659 - val_loss: 46.3415\n",
            "Epoch 41/1000\n",
            "122/122 [==============================] - 15s 78ms/step - loss: 27.0748 - val_loss: 46.2831\n",
            "Epoch 42/1000\n",
            "122/122 [==============================] - 14s 77ms/step - loss: 24.2622 - val_loss: 45.9812\n",
            "Epoch 43/1000\n",
            "122/122 [==============================] - 15s 77ms/step - loss: 23.3809 - val_loss: 46.5547\n",
            "Epoch 44/1000\n",
            "122/122 [==============================] - 14s 77ms/step - loss: 25.7603 - val_loss: 46.7765\n",
            "Epoch 45/1000\n",
            "122/122 [==============================] - 15s 78ms/step - loss: 28.3097 - val_loss: 45.9792\n",
            "Epoch 46/1000\n",
            "122/122 [==============================] - 14s 77ms/step - loss: 26.7528 - val_loss: 46.4462\n",
            "Epoch 47/1000\n",
            "122/122 [==============================] - 15s 77ms/step - loss: 30.2054 - val_loss: 45.8253\n",
            "Epoch 48/1000\n",
            "122/122 [==============================] - 15s 78ms/step - loss: 26.1905 - val_loss: 45.7951\n",
            "Epoch 49/1000\n",
            "122/122 [==============================] - 15s 78ms/step - loss: 24.7579 - val_loss: 45.7808\n",
            "Epoch 50/1000\n",
            "122/122 [==============================] - 14s 77ms/step - loss: 27.5481 - val_loss: 45.8940\n",
            "Epoch 51/1000\n",
            "122/122 [==============================] - 14s 77ms/step - loss: 27.7176 - val_loss: 46.0989\n",
            "Epoch 52/1000\n",
            "122/122 [==============================] - 15s 77ms/step - loss: 26.0290 - val_loss: 46.0711\n",
            "Epoch 53/1000\n",
            "122/122 [==============================] - 15s 78ms/step - loss: 31.0007 - val_loss: 46.2095\n",
            "Epoch 54/1000\n",
            "122/122 [==============================] - 15s 78ms/step - loss: 30.5859 - val_loss: 45.9823\n",
            "Epoch 55/1000\n",
            "122/122 [==============================] - 15s 78ms/step - loss: 27.1187 - val_loss: 46.1754\n",
            "Epoch 56/1000\n",
            "122/122 [==============================] - 15s 78ms/step - loss: 27.6020 - val_loss: 46.4582\n",
            "Epoch 57/1000\n",
            "122/122 [==============================] - 15s 78ms/step - loss: 30.0200 - val_loss: 46.2627\n",
            "Epoch 58/1000\n",
            "122/122 [==============================] - 15s 78ms/step - loss: 27.1207 - val_loss: 46.3757\n"
          ]
        },
        {
          "data": {
            "text/html": [
              "Waiting for W&B process to finish... <strong style=\"color:green\">(success).</strong>"
            ],
            "text/plain": [
              "<IPython.core.display.HTML object>"
            ]
          },
          "metadata": {},
          "output_type": "display_data"
        },
        {
          "data": {
            "application/vnd.jupyter.widget-view+json": {
              "model_id": "e4e5f25eb6374ce5b50e0113c8d8f59f",
              "version_major": 2,
              "version_minor": 0
            },
            "text/plain": [
              "VBox(children=(Label(value='0.006 MB of 0.006 MB uploaded (0.000 MB deduped)\\r'), FloatProgress(value=1.0, max…"
            ]
          },
          "metadata": {},
          "output_type": "display_data"
        },
        {
          "data": {
            "text/html": [
              "<style>\n",
              "    table.wandb td:nth-child(1) { padding: 0 10px; text-align: left ; width: auto;} td:nth-child(2) {text-align: left ; width: 100%}\n",
              "    .wandb-row { display: flex; flex-direction: row; flex-wrap: wrap; justify-content: flex-start; width: 100% }\n",
              "    .wandb-col { display: flex; flex-direction: column; flex-basis: 100%; flex: 1; padding: 10px; }\n",
              "    </style>\n",
              "<div class=\"wandb-row\"><div class=\"wandb-col\"><h3>Run history:</h3><br/><table class=\"wandb\"><tr><td>epoch</td><td>▁▁▁▁▂▂▂▂▂▃▃▃▃▃▃▄▄▄▄▄▅▅▅▅▅▅▆▆▆▆▆▇▇▇▇▇▇███</td></tr><tr><td>loss</td><td>█▁▁▁▁▁▁▁▁▁▁▁▁▁▁▁▁▁▁▁▁▁▁▁▁▁▁▁▁▁▁▁▁▁▁▁▁▁▁▁</td></tr><tr><td>val_loss</td><td>██▄▁▁▁▁▁▁▁▁▁▁▁▁▁▁▁▁▁▁▁▁▁▁▁▁▁▁▁▁▁▁▁▁▁▁▁▁▁</td></tr></table><br/></div><div class=\"wandb-col\"><h3>Run summary:</h3><br/><table class=\"wandb\"><tr><td>best_epoch</td><td>37</td></tr><tr><td>best_val_loss</td><td>45.62666</td></tr><tr><td>epoch</td><td>57</td></tr><tr><td>loss</td><td>27.12071</td></tr><tr><td>val_loss</td><td>46.37572</td></tr></table><br/></div></div>"
            ],
            "text/plain": [
              "<IPython.core.display.HTML object>"
            ]
          },
          "metadata": {},
          "output_type": "display_data"
        },
        {
          "data": {
            "text/html": [
              " View run <strong style=\"color:#cdcd00\">dainty-cloud-177</strong> at: <a href='https://wandb.ai/avogadro/Deep%20learning%20for%20option%20pricing%20-%20rolling%20windows/runs/aw4j6vqm' target=\"_blank\">https://wandb.ai/avogadro/Deep%20learning%20for%20option%20pricing%20-%20rolling%20windows/runs/aw4j6vqm</a><br/>Synced 5 W&B file(s), 1 media file(s), 0 artifact file(s) and 0 other file(s)"
            ],
            "text/plain": [
              "<IPython.core.display.HTML object>"
            ]
          },
          "metadata": {},
          "output_type": "display_data"
        },
        {
          "data": {
            "text/html": [
              "Find logs at: <code>./wandb/run-20230413_140000-aw4j6vqm/logs</code>"
            ],
            "text/plain": [
              "<IPython.core.display.HTML object>"
            ]
          },
          "metadata": {},
          "output_type": "display_data"
        },
        {
          "metadata": {
            "tags": null
          },
          "name": "stdout",
          "output_type": "stream",
          "text": [
            "--- Predictions for test_start 2015-04-01 ---\n",
            "MSE: 296.1326\n",
            "RMSE: 17.208504\n",
            "-------------------------------------------\n",
            "Train shape: (591120, 10, 1), (591120, 4)\n",
            "Val shape: (71352, 10, 1), (71352, 4)\n",
            "Test shape: (68404, 10, 1), (68404, 4)\n"
          ]
        },
        {
          "data": {
            "text/html": [
              "Changes to your `wandb` environment variables will be ignored because your `wandb` session has already started. For more information on how to modify your settings with `wandb.init()` arguments, please refer to <a href='https://wandb.me/wandb-init' target=\"_blank\">the W&B docs</a>."
            ],
            "text/plain": [
              "<IPython.core.display.HTML object>"
            ]
          },
          "metadata": {},
          "output_type": "display_data"
        },
        {
          "data": {
            "text/html": [
              "Tracking run with wandb version 0.14.2"
            ],
            "text/plain": [
              "<IPython.core.display.HTML object>"
            ]
          },
          "metadata": {},
          "output_type": "display_data"
        },
        {
          "data": {
            "text/html": [
              "Run data is saved locally in <code>/content/wandb/run-20230413_141538-ykc4wu73</code>"
            ],
            "text/plain": [
              "<IPython.core.display.HTML object>"
            ]
          },
          "metadata": {},
          "output_type": "display_data"
        },
        {
          "data": {
            "text/html": [
              "Syncing run <strong><a href='https://wandb.ai/avogadro/Deep%20learning%20for%20option%20pricing%20-%20rolling%20windows/runs/ykc4wu73' target=\"_blank\">volcanic-sea-178</a></strong> to <a href='https://wandb.ai/avogadro/Deep%20learning%20for%20option%20pricing%20-%20rolling%20windows' target=\"_blank\">Weights & Biases</a> (<a href='https://wandb.me/run' target=\"_blank\">docs</a>)<br/>"
            ],
            "text/plain": [
              "<IPython.core.display.HTML object>"
            ]
          },
          "metadata": {},
          "output_type": "display_data"
        },
        {
          "data": {
            "text/html": [
              " View project at <a href='https://wandb.ai/avogadro/Deep%20learning%20for%20option%20pricing%20-%20rolling%20windows' target=\"_blank\">https://wandb.ai/avogadro/Deep%20learning%20for%20option%20pricing%20-%20rolling%20windows</a>"
            ],
            "text/plain": [
              "<IPython.core.display.HTML object>"
            ]
          },
          "metadata": {},
          "output_type": "display_data"
        },
        {
          "data": {
            "text/html": [
              " View run at <a href='https://wandb.ai/avogadro/Deep%20learning%20for%20option%20pricing%20-%20rolling%20windows/runs/ykc4wu73' target=\"_blank\">https://wandb.ai/avogadro/Deep%20learning%20for%20option%20pricing%20-%20rolling%20windows/runs/ykc4wu73</a>"
            ],
            "text/plain": [
              "<IPython.core.display.HTML object>"
            ]
          },
          "metadata": {},
          "output_type": "display_data"
        },
        {
          "metadata": {
            "tags": null
          },
          "name": "stdout",
          "output_type": "stream",
          "text": [
            "Model: \"model\"\n",
            "__________________________________________________________________________________________________\n",
            " Layer (type)                   Output Shape         Param #     Connected to                     \n",
            "==================================================================================================\n",
            " input_1 (InputLayer)           [(None, 10, 1)]      0           []                               \n",
            "                                                                                                  \n",
            " sequential (Sequential)        (None, 16)           2016        ['input_1[0][0]',                \n",
            "                                                                  'input_1[0][0]',                \n",
            "                                                                  'input_1[0][0]',                \n",
            "                                                                  'input_1[0][0]',                \n",
            "                                                                  'input_1[0][0]']                \n",
            "                                                                                                  \n",
            " input_2 (InputLayer)           [(None, 4)]          0           []                               \n",
            "                                                                                                  \n",
            " concatenate (Concatenate)      (None, 84)           0           ['sequential[0][0]',             \n",
            "                                                                  'sequential[1][0]',             \n",
            "                                                                  'sequential[2][0]',             \n",
            "                                                                  'sequential[3][0]',             \n",
            "                                                                  'sequential[4][0]',             \n",
            "                                                                  'input_2[0][0]']                \n",
            "                                                                                                  \n",
            " dense (Dense)                  (None, 600)          51000       ['concatenate[0][0]']            \n",
            "                                                                                                  \n",
            " batch_normalization (BatchNorm  (None, 600)         2400        ['dense[0][0]']                  \n",
            " alization)                                                                                       \n",
            "                                                                                                  \n",
            " leaky_re_lu (LeakyReLU)        (None, 600)          0           ['batch_normalization[0][0]']    \n",
            "                                                                                                  \n",
            " dense_1 (Dense)                (None, 600)          360600      ['leaky_re_lu[0][0]']            \n",
            "                                                                                                  \n",
            " batch_normalization_1 (BatchNo  (None, 600)         2400        ['dense_1[0][0]']                \n",
            " rmalization)                                                                                     \n",
            "                                                                                                  \n",
            " leaky_re_lu_1 (LeakyReLU)      (None, 600)          0           ['batch_normalization_1[0][0]']  \n",
            "                                                                                                  \n",
            " dense_2 (Dense)                (None, 600)          360600      ['leaky_re_lu_1[0][0]']          \n",
            "                                                                                                  \n",
            " batch_normalization_2 (BatchNo  (None, 600)         2400        ['dense_2[0][0]']                \n",
            " rmalization)                                                                                     \n",
            "                                                                                                  \n",
            " leaky_re_lu_2 (LeakyReLU)      (None, 600)          0           ['batch_normalization_2[0][0]']  \n",
            "                                                                                                  \n",
            " dense_3 (Dense)                (None, 600)          360600      ['leaky_re_lu_2[0][0]']          \n",
            "                                                                                                  \n",
            " batch_normalization_3 (BatchNo  (None, 600)         2400        ['dense_3[0][0]']                \n",
            " rmalization)                                                                                     \n",
            "                                                                                                  \n",
            " leaky_re_lu_3 (LeakyReLU)      (None, 600)          0           ['batch_normalization_3[0][0]']  \n",
            "                                                                                                  \n",
            " dense_4 (Dense)                (None, 600)          360600      ['leaky_re_lu_3[0][0]']          \n",
            "                                                                                                  \n",
            " batch_normalization_4 (BatchNo  (None, 600)         2400        ['dense_4[0][0]']                \n",
            " rmalization)                                                                                     \n",
            "                                                                                                  \n",
            " leaky_re_lu_4 (LeakyReLU)      (None, 600)          0           ['batch_normalization_4[0][0]']  \n",
            "                                                                                                  \n",
            " dense_5 (Dense)                (None, 600)          360600      ['leaky_re_lu_4[0][0]']          \n",
            "                                                                                                  \n",
            " batch_normalization_5 (BatchNo  (None, 600)         2400        ['dense_5[0][0]']                \n",
            " rmalization)                                                                                     \n",
            "                                                                                                  \n",
            " leaky_re_lu_5 (LeakyReLU)      (None, 600)          0           ['batch_normalization_5[0][0]']  \n",
            "                                                                                                  \n",
            " dense_6 (Dense)                (None, 1)            601         ['leaky_re_lu_5[0][0]']          \n",
            "                                                                                                  \n",
            "==================================================================================================\n",
            "Total params: 1,871,017\n",
            "Trainable params: 1,863,817\n",
            "Non-trainable params: 7,200\n",
            "__________________________________________________________________________________________________\n",
            "Train shape: (496184, 10, 1), (496184, 10, 1)\n",
            "Val shape: (61101, 10, 1), (61101, 10, 1)\n",
            "Epoch 1/1000\n",
            "122/122 [==============================] - 60s 135ms/step - loss: 70795.3828 - val_loss: 108812.9688\n",
            "Epoch 2/1000\n",
            "122/122 [==============================] - 16s 86ms/step - loss: 1091.2776 - val_loss: 93184.5703\n",
            "Epoch 3/1000\n",
            "122/122 [==============================] - 15s 86ms/step - loss: 123.3952 - val_loss: 45549.7031\n",
            "Epoch 4/1000\n",
            "122/122 [==============================] - 15s 86ms/step - loss: 104.5490 - val_loss: 22269.3379\n",
            "Epoch 5/1000\n",
            "122/122 [==============================] - 14s 77ms/step - loss: 88.8232 - val_loss: 23377.2773\n",
            "Epoch 6/1000\n",
            "122/122 [==============================] - 15s 85ms/step - loss: 57.1404 - val_loss: 6716.3799\n",
            "Epoch 7/1000\n",
            "122/122 [==============================] - 15s 77ms/step - loss: 59.3869 - val_loss: 53980.6328\n",
            "Epoch 8/1000\n",
            "122/122 [==============================] - 15s 85ms/step - loss: 51.5375 - val_loss: 4768.1064\n",
            "Epoch 9/1000\n",
            "122/122 [==============================] - 16s 86ms/step - loss: 52.8050 - val_loss: 1452.2765\n",
            "Epoch 10/1000\n",
            "122/122 [==============================] - 14s 78ms/step - loss: 46.1915 - val_loss: 13934.6338\n",
            "Epoch 11/1000\n",
            "122/122 [==============================] - 15s 86ms/step - loss: 39.8353 - val_loss: 1441.3102\n",
            "Epoch 12/1000\n",
            "122/122 [==============================] - 15s 79ms/step - loss: 40.2999 - val_loss: 5338.0889\n",
            "Epoch 13/1000\n",
            "122/122 [==============================] - 15s 78ms/step - loss: 39.4806 - val_loss: 2296.3652\n",
            "Epoch 14/1000\n",
            "122/122 [==============================] - 15s 78ms/step - loss: 36.6591 - val_loss: 3692.5610\n",
            "Epoch 15/1000\n",
            "122/122 [==============================] - 15s 85ms/step - loss: 39.7793 - val_loss: 804.7417\n",
            "Epoch 16/1000\n",
            "122/122 [==============================] - 14s 77ms/step - loss: 33.6656 - val_loss: 4507.8052\n",
            "Epoch 17/1000\n",
            "122/122 [==============================] - 15s 84ms/step - loss: 34.8492 - val_loss: 377.6129\n",
            "Epoch 18/1000\n",
            "122/122 [==============================] - 15s 77ms/step - loss: 33.6778 - val_loss: 4899.1987\n",
            "Epoch 19/1000\n",
            "122/122 [==============================] - 16s 86ms/step - loss: 32.3825 - val_loss: 142.7539\n",
            "Epoch 20/1000\n",
            "122/122 [==============================] - 14s 77ms/step - loss: 36.7191 - val_loss: 3307.8760\n",
            "Epoch 21/1000\n",
            "122/122 [==============================] - 14s 77ms/step - loss: 32.3976 - val_loss: 208.0705\n",
            "Epoch 22/1000\n",
            "122/122 [==============================] - 15s 85ms/step - loss: 32.5594 - val_loss: 138.2284\n",
            "Epoch 23/1000\n",
            "122/122 [==============================] - 14s 77ms/step - loss: 34.2323 - val_loss: 974.5974\n",
            "Epoch 24/1000\n",
            "122/122 [==============================] - 15s 83ms/step - loss: 27.2820 - val_loss: 103.1290\n",
            "Epoch 25/1000\n",
            "122/122 [==============================] - 14s 77ms/step - loss: 29.0616 - val_loss: 3126.9382\n",
            "Epoch 26/1000\n",
            "122/122 [==============================] - 15s 78ms/step - loss: 27.7929 - val_loss: 1662.6776\n",
            "Epoch 27/1000\n",
            "122/122 [==============================] - 15s 77ms/step - loss: 29.7360 - val_loss: 4847.8398\n",
            "Epoch 28/1000\n",
            "122/122 [==============================] - 15s 77ms/step - loss: 27.3830 - val_loss: 197.4910\n",
            "Epoch 29/1000\n",
            "122/122 [==============================] - 15s 85ms/step - loss: 29.5555 - val_loss: 90.2179\n",
            "Epoch 30/1000\n",
            "122/122 [==============================] - 16s 86ms/step - loss: 30.9898 - val_loss: 62.6977\n",
            "Epoch 31/1000\n",
            "122/122 [==============================] - 15s 78ms/step - loss: 26.3149 - val_loss: 81.1847\n",
            "Epoch 32/1000\n",
            "122/122 [==============================] - 15s 77ms/step - loss: 28.4852 - val_loss: 87.9843\n",
            "Epoch 33/1000\n",
            "122/122 [==============================] - 16s 85ms/step - loss: 30.3207 - val_loss: 62.6749\n",
            "Epoch 34/1000\n",
            "122/122 [==============================] - 15s 78ms/step - loss: 25.1976 - val_loss: 69.4399\n",
            "Epoch 35/1000\n",
            "122/122 [==============================] - 15s 84ms/step - loss: 23.0114 - val_loss: 50.3503\n",
            "Epoch 36/1000\n",
            "122/122 [==============================] - 15s 77ms/step - loss: 29.9643 - val_loss: 71.7286\n",
            "Epoch 37/1000\n",
            "122/122 [==============================] - 15s 77ms/step - loss: 30.0185 - val_loss: 55.1142\n",
            "Epoch 38/1000\n",
            "122/122 [==============================] - 16s 85ms/step - loss: 29.2071 - val_loss: 49.4464\n",
            "Epoch 39/1000\n",
            "122/122 [==============================] - 16s 86ms/step - loss: 28.8002 - val_loss: 47.4314\n",
            "Epoch 40/1000\n",
            "122/122 [==============================] - 15s 79ms/step - loss: 28.4649 - val_loss: 55.1074\n",
            "Epoch 41/1000\n",
            "122/122 [==============================] - 15s 78ms/step - loss: 23.0086 - val_loss: 57.1629\n",
            "Epoch 42/1000\n",
            "122/122 [==============================] - 15s 78ms/step - loss: 23.7533 - val_loss: 49.6557\n",
            "Epoch 43/1000\n",
            "122/122 [==============================] - 15s 78ms/step - loss: 30.6055 - val_loss: 50.7364\n",
            "Epoch 44/1000\n",
            "122/122 [==============================] - 15s 78ms/step - loss: 30.4826 - val_loss: 54.7077\n",
            "Epoch 45/1000\n",
            "122/122 [==============================] - 15s 77ms/step - loss: 27.1302 - val_loss: 54.5678\n",
            "Epoch 46/1000\n",
            "122/122 [==============================] - 15s 77ms/step - loss: 28.4876 - val_loss: 51.2731\n",
            "Epoch 47/1000\n",
            "122/122 [==============================] - 14s 76ms/step - loss: 28.7669 - val_loss: 50.5462\n",
            "Epoch 48/1000\n",
            "122/122 [==============================] - 14s 76ms/step - loss: 27.2601 - val_loss: 49.1560\n",
            "Epoch 49/1000\n",
            "122/122 [==============================] - 14s 77ms/step - loss: 28.1973 - val_loss: 49.3621\n",
            "Epoch 50/1000\n",
            "122/122 [==============================] - 14s 76ms/step - loss: 27.9934 - val_loss: 47.6640\n",
            "Epoch 51/1000\n",
            "122/122 [==============================] - 14s 77ms/step - loss: 29.2037 - val_loss: 47.9650\n",
            "Epoch 52/1000\n",
            "122/122 [==============================] - 14s 76ms/step - loss: 26.0774 - val_loss: 49.6438\n",
            "Epoch 53/1000\n",
            "122/122 [==============================] - 14s 77ms/step - loss: 24.8014 - val_loss: 49.0218\n",
            "Epoch 54/1000\n",
            "122/122 [==============================] - 14s 76ms/step - loss: 26.5644 - val_loss: 50.3751\n",
            "Epoch 55/1000\n",
            "122/122 [==============================] - 14s 76ms/step - loss: 22.6320 - val_loss: 49.7503\n",
            "Epoch 56/1000\n",
            "122/122 [==============================] - 14s 77ms/step - loss: 27.1711 - val_loss: 49.0785\n",
            "Epoch 57/1000\n",
            "122/122 [==============================] - 14s 77ms/step - loss: 23.9975 - val_loss: 49.8233\n",
            "Epoch 58/1000\n",
            "122/122 [==============================] - 14s 77ms/step - loss: 25.2166 - val_loss: 49.4987\n",
            "Epoch 59/1000\n",
            "122/122 [==============================] - 14s 76ms/step - loss: 27.2579 - val_loss: 48.9347\n"
          ]
        },
        {
          "data": {
            "text/html": [
              "Waiting for W&B process to finish... <strong style=\"color:green\">(success).</strong>"
            ],
            "text/plain": [
              "<IPython.core.display.HTML object>"
            ]
          },
          "metadata": {},
          "output_type": "display_data"
        },
        {
          "data": {
            "text/html": [
              "<style>\n",
              "    table.wandb td:nth-child(1) { padding: 0 10px; text-align: left ; width: auto;} td:nth-child(2) {text-align: left ; width: 100%}\n",
              "    .wandb-row { display: flex; flex-direction: row; flex-wrap: wrap; justify-content: flex-start; width: 100% }\n",
              "    .wandb-col { display: flex; flex-direction: column; flex-basis: 100%; flex: 1; padding: 10px; }\n",
              "    </style>\n",
              "<div class=\"wandb-row\"><div class=\"wandb-col\"><h3>Run history:</h3><br/><table class=\"wandb\"><tr><td>epoch</td><td>▁▁▁▁▂▂▂▂▂▃▃▃▃▃▃▄▄▄▄▄▅▅▅▅▅▅▆▆▆▆▆▇▇▇▇▇▇███</td></tr><tr><td>loss</td><td>█▁▁▁▁▁▁▁▁▁▁▁▁▁▁▁▁▁▁▁▁▁▁▁▁▁▁▁▁▁▁▁▁▁▁▁▁▁▁▁</td></tr><tr><td>val_loss</td><td>█▇▄▃▁▁▁▁▁▁▁▁▁▁▁▁▁▁▁▁▁▁▁▁▁▁▁▁▁▁▁▁▁▁▁▁▁▁▁▁</td></tr></table><br/></div><div class=\"wandb-col\"><h3>Run summary:</h3><br/><table class=\"wandb\"><tr><td>best_epoch</td><td>38</td></tr><tr><td>best_val_loss</td><td>47.43137</td></tr><tr><td>epoch</td><td>58</td></tr><tr><td>loss</td><td>27.25788</td></tr><tr><td>val_loss</td><td>48.93474</td></tr></table><br/></div></div>"
            ],
            "text/plain": [
              "<IPython.core.display.HTML object>"
            ]
          },
          "metadata": {},
          "output_type": "display_data"
        },
        {
          "data": {
            "text/html": [
              " View run <strong style=\"color:#cdcd00\">volcanic-sea-178</strong> at: <a href='https://wandb.ai/avogadro/Deep%20learning%20for%20option%20pricing%20-%20rolling%20windows/runs/ykc4wu73' target=\"_blank\">https://wandb.ai/avogadro/Deep%20learning%20for%20option%20pricing%20-%20rolling%20windows/runs/ykc4wu73</a><br/>Synced 5 W&B file(s), 1 media file(s), 0 artifact file(s) and 0 other file(s)"
            ],
            "text/plain": [
              "<IPython.core.display.HTML object>"
            ]
          },
          "metadata": {},
          "output_type": "display_data"
        },
        {
          "data": {
            "text/html": [
              "Find logs at: <code>./wandb/run-20230413_141538-ykc4wu73/logs</code>"
            ],
            "text/plain": [
              "<IPython.core.display.HTML object>"
            ]
          },
          "metadata": {},
          "output_type": "display_data"
        },
        {
          "metadata": {
            "tags": null
          },
          "name": "stdout",
          "output_type": "stream",
          "text": [
            "--- Predictions for test_start 2015-05-01 ---\n",
            "MSE: 803.81775\n",
            "RMSE: 28.351679\n",
            "-------------------------------------------\n",
            "Train shape: (621554, 10, 1), (621554, 4)\n",
            "Val shape: (68407, 10, 1), (68407, 4)\n",
            "Test shape: (79002, 10, 1), (79002, 4)\n"
          ]
        },
        {
          "data": {
            "text/html": [
              "Changes to your `wandb` environment variables will be ignored because your `wandb` session has already started. For more information on how to modify your settings with `wandb.init()` arguments, please refer to <a href='https://wandb.me/wandb-init' target=\"_blank\">the W&B docs</a>."
            ],
            "text/plain": [
              "<IPython.core.display.HTML object>"
            ]
          },
          "metadata": {},
          "output_type": "display_data"
        },
        {
          "data": {
            "text/html": [
              "Tracking run with wandb version 0.14.2"
            ],
            "text/plain": [
              "<IPython.core.display.HTML object>"
            ]
          },
          "metadata": {},
          "output_type": "display_data"
        },
        {
          "data": {
            "text/html": [
              "Run data is saved locally in <code>/content/wandb/run-20230413_143135-z0xk4j0y</code>"
            ],
            "text/plain": [
              "<IPython.core.display.HTML object>"
            ]
          },
          "metadata": {},
          "output_type": "display_data"
        },
        {
          "data": {
            "text/html": [
              "Syncing run <strong><a href='https://wandb.ai/avogadro/Deep%20learning%20for%20option%20pricing%20-%20rolling%20windows/runs/z0xk4j0y' target=\"_blank\">dry-star-179</a></strong> to <a href='https://wandb.ai/avogadro/Deep%20learning%20for%20option%20pricing%20-%20rolling%20windows' target=\"_blank\">Weights & Biases</a> (<a href='https://wandb.me/run' target=\"_blank\">docs</a>)<br/>"
            ],
            "text/plain": [
              "<IPython.core.display.HTML object>"
            ]
          },
          "metadata": {},
          "output_type": "display_data"
        },
        {
          "data": {
            "text/html": [
              " View project at <a href='https://wandb.ai/avogadro/Deep%20learning%20for%20option%20pricing%20-%20rolling%20windows' target=\"_blank\">https://wandb.ai/avogadro/Deep%20learning%20for%20option%20pricing%20-%20rolling%20windows</a>"
            ],
            "text/plain": [
              "<IPython.core.display.HTML object>"
            ]
          },
          "metadata": {},
          "output_type": "display_data"
        },
        {
          "data": {
            "text/html": [
              " View run at <a href='https://wandb.ai/avogadro/Deep%20learning%20for%20option%20pricing%20-%20rolling%20windows/runs/z0xk4j0y' target=\"_blank\">https://wandb.ai/avogadro/Deep%20learning%20for%20option%20pricing%20-%20rolling%20windows/runs/z0xk4j0y</a>"
            ],
            "text/plain": [
              "<IPython.core.display.HTML object>"
            ]
          },
          "metadata": {},
          "output_type": "display_data"
        },
        {
          "metadata": {
            "tags": null
          },
          "name": "stdout",
          "output_type": "stream",
          "text": [
            "Model: \"model\"\n",
            "__________________________________________________________________________________________________\n",
            " Layer (type)                   Output Shape         Param #     Connected to                     \n",
            "==================================================================================================\n",
            " input_1 (InputLayer)           [(None, 10, 1)]      0           []                               \n",
            "                                                                                                  \n",
            " sequential (Sequential)        (None, 16)           2016        ['input_1[0][0]',                \n",
            "                                                                  'input_1[0][0]',                \n",
            "                                                                  'input_1[0][0]',                \n",
            "                                                                  'input_1[0][0]',                \n",
            "                                                                  'input_1[0][0]']                \n",
            "                                                                                                  \n",
            " input_2 (InputLayer)           [(None, 4)]          0           []                               \n",
            "                                                                                                  \n",
            " concatenate (Concatenate)      (None, 84)           0           ['sequential[0][0]',             \n",
            "                                                                  'sequential[1][0]',             \n",
            "                                                                  'sequential[2][0]',             \n",
            "                                                                  'sequential[3][0]',             \n",
            "                                                                  'sequential[4][0]',             \n",
            "                                                                  'input_2[0][0]']                \n",
            "                                                                                                  \n",
            " dense (Dense)                  (None, 600)          51000       ['concatenate[0][0]']            \n",
            "                                                                                                  \n",
            " batch_normalization (BatchNorm  (None, 600)         2400        ['dense[0][0]']                  \n",
            " alization)                                                                                       \n",
            "                                                                                                  \n",
            " leaky_re_lu (LeakyReLU)        (None, 600)          0           ['batch_normalization[0][0]']    \n",
            "                                                                                                  \n",
            " dense_1 (Dense)                (None, 600)          360600      ['leaky_re_lu[0][0]']            \n",
            "                                                                                                  \n",
            " batch_normalization_1 (BatchNo  (None, 600)         2400        ['dense_1[0][0]']                \n",
            " rmalization)                                                                                     \n",
            "                                                                                                  \n",
            " leaky_re_lu_1 (LeakyReLU)      (None, 600)          0           ['batch_normalization_1[0][0]']  \n",
            "                                                                                                  \n",
            " dense_2 (Dense)                (None, 600)          360600      ['leaky_re_lu_1[0][0]']          \n",
            "                                                                                                  \n",
            " batch_normalization_2 (BatchNo  (None, 600)         2400        ['dense_2[0][0]']                \n",
            " rmalization)                                                                                     \n",
            "                                                                                                  \n",
            " leaky_re_lu_2 (LeakyReLU)      (None, 600)          0           ['batch_normalization_2[0][0]']  \n",
            "                                                                                                  \n",
            " dense_3 (Dense)                (None, 600)          360600      ['leaky_re_lu_2[0][0]']          \n",
            "                                                                                                  \n",
            " batch_normalization_3 (BatchNo  (None, 600)         2400        ['dense_3[0][0]']                \n",
            " rmalization)                                                                                     \n",
            "                                                                                                  \n",
            " leaky_re_lu_3 (LeakyReLU)      (None, 600)          0           ['batch_normalization_3[0][0]']  \n",
            "                                                                                                  \n",
            " dense_4 (Dense)                (None, 600)          360600      ['leaky_re_lu_3[0][0]']          \n",
            "                                                                                                  \n",
            " batch_normalization_4 (BatchNo  (None, 600)         2400        ['dense_4[0][0]']                \n",
            " rmalization)                                                                                     \n",
            "                                                                                                  \n",
            " leaky_re_lu_4 (LeakyReLU)      (None, 600)          0           ['batch_normalization_4[0][0]']  \n",
            "                                                                                                  \n",
            " dense_5 (Dense)                (None, 600)          360600      ['leaky_re_lu_4[0][0]']          \n",
            "                                                                                                  \n",
            " batch_normalization_5 (BatchNo  (None, 600)         2400        ['dense_5[0][0]']                \n",
            " rmalization)                                                                                     \n",
            "                                                                                                  \n",
            " leaky_re_lu_5 (LeakyReLU)      (None, 600)          0           ['batch_normalization_5[0][0]']  \n",
            "                                                                                                  \n",
            " dense_6 (Dense)                (None, 1)            601         ['leaky_re_lu_5[0][0]']          \n",
            "                                                                                                  \n",
            "==================================================================================================\n",
            "Total params: 1,871,017\n",
            "Trainable params: 1,863,817\n",
            "Non-trainable params: 7,200\n",
            "__________________________________________________________________________________________________\n",
            "Train shape: (496184, 10, 1), (496184, 10, 1)\n",
            "Val shape: (61101, 10, 1), (61101, 10, 1)\n",
            "Epoch 1/1000\n",
            "122/122 [==============================] - 59s 136ms/step - loss: 71281.2969 - val_loss: 100903.1562\n",
            "Epoch 2/1000\n",
            "122/122 [==============================] - 16s 86ms/step - loss: 1133.2394 - val_loss: 86803.7734\n",
            "Epoch 3/1000\n",
            "122/122 [==============================] - 16s 87ms/step - loss: 110.7987 - val_loss: 41569.9570\n",
            "Epoch 4/1000\n",
            "122/122 [==============================] - 15s 85ms/step - loss: 88.5569 - val_loss: 23337.8066\n",
            "Epoch 5/1000\n",
            "122/122 [==============================] - 16s 86ms/step - loss: 90.7947 - val_loss: 18424.6914\n",
            "Epoch 6/1000\n",
            "122/122 [==============================] - 15s 78ms/step - loss: 65.2606 - val_loss: 26270.0918\n",
            "Epoch 7/1000\n",
            "122/122 [==============================] - 16s 85ms/step - loss: 55.6317 - val_loss: 1321.1288\n",
            "Epoch 8/1000\n",
            "122/122 [==============================] - 14s 77ms/step - loss: 64.4454 - val_loss: 6929.1865\n",
            "Epoch 9/1000\n",
            "122/122 [==============================] - 15s 78ms/step - loss: 57.4508 - val_loss: 3139.2507\n",
            "Epoch 10/1000\n",
            "122/122 [==============================] - 15s 84ms/step - loss: 58.9067 - val_loss: 1260.0096\n",
            "Epoch 11/1000\n",
            "122/122 [==============================] - 16s 87ms/step - loss: 41.0773 - val_loss: 479.8409\n",
            "Epoch 12/1000\n",
            "122/122 [==============================] - 15s 79ms/step - loss: 32.7295 - val_loss: 2950.3738\n",
            "Epoch 13/1000\n",
            "122/122 [==============================] - 15s 80ms/step - loss: 41.1871 - val_loss: 6178.1216\n",
            "Epoch 14/1000\n",
            "122/122 [==============================] - 15s 78ms/step - loss: 40.5487 - val_loss: 2614.6577\n",
            "Epoch 15/1000\n",
            "122/122 [==============================] - 15s 78ms/step - loss: 34.5403 - val_loss: 502.7054\n",
            "Epoch 16/1000\n",
            "122/122 [==============================] - 15s 85ms/step - loss: 30.8989 - val_loss: 102.8016\n",
            "Epoch 17/1000\n",
            "122/122 [==============================] - 15s 78ms/step - loss: 33.3142 - val_loss: 3022.7041\n",
            "Epoch 18/1000\n",
            "122/122 [==============================] - 15s 77ms/step - loss: 40.9115 - val_loss: 948.0146\n",
            "Epoch 19/1000\n",
            "122/122 [==============================] - 15s 78ms/step - loss: 37.4271 - val_loss: 2980.7168\n",
            "Epoch 20/1000\n",
            "122/122 [==============================] - 15s 78ms/step - loss: 36.1874 - val_loss: 738.8055\n",
            "Epoch 21/1000\n",
            "122/122 [==============================] - 14s 78ms/step - loss: 34.9528 - val_loss: 165.3525\n",
            "Epoch 22/1000\n",
            "122/122 [==============================] - 15s 86ms/step - loss: 29.6623 - val_loss: 67.8165\n",
            "Epoch 23/1000\n",
            "122/122 [==============================] - 15s 78ms/step - loss: 32.2615 - val_loss: 1024.1854\n",
            "Epoch 24/1000\n",
            "122/122 [==============================] - 15s 78ms/step - loss: 37.4641 - val_loss: 806.0680\n",
            "Epoch 25/1000\n",
            "122/122 [==============================] - 15s 77ms/step - loss: 27.8524 - val_loss: 528.5510\n",
            "Epoch 26/1000\n",
            "122/122 [==============================] - 15s 77ms/step - loss: 33.7782 - val_loss: 91.3111\n",
            "Epoch 27/1000\n",
            "122/122 [==============================] - 15s 78ms/step - loss: 32.0156 - val_loss: 240.3563\n",
            "Epoch 28/1000\n",
            "122/122 [==============================] - 15s 78ms/step - loss: 29.9874 - val_loss: 76.0296\n",
            "Epoch 29/1000\n",
            "122/122 [==============================] - 15s 86ms/step - loss: 29.8883 - val_loss: 42.1698\n",
            "Epoch 30/1000\n",
            "122/122 [==============================] - 15s 78ms/step - loss: 26.2170 - val_loss: 63.2873\n",
            "Epoch 31/1000\n",
            "122/122 [==============================] - 15s 77ms/step - loss: 31.5663 - val_loss: 43.9091\n",
            "Epoch 32/1000\n",
            "122/122 [==============================] - 15s 78ms/step - loss: 33.1388 - val_loss: 124.6413\n",
            "Epoch 33/1000\n",
            "122/122 [==============================] - 15s 77ms/step - loss: 30.1220 - val_loss: 74.9546\n",
            "Epoch 34/1000\n",
            "122/122 [==============================] - 15s 79ms/step - loss: 26.3313 - val_loss: 64.9443\n",
            "Epoch 35/1000\n",
            "122/122 [==============================] - 15s 80ms/step - loss: 30.9581 - val_loss: 109.4743\n",
            "Epoch 36/1000\n",
            "122/122 [==============================] - 14s 78ms/step - loss: 27.1039 - val_loss: 82.8764\n",
            "Epoch 37/1000\n",
            "122/122 [==============================] - 14s 77ms/step - loss: 31.1373 - val_loss: 56.2157\n",
            "Epoch 38/1000\n",
            "122/122 [==============================] - 14s 78ms/step - loss: 25.4149 - val_loss: 53.9136\n",
            "Epoch 39/1000\n",
            "122/122 [==============================] - 14s 77ms/step - loss: 23.2796 - val_loss: 51.7646\n",
            "Epoch 40/1000\n",
            "122/122 [==============================] - 14s 77ms/step - loss: 24.6388 - val_loss: 55.1423\n",
            "Epoch 41/1000\n",
            "122/122 [==============================] - 15s 77ms/step - loss: 30.4735 - val_loss: 52.3594\n",
            "Epoch 42/1000\n",
            "122/122 [==============================] - 15s 78ms/step - loss: 23.6139 - val_loss: 52.3483\n",
            "Epoch 43/1000\n",
            "122/122 [==============================] - 15s 85ms/step - loss: 27.2051 - val_loss: 39.1148\n",
            "Epoch 44/1000\n",
            "122/122 [==============================] - 15s 86ms/step - loss: 24.3967 - val_loss: 37.0214\n",
            "Epoch 45/1000\n",
            "122/122 [==============================] - 14s 77ms/step - loss: 25.7197 - val_loss: 37.1723\n",
            "Epoch 46/1000\n",
            "122/122 [==============================] - 14s 77ms/step - loss: 22.3700 - val_loss: 37.1953\n",
            "Epoch 47/1000\n",
            "122/122 [==============================] - 14s 77ms/step - loss: 27.8545 - val_loss: 37.7502\n",
            "Epoch 48/1000\n",
            "122/122 [==============================] - 14s 77ms/step - loss: 26.0634 - val_loss: 38.0629\n",
            "Epoch 49/1000\n",
            "122/122 [==============================] - 15s 77ms/step - loss: 34.0265 - val_loss: 38.4992\n",
            "Epoch 50/1000\n",
            "122/122 [==============================] - 14s 77ms/step - loss: 28.8129 - val_loss: 37.6216\n",
            "Epoch 51/1000\n",
            "122/122 [==============================] - 15s 78ms/step - loss: 28.0349 - val_loss: 37.1649\n",
            "Epoch 52/1000\n",
            "122/122 [==============================] - 14s 77ms/step - loss: 29.9153 - val_loss: 37.7308\n",
            "Epoch 53/1000\n",
            "122/122 [==============================] - 14s 77ms/step - loss: 30.1371 - val_loss: 38.1937\n",
            "Epoch 54/1000\n",
            "122/122 [==============================] - 14s 77ms/step - loss: 30.4543 - val_loss: 37.9353\n",
            "Epoch 55/1000\n",
            "122/122 [==============================] - 14s 77ms/step - loss: 26.5609 - val_loss: 37.5780\n",
            "Epoch 56/1000\n",
            "122/122 [==============================] - 15s 77ms/step - loss: 27.6696 - val_loss: 37.6326\n",
            "Epoch 57/1000\n",
            "122/122 [==============================] - 15s 78ms/step - loss: 28.0549 - val_loss: 37.8061\n",
            "Epoch 58/1000\n",
            "122/122 [==============================] - 14s 77ms/step - loss: 26.1195 - val_loss: 37.5558\n",
            "Epoch 59/1000\n",
            "122/122 [==============================] - 14s 78ms/step - loss: 30.3160 - val_loss: 37.3464\n",
            "Epoch 60/1000\n",
            "122/122 [==============================] - 14s 77ms/step - loss: 28.9971 - val_loss: 37.2447\n",
            "Epoch 61/1000\n",
            "122/122 [==============================] - 14s 77ms/step - loss: 24.1217 - val_loss: 37.8132\n",
            "Epoch 62/1000\n",
            "122/122 [==============================] - 14s 77ms/step - loss: 24.3974 - val_loss: 37.6786\n",
            "Epoch 63/1000\n",
            "122/122 [==============================] - 15s 78ms/step - loss: 30.4377 - val_loss: 37.7810\n",
            "Epoch 64/1000\n",
            "122/122 [==============================] - 14s 77ms/step - loss: 29.1454 - val_loss: 38.0547\n"
          ]
        },
        {
          "data": {
            "text/html": [
              "Waiting for W&B process to finish... <strong style=\"color:green\">(success).</strong>"
            ],
            "text/plain": [
              "<IPython.core.display.HTML object>"
            ]
          },
          "metadata": {},
          "output_type": "display_data"
        },
        {
          "data": {
            "application/vnd.jupyter.widget-view+json": {
              "model_id": "d6c5907b9819481aae0ac2731de42e5e",
              "version_major": 2,
              "version_minor": 0
            },
            "text/plain": [
              "VBox(children=(Label(value='0.006 MB of 0.024 MB uploaded (0.000 MB deduped)\\r'), FloatProgress(value=0.229261…"
            ]
          },
          "metadata": {},
          "output_type": "display_data"
        },
        {
          "data": {
            "text/html": [
              "<style>\n",
              "    table.wandb td:nth-child(1) { padding: 0 10px; text-align: left ; width: auto;} td:nth-child(2) {text-align: left ; width: 100%}\n",
              "    .wandb-row { display: flex; flex-direction: row; flex-wrap: wrap; justify-content: flex-start; width: 100% }\n",
              "    .wandb-col { display: flex; flex-direction: column; flex-basis: 100%; flex: 1; padding: 10px; }\n",
              "    </style>\n",
              "<div class=\"wandb-row\"><div class=\"wandb-col\"><h3>Run history:</h3><br/><table class=\"wandb\"><tr><td>epoch</td><td>▁▁▁▁▂▂▂▂▂▃▃▃▃▃▃▄▄▄▄▄▅▅▅▅▅▅▆▆▆▆▆▇▇▇▇▇▇███</td></tr><tr><td>loss</td><td>█▁▁▁▁▁▁▁▁▁▁▁▁▁▁▁▁▁▁▁▁▁▁▁▁▁▁▁▁▁▁▁▁▁▁▁▁▁▁▁</td></tr><tr><td>val_loss</td><td>█▇▃▂▁▁▁▁▁▁▁▁▁▁▁▁▁▁▁▁▁▁▁▁▁▁▁▁▁▁▁▁▁▁▁▁▁▁▁▁</td></tr></table><br/></div><div class=\"wandb-col\"><h3>Run summary:</h3><br/><table class=\"wandb\"><tr><td>best_epoch</td><td>43</td></tr><tr><td>best_val_loss</td><td>37.02136</td></tr><tr><td>epoch</td><td>63</td></tr><tr><td>loss</td><td>29.1454</td></tr><tr><td>val_loss</td><td>38.05472</td></tr></table><br/></div></div>"
            ],
            "text/plain": [
              "<IPython.core.display.HTML object>"
            ]
          },
          "metadata": {},
          "output_type": "display_data"
        },
        {
          "data": {
            "text/html": [
              " View run <strong style=\"color:#cdcd00\">dry-star-179</strong> at: <a href='https://wandb.ai/avogadro/Deep%20learning%20for%20option%20pricing%20-%20rolling%20windows/runs/z0xk4j0y' target=\"_blank\">https://wandb.ai/avogadro/Deep%20learning%20for%20option%20pricing%20-%20rolling%20windows/runs/z0xk4j0y</a><br/>Synced 5 W&B file(s), 1 media file(s), 0 artifact file(s) and 0 other file(s)"
            ],
            "text/plain": [
              "<IPython.core.display.HTML object>"
            ]
          },
          "metadata": {},
          "output_type": "display_data"
        },
        {
          "data": {
            "text/html": [
              "Find logs at: <code>./wandb/run-20230413_143135-z0xk4j0y/logs</code>"
            ],
            "text/plain": [
              "<IPython.core.display.HTML object>"
            ]
          },
          "metadata": {},
          "output_type": "display_data"
        },
        {
          "metadata": {
            "tags": null
          },
          "name": "stdout",
          "output_type": "stream",
          "text": [
            "--- Predictions for test_start 2015-06-01 ---\n",
            "MSE: 711.5103\n",
            "RMSE: 26.67415\n",
            "-------------------------------------------\n",
            "Train shape: (648342, 10, 1), (648342, 4)\n",
            "Val shape: (78975, 10, 1), (78975, 4)\n",
            "Test shape: (78559, 10, 1), (78559, 4)\n"
          ]
        },
        {
          "data": {
            "text/html": [
              "Changes to your `wandb` environment variables will be ignored because your `wandb` session has already started. For more information on how to modify your settings with `wandb.init()` arguments, please refer to <a href='https://wandb.me/wandb-init' target=\"_blank\">the W&B docs</a>."
            ],
            "text/plain": [
              "<IPython.core.display.HTML object>"
            ]
          },
          "metadata": {},
          "output_type": "display_data"
        },
        {
          "data": {
            "text/html": [
              "Tracking run with wandb version 0.14.2"
            ],
            "text/plain": [
              "<IPython.core.display.HTML object>"
            ]
          },
          "metadata": {},
          "output_type": "display_data"
        },
        {
          "data": {
            "text/html": [
              "Run data is saved locally in <code>/content/wandb/run-20230413_144839-tjndu6eq</code>"
            ],
            "text/plain": [
              "<IPython.core.display.HTML object>"
            ]
          },
          "metadata": {},
          "output_type": "display_data"
        },
        {
          "data": {
            "text/html": [
              "Syncing run <strong><a href='https://wandb.ai/avogadro/Deep%20learning%20for%20option%20pricing%20-%20rolling%20windows/runs/tjndu6eq' target=\"_blank\">peach-sky-180</a></strong> to <a href='https://wandb.ai/avogadro/Deep%20learning%20for%20option%20pricing%20-%20rolling%20windows' target=\"_blank\">Weights & Biases</a> (<a href='https://wandb.me/run' target=\"_blank\">docs</a>)<br/>"
            ],
            "text/plain": [
              "<IPython.core.display.HTML object>"
            ]
          },
          "metadata": {},
          "output_type": "display_data"
        },
        {
          "data": {
            "text/html": [
              " View project at <a href='https://wandb.ai/avogadro/Deep%20learning%20for%20option%20pricing%20-%20rolling%20windows' target=\"_blank\">https://wandb.ai/avogadro/Deep%20learning%20for%20option%20pricing%20-%20rolling%20windows</a>"
            ],
            "text/plain": [
              "<IPython.core.display.HTML object>"
            ]
          },
          "metadata": {},
          "output_type": "display_data"
        },
        {
          "data": {
            "text/html": [
              " View run at <a href='https://wandb.ai/avogadro/Deep%20learning%20for%20option%20pricing%20-%20rolling%20windows/runs/tjndu6eq' target=\"_blank\">https://wandb.ai/avogadro/Deep%20learning%20for%20option%20pricing%20-%20rolling%20windows/runs/tjndu6eq</a>"
            ],
            "text/plain": [
              "<IPython.core.display.HTML object>"
            ]
          },
          "metadata": {},
          "output_type": "display_data"
        },
        {
          "metadata": {
            "tags": null
          },
          "name": "stdout",
          "output_type": "stream",
          "text": [
            "Model: \"model\"\n",
            "__________________________________________________________________________________________________\n",
            " Layer (type)                   Output Shape         Param #     Connected to                     \n",
            "==================================================================================================\n",
            " input_1 (InputLayer)           [(None, 10, 1)]      0           []                               \n",
            "                                                                                                  \n",
            " sequential (Sequential)        (None, 16)           2016        ['input_1[0][0]',                \n",
            "                                                                  'input_1[0][0]',                \n",
            "                                                                  'input_1[0][0]',                \n",
            "                                                                  'input_1[0][0]',                \n",
            "                                                                  'input_1[0][0]']                \n",
            "                                                                                                  \n",
            " input_2 (InputLayer)           [(None, 4)]          0           []                               \n",
            "                                                                                                  \n",
            " concatenate (Concatenate)      (None, 84)           0           ['sequential[0][0]',             \n",
            "                                                                  'sequential[1][0]',             \n",
            "                                                                  'sequential[2][0]',             \n",
            "                                                                  'sequential[3][0]',             \n",
            "                                                                  'sequential[4][0]',             \n",
            "                                                                  'input_2[0][0]']                \n",
            "                                                                                                  \n",
            " dense (Dense)                  (None, 600)          51000       ['concatenate[0][0]']            \n",
            "                                                                                                  \n",
            " batch_normalization (BatchNorm  (None, 600)         2400        ['dense[0][0]']                  \n",
            " alization)                                                                                       \n",
            "                                                                                                  \n",
            " leaky_re_lu (LeakyReLU)        (None, 600)          0           ['batch_normalization[0][0]']    \n",
            "                                                                                                  \n",
            " dense_1 (Dense)                (None, 600)          360600      ['leaky_re_lu[0][0]']            \n",
            "                                                                                                  \n",
            " batch_normalization_1 (BatchNo  (None, 600)         2400        ['dense_1[0][0]']                \n",
            " rmalization)                                                                                     \n",
            "                                                                                                  \n",
            " leaky_re_lu_1 (LeakyReLU)      (None, 600)          0           ['batch_normalization_1[0][0]']  \n",
            "                                                                                                  \n",
            " dense_2 (Dense)                (None, 600)          360600      ['leaky_re_lu_1[0][0]']          \n",
            "                                                                                                  \n",
            " batch_normalization_2 (BatchNo  (None, 600)         2400        ['dense_2[0][0]']                \n",
            " rmalization)                                                                                     \n",
            "                                                                                                  \n",
            " leaky_re_lu_2 (LeakyReLU)      (None, 600)          0           ['batch_normalization_2[0][0]']  \n",
            "                                                                                                  \n",
            " dense_3 (Dense)                (None, 600)          360600      ['leaky_re_lu_2[0][0]']          \n",
            "                                                                                                  \n",
            " batch_normalization_3 (BatchNo  (None, 600)         2400        ['dense_3[0][0]']                \n",
            " rmalization)                                                                                     \n",
            "                                                                                                  \n",
            " leaky_re_lu_3 (LeakyReLU)      (None, 600)          0           ['batch_normalization_3[0][0]']  \n",
            "                                                                                                  \n",
            " dense_4 (Dense)                (None, 600)          360600      ['leaky_re_lu_3[0][0]']          \n",
            "                                                                                                  \n",
            " batch_normalization_4 (BatchNo  (None, 600)         2400        ['dense_4[0][0]']                \n",
            " rmalization)                                                                                     \n",
            "                                                                                                  \n",
            " leaky_re_lu_4 (LeakyReLU)      (None, 600)          0           ['batch_normalization_4[0][0]']  \n",
            "                                                                                                  \n",
            " dense_5 (Dense)                (None, 600)          360600      ['leaky_re_lu_4[0][0]']          \n",
            "                                                                                                  \n",
            " batch_normalization_5 (BatchNo  (None, 600)         2400        ['dense_5[0][0]']                \n",
            " rmalization)                                                                                     \n",
            "                                                                                                  \n",
            " leaky_re_lu_5 (LeakyReLU)      (None, 600)          0           ['batch_normalization_5[0][0]']  \n",
            "                                                                                                  \n",
            " dense_6 (Dense)                (None, 1)            601         ['leaky_re_lu_5[0][0]']          \n",
            "                                                                                                  \n",
            "==================================================================================================\n",
            "Total params: 1,871,017\n",
            "Trainable params: 1,863,817\n",
            "Non-trainable params: 7,200\n",
            "__________________________________________________________________________________________________\n",
            "Train shape: (496184, 10, 1), (496184, 10, 1)\n",
            "Val shape: (61101, 10, 1), (61101, 10, 1)\n",
            "Epoch 1/1000\n",
            "122/122 [==============================] - 60s 134ms/step - loss: 73093.1875 - val_loss: 75862.5469\n",
            "Epoch 2/1000\n",
            "122/122 [==============================] - 14s 77ms/step - loss: 1283.6709 - val_loss: 82286.8359\n",
            "Epoch 3/1000\n",
            "122/122 [==============================] - 15s 86ms/step - loss: 129.8951 - val_loss: 37956.2383\n",
            "Epoch 4/1000\n",
            "122/122 [==============================] - 15s 85ms/step - loss: 103.3725 - val_loss: 16667.0449\n",
            "Epoch 5/1000\n",
            "122/122 [==============================] - 14s 76ms/step - loss: 67.0370 - val_loss: 21494.1426\n",
            "Epoch 6/1000\n",
            "122/122 [==============================] - 15s 84ms/step - loss: 61.4248 - val_loss: 14434.4893\n",
            "Epoch 7/1000\n",
            "122/122 [==============================] - 14s 78ms/step - loss: 55.4995 - val_loss: 19899.3223\n",
            "Epoch 8/1000\n",
            "122/122 [==============================] - 14s 77ms/step - loss: 68.4385 - val_loss: 23410.4219\n",
            "Epoch 9/1000\n",
            "122/122 [==============================] - 14s 77ms/step - loss: 52.2256 - val_loss: 20985.2930\n",
            "Epoch 10/1000\n",
            "122/122 [==============================] - 15s 85ms/step - loss: 54.6247 - val_loss: 10891.5400\n",
            "Epoch 11/1000\n",
            "122/122 [==============================] - 14s 77ms/step - loss: 46.6007 - val_loss: 19181.3438\n",
            "Epoch 12/1000\n",
            "122/122 [==============================] - 15s 84ms/step - loss: 43.6041 - val_loss: 7339.4561\n",
            "Epoch 13/1000\n",
            "122/122 [==============================] - 15s 85ms/step - loss: 38.3661 - val_loss: 449.9781\n",
            "Epoch 14/1000\n",
            "122/122 [==============================] - 15s 86ms/step - loss: 50.2955 - val_loss: 266.2825\n",
            "Epoch 15/1000\n",
            "122/122 [==============================] - 14s 77ms/step - loss: 42.3117 - val_loss: 2497.2314\n",
            "Epoch 16/1000\n",
            "122/122 [==============================] - 14s 77ms/step - loss: 30.0379 - val_loss: 5048.7573\n",
            "Epoch 17/1000\n",
            "122/122 [==============================] - 14s 77ms/step - loss: 36.9102 - val_loss: 540.3694\n",
            "Epoch 18/1000\n",
            "122/122 [==============================] - 14s 76ms/step - loss: 36.7634 - val_loss: 1365.8411\n",
            "Epoch 19/1000\n",
            "122/122 [==============================] - 15s 84ms/step - loss: 30.1657 - val_loss: 139.8911\n",
            "Epoch 20/1000\n",
            "122/122 [==============================] - 14s 77ms/step - loss: 32.9062 - val_loss: 487.1260\n",
            "Epoch 21/1000\n",
            "122/122 [==============================] - 15s 77ms/step - loss: 32.5742 - val_loss: 828.5693\n",
            "Epoch 22/1000\n",
            "122/122 [==============================] - 14s 77ms/step - loss: 30.1736 - val_loss: 235.9710\n",
            "Epoch 23/1000\n",
            "122/122 [==============================] - 14s 77ms/step - loss: 34.7075 - val_loss: 610.5966\n",
            "Epoch 24/1000\n",
            "122/122 [==============================] - 14s 77ms/step - loss: 31.2713 - val_loss: 871.7685\n",
            "Epoch 25/1000\n",
            "122/122 [==============================] - 14s 77ms/step - loss: 30.1696 - val_loss: 486.1270\n",
            "Epoch 26/1000\n",
            "122/122 [==============================] - 14s 77ms/step - loss: 32.6666 - val_loss: 1411.5980\n",
            "Epoch 27/1000\n",
            "122/122 [==============================] - 14s 77ms/step - loss: 29.4052 - val_loss: 265.6038\n",
            "Epoch 28/1000\n",
            "122/122 [==============================] - 14s 76ms/step - loss: 32.1939 - val_loss: 151.9547\n",
            "Epoch 29/1000\n",
            "122/122 [==============================] - 16s 85ms/step - loss: 25.9121 - val_loss: 137.6916\n",
            "Epoch 30/1000\n",
            "122/122 [==============================] - 14s 77ms/step - loss: 27.0690 - val_loss: 154.9503\n",
            "Epoch 31/1000\n",
            "122/122 [==============================] - 14s 77ms/step - loss: 26.0741 - val_loss: 728.2743\n",
            "Epoch 32/1000\n",
            "122/122 [==============================] - 15s 84ms/step - loss: 33.5664 - val_loss: 85.9248\n",
            "Epoch 33/1000\n",
            "122/122 [==============================] - 14s 77ms/step - loss: 35.6099 - val_loss: 145.1905\n",
            "Epoch 34/1000\n",
            "122/122 [==============================] - 14s 77ms/step - loss: 29.5643 - val_loss: 128.3628\n",
            "Epoch 35/1000\n",
            "122/122 [==============================] - 14s 76ms/step - loss: 29.3133 - val_loss: 127.0468\n",
            "Epoch 36/1000\n",
            "122/122 [==============================] - 15s 85ms/step - loss: 31.6504 - val_loss: 64.5183\n",
            "Epoch 37/1000\n",
            "122/122 [==============================] - 14s 78ms/step - loss: 31.7130 - val_loss: 80.2387\n",
            "Epoch 38/1000\n",
            "122/122 [==============================] - 15s 84ms/step - loss: 31.1741 - val_loss: 63.2492\n",
            "Epoch 39/1000\n",
            "122/122 [==============================] - 14s 78ms/step - loss: 28.4023 - val_loss: 65.7528\n",
            "Epoch 40/1000\n",
            "122/122 [==============================] - 14s 77ms/step - loss: 28.4926 - val_loss: 66.7082\n",
            "Epoch 41/1000\n",
            "122/122 [==============================] - 14s 77ms/step - loss: 25.2642 - val_loss: 68.5051\n",
            "Epoch 42/1000\n",
            "122/122 [==============================] - 15s 85ms/step - loss: 30.4462 - val_loss: 55.6115\n",
            "Epoch 43/1000\n",
            "122/122 [==============================] - 14s 76ms/step - loss: 27.3726 - val_loss: 58.8662\n",
            "Epoch 44/1000\n",
            "122/122 [==============================] - 14s 77ms/step - loss: 27.3633 - val_loss: 56.6817\n",
            "Epoch 45/1000\n",
            "122/122 [==============================] - 16s 87ms/step - loss: 23.6538 - val_loss: 54.1212\n",
            "Epoch 46/1000\n",
            "122/122 [==============================] - 15s 85ms/step - loss: 30.4883 - val_loss: 49.1744\n",
            "Epoch 47/1000\n",
            "122/122 [==============================] - 14s 77ms/step - loss: 26.3870 - val_loss: 49.8008\n",
            "Epoch 48/1000\n",
            "122/122 [==============================] - 14s 77ms/step - loss: 23.8354 - val_loss: 51.3515\n",
            "Epoch 49/1000\n",
            "122/122 [==============================] - 15s 84ms/step - loss: 29.1594 - val_loss: 48.7440\n",
            "Epoch 50/1000\n",
            "122/122 [==============================] - 14s 77ms/step - loss: 27.4405 - val_loss: 49.0683\n",
            "Epoch 51/1000\n",
            "122/122 [==============================] - 14s 76ms/step - loss: 35.5720 - val_loss: 50.8493\n",
            "Epoch 52/1000\n",
            "122/122 [==============================] - 14s 76ms/step - loss: 31.3188 - val_loss: 49.0294\n",
            "Epoch 53/1000\n",
            "122/122 [==============================] - 16s 86ms/step - loss: 29.1542 - val_loss: 47.1978\n",
            "Epoch 54/1000\n",
            "122/122 [==============================] - 14s 76ms/step - loss: 23.0819 - val_loss: 47.4954\n",
            "Epoch 55/1000\n",
            "122/122 [==============================] - 14s 76ms/step - loss: 27.7323 - val_loss: 47.6677\n",
            "Epoch 56/1000\n",
            "122/122 [==============================] - 15s 86ms/step - loss: 28.8842 - val_loss: 46.7844\n",
            "Epoch 57/1000\n",
            "122/122 [==============================] - 14s 76ms/step - loss: 26.6516 - val_loss: 46.9352\n",
            "Epoch 58/1000\n",
            "122/122 [==============================] - 14s 76ms/step - loss: 25.0819 - val_loss: 46.9256\n",
            "Epoch 59/1000\n",
            "122/122 [==============================] - 14s 76ms/step - loss: 25.1587 - val_loss: 47.3334\n",
            "Epoch 60/1000\n",
            "122/122 [==============================] - 14s 76ms/step - loss: 31.9095 - val_loss: 46.8955\n",
            "Epoch 61/1000\n",
            "122/122 [==============================] - 14s 76ms/step - loss: 26.0403 - val_loss: 47.1570\n",
            "Epoch 62/1000\n",
            "122/122 [==============================] - 14s 76ms/step - loss: 25.0104 - val_loss: 47.1052\n",
            "Epoch 63/1000\n",
            "122/122 [==============================] - 14s 76ms/step - loss: 27.5580 - val_loss: 46.9359\n",
            "Epoch 64/1000\n",
            "122/122 [==============================] - 15s 85ms/step - loss: 28.4652 - val_loss: 46.5539\n",
            "Epoch 65/1000\n",
            "122/122 [==============================] - 14s 76ms/step - loss: 32.2842 - val_loss: 46.6297\n",
            "Epoch 66/1000\n",
            "122/122 [==============================] - 14s 77ms/step - loss: 28.4837 - val_loss: 46.8756\n",
            "Epoch 67/1000\n",
            "122/122 [==============================] - 14s 77ms/step - loss: 26.9581 - val_loss: 46.8870\n",
            "Epoch 68/1000\n",
            "122/122 [==============================] - 14s 75ms/step - loss: 27.0159 - val_loss: 46.6097\n",
            "Epoch 69/1000\n",
            "122/122 [==============================] - 14s 76ms/step - loss: 25.7179 - val_loss: 46.9680\n",
            "Epoch 70/1000\n",
            "122/122 [==============================] - 14s 77ms/step - loss: 27.8770 - val_loss: 47.5139\n",
            "Epoch 71/1000\n",
            "122/122 [==============================] - 14s 76ms/step - loss: 27.1615 - val_loss: 47.1296\n",
            "Epoch 72/1000\n",
            "122/122 [==============================] - 14s 76ms/step - loss: 25.1926 - val_loss: 46.8659\n",
            "Epoch 73/1000\n",
            "122/122 [==============================] - 14s 76ms/step - loss: 25.1178 - val_loss: 46.8012\n"
          ]
        },
        {
          "data": {
            "text/html": [
              "Waiting for W&B process to finish... <strong style=\"color:green\">(success).</strong>"
            ],
            "text/plain": [
              "<IPython.core.display.HTML object>"
            ]
          },
          "metadata": {},
          "output_type": "display_data"
        },
        {
          "data": {
            "text/html": [
              "<style>\n",
              "    table.wandb td:nth-child(1) { padding: 0 10px; text-align: left ; width: auto;} td:nth-child(2) {text-align: left ; width: 100%}\n",
              "    .wandb-row { display: flex; flex-direction: row; flex-wrap: wrap; justify-content: flex-start; width: 100% }\n",
              "    .wandb-col { display: flex; flex-direction: column; flex-basis: 100%; flex: 1; padding: 10px; }\n",
              "    </style>\n",
              "<div class=\"wandb-row\"><div class=\"wandb-col\"><h3>Run history:</h3><br/><table class=\"wandb\"><tr><td>epoch</td><td>▁▁▁▁▂▂▂▂▂▃▃▃▃▃▃▄▄▄▄▄▅▅▅▅▅▅▆▆▆▆▆▇▇▇▇▇▇███</td></tr><tr><td>loss</td><td>█▁▁▁▁▁▁▁▁▁▁▁▁▁▁▁▁▁▁▁▁▁▁▁▁▁▁▁▁▁▁▁▁▁▁▁▁▁▁▁</td></tr><tr><td>val_loss</td><td>▇█▂▂▃▂▂▁▁▁▁▁▁▁▁▁▁▁▁▁▁▁▁▁▁▁▁▁▁▁▁▁▁▁▁▁▁▁▁▁</td></tr></table><br/></div><div class=\"wandb-col\"><h3>Run summary:</h3><br/><table class=\"wandb\"><tr><td>best_epoch</td><td>63</td></tr><tr><td>best_val_loss</td><td>46.55387</td></tr><tr><td>epoch</td><td>72</td></tr><tr><td>loss</td><td>25.11785</td></tr><tr><td>val_loss</td><td>46.80118</td></tr></table><br/></div></div>"
            ],
            "text/plain": [
              "<IPython.core.display.HTML object>"
            ]
          },
          "metadata": {},
          "output_type": "display_data"
        },
        {
          "data": {
            "text/html": [
              " View run <strong style=\"color:#cdcd00\">peach-sky-180</strong> at: <a href='https://wandb.ai/avogadro/Deep%20learning%20for%20option%20pricing%20-%20rolling%20windows/runs/tjndu6eq' target=\"_blank\">https://wandb.ai/avogadro/Deep%20learning%20for%20option%20pricing%20-%20rolling%20windows/runs/tjndu6eq</a><br/>Synced 5 W&B file(s), 1 media file(s), 0 artifact file(s) and 0 other file(s)"
            ],
            "text/plain": [
              "<IPython.core.display.HTML object>"
            ]
          },
          "metadata": {},
          "output_type": "display_data"
        },
        {
          "data": {
            "text/html": [
              "Find logs at: <code>./wandb/run-20230413_144839-tjndu6eq/logs</code>"
            ],
            "text/plain": [
              "<IPython.core.display.HTML object>"
            ]
          },
          "metadata": {},
          "output_type": "display_data"
        },
        {
          "metadata": {
            "tags": null
          },
          "name": "stdout",
          "output_type": "stream",
          "text": [
            "--- Predictions for test_start 2015-07-01 ---\n",
            "MSE: 420.97372\n",
            "RMSE: 20.517643\n",
            "-------------------------------------------\n",
            "Train shape: (680932, 10, 1), (680932, 4)\n",
            "Val shape: (78530, 10, 1), (78530, 4)\n",
            "Test shape: (76774, 10, 1), (76774, 4)\n"
          ]
        },
        {
          "data": {
            "text/html": [
              "Changes to your `wandb` environment variables will be ignored because your `wandb` session has already started. For more information on how to modify your settings with `wandb.init()` arguments, please refer to <a href='https://wandb.me/wandb-init' target=\"_blank\">the W&B docs</a>."
            ],
            "text/plain": [
              "<IPython.core.display.HTML object>"
            ]
          },
          "metadata": {},
          "output_type": "display_data"
        },
        {
          "data": {
            "text/html": [
              "Tracking run with wandb version 0.14.2"
            ],
            "text/plain": [
              "<IPython.core.display.HTML object>"
            ]
          },
          "metadata": {},
          "output_type": "display_data"
        },
        {
          "data": {
            "text/html": [
              "Run data is saved locally in <code>/content/wandb/run-20230413_150749-qxvtrlgj</code>"
            ],
            "text/plain": [
              "<IPython.core.display.HTML object>"
            ]
          },
          "metadata": {},
          "output_type": "display_data"
        },
        {
          "data": {
            "text/html": [
              "Syncing run <strong><a href='https://wandb.ai/avogadro/Deep%20learning%20for%20option%20pricing%20-%20rolling%20windows/runs/qxvtrlgj' target=\"_blank\">sweet-tree-181</a></strong> to <a href='https://wandb.ai/avogadro/Deep%20learning%20for%20option%20pricing%20-%20rolling%20windows' target=\"_blank\">Weights & Biases</a> (<a href='https://wandb.me/run' target=\"_blank\">docs</a>)<br/>"
            ],
            "text/plain": [
              "<IPython.core.display.HTML object>"
            ]
          },
          "metadata": {},
          "output_type": "display_data"
        },
        {
          "data": {
            "text/html": [
              " View project at <a href='https://wandb.ai/avogadro/Deep%20learning%20for%20option%20pricing%20-%20rolling%20windows' target=\"_blank\">https://wandb.ai/avogadro/Deep%20learning%20for%20option%20pricing%20-%20rolling%20windows</a>"
            ],
            "text/plain": [
              "<IPython.core.display.HTML object>"
            ]
          },
          "metadata": {},
          "output_type": "display_data"
        },
        {
          "data": {
            "text/html": [
              " View run at <a href='https://wandb.ai/avogadro/Deep%20learning%20for%20option%20pricing%20-%20rolling%20windows/runs/qxvtrlgj' target=\"_blank\">https://wandb.ai/avogadro/Deep%20learning%20for%20option%20pricing%20-%20rolling%20windows/runs/qxvtrlgj</a>"
            ],
            "text/plain": [
              "<IPython.core.display.HTML object>"
            ]
          },
          "metadata": {},
          "output_type": "display_data"
        },
        {
          "output_type": "stream",
          "name": "stdout",
          "text": [
            "Model: \"model\"\n",
            "__________________________________________________________________________________________________\n",
            " Layer (type)                   Output Shape         Param #     Connected to                     \n",
            "==================================================================================================\n",
            " input_1 (InputLayer)           [(None, 10, 1)]      0           []                               \n",
            "                                                                                                  \n",
            " sequential (Sequential)        (None, 16)           2016        ['input_1[0][0]',                \n",
            "                                                                  'input_1[0][0]',                \n",
            "                                                                  'input_1[0][0]',                \n",
            "                                                                  'input_1[0][0]',                \n",
            "                                                                  'input_1[0][0]']                \n",
            "                                                                                                  \n",
            " input_2 (InputLayer)           [(None, 4)]          0           []                               \n",
            "                                                                                                  \n",
            " concatenate (Concatenate)      (None, 84)           0           ['sequential[0][0]',             \n",
            "                                                                  'sequential[1][0]',             \n",
            "                                                                  'sequential[2][0]',             \n",
            "                                                                  'sequential[3][0]',             \n",
            "                                                                  'sequential[4][0]',             \n",
            "                                                                  'input_2[0][0]']                \n",
            "                                                                                                  \n",
            " dense (Dense)                  (None, 600)          51000       ['concatenate[0][0]']            \n",
            "                                                                                                  \n",
            " batch_normalization (BatchNorm  (None, 600)         2400        ['dense[0][0]']                  \n",
            " alization)                                                                                       \n",
            "                                                                                                  \n",
            " leaky_re_lu (LeakyReLU)        (None, 600)          0           ['batch_normalization[0][0]']    \n",
            "                                                                                                  \n",
            " dense_1 (Dense)                (None, 600)          360600      ['leaky_re_lu[0][0]']            \n",
            "                                                                                                  \n",
            " batch_normalization_1 (BatchNo  (None, 600)         2400        ['dense_1[0][0]']                \n",
            " rmalization)                                                                                     \n",
            "                                                                                                  \n",
            " leaky_re_lu_1 (LeakyReLU)      (None, 600)          0           ['batch_normalization_1[0][0]']  \n",
            "                                                                                                  \n",
            " dense_2 (Dense)                (None, 600)          360600      ['leaky_re_lu_1[0][0]']          \n",
            "                                                                                                  \n",
            " batch_normalization_2 (BatchNo  (None, 600)         2400        ['dense_2[0][0]']                \n",
            " rmalization)                                                                                     \n",
            "                                                                                                  \n",
            " leaky_re_lu_2 (LeakyReLU)      (None, 600)          0           ['batch_normalization_2[0][0]']  \n",
            "                                                                                                  \n",
            " dense_3 (Dense)                (None, 600)          360600      ['leaky_re_lu_2[0][0]']          \n",
            "                                                                                                  \n",
            " batch_normalization_3 (BatchNo  (None, 600)         2400        ['dense_3[0][0]']                \n",
            " rmalization)                                                                                     \n",
            "                                                                                                  \n",
            " leaky_re_lu_3 (LeakyReLU)      (None, 600)          0           ['batch_normalization_3[0][0]']  \n",
            "                                                                                                  \n",
            " dense_4 (Dense)                (None, 600)          360600      ['leaky_re_lu_3[0][0]']          \n",
            "                                                                                                  \n",
            " batch_normalization_4 (BatchNo  (None, 600)         2400        ['dense_4[0][0]']                \n",
            " rmalization)                                                                                     \n",
            "                                                                                                  \n",
            " leaky_re_lu_4 (LeakyReLU)      (None, 600)          0           ['batch_normalization_4[0][0]']  \n",
            "                                                                                                  \n",
            " dense_5 (Dense)                (None, 600)          360600      ['leaky_re_lu_4[0][0]']          \n",
            "                                                                                                  \n",
            " batch_normalization_5 (BatchNo  (None, 600)         2400        ['dense_5[0][0]']                \n",
            " rmalization)                                                                                     \n",
            "                                                                                                  \n",
            " leaky_re_lu_5 (LeakyReLU)      (None, 600)          0           ['batch_normalization_5[0][0]']  \n",
            "                                                                                                  \n",
            " dense_6 (Dense)                (None, 1)            601         ['leaky_re_lu_5[0][0]']          \n",
            "                                                                                                  \n",
            "==================================================================================================\n",
            "Total params: 1,871,017\n",
            "Trainable params: 1,863,817\n",
            "Non-trainable params: 7,200\n",
            "__________________________________________________________________________________________________\n",
            "Train shape: (496184, 10, 1), (496184, 10, 1)\n",
            "Val shape: (61101, 10, 1), (61101, 10, 1)\n",
            "Epoch 1/1000\n",
            "122/122 [==============================] - 60s 139ms/step - loss: 71235.5938 - val_loss: 102490.4141\n",
            "Epoch 2/1000\n",
            "122/122 [==============================] - 16s 88ms/step - loss: 1092.7012 - val_loss: 99062.7969\n",
            "Epoch 3/1000\n",
            "122/122 [==============================] - 16s 88ms/step - loss: 146.5939 - val_loss: 42739.7266\n",
            "Epoch 4/1000\n",
            "122/122 [==============================] - 16s 86ms/step - loss: 106.1587 - val_loss: 35471.2500\n",
            "Epoch 5/1000\n",
            "122/122 [==============================] - 15s 85ms/step - loss: 72.1661 - val_loss: 6743.5537\n",
            "Epoch 6/1000\n",
            "122/122 [==============================] - 14s 77ms/step - loss: 65.2605 - val_loss: 14060.4043\n",
            "Epoch 7/1000\n",
            "122/122 [==============================] - 15s 85ms/step - loss: 78.4626 - val_loss: 2746.5930\n",
            "Epoch 8/1000\n",
            "122/122 [==============================] - 14s 77ms/step - loss: 54.9649 - val_loss: 7103.1274\n",
            "Epoch 9/1000\n",
            "122/122 [==============================] - 15s 85ms/step - loss: 58.4407 - val_loss: 310.6168\n",
            "Epoch 10/1000\n",
            "122/122 [==============================] - 14s 77ms/step - loss: 44.8525 - val_loss: 901.6626\n",
            "Epoch 11/1000\n",
            "122/122 [==============================] - 14s 76ms/step - loss: 44.3115 - val_loss: 29435.9668\n",
            "Epoch 12/1000\n",
            "122/122 [==============================] - 14s 77ms/step - loss: 38.9431 - val_loss: 2483.6267\n",
            "Epoch 13/1000\n",
            "122/122 [==============================] - 15s 77ms/step - loss: 40.3572 - val_loss: 1084.6874\n",
            "Epoch 14/1000\n",
            "122/122 [==============================] - 14s 77ms/step - loss: 43.2538 - val_loss: 29138.0176\n",
            "Epoch 15/1000\n",
            "122/122 [==============================] - 14s 77ms/step - loss: 45.8849 - val_loss: 389.3805\n",
            "Epoch 16/1000\n",
            "122/122 [==============================] - 14s 77ms/step - loss: 29.8927 - val_loss: 374.4343\n",
            "Epoch 17/1000\n",
            "122/122 [==============================] - 15s 84ms/step - loss: 41.9904 - val_loss: 274.9516\n",
            "Epoch 18/1000\n",
            "122/122 [==============================] - 15s 84ms/step - loss: 36.3481 - val_loss: 209.1668\n",
            "Epoch 19/1000\n",
            "122/122 [==============================] - 14s 77ms/step - loss: 36.9117 - val_loss: 1742.1973\n",
            "Epoch 20/1000\n",
            "122/122 [==============================] - 14s 77ms/step - loss: 38.9838 - val_loss: 5810.3022\n",
            "Epoch 21/1000\n",
            "122/122 [==============================] - 14s 76ms/step - loss: 32.4864 - val_loss: 4707.0757\n",
            "Epoch 22/1000\n",
            "122/122 [==============================] - 14s 76ms/step - loss: 37.1304 - val_loss: 299.5244\n",
            "Epoch 23/1000\n",
            "122/122 [==============================] - 15s 84ms/step - loss: 30.8745 - val_loss: 108.7106\n",
            "Epoch 24/1000\n",
            "122/122 [==============================] - 15s 85ms/step - loss: 31.1999 - val_loss: 93.8902\n",
            "Epoch 25/1000\n",
            "122/122 [==============================] - 15s 85ms/step - loss: 28.7607 - val_loss: 44.8975\n",
            "Epoch 26/1000\n",
            "122/122 [==============================] - 14s 77ms/step - loss: 28.0893 - val_loss: 69.1299\n",
            "Epoch 27/1000\n",
            "122/122 [==============================] - 14s 77ms/step - loss: 25.3869 - val_loss: 477.0559\n",
            "Epoch 28/1000\n",
            "122/122 [==============================] - 14s 76ms/step - loss: 30.9980 - val_loss: 413.8033\n",
            "Epoch 29/1000\n",
            "122/122 [==============================] - 14s 77ms/step - loss: 27.3283 - val_loss: 121.6798\n",
            "Epoch 30/1000\n",
            "122/122 [==============================] - 15s 78ms/step - loss: 30.8433 - val_loss: 392.3675\n",
            "Epoch 31/1000\n",
            "122/122 [==============================] - 14s 77ms/step - loss: 32.8524 - val_loss: 341.4343\n",
            "Epoch 32/1000\n",
            "122/122 [==============================] - 14s 77ms/step - loss: 26.4213 - val_loss: 63.3348\n",
            "Epoch 33/1000\n",
            "122/122 [==============================] - 14s 77ms/step - loss: 27.2621 - val_loss: 51.8831\n",
            "Epoch 34/1000\n",
            "122/122 [==============================] - 14s 77ms/step - loss: 28.9135 - val_loss: 72.3264\n",
            "Epoch 35/1000\n",
            "122/122 [==============================] - 14s 76ms/step - loss: 27.7645 - val_loss: 90.0822\n",
            "Epoch 36/1000\n",
            "122/122 [==============================] - 14s 77ms/step - loss: 37.6736 - val_loss: 61.4348\n",
            "Epoch 37/1000\n",
            "122/122 [==============================] - 14s 77ms/step - loss: 31.9251 - val_loss: 74.0575\n",
            "Epoch 38/1000\n",
            "122/122 [==============================] - 14s 77ms/step - loss: 26.3941 - val_loss: 45.1259\n",
            "Epoch 39/1000\n",
            " 92/122 [=====================>........] - ETA: 1s - loss: 29.6760"
          ]
        }
      ],
      "source": [
        "num_windows = 12 #84\n",
        "\n",
        "config = {\n",
        "    'LSTM_units': 4,\n",
        "    'Interface_units': 16,\n",
        "    'MLP_units': 600,\n",
        "    'LSTM_timesteps': 10,\n",
        "    'LSTM_layers': 6,\n",
        "    'MLP_layers': 7,\n",
        "    'Bn_momentum': 0.99,\n",
        "    'Lr': 0.005,\n",
        "    'Lr_decay': 0.82,\n",
        "    'Minibatch_size': 4096,\n",
        "    'Min_delta': 0.01 if moneyness else 1,\n",
        "    'Patience': 20,\n",
        "    'Num_features': 3 if moneyness else 4, \n",
        "    'Architecture': 'LSTM-MLP v.5.0',\n",
        "}\n",
        "\n",
        "# Ask before training, so that you don't have to verify later\n",
        "from google.colab import drive\n",
        "if google_colab == True:\n",
        "  drive.mount('/content/drive')\n",
        "\n",
        "df_test_combined = pd.DataFrame()\n",
        "\n",
        "checkpoint_time = datetime.now().strftime(\"%m-%d_%H-%M\")\n",
        "\n",
        "for window in range(num_windows):\n",
        "    if moneyness:\n",
        "        train_x, train_y, val_x, val_y, test_x, test_y, train_start, val_start, test_start, df_test, train_strike, val_strike, test_strike, = create_rw_dataset(window)\n",
        "    else:\n",
        "        train_x, train_y, val_x, val_y, test_x, test_y, train_start, val_start, test_start, df_test = create_rw_dataset(window)\n",
        "\n",
        "    checkpoint_path = f'/content/drive/MyDrive/01. Masters Thesis - Shared/05. Checkpoints/{checkpoint_time}/{train_start}/'\n",
        "\n",
        "    config['Dataset'] = f'{train_start} - {val_start} - {test_start}'\n",
        "\n",
        "    trainer(config = config, project = 'Deep learning for option pricing - rolling windows', checkpoint_path = checkpoint_path)\n",
        "    c_model = load_model(checkpoint_path + \".h5\")\n",
        "    predictions = np.array(c_model(test_x))\n",
        "    print(f'--- Predictions for test_start {test_start} ---')\n",
        "    calculate_error(predictions, test_y)\n",
        "    print('-------------------------------------------')\n",
        "    df_test[\"Prediction\"] = predictions\n",
        "    df_test_combined = pd.concat([df_test_combined, df_test[[\"Quote_date\", \"Price\", \"Prediction\"] + bs_vars]])\n",
        "\n",
        "\n",
        "print(f\"--- All model predictions ---\")\n",
        "calculate_error(df_test_combined[\"Prediction\"], df_test_combined[\"Price\"])\n",
        "print(\"-------------------------------------------\")\n",
        "\n",
        "if google_colab == False:\n",
        "    predictions_path = './predictions/'\n",
        "    if checkpoint_path and not os.path.exists(predictions_path):\n",
        "        os.makedirs(predictions_path)\n",
        "    df_test_combined.to_csv(f'{predictions_path}{datetime.now().strftime(\"%m-%d_%H-%M\")}.csv')\n",
        "\n",
        "if google_colab == True:\n",
        "  path = '/content/drive/My Drive/Predictions/predictions_2015_v5_3.csv'\n",
        "  with open(path, 'w', encoding = 'utf-8-sig') as f:\n",
        "    df_test_combined.to_csv(f)"
      ]
    },
    {
      "cell_type": "markdown",
      "metadata": {
        "id": "ucgo2McGTnkt"
      },
      "source": [
        "### Load single model"
      ]
    },
    {
      "cell_type": "code",
      "execution_count": null,
      "metadata": {
        "id": "YggplbxMTnkt"
      },
      "outputs": [],
      "source": [
        "config = {\n",
        "    'LSTM_units': 4,\n",
        "    'Interface_units': 4,\n",
        "    'MLP_units': 600,\n",
        "    'LSTM_timesteps': 10,\n",
        "    'LSTM_layers': 3,\n",
        "    'MLP_layers': 7,\n",
        "    'Bn_momentum': 0.99,\n",
        "    'Lr': 0.0001,\n",
        "    'Lr_decay': 0.92,\n",
        "    'Minibatch_size': 4096,\n",
        "    'Min_delta': 0.01 if moneyness else 1,\n",
        "    'Patience': 20,\n",
        "    'Num_features': 3 if moneyness else 4, \n",
        "    'Architecture': 'LSTM-MLP v.1.0',\n",
        "}\n",
        "\n",
        "window = 1\n",
        "if moneyness:\n",
        "        train_x, train_y, val_x, val_y, test_x, test_y, train_start, val_start, test_start, df_test, train_strike, val_strike, test_strike, = create_rw_dataset(window)\n",
        "else:\n",
        "    train_x, train_y, val_x, val_y, test_x, test_y, train_start, val_start, test_start, df_test = create_rw_dataset(window)\n",
        "\n",
        "checkpoint_path = f'./checkpoint/03-20_12-35/{train_start}/'\n",
        "\n",
        "co = config_object(config)\n",
        "c_model = create_model(co)\n",
        "c_model.load_weights(checkpoint_path)\n",
        "predictions = np.array(c_model(test_x))\n",
        "print(f'--- Predictions for {test_start} ---')\n",
        "calculate_error(predictions, test_y)\n",
        "print('-------------------------------------------')"
      ]
    },
    {
      "cell_type": "code",
      "execution_count": null,
      "metadata": {
        "id": "MQQfeNDKTnkt"
      },
      "outputs": [],
      "source": []
    }
  ],
  "metadata": {
    "accelerator": "GPU",
    "colab": {
      "machine_shape": "hm",
      "provenance": []
    },
    "gpuClass": "standard",
    "kernelspec": {
      "display_name": "Python 3",
      "language": "python",
      "name": "python3"
    },
    "language_info": {
      "codemirror_mode": {
        "name": "ipython",
        "version": 3
      },
      "file_extension": ".py",
      "mimetype": "text/x-python",
      "name": "python",
      "nbconvert_exporter": "python",
      "pygments_lexer": "ipython3",
      "version": "3.10.9"
    },
    "orig_nbformat": 4,
    "vscode": {
      "interpreter": {
        "hash": "aee8b7b246df8f9039afb4144a1f6fd8d2ca17a180786b69acc140d282b71a49"
      }
    },
    "widgets": {
      "application/vnd.jupyter.widget-state+json": {
        "a1954bb78ce94f829a75bc643aeee409": {
          "model_module": "@jupyter-widgets/controls",
          "model_name": "VBoxModel",
          "model_module_version": "1.5.0",
          "state": {
            "_dom_classes": [],
            "_model_module": "@jupyter-widgets/controls",
            "_model_module_version": "1.5.0",
            "_model_name": "VBoxModel",
            "_view_count": null,
            "_view_module": "@jupyter-widgets/controls",
            "_view_module_version": "1.5.0",
            "_view_name": "VBoxView",
            "box_style": "",
            "children": [
              "IPY_MODEL_2d39a65a1f974e07a8b02bcc7faf6b88",
              "IPY_MODEL_6c2f7124610c4a3f8d182cb43df763c1"
            ],
            "layout": "IPY_MODEL_5c5d400dee2a495b82eb50a610855ff9"
          }
        },
        "2d39a65a1f974e07a8b02bcc7faf6b88": {
          "model_module": "@jupyter-widgets/controls",
          "model_name": "LabelModel",
          "model_module_version": "1.5.0",
          "state": {
            "_dom_classes": [],
            "_model_module": "@jupyter-widgets/controls",
            "_model_module_version": "1.5.0",
            "_model_name": "LabelModel",
            "_view_count": null,
            "_view_module": "@jupyter-widgets/controls",
            "_view_module_version": "1.5.0",
            "_view_name": "LabelView",
            "description": "",
            "description_tooltip": null,
            "layout": "IPY_MODEL_4461526c5986459ba181e6349711be04",
            "placeholder": "​",
            "style": "IPY_MODEL_59b15b1ecbd24a78a18bdd1c526ddccb",
            "value": "0.023 MB of 0.024 MB uploaded (0.000 MB deduped)\r"
          }
        },
        "6c2f7124610c4a3f8d182cb43df763c1": {
          "model_module": "@jupyter-widgets/controls",
          "model_name": "FloatProgressModel",
          "model_module_version": "1.5.0",
          "state": {
            "_dom_classes": [],
            "_model_module": "@jupyter-widgets/controls",
            "_model_module_version": "1.5.0",
            "_model_name": "FloatProgressModel",
            "_view_count": null,
            "_view_module": "@jupyter-widgets/controls",
            "_view_module_version": "1.5.0",
            "_view_name": "ProgressView",
            "bar_style": "",
            "description": "",
            "description_tooltip": null,
            "layout": "IPY_MODEL_bcb274d7ec5a4e028fcfa155037e74c9",
            "max": 1,
            "min": 0,
            "orientation": "horizontal",
            "style": "IPY_MODEL_56c73630716b490ebc77a90eea6a6e5e",
            "value": 0.9563805476486389
          }
        },
        "5c5d400dee2a495b82eb50a610855ff9": {
          "model_module": "@jupyter-widgets/base",
          "model_name": "LayoutModel",
          "model_module_version": "1.2.0",
          "state": {
            "_model_module": "@jupyter-widgets/base",
            "_model_module_version": "1.2.0",
            "_model_name": "LayoutModel",
            "_view_count": null,
            "_view_module": "@jupyter-widgets/base",
            "_view_module_version": "1.2.0",
            "_view_name": "LayoutView",
            "align_content": null,
            "align_items": null,
            "align_self": null,
            "border": null,
            "bottom": null,
            "display": null,
            "flex": null,
            "flex_flow": null,
            "grid_area": null,
            "grid_auto_columns": null,
            "grid_auto_flow": null,
            "grid_auto_rows": null,
            "grid_column": null,
            "grid_gap": null,
            "grid_row": null,
            "grid_template_areas": null,
            "grid_template_columns": null,
            "grid_template_rows": null,
            "height": null,
            "justify_content": null,
            "justify_items": null,
            "left": null,
            "margin": null,
            "max_height": null,
            "max_width": null,
            "min_height": null,
            "min_width": null,
            "object_fit": null,
            "object_position": null,
            "order": null,
            "overflow": null,
            "overflow_x": null,
            "overflow_y": null,
            "padding": null,
            "right": null,
            "top": null,
            "visibility": null,
            "width": null
          }
        },
        "4461526c5986459ba181e6349711be04": {
          "model_module": "@jupyter-widgets/base",
          "model_name": "LayoutModel",
          "model_module_version": "1.2.0",
          "state": {
            "_model_module": "@jupyter-widgets/base",
            "_model_module_version": "1.2.0",
            "_model_name": "LayoutModel",
            "_view_count": null,
            "_view_module": "@jupyter-widgets/base",
            "_view_module_version": "1.2.0",
            "_view_name": "LayoutView",
            "align_content": null,
            "align_items": null,
            "align_self": null,
            "border": null,
            "bottom": null,
            "display": null,
            "flex": null,
            "flex_flow": null,
            "grid_area": null,
            "grid_auto_columns": null,
            "grid_auto_flow": null,
            "grid_auto_rows": null,
            "grid_column": null,
            "grid_gap": null,
            "grid_row": null,
            "grid_template_areas": null,
            "grid_template_columns": null,
            "grid_template_rows": null,
            "height": null,
            "justify_content": null,
            "justify_items": null,
            "left": null,
            "margin": null,
            "max_height": null,
            "max_width": null,
            "min_height": null,
            "min_width": null,
            "object_fit": null,
            "object_position": null,
            "order": null,
            "overflow": null,
            "overflow_x": null,
            "overflow_y": null,
            "padding": null,
            "right": null,
            "top": null,
            "visibility": null,
            "width": null
          }
        },
        "59b15b1ecbd24a78a18bdd1c526ddccb": {
          "model_module": "@jupyter-widgets/controls",
          "model_name": "DescriptionStyleModel",
          "model_module_version": "1.5.0",
          "state": {
            "_model_module": "@jupyter-widgets/controls",
            "_model_module_version": "1.5.0",
            "_model_name": "DescriptionStyleModel",
            "_view_count": null,
            "_view_module": "@jupyter-widgets/base",
            "_view_module_version": "1.2.0",
            "_view_name": "StyleView",
            "description_width": ""
          }
        },
        "bcb274d7ec5a4e028fcfa155037e74c9": {
          "model_module": "@jupyter-widgets/base",
          "model_name": "LayoutModel",
          "model_module_version": "1.2.0",
          "state": {
            "_model_module": "@jupyter-widgets/base",
            "_model_module_version": "1.2.0",
            "_model_name": "LayoutModel",
            "_view_count": null,
            "_view_module": "@jupyter-widgets/base",
            "_view_module_version": "1.2.0",
            "_view_name": "LayoutView",
            "align_content": null,
            "align_items": null,
            "align_self": null,
            "border": null,
            "bottom": null,
            "display": null,
            "flex": null,
            "flex_flow": null,
            "grid_area": null,
            "grid_auto_columns": null,
            "grid_auto_flow": null,
            "grid_auto_rows": null,
            "grid_column": null,
            "grid_gap": null,
            "grid_row": null,
            "grid_template_areas": null,
            "grid_template_columns": null,
            "grid_template_rows": null,
            "height": null,
            "justify_content": null,
            "justify_items": null,
            "left": null,
            "margin": null,
            "max_height": null,
            "max_width": null,
            "min_height": null,
            "min_width": null,
            "object_fit": null,
            "object_position": null,
            "order": null,
            "overflow": null,
            "overflow_x": null,
            "overflow_y": null,
            "padding": null,
            "right": null,
            "top": null,
            "visibility": null,
            "width": null
          }
        },
        "56c73630716b490ebc77a90eea6a6e5e": {
          "model_module": "@jupyter-widgets/controls",
          "model_name": "ProgressStyleModel",
          "model_module_version": "1.5.0",
          "state": {
            "_model_module": "@jupyter-widgets/controls",
            "_model_module_version": "1.5.0",
            "_model_name": "ProgressStyleModel",
            "_view_count": null,
            "_view_module": "@jupyter-widgets/base",
            "_view_module_version": "1.2.0",
            "_view_name": "StyleView",
            "bar_color": null,
            "description_width": ""
          }
        },
        "467afce6d6504e4ba8a854c3a759b227": {
          "model_module": "@jupyter-widgets/controls",
          "model_name": "VBoxModel",
          "model_module_version": "1.5.0",
          "state": {
            "_dom_classes": [],
            "_model_module": "@jupyter-widgets/controls",
            "_model_module_version": "1.5.0",
            "_model_name": "VBoxModel",
            "_view_count": null,
            "_view_module": "@jupyter-widgets/controls",
            "_view_module_version": "1.5.0",
            "_view_name": "VBoxView",
            "box_style": "",
            "children": [
              "IPY_MODEL_be0cc820d3e84e4a8e20dd0bcddd3d0a",
              "IPY_MODEL_0f191b24c63e45d99ef2a037746914f6"
            ],
            "layout": "IPY_MODEL_83ecebcb0f244857b3887f62748f3756"
          }
        },
        "be0cc820d3e84e4a8e20dd0bcddd3d0a": {
          "model_module": "@jupyter-widgets/controls",
          "model_name": "LabelModel",
          "model_module_version": "1.5.0",
          "state": {
            "_dom_classes": [],
            "_model_module": "@jupyter-widgets/controls",
            "_model_module_version": "1.5.0",
            "_model_name": "LabelModel",
            "_view_count": null,
            "_view_module": "@jupyter-widgets/controls",
            "_view_module_version": "1.5.0",
            "_view_name": "LabelView",
            "description": "",
            "description_tooltip": null,
            "layout": "IPY_MODEL_dd04418670d14644b08a55fe0dd77777",
            "placeholder": "​",
            "style": "IPY_MODEL_a964036c0bd7473ea7ca5e1055f6d2db",
            "value": "0.024 MB of 0.024 MB uploaded (0.000 MB deduped)\r"
          }
        },
        "0f191b24c63e45d99ef2a037746914f6": {
          "model_module": "@jupyter-widgets/controls",
          "model_name": "FloatProgressModel",
          "model_module_version": "1.5.0",
          "state": {
            "_dom_classes": [],
            "_model_module": "@jupyter-widgets/controls",
            "_model_module_version": "1.5.0",
            "_model_name": "FloatProgressModel",
            "_view_count": null,
            "_view_module": "@jupyter-widgets/controls",
            "_view_module_version": "1.5.0",
            "_view_name": "ProgressView",
            "bar_style": "",
            "description": "",
            "description_tooltip": null,
            "layout": "IPY_MODEL_64a6ad6a09b243c29b4f9b4534d2ba11",
            "max": 1,
            "min": 0,
            "orientation": "horizontal",
            "style": "IPY_MODEL_d77dd01635ef43859911fabebbe4deda",
            "value": 1
          }
        },
        "83ecebcb0f244857b3887f62748f3756": {
          "model_module": "@jupyter-widgets/base",
          "model_name": "LayoutModel",
          "model_module_version": "1.2.0",
          "state": {
            "_model_module": "@jupyter-widgets/base",
            "_model_module_version": "1.2.0",
            "_model_name": "LayoutModel",
            "_view_count": null,
            "_view_module": "@jupyter-widgets/base",
            "_view_module_version": "1.2.0",
            "_view_name": "LayoutView",
            "align_content": null,
            "align_items": null,
            "align_self": null,
            "border": null,
            "bottom": null,
            "display": null,
            "flex": null,
            "flex_flow": null,
            "grid_area": null,
            "grid_auto_columns": null,
            "grid_auto_flow": null,
            "grid_auto_rows": null,
            "grid_column": null,
            "grid_gap": null,
            "grid_row": null,
            "grid_template_areas": null,
            "grid_template_columns": null,
            "grid_template_rows": null,
            "height": null,
            "justify_content": null,
            "justify_items": null,
            "left": null,
            "margin": null,
            "max_height": null,
            "max_width": null,
            "min_height": null,
            "min_width": null,
            "object_fit": null,
            "object_position": null,
            "order": null,
            "overflow": null,
            "overflow_x": null,
            "overflow_y": null,
            "padding": null,
            "right": null,
            "top": null,
            "visibility": null,
            "width": null
          }
        },
        "dd04418670d14644b08a55fe0dd77777": {
          "model_module": "@jupyter-widgets/base",
          "model_name": "LayoutModel",
          "model_module_version": "1.2.0",
          "state": {
            "_model_module": "@jupyter-widgets/base",
            "_model_module_version": "1.2.0",
            "_model_name": "LayoutModel",
            "_view_count": null,
            "_view_module": "@jupyter-widgets/base",
            "_view_module_version": "1.2.0",
            "_view_name": "LayoutView",
            "align_content": null,
            "align_items": null,
            "align_self": null,
            "border": null,
            "bottom": null,
            "display": null,
            "flex": null,
            "flex_flow": null,
            "grid_area": null,
            "grid_auto_columns": null,
            "grid_auto_flow": null,
            "grid_auto_rows": null,
            "grid_column": null,
            "grid_gap": null,
            "grid_row": null,
            "grid_template_areas": null,
            "grid_template_columns": null,
            "grid_template_rows": null,
            "height": null,
            "justify_content": null,
            "justify_items": null,
            "left": null,
            "margin": null,
            "max_height": null,
            "max_width": null,
            "min_height": null,
            "min_width": null,
            "object_fit": null,
            "object_position": null,
            "order": null,
            "overflow": null,
            "overflow_x": null,
            "overflow_y": null,
            "padding": null,
            "right": null,
            "top": null,
            "visibility": null,
            "width": null
          }
        },
        "a964036c0bd7473ea7ca5e1055f6d2db": {
          "model_module": "@jupyter-widgets/controls",
          "model_name": "DescriptionStyleModel",
          "model_module_version": "1.5.0",
          "state": {
            "_model_module": "@jupyter-widgets/controls",
            "_model_module_version": "1.5.0",
            "_model_name": "DescriptionStyleModel",
            "_view_count": null,
            "_view_module": "@jupyter-widgets/base",
            "_view_module_version": "1.2.0",
            "_view_name": "StyleView",
            "description_width": ""
          }
        },
        "64a6ad6a09b243c29b4f9b4534d2ba11": {
          "model_module": "@jupyter-widgets/base",
          "model_name": "LayoutModel",
          "model_module_version": "1.2.0",
          "state": {
            "_model_module": "@jupyter-widgets/base",
            "_model_module_version": "1.2.0",
            "_model_name": "LayoutModel",
            "_view_count": null,
            "_view_module": "@jupyter-widgets/base",
            "_view_module_version": "1.2.0",
            "_view_name": "LayoutView",
            "align_content": null,
            "align_items": null,
            "align_self": null,
            "border": null,
            "bottom": null,
            "display": null,
            "flex": null,
            "flex_flow": null,
            "grid_area": null,
            "grid_auto_columns": null,
            "grid_auto_flow": null,
            "grid_auto_rows": null,
            "grid_column": null,
            "grid_gap": null,
            "grid_row": null,
            "grid_template_areas": null,
            "grid_template_columns": null,
            "grid_template_rows": null,
            "height": null,
            "justify_content": null,
            "justify_items": null,
            "left": null,
            "margin": null,
            "max_height": null,
            "max_width": null,
            "min_height": null,
            "min_width": null,
            "object_fit": null,
            "object_position": null,
            "order": null,
            "overflow": null,
            "overflow_x": null,
            "overflow_y": null,
            "padding": null,
            "right": null,
            "top": null,
            "visibility": null,
            "width": null
          }
        },
        "d77dd01635ef43859911fabebbe4deda": {
          "model_module": "@jupyter-widgets/controls",
          "model_name": "ProgressStyleModel",
          "model_module_version": "1.5.0",
          "state": {
            "_model_module": "@jupyter-widgets/controls",
            "_model_module_version": "1.5.0",
            "_model_name": "ProgressStyleModel",
            "_view_count": null,
            "_view_module": "@jupyter-widgets/base",
            "_view_module_version": "1.2.0",
            "_view_name": "StyleView",
            "bar_color": null,
            "description_width": ""
          }
        },
        "5d97ac3cfed043f88dc4cb7230225f9c": {
          "model_module": "@jupyter-widgets/controls",
          "model_name": "VBoxModel",
          "model_module_version": "1.5.0",
          "state": {
            "_dom_classes": [],
            "_model_module": "@jupyter-widgets/controls",
            "_model_module_version": "1.5.0",
            "_model_name": "VBoxModel",
            "_view_count": null,
            "_view_module": "@jupyter-widgets/controls",
            "_view_module_version": "1.5.0",
            "_view_name": "VBoxView",
            "box_style": "",
            "children": [
              "IPY_MODEL_dc7c2ba0867d416a93ee22fce46d547d",
              "IPY_MODEL_6301653bf0534cd6bfd9f51f11fa2f57"
            ],
            "layout": "IPY_MODEL_4147b90eada94598aa53358ecce474b8"
          }
        },
        "dc7c2ba0867d416a93ee22fce46d547d": {
          "model_module": "@jupyter-widgets/controls",
          "model_name": "LabelModel",
          "model_module_version": "1.5.0",
          "state": {
            "_dom_classes": [],
            "_model_module": "@jupyter-widgets/controls",
            "_model_module_version": "1.5.0",
            "_model_name": "LabelModel",
            "_view_count": null,
            "_view_module": "@jupyter-widgets/controls",
            "_view_module_version": "1.5.0",
            "_view_name": "LabelView",
            "description": "",
            "description_tooltip": null,
            "layout": "IPY_MODEL_473eff908935482c8130987ea98bf056",
            "placeholder": "​",
            "style": "IPY_MODEL_2a00d5e54b5f447697c5b5d5d476517e",
            "value": "0.024 MB of 0.024 MB uploaded (0.000 MB deduped)\r"
          }
        },
        "6301653bf0534cd6bfd9f51f11fa2f57": {
          "model_module": "@jupyter-widgets/controls",
          "model_name": "FloatProgressModel",
          "model_module_version": "1.5.0",
          "state": {
            "_dom_classes": [],
            "_model_module": "@jupyter-widgets/controls",
            "_model_module_version": "1.5.0",
            "_model_name": "FloatProgressModel",
            "_view_count": null,
            "_view_module": "@jupyter-widgets/controls",
            "_view_module_version": "1.5.0",
            "_view_name": "ProgressView",
            "bar_style": "",
            "description": "",
            "description_tooltip": null,
            "layout": "IPY_MODEL_fb751eb2248e4169b20151b073e110e4",
            "max": 1,
            "min": 0,
            "orientation": "horizontal",
            "style": "IPY_MODEL_b879f97b98b54662928e2fa64c80d7e3",
            "value": 1
          }
        },
        "4147b90eada94598aa53358ecce474b8": {
          "model_module": "@jupyter-widgets/base",
          "model_name": "LayoutModel",
          "model_module_version": "1.2.0",
          "state": {
            "_model_module": "@jupyter-widgets/base",
            "_model_module_version": "1.2.0",
            "_model_name": "LayoutModel",
            "_view_count": null,
            "_view_module": "@jupyter-widgets/base",
            "_view_module_version": "1.2.0",
            "_view_name": "LayoutView",
            "align_content": null,
            "align_items": null,
            "align_self": null,
            "border": null,
            "bottom": null,
            "display": null,
            "flex": null,
            "flex_flow": null,
            "grid_area": null,
            "grid_auto_columns": null,
            "grid_auto_flow": null,
            "grid_auto_rows": null,
            "grid_column": null,
            "grid_gap": null,
            "grid_row": null,
            "grid_template_areas": null,
            "grid_template_columns": null,
            "grid_template_rows": null,
            "height": null,
            "justify_content": null,
            "justify_items": null,
            "left": null,
            "margin": null,
            "max_height": null,
            "max_width": null,
            "min_height": null,
            "min_width": null,
            "object_fit": null,
            "object_position": null,
            "order": null,
            "overflow": null,
            "overflow_x": null,
            "overflow_y": null,
            "padding": null,
            "right": null,
            "top": null,
            "visibility": null,
            "width": null
          }
        },
        "473eff908935482c8130987ea98bf056": {
          "model_module": "@jupyter-widgets/base",
          "model_name": "LayoutModel",
          "model_module_version": "1.2.0",
          "state": {
            "_model_module": "@jupyter-widgets/base",
            "_model_module_version": "1.2.0",
            "_model_name": "LayoutModel",
            "_view_count": null,
            "_view_module": "@jupyter-widgets/base",
            "_view_module_version": "1.2.0",
            "_view_name": "LayoutView",
            "align_content": null,
            "align_items": null,
            "align_self": null,
            "border": null,
            "bottom": null,
            "display": null,
            "flex": null,
            "flex_flow": null,
            "grid_area": null,
            "grid_auto_columns": null,
            "grid_auto_flow": null,
            "grid_auto_rows": null,
            "grid_column": null,
            "grid_gap": null,
            "grid_row": null,
            "grid_template_areas": null,
            "grid_template_columns": null,
            "grid_template_rows": null,
            "height": null,
            "justify_content": null,
            "justify_items": null,
            "left": null,
            "margin": null,
            "max_height": null,
            "max_width": null,
            "min_height": null,
            "min_width": null,
            "object_fit": null,
            "object_position": null,
            "order": null,
            "overflow": null,
            "overflow_x": null,
            "overflow_y": null,
            "padding": null,
            "right": null,
            "top": null,
            "visibility": null,
            "width": null
          }
        },
        "2a00d5e54b5f447697c5b5d5d476517e": {
          "model_module": "@jupyter-widgets/controls",
          "model_name": "DescriptionStyleModel",
          "model_module_version": "1.5.0",
          "state": {
            "_model_module": "@jupyter-widgets/controls",
            "_model_module_version": "1.5.0",
            "_model_name": "DescriptionStyleModel",
            "_view_count": null,
            "_view_module": "@jupyter-widgets/base",
            "_view_module_version": "1.2.0",
            "_view_name": "StyleView",
            "description_width": ""
          }
        },
        "fb751eb2248e4169b20151b073e110e4": {
          "model_module": "@jupyter-widgets/base",
          "model_name": "LayoutModel",
          "model_module_version": "1.2.0",
          "state": {
            "_model_module": "@jupyter-widgets/base",
            "_model_module_version": "1.2.0",
            "_model_name": "LayoutModel",
            "_view_count": null,
            "_view_module": "@jupyter-widgets/base",
            "_view_module_version": "1.2.0",
            "_view_name": "LayoutView",
            "align_content": null,
            "align_items": null,
            "align_self": null,
            "border": null,
            "bottom": null,
            "display": null,
            "flex": null,
            "flex_flow": null,
            "grid_area": null,
            "grid_auto_columns": null,
            "grid_auto_flow": null,
            "grid_auto_rows": null,
            "grid_column": null,
            "grid_gap": null,
            "grid_row": null,
            "grid_template_areas": null,
            "grid_template_columns": null,
            "grid_template_rows": null,
            "height": null,
            "justify_content": null,
            "justify_items": null,
            "left": null,
            "margin": null,
            "max_height": null,
            "max_width": null,
            "min_height": null,
            "min_width": null,
            "object_fit": null,
            "object_position": null,
            "order": null,
            "overflow": null,
            "overflow_x": null,
            "overflow_y": null,
            "padding": null,
            "right": null,
            "top": null,
            "visibility": null,
            "width": null
          }
        },
        "b879f97b98b54662928e2fa64c80d7e3": {
          "model_module": "@jupyter-widgets/controls",
          "model_name": "ProgressStyleModel",
          "model_module_version": "1.5.0",
          "state": {
            "_model_module": "@jupyter-widgets/controls",
            "_model_module_version": "1.5.0",
            "_model_name": "ProgressStyleModel",
            "_view_count": null,
            "_view_module": "@jupyter-widgets/base",
            "_view_module_version": "1.2.0",
            "_view_name": "StyleView",
            "bar_color": null,
            "description_width": ""
          }
        },
        "e4e5f25eb6374ce5b50e0113c8d8f59f": {
          "model_module": "@jupyter-widgets/controls",
          "model_name": "VBoxModel",
          "model_module_version": "1.5.0",
          "state": {
            "_dom_classes": [],
            "_model_module": "@jupyter-widgets/controls",
            "_model_module_version": "1.5.0",
            "_model_name": "VBoxModel",
            "_view_count": null,
            "_view_module": "@jupyter-widgets/controls",
            "_view_module_version": "1.5.0",
            "_view_name": "VBoxView",
            "box_style": "",
            "children": [
              "IPY_MODEL_e72099cffe1f4689a88808e5bf130ee3",
              "IPY_MODEL_e04d9daa46644d7c8012b2634ae6ad6b"
            ],
            "layout": "IPY_MODEL_5d31a9d9e64744d19e8875674a3e664d"
          }
        },
        "e72099cffe1f4689a88808e5bf130ee3": {
          "model_module": "@jupyter-widgets/controls",
          "model_name": "LabelModel",
          "model_module_version": "1.5.0",
          "state": {
            "_dom_classes": [],
            "_model_module": "@jupyter-widgets/controls",
            "_model_module_version": "1.5.0",
            "_model_name": "LabelModel",
            "_view_count": null,
            "_view_module": "@jupyter-widgets/controls",
            "_view_module_version": "1.5.0",
            "_view_name": "LabelView",
            "description": "",
            "description_tooltip": null,
            "layout": "IPY_MODEL_c4ffac0716d546a19e3534b1757fc123",
            "placeholder": "​",
            "style": "IPY_MODEL_22a45a2f7e9649ef97da194572e5dc65",
            "value": "0.024 MB of 0.024 MB uploaded (0.000 MB deduped)\r"
          }
        },
        "e04d9daa46644d7c8012b2634ae6ad6b": {
          "model_module": "@jupyter-widgets/controls",
          "model_name": "FloatProgressModel",
          "model_module_version": "1.5.0",
          "state": {
            "_dom_classes": [],
            "_model_module": "@jupyter-widgets/controls",
            "_model_module_version": "1.5.0",
            "_model_name": "FloatProgressModel",
            "_view_count": null,
            "_view_module": "@jupyter-widgets/controls",
            "_view_module_version": "1.5.0",
            "_view_name": "ProgressView",
            "bar_style": "",
            "description": "",
            "description_tooltip": null,
            "layout": "IPY_MODEL_b7021d4d50f94fd0a450e29660cdee43",
            "max": 1,
            "min": 0,
            "orientation": "horizontal",
            "style": "IPY_MODEL_1e1b3c1c7b934f7fbee81c08bbd82888",
            "value": 1
          }
        },
        "5d31a9d9e64744d19e8875674a3e664d": {
          "model_module": "@jupyter-widgets/base",
          "model_name": "LayoutModel",
          "model_module_version": "1.2.0",
          "state": {
            "_model_module": "@jupyter-widgets/base",
            "_model_module_version": "1.2.0",
            "_model_name": "LayoutModel",
            "_view_count": null,
            "_view_module": "@jupyter-widgets/base",
            "_view_module_version": "1.2.0",
            "_view_name": "LayoutView",
            "align_content": null,
            "align_items": null,
            "align_self": null,
            "border": null,
            "bottom": null,
            "display": null,
            "flex": null,
            "flex_flow": null,
            "grid_area": null,
            "grid_auto_columns": null,
            "grid_auto_flow": null,
            "grid_auto_rows": null,
            "grid_column": null,
            "grid_gap": null,
            "grid_row": null,
            "grid_template_areas": null,
            "grid_template_columns": null,
            "grid_template_rows": null,
            "height": null,
            "justify_content": null,
            "justify_items": null,
            "left": null,
            "margin": null,
            "max_height": null,
            "max_width": null,
            "min_height": null,
            "min_width": null,
            "object_fit": null,
            "object_position": null,
            "order": null,
            "overflow": null,
            "overflow_x": null,
            "overflow_y": null,
            "padding": null,
            "right": null,
            "top": null,
            "visibility": null,
            "width": null
          }
        },
        "c4ffac0716d546a19e3534b1757fc123": {
          "model_module": "@jupyter-widgets/base",
          "model_name": "LayoutModel",
          "model_module_version": "1.2.0",
          "state": {
            "_model_module": "@jupyter-widgets/base",
            "_model_module_version": "1.2.0",
            "_model_name": "LayoutModel",
            "_view_count": null,
            "_view_module": "@jupyter-widgets/base",
            "_view_module_version": "1.2.0",
            "_view_name": "LayoutView",
            "align_content": null,
            "align_items": null,
            "align_self": null,
            "border": null,
            "bottom": null,
            "display": null,
            "flex": null,
            "flex_flow": null,
            "grid_area": null,
            "grid_auto_columns": null,
            "grid_auto_flow": null,
            "grid_auto_rows": null,
            "grid_column": null,
            "grid_gap": null,
            "grid_row": null,
            "grid_template_areas": null,
            "grid_template_columns": null,
            "grid_template_rows": null,
            "height": null,
            "justify_content": null,
            "justify_items": null,
            "left": null,
            "margin": null,
            "max_height": null,
            "max_width": null,
            "min_height": null,
            "min_width": null,
            "object_fit": null,
            "object_position": null,
            "order": null,
            "overflow": null,
            "overflow_x": null,
            "overflow_y": null,
            "padding": null,
            "right": null,
            "top": null,
            "visibility": null,
            "width": null
          }
        },
        "22a45a2f7e9649ef97da194572e5dc65": {
          "model_module": "@jupyter-widgets/controls",
          "model_name": "DescriptionStyleModel",
          "model_module_version": "1.5.0",
          "state": {
            "_model_module": "@jupyter-widgets/controls",
            "_model_module_version": "1.5.0",
            "_model_name": "DescriptionStyleModel",
            "_view_count": null,
            "_view_module": "@jupyter-widgets/base",
            "_view_module_version": "1.2.0",
            "_view_name": "StyleView",
            "description_width": ""
          }
        },
        "b7021d4d50f94fd0a450e29660cdee43": {
          "model_module": "@jupyter-widgets/base",
          "model_name": "LayoutModel",
          "model_module_version": "1.2.0",
          "state": {
            "_model_module": "@jupyter-widgets/base",
            "_model_module_version": "1.2.0",
            "_model_name": "LayoutModel",
            "_view_count": null,
            "_view_module": "@jupyter-widgets/base",
            "_view_module_version": "1.2.0",
            "_view_name": "LayoutView",
            "align_content": null,
            "align_items": null,
            "align_self": null,
            "border": null,
            "bottom": null,
            "display": null,
            "flex": null,
            "flex_flow": null,
            "grid_area": null,
            "grid_auto_columns": null,
            "grid_auto_flow": null,
            "grid_auto_rows": null,
            "grid_column": null,
            "grid_gap": null,
            "grid_row": null,
            "grid_template_areas": null,
            "grid_template_columns": null,
            "grid_template_rows": null,
            "height": null,
            "justify_content": null,
            "justify_items": null,
            "left": null,
            "margin": null,
            "max_height": null,
            "max_width": null,
            "min_height": null,
            "min_width": null,
            "object_fit": null,
            "object_position": null,
            "order": null,
            "overflow": null,
            "overflow_x": null,
            "overflow_y": null,
            "padding": null,
            "right": null,
            "top": null,
            "visibility": null,
            "width": null
          }
        },
        "1e1b3c1c7b934f7fbee81c08bbd82888": {
          "model_module": "@jupyter-widgets/controls",
          "model_name": "ProgressStyleModel",
          "model_module_version": "1.5.0",
          "state": {
            "_model_module": "@jupyter-widgets/controls",
            "_model_module_version": "1.5.0",
            "_model_name": "ProgressStyleModel",
            "_view_count": null,
            "_view_module": "@jupyter-widgets/base",
            "_view_module_version": "1.2.0",
            "_view_name": "StyleView",
            "bar_color": null,
            "description_width": ""
          }
        },
        "d6c5907b9819481aae0ac2731de42e5e": {
          "model_module": "@jupyter-widgets/controls",
          "model_name": "VBoxModel",
          "model_module_version": "1.5.0",
          "state": {
            "_dom_classes": [],
            "_model_module": "@jupyter-widgets/controls",
            "_model_module_version": "1.5.0",
            "_model_name": "VBoxModel",
            "_view_count": null,
            "_view_module": "@jupyter-widgets/controls",
            "_view_module_version": "1.5.0",
            "_view_name": "VBoxView",
            "box_style": "",
            "children": [
              "IPY_MODEL_82a13456b5f6462198af93ce35345c59",
              "IPY_MODEL_3fb9ff6de53a4b90a6999c965ae0d0dc"
            ],
            "layout": "IPY_MODEL_eab651f8f39d4b678db0a47a9d9927bd"
          }
        },
        "82a13456b5f6462198af93ce35345c59": {
          "model_module": "@jupyter-widgets/controls",
          "model_name": "LabelModel",
          "model_module_version": "1.5.0",
          "state": {
            "_dom_classes": [],
            "_model_module": "@jupyter-widgets/controls",
            "_model_module_version": "1.5.0",
            "_model_name": "LabelModel",
            "_view_count": null,
            "_view_module": "@jupyter-widgets/controls",
            "_view_module_version": "1.5.0",
            "_view_name": "LabelView",
            "description": "",
            "description_tooltip": null,
            "layout": "IPY_MODEL_8a95bc516c674458ad4ea588f76cd742",
            "placeholder": "​",
            "style": "IPY_MODEL_26064bc65e1848de93bfa1d17824fd7f",
            "value": "0.006 MB of 0.024 MB uploaded (0.000 MB deduped)\r"
          }
        },
        "3fb9ff6de53a4b90a6999c965ae0d0dc": {
          "model_module": "@jupyter-widgets/controls",
          "model_name": "FloatProgressModel",
          "model_module_version": "1.5.0",
          "state": {
            "_dom_classes": [],
            "_model_module": "@jupyter-widgets/controls",
            "_model_module_version": "1.5.0",
            "_model_name": "FloatProgressModel",
            "_view_count": null,
            "_view_module": "@jupyter-widgets/controls",
            "_view_module_version": "1.5.0",
            "_view_name": "ProgressView",
            "bar_style": "",
            "description": "",
            "description_tooltip": null,
            "layout": "IPY_MODEL_5191622a3a64431f8db43f5bc92bae26",
            "max": 1,
            "min": 0,
            "orientation": "horizontal",
            "style": "IPY_MODEL_41318403a9244e9f9fbb93938726c200",
            "value": 0.22926181832376938
          }
        },
        "eab651f8f39d4b678db0a47a9d9927bd": {
          "model_module": "@jupyter-widgets/base",
          "model_name": "LayoutModel",
          "model_module_version": "1.2.0",
          "state": {
            "_model_module": "@jupyter-widgets/base",
            "_model_module_version": "1.2.0",
            "_model_name": "LayoutModel",
            "_view_count": null,
            "_view_module": "@jupyter-widgets/base",
            "_view_module_version": "1.2.0",
            "_view_name": "LayoutView",
            "align_content": null,
            "align_items": null,
            "align_self": null,
            "border": null,
            "bottom": null,
            "display": null,
            "flex": null,
            "flex_flow": null,
            "grid_area": null,
            "grid_auto_columns": null,
            "grid_auto_flow": null,
            "grid_auto_rows": null,
            "grid_column": null,
            "grid_gap": null,
            "grid_row": null,
            "grid_template_areas": null,
            "grid_template_columns": null,
            "grid_template_rows": null,
            "height": null,
            "justify_content": null,
            "justify_items": null,
            "left": null,
            "margin": null,
            "max_height": null,
            "max_width": null,
            "min_height": null,
            "min_width": null,
            "object_fit": null,
            "object_position": null,
            "order": null,
            "overflow": null,
            "overflow_x": null,
            "overflow_y": null,
            "padding": null,
            "right": null,
            "top": null,
            "visibility": null,
            "width": null
          }
        },
        "8a95bc516c674458ad4ea588f76cd742": {
          "model_module": "@jupyter-widgets/base",
          "model_name": "LayoutModel",
          "model_module_version": "1.2.0",
          "state": {
            "_model_module": "@jupyter-widgets/base",
            "_model_module_version": "1.2.0",
            "_model_name": "LayoutModel",
            "_view_count": null,
            "_view_module": "@jupyter-widgets/base",
            "_view_module_version": "1.2.0",
            "_view_name": "LayoutView",
            "align_content": null,
            "align_items": null,
            "align_self": null,
            "border": null,
            "bottom": null,
            "display": null,
            "flex": null,
            "flex_flow": null,
            "grid_area": null,
            "grid_auto_columns": null,
            "grid_auto_flow": null,
            "grid_auto_rows": null,
            "grid_column": null,
            "grid_gap": null,
            "grid_row": null,
            "grid_template_areas": null,
            "grid_template_columns": null,
            "grid_template_rows": null,
            "height": null,
            "justify_content": null,
            "justify_items": null,
            "left": null,
            "margin": null,
            "max_height": null,
            "max_width": null,
            "min_height": null,
            "min_width": null,
            "object_fit": null,
            "object_position": null,
            "order": null,
            "overflow": null,
            "overflow_x": null,
            "overflow_y": null,
            "padding": null,
            "right": null,
            "top": null,
            "visibility": null,
            "width": null
          }
        },
        "26064bc65e1848de93bfa1d17824fd7f": {
          "model_module": "@jupyter-widgets/controls",
          "model_name": "DescriptionStyleModel",
          "model_module_version": "1.5.0",
          "state": {
            "_model_module": "@jupyter-widgets/controls",
            "_model_module_version": "1.5.0",
            "_model_name": "DescriptionStyleModel",
            "_view_count": null,
            "_view_module": "@jupyter-widgets/base",
            "_view_module_version": "1.2.0",
            "_view_name": "StyleView",
            "description_width": ""
          }
        },
        "5191622a3a64431f8db43f5bc92bae26": {
          "model_module": "@jupyter-widgets/base",
          "model_name": "LayoutModel",
          "model_module_version": "1.2.0",
          "state": {
            "_model_module": "@jupyter-widgets/base",
            "_model_module_version": "1.2.0",
            "_model_name": "LayoutModel",
            "_view_count": null,
            "_view_module": "@jupyter-widgets/base",
            "_view_module_version": "1.2.0",
            "_view_name": "LayoutView",
            "align_content": null,
            "align_items": null,
            "align_self": null,
            "border": null,
            "bottom": null,
            "display": null,
            "flex": null,
            "flex_flow": null,
            "grid_area": null,
            "grid_auto_columns": null,
            "grid_auto_flow": null,
            "grid_auto_rows": null,
            "grid_column": null,
            "grid_gap": null,
            "grid_row": null,
            "grid_template_areas": null,
            "grid_template_columns": null,
            "grid_template_rows": null,
            "height": null,
            "justify_content": null,
            "justify_items": null,
            "left": null,
            "margin": null,
            "max_height": null,
            "max_width": null,
            "min_height": null,
            "min_width": null,
            "object_fit": null,
            "object_position": null,
            "order": null,
            "overflow": null,
            "overflow_x": null,
            "overflow_y": null,
            "padding": null,
            "right": null,
            "top": null,
            "visibility": null,
            "width": null
          }
        },
        "41318403a9244e9f9fbb93938726c200": {
          "model_module": "@jupyter-widgets/controls",
          "model_name": "ProgressStyleModel",
          "model_module_version": "1.5.0",
          "state": {
            "_model_module": "@jupyter-widgets/controls",
            "_model_module_version": "1.5.0",
            "_model_name": "ProgressStyleModel",
            "_view_count": null,
            "_view_module": "@jupyter-widgets/base",
            "_view_module_version": "1.2.0",
            "_view_name": "StyleView",
            "bar_color": null,
            "description_width": ""
          }
        }
      }
    }
  },
  "nbformat": 4,
  "nbformat_minor": 0
}