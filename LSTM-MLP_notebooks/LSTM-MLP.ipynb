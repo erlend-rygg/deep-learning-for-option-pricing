{
 "cells": [
  {
   "attachments": {},
   "cell_type": "markdown",
   "metadata": {},
   "source": [
    "# Setup "
   ]
  },
  {
   "cell_type": "code",
   "execution_count": 8,
   "metadata": {},
   "outputs": [],
   "source": [
    "# Weights and Biases\n",
    "#!pip install -q wandb\n",
    "# Tensorflow\n",
    "#!pip install -q tensorflow"
   ]
  },
  {
   "cell_type": "code",
   "execution_count": 15,
   "metadata": {},
   "outputs": [],
   "source": [
    "from keras.models import Sequential, Model\n",
    "from keras.layers import Input, LSTM, Concatenate, Dense, BatchNormalization, LeakyReLU\n",
    "from keras.activations import tanh\n",
    "from tensorflow.keras.optimizers import Adam\n",
    "from keras.callbacks import EarlyStopping\n",
    "from tensorflow.keras.optimizers.schedules import ExponentialDecay\n",
    "import pandas as pd\n",
    "import numpy as np"
   ]
  },
  {
   "cell_type": "code",
   "execution_count": 2,
   "metadata": {},
   "outputs": [
    {
     "name": "stderr",
     "output_type": "stream",
     "text": [
      "Failed to detect the name of this notebook, you can set it manually with the WANDB_NOTEBOOK_NAME environment variable to enable code saving.\n",
      "\u001b[34m\u001b[1mwandb\u001b[0m: Currently logged in as: \u001b[33merlendrygg\u001b[0m (\u001b[33mavogadro\u001b[0m). Use \u001b[1m`wandb login --relogin`\u001b[0m to force relogin\n",
      "\u001b[34m\u001b[1mwandb\u001b[0m: \u001b[33mWARNING\u001b[0m If you're specifying your api key in code, ensure this code is not shared publicly.\n",
      "\u001b[34m\u001b[1mwandb\u001b[0m: \u001b[33mWARNING\u001b[0m Consider setting the WANDB_API_KEY environment variable, or running `wandb login` from the command line.\n",
      "\u001b[34m\u001b[1mwandb\u001b[0m: Appending key for api.wandb.ai to your netrc file: C:\\Users\\Erlend/.netrc\n"
     ]
    },
    {
     "data": {
      "text/plain": [
       "True"
      ]
     },
     "execution_count": 2,
     "metadata": {},
     "output_type": "execute_result"
    }
   ],
   "source": [
    "import wandb\n",
    "from wandb.keras import WandbCallback\n",
    "wandb.login(key='3cae81eb56be3190be5bb48c571e69933071df69')"
   ]
  },
  {
   "attachments": {},
   "cell_type": "markdown",
   "metadata": {},
   "source": [
    "# Load data"
   ]
  },
  {
   "cell_type": "code",
   "execution_count": 22,
   "metadata": {},
   "outputs": [
    {
     "name": "stdout",
     "output_type": "stream",
     "text": [
      "(90, 20, 1)\n",
      "(90, 4)\n",
      "(10, 20, 1)\n",
      "(10, 4)\n"
     ]
    }
   ],
   "source": [
    "file = \"../data/complete data set/test data 100.csv\"\n",
    "df = pd.read_csv(file)\n",
    "df.head(20)\n",
    "\n",
    "val_set = 10\n",
    "num_features = 4\n",
    "time_steps = 20\n",
    "\n",
    "train_y = df['Quote'][:-val_set].to_numpy()\n",
    "val_y = df['Quote'][-val_set:].to_numpy()\n",
    "\n",
    "df = df.drop(['Quote'], axis=1)\n",
    "\n",
    "array = df.to_numpy()\n",
    "\n",
    "train_x = [array[:-val_set][:,-time_steps:].reshape(len(array[:-val_set]),time_steps,1), array[:-val_set][:,:num_features]]\n",
    "val_x = [array[-val_set:][:,-time_steps:].reshape(len(array[-val_set:]),time_steps,1), array[-val_set:][:,:num_features]]\n",
    "\n",
    "print(train_x[0].shape)\n",
    "print(train_x[1].shape)\n",
    "print(val_x[0].shape)\n",
    "print(val_x[1].shape)"
   ]
  },
  {
   "attachments": {},
   "cell_type": "markdown",
   "metadata": {},
   "source": [
    "# Model construction"
   ]
  },
  {
   "cell_type": "code",
   "execution_count": 31,
   "metadata": {},
   "outputs": [],
   "source": [
    "def create_model(config):\n",
    "    '''Builds an LSTM-MLP model of minimum 2 layers sequentially from a given config dictionary'''\n",
    "    underlying_history = Input((config.LSTM_timesteps,1))\n",
    "    bs_vars = Input((config.Num_features,))\n",
    "\n",
    "    model = Sequential()\n",
    "\n",
    "    model.add(LSTM(\n",
    "        units = config.LSTM_units,\n",
    "        activation = tanh,\n",
    "        input_shape = (config.LSTM_timesteps, 1),\n",
    "        return_sequences = True\n",
    "    ))\n",
    "\n",
    "    for _ in range(config.LSTM_layers - 2):\n",
    "        model.add(LSTM(\n",
    "            units = config.LSTM_units,\n",
    "            activation = tanh,\n",
    "            return_sequences = True\n",
    "        ))\n",
    "    \n",
    "    model.add(LSTM(\n",
    "        units = config.LSTM_units,\n",
    "        activation = tanh,\n",
    "        return_sequences = False\n",
    "    ))\n",
    "\n",
    "    layers = Concatenate()([model(underlying_history), bs_vars])\n",
    "    \n",
    "    for _ in range(config.MLP_layers - 1):\n",
    "        layers = Dense(config.MLP_units)(layers)\n",
    "        layers = BatchNormalization(momentum=config.Bn_momentum)(layers)\n",
    "        layers = LeakyReLU()(layers)\n",
    "\n",
    "    #create the output layer\n",
    "    output = Dense(1, activation='relu')(layers)\n",
    "\n",
    "    #create exponentially decaying learning rate schedule\n",
    "    lr_schedule = ExponentialDecay(\n",
    "        initial_learning_rate = config.Lr,\n",
    "        decay_steps = int(len(train_x)/config.Minibatch_size),\n",
    "        decay_rate=config.Lr_decay\n",
    "    )\n",
    "\n",
    "    #compile the model\n",
    "    model = Model(inputs=[underlying_history, bs_vars], outputs=output)\n",
    "    model.compile(loss='mse', optimizer=Adam(learning_rate=lr_schedule))\n",
    "\n",
    "    return model"
   ]
  },
  {
   "attachments": {},
   "cell_type": "markdown",
   "metadata": {},
   "source": [
    "# Hyperparameter search setup"
   ]
  },
  {
   "cell_type": "code",
   "execution_count": 48,
   "metadata": {},
   "outputs": [
    {
     "name": "stdout",
     "output_type": "stream",
     "text": [
      "Create sweep with ID: zyx7ephh\n",
      "Sweep URL: https://wandb.ai/avogadro/Deep%20learning%20for%20option%20pricing%20-%20test%20area/sweeps/zyx7ephh\n"
     ]
    }
   ],
   "source": [
    "# Configuring the sweep hyperparameter search space\n",
    "sweep_configuration = {\n",
    "    'method': 'random',\n",
    "    'name': 'LSTM-MLP v.1.0 test data',\n",
    "    'metric': {\n",
    "        'goal': 'minimize', \n",
    "        'name': 'val_loss'\n",
    "\t\t},\n",
    "    'parameters': {\n",
    "        'LSTM_units': {\n",
    "            'values': [32, 64, 96, 128]},\n",
    "        'MLP_units': {\n",
    "            'values': [32, 64, 96, 128]},\n",
    "        'LSTM_timesteps': {\n",
    "            'values': [20]},\n",
    "        'LSTM_layers': {\n",
    "            'distribution': 'int_uniform',\n",
    "            'max': 6, 'min': 4},\n",
    "        'MLP_layers': {\n",
    "            'distribution': 'int_uniform',\n",
    "            'max': 6, 'min': 4},\n",
    "        'Bn_momentum': {\n",
    "            'distribution': 'uniform',\n",
    "            'max': 0.4, 'min': 0},\n",
    "        'Lr': {\n",
    "            'distribution': 'uniform',\n",
    "            'max': 0.005, 'min': 0.0005},\n",
    "        'Lr_decay': {\n",
    "            'distribution': 'uniform',\n",
    "            'max': 1, 'min': 0.9},        \n",
    "        'Minibatch_size': {\n",
    "            'values': [1024, 2048, 4096]},\n",
    "        'Min_delta': {\n",
    "            'value': 1},\n",
    "        'Patience': {\n",
    "            'value': 20},\n",
    "        'Num_features': {\n",
    "            'value': 4},\n",
    "    }\n",
    "}\n",
    "\n",
    "# Initialize sweep and creating sweepID\n",
    "\n",
    "# If new sweep, uncomment the line below and comment the line after it\n",
    "#sweep_id = wandb.sweep(sweep=sweep_configuration, project='Deep learning for option pricing - test area') \n",
    "sweep_id = 'zyx7ephh'"
   ]
  },
  {
   "attachments": {},
   "cell_type": "markdown",
   "metadata": {},
   "source": [
    "# Run hyperparameter search"
   ]
  },
  {
   "cell_type": "code",
   "execution_count": 33,
   "metadata": {},
   "outputs": [],
   "source": [
    "def trainer(train_x = train_x, train_y = train_y, val_x = val_x, val_y = val_y, config = None, project = None):\n",
    "    # Initialize a new wandb run\n",
    "    with wandb.init(config=config, project = project):\n",
    "\n",
    "        # If called by wandb.agent, as below,\n",
    "        # this config will be set by Sweep Controller\n",
    "        config = wandb.config\n",
    "\n",
    "        model = create_model(config)\n",
    "\n",
    "        early_stopping = EarlyStopping(\n",
    "            monitor='val_loss',\n",
    "            mode='min',\n",
    "            min_delta = config.Min_delta,\n",
    "            patience = config.Patience,\n",
    "        )\n",
    "        \n",
    "        wandb_callback = WandbCallback(\n",
    "            monitor='val_loss',\n",
    "            mode='min',\n",
    "            save_model=False\n",
    "        )\n",
    "        \n",
    "        model.fit(\n",
    "            train_x,\n",
    "            train_y,\n",
    "            batch_size = config.Minibatch_size,\n",
    "            validation_data = (val_x, val_y),\n",
    "            epochs = 1000,\n",
    "            callbacks = [early_stopping, wandb_callback] \n",
    "        )"
   ]
  },
  {
   "attachments": {},
   "cell_type": "markdown",
   "metadata": {},
   "source": [
    "## Run full sweep"
   ]
  },
  {
   "cell_type": "code",
   "execution_count": 49,
   "metadata": {},
   "outputs": [
    {
     "name": "stderr",
     "output_type": "stream",
     "text": [
      "\u001b[34m\u001b[1mwandb\u001b[0m: Agent Starting Run: x3u4w1i3 with config:\n",
      "\u001b[34m\u001b[1mwandb\u001b[0m: \tBn_momentum: 0.062356576813404674\n",
      "\u001b[34m\u001b[1mwandb\u001b[0m: \tLSTM_layers: 4\n",
      "\u001b[34m\u001b[1mwandb\u001b[0m: \tLSTM_timesteps: 20\n",
      "\u001b[34m\u001b[1mwandb\u001b[0m: \tLSTM_units: 64\n",
      "\u001b[34m\u001b[1mwandb\u001b[0m: \tLr: 0.003524075563119535\n",
      "\u001b[34m\u001b[1mwandb\u001b[0m: \tLr_decay: 0.9754804861224868\n",
      "\u001b[34m\u001b[1mwandb\u001b[0m: \tMLP_layers: 5\n",
      "\u001b[34m\u001b[1mwandb\u001b[0m: \tMLP_units: 96\n",
      "\u001b[34m\u001b[1mwandb\u001b[0m: \tMin_delta: 1\n",
      "\u001b[34m\u001b[1mwandb\u001b[0m: \tMinibatch_size: 2048\n",
      "\u001b[34m\u001b[1mwandb\u001b[0m: \tNum_features: 4\n",
      "\u001b[34m\u001b[1mwandb\u001b[0m: \tPatience: 20\n",
      "Failed to detect the name of this notebook, you can set it manually with the WANDB_NOTEBOOK_NAME environment variable to enable code saving.\n"
     ]
    },
    {
     "data": {
      "text/html": [
       "wandb version 0.13.9 is available!  To upgrade, please run:\n",
       " $ pip install wandb --upgrade"
      ],
      "text/plain": [
       "<IPython.core.display.HTML object>"
      ]
     },
     "metadata": {},
     "output_type": "display_data"
    },
    {
     "data": {
      "text/html": [
       "Tracking run with wandb version 0.13.5"
      ],
      "text/plain": [
       "<IPython.core.display.HTML object>"
      ]
     },
     "metadata": {},
     "output_type": "display_data"
    },
    {
     "data": {
      "text/html": [
       "Run data is saved locally in <code>c:\\Users\\Erlend\\Google Drive\\NTNU\\5. Klasse\\Master\\Git-folder\\deep-learning-for-option-pricing\\LSTM-MLP_notebooks\\wandb\\run-20230131_161007-x3u4w1i3</code>"
      ],
      "text/plain": [
       "<IPython.core.display.HTML object>"
      ]
     },
     "metadata": {},
     "output_type": "display_data"
    },
    {
     "data": {
      "text/html": [
       "Syncing run <strong><a href=\"https://wandb.ai/avogadro/Deep%20learning%20for%20option%20pricing%20-%20test%20area/runs/x3u4w1i3\" target=\"_blank\">earthy-sweep-1</a></strong> to <a href=\"https://wandb.ai/avogadro/Deep%20learning%20for%20option%20pricing%20-%20test%20area\" target=\"_blank\">Weights & Biases</a> (<a href=\"https://wandb.me/run\" target=\"_blank\">docs</a>)<br/>Sweep page:  <a href=\"https://wandb.ai/avogadro/Deep%20learning%20for%20option%20pricing%20-%20test%20area/sweeps/zyx7ephh\" target=\"_blank\">https://wandb.ai/avogadro/Deep%20learning%20for%20option%20pricing%20-%20test%20area/sweeps/zyx7ephh</a>"
      ],
      "text/plain": [
       "<IPython.core.display.HTML object>"
      ]
     },
     "metadata": {},
     "output_type": "display_data"
    },
    {
     "name": "stdout",
     "output_type": "stream",
     "text": [
      "Epoch 1/1000\n",
      "1/1 [==============================] - 8s 8s/step - loss: 0.2812 - val_loss: nan\n",
      "Epoch 2/1000\n",
      "1/1 [==============================] - 0s 85ms/step - loss: nan - val_loss: nan\n",
      "Epoch 3/1000\n",
      "1/1 [==============================] - 0s 82ms/step - loss: nan - val_loss: nan\n",
      "Epoch 4/1000\n",
      "1/1 [==============================] - 0s 87ms/step - loss: nan - val_loss: nan\n",
      "Epoch 5/1000\n",
      "1/1 [==============================] - 0s 105ms/step - loss: nan - val_loss: nan\n",
      "Epoch 6/1000\n",
      "1/1 [==============================] - 0s 106ms/step - loss: nan - val_loss: nan\n",
      "Epoch 7/1000\n",
      "1/1 [==============================] - 0s 101ms/step - loss: nan - val_loss: nan\n",
      "Epoch 8/1000\n",
      "1/1 [==============================] - 0s 89ms/step - loss: nan - val_loss: nan\n",
      "Epoch 9/1000\n",
      "1/1 [==============================] - 0s 103ms/step - loss: nan - val_loss: nan\n",
      "Epoch 10/1000\n",
      "1/1 [==============================] - 0s 85ms/step - loss: nan - val_loss: nan\n",
      "Epoch 11/1000\n",
      "1/1 [==============================] - 0s 84ms/step - loss: nan - val_loss: nan\n",
      "Epoch 12/1000\n",
      "1/1 [==============================] - 0s 83ms/step - loss: nan - val_loss: nan\n",
      "Epoch 13/1000\n",
      "1/1 [==============================] - 0s 94ms/step - loss: nan - val_loss: nan\n",
      "Epoch 14/1000\n",
      "1/1 [==============================] - 0s 91ms/step - loss: nan - val_loss: nan\n",
      "Epoch 15/1000\n",
      "1/1 [==============================] - 0s 81ms/step - loss: nan - val_loss: nan\n",
      "Epoch 16/1000\n",
      "1/1 [==============================] - 0s 80ms/step - loss: nan - val_loss: nan\n",
      "Epoch 17/1000\n",
      "1/1 [==============================] - 0s 98ms/step - loss: nan - val_loss: nan\n",
      "Epoch 18/1000\n",
      "1/1 [==============================] - 0s 101ms/step - loss: nan - val_loss: nan\n",
      "Epoch 19/1000\n",
      "1/1 [==============================] - 0s 91ms/step - loss: nan - val_loss: nan\n",
      "Epoch 20/1000\n",
      "1/1 [==============================] - 0s 82ms/step - loss: nan - val_loss: nan\n"
     ]
    },
    {
     "data": {
      "text/html": [
       "Waiting for W&B process to finish... <strong style=\"color:green\">(success).</strong>"
      ],
      "text/plain": [
       "<IPython.core.display.HTML object>"
      ]
     },
     "metadata": {},
     "output_type": "display_data"
    },
    {
     "data": {
      "application/vnd.jupyter.widget-view+json": {
       "model_id": "64006a90aff542499996ff6f389c6911",
       "version_major": 2,
       "version_minor": 0
      },
      "text/plain": [
       "VBox(children=(Label(value='0.004 MB of 0.010 MB uploaded (0.000 MB deduped)\\r'), FloatProgress(value=0.372978…"
      ]
     },
     "metadata": {},
     "output_type": "display_data"
    },
    {
     "data": {
      "text/html": [
       "<style>\n",
       "    table.wandb td:nth-child(1) { padding: 0 10px; text-align: left ; width: auto;} td:nth-child(2) {text-align: left ; width: 100%}\n",
       "    .wandb-row { display: flex; flex-direction: row; flex-wrap: wrap; justify-content: flex-start; width: 100% }\n",
       "    .wandb-col { display: flex; flex-direction: column; flex-basis: 100%; flex: 1; padding: 10px; }\n",
       "    </style>\n",
       "<div class=\"wandb-row\"><div class=\"wandb-col\"><h3>Run history:</h3><br/><table class=\"wandb\"><tr><td>epoch</td><td>▁▁▂▂▂▃▃▄▄▄▅▅▅▆▆▇▇▇██</td></tr><tr><td>loss</td><td>▁                   </td></tr></table><br/></div><div class=\"wandb-col\"><h3>Run summary:</h3><br/><table class=\"wandb\"><tr><td>epoch</td><td>19</td></tr><tr><td>loss</td><td>nan</td></tr><tr><td>val_loss</td><td>nan</td></tr></table><br/></div></div>"
      ],
      "text/plain": [
       "<IPython.core.display.HTML object>"
      ]
     },
     "metadata": {},
     "output_type": "display_data"
    },
    {
     "data": {
      "text/html": [
       "Synced <strong style=\"color:#cdcd00\">earthy-sweep-1</strong>: <a href=\"https://wandb.ai/avogadro/Deep%20learning%20for%20option%20pricing%20-%20test%20area/runs/x3u4w1i3\" target=\"_blank\">https://wandb.ai/avogadro/Deep%20learning%20for%20option%20pricing%20-%20test%20area/runs/x3u4w1i3</a><br/>Synced 5 W&B file(s), 1 media file(s), 0 artifact file(s) and 0 other file(s)"
      ],
      "text/plain": [
       "<IPython.core.display.HTML object>"
      ]
     },
     "metadata": {},
     "output_type": "display_data"
    },
    {
     "data": {
      "text/html": [
       "Find logs at: <code>.\\wandb\\run-20230131_161007-x3u4w1i3\\logs</code>"
      ],
      "text/plain": [
       "<IPython.core.display.HTML object>"
      ]
     },
     "metadata": {},
     "output_type": "display_data"
    },
    {
     "name": "stderr",
     "output_type": "stream",
     "text": [
      "\u001b[34m\u001b[1mwandb\u001b[0m: Agent Starting Run: 68v97b2o with config:\n",
      "\u001b[34m\u001b[1mwandb\u001b[0m: \tBn_momentum: 0.2948765596214656\n",
      "\u001b[34m\u001b[1mwandb\u001b[0m: \tLSTM_layers: 4\n",
      "\u001b[34m\u001b[1mwandb\u001b[0m: \tLSTM_timesteps: 20\n",
      "\u001b[34m\u001b[1mwandb\u001b[0m: \tLSTM_units: 128\n",
      "\u001b[34m\u001b[1mwandb\u001b[0m: \tLr: 0.004362157443810796\n",
      "\u001b[34m\u001b[1mwandb\u001b[0m: \tLr_decay: 0.9505828085760964\n",
      "\u001b[34m\u001b[1mwandb\u001b[0m: \tMLP_layers: 6\n",
      "\u001b[34m\u001b[1mwandb\u001b[0m: \tMLP_units: 128\n",
      "\u001b[34m\u001b[1mwandb\u001b[0m: \tMin_delta: 1\n",
      "\u001b[34m\u001b[1mwandb\u001b[0m: \tMinibatch_size: 1024\n",
      "\u001b[34m\u001b[1mwandb\u001b[0m: \tNum_features: 4\n",
      "\u001b[34m\u001b[1mwandb\u001b[0m: \tPatience: 20\n",
      "Failed to detect the name of this notebook, you can set it manually with the WANDB_NOTEBOOK_NAME environment variable to enable code saving.\n"
     ]
    },
    {
     "data": {
      "text/html": [
       "wandb version 0.13.9 is available!  To upgrade, please run:\n",
       " $ pip install wandb --upgrade"
      ],
      "text/plain": [
       "<IPython.core.display.HTML object>"
      ]
     },
     "metadata": {},
     "output_type": "display_data"
    },
    {
     "data": {
      "text/html": [
       "Tracking run with wandb version 0.13.5"
      ],
      "text/plain": [
       "<IPython.core.display.HTML object>"
      ]
     },
     "metadata": {},
     "output_type": "display_data"
    },
    {
     "data": {
      "text/html": [
       "Run data is saved locally in <code>c:\\Users\\Erlend\\Google Drive\\NTNU\\5. Klasse\\Master\\Git-folder\\deep-learning-for-option-pricing\\LSTM-MLP_notebooks\\wandb\\run-20230131_161033-68v97b2o</code>"
      ],
      "text/plain": [
       "<IPython.core.display.HTML object>"
      ]
     },
     "metadata": {},
     "output_type": "display_data"
    },
    {
     "data": {
      "text/html": [
       "Syncing run <strong><a href=\"https://wandb.ai/avogadro/Deep%20learning%20for%20option%20pricing%20-%20test%20area/runs/68v97b2o\" target=\"_blank\">solar-sweep-2</a></strong> to <a href=\"https://wandb.ai/avogadro/Deep%20learning%20for%20option%20pricing%20-%20test%20area\" target=\"_blank\">Weights & Biases</a> (<a href=\"https://wandb.me/run\" target=\"_blank\">docs</a>)<br/>Sweep page:  <a href=\"https://wandb.ai/avogadro/Deep%20learning%20for%20option%20pricing%20-%20test%20area/sweeps/zyx7ephh\" target=\"_blank\">https://wandb.ai/avogadro/Deep%20learning%20for%20option%20pricing%20-%20test%20area/sweeps/zyx7ephh</a>"
      ],
      "text/plain": [
       "<IPython.core.display.HTML object>"
      ]
     },
     "metadata": {},
     "output_type": "display_data"
    },
    {
     "name": "stdout",
     "output_type": "stream",
     "text": [
      "Epoch 1/1000\n",
      "1/1 [==============================] - 8s 8s/step - loss: 0.5141 - val_loss: nan\n",
      "Epoch 2/1000\n",
      "1/1 [==============================] - 0s 146ms/step - loss: nan - val_loss: nan\n",
      "Epoch 3/1000\n",
      "1/1 [==============================] - 0s 150ms/step - loss: nan - val_loss: nan\n",
      "Epoch 4/1000\n",
      "1/1 [==============================] - 0s 155ms/step - loss: nan - val_loss: nan\n",
      "Epoch 5/1000\n",
      "1/1 [==============================] - 0s 159ms/step - loss: nan - val_loss: nan\n",
      "Epoch 6/1000\n",
      "1/1 [==============================] - 0s 163ms/step - loss: nan - val_loss: nan\n",
      "Epoch 7/1000\n",
      "1/1 [==============================] - 0s 174ms/step - loss: nan - val_loss: nan\n",
      "Epoch 8/1000\n",
      "1/1 [==============================] - 0s 159ms/step - loss: nan - val_loss: nan\n",
      "Epoch 9/1000\n",
      "1/1 [==============================] - 0s 149ms/step - loss: nan - val_loss: nan\n",
      "Epoch 10/1000\n",
      "1/1 [==============================] - 0s 144ms/step - loss: nan - val_loss: nan\n",
      "Epoch 11/1000\n",
      "1/1 [==============================] - 0s 142ms/step - loss: nan - val_loss: nan\n",
      "Epoch 12/1000\n",
      "1/1 [==============================] - 0s 149ms/step - loss: nan - val_loss: nan\n",
      "Epoch 13/1000\n",
      "1/1 [==============================] - 0s 145ms/step - loss: nan - val_loss: nan\n",
      "Epoch 14/1000\n",
      "1/1 [==============================] - 0s 152ms/step - loss: nan - val_loss: nan\n",
      "Epoch 15/1000\n",
      "1/1 [==============================] - 0s 144ms/step - loss: nan - val_loss: nan\n",
      "Epoch 16/1000\n",
      "1/1 [==============================] - 0s 149ms/step - loss: nan - val_loss: nan\n",
      "Epoch 17/1000\n",
      "1/1 [==============================] - 0s 148ms/step - loss: nan - val_loss: nan\n",
      "Epoch 18/1000\n",
      "1/1 [==============================] - 0s 146ms/step - loss: nan - val_loss: nan\n",
      "Epoch 19/1000\n",
      "1/1 [==============================] - 0s 212ms/step - loss: nan - val_loss: nan\n",
      "Epoch 20/1000\n",
      "1/1 [==============================] - 0s 249ms/step - loss: nan - val_loss: nan\n"
     ]
    },
    {
     "data": {
      "text/html": [
       "Waiting for W&B process to finish... <strong style=\"color:green\">(success).</strong>"
      ],
      "text/plain": [
       "<IPython.core.display.HTML object>"
      ]
     },
     "metadata": {},
     "output_type": "display_data"
    },
    {
     "data": {
      "application/vnd.jupyter.widget-view+json": {
       "model_id": "4d0d9057fc424c389717302f1c624541",
       "version_major": 2,
       "version_minor": 0
      },
      "text/plain": [
       "VBox(children=(Label(value='0.004 MB of 0.004 MB uploaded (0.000 MB deduped)\\r'), FloatProgress(value=1.0, max…"
      ]
     },
     "metadata": {},
     "output_type": "display_data"
    },
    {
     "data": {
      "text/html": [
       "<style>\n",
       "    table.wandb td:nth-child(1) { padding: 0 10px; text-align: left ; width: auto;} td:nth-child(2) {text-align: left ; width: 100%}\n",
       "    .wandb-row { display: flex; flex-direction: row; flex-wrap: wrap; justify-content: flex-start; width: 100% }\n",
       "    .wandb-col { display: flex; flex-direction: column; flex-basis: 100%; flex: 1; padding: 10px; }\n",
       "    </style>\n",
       "<div class=\"wandb-row\"><div class=\"wandb-col\"><h3>Run history:</h3><br/><table class=\"wandb\"><tr><td>epoch</td><td>▁▁▂▂▂▃▃▄▄▄▅▅▅▆▆▇▇▇██</td></tr><tr><td>loss</td><td>▁                   </td></tr></table><br/></div><div class=\"wandb-col\"><h3>Run summary:</h3><br/><table class=\"wandb\"><tr><td>epoch</td><td>19</td></tr><tr><td>loss</td><td>nan</td></tr><tr><td>val_loss</td><td>nan</td></tr></table><br/></div></div>"
      ],
      "text/plain": [
       "<IPython.core.display.HTML object>"
      ]
     },
     "metadata": {},
     "output_type": "display_data"
    },
    {
     "data": {
      "text/html": [
       "Synced <strong style=\"color:#cdcd00\">solar-sweep-2</strong>: <a href=\"https://wandb.ai/avogadro/Deep%20learning%20for%20option%20pricing%20-%20test%20area/runs/68v97b2o\" target=\"_blank\">https://wandb.ai/avogadro/Deep%20learning%20for%20option%20pricing%20-%20test%20area/runs/68v97b2o</a><br/>Synced 5 W&B file(s), 1 media file(s), 0 artifact file(s) and 0 other file(s)"
      ],
      "text/plain": [
       "<IPython.core.display.HTML object>"
      ]
     },
     "metadata": {},
     "output_type": "display_data"
    },
    {
     "data": {
      "text/html": [
       "Find logs at: <code>.\\wandb\\run-20230131_161033-68v97b2o\\logs</code>"
      ],
      "text/plain": [
       "<IPython.core.display.HTML object>"
      ]
     },
     "metadata": {},
     "output_type": "display_data"
    },
    {
     "name": "stderr",
     "output_type": "stream",
     "text": [
      "\u001b[34m\u001b[1mwandb\u001b[0m: Agent Starting Run: gcxtp8ai with config:\n",
      "\u001b[34m\u001b[1mwandb\u001b[0m: \tBn_momentum: 0.09978366938457534\n",
      "\u001b[34m\u001b[1mwandb\u001b[0m: \tLSTM_layers: 5\n",
      "\u001b[34m\u001b[1mwandb\u001b[0m: \tLSTM_timesteps: 20\n",
      "\u001b[34m\u001b[1mwandb\u001b[0m: \tLSTM_units: 32\n",
      "\u001b[34m\u001b[1mwandb\u001b[0m: \tLr: 0.0018729931029193168\n",
      "\u001b[34m\u001b[1mwandb\u001b[0m: \tLr_decay: 0.9797756346726204\n",
      "\u001b[34m\u001b[1mwandb\u001b[0m: \tMLP_layers: 4\n",
      "\u001b[34m\u001b[1mwandb\u001b[0m: \tMLP_units: 96\n",
      "\u001b[34m\u001b[1mwandb\u001b[0m: \tMin_delta: 1\n",
      "\u001b[34m\u001b[1mwandb\u001b[0m: \tMinibatch_size: 2048\n",
      "\u001b[34m\u001b[1mwandb\u001b[0m: \tNum_features: 4\n",
      "\u001b[34m\u001b[1mwandb\u001b[0m: \tPatience: 20\n",
      "Failed to detect the name of this notebook, you can set it manually with the WANDB_NOTEBOOK_NAME environment variable to enable code saving.\n"
     ]
    },
    {
     "data": {
      "text/html": [
       "wandb version 0.13.9 is available!  To upgrade, please run:\n",
       " $ pip install wandb --upgrade"
      ],
      "text/plain": [
       "<IPython.core.display.HTML object>"
      ]
     },
     "metadata": {},
     "output_type": "display_data"
    },
    {
     "data": {
      "text/html": [
       "Tracking run with wandb version 0.13.5"
      ],
      "text/plain": [
       "<IPython.core.display.HTML object>"
      ]
     },
     "metadata": {},
     "output_type": "display_data"
    },
    {
     "data": {
      "text/html": [
       "Run data is saved locally in <code>c:\\Users\\Erlend\\Google Drive\\NTNU\\5. Klasse\\Master\\Git-folder\\deep-learning-for-option-pricing\\LSTM-MLP_notebooks\\wandb\\run-20230131_161100-gcxtp8ai</code>"
      ],
      "text/plain": [
       "<IPython.core.display.HTML object>"
      ]
     },
     "metadata": {},
     "output_type": "display_data"
    },
    {
     "data": {
      "text/html": [
       "Syncing run <strong><a href=\"https://wandb.ai/avogadro/Deep%20learning%20for%20option%20pricing%20-%20test%20area/runs/gcxtp8ai\" target=\"_blank\">firm-sweep-3</a></strong> to <a href=\"https://wandb.ai/avogadro/Deep%20learning%20for%20option%20pricing%20-%20test%20area\" target=\"_blank\">Weights & Biases</a> (<a href=\"https://wandb.me/run\" target=\"_blank\">docs</a>)<br/>Sweep page:  <a href=\"https://wandb.ai/avogadro/Deep%20learning%20for%20option%20pricing%20-%20test%20area/sweeps/zyx7ephh\" target=\"_blank\">https://wandb.ai/avogadro/Deep%20learning%20for%20option%20pricing%20-%20test%20area/sweeps/zyx7ephh</a>"
      ],
      "text/plain": [
       "<IPython.core.display.HTML object>"
      ]
     },
     "metadata": {},
     "output_type": "display_data"
    },
    {
     "name": "stdout",
     "output_type": "stream",
     "text": [
      "Epoch 1/1000\n",
      "1/1 [==============================] - 9s 9s/step - loss: 0.4637 - val_loss: nan\n",
      "Epoch 2/1000\n",
      "1/1 [==============================] - 0s 63ms/step - loss: nan - val_loss: nan\n",
      "Epoch 3/1000\n",
      "1/1 [==============================] - 0s 63ms/step - loss: nan - val_loss: nan\n",
      "Epoch 4/1000\n",
      "1/1 [==============================] - 0s 67ms/step - loss: nan - val_loss: nan\n",
      "Epoch 5/1000\n",
      "1/1 [==============================] - 0s 73ms/step - loss: nan - val_loss: nan\n",
      "Epoch 6/1000\n",
      "1/1 [==============================] - 0s 77ms/step - loss: nan - val_loss: nan\n",
      "Epoch 7/1000\n",
      "1/1 [==============================] - 0s 70ms/step - loss: nan - val_loss: nan\n",
      "Epoch 8/1000\n",
      "1/1 [==============================] - 0s 63ms/step - loss: nan - val_loss: nan\n",
      "Epoch 9/1000\n",
      "1/1 [==============================] - 0s 60ms/step - loss: nan - val_loss: nan\n",
      "Epoch 10/1000\n",
      "1/1 [==============================] - 0s 65ms/step - loss: nan - val_loss: nan\n",
      "Epoch 11/1000\n",
      "1/1 [==============================] - 0s 63ms/step - loss: nan - val_loss: nan\n",
      "Epoch 12/1000\n",
      "1/1 [==============================] - 0s 60ms/step - loss: nan - val_loss: nan\n",
      "Epoch 13/1000\n",
      "1/1 [==============================] - 0s 62ms/step - loss: nan - val_loss: nan\n",
      "Epoch 14/1000\n",
      "1/1 [==============================] - 0s 61ms/step - loss: nan - val_loss: nan\n",
      "Epoch 15/1000\n",
      "1/1 [==============================] - 0s 62ms/step - loss: nan - val_loss: nan\n",
      "Epoch 16/1000\n",
      "1/1 [==============================] - 0s 83ms/step - loss: nan - val_loss: nan\n",
      "Epoch 17/1000\n",
      "1/1 [==============================] - 0s 68ms/step - loss: nan - val_loss: nan\n",
      "Epoch 18/1000\n",
      "1/1 [==============================] - 0s 61ms/step - loss: nan - val_loss: nan\n",
      "Epoch 19/1000\n",
      "1/1 [==============================] - 0s 64ms/step - loss: nan - val_loss: nan\n",
      "Epoch 20/1000\n",
      "1/1 [==============================] - 0s 68ms/step - loss: nan - val_loss: nan\n"
     ]
    },
    {
     "data": {
      "text/html": [
       "Waiting for W&B process to finish... <strong style=\"color:green\">(success).</strong>"
      ],
      "text/plain": [
       "<IPython.core.display.HTML object>"
      ]
     },
     "metadata": {},
     "output_type": "display_data"
    },
    {
     "data": {
      "application/vnd.jupyter.widget-view+json": {
       "model_id": "789d8af6d73e48f8b6fdc3cab0ca21f9",
       "version_major": 2,
       "version_minor": 0
      },
      "text/plain": [
       "VBox(children=(Label(value='0.003 MB of 0.003 MB uploaded (0.000 MB deduped)\\r'), FloatProgress(value=1.0, max…"
      ]
     },
     "metadata": {},
     "output_type": "display_data"
    },
    {
     "data": {
      "text/html": [
       "<style>\n",
       "    table.wandb td:nth-child(1) { padding: 0 10px; text-align: left ; width: auto;} td:nth-child(2) {text-align: left ; width: 100%}\n",
       "    .wandb-row { display: flex; flex-direction: row; flex-wrap: wrap; justify-content: flex-start; width: 100% }\n",
       "    .wandb-col { display: flex; flex-direction: column; flex-basis: 100%; flex: 1; padding: 10px; }\n",
       "    </style>\n",
       "<div class=\"wandb-row\"><div class=\"wandb-col\"><h3>Run history:</h3><br/><table class=\"wandb\"><tr><td>epoch</td><td>▁▁▂▂▂▃▃▄▄▄▅▅▅▆▆▇▇▇██</td></tr><tr><td>loss</td><td>▁                   </td></tr></table><br/></div><div class=\"wandb-col\"><h3>Run summary:</h3><br/><table class=\"wandb\"><tr><td>epoch</td><td>19</td></tr><tr><td>loss</td><td>nan</td></tr><tr><td>val_loss</td><td>nan</td></tr></table><br/></div></div>"
      ],
      "text/plain": [
       "<IPython.core.display.HTML object>"
      ]
     },
     "metadata": {},
     "output_type": "display_data"
    },
    {
     "data": {
      "text/html": [
       "Synced <strong style=\"color:#cdcd00\">firm-sweep-3</strong>: <a href=\"https://wandb.ai/avogadro/Deep%20learning%20for%20option%20pricing%20-%20test%20area/runs/gcxtp8ai\" target=\"_blank\">https://wandb.ai/avogadro/Deep%20learning%20for%20option%20pricing%20-%20test%20area/runs/gcxtp8ai</a><br/>Synced 5 W&B file(s), 1 media file(s), 0 artifact file(s) and 0 other file(s)"
      ],
      "text/plain": [
       "<IPython.core.display.HTML object>"
      ]
     },
     "metadata": {},
     "output_type": "display_data"
    },
    {
     "data": {
      "text/html": [
       "Find logs at: <code>.\\wandb\\run-20230131_161100-gcxtp8ai\\logs</code>"
      ],
      "text/plain": [
       "<IPython.core.display.HTML object>"
      ]
     },
     "metadata": {},
     "output_type": "display_data"
    },
    {
     "name": "stderr",
     "output_type": "stream",
     "text": [
      "\u001b[34m\u001b[1mwandb\u001b[0m: Sweep Agent: Waiting for job.\n",
      "\u001b[34m\u001b[1mwandb\u001b[0m: Job received.\n",
      "\u001b[34m\u001b[1mwandb\u001b[0m: Agent Starting Run: oe9yxmu5 with config:\n",
      "\u001b[34m\u001b[1mwandb\u001b[0m: \tBn_momentum: 0.2659423130604493\n",
      "\u001b[34m\u001b[1mwandb\u001b[0m: \tLSTM_layers: 5\n",
      "\u001b[34m\u001b[1mwandb\u001b[0m: \tLSTM_timesteps: 20\n",
      "\u001b[34m\u001b[1mwandb\u001b[0m: \tLSTM_units: 32\n",
      "\u001b[34m\u001b[1mwandb\u001b[0m: \tLr: 0.0026483047651647226\n",
      "\u001b[34m\u001b[1mwandb\u001b[0m: \tLr_decay: 0.9643822167373296\n",
      "\u001b[34m\u001b[1mwandb\u001b[0m: \tMLP_layers: 4\n",
      "\u001b[34m\u001b[1mwandb\u001b[0m: \tMLP_units: 32\n",
      "\u001b[34m\u001b[1mwandb\u001b[0m: \tMin_delta: 1\n",
      "\u001b[34m\u001b[1mwandb\u001b[0m: \tMinibatch_size: 1024\n",
      "\u001b[34m\u001b[1mwandb\u001b[0m: \tNum_features: 4\n",
      "\u001b[34m\u001b[1mwandb\u001b[0m: \tPatience: 20\n",
      "Failed to detect the name of this notebook, you can set it manually with the WANDB_NOTEBOOK_NAME environment variable to enable code saving.\n"
     ]
    },
    {
     "data": {
      "text/html": [
       "wandb version 0.13.9 is available!  To upgrade, please run:\n",
       " $ pip install wandb --upgrade"
      ],
      "text/plain": [
       "<IPython.core.display.HTML object>"
      ]
     },
     "metadata": {},
     "output_type": "display_data"
    },
    {
     "data": {
      "text/html": [
       "Tracking run with wandb version 0.13.5"
      ],
      "text/plain": [
       "<IPython.core.display.HTML object>"
      ]
     },
     "metadata": {},
     "output_type": "display_data"
    },
    {
     "data": {
      "text/html": [
       "Run data is saved locally in <code>c:\\Users\\Erlend\\Google Drive\\NTNU\\5. Klasse\\Master\\Git-folder\\deep-learning-for-option-pricing\\LSTM-MLP_notebooks\\wandb\\run-20230131_161135-oe9yxmu5</code>"
      ],
      "text/plain": [
       "<IPython.core.display.HTML object>"
      ]
     },
     "metadata": {},
     "output_type": "display_data"
    },
    {
     "data": {
      "text/html": [
       "Syncing run <strong><a href=\"https://wandb.ai/avogadro/Deep%20learning%20for%20option%20pricing%20-%20test%20area/runs/oe9yxmu5\" target=\"_blank\">silver-sweep-4</a></strong> to <a href=\"https://wandb.ai/avogadro/Deep%20learning%20for%20option%20pricing%20-%20test%20area\" target=\"_blank\">Weights & Biases</a> (<a href=\"https://wandb.me/run\" target=\"_blank\">docs</a>)<br/>Sweep page:  <a href=\"https://wandb.ai/avogadro/Deep%20learning%20for%20option%20pricing%20-%20test%20area/sweeps/zyx7ephh\" target=\"_blank\">https://wandb.ai/avogadro/Deep%20learning%20for%20option%20pricing%20-%20test%20area/sweeps/zyx7ephh</a>"
      ],
      "text/plain": [
       "<IPython.core.display.HTML object>"
      ]
     },
     "metadata": {},
     "output_type": "display_data"
    },
    {
     "name": "stdout",
     "output_type": "stream",
     "text": [
      "Epoch 1/1000\n",
      "1/1 [==============================] - 9s 9s/step - loss: 0.4596 - val_loss: nan\n",
      "Epoch 2/1000\n",
      "1/1 [==============================] - 0s 61ms/step - loss: nan - val_loss: nan\n",
      "Epoch 3/1000\n",
      "1/1 [==============================] - 0s 63ms/step - loss: nan - val_loss: nan\n",
      "Epoch 4/1000\n",
      "1/1 [==============================] - 0s 61ms/step - loss: nan - val_loss: nan\n",
      "Epoch 5/1000\n",
      "1/1 [==============================] - 0s 62ms/step - loss: nan - val_loss: nan\n",
      "Epoch 6/1000\n",
      "1/1 [==============================] - 0s 62ms/step - loss: nan - val_loss: nan\n",
      "Epoch 7/1000\n",
      "1/1 [==============================] - 0s 65ms/step - loss: nan - val_loss: nan\n",
      "Epoch 8/1000\n",
      "1/1 [==============================] - 0s 81ms/step - loss: nan - val_loss: nan\n",
      "Epoch 9/1000\n",
      "1/1 [==============================] - 0s 70ms/step - loss: nan - val_loss: nan\n",
      "Epoch 10/1000\n",
      "1/1 [==============================] - 0s 63ms/step - loss: nan - val_loss: nan\n",
      "Epoch 11/1000\n",
      "1/1 [==============================] - 0s 61ms/step - loss: nan - val_loss: nan\n",
      "Epoch 12/1000\n",
      "1/1 [==============================] - 0s 61ms/step - loss: nan - val_loss: nan\n",
      "Epoch 13/1000\n",
      "1/1 [==============================] - 0s 59ms/step - loss: nan - val_loss: nan\n",
      "Epoch 14/1000\n",
      "1/1 [==============================] - 0s 58ms/step - loss: nan - val_loss: nan\n",
      "Epoch 15/1000\n",
      "1/1 [==============================] - 0s 60ms/step - loss: nan - val_loss: nan\n",
      "Epoch 16/1000\n",
      "1/1 [==============================] - 0s 60ms/step - loss: nan - val_loss: nan\n",
      "Epoch 17/1000\n",
      "1/1 [==============================] - 0s 64ms/step - loss: nan - val_loss: nan\n",
      "Epoch 18/1000\n",
      "1/1 [==============================] - 0s 63ms/step - loss: nan - val_loss: nan\n",
      "Epoch 19/1000\n",
      "1/1 [==============================] - 0s 64ms/step - loss: nan - val_loss: nan\n",
      "Epoch 20/1000\n",
      "1/1 [==============================] - 0s 90ms/step - loss: nan - val_loss: nan\n"
     ]
    },
    {
     "data": {
      "text/html": [
       "Waiting for W&B process to finish... <strong style=\"color:green\">(success).</strong>"
      ],
      "text/plain": [
       "<IPython.core.display.HTML object>"
      ]
     },
     "metadata": {},
     "output_type": "display_data"
    },
    {
     "data": {
      "application/vnd.jupyter.widget-view+json": {
       "model_id": "bf131c5a6a2e4446a2eb19df5670776e",
       "version_major": 2,
       "version_minor": 0
      },
      "text/plain": [
       "VBox(children=(Label(value='0.003 MB of 0.003 MB uploaded (0.000 MB deduped)\\r'), FloatProgress(value=1.0, max…"
      ]
     },
     "metadata": {},
     "output_type": "display_data"
    },
    {
     "data": {
      "text/html": [
       "<style>\n",
       "    table.wandb td:nth-child(1) { padding: 0 10px; text-align: left ; width: auto;} td:nth-child(2) {text-align: left ; width: 100%}\n",
       "    .wandb-row { display: flex; flex-direction: row; flex-wrap: wrap; justify-content: flex-start; width: 100% }\n",
       "    .wandb-col { display: flex; flex-direction: column; flex-basis: 100%; flex: 1; padding: 10px; }\n",
       "    </style>\n",
       "<div class=\"wandb-row\"><div class=\"wandb-col\"><h3>Run history:</h3><br/><table class=\"wandb\"><tr><td>epoch</td><td>▁▁▂▂▂▃▃▄▄▄▅▅▅▆▆▇▇▇██</td></tr><tr><td>loss</td><td>▁                   </td></tr></table><br/></div><div class=\"wandb-col\"><h3>Run summary:</h3><br/><table class=\"wandb\"><tr><td>epoch</td><td>19</td></tr><tr><td>loss</td><td>nan</td></tr><tr><td>val_loss</td><td>nan</td></tr></table><br/></div></div>"
      ],
      "text/plain": [
       "<IPython.core.display.HTML object>"
      ]
     },
     "metadata": {},
     "output_type": "display_data"
    },
    {
     "data": {
      "text/html": [
       "Synced <strong style=\"color:#cdcd00\">silver-sweep-4</strong>: <a href=\"https://wandb.ai/avogadro/Deep%20learning%20for%20option%20pricing%20-%20test%20area/runs/oe9yxmu5\" target=\"_blank\">https://wandb.ai/avogadro/Deep%20learning%20for%20option%20pricing%20-%20test%20area/runs/oe9yxmu5</a><br/>Synced 5 W&B file(s), 1 media file(s), 0 artifact file(s) and 0 other file(s)"
      ],
      "text/plain": [
       "<IPython.core.display.HTML object>"
      ]
     },
     "metadata": {},
     "output_type": "display_data"
    },
    {
     "data": {
      "text/html": [
       "Find logs at: <code>.\\wandb\\run-20230131_161135-oe9yxmu5\\logs</code>"
      ],
      "text/plain": [
       "<IPython.core.display.HTML object>"
      ]
     },
     "metadata": {},
     "output_type": "display_data"
    },
    {
     "name": "stderr",
     "output_type": "stream",
     "text": [
      "\u001b[34m\u001b[1mwandb\u001b[0m: Agent Starting Run: wp0yqq09 with config:\n",
      "\u001b[34m\u001b[1mwandb\u001b[0m: \tBn_momentum: 0.08204156846380012\n",
      "\u001b[34m\u001b[1mwandb\u001b[0m: \tLSTM_layers: 5\n",
      "\u001b[34m\u001b[1mwandb\u001b[0m: \tLSTM_timesteps: 20\n",
      "\u001b[34m\u001b[1mwandb\u001b[0m: \tLSTM_units: 96\n",
      "\u001b[34m\u001b[1mwandb\u001b[0m: \tLr: 0.004640673664632609\n",
      "\u001b[34m\u001b[1mwandb\u001b[0m: \tLr_decay: 0.9024784214712506\n",
      "\u001b[34m\u001b[1mwandb\u001b[0m: \tMLP_layers: 6\n",
      "\u001b[34m\u001b[1mwandb\u001b[0m: \tMLP_units: 128\n",
      "\u001b[34m\u001b[1mwandb\u001b[0m: \tMin_delta: 1\n",
      "\u001b[34m\u001b[1mwandb\u001b[0m: \tMinibatch_size: 1024\n",
      "\u001b[34m\u001b[1mwandb\u001b[0m: \tNum_features: 4\n",
      "\u001b[34m\u001b[1mwandb\u001b[0m: \tPatience: 20\n",
      "Failed to detect the name of this notebook, you can set it manually with the WANDB_NOTEBOOK_NAME environment variable to enable code saving.\n"
     ]
    },
    {
     "data": {
      "text/html": [
       "wandb version 0.13.9 is available!  To upgrade, please run:\n",
       " $ pip install wandb --upgrade"
      ],
      "text/plain": [
       "<IPython.core.display.HTML object>"
      ]
     },
     "metadata": {},
     "output_type": "display_data"
    },
    {
     "data": {
      "text/html": [
       "Tracking run with wandb version 0.13.5"
      ],
      "text/plain": [
       "<IPython.core.display.HTML object>"
      ]
     },
     "metadata": {},
     "output_type": "display_data"
    },
    {
     "data": {
      "text/html": [
       "Run data is saved locally in <code>c:\\Users\\Erlend\\Google Drive\\NTNU\\5. Klasse\\Master\\Git-folder\\deep-learning-for-option-pricing\\LSTM-MLP_notebooks\\wandb\\run-20230131_161202-wp0yqq09</code>"
      ],
      "text/plain": [
       "<IPython.core.display.HTML object>"
      ]
     },
     "metadata": {},
     "output_type": "display_data"
    },
    {
     "data": {
      "text/html": [
       "Syncing run <strong><a href=\"https://wandb.ai/avogadro/Deep%20learning%20for%20option%20pricing%20-%20test%20area/runs/wp0yqq09\" target=\"_blank\">dazzling-sweep-5</a></strong> to <a href=\"https://wandb.ai/avogadro/Deep%20learning%20for%20option%20pricing%20-%20test%20area\" target=\"_blank\">Weights & Biases</a> (<a href=\"https://wandb.me/run\" target=\"_blank\">docs</a>)<br/>Sweep page:  <a href=\"https://wandb.ai/avogadro/Deep%20learning%20for%20option%20pricing%20-%20test%20area/sweeps/zyx7ephh\" target=\"_blank\">https://wandb.ai/avogadro/Deep%20learning%20for%20option%20pricing%20-%20test%20area/sweeps/zyx7ephh</a>"
      ],
      "text/plain": [
       "<IPython.core.display.HTML object>"
      ]
     },
     "metadata": {},
     "output_type": "display_data"
    },
    {
     "name": "stdout",
     "output_type": "stream",
     "text": [
      "Epoch 1/1000\n",
      "1/1 [==============================] - 9s 9s/step - loss: 0.4601 - val_loss: nan\n",
      "Epoch 2/1000\n",
      "1/1 [==============================] - 0s 144ms/step - loss: nan - val_loss: nan\n",
      "Epoch 3/1000\n",
      "1/1 [==============================] - 0s 140ms/step - loss: nan - val_loss: nan\n",
      "Epoch 4/1000\n",
      "1/1 [==============================] - 0s 150ms/step - loss: nan - val_loss: nan\n",
      "Epoch 5/1000\n",
      "1/1 [==============================] - 0s 171ms/step - loss: nan - val_loss: nan\n",
      "Epoch 6/1000\n",
      "1/1 [==============================] - 0s 149ms/step - loss: nan - val_loss: nan\n",
      "Epoch 7/1000\n",
      "1/1 [==============================] - 0s 137ms/step - loss: nan - val_loss: nan\n",
      "Epoch 8/1000\n",
      "1/1 [==============================] - 0s 137ms/step - loss: nan - val_loss: nan\n",
      "Epoch 9/1000\n",
      "1/1 [==============================] - 0s 140ms/step - loss: nan - val_loss: nan\n",
      "Epoch 10/1000\n",
      "1/1 [==============================] - 0s 136ms/step - loss: nan - val_loss: nan\n",
      "Epoch 11/1000\n",
      "1/1 [==============================] - 0s 142ms/step - loss: nan - val_loss: nan\n",
      "Epoch 12/1000\n",
      "1/1 [==============================] - 0s 138ms/step - loss: nan - val_loss: nan\n",
      "Epoch 13/1000\n",
      "1/1 [==============================] - 0s 146ms/step - loss: nan - val_loss: nan\n",
      "Epoch 14/1000\n",
      "1/1 [==============================] - 0s 139ms/step - loss: nan - val_loss: nan\n",
      "Epoch 15/1000\n",
      "1/1 [==============================] - 0s 143ms/step - loss: nan - val_loss: nan\n",
      "Epoch 16/1000\n",
      "1/1 [==============================] - 0s 142ms/step - loss: nan - val_loss: nan\n",
      "Epoch 17/1000\n",
      "1/1 [==============================] - 0s 139ms/step - loss: nan - val_loss: nan\n",
      "Epoch 18/1000\n",
      "1/1 [==============================] - 0s 141ms/step - loss: nan - val_loss: nan\n",
      "Epoch 19/1000\n",
      "1/1 [==============================] - 0s 167ms/step - loss: nan - val_loss: nan\n",
      "Epoch 20/1000\n",
      "1/1 [==============================] - 0s 139ms/step - loss: nan - val_loss: nan\n"
     ]
    },
    {
     "data": {
      "text/html": [
       "Waiting for W&B process to finish... <strong style=\"color:green\">(success).</strong>"
      ],
      "text/plain": [
       "<IPython.core.display.HTML object>"
      ]
     },
     "metadata": {},
     "output_type": "display_data"
    },
    {
     "data": {
      "text/html": [
       "<style>\n",
       "    table.wandb td:nth-child(1) { padding: 0 10px; text-align: left ; width: auto;} td:nth-child(2) {text-align: left ; width: 100%}\n",
       "    .wandb-row { display: flex; flex-direction: row; flex-wrap: wrap; justify-content: flex-start; width: 100% }\n",
       "    .wandb-col { display: flex; flex-direction: column; flex-basis: 100%; flex: 1; padding: 10px; }\n",
       "    </style>\n",
       "<div class=\"wandb-row\"><div class=\"wandb-col\"><h3>Run history:</h3><br/><table class=\"wandb\"><tr><td>epoch</td><td>▁▁▂▂▂▃▃▄▄▄▅▅▅▆▆▇▇▇██</td></tr><tr><td>loss</td><td>▁                   </td></tr></table><br/></div><div class=\"wandb-col\"><h3>Run summary:</h3><br/><table class=\"wandb\"><tr><td>epoch</td><td>19</td></tr><tr><td>loss</td><td>nan</td></tr><tr><td>val_loss</td><td>nan</td></tr></table><br/></div></div>"
      ],
      "text/plain": [
       "<IPython.core.display.HTML object>"
      ]
     },
     "metadata": {},
     "output_type": "display_data"
    },
    {
     "data": {
      "text/html": [
       "Synced <strong style=\"color:#cdcd00\">dazzling-sweep-5</strong>: <a href=\"https://wandb.ai/avogadro/Deep%20learning%20for%20option%20pricing%20-%20test%20area/runs/wp0yqq09\" target=\"_blank\">https://wandb.ai/avogadro/Deep%20learning%20for%20option%20pricing%20-%20test%20area/runs/wp0yqq09</a><br/>Synced 5 W&B file(s), 1 media file(s), 0 artifact file(s) and 0 other file(s)"
      ],
      "text/plain": [
       "<IPython.core.display.HTML object>"
      ]
     },
     "metadata": {},
     "output_type": "display_data"
    },
    {
     "data": {
      "text/html": [
       "Find logs at: <code>.\\wandb\\run-20230131_161202-wp0yqq09\\logs</code>"
      ],
      "text/plain": [
       "<IPython.core.display.HTML object>"
      ]
     },
     "metadata": {},
     "output_type": "display_data"
    },
    {
     "name": "stderr",
     "output_type": "stream",
     "text": [
      "\u001b[34m\u001b[1mwandb\u001b[0m: Agent Starting Run: 2cvhrbew with config:\n",
      "\u001b[34m\u001b[1mwandb\u001b[0m: \tBn_momentum: 0.1431208920277449\n",
      "\u001b[34m\u001b[1mwandb\u001b[0m: \tLSTM_layers: 6\n",
      "\u001b[34m\u001b[1mwandb\u001b[0m: \tLSTM_timesteps: 20\n",
      "\u001b[34m\u001b[1mwandb\u001b[0m: \tLSTM_units: 96\n",
      "\u001b[34m\u001b[1mwandb\u001b[0m: \tLr: 0.001488034699211149\n",
      "\u001b[34m\u001b[1mwandb\u001b[0m: \tLr_decay: 0.9380178934796374\n",
      "\u001b[34m\u001b[1mwandb\u001b[0m: \tMLP_layers: 6\n",
      "\u001b[34m\u001b[1mwandb\u001b[0m: \tMLP_units: 128\n",
      "\u001b[34m\u001b[1mwandb\u001b[0m: \tMin_delta: 1\n",
      "\u001b[34m\u001b[1mwandb\u001b[0m: \tMinibatch_size: 1024\n",
      "\u001b[34m\u001b[1mwandb\u001b[0m: \tNum_features: 4\n",
      "\u001b[34m\u001b[1mwandb\u001b[0m: \tPatience: 20\n",
      "Failed to detect the name of this notebook, you can set it manually with the WANDB_NOTEBOOK_NAME environment variable to enable code saving.\n"
     ]
    },
    {
     "data": {
      "text/html": [
       "wandb version 0.13.9 is available!  To upgrade, please run:\n",
       " $ pip install wandb --upgrade"
      ],
      "text/plain": [
       "<IPython.core.display.HTML object>"
      ]
     },
     "metadata": {},
     "output_type": "display_data"
    },
    {
     "data": {
      "text/html": [
       "Tracking run with wandb version 0.13.5"
      ],
      "text/plain": [
       "<IPython.core.display.HTML object>"
      ]
     },
     "metadata": {},
     "output_type": "display_data"
    },
    {
     "data": {
      "text/html": [
       "Run data is saved locally in <code>c:\\Users\\Erlend\\Google Drive\\NTNU\\5. Klasse\\Master\\Git-folder\\deep-learning-for-option-pricing\\LSTM-MLP_notebooks\\wandb\\run-20230131_161233-2cvhrbew</code>"
      ],
      "text/plain": [
       "<IPython.core.display.HTML object>"
      ]
     },
     "metadata": {},
     "output_type": "display_data"
    },
    {
     "data": {
      "text/html": [
       "Syncing run <strong><a href=\"https://wandb.ai/avogadro/Deep%20learning%20for%20option%20pricing%20-%20test%20area/runs/2cvhrbew\" target=\"_blank\">fragrant-sweep-6</a></strong> to <a href=\"https://wandb.ai/avogadro/Deep%20learning%20for%20option%20pricing%20-%20test%20area\" target=\"_blank\">Weights & Biases</a> (<a href=\"https://wandb.me/run\" target=\"_blank\">docs</a>)<br/>Sweep page:  <a href=\"https://wandb.ai/avogadro/Deep%20learning%20for%20option%20pricing%20-%20test%20area/sweeps/zyx7ephh\" target=\"_blank\">https://wandb.ai/avogadro/Deep%20learning%20for%20option%20pricing%20-%20test%20area/sweeps/zyx7ephh</a>"
      ],
      "text/plain": [
       "<IPython.core.display.HTML object>"
      ]
     },
     "metadata": {},
     "output_type": "display_data"
    },
    {
     "name": "stdout",
     "output_type": "stream",
     "text": [
      "Epoch 1/1000\n",
      "1/1 [==============================] - 11s 11s/step - loss: 0.4982 - val_loss: nan\n",
      "Epoch 2/1000\n",
      "1/1 [==============================] - 0s 260ms/step - loss: nan - val_loss: nan\n",
      "Epoch 3/1000\n",
      "1/1 [==============================] - 0s 204ms/step - loss: nan - val_loss: nan\n",
      "Epoch 4/1000\n",
      "1/1 [==============================] - 0s 220ms/step - loss: nan - val_loss: nan\n",
      "Epoch 5/1000\n",
      "1/1 [==============================] - 0s 252ms/step - loss: nan - val_loss: nan\n",
      "Epoch 6/1000\n",
      "1/1 [==============================] - 0s 264ms/step - loss: nan - val_loss: nan\n",
      "Epoch 7/1000\n",
      "1/1 [==============================] - 0s 257ms/step - loss: nan - val_loss: nan\n",
      "Epoch 8/1000\n",
      "1/1 [==============================] - 0s 269ms/step - loss: nan - val_loss: nan\n",
      "Epoch 9/1000\n",
      "1/1 [==============================] - 0s 282ms/step - loss: nan - val_loss: nan\n",
      "Epoch 10/1000\n",
      "1/1 [==============================] - 0s 295ms/step - loss: nan - val_loss: nan\n",
      "Epoch 11/1000\n",
      "1/1 [==============================] - 0s 269ms/step - loss: nan - val_loss: nan\n",
      "Epoch 12/1000\n",
      "1/1 [==============================] - 0s 281ms/step - loss: nan - val_loss: nan\n",
      "Epoch 13/1000\n",
      "1/1 [==============================] - 0s 267ms/step - loss: nan - val_loss: nan\n",
      "Epoch 14/1000\n",
      "1/1 [==============================] - 0s 260ms/step - loss: nan - val_loss: nan\n",
      "Epoch 15/1000\n",
      "1/1 [==============================] - 0s 270ms/step - loss: nan - val_loss: nan\n",
      "Epoch 16/1000\n",
      "1/1 [==============================] - 0s 274ms/step - loss: nan - val_loss: nan\n",
      "Epoch 17/1000\n",
      "1/1 [==============================] - 0s 303ms/step - loss: nan - val_loss: nan\n",
      "Epoch 18/1000\n",
      "1/1 [==============================] - 0s 288ms/step - loss: nan - val_loss: nan\n",
      "Epoch 19/1000\n",
      "1/1 [==============================] - 0s 278ms/step - loss: nan - val_loss: nan\n",
      "Epoch 20/1000\n",
      "1/1 [==============================] - 0s 282ms/step - loss: nan - val_loss: nan\n"
     ]
    },
    {
     "data": {
      "text/html": [
       "Waiting for W&B process to finish... <strong style=\"color:green\">(success).</strong>"
      ],
      "text/plain": [
       "<IPython.core.display.HTML object>"
      ]
     },
     "metadata": {},
     "output_type": "display_data"
    },
    {
     "data": {
      "application/vnd.jupyter.widget-view+json": {
       "model_id": "425a9570e6674170be08c2bcea12bb6d",
       "version_major": 2,
       "version_minor": 0
      },
      "text/plain": [
       "VBox(children=(Label(value='0.004 MB of 0.004 MB uploaded (0.000 MB deduped)\\r'), FloatProgress(value=1.0, max…"
      ]
     },
     "metadata": {},
     "output_type": "display_data"
    },
    {
     "data": {
      "text/html": [
       "<style>\n",
       "    table.wandb td:nth-child(1) { padding: 0 10px; text-align: left ; width: auto;} td:nth-child(2) {text-align: left ; width: 100%}\n",
       "    .wandb-row { display: flex; flex-direction: row; flex-wrap: wrap; justify-content: flex-start; width: 100% }\n",
       "    .wandb-col { display: flex; flex-direction: column; flex-basis: 100%; flex: 1; padding: 10px; }\n",
       "    </style>\n",
       "<div class=\"wandb-row\"><div class=\"wandb-col\"><h3>Run history:</h3><br/><table class=\"wandb\"><tr><td>epoch</td><td>▁▁▂▂▂▃▃▄▄▄▅▅▅▆▆▇▇▇██</td></tr><tr><td>loss</td><td>▁                   </td></tr></table><br/></div><div class=\"wandb-col\"><h3>Run summary:</h3><br/><table class=\"wandb\"><tr><td>epoch</td><td>19</td></tr><tr><td>loss</td><td>nan</td></tr><tr><td>val_loss</td><td>nan</td></tr></table><br/></div></div>"
      ],
      "text/plain": [
       "<IPython.core.display.HTML object>"
      ]
     },
     "metadata": {},
     "output_type": "display_data"
    },
    {
     "data": {
      "text/html": [
       "Synced <strong style=\"color:#cdcd00\">fragrant-sweep-6</strong>: <a href=\"https://wandb.ai/avogadro/Deep%20learning%20for%20option%20pricing%20-%20test%20area/runs/2cvhrbew\" target=\"_blank\">https://wandb.ai/avogadro/Deep%20learning%20for%20option%20pricing%20-%20test%20area/runs/2cvhrbew</a><br/>Synced 5 W&B file(s), 1 media file(s), 0 artifact file(s) and 0 other file(s)"
      ],
      "text/plain": [
       "<IPython.core.display.HTML object>"
      ]
     },
     "metadata": {},
     "output_type": "display_data"
    },
    {
     "data": {
      "text/html": [
       "Find logs at: <code>.\\wandb\\run-20230131_161233-2cvhrbew\\logs</code>"
      ],
      "text/plain": [
       "<IPython.core.display.HTML object>"
      ]
     },
     "metadata": {},
     "output_type": "display_data"
    },
    {
     "name": "stderr",
     "output_type": "stream",
     "text": [
      "\u001b[34m\u001b[1mwandb\u001b[0m: Agent Starting Run: 92quxzyy with config:\n",
      "\u001b[34m\u001b[1mwandb\u001b[0m: \tBn_momentum: 0.3649937528015885\n",
      "\u001b[34m\u001b[1mwandb\u001b[0m: \tLSTM_layers: 6\n",
      "\u001b[34m\u001b[1mwandb\u001b[0m: \tLSTM_timesteps: 20\n",
      "\u001b[34m\u001b[1mwandb\u001b[0m: \tLSTM_units: 32\n",
      "\u001b[34m\u001b[1mwandb\u001b[0m: \tLr: 0.004545469054102136\n",
      "\u001b[34m\u001b[1mwandb\u001b[0m: \tLr_decay: 0.9116749492617068\n",
      "\u001b[34m\u001b[1mwandb\u001b[0m: \tMLP_layers: 5\n",
      "\u001b[34m\u001b[1mwandb\u001b[0m: \tMLP_units: 32\n",
      "\u001b[34m\u001b[1mwandb\u001b[0m: \tMin_delta: 1\n",
      "\u001b[34m\u001b[1mwandb\u001b[0m: \tMinibatch_size: 4096\n",
      "\u001b[34m\u001b[1mwandb\u001b[0m: \tNum_features: 4\n",
      "\u001b[34m\u001b[1mwandb\u001b[0m: \tPatience: 20\n",
      "Failed to detect the name of this notebook, you can set it manually with the WANDB_NOTEBOOK_NAME environment variable to enable code saving.\n"
     ]
    },
    {
     "data": {
      "text/html": [
       "wandb version 0.13.9 is available!  To upgrade, please run:\n",
       " $ pip install wandb --upgrade"
      ],
      "text/plain": [
       "<IPython.core.display.HTML object>"
      ]
     },
     "metadata": {},
     "output_type": "display_data"
    },
    {
     "data": {
      "text/html": [
       "Tracking run with wandb version 0.13.5"
      ],
      "text/plain": [
       "<IPython.core.display.HTML object>"
      ]
     },
     "metadata": {},
     "output_type": "display_data"
    },
    {
     "data": {
      "text/html": [
       "Run data is saved locally in <code>c:\\Users\\Erlend\\Google Drive\\NTNU\\5. Klasse\\Master\\Git-folder\\deep-learning-for-option-pricing\\LSTM-MLP_notebooks\\wandb\\run-20230131_161305-92quxzyy</code>"
      ],
      "text/plain": [
       "<IPython.core.display.HTML object>"
      ]
     },
     "metadata": {},
     "output_type": "display_data"
    },
    {
     "data": {
      "text/html": [
       "Syncing run <strong><a href=\"https://wandb.ai/avogadro/Deep%20learning%20for%20option%20pricing%20-%20test%20area/runs/92quxzyy\" target=\"_blank\">brisk-sweep-7</a></strong> to <a href=\"https://wandb.ai/avogadro/Deep%20learning%20for%20option%20pricing%20-%20test%20area\" target=\"_blank\">Weights & Biases</a> (<a href=\"https://wandb.me/run\" target=\"_blank\">docs</a>)<br/>Sweep page:  <a href=\"https://wandb.ai/avogadro/Deep%20learning%20for%20option%20pricing%20-%20test%20area/sweeps/zyx7ephh\" target=\"_blank\">https://wandb.ai/avogadro/Deep%20learning%20for%20option%20pricing%20-%20test%20area/sweeps/zyx7ephh</a>"
      ],
      "text/plain": [
       "<IPython.core.display.HTML object>"
      ]
     },
     "metadata": {},
     "output_type": "display_data"
    },
    {
     "name": "stdout",
     "output_type": "stream",
     "text": [
      "Epoch 1/1000\n",
      "1/1 [==============================] - 10s 10s/step - loss: 0.3113 - val_loss: nan\n",
      "Epoch 2/1000\n",
      "1/1 [==============================] - 0s 91ms/step - loss: nan - val_loss: nan\n",
      "Epoch 3/1000\n",
      "1/1 [==============================] - 0s 93ms/step - loss: nan - val_loss: nan\n",
      "Epoch 4/1000\n",
      "1/1 [==============================] - 0s 79ms/step - loss: nan - val_loss: nan\n",
      "Epoch 5/1000\n",
      "1/1 [==============================] - 0s 73ms/step - loss: nan - val_loss: nan\n",
      "Epoch 6/1000\n",
      "1/1 [==============================] - 0s 69ms/step - loss: nan - val_loss: nan\n",
      "Epoch 7/1000\n",
      "1/1 [==============================] - 0s 70ms/step - loss: nan - val_loss: nan\n",
      "Epoch 8/1000\n",
      "1/1 [==============================] - 0s 68ms/step - loss: nan - val_loss: nan\n",
      "Epoch 9/1000\n",
      "1/1 [==============================] - 0s 72ms/step - loss: nan - val_loss: nan\n",
      "Epoch 10/1000\n",
      "1/1 [==============================] - 0s 80ms/step - loss: nan - val_loss: nan\n",
      "Epoch 11/1000\n",
      "1/1 [==============================] - 0s 82ms/step - loss: nan - val_loss: nan\n",
      "Epoch 12/1000\n",
      "1/1 [==============================] - 0s 86ms/step - loss: nan - val_loss: nan\n",
      "Epoch 13/1000\n",
      "1/1 [==============================] - 0s 88ms/step - loss: nan - val_loss: nan\n",
      "Epoch 14/1000\n",
      "1/1 [==============================] - 0s 115ms/step - loss: nan - val_loss: nan\n",
      "Epoch 15/1000\n",
      "1/1 [==============================] - 0s 119ms/step - loss: nan - val_loss: nan\n",
      "Epoch 16/1000\n",
      "1/1 [==============================] - 0s 107ms/step - loss: nan - val_loss: nan\n",
      "Epoch 17/1000\n",
      "1/1 [==============================] - 0s 101ms/step - loss: nan - val_loss: nan\n",
      "Epoch 18/1000\n",
      "1/1 [==============================] - 0s 99ms/step - loss: nan - val_loss: nan\n",
      "Epoch 19/1000\n",
      "1/1 [==============================] - 0s 104ms/step - loss: nan - val_loss: nan\n",
      "Epoch 20/1000\n",
      "1/1 [==============================] - 0s 97ms/step - loss: nan - val_loss: nan\n"
     ]
    },
    {
     "data": {
      "text/html": [
       "Waiting for W&B process to finish... <strong style=\"color:green\">(success).</strong>"
      ],
      "text/plain": [
       "<IPython.core.display.HTML object>"
      ]
     },
     "metadata": {},
     "output_type": "display_data"
    },
    {
     "data": {
      "text/html": [
       "<style>\n",
       "    table.wandb td:nth-child(1) { padding: 0 10px; text-align: left ; width: auto;} td:nth-child(2) {text-align: left ; width: 100%}\n",
       "    .wandb-row { display: flex; flex-direction: row; flex-wrap: wrap; justify-content: flex-start; width: 100% }\n",
       "    .wandb-col { display: flex; flex-direction: column; flex-basis: 100%; flex: 1; padding: 10px; }\n",
       "    </style>\n",
       "<div class=\"wandb-row\"><div class=\"wandb-col\"><h3>Run history:</h3><br/><table class=\"wandb\"><tr><td>epoch</td><td>▁▁▂▂▂▃▃▄▄▄▅▅▅▆▆▇▇▇██</td></tr><tr><td>loss</td><td>▁                   </td></tr></table><br/></div><div class=\"wandb-col\"><h3>Run summary:</h3><br/><table class=\"wandb\"><tr><td>epoch</td><td>19</td></tr><tr><td>loss</td><td>nan</td></tr><tr><td>val_loss</td><td>nan</td></tr></table><br/></div></div>"
      ],
      "text/plain": [
       "<IPython.core.display.HTML object>"
      ]
     },
     "metadata": {},
     "output_type": "display_data"
    },
    {
     "data": {
      "text/html": [
       "Synced <strong style=\"color:#cdcd00\">brisk-sweep-7</strong>: <a href=\"https://wandb.ai/avogadro/Deep%20learning%20for%20option%20pricing%20-%20test%20area/runs/92quxzyy\" target=\"_blank\">https://wandb.ai/avogadro/Deep%20learning%20for%20option%20pricing%20-%20test%20area/runs/92quxzyy</a><br/>Synced 5 W&B file(s), 1 media file(s), 0 artifact file(s) and 0 other file(s)"
      ],
      "text/plain": [
       "<IPython.core.display.HTML object>"
      ]
     },
     "metadata": {},
     "output_type": "display_data"
    },
    {
     "data": {
      "text/html": [
       "Find logs at: <code>.\\wandb\\run-20230131_161305-92quxzyy\\logs</code>"
      ],
      "text/plain": [
       "<IPython.core.display.HTML object>"
      ]
     },
     "metadata": {},
     "output_type": "display_data"
    },
    {
     "name": "stderr",
     "output_type": "stream",
     "text": [
      "\u001b[34m\u001b[1mwandb\u001b[0m: Agent Starting Run: z7pkyj10 with config:\n",
      "\u001b[34m\u001b[1mwandb\u001b[0m: \tBn_momentum: 0.30076593823013303\n",
      "\u001b[34m\u001b[1mwandb\u001b[0m: \tLSTM_layers: 5\n",
      "\u001b[34m\u001b[1mwandb\u001b[0m: \tLSTM_timesteps: 20\n",
      "\u001b[34m\u001b[1mwandb\u001b[0m: \tLSTM_units: 96\n",
      "\u001b[34m\u001b[1mwandb\u001b[0m: \tLr: 0.0012146809344324755\n",
      "\u001b[34m\u001b[1mwandb\u001b[0m: \tLr_decay: 0.9077835869169288\n",
      "\u001b[34m\u001b[1mwandb\u001b[0m: \tMLP_layers: 5\n",
      "\u001b[34m\u001b[1mwandb\u001b[0m: \tMLP_units: 128\n",
      "\u001b[34m\u001b[1mwandb\u001b[0m: \tMin_delta: 1\n",
      "\u001b[34m\u001b[1mwandb\u001b[0m: \tMinibatch_size: 4096\n",
      "\u001b[34m\u001b[1mwandb\u001b[0m: \tNum_features: 4\n",
      "\u001b[34m\u001b[1mwandb\u001b[0m: \tPatience: 20\n",
      "Failed to detect the name of this notebook, you can set it manually with the WANDB_NOTEBOOK_NAME environment variable to enable code saving.\n"
     ]
    },
    {
     "data": {
      "text/html": [
       "wandb version 0.13.9 is available!  To upgrade, please run:\n",
       " $ pip install wandb --upgrade"
      ],
      "text/plain": [
       "<IPython.core.display.HTML object>"
      ]
     },
     "metadata": {},
     "output_type": "display_data"
    },
    {
     "data": {
      "text/html": [
       "Tracking run with wandb version 0.13.5"
      ],
      "text/plain": [
       "<IPython.core.display.HTML object>"
      ]
     },
     "metadata": {},
     "output_type": "display_data"
    },
    {
     "data": {
      "text/html": [
       "Run data is saved locally in <code>c:\\Users\\Erlend\\Google Drive\\NTNU\\5. Klasse\\Master\\Git-folder\\deep-learning-for-option-pricing\\LSTM-MLP_notebooks\\wandb\\run-20230131_161347-z7pkyj10</code>"
      ],
      "text/plain": [
       "<IPython.core.display.HTML object>"
      ]
     },
     "metadata": {},
     "output_type": "display_data"
    },
    {
     "data": {
      "text/html": [
       "Syncing run <strong><a href=\"https://wandb.ai/avogadro/Deep%20learning%20for%20option%20pricing%20-%20test%20area/runs/z7pkyj10\" target=\"_blank\">lyric-sweep-8</a></strong> to <a href=\"https://wandb.ai/avogadro/Deep%20learning%20for%20option%20pricing%20-%20test%20area\" target=\"_blank\">Weights & Biases</a> (<a href=\"https://wandb.me/run\" target=\"_blank\">docs</a>)<br/>Sweep page:  <a href=\"https://wandb.ai/avogadro/Deep%20learning%20for%20option%20pricing%20-%20test%20area/sweeps/zyx7ephh\" target=\"_blank\">https://wandb.ai/avogadro/Deep%20learning%20for%20option%20pricing%20-%20test%20area/sweeps/zyx7ephh</a>"
      ],
      "text/plain": [
       "<IPython.core.display.HTML object>"
      ]
     },
     "metadata": {},
     "output_type": "display_data"
    },
    {
     "name": "stdout",
     "output_type": "stream",
     "text": [
      "Epoch 1/1000\n",
      "1/1 [==============================] - 9s 9s/step - loss: 0.2647 - val_loss: nan\n",
      "Epoch 2/1000\n",
      "1/1 [==============================] - 0s 162ms/step - loss: nan - val_loss: nan\n",
      "Epoch 3/1000\n",
      "1/1 [==============================] - 0s 159ms/step - loss: nan - val_loss: nan\n",
      "Epoch 4/1000\n",
      "1/1 [==============================] - 0s 165ms/step - loss: nan - val_loss: nan\n",
      "Epoch 5/1000\n",
      "1/1 [==============================] - 0s 194ms/step - loss: nan - val_loss: nan\n",
      "Epoch 6/1000\n",
      "1/1 [==============================] - 0s 180ms/step - loss: nan - val_loss: nan\n",
      "Epoch 7/1000\n",
      "1/1 [==============================] - 0s 156ms/step - loss: nan - val_loss: nan\n",
      "Epoch 8/1000\n",
      "1/1 [==============================] - 0s 152ms/step - loss: nan - val_loss: nan\n",
      "Epoch 9/1000\n",
      "1/1 [==============================] - 0s 179ms/step - loss: nan - val_loss: nan\n",
      "Epoch 10/1000\n",
      "1/1 [==============================] - 0s 183ms/step - loss: nan - val_loss: nan\n",
      "Epoch 11/1000\n",
      "1/1 [==============================] - 0s 185ms/step - loss: nan - val_loss: nan\n",
      "Epoch 12/1000\n",
      "1/1 [==============================] - 0s 162ms/step - loss: nan - val_loss: nan\n",
      "Epoch 13/1000\n",
      "1/1 [==============================] - 0s 164ms/step - loss: nan - val_loss: nan\n",
      "Epoch 14/1000\n",
      "1/1 [==============================] - 0s 157ms/step - loss: nan - val_loss: nan\n",
      "Epoch 15/1000\n",
      "1/1 [==============================] - 0s 161ms/step - loss: nan - val_loss: nan\n",
      "Epoch 16/1000\n",
      "1/1 [==============================] - 0s 167ms/step - loss: nan - val_loss: nan\n",
      "Epoch 17/1000\n",
      "1/1 [==============================] - 0s 190ms/step - loss: nan - val_loss: nan\n",
      "Epoch 18/1000\n",
      "1/1 [==============================] - 0s 155ms/step - loss: nan - val_loss: nan\n",
      "Epoch 19/1000\n",
      "1/1 [==============================] - 0s 157ms/step - loss: nan - val_loss: nan\n",
      "Epoch 20/1000\n",
      "1/1 [==============================] - 0s 154ms/step - loss: nan - val_loss: nan\n"
     ]
    },
    {
     "data": {
      "text/html": [
       "Waiting for W&B process to finish... <strong style=\"color:green\">(success).</strong>"
      ],
      "text/plain": [
       "<IPython.core.display.HTML object>"
      ]
     },
     "metadata": {},
     "output_type": "display_data"
    },
    {
     "data": {
      "text/html": [
       "<style>\n",
       "    table.wandb td:nth-child(1) { padding: 0 10px; text-align: left ; width: auto;} td:nth-child(2) {text-align: left ; width: 100%}\n",
       "    .wandb-row { display: flex; flex-direction: row; flex-wrap: wrap; justify-content: flex-start; width: 100% }\n",
       "    .wandb-col { display: flex; flex-direction: column; flex-basis: 100%; flex: 1; padding: 10px; }\n",
       "    </style>\n",
       "<div class=\"wandb-row\"><div class=\"wandb-col\"><h3>Run history:</h3><br/><table class=\"wandb\"><tr><td>epoch</td><td>▁▁▂▂▂▃▃▄▄▄▅▅▅▆▆▇▇▇██</td></tr><tr><td>loss</td><td>▁                   </td></tr></table><br/></div><div class=\"wandb-col\"><h3>Run summary:</h3><br/><table class=\"wandb\"><tr><td>epoch</td><td>19</td></tr><tr><td>loss</td><td>nan</td></tr><tr><td>val_loss</td><td>nan</td></tr></table><br/></div></div>"
      ],
      "text/plain": [
       "<IPython.core.display.HTML object>"
      ]
     },
     "metadata": {},
     "output_type": "display_data"
    },
    {
     "data": {
      "text/html": [
       "Synced <strong style=\"color:#cdcd00\">lyric-sweep-8</strong>: <a href=\"https://wandb.ai/avogadro/Deep%20learning%20for%20option%20pricing%20-%20test%20area/runs/z7pkyj10\" target=\"_blank\">https://wandb.ai/avogadro/Deep%20learning%20for%20option%20pricing%20-%20test%20area/runs/z7pkyj10</a><br/>Synced 5 W&B file(s), 1 media file(s), 0 artifact file(s) and 0 other file(s)"
      ],
      "text/plain": [
       "<IPython.core.display.HTML object>"
      ]
     },
     "metadata": {},
     "output_type": "display_data"
    },
    {
     "data": {
      "text/html": [
       "Find logs at: <code>.\\wandb\\run-20230131_161347-z7pkyj10\\logs</code>"
      ],
      "text/plain": [
       "<IPython.core.display.HTML object>"
      ]
     },
     "metadata": {},
     "output_type": "display_data"
    },
    {
     "name": "stderr",
     "output_type": "stream",
     "text": [
      "\u001b[34m\u001b[1mwandb\u001b[0m: Agent Starting Run: oyrnf6d4 with config:\n",
      "\u001b[34m\u001b[1mwandb\u001b[0m: \tBn_momentum: 0.14143435574370053\n",
      "\u001b[34m\u001b[1mwandb\u001b[0m: \tLSTM_layers: 4\n",
      "\u001b[34m\u001b[1mwandb\u001b[0m: \tLSTM_timesteps: 20\n",
      "\u001b[34m\u001b[1mwandb\u001b[0m: \tLSTM_units: 96\n",
      "\u001b[34m\u001b[1mwandb\u001b[0m: \tLr: 0.0015693081091948486\n",
      "\u001b[34m\u001b[1mwandb\u001b[0m: \tLr_decay: 0.927427910024855\n",
      "\u001b[34m\u001b[1mwandb\u001b[0m: \tMLP_layers: 5\n",
      "\u001b[34m\u001b[1mwandb\u001b[0m: \tMLP_units: 32\n",
      "\u001b[34m\u001b[1mwandb\u001b[0m: \tMin_delta: 1\n",
      "\u001b[34m\u001b[1mwandb\u001b[0m: \tMinibatch_size: 1024\n",
      "\u001b[34m\u001b[1mwandb\u001b[0m: \tNum_features: 4\n",
      "\u001b[34m\u001b[1mwandb\u001b[0m: \tPatience: 20\n",
      "Failed to detect the name of this notebook, you can set it manually with the WANDB_NOTEBOOK_NAME environment variable to enable code saving.\n"
     ]
    },
    {
     "data": {
      "text/html": [
       "wandb version 0.13.9 is available!  To upgrade, please run:\n",
       " $ pip install wandb --upgrade"
      ],
      "text/plain": [
       "<IPython.core.display.HTML object>"
      ]
     },
     "metadata": {},
     "output_type": "display_data"
    },
    {
     "data": {
      "text/html": [
       "Tracking run with wandb version 0.13.5"
      ],
      "text/plain": [
       "<IPython.core.display.HTML object>"
      ]
     },
     "metadata": {},
     "output_type": "display_data"
    },
    {
     "data": {
      "text/html": [
       "Run data is saved locally in <code>c:\\Users\\Erlend\\Google Drive\\NTNU\\5. Klasse\\Master\\Git-folder\\deep-learning-for-option-pricing\\LSTM-MLP_notebooks\\wandb\\run-20230131_161419-oyrnf6d4</code>"
      ],
      "text/plain": [
       "<IPython.core.display.HTML object>"
      ]
     },
     "metadata": {},
     "output_type": "display_data"
    },
    {
     "data": {
      "text/html": [
       "Syncing run <strong><a href=\"https://wandb.ai/avogadro/Deep%20learning%20for%20option%20pricing%20-%20test%20area/runs/oyrnf6d4\" target=\"_blank\">resilient-sweep-9</a></strong> to <a href=\"https://wandb.ai/avogadro/Deep%20learning%20for%20option%20pricing%20-%20test%20area\" target=\"_blank\">Weights & Biases</a> (<a href=\"https://wandb.me/run\" target=\"_blank\">docs</a>)<br/>Sweep page:  <a href=\"https://wandb.ai/avogadro/Deep%20learning%20for%20option%20pricing%20-%20test%20area/sweeps/zyx7ephh\" target=\"_blank\">https://wandb.ai/avogadro/Deep%20learning%20for%20option%20pricing%20-%20test%20area/sweeps/zyx7ephh</a>"
      ],
      "text/plain": [
       "<IPython.core.display.HTML object>"
      ]
     },
     "metadata": {},
     "output_type": "display_data"
    },
    {
     "name": "stdout",
     "output_type": "stream",
     "text": [
      "Epoch 1/1000\n",
      "1/1 [==============================] - 8s 8s/step - loss: 0.5241 - val_loss: nan\n",
      "Epoch 2/1000\n",
      "1/1 [==============================] - 0s 128ms/step - loss: nan - val_loss: nan\n",
      "Epoch 3/1000\n",
      "1/1 [==============================] - 0s 122ms/step - loss: nan - val_loss: nan\n",
      "Epoch 4/1000\n",
      "1/1 [==============================] - 0s 122ms/step - loss: nan - val_loss: nan\n",
      "Epoch 5/1000\n",
      "1/1 [==============================] - 0s 126ms/step - loss: nan - val_loss: nan\n",
      "Epoch 6/1000\n",
      "1/1 [==============================] - 0s 180ms/step - loss: nan - val_loss: nan\n",
      "Epoch 7/1000\n",
      "1/1 [==============================] - 0s 153ms/step - loss: nan - val_loss: nan\n",
      "Epoch 8/1000\n",
      "1/1 [==============================] - 0s 153ms/step - loss: nan - val_loss: nan\n",
      "Epoch 9/1000\n",
      "1/1 [==============================] - 0s 123ms/step - loss: nan - val_loss: nan\n",
      "Epoch 10/1000\n",
      "1/1 [==============================] - 0s 131ms/step - loss: nan - val_loss: nan\n",
      "Epoch 11/1000\n",
      "1/1 [==============================] - 0s 122ms/step - loss: nan - val_loss: nan\n",
      "Epoch 12/1000\n",
      "1/1 [==============================] - 0s 127ms/step - loss: nan - val_loss: nan\n",
      "Epoch 13/1000\n",
      "1/1 [==============================] - 0s 128ms/step - loss: nan - val_loss: nan\n",
      "Epoch 14/1000\n",
      "1/1 [==============================] - 0s 126ms/step - loss: nan - val_loss: nan\n",
      "Epoch 15/1000\n",
      "1/1 [==============================] - 0s 127ms/step - loss: nan - val_loss: nan\n",
      "Epoch 16/1000\n",
      "1/1 [==============================] - 0s 128ms/step - loss: nan - val_loss: nan\n",
      "Epoch 17/1000\n",
      "1/1 [==============================] - 0s 122ms/step - loss: nan - val_loss: nan\n",
      "Epoch 18/1000\n",
      "1/1 [==============================] - 0s 157ms/step - loss: nan - val_loss: nan\n",
      "Epoch 19/1000\n",
      "1/1 [==============================] - 0s 131ms/step - loss: nan - val_loss: nan\n",
      "Epoch 20/1000\n",
      "1/1 [==============================] - 0s 137ms/step - loss: nan - val_loss: nan\n"
     ]
    },
    {
     "data": {
      "text/html": [
       "Waiting for W&B process to finish... <strong style=\"color:green\">(success).</strong>"
      ],
      "text/plain": [
       "<IPython.core.display.HTML object>"
      ]
     },
     "metadata": {},
     "output_type": "display_data"
    },
    {
     "data": {
      "application/vnd.jupyter.widget-view+json": {
       "model_id": "17f548a53c374a16a4c2287042d60689",
       "version_major": 2,
       "version_minor": 0
      },
      "text/plain": [
       "VBox(children=(Label(value='0.004 MB of 0.004 MB uploaded (0.000 MB deduped)\\r'), FloatProgress(value=1.0, max…"
      ]
     },
     "metadata": {},
     "output_type": "display_data"
    },
    {
     "data": {
      "text/html": [
       "<style>\n",
       "    table.wandb td:nth-child(1) { padding: 0 10px; text-align: left ; width: auto;} td:nth-child(2) {text-align: left ; width: 100%}\n",
       "    .wandb-row { display: flex; flex-direction: row; flex-wrap: wrap; justify-content: flex-start; width: 100% }\n",
       "    .wandb-col { display: flex; flex-direction: column; flex-basis: 100%; flex: 1; padding: 10px; }\n",
       "    </style>\n",
       "<div class=\"wandb-row\"><div class=\"wandb-col\"><h3>Run history:</h3><br/><table class=\"wandb\"><tr><td>epoch</td><td>▁▁▂▂▂▃▃▄▄▄▅▅▅▆▆▇▇▇██</td></tr><tr><td>loss</td><td>▁                   </td></tr></table><br/></div><div class=\"wandb-col\"><h3>Run summary:</h3><br/><table class=\"wandb\"><tr><td>epoch</td><td>19</td></tr><tr><td>loss</td><td>nan</td></tr><tr><td>val_loss</td><td>nan</td></tr></table><br/></div></div>"
      ],
      "text/plain": [
       "<IPython.core.display.HTML object>"
      ]
     },
     "metadata": {},
     "output_type": "display_data"
    },
    {
     "data": {
      "text/html": [
       "Synced <strong style=\"color:#cdcd00\">resilient-sweep-9</strong>: <a href=\"https://wandb.ai/avogadro/Deep%20learning%20for%20option%20pricing%20-%20test%20area/runs/oyrnf6d4\" target=\"_blank\">https://wandb.ai/avogadro/Deep%20learning%20for%20option%20pricing%20-%20test%20area/runs/oyrnf6d4</a><br/>Synced 5 W&B file(s), 1 media file(s), 0 artifact file(s) and 0 other file(s)"
      ],
      "text/plain": [
       "<IPython.core.display.HTML object>"
      ]
     },
     "metadata": {},
     "output_type": "display_data"
    },
    {
     "data": {
      "text/html": [
       "Find logs at: <code>.\\wandb\\run-20230131_161419-oyrnf6d4\\logs</code>"
      ],
      "text/plain": [
       "<IPython.core.display.HTML object>"
      ]
     },
     "metadata": {},
     "output_type": "display_data"
    },
    {
     "name": "stderr",
     "output_type": "stream",
     "text": [
      "\u001b[34m\u001b[1mwandb\u001b[0m: Agent Starting Run: dhuwafe2 with config:\n",
      "\u001b[34m\u001b[1mwandb\u001b[0m: \tBn_momentum: 0.1590955092702703\n",
      "\u001b[34m\u001b[1mwandb\u001b[0m: \tLSTM_layers: 5\n",
      "\u001b[34m\u001b[1mwandb\u001b[0m: \tLSTM_timesteps: 20\n",
      "\u001b[34m\u001b[1mwandb\u001b[0m: \tLSTM_units: 96\n",
      "\u001b[34m\u001b[1mwandb\u001b[0m: \tLr: 0.0021369819519819885\n",
      "\u001b[34m\u001b[1mwandb\u001b[0m: \tLr_decay: 0.9937173294166136\n",
      "\u001b[34m\u001b[1mwandb\u001b[0m: \tMLP_layers: 6\n",
      "\u001b[34m\u001b[1mwandb\u001b[0m: \tMLP_units: 128\n",
      "\u001b[34m\u001b[1mwandb\u001b[0m: \tMin_delta: 1\n",
      "\u001b[34m\u001b[1mwandb\u001b[0m: \tMinibatch_size: 4096\n",
      "\u001b[34m\u001b[1mwandb\u001b[0m: \tNum_features: 4\n",
      "\u001b[34m\u001b[1mwandb\u001b[0m: \tPatience: 20\n",
      "Failed to detect the name of this notebook, you can set it manually with the WANDB_NOTEBOOK_NAME environment variable to enable code saving.\n"
     ]
    },
    {
     "data": {
      "text/html": [
       "wandb version 0.13.9 is available!  To upgrade, please run:\n",
       " $ pip install wandb --upgrade"
      ],
      "text/plain": [
       "<IPython.core.display.HTML object>"
      ]
     },
     "metadata": {},
     "output_type": "display_data"
    },
    {
     "data": {
      "text/html": [
       "Tracking run with wandb version 0.13.5"
      ],
      "text/plain": [
       "<IPython.core.display.HTML object>"
      ]
     },
     "metadata": {},
     "output_type": "display_data"
    },
    {
     "data": {
      "text/html": [
       "Run data is saved locally in <code>c:\\Users\\Erlend\\Google Drive\\NTNU\\5. Klasse\\Master\\Git-folder\\deep-learning-for-option-pricing\\LSTM-MLP_notebooks\\wandb\\run-20230131_161445-dhuwafe2</code>"
      ],
      "text/plain": [
       "<IPython.core.display.HTML object>"
      ]
     },
     "metadata": {},
     "output_type": "display_data"
    },
    {
     "data": {
      "text/html": [
       "Syncing run <strong><a href=\"https://wandb.ai/avogadro/Deep%20learning%20for%20option%20pricing%20-%20test%20area/runs/dhuwafe2\" target=\"_blank\">swift-sweep-10</a></strong> to <a href=\"https://wandb.ai/avogadro/Deep%20learning%20for%20option%20pricing%20-%20test%20area\" target=\"_blank\">Weights & Biases</a> (<a href=\"https://wandb.me/run\" target=\"_blank\">docs</a>)<br/>Sweep page:  <a href=\"https://wandb.ai/avogadro/Deep%20learning%20for%20option%20pricing%20-%20test%20area/sweeps/zyx7ephh\" target=\"_blank\">https://wandb.ai/avogadro/Deep%20learning%20for%20option%20pricing%20-%20test%20area/sweeps/zyx7ephh</a>"
      ],
      "text/plain": [
       "<IPython.core.display.HTML object>"
      ]
     },
     "metadata": {},
     "output_type": "display_data"
    },
    {
     "name": "stdout",
     "output_type": "stream",
     "text": [
      "Epoch 1/1000\n",
      "1/1 [==============================] - 9s 9s/step - loss: 0.3029 - val_loss: nan\n",
      "Epoch 2/1000\n",
      "1/1 [==============================] - 0s 156ms/step - loss: nan - val_loss: nan\n",
      "Epoch 3/1000\n",
      "1/1 [==============================] - 0s 154ms/step - loss: nan - val_loss: nan\n",
      "Epoch 4/1000\n",
      "1/1 [==============================] - 0s 157ms/step - loss: nan - val_loss: nan\n",
      "Epoch 5/1000\n",
      "1/1 [==============================] - 0s 162ms/step - loss: nan - val_loss: nan\n",
      "Epoch 6/1000\n",
      "1/1 [==============================] - 0s 162ms/step - loss: nan - val_loss: nan\n",
      "Epoch 7/1000\n",
      "1/1 [==============================] - 0s 153ms/step - loss: nan - val_loss: nan\n",
      "Epoch 8/1000\n",
      "1/1 [==============================] - 0s 189ms/step - loss: nan - val_loss: nan\n",
      "Epoch 9/1000\n",
      "1/1 [==============================] - 0s 166ms/step - loss: nan - val_loss: nan\n",
      "Epoch 10/1000\n",
      "1/1 [==============================] - 0s 180ms/step - loss: nan - val_loss: nan\n",
      "Epoch 11/1000\n",
      "1/1 [==============================] - 0s 160ms/step - loss: nan - val_loss: nan\n",
      "Epoch 12/1000\n",
      "1/1 [==============================] - 0s 156ms/step - loss: nan - val_loss: nan\n",
      "Epoch 13/1000\n",
      "1/1 [==============================] - 0s 157ms/step - loss: nan - val_loss: nan\n",
      "Epoch 14/1000\n",
      "1/1 [==============================] - 0s 155ms/step - loss: nan - val_loss: nan\n",
      "Epoch 15/1000\n",
      "1/1 [==============================] - 0s 152ms/step - loss: nan - val_loss: nan\n",
      "Epoch 16/1000\n",
      "1/1 [==============================] - 0s 176ms/step - loss: nan - val_loss: nan\n",
      "Epoch 17/1000\n",
      "1/1 [==============================] - 0s 180ms/step - loss: nan - val_loss: nan\n",
      "Epoch 18/1000\n",
      "1/1 [==============================] - 0s 194ms/step - loss: nan - val_loss: nan\n",
      "Epoch 19/1000\n",
      "1/1 [==============================] - 0s 207ms/step - loss: nan - val_loss: nan\n",
      "Epoch 20/1000\n",
      "1/1 [==============================] - 0s 214ms/step - loss: nan - val_loss: nan\n"
     ]
    },
    {
     "data": {
      "text/html": [
       "Waiting for W&B process to finish... <strong style=\"color:green\">(success).</strong>"
      ],
      "text/plain": [
       "<IPython.core.display.HTML object>"
      ]
     },
     "metadata": {},
     "output_type": "display_data"
    },
    {
     "data": {
      "application/vnd.jupyter.widget-view+json": {
       "model_id": "d1dcc1cb73674b04849826fb167accb9",
       "version_major": 2,
       "version_minor": 0
      },
      "text/plain": [
       "VBox(children=(Label(value='0.004 MB of 0.004 MB uploaded (0.000 MB deduped)\\r'), FloatProgress(value=1.0, max…"
      ]
     },
     "metadata": {},
     "output_type": "display_data"
    },
    {
     "data": {
      "text/html": [
       "<style>\n",
       "    table.wandb td:nth-child(1) { padding: 0 10px; text-align: left ; width: auto;} td:nth-child(2) {text-align: left ; width: 100%}\n",
       "    .wandb-row { display: flex; flex-direction: row; flex-wrap: wrap; justify-content: flex-start; width: 100% }\n",
       "    .wandb-col { display: flex; flex-direction: column; flex-basis: 100%; flex: 1; padding: 10px; }\n",
       "    </style>\n",
       "<div class=\"wandb-row\"><div class=\"wandb-col\"><h3>Run history:</h3><br/><table class=\"wandb\"><tr><td>epoch</td><td>▁▁▂▂▂▃▃▄▄▄▅▅▅▆▆▇▇▇██</td></tr><tr><td>loss</td><td>▁                   </td></tr></table><br/></div><div class=\"wandb-col\"><h3>Run summary:</h3><br/><table class=\"wandb\"><tr><td>epoch</td><td>19</td></tr><tr><td>loss</td><td>nan</td></tr><tr><td>val_loss</td><td>nan</td></tr></table><br/></div></div>"
      ],
      "text/plain": [
       "<IPython.core.display.HTML object>"
      ]
     },
     "metadata": {},
     "output_type": "display_data"
    },
    {
     "data": {
      "text/html": [
       "Synced <strong style=\"color:#cdcd00\">swift-sweep-10</strong>: <a href=\"https://wandb.ai/avogadro/Deep%20learning%20for%20option%20pricing%20-%20test%20area/runs/dhuwafe2\" target=\"_blank\">https://wandb.ai/avogadro/Deep%20learning%20for%20option%20pricing%20-%20test%20area/runs/dhuwafe2</a><br/>Synced 5 W&B file(s), 1 media file(s), 0 artifact file(s) and 0 other file(s)"
      ],
      "text/plain": [
       "<IPython.core.display.HTML object>"
      ]
     },
     "metadata": {},
     "output_type": "display_data"
    },
    {
     "data": {
      "text/html": [
       "Find logs at: <code>.\\wandb\\run-20230131_161445-dhuwafe2\\logs</code>"
      ],
      "text/plain": [
       "<IPython.core.display.HTML object>"
      ]
     },
     "metadata": {},
     "output_type": "display_data"
    }
   ],
   "source": [
    "wandb.agent(sweep_id=sweep_id, function=trainer, project='Deep learning for option pricing - test area', count = 10)"
   ]
  },
  {
   "attachments": {},
   "cell_type": "markdown",
   "metadata": {},
   "source": [
    "## Single run"
   ]
  },
  {
   "cell_type": "code",
   "execution_count": 39,
   "metadata": {},
   "outputs": [
    {
     "data": {
      "text/html": [
       "wandb version 0.13.9 is available!  To upgrade, please run:\n",
       " $ pip install wandb --upgrade"
      ],
      "text/plain": [
       "<IPython.core.display.HTML object>"
      ]
     },
     "metadata": {},
     "output_type": "display_data"
    },
    {
     "data": {
      "text/html": [
       "Tracking run with wandb version 0.13.5"
      ],
      "text/plain": [
       "<IPython.core.display.HTML object>"
      ]
     },
     "metadata": {},
     "output_type": "display_data"
    },
    {
     "data": {
      "text/html": [
       "Run data is saved locally in <code>c:\\Users\\Erlend\\Google Drive\\NTNU\\5. Klasse\\Master\\Git-folder\\deep-learning-for-option-pricing\\LSTM-MLP_notebooks\\wandb\\run-20230131_154728-3rkap1a5</code>"
      ],
      "text/plain": [
       "<IPython.core.display.HTML object>"
      ]
     },
     "metadata": {},
     "output_type": "display_data"
    },
    {
     "data": {
      "text/html": [
       "Syncing run <strong><a href=\"https://wandb.ai/avogadro/Deep%20learning%20for%20option%20pricing%20-%20test%20area/runs/3rkap1a5\" target=\"_blank\">red-fuse-18</a></strong> to <a href=\"https://wandb.ai/avogadro/Deep%20learning%20for%20option%20pricing%20-%20test%20area\" target=\"_blank\">Weights & Biases</a> (<a href=\"https://wandb.me/run\" target=\"_blank\">docs</a>)<br/>"
      ],
      "text/plain": [
       "<IPython.core.display.HTML object>"
      ]
     },
     "metadata": {},
     "output_type": "display_data"
    },
    {
     "name": "stdout",
     "output_type": "stream",
     "text": [
      "Epoch 1/1000\n",
      "9/9 [==============================] - 6s 184ms/step - loss: 0.3710 - val_loss: 0.3597\n",
      "Epoch 2/1000\n",
      "9/9 [==============================] - 0s 16ms/step - loss: 0.2466 - val_loss: 0.3527\n",
      "Epoch 3/1000\n",
      "9/9 [==============================] - 0s 17ms/step - loss: 0.2666 - val_loss: 0.3371\n",
      "Epoch 4/1000\n",
      "9/9 [==============================] - 0s 17ms/step - loss: 0.2639 - val_loss: 0.3746\n",
      "Epoch 5/1000\n",
      "9/9 [==============================] - 0s 18ms/step - loss: 0.2433 - val_loss: 0.3886\n",
      "Epoch 6/1000\n",
      "9/9 [==============================] - 0s 18ms/step - loss: 0.2405 - val_loss: 0.4096\n",
      "Epoch 7/1000\n",
      "9/9 [==============================] - 0s 17ms/step - loss: 0.2357 - val_loss: 0.4250\n",
      "Epoch 8/1000\n",
      "9/9 [==============================] - 0s 18ms/step - loss: 0.2189 - val_loss: 0.4539\n",
      "Epoch 9/1000\n",
      "9/9 [==============================] - 0s 17ms/step - loss: 0.2506 - val_loss: 0.4578\n",
      "Epoch 10/1000\n",
      "9/9 [==============================] - 0s 17ms/step - loss: 0.2681 - val_loss: 0.4731\n",
      "Epoch 11/1000\n",
      "9/9 [==============================] - 0s 17ms/step - loss: 0.2352 - val_loss: 0.4662\n",
      "Epoch 12/1000\n",
      "9/9 [==============================] - 0s 20ms/step - loss: 0.2370 - val_loss: 0.4326\n",
      "Epoch 13/1000\n",
      "9/9 [==============================] - 0s 22ms/step - loss: 0.2459 - val_loss: 0.4336\n",
      "Epoch 14/1000\n",
      "9/9 [==============================] - 0s 18ms/step - loss: 0.2122 - val_loss: 0.4369\n",
      "Epoch 15/1000\n",
      "9/9 [==============================] - 0s 19ms/step - loss: 0.2179 - val_loss: 0.4258\n",
      "Epoch 16/1000\n",
      "9/9 [==============================] - 0s 22ms/step - loss: 0.2053 - val_loss: 0.4245\n",
      "Epoch 17/1000\n",
      "9/9 [==============================] - 0s 20ms/step - loss: 0.2083 - val_loss: 0.4423\n",
      "Epoch 18/1000\n",
      "9/9 [==============================] - 0s 20ms/step - loss: 0.2430 - val_loss: 0.4346\n",
      "Epoch 19/1000\n",
      "9/9 [==============================] - 0s 16ms/step - loss: 0.2088 - val_loss: 0.4222\n",
      "Epoch 20/1000\n",
      "9/9 [==============================] - 0s 17ms/step - loss: 0.2142 - val_loss: 0.4073\n",
      "Epoch 21/1000\n",
      "9/9 [==============================] - 0s 16ms/step - loss: 0.2427 - val_loss: 0.3976\n"
     ]
    },
    {
     "data": {
      "text/html": [
       "Waiting for W&B process to finish... <strong style=\"color:green\">(success).</strong>"
      ],
      "text/plain": [
       "<IPython.core.display.HTML object>"
      ]
     },
     "metadata": {},
     "output_type": "display_data"
    },
    {
     "data": {
      "application/vnd.jupyter.widget-view+json": {
       "model_id": "1eabf0b1dacb40bda645fc203e226a1c",
       "version_major": 2,
       "version_minor": 0
      },
      "text/plain": [
       "VBox(children=(Label(value='0.003 MB of 0.010 MB uploaded (0.000 MB deduped)\\r'), FloatProgress(value=0.336798…"
      ]
     },
     "metadata": {},
     "output_type": "display_data"
    },
    {
     "data": {
      "text/html": [
       "<style>\n",
       "    table.wandb td:nth-child(1) { padding: 0 10px; text-align: left ; width: auto;} td:nth-child(2) {text-align: left ; width: 100%}\n",
       "    .wandb-row { display: flex; flex-direction: row; flex-wrap: wrap; justify-content: flex-start; width: 100% }\n",
       "    .wandb-col { display: flex; flex-direction: column; flex-basis: 100%; flex: 1; padding: 10px; }\n",
       "    </style>\n",
       "<div class=\"wandb-row\"><div class=\"wandb-col\"><h3>Run history:</h3><br/><table class=\"wandb\"><tr><td>epoch</td><td>▁▁▂▂▂▃▃▃▄▄▅▅▅▆▆▆▇▇▇██</td></tr><tr><td>loss</td><td>█▃▄▃▃▂▂▂▃▄▂▂▃▁▂▁▁▃▁▁▃</td></tr><tr><td>val_loss</td><td>▂▂▁▃▄▅▆▇▇██▆▆▆▆▅▆▆▅▅▄</td></tr></table><br/></div><div class=\"wandb-col\"><h3>Run summary:</h3><br/><table class=\"wandb\"><tr><td>best_epoch</td><td>2</td></tr><tr><td>best_val_loss</td><td>0.33709</td></tr><tr><td>epoch</td><td>20</td></tr><tr><td>loss</td><td>0.2427</td></tr><tr><td>val_loss</td><td>0.39757</td></tr></table><br/></div></div>"
      ],
      "text/plain": [
       "<IPython.core.display.HTML object>"
      ]
     },
     "metadata": {},
     "output_type": "display_data"
    },
    {
     "data": {
      "text/html": [
       "Synced <strong style=\"color:#cdcd00\">red-fuse-18</strong>: <a href=\"https://wandb.ai/avogadro/Deep%20learning%20for%20option%20pricing%20-%20test%20area/runs/3rkap1a5\" target=\"_blank\">https://wandb.ai/avogadro/Deep%20learning%20for%20option%20pricing%20-%20test%20area/runs/3rkap1a5</a><br/>Synced 5 W&B file(s), 1 media file(s), 0 artifact file(s) and 0 other file(s)"
      ],
      "text/plain": [
       "<IPython.core.display.HTML object>"
      ]
     },
     "metadata": {},
     "output_type": "display_data"
    },
    {
     "data": {
      "text/html": [
       "Find logs at: <code>.\\wandb\\run-20230131_154728-3rkap1a5\\logs</code>"
      ],
      "text/plain": [
       "<IPython.core.display.HTML object>"
      ]
     },
     "metadata": {},
     "output_type": "display_data"
    }
   ],
   "source": [
    "config = {\n",
    "    'LSTM_units': 4,\n",
    "    'MLP_units': 100,\n",
    "    'LSTM_timesteps': 20,\n",
    "    'LSTM_layers': 4,\n",
    "    'MLP_layers': 4,\n",
    "    'Bn_momentum': 0.9,\n",
    "    'Lr': 1e-4,\n",
    "    'Lr_decay': 1,\n",
    "    'Minibatch_size': 10,\n",
    "    'Min_delta': 0.1,\n",
    "    'Patience': 20,\n",
    "    'Num_features': 4,\n",
    "    'Architecture': 'LSTM-MLP v.0.1',\n",
    "    'Dataset': 'Test data',\n",
    "}\n",
    "trainer(config = config, project = 'Deep learning for option pricing - test area')"
   ]
  },
  {
   "cell_type": "code",
   "execution_count": null,
   "metadata": {},
   "outputs": [],
   "source": []
  }
 ],
 "metadata": {
  "kernelspec": {
   "display_name": "Python 3",
   "language": "python",
   "name": "python3"
  },
  "language_info": {
   "codemirror_mode": {
    "name": "ipython",
    "version": 3
   },
   "file_extension": ".py",
   "mimetype": "text/x-python",
   "name": "python",
   "nbconvert_exporter": "python",
   "pygments_lexer": "ipython3",
   "version": "3.9.4"
  },
  "orig_nbformat": 4,
  "vscode": {
   "interpreter": {
    "hash": "6d22c5043c0ee61c8547bd88adb0f85d3d6a0a630c1da4282026f99271dac814"
   }
  }
 },
 "nbformat": 4,
 "nbformat_minor": 2
}
