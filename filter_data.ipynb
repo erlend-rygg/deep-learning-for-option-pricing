{
 "cells": [
  {
   "cell_type": "code",
   "execution_count": 1,
   "metadata": {},
   "outputs": [],
   "source": [
    "import pandas as pd"
   ]
  },
  {
   "cell_type": "code",
   "execution_count": 2,
   "metadata": {},
   "outputs": [],
   "source": [
    "# Read csv file\n",
    "df = pd.read_csv('./data/processed_data/2010-2022.csv')\n",
    "len_before = len(df)"
   ]
  },
  {
   "cell_type": "code",
   "execution_count": 3,
   "metadata": {},
   "outputs": [],
   "source": [
    "df[\"Moneyness\"] = df['Underlying_last'] / df[\"Strike\"]"
   ]
  },
  {
   "cell_type": "code",
   "execution_count": 4,
   "metadata": {},
   "outputs": [],
   "source": [
    "# Filter TTM < 730\n",
    "df = df[df['TTM'] < 730]\n",
    "len_after_ttm = len(df)"
   ]
  },
  {
   "cell_type": "code",
   "execution_count": 5,
   "metadata": {},
   "outputs": [],
   "source": [
    "df = df[(df['Moneyness'] >= 0.8) & (df['Moneyness'] <= 2)]\n",
    "len_after_moneyness = len(df)"
   ]
  },
  {
   "cell_type": "code",
   "execution_count": 6,
   "metadata": {},
   "outputs": [],
   "source": [
    "# Save filtered data\n",
    "df.to_csv('./data/processed_data/2010-2022_filtered.csv')"
   ]
  },
  {
   "cell_type": "code",
   "execution_count": 7,
   "metadata": {},
   "outputs": [
    {
     "name": "stdout",
     "output_type": "stream",
     "text": [
      "Number of rows before filtering:  13536349\n",
      "Number of rows after filtering TTM:  13228223\n",
      "Number of rows after filtering Moneyness:  11895728\n",
      "Number of rows lost after filtering TTM:  308126  which is  2.276285872948459 %\n",
      "Number of rows lost after filtering Moneyness:  1332495  which is  9.843828642420494 %\n",
      "Percent of rows kept 87.87988548463105\n"
     ]
    }
   ],
   "source": [
    "print(\"Number of rows before filtering: \", len_before)\n",
    "print(\"Number of rows after filtering TTM: \", len_after_ttm)\n",
    "print(\"Number of rows after filtering Moneyness: \", len_after_moneyness)\n",
    "print(\"Number of rows lost after filtering TTM: \", len_before - len_after_ttm, \" which is \", (len_before - len_after_ttm) / len_before * 100, \"%\")\n",
    "print(\"Number of rows lost after filtering Moneyness: \", len_after_ttm - len_after_moneyness, \" which is \", (len_after_ttm - len_after_moneyness) / len_before * 100, \"%\")\n",
    "print(\"Percent of rows kept\", len_after_moneyness / len_before * 100)"
   ]
  }
 ],
 "metadata": {
  "kernelspec": {
   "display_name": "Python 3",
   "language": "python",
   "name": "python3"
  },
  "language_info": {
   "codemirror_mode": {
    "name": "ipython",
    "version": 3
   },
   "file_extension": ".py",
   "mimetype": "text/x-python",
   "name": "python",
   "nbconvert_exporter": "python",
   "pygments_lexer": "ipython3",
   "version": "3.10.9"
  },
  "orig_nbformat": 4,
  "vscode": {
   "interpreter": {
    "hash": "aee8b7b246df8f9039afb4144a1f6fd8d2ca17a180786b69acc140d282b71a49"
   }
  }
 },
 "nbformat": 4,
 "nbformat_minor": 2
}
