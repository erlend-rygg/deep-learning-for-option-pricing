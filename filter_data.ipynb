{
 "cells": [
  {
   "cell_type": "code",
   "execution_count": 27,
   "metadata": {},
   "outputs": [],
   "source": [
    "import pandas as pd"
   ]
  },
  {
   "cell_type": "code",
   "execution_count": 28,
   "metadata": {},
   "outputs": [],
   "source": [
    "# Read csv file\n",
    "df = pd.read_csv('./data/processed_data/2013-2022_wo_lags.csv')"
   ]
  },
  {
   "cell_type": "code",
   "execution_count": 29,
   "metadata": {},
   "outputs": [],
   "source": [
    "df[\"Moneyness\"] = df['Underlying_last']/df[\"Strike\"]"
   ]
  },
  {
   "cell_type": "code",
   "execution_count": 30,
   "metadata": {},
   "outputs": [],
   "source": [
    "# Filter for quote date between 2021-01-01 and 2022-12-31\n",
    "df = df[(df['Quote_date'] >= '2020-01-01') & (df['Quote_date'] <= '2022-12-31')]\n",
    "before_len = len(df)"
   ]
  },
  {
   "cell_type": "code",
   "execution_count": 31,
   "metadata": {},
   "outputs": [],
   "source": [
    "#Filter on moneyness between 0.7 and 1.5 (cutting out top and bottom 5%n of 2021-2022 period)\n",
    "df = df[(df['Moneyness'] >= 0.77454) & (df['Moneyness'] <= 2.27655)]\n",
    "#Filter on TTM between 45 and 120\n",
    "# df = df[(df['TTM'] >= 45) & (df['TTM'] <= 120)]"
   ]
  },
  {
   "attachments": {},
   "cell_type": "markdown",
   "metadata": {},
   "source": [
    "after_len = len(df)"
   ]
  },
  {
   "cell_type": "code",
   "execution_count": 32,
   "metadata": {},
   "outputs": [],
   "source": [
    "# Save filtered data\n",
    "df.to_csv('./data/processed_data/2020_2022_moneyness_filtere.csv')"
   ]
  },
  {
   "cell_type": "code",
   "execution_count": 33,
   "metadata": {},
   "outputs": [
    {
     "data": {
      "text/html": [
       "<div>\n",
       "<style scoped>\n",
       "    .dataframe tbody tr th:only-of-type {\n",
       "        vertical-align: middle;\n",
       "    }\n",
       "\n",
       "    .dataframe tbody tr th {\n",
       "        vertical-align: top;\n",
       "    }\n",
       "\n",
       "    .dataframe thead th {\n",
       "        text-align: right;\n",
       "    }\n",
       "</style>\n",
       "<table border=\"1\" class=\"dataframe\">\n",
       "  <thead>\n",
       "    <tr style=\"text-align: right;\">\n",
       "      <th></th>\n",
       "      <th>Unnamed: 0</th>\n",
       "      <th>Quote_date</th>\n",
       "      <th>Price</th>\n",
       "      <th>Underlying_last</th>\n",
       "      <th>Strike</th>\n",
       "      <th>TTM</th>\n",
       "      <th>R</th>\n",
       "      <th>Moneyness</th>\n",
       "    </tr>\n",
       "  </thead>\n",
       "  <tbody>\n",
       "    <tr>\n",
       "      <th>6701729</th>\n",
       "      <td>6701729</td>\n",
       "      <td>2020-01-02</td>\n",
       "      <td>1755.645</td>\n",
       "      <td>3258.14</td>\n",
       "      <td>1500.0</td>\n",
       "      <td>1</td>\n",
       "      <td>1.53</td>\n",
       "      <td>2.172093</td>\n",
       "    </tr>\n",
       "    <tr>\n",
       "      <th>6701730</th>\n",
       "      <td>6701730</td>\n",
       "      <td>2020-01-02</td>\n",
       "      <td>1655.955</td>\n",
       "      <td>3258.14</td>\n",
       "      <td>1600.0</td>\n",
       "      <td>1</td>\n",
       "      <td>1.53</td>\n",
       "      <td>2.036338</td>\n",
       "    </tr>\n",
       "    <tr>\n",
       "      <th>6701731</th>\n",
       "      <td>6701731</td>\n",
       "      <td>2020-01-02</td>\n",
       "      <td>1556.195</td>\n",
       "      <td>3258.14</td>\n",
       "      <td>1700.0</td>\n",
       "      <td>1</td>\n",
       "      <td>1.53</td>\n",
       "      <td>1.916553</td>\n",
       "    </tr>\n",
       "    <tr>\n",
       "      <th>6701732</th>\n",
       "      <td>6701732</td>\n",
       "      <td>2020-01-02</td>\n",
       "      <td>1456.210</td>\n",
       "      <td>3258.14</td>\n",
       "      <td>1800.0</td>\n",
       "      <td>1</td>\n",
       "      <td>1.53</td>\n",
       "      <td>1.810078</td>\n",
       "    </tr>\n",
       "    <tr>\n",
       "      <th>6701733</th>\n",
       "      <td>6701733</td>\n",
       "      <td>2020-01-02</td>\n",
       "      <td>1406.200</td>\n",
       "      <td>3258.14</td>\n",
       "      <td>1850.0</td>\n",
       "      <td>1</td>\n",
       "      <td>1.53</td>\n",
       "      <td>1.761157</td>\n",
       "    </tr>\n",
       "    <tr>\n",
       "      <th>...</th>\n",
       "      <td>...</td>\n",
       "      <td>...</td>\n",
       "      <td>...</td>\n",
       "      <td>...</td>\n",
       "      <td>...</td>\n",
       "      <td>...</td>\n",
       "      <td>...</td>\n",
       "      <td>...</td>\n",
       "    </tr>\n",
       "    <tr>\n",
       "      <th>12459146</th>\n",
       "      <td>12459146</td>\n",
       "      <td>2022-12-30</td>\n",
       "      <td>415.150</td>\n",
       "      <td>3839.81</td>\n",
       "      <td>4500.0</td>\n",
       "      <td>1085</td>\n",
       "      <td>4.22</td>\n",
       "      <td>0.853291</td>\n",
       "    </tr>\n",
       "    <tr>\n",
       "      <th>12459147</th>\n",
       "      <td>12459147</td>\n",
       "      <td>2022-12-30</td>\n",
       "      <td>375.050</td>\n",
       "      <td>3839.81</td>\n",
       "      <td>4600.0</td>\n",
       "      <td>1085</td>\n",
       "      <td>4.22</td>\n",
       "      <td>0.834741</td>\n",
       "    </tr>\n",
       "    <tr>\n",
       "      <th>12459148</th>\n",
       "      <td>12459148</td>\n",
       "      <td>2022-12-30</td>\n",
       "      <td>337.350</td>\n",
       "      <td>3839.81</td>\n",
       "      <td>4700.0</td>\n",
       "      <td>1085</td>\n",
       "      <td>4.22</td>\n",
       "      <td>0.816981</td>\n",
       "    </tr>\n",
       "    <tr>\n",
       "      <th>12459149</th>\n",
       "      <td>12459149</td>\n",
       "      <td>2022-12-30</td>\n",
       "      <td>302.650</td>\n",
       "      <td>3839.81</td>\n",
       "      <td>4800.0</td>\n",
       "      <td>1085</td>\n",
       "      <td>4.22</td>\n",
       "      <td>0.799960</td>\n",
       "    </tr>\n",
       "    <tr>\n",
       "      <th>12459150</th>\n",
       "      <td>12459150</td>\n",
       "      <td>2022-12-30</td>\n",
       "      <td>270.450</td>\n",
       "      <td>3839.81</td>\n",
       "      <td>4900.0</td>\n",
       "      <td>1085</td>\n",
       "      <td>4.22</td>\n",
       "      <td>0.783635</td>\n",
       "    </tr>\n",
       "  </tbody>\n",
       "</table>\n",
       "<p>5185545 rows × 8 columns</p>\n",
       "</div>"
      ],
      "text/plain": [
       "          Unnamed: 0  Quote_date     Price  Underlying_last  Strike   TTM  \\\n",
       "6701729      6701729  2020-01-02  1755.645          3258.14  1500.0     1   \n",
       "6701730      6701730  2020-01-02  1655.955          3258.14  1600.0     1   \n",
       "6701731      6701731  2020-01-02  1556.195          3258.14  1700.0     1   \n",
       "6701732      6701732  2020-01-02  1456.210          3258.14  1800.0     1   \n",
       "6701733      6701733  2020-01-02  1406.200          3258.14  1850.0     1   \n",
       "...              ...         ...       ...              ...     ...   ...   \n",
       "12459146    12459146  2022-12-30   415.150          3839.81  4500.0  1085   \n",
       "12459147    12459147  2022-12-30   375.050          3839.81  4600.0  1085   \n",
       "12459148    12459148  2022-12-30   337.350          3839.81  4700.0  1085   \n",
       "12459149    12459149  2022-12-30   302.650          3839.81  4800.0  1085   \n",
       "12459150    12459150  2022-12-30   270.450          3839.81  4900.0  1085   \n",
       "\n",
       "             R  Moneyness  \n",
       "6701729   1.53   2.172093  \n",
       "6701730   1.53   2.036338  \n",
       "6701731   1.53   1.916553  \n",
       "6701732   1.53   1.810078  \n",
       "6701733   1.53   1.761157  \n",
       "...        ...        ...  \n",
       "12459146  4.22   0.853291  \n",
       "12459147  4.22   0.834741  \n",
       "12459148  4.22   0.816981  \n",
       "12459149  4.22   0.799960  \n",
       "12459150  4.22   0.783635  \n",
       "\n",
       "[5185545 rows x 8 columns]"
      ]
     },
     "metadata": {},
     "output_type": "display_data"
    }
   ],
   "source": [
    "display(df)"
   ]
  },
  {
   "cell_type": "code",
   "execution_count": 34,
   "metadata": {},
   "outputs": [
    {
     "name": "stdout",
     "output_type": "stream",
     "text": [
      "Number of rows before filtering:  5757450\n",
      "Number of rows after filtering:  5185545\n",
      "Percentage of rows kept:  90.07 %\n"
     ]
    }
   ],
   "source": [
    "print(\"Number of rows before filtering: \", before_len)\n",
    "print(\"Number of rows after filtering: \", len(df))\n",
    "print(\"Percentage of rows kept: \", round(len(df)/before_len*100, 2), \"%\")"
   ]
  }
 ],
 "metadata": {
  "kernelspec": {
   "display_name": "Python 3",
   "language": "python",
   "name": "python3"
  },
  "language_info": {
   "codemirror_mode": {
    "name": "ipython",
    "version": 3
   },
   "file_extension": ".py",
   "mimetype": "text/x-python",
   "name": "python",
   "nbconvert_exporter": "python",
   "pygments_lexer": "ipython3",
   "version": "3.10.9"
  },
  "orig_nbformat": 4,
  "vscode": {
   "interpreter": {
    "hash": "aee8b7b246df8f9039afb4144a1f6fd8d2ca17a180786b69acc140d282b71a49"
   }
  }
 },
 "nbformat": 4,
 "nbformat_minor": 2
}
