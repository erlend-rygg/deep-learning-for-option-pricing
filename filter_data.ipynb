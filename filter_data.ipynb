{
 "cells": [
  {
   "cell_type": "code",
   "execution_count": 1,
   "metadata": {},
   "outputs": [],
   "source": [
    "import pandas as pd"
   ]
  },
  {
   "cell_type": "code",
   "execution_count": 2,
   "metadata": {},
   "outputs": [],
   "source": [
    "# Read csv file\n",
    "df = pd.read_csv('./data/processed_data/2010-2022_with_IV.csv')\n",
    "len_before = len(df)"
   ]
  },
  {
   "cell_type": "code",
   "execution_count": 3,
   "metadata": {},
   "outputs": [],
   "source": [
    "df[\"Moneyness\"] = df['Underlying_last'] / df[\"Strike\"]"
   ]
  },
  {
   "cell_type": "code",
   "execution_count": 4,
   "metadata": {},
   "outputs": [],
   "source": [
    "# Filter TTM < 730\n",
    "df = df[df['TTM'] < 730]\n",
    "\n",
    "# Filter out TTM == 0\n",
    "df = df[df['TTM'] != 0]\n",
    "\n",
    "len_after_ttm = len(df)"
   ]
  },
  {
   "cell_type": "code",
   "execution_count": 5,
   "metadata": {},
   "outputs": [],
   "source": [
    "df = df[(df['Moneyness'] >= 0.8) & (df['Moneyness'] <= 2)]\n",
    "len_after_moneyness = len(df)"
   ]
  },
  {
   "cell_type": "code",
   "execution_count": 6,
   "metadata": {},
   "outputs": [],
   "source": [
    "# Save filtered data\n",
    "df.to_csv('./data/processed_data/2010-2022_with_IV_filtered.csv')"
   ]
  },
  {
   "cell_type": "code",
   "execution_count": 7,
   "metadata": {},
   "outputs": [
    {
     "name": "stdout",
     "output_type": "stream",
     "text": [
      "Number of rows before filtering:  9966091\n",
      "Number of rows after filtering TTM:  9743748\n",
      "Number of rows after filtering Moneyness:  9190810\n",
      "Number of rows lost after filtering TTM:  222343  which is  2.2309950812209123 %\n",
      "Number of rows lost after filtering Moneyness:  552938  which is  5.548193368894585 %\n",
      "Percent of rows kept 92.2208115498845\n"
     ]
    }
   ],
   "source": [
    "print(\"Number of rows before filtering: \", len_before)\n",
    "print(\"Number of rows after filtering TTM: \", len_after_ttm)\n",
    "print(\"Number of rows after filtering Moneyness: \", len_after_moneyness)\n",
    "print(\"Number of rows lost after filtering TTM: \", len_before - len_after_ttm, \" which is \", (len_before - len_after_ttm) / len_before * 100, \"%\")\n",
    "print(\"Number of rows lost after filtering Moneyness: \", len_after_ttm - len_after_moneyness, \" which is \", (len_after_ttm - len_after_moneyness) / len_before * 100, \"%\")\n",
    "print(\"Percent of rows kept\", len_after_moneyness / len_before * 100)"
   ]
  }
 ],
 "metadata": {
  "kernelspec": {
   "display_name": "Python 3",
   "language": "python",
   "name": "python3"
  },
  "language_info": {
   "codemirror_mode": {
    "name": "ipython",
    "version": 3
   },
   "file_extension": ".py",
   "mimetype": "text/x-python",
   "name": "python",
   "nbconvert_exporter": "python",
   "pygments_lexer": "ipython3",
   "version": "3.10.9"
  },
  "orig_nbformat": 4,
  "vscode": {
   "interpreter": {
    "hash": "aee8b7b246df8f9039afb4144a1f6fd8d2ca17a180786b69acc140d282b71a49"
   }
  }
 },
 "nbformat": 4,
 "nbformat_minor": 2
}
