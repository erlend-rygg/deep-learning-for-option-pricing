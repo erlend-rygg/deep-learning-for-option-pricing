{
 "cells": [
  {
   "cell_type": "code",
   "execution_count": 37,
   "metadata": {},
   "outputs": [],
   "source": [
    "import pandas as pd"
   ]
  },
  {
   "cell_type": "code",
   "execution_count": 38,
   "metadata": {},
   "outputs": [],
   "source": [
    "# Read csv file\n",
    "df = pd.read_csv('./data/processed_data/2013-2022_wo_lags.csv')"
   ]
  },
  {
   "cell_type": "code",
   "execution_count": 39,
   "metadata": {},
   "outputs": [],
   "source": [
    "df[\"Moneyness\"] = df['Underlying_last'] / df[\"Strike\"]"
   ]
  },
  {
   "cell_type": "code",
   "execution_count": 40,
   "metadata": {},
   "outputs": [],
   "source": [
    "# Filter for quote date between 2014-01-01 and 2022-12-31\n",
    "df = df[(df['Quote_date'] >= '2014-01-01') & (df['Quote_date'] <= '2022-12-31')]\n",
    "before_len = len(df)"
   ]
  },
  {
   "cell_type": "code",
   "execution_count": 41,
   "metadata": {},
   "outputs": [],
   "source": [
    "# Filter TTM < 730\n",
    "df = df[df['TTM'] < 730]"
   ]
  },
  {
   "cell_type": "code",
   "execution_count": 42,
   "metadata": {},
   "outputs": [
    {
     "name": "stdout",
     "output_type": "stream",
     "text": [
      "5 percentile of Moneyness: 0.8343508645833334\n",
      "95 percentile of Moneyness: 2.146521951219512\n"
     ]
    }
   ],
   "source": [
    "# Find 5 percentile of Moneyness\n",
    "moneyness_5 = df['Moneyness'].quantile(0.05)\n",
    "\n",
    "# Find 95 percentile of Moneyness\n",
    "moneyness_95 = df['Moneyness'].quantile(0.95)\n",
    "\n",
    "print(f\"5 percentile of Moneyness: {moneyness_5}\")\n",
    "print(f\"95 percentile of Moneyness: {moneyness_95}\")"
   ]
  },
  {
   "cell_type": "code",
   "execution_count": 43,
   "metadata": {},
   "outputs": [
    {
     "data": {
      "text/plain": [
       "<AxesSubplot: xlabel='Quote_date'>"
      ]
     },
     "execution_count": 43,
     "metadata": {},
     "output_type": "execute_result"
    },
    {
     "data": {
      "image/png": "[encoded data removed]",
      "text/plain": [
       "<Figure size 640x480 with 1 Axes>"
      ]
     },
     "metadata": {},
     "output_type": "display_data"
    }
   ],
   "source": [
    "# Make quote date datetime\n",
    "df['Quote_date'] = pd.to_datetime(df['Quote_date'])\n",
    "\n",
    "# Plot botton and top 5 percentile of moneyness by year\n",
    "df.groupby(df['Quote_date'].dt.year)['Moneyness'].quantile([0.05, 0.95]).unstack().plot()"
   ]
  },
  {
   "cell_type": "code",
   "execution_count": 44,
   "metadata": {},
   "outputs": [],
   "source": [
    "df = df[(df['Moneyness'] >= 0.8) & (df['Moneyness'] <= 2)]"
   ]
  },
  {
   "cell_type": "code",
   "execution_count": 45,
   "metadata": {},
   "outputs": [],
   "source": [
    "# Save filtered data\n",
    "df.to_csv('./data/processed_data/2014_2022_moneyness_and_TTM_filtered.csv')"
   ]
  },
  {
   "cell_type": "code",
   "execution_count": 46,
   "metadata": {},
   "outputs": [
    {
     "data": {
      "text/html": [
       "<div>\n",
       "<style scoped>\n",
       "    .dataframe tbody tr th:only-of-type {\n",
       "        vertical-align: middle;\n",
       "    }\n",
       "\n",
       "    .dataframe tbody tr th {\n",
       "        vertical-align: top;\n",
       "    }\n",
       "\n",
       "    .dataframe thead th {\n",
       "        text-align: right;\n",
       "    }\n",
       "</style>\n",
       "<table border=\"1\" class=\"dataframe\">\n",
       "  <thead>\n",
       "    <tr style=\"text-align: right;\">\n",
       "      <th></th>\n",
       "      <th>Unnamed: 0</th>\n",
       "      <th>Quote_date</th>\n",
       "      <th>Price</th>\n",
       "      <th>Underlying_last</th>\n",
       "      <th>Strike</th>\n",
       "      <th>TTM</th>\n",
       "      <th>R</th>\n",
       "      <th>Moneyness</th>\n",
       "    </tr>\n",
       "  </thead>\n",
       "  <tbody>\n",
       "    <tr>\n",
       "      <th>405271</th>\n",
       "      <td>405271</td>\n",
       "      <td>2014-01-03</td>\n",
       "      <td>555.455</td>\n",
       "      <td>1831.47</td>\n",
       "      <td>1275.0</td>\n",
       "      <td>7</td>\n",
       "      <td>0.02</td>\n",
       "      <td>1.436447</td>\n",
       "    </tr>\n",
       "    <tr>\n",
       "      <th>405272</th>\n",
       "      <td>405272</td>\n",
       "      <td>2014-01-03</td>\n",
       "      <td>530.500</td>\n",
       "      <td>1831.47</td>\n",
       "      <td>1300.0</td>\n",
       "      <td>7</td>\n",
       "      <td>0.02</td>\n",
       "      <td>1.408823</td>\n",
       "    </tr>\n",
       "    <tr>\n",
       "      <th>405273</th>\n",
       "      <td>405273</td>\n",
       "      <td>2014-01-03</td>\n",
       "      <td>505.495</td>\n",
       "      <td>1831.47</td>\n",
       "      <td>1325.0</td>\n",
       "      <td>7</td>\n",
       "      <td>0.02</td>\n",
       "      <td>1.382242</td>\n",
       "    </tr>\n",
       "    <tr>\n",
       "      <th>405274</th>\n",
       "      <td>405274</td>\n",
       "      <td>2014-01-03</td>\n",
       "      <td>480.355</td>\n",
       "      <td>1831.47</td>\n",
       "      <td>1350.0</td>\n",
       "      <td>7</td>\n",
       "      <td>0.02</td>\n",
       "      <td>1.356644</td>\n",
       "    </tr>\n",
       "    <tr>\n",
       "      <th>405275</th>\n",
       "      <td>405275</td>\n",
       "      <td>2014-01-03</td>\n",
       "      <td>455.350</td>\n",
       "      <td>1831.47</td>\n",
       "      <td>1375.0</td>\n",
       "      <td>7</td>\n",
       "      <td>0.02</td>\n",
       "      <td>1.331978</td>\n",
       "    </tr>\n",
       "    <tr>\n",
       "      <th>...</th>\n",
       "      <td>...</td>\n",
       "      <td>...</td>\n",
       "      <td>...</td>\n",
       "      <td>...</td>\n",
       "      <td>...</td>\n",
       "      <td>...</td>\n",
       "      <td>...</td>\n",
       "      <td>...</td>\n",
       "    </tr>\n",
       "    <tr>\n",
       "      <th>12459084</th>\n",
       "      <td>12459084</td>\n",
       "      <td>2022-12-30</td>\n",
       "      <td>362.600</td>\n",
       "      <td>3839.81</td>\n",
       "      <td>4300.0</td>\n",
       "      <td>721</td>\n",
       "      <td>4.41</td>\n",
       "      <td>0.892979</td>\n",
       "    </tr>\n",
       "    <tr>\n",
       "      <th>12459085</th>\n",
       "      <td>12459085</td>\n",
       "      <td>2022-12-30</td>\n",
       "      <td>319.150</td>\n",
       "      <td>3839.81</td>\n",
       "      <td>4400.0</td>\n",
       "      <td>721</td>\n",
       "      <td>4.41</td>\n",
       "      <td>0.872684</td>\n",
       "    </tr>\n",
       "    <tr>\n",
       "      <th>12459086</th>\n",
       "      <td>12459086</td>\n",
       "      <td>2022-12-30</td>\n",
       "      <td>279.000</td>\n",
       "      <td>3839.81</td>\n",
       "      <td>4500.0</td>\n",
       "      <td>721</td>\n",
       "      <td>4.41</td>\n",
       "      <td>0.853291</td>\n",
       "    </tr>\n",
       "    <tr>\n",
       "      <th>12459087</th>\n",
       "      <td>12459087</td>\n",
       "      <td>2022-12-30</td>\n",
       "      <td>241.950</td>\n",
       "      <td>3839.81</td>\n",
       "      <td>4600.0</td>\n",
       "      <td>721</td>\n",
       "      <td>4.41</td>\n",
       "      <td>0.834741</td>\n",
       "    </tr>\n",
       "    <tr>\n",
       "      <th>12459088</th>\n",
       "      <td>12459088</td>\n",
       "      <td>2022-12-30</td>\n",
       "      <td>208.800</td>\n",
       "      <td>3839.81</td>\n",
       "      <td>4700.0</td>\n",
       "      <td>721</td>\n",
       "      <td>4.41</td>\n",
       "      <td>0.816981</td>\n",
       "    </tr>\n",
       "  </tbody>\n",
       "</table>\n",
       "<p>10689911 rows × 8 columns</p>\n",
       "</div>"
      ],
      "text/plain": [
       "          Unnamed: 0 Quote_date    Price  Underlying_last  Strike  TTM     R  \\\n",
       "405271        405271 2014-01-03  555.455          1831.47  1275.0    7  0.02   \n",
       "405272        405272 2014-01-03  530.500          1831.47  1300.0    7  0.02   \n",
       "405273        405273 2014-01-03  505.495          1831.47  1325.0    7  0.02   \n",
       "405274        405274 2014-01-03  480.355          1831.47  1350.0    7  0.02   \n",
       "405275        405275 2014-01-03  455.350          1831.47  1375.0    7  0.02   \n",
       "...              ...        ...      ...              ...     ...  ...   ...   \n",
       "12459084    12459084 2022-12-30  362.600          3839.81  4300.0  721  4.41   \n",
       "12459085    12459085 2022-12-30  319.150          3839.81  4400.0  721  4.41   \n",
       "12459086    12459086 2022-12-30  279.000          3839.81  4500.0  721  4.41   \n",
       "12459087    12459087 2022-12-30  241.950          3839.81  4600.0  721  4.41   \n",
       "12459088    12459088 2022-12-30  208.800          3839.81  4700.0  721  4.41   \n",
       "\n",
       "          Moneyness  \n",
       "405271     1.436447  \n",
       "405272     1.408823  \n",
       "405273     1.382242  \n",
       "405274     1.356644  \n",
       "405275     1.331978  \n",
       "...             ...  \n",
       "12459084   0.892979  \n",
       "12459085   0.872684  \n",
       "12459086   0.853291  \n",
       "12459087   0.834741  \n",
       "12459088   0.816981  \n",
       "\n",
       "[10689911 rows x 8 columns]"
      ]
     },
     "metadata": {},
     "output_type": "display_data"
    }
   ],
   "source": [
    "display(df)"
   ]
  },
  {
   "cell_type": "code",
   "execution_count": 47,
   "metadata": {},
   "outputs": [
    {
     "data": {
      "text/plain": [
       "<AxesSubplot: ylabel='Frequency'>"
      ]
     },
     "execution_count": 47,
     "metadata": {},
     "output_type": "execute_result"
    },
    {
     "data": {
      "image/png": "[encoded data removed]",
      "text/plain": [
       "<Figure size 640x480 with 1 Axes>"
      ]
     },
     "metadata": {},
     "output_type": "display_data"
    }
   ],
   "source": [
    "# Plot moneyness distribution\n",
    "df['Moneyness'].plot.hist(bins=100)"
   ]
  },
  {
   "cell_type": "code",
   "execution_count": 48,
   "metadata": {},
   "outputs": [
    {
     "name": "stdout",
     "output_type": "stream",
     "text": [
      "Number of rows before filtering:  12053907\n",
      "Number of rows after filtering:  10689911\n",
      "Percentage of rows kept:  88.68 %\n"
     ]
    }
   ],
   "source": [
    "print(\"Number of rows before filtering: \", before_len)\n",
    "print(\"Number of rows after filtering: \", len(df))\n",
    "print(\"Percentage of rows kept: \", round(len(df)/before_len*100, 2), \"%\")"
   ]
  }
 ],
 "metadata": {
  "kernelspec": {
   "display_name": "Python 3",
   "language": "python",
   "name": "python3"
  },
  "language_info": {
   "codemirror_mode": {
    "name": "ipython",
    "version": 3
   },
   "file_extension": ".py",
   "mimetype": "text/x-python",
   "name": "python",
   "nbconvert_exporter": "python",
   "pygments_lexer": "ipython3",
   "version": "3.10.9"
  },
  "orig_nbformat": 4,
  "vscode": {
   "interpreter": {
    "hash": "aee8b7b246df8f9039afb4144a1f6fd8d2ca17a180786b69acc140d282b71a49"
   }
  }
 },
 "nbformat": 4,
 "nbformat_minor": 2
}
