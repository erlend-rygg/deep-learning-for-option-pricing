{
 "cells": [
  {
   "cell_type": "code",
   "execution_count": 1,
   "metadata": {},
   "outputs": [],
   "source": [
    "import pandas as pd"
   ]
  },
  {
   "cell_type": "code",
   "execution_count": 2,
   "metadata": {},
   "outputs": [],
   "source": [
    "# Read csv file\n",
    "df = pd.read_csv('./data/processed_data/2013-2022_wo_lags.csv')"
   ]
  },
  {
   "cell_type": "code",
   "execution_count": 3,
   "metadata": {},
   "outputs": [],
   "source": [
    "df[\"Moneyness\"] = df['Underlying_last']/df[\"Strike\"]"
   ]
  },
  {
   "cell_type": "code",
   "execution_count": 4,
   "metadata": {},
   "outputs": [],
   "source": [
    "# Filter for quote date between 2021-01-01 and 2022-12-31\n",
    "df = df[(df['Quote_date'] >= '2021-01-01') & (df['Quote_date'] <= '2022-12-31')]"
   ]
  },
  {
   "cell_type": "code",
   "execution_count": 5,
   "metadata": {},
   "outputs": [],
   "source": [
    "#Filter on moneyness between 0.7 and 1.5 (cutting out top and bottom 5%)\n",
    "df = df[(df['Moneyness'] >= 0.77454) & (df['Moneyness'] <= 2.27655)]\n",
    "#Filter on TTM between 45 and 120\n",
    "# df = df[(df['TTM'] >= 45) & (df['TTM'] <= 120)]"
   ]
  },
  {
   "cell_type": "code",
   "execution_count": 6,
   "metadata": {},
   "outputs": [],
   "source": [
    "#Filter on moneyness between 0.5 and 20\n",
    "df = df[(df['Moneyness'] >= 0.5) & (df['Moneyness'] <= 20)]\n",
    "#Filter on TTM between 7 and 1085\n",
    "df = df[(df['TTM'] >= 7) & (df['TTM'] <= 1085)]"
   ]
  },
  {
   "cell_type": "code",
   "execution_count": 7,
   "metadata": {},
   "outputs": [],
   "source": [
    "#Filter on moneyness between 0.7 and 1.4\n",
    "df = df[(df['Moneyness'] >= 0.7) & (df['Moneyness'] <= 1.4)]"
   ]
  },
  {
   "cell_type": "code",
   "execution_count": 8,
   "metadata": {},
   "outputs": [],
   "source": [
    "# Save filtered data\n",
    "df.to_csv('./data/processed_data/2021_2022_moneyness_filtere.csv')"
   ]
  },
  {
   "cell_type": "code",
   "execution_count": 9,
   "metadata": {},
   "outputs": [
    {
     "data": {
      "text/html": [
       "<div>\n",
       "<style scoped>\n",
       "    .dataframe tbody tr th:only-of-type {\n",
       "        vertical-align: middle;\n",
       "    }\n",
       "\n",
       "    .dataframe tbody tr th {\n",
       "        vertical-align: top;\n",
       "    }\n",
       "\n",
       "    .dataframe thead th {\n",
       "        text-align: right;\n",
       "    }\n",
       "</style>\n",
       "<table border=\"1\" class=\"dataframe\">\n",
       "  <thead>\n",
       "    <tr style=\"text-align: right;\">\n",
       "      <th></th>\n",
       "      <th>Unnamed: 0</th>\n",
       "      <th>Quote_date</th>\n",
       "      <th>Price</th>\n",
       "      <th>Underlying_last</th>\n",
       "      <th>Strike</th>\n",
       "      <th>TTM</th>\n",
       "      <th>R</th>\n",
       "      <th>Moneyness</th>\n",
       "    </tr>\n",
       "  </thead>\n",
       "  <tbody>\n",
       "    <tr>\n",
       "      <th>8401171</th>\n",
       "      <td>8401171</td>\n",
       "      <td>2021-01-04</td>\n",
       "      <td>1001.000</td>\n",
       "      <td>3701.38</td>\n",
       "      <td>2700.0</td>\n",
       "      <td>7</td>\n",
       "      <td>0.09</td>\n",
       "      <td>1.370881</td>\n",
       "    </tr>\n",
       "    <tr>\n",
       "      <th>8401172</th>\n",
       "      <td>8401172</td>\n",
       "      <td>2021-01-04</td>\n",
       "      <td>948.600</td>\n",
       "      <td>3701.38</td>\n",
       "      <td>2750.0</td>\n",
       "      <td>7</td>\n",
       "      <td>0.09</td>\n",
       "      <td>1.345956</td>\n",
       "    </tr>\n",
       "    <tr>\n",
       "      <th>8401173</th>\n",
       "      <td>8401173</td>\n",
       "      <td>2021-01-04</td>\n",
       "      <td>901.100</td>\n",
       "      <td>3701.38</td>\n",
       "      <td>2800.0</td>\n",
       "      <td>7</td>\n",
       "      <td>0.09</td>\n",
       "      <td>1.321921</td>\n",
       "    </tr>\n",
       "    <tr>\n",
       "      <th>8401174</th>\n",
       "      <td>8401174</td>\n",
       "      <td>2021-01-04</td>\n",
       "      <td>851.200</td>\n",
       "      <td>3701.38</td>\n",
       "      <td>2850.0</td>\n",
       "      <td>7</td>\n",
       "      <td>0.09</td>\n",
       "      <td>1.298730</td>\n",
       "    </tr>\n",
       "    <tr>\n",
       "      <th>8401175</th>\n",
       "      <td>8401175</td>\n",
       "      <td>2021-01-04</td>\n",
       "      <td>801.305</td>\n",
       "      <td>3701.38</td>\n",
       "      <td>2900.0</td>\n",
       "      <td>7</td>\n",
       "      <td>0.09</td>\n",
       "      <td>1.276338</td>\n",
       "    </tr>\n",
       "    <tr>\n",
       "      <th>...</th>\n",
       "      <td>...</td>\n",
       "      <td>...</td>\n",
       "      <td>...</td>\n",
       "      <td>...</td>\n",
       "      <td>...</td>\n",
       "      <td>...</td>\n",
       "      <td>...</td>\n",
       "      <td>...</td>\n",
       "    </tr>\n",
       "    <tr>\n",
       "      <th>12459146</th>\n",
       "      <td>12459146</td>\n",
       "      <td>2022-12-30</td>\n",
       "      <td>415.150</td>\n",
       "      <td>3839.81</td>\n",
       "      <td>4500.0</td>\n",
       "      <td>1085</td>\n",
       "      <td>4.22</td>\n",
       "      <td>0.853291</td>\n",
       "    </tr>\n",
       "    <tr>\n",
       "      <th>12459147</th>\n",
       "      <td>12459147</td>\n",
       "      <td>2022-12-30</td>\n",
       "      <td>375.050</td>\n",
       "      <td>3839.81</td>\n",
       "      <td>4600.0</td>\n",
       "      <td>1085</td>\n",
       "      <td>4.22</td>\n",
       "      <td>0.834741</td>\n",
       "    </tr>\n",
       "    <tr>\n",
       "      <th>12459148</th>\n",
       "      <td>12459148</td>\n",
       "      <td>2022-12-30</td>\n",
       "      <td>337.350</td>\n",
       "      <td>3839.81</td>\n",
       "      <td>4700.0</td>\n",
       "      <td>1085</td>\n",
       "      <td>4.22</td>\n",
       "      <td>0.816981</td>\n",
       "    </tr>\n",
       "    <tr>\n",
       "      <th>12459149</th>\n",
       "      <td>12459149</td>\n",
       "      <td>2022-12-30</td>\n",
       "      <td>302.650</td>\n",
       "      <td>3839.81</td>\n",
       "      <td>4800.0</td>\n",
       "      <td>1085</td>\n",
       "      <td>4.22</td>\n",
       "      <td>0.799960</td>\n",
       "    </tr>\n",
       "    <tr>\n",
       "      <th>12459150</th>\n",
       "      <td>12459150</td>\n",
       "      <td>2022-12-30</td>\n",
       "      <td>270.450</td>\n",
       "      <td>3839.81</td>\n",
       "      <td>4900.0</td>\n",
       "      <td>1085</td>\n",
       "      <td>4.22</td>\n",
       "      <td>0.783635</td>\n",
       "    </tr>\n",
       "  </tbody>\n",
       "</table>\n",
       "<p>2944637 rows × 8 columns</p>\n",
       "</div>"
      ],
      "text/plain": [
       "          Unnamed: 0  Quote_date     Price  Underlying_last  Strike   TTM  \\\n",
       "8401171      8401171  2021-01-04  1001.000          3701.38  2700.0     7   \n",
       "8401172      8401172  2021-01-04   948.600          3701.38  2750.0     7   \n",
       "8401173      8401173  2021-01-04   901.100          3701.38  2800.0     7   \n",
       "8401174      8401174  2021-01-04   851.200          3701.38  2850.0     7   \n",
       "8401175      8401175  2021-01-04   801.305          3701.38  2900.0     7   \n",
       "...              ...         ...       ...              ...     ...   ...   \n",
       "12459146    12459146  2022-12-30   415.150          3839.81  4500.0  1085   \n",
       "12459147    12459147  2022-12-30   375.050          3839.81  4600.0  1085   \n",
       "12459148    12459148  2022-12-30   337.350          3839.81  4700.0  1085   \n",
       "12459149    12459149  2022-12-30   302.650          3839.81  4800.0  1085   \n",
       "12459150    12459150  2022-12-30   270.450          3839.81  4900.0  1085   \n",
       "\n",
       "             R  Moneyness  \n",
       "8401171   0.09   1.370881  \n",
       "8401172   0.09   1.345956  \n",
       "8401173   0.09   1.321921  \n",
       "8401174   0.09   1.298730  \n",
       "8401175   0.09   1.276338  \n",
       "...        ...        ...  \n",
       "12459146  4.22   0.853291  \n",
       "12459147  4.22   0.834741  \n",
       "12459148  4.22   0.816981  \n",
       "12459149  4.22   0.799960  \n",
       "12459150  4.22   0.783635  \n",
       "\n",
       "[2944637 rows x 8 columns]"
      ]
     },
     "metadata": {},
     "output_type": "display_data"
    }
   ],
   "source": [
    "display(df)"
   ]
  },
  {
   "cell_type": "code",
   "execution_count": null,
   "metadata": {},
   "outputs": [],
   "source": []
  }
 ],
 "metadata": {
  "kernelspec": {
   "display_name": "Python 3",
   "language": "python",
   "name": "python3"
  },
  "language_info": {
   "codemirror_mode": {
    "name": "ipython",
    "version": 3
   },
   "file_extension": ".py",
   "mimetype": "text/x-python",
   "name": "python",
   "nbconvert_exporter": "python",
   "pygments_lexer": "ipython3",
   "version": "3.10.9"
  },
  "orig_nbformat": 4,
  "vscode": {
   "interpreter": {
    "hash": "aee8b7b246df8f9039afb4144a1f6fd8d2ca17a180786b69acc140d282b71a49"
   }
  }
 },
 "nbformat": 4,
 "nbformat_minor": 2
}
