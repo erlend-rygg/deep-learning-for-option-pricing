{
 "cells": [
  {
   "cell_type": "code",
   "execution_count": 23,
   "metadata": {},
   "outputs": [],
   "source": [
    "import pandas as pd\n",
    "import numpy as np"
   ]
  },
  {
   "cell_type": "code",
   "execution_count": 24,
   "metadata": {},
   "outputs": [],
   "source": [
    "df = pd.read_csv('./data/raw_data/spx_eod_202201.csv', skipinitialspace=True)"
   ]
  },
  {
   "cell_type": "code",
   "execution_count": 25,
   "metadata": {},
   "outputs": [],
   "source": [
    "def process_options(df_opt, call = True):\n",
    "    \"\"\"Cleans up column names and add time to live (Ttl) and volatility column to the dataframe\"\"\"\n",
    "    keys = {key: key[key.find(\"[\")+1:key.find(\"]\")][0] + key[key.find(\"[\")+1:key.find(\"]\")][1:].lower()  for key in df_opt.keys()}\n",
    "    df_opt = df_opt.rename(columns=keys)\n",
    "\n",
    "    if call:\n",
    "        keys = {\"C_ask\": \"Ask\", \"C_bid\": \"Bid\"}\n",
    "    else:\n",
    "        keys = {\"P_ask\": \"Ask\", \"P_bid\": \"Bid\"}\n",
    "    df_opt = df_opt.rename(columns=keys)\n",
    "\n",
    "    df_opt[\"Quote_date\"] = pd.to_datetime(df_opt[\"Quote_date\"])\n",
    "    df_opt[\"Expire_date\"] = pd.to_datetime(df_opt[\"Expire_date\"])\n",
    "    df_opt[\"TTM\"] = df_opt.apply(lambda row: (row.Expire_date - row.Quote_date).days, axis = 1)\n",
    "    df_opt[\"Price\"] = (df_opt[\"Ask\"] + df_opt[\"Bid\"])/2\n",
    "\n",
    "    #df_opt[\"Moneyness\"] = df_opt[\"Underlying_last\"] / df_opt[\"Strike\"]\n",
    "    #df_opt[\"Bid_strike\"] = df_opt[\"Bid\"] / df_opt[\"Strike\"]\n",
    "    #df_opt[\"Ask_strike\"] = df_opt[\"Ask\"] / df_opt[\"Strike\"]\n",
    "     \n",
    "\n",
    "    #columns = [\"Quote_date\", \"Expire_date\",  \"Underlying_last\", \"Strike\", \"Ask\", \"Bid\",  \"Bid_strike\", \"Ask_strike\", \"Moneyness\", \"Ttl\", \"Volatility\"]\n",
    "    #columns = [\"Quote_date\", \"Expire_date\", \"Ask\", \"Bid\", \"Underlying_last\", \"Strike\", \"Ttl\", \"Volatility\"]\n",
    "    columns = [\"Quote_date\", \"Expire_date\", \"Price\", \"Underlying_last\", \"Strike\", \"TTM\"]\n",
    "    df_opt = df_opt[columns]\n",
    "    df_opt = df_opt[(df_opt[\"TTM\"] != 0) & (df_opt[\"TTM\"] <= 365*3)]\n",
    "    return df_opt[columns]"
   ]
  },
  {
   "cell_type": "code",
   "execution_count": 26,
   "metadata": {},
   "outputs": [],
   "source": [
    "df = process_options(df)\n",
    "N_TIMESTEPS = 20\n"
   ]
  },
  {
   "cell_type": "code",
   "execution_count": null,
   "metadata": {},
   "outputs": [],
   "source": [
    "padded = np.insert(underlying.close.values, 0, np.array([np.nan] * N_TIMESTEPS))\n",
    "rolled = np.column_stack([np.roll(padded, i) for i in range(N_TIMESTEPS)])\n",
    "rolled = rolled[~np.isnan(rolled).any(axis=1)]\n",
    "rolled = np.column_stack((underlying.date.values[N_TIMESTEPS - 1:], rolled))\n",
    "price_history = pd.DataFrame(data=rolled)\n",
    "joined = df.join(price_history.set_index(0), on='date')\n",
    "call_df = joined[joined.cp_flag == 'C'].drop(['cp_flag'], axis=1)\n",
    "put_df = joined[joined.cp_flag == 'P'].drop(['cp_flag'], axis=1)\n",
    "call_df = call_df.drop(columns=['date'])\n",
    "put_df = put_df.drop(columns=['date'])\n",
    "call_X_train, call_X_test, call_y_train, call_y_test = train_test_split(call_df.drop(['best_bid', 'best_offer'], axis=1).values,\n",
    "                                                                        ((call_df.best_bid + call_df.best_offer) / 2).values,\n",
    "                                                                        test_size=0.01, random_state=42)\n",
    "put_X_train, put_X_test, put_y_train, put_y_test = train_test_split(put_df.drop(['best_bid', 'best_offer'], axis=1).values,\n",
    "                                                                    ((put_df.best_bid + put_df.best_offer) / 2).values,\n",
    "                                                                    test_size=0.01, random_state=42)\n",
    "call_X_train = [call_X_train[:, -N_TIMESTEPS:].reshape(call_X_train.shape[0], N_TIMESTEPS, 1), call_X_train[:, :4]]\n",
    "call_X_test = [call_X_test[:, -N_TIMESTEPS:].reshape(call_X_test.shape[0], N_TIMESTEPS, 1), call_X_test[:, :4]]\n",
    "put_X_train = [put_X_train[:, -N_TIMESTEPS:].reshape(put_X_train.shape[0], N_TIMESTEPS, 1), put_X_train[:, :4]]\n",
    "put_X_test = [put_X_test[:, -N_TIMESTEPS:].reshape(put_X_test.shape[0], N_TIMESTEPS, 1), put_X_test[:, :4]]"
   ]
  }
 ],
 "metadata": {
  "kernelspec": {
   "display_name": "Python 3",
   "language": "python",
   "name": "python3"
  },
  "language_info": {
   "codemirror_mode": {
    "name": "ipython",
    "version": 3
   },
   "file_extension": ".py",
   "mimetype": "text/x-python",
   "name": "python",
   "nbconvert_exporter": "python",
   "pygments_lexer": "ipython3",
   "version": "3.10.9"
  },
  "orig_nbformat": 4,
  "vscode": {
   "interpreter": {
    "hash": "aee8b7b246df8f9039afb4144a1f6fd8d2ca17a180786b69acc140d282b71a49"
   }
  }
 },
 "nbformat": 4,
 "nbformat_minor": 2
}
