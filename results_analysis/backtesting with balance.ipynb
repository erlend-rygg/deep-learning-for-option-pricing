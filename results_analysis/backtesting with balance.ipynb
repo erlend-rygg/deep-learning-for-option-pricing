{
 "cells": [
  {
   "attachments": {},
   "cell_type": "markdown",
   "metadata": {},
   "source": [
    "### Imports and data loading"
   ]
  },
  {
   "cell_type": "code",
   "execution_count": 320,
   "metadata": {},
   "outputs": [],
   "source": [
    "import pandas as pd\n",
    "import backtrader as bt\n",
    "import datetime\n",
    "import os\n",
    "import sys\n",
    "import math\n",
    "import matplotlib.pyplot as plt\n",
    "\n",
    "# Load the data into a Pandas DataFrame\n",
    "\n",
    "# Set the path to the root directory\n",
    "path = os.path.abspath(os.path.join(os.getcwd(), os.pardir))\n",
    "sys.path.append(path)\n",
    "\n",
    "# Load Model 3 prediction file\n",
    "df = pd.read_csv(path + '/data/predictions/12.csv')"
   ]
  },
  {
   "attachments": {},
   "cell_type": "markdown",
   "metadata": {},
   "source": [
    "### Data processing"
   ]
  },
  {
   "cell_type": "code",
   "execution_count": 321,
   "metadata": {},
   "outputs": [],
   "source": [
    "df['Expiry_date'] = pd.to_datetime(df['Quote_date']) + pd.to_timedelta(df['TTM'], unit='D')\n",
    "df = df.dropna()"
   ]
  },
  {
   "cell_type": "code",
   "execution_count": 322,
   "metadata": {},
   "outputs": [],
   "source": [
    "# Sort the dataframe by Quote_date and Expiry_date\n",
    "df = df.sort_values(['Quote_date', 'Expiry_date'])\n",
    "\n",
    "# Adding intrinsic value as Price on expirty date\n",
    "# Iterate over every option, which is identified by the combination of Quote_date, Expiry_date, Strike\n",
    "groups = df.groupby(['Expiry_date', 'Strike'])\n",
    "for _, group in groups:\n",
    "    # Create a new row for the date of expiry\n",
    "    new_row = group.iloc[-1].copy()\n",
    "    new_row['Price'] = max(0, new_row['Underlying_last'] - new_row['Strike'])\n",
    "    new_row['TTM'] = 0\n",
    "    new_row['Quote_date'] = new_row['Expiry_date']\n",
    "    df = pd.concat([df, new_row.to_frame().transpose()], ignore_index=True)\n",
    "\n",
    "\n",
    "# Quote_date and Expiry_date to datetime\n",
    "df['Quote_date'] = pd.to_datetime(df['Quote_date'])\n",
    "df['Expiry_date'] = pd.to_datetime(df['Expiry_date'])\n",
    "\n",
    "df_read = df.copy()\n"
   ]
  },
  {
   "attachments": {},
   "cell_type": "markdown",
   "metadata": {},
   "source": [
    "### Parameters"
   ]
  },
  {
   "cell_type": "code",
   "execution_count": 323,
   "metadata": {},
   "outputs": [],
   "source": [
    "buy_threshold = 10\n",
    "sell_threshold = 10\n",
    "starting_balance = 1000000"
   ]
  },
  {
   "attachments": {},
   "cell_type": "markdown",
   "metadata": {},
   "source": [
    "### Functions"
   ]
  },
  {
   "cell_type": "code",
   "execution_count": 334,
   "metadata": {},
   "outputs": [],
   "source": [
    "def generate_buy_signals(df, buy_threshold):\n",
    "    buy_signal = (df['Prediction'] - df['Price']) >= buy_threshold\n",
    "    return buy_signal\n",
    "\n",
    "def trader(df, buy_signal, starting_balance):\n",
    "    # Data\n",
    "    last_date = df['Quote_date'].max()\n",
    "    df = df[df['Expiry_date'] < last_date]\n",
    "    df['Signal'] = 0\n",
    "    df.loc[buy_signal, 'Signal'] = 1\n",
    "    df['Balance'] = starting_balance\n",
    "    df[\"Position_this_opt\"] = 0\n",
    "\n",
    "    # Iterate over every group of options, which is identified by the combination of Expiry_date, Strike\n",
    "    groups = df.groupby(['Expiry_date', 'Strike'])\n",
    "    for _, group in groups:\n",
    "        option_bought = False\n",
    "        # Iterate over every row in the group\n",
    "        for index, row in group.iterrows():\n",
    "            \n",
    "            # If the signal is 1, then buy the option\n",
    "            # Also, check if the balance is greater than the price of the option for this row and all rows after this row in the entire DataFrame\n",
    "            if row['Signal'] == 1 and option_bought == False and row['Balance'] >= row['Price'] and df[\"Balance\"].iloc[index:].min() >= row[\"Price\"]:\n",
    "                option_bought = True\n",
    "                # Position handeling\n",
    "                df.loc[(df['Quote_date'] >= row['Quote_date']) & (df['Expiry_date'] == row['Expiry_date']) & (df['Strike'] == row['Strike']), 'Position_this_opt'] = 1\n",
    "                # Balance handeling\n",
    "                df.loc[(df['Quote_date'] >= row['Quote_date']), 'Balance'] = df.loc[(df['Quote_date'] >= row['Quote_date']), 'Balance'] - row['Price']\n",
    "\n",
    "\n",
    "            # Option expires, recive the intrinsic value\n",
    "            if row[\"Quote_date\"] == row[\"Expiry_date\"] and option_bought == True:\n",
    "                intrinsic_value = max(0, row['Underlying_last'] - row['Strike'])\n",
    "                # Add the price of the option to the balance in every row including and after this Quote_date\n",
    "                df.loc[(df['Quote_date'] >= row['Quote_date']), 'Balance'] = df.loc[(df['Quote_date'] >= row['Quote_date']), 'Balance'] + intrinsic_value        \n",
    "    return df\n",
    "\n",
    "def calculate_options_value(df):\n",
    "    df['Options_value'] = 0\n",
    "    # Iterate over every Quote_date\n",
    "    for date in df['Quote_date'].unique():\n",
    "        # For every Quote date, multiply each row's Position_this_opt with the Price and sum it up.\n",
    "        options_value_sum = (df.loc[df['Quote_date'] == date, 'Position_this_opt'] * df.loc[df['Quote_date'] == date, 'Price']).sum()\n",
    "        # The result should be added to every row with the same Quote_date in the Options_value column\n",
    "        df.loc[df['Quote_date'] == date, 'Options_value'] = options_value_sum\n",
    "    return df\n"
   ]
  },
  {
   "attachments": {},
   "cell_type": "markdown",
   "metadata": {},
   "source": [
    "### Run code"
   ]
  },
  {
   "cell_type": "code",
   "execution_count": 335,
   "metadata": {},
   "outputs": [
    {
     "name": "stderr",
     "output_type": "stream",
     "text": [
      "/var/folders/wk/x86_p6511l95p594k6qnb98h0000gn/T/ipykernel_6348/2690333976.py:9: SettingWithCopyWarning: \n",
      "A value is trying to be set on a copy of a slice from a DataFrame.\n",
      "Try using .loc[row_indexer,col_indexer] = value instead\n",
      "\n",
      "See the caveats in the documentation: https://pandas.pydata.org/pandas-docs/stable/user_guide/indexing.html#returning-a-view-versus-a-copy\n",
      "  df['Signal'] = 0\n",
      "/var/folders/wk/x86_p6511l95p594k6qnb98h0000gn/T/ipykernel_6348/2690333976.py:11: SettingWithCopyWarning: \n",
      "A value is trying to be set on a copy of a slice from a DataFrame.\n",
      "Try using .loc[row_indexer,col_indexer] = value instead\n",
      "\n",
      "See the caveats in the documentation: https://pandas.pydata.org/pandas-docs/stable/user_guide/indexing.html#returning-a-view-versus-a-copy\n",
      "  df['Balance'] = starting_balance\n",
      "/var/folders/wk/x86_p6511l95p594k6qnb98h0000gn/T/ipykernel_6348/2690333976.py:12: SettingWithCopyWarning: \n",
      "A value is trying to be set on a copy of a slice from a DataFrame.\n",
      "Try using .loc[row_indexer,col_indexer] = value instead\n",
      "\n",
      "See the caveats in the documentation: https://pandas.pydata.org/pandas-docs/stable/user_guide/indexing.html#returning-a-view-versus-a-copy\n",
      "  df[\"Position_this_opt\"] = 0\n",
      "/var/folders/wk/x86_p6511l95p594k6qnb98h0000gn/T/ipykernel_6348/2690333976.py:30: SettingWithCopyWarning: \n",
      "A value is trying to be set on a copy of a slice from a DataFrame.\n",
      "Try using .loc[row_indexer,col_indexer] = value instead\n",
      "\n",
      "See the caveats in the documentation: https://pandas.pydata.org/pandas-docs/stable/user_guide/indexing.html#returning-a-view-versus-a-copy\n",
      "  df.loc[(df['Quote_date'] >= row['Quote_date']), 'Balance'] = df.loc[(df['Quote_date'] >= row['Quote_date']), 'Balance'] - row['Price']\n"
     ]
    },
    {
     "name": "stdout",
     "output_type": "stream",
     "text": [
      "Starting balance 1000000\n",
      "Ending balance 1098580.445000031\n"
     ]
    }
   ],
   "source": [
    "df = df_read.copy()\n",
    "df = df[df['Quote_date'] <= \"2018-06-27\"]\n",
    "buy_signal = generate_buy_signals(df, buy_threshold)\n",
    "df = trader(df, buy_signal, starting_balance)\n",
    "df = calculate_options_value(df)\n",
    "\n",
    "print(\"Starting balance\", starting_balance)\n",
    "print(\"Ending balance\", df['Balance'].iloc[-1])"
   ]
  },
  {
   "cell_type": "code",
   "execution_count": 336,
   "metadata": {},
   "outputs": [],
   "source": [
    "# Just keep one row per Quote_date, and that should be the last row\n",
    "df = df.groupby('Quote_date').last()"
   ]
  },
  {
   "cell_type": "code",
   "execution_count": 337,
   "metadata": {},
   "outputs": [
    {
     "data": {
      "text/html": [
       "<div>\n",
       "<style scoped>\n",
       "    .dataframe tbody tr th:only-of-type {\n",
       "        vertical-align: middle;\n",
       "    }\n",
       "\n",
       "    .dataframe tbody tr th {\n",
       "        vertical-align: top;\n",
       "    }\n",
       "\n",
       "    .dataframe thead th {\n",
       "        text-align: right;\n",
       "    }\n",
       "</style>\n",
       "<table border=\"1\" class=\"dataframe\">\n",
       "  <thead>\n",
       "    <tr style=\"text-align: right;\">\n",
       "      <th></th>\n",
       "      <th>Unnamed: 0</th>\n",
       "      <th>Price</th>\n",
       "      <th>Prediction</th>\n",
       "      <th>Underlying_last</th>\n",
       "      <th>Strike</th>\n",
       "      <th>TTM</th>\n",
       "      <th>R</th>\n",
       "      <th>Expiry_date</th>\n",
       "      <th>Signal</th>\n",
       "      <th>Balance</th>\n",
       "      <th>Position_this_opt</th>\n",
       "      <th>Options_value</th>\n",
       "    </tr>\n",
       "    <tr>\n",
       "      <th>Quote_date</th>\n",
       "      <th></th>\n",
       "      <th></th>\n",
       "      <th></th>\n",
       "      <th></th>\n",
       "      <th></th>\n",
       "      <th></th>\n",
       "      <th></th>\n",
       "      <th></th>\n",
       "      <th></th>\n",
       "      <th></th>\n",
       "      <th></th>\n",
       "      <th></th>\n",
       "    </tr>\n",
       "  </thead>\n",
       "  <tbody>\n",
       "    <tr>\n",
       "      <th>2017-12-22</th>\n",
       "      <td>3138484</td>\n",
       "      <td>0.250</td>\n",
       "      <td>0.0</td>\n",
       "      <td>2683.72</td>\n",
       "      <td>3300.0</td>\n",
       "      <td>175</td>\n",
       "      <td>1.54</td>\n",
       "      <td>2018-06-15</td>\n",
       "      <td>0</td>\n",
       "      <td>999983.450</td>\n",
       "      <td>0</td>\n",
       "      <td>16.550</td>\n",
       "    </tr>\n",
       "    <tr>\n",
       "      <th>2017-12-26</th>\n",
       "      <td>3135037</td>\n",
       "      <td>0.000</td>\n",
       "      <td>0.0</td>\n",
       "      <td>2683.72</td>\n",
       "      <td>3000.0</td>\n",
       "      <td>0</td>\n",
       "      <td>1.15</td>\n",
       "      <td>2017-12-26</td>\n",
       "      <td>0</td>\n",
       "      <td>999985.585</td>\n",
       "      <td>0</td>\n",
       "      <td>22.745</td>\n",
       "    </tr>\n",
       "    <tr>\n",
       "      <th>2017-12-27</th>\n",
       "      <td>3139180</td>\n",
       "      <td>0.000</td>\n",
       "      <td>0.0</td>\n",
       "      <td>2680.42</td>\n",
       "      <td>3000.0</td>\n",
       "      <td>0</td>\n",
       "      <td>1.24</td>\n",
       "      <td>2017-12-27</td>\n",
       "      <td>0</td>\n",
       "      <td>999991.425</td>\n",
       "      <td>0</td>\n",
       "      <td>5.840</td>\n",
       "    </tr>\n",
       "    <tr>\n",
       "      <th>2017-12-28</th>\n",
       "      <td>3150410</td>\n",
       "      <td>0.275</td>\n",
       "      <td>0.0</td>\n",
       "      <td>2687.17</td>\n",
       "      <td>3300.0</td>\n",
       "      <td>169</td>\n",
       "      <td>1.54</td>\n",
       "      <td>2018-06-15</td>\n",
       "      <td>0</td>\n",
       "      <td>999957.880</td>\n",
       "      <td>0</td>\n",
       "      <td>33.545</td>\n",
       "    </tr>\n",
       "    <tr>\n",
       "      <th>2017-12-29</th>\n",
       "      <td>3147211</td>\n",
       "      <td>0.000</td>\n",
       "      <td>0.0</td>\n",
       "      <td>2687.17</td>\n",
       "      <td>3100.0</td>\n",
       "      <td>0</td>\n",
       "      <td>1.19</td>\n",
       "      <td>2017-12-29</td>\n",
       "      <td>0</td>\n",
       "      <td>999958.745</td>\n",
       "      <td>0</td>\n",
       "      <td>20.670</td>\n",
       "    </tr>\n",
       "    <tr>\n",
       "      <th>...</th>\n",
       "      <td>...</td>\n",
       "      <td>...</td>\n",
       "      <td>...</td>\n",
       "      <td>...</td>\n",
       "      <td>...</td>\n",
       "      <td>...</td>\n",
       "      <td>...</td>\n",
       "      <td>...</td>\n",
       "      <td>...</td>\n",
       "      <td>...</td>\n",
       "      <td>...</td>\n",
       "      <td>...</td>\n",
       "    </tr>\n",
       "    <tr>\n",
       "      <th>2018-06-15</th>\n",
       "      <td>3246760</td>\n",
       "      <td>0.000</td>\n",
       "      <td>0.0</td>\n",
       "      <td>2821.66</td>\n",
       "      <td>3500.0</td>\n",
       "      <td>0</td>\n",
       "      <td>1.48</td>\n",
       "      <td>2018-06-15</td>\n",
       "      <td>0</td>\n",
       "      <td>1098580.445</td>\n",
       "      <td>0</td>\n",
       "      <td>96600.080</td>\n",
       "    </tr>\n",
       "    <tr>\n",
       "      <th>2018-06-18</th>\n",
       "      <td>3650355</td>\n",
       "      <td>0.000</td>\n",
       "      <td>0.0</td>\n",
       "      <td>2749.21</td>\n",
       "      <td>3100.0</td>\n",
       "      <td>0</td>\n",
       "      <td>1.82</td>\n",
       "      <td>2018-06-18</td>\n",
       "      <td>0</td>\n",
       "      <td>1098580.445</td>\n",
       "      <td>0</td>\n",
       "      <td>0.000</td>\n",
       "    </tr>\n",
       "    <tr>\n",
       "      <th>2018-06-20</th>\n",
       "      <td>3650482</td>\n",
       "      <td>0.000</td>\n",
       "      <td>0.0</td>\n",
       "      <td>2749.21</td>\n",
       "      <td>3100.0</td>\n",
       "      <td>0</td>\n",
       "      <td>1.82</td>\n",
       "      <td>2018-06-20</td>\n",
       "      <td>0</td>\n",
       "      <td>1098580.445</td>\n",
       "      <td>0</td>\n",
       "      <td>0.000</td>\n",
       "    </tr>\n",
       "    <tr>\n",
       "      <th>2018-06-22</th>\n",
       "      <td>3650658</td>\n",
       "      <td>0.000</td>\n",
       "      <td>0.0</td>\n",
       "      <td>2749.21</td>\n",
       "      <td>3400.0</td>\n",
       "      <td>0</td>\n",
       "      <td>1.82</td>\n",
       "      <td>2018-06-22</td>\n",
       "      <td>0</td>\n",
       "      <td>1098580.445</td>\n",
       "      <td>0</td>\n",
       "      <td>0.000</td>\n",
       "    </tr>\n",
       "    <tr>\n",
       "      <th>2018-06-25</th>\n",
       "      <td>3650786</td>\n",
       "      <td>0.000</td>\n",
       "      <td>0.0</td>\n",
       "      <td>2749.21</td>\n",
       "      <td>3200.0</td>\n",
       "      <td>0</td>\n",
       "      <td>1.82</td>\n",
       "      <td>2018-06-25</td>\n",
       "      <td>0</td>\n",
       "      <td>1098580.445</td>\n",
       "      <td>0</td>\n",
       "      <td>0.000</td>\n",
       "    </tr>\n",
       "  </tbody>\n",
       "</table>\n",
       "<p>121 rows × 12 columns</p>\n",
       "</div>"
      ],
      "text/plain": [
       "            Unnamed: 0  Price  Prediction  Underlying_last  Strike  TTM     R  \\\n",
       "Quote_date                                                                      \n",
       "2017-12-22     3138484  0.250         0.0          2683.72  3300.0  175  1.54   \n",
       "2017-12-26     3135037  0.000         0.0          2683.72  3000.0    0  1.15   \n",
       "2017-12-27     3139180  0.000         0.0          2680.42  3000.0    0  1.24   \n",
       "2017-12-28     3150410  0.275         0.0          2687.17  3300.0  169  1.54   \n",
       "2017-12-29     3147211  0.000         0.0          2687.17  3100.0    0  1.19   \n",
       "...                ...    ...         ...              ...     ...  ...   ...   \n",
       "2018-06-15     3246760  0.000         0.0          2821.66  3500.0    0  1.48   \n",
       "2018-06-18     3650355  0.000         0.0          2749.21  3100.0    0  1.82   \n",
       "2018-06-20     3650482  0.000         0.0          2749.21  3100.0    0  1.82   \n",
       "2018-06-22     3650658  0.000         0.0          2749.21  3400.0    0  1.82   \n",
       "2018-06-25     3650786  0.000         0.0          2749.21  3200.0    0  1.82   \n",
       "\n",
       "           Expiry_date  Signal      Balance  Position_this_opt  Options_value  \n",
       "Quote_date                                                                     \n",
       "2017-12-22  2018-06-15       0   999983.450                  0         16.550  \n",
       "2017-12-26  2017-12-26       0   999985.585                  0         22.745  \n",
       "2017-12-27  2017-12-27       0   999991.425                  0          5.840  \n",
       "2017-12-28  2018-06-15       0   999957.880                  0         33.545  \n",
       "2017-12-29  2017-12-29       0   999958.745                  0         20.670  \n",
       "...                ...     ...          ...                ...            ...  \n",
       "2018-06-15  2018-06-15       0  1098580.445                  0      96600.080  \n",
       "2018-06-18  2018-06-18       0  1098580.445                  0          0.000  \n",
       "2018-06-20  2018-06-20       0  1098580.445                  0          0.000  \n",
       "2018-06-22  2018-06-22       0  1098580.445                  0          0.000  \n",
       "2018-06-25  2018-06-25       0  1098580.445                  0          0.000  \n",
       "\n",
       "[121 rows x 12 columns]"
      ]
     },
     "metadata": {},
     "output_type": "display_data"
    }
   ],
   "source": [
    "display(df)"
   ]
  },
  {
   "cell_type": "code",
   "execution_count": 346,
   "metadata": {},
   "outputs": [
    {
     "ename": "NameError",
     "evalue": "name 'plt' is not defined",
     "output_type": "error",
     "traceback": [
      "\u001b[0;31m---------------------------------------------------------------------------\u001b[0m",
      "\u001b[0;31mNameError\u001b[0m                                 Traceback (most recent call last)",
      "Cell \u001b[0;32mIn[346], line 8\u001b[0m\n\u001b[1;32m      5\u001b[0m df[\u001b[39m'\u001b[39m\u001b[39mOptions_value\u001b[39m\u001b[39m'\u001b[39m]\u001b[39m.\u001b[39mplot()\n\u001b[1;32m      7\u001b[0m \u001b[39m# Add labels\u001b[39;00m\n\u001b[0;32m----> 8\u001b[0m plt\u001b[39m.\u001b[39mxlabel(\u001b[39m'\u001b[39m\u001b[39mDate\u001b[39m\u001b[39m'\u001b[39m)\n\u001b[1;32m      9\u001b[0m plt\u001b[39m.\u001b[39mylabel(\u001b[39m'\u001b[39m\u001b[39mBalance\u001b[39m\u001b[39m'\u001b[39m)\n\u001b[1;32m     10\u001b[0m plt\u001b[39m.\u001b[39mtitle(\u001b[39m'\u001b[39m\u001b[39mBalance over time\u001b[39m\u001b[39m'\u001b[39m)\n",
      "\u001b[0;31mNameError\u001b[0m: name 'plt' is not defined"
     ]
    },
    {
     "data": {
      "image/png": "[encoded data removed]",
      "text/plain": [
       "<Figure size 640x480 with 1 Axes>"
      ]
     },
     "metadata": {},
     "output_type": "display_data"
    }
   ],
   "source": [
    "# Plot the balance over time before 2018-03-01\n",
    "df['Balance'].plot()\n",
    "\n",
    "# Plot the options value over time\n",
    "df['Options_value'].plot()\n",
    "\n",
    "# Add labels\n",
    "plt.xlabel('Date')\n",
    "plt.ylabel('Balance')\n",
    "plt.title('Balance over time')\n",
    "\n",
    "# Add legend\n",
    "plt.legend()"
   ]
  },
  {
   "cell_type": "code",
   "execution_count": 343,
   "metadata": {},
   "outputs": [
    {
     "name": "stdout",
     "output_type": "stream",
     "text": [
      "Max total value 1570106.4350000075 Min total value 882988.2250000006\n"
     ]
    }
   ],
   "source": [
    "# New column total value\n",
    "df['Total_value'] = df['Balance'] + df['Options_value']\n",
    "\n",
    "print(\"Max total value\", df['Total_value'].max(), \"Min total value\", df['Total_value'].min())"
   ]
  },
  {
   "cell_type": "code",
   "execution_count": 344,
   "metadata": {},
   "outputs": [
    {
     "data": {
      "text/plain": [
       "<AxesSubplot: xlabel='Quote_date'>"
      ]
     },
     "execution_count": 344,
     "metadata": {},
     "output_type": "execute_result"
    },
    {
     "data": {
      "image/png": "[encoded data removed]",
      "text/plain": [
       "<Figure size 640x480 with 1 Axes>"
      ]
     },
     "metadata": {},
     "output_type": "display_data"
    }
   ],
   "source": [
    "# Plot total value\n",
    "df[\"Total_value\"].plot()"
   ]
  },
  {
   "cell_type": "code",
   "execution_count": 345,
   "metadata": {},
   "outputs": [
    {
     "name": "stdout",
     "output_type": "stream",
     "text": [
      "Sharpe ratio 0.04192168844164293\n"
     ]
    }
   ],
   "source": [
    "# Calculate sharpe ratio\n",
    "daily_returns = df['Total_value'].pct_change()\n",
    "sharpe_ratio = daily_returns.mean() / daily_returns.std()\n",
    "print(\"Sharpe ratio\", sharpe_ratio)"
   ]
  }
 ],
 "metadata": {
  "kernelspec": {
   "display_name": "Python 3",
   "language": "python",
   "name": "python3"
  },
  "language_info": {
   "codemirror_mode": {
    "name": "ipython",
    "version": 3
   },
   "file_extension": ".py",
   "mimetype": "text/x-python",
   "name": "python",
   "nbconvert_exporter": "python",
   "pygments_lexer": "ipython3",
   "version": "3.10.9"
  },
  "orig_nbformat": 4
 },
 "nbformat": 4,
 "nbformat_minor": 2
}
