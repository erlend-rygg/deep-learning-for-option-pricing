{
 "cells": [
  {
   "attachments": {},
   "cell_type": "markdown",
   "metadata": {},
   "source": [
    "### Imports"
   ]
  },
  {
   "cell_type": "code",
   "execution_count": 17,
   "metadata": {},
   "outputs": [],
   "source": [
    "import pandas as pd\n",
    "import datetime\n",
    "import os\n",
    "import sys\n",
    "import math\n",
    "import matplotlib.pyplot as plt\n",
    "import numpy as np\n",
    "import warnings\n",
    "from pandas.errors import SettingWithCopyWarning\n",
    "\n",
    "\n",
    "warnings.simplefilter(action='ignore', category=SettingWithCopyWarning)"
   ]
  },
  {
   "attachments": {},
   "cell_type": "markdown",
   "metadata": {},
   "source": [
    "### Parameters"
   ]
  },
  {
   "cell_type": "code",
   "execution_count": 18,
   "metadata": {},
   "outputs": [],
   "source": [
    "buy_threshold = 0\n",
    "sell_threshold = 9\n",
    "starting_balance = 10000000\n",
    "\n",
    "run_optimizing = False\n",
    "google_colab = False"
   ]
  },
  {
   "attachments": {},
   "cell_type": "markdown",
   "metadata": {},
   "source": [
    "### Data loading"
   ]
  },
  {
   "cell_type": "code",
   "execution_count": 19,
   "metadata": {},
   "outputs": [],
   "source": [
    "if google_colab:\n",
    "    from google.colab import drive\n",
    "    drive.mount('/content/drive')\n",
    "    !pip install -U -q PyDrive\n",
    "    from pydrive.auth import GoogleAuth\n",
    "    from pydrive.drive import GoogleDrive\n",
    "    from google.colab import auth\n",
    "    from oauth2client.client import GoogleCredentials\n",
    "    # Authenticate and create the PyDrive client.\n",
    "    auth.authenticate_user()\n",
    "    gauth = GoogleAuth()\n",
    "    gauth.credentials = GoogleCredentials.get_application_default()\n",
    "    drive = GoogleDrive(gauth)\n",
    "    id = \"1-kLmDPAmiTHNw_cv3lr6wY9DfSt8RSHv\"\n",
    "    downloaded = drive.CreateFile({'id':id}) \n",
    "    downloaded.GetContentFile('05-07_11-26.csv')  \n",
    "    df = pd.read_csv('05-07_11-26.csv')\n",
    "else:\n",
    "    # Set the path to the root directory\n",
    "    path = os.path.abspath(os.path.join(os.getcwd(), '../..'))\n",
    "    # Read dataframes using Dask\n",
    "    df = pd.read_csv(path + '/data/predictions/11.05 1 mnd test sett full model run.csv')"
   ]
  },
  {
   "attachments": {},
   "cell_type": "markdown",
   "metadata": {},
   "source": [
    "### Data processing"
   ]
  },
  {
   "cell_type": "code",
   "execution_count": 20,
   "metadata": {},
   "outputs": [],
   "source": [
    "# Dates\n",
    "df['Expiry_date'] = pd.to_datetime(df['Quote_date']) + pd.to_timedelta(df['TTM']*365, unit='D')\n",
    "df['Quote_date'] = pd.to_datetime(df['Quote_date'])\n",
    "df['Expiry_date'] = pd.to_datetime(df['Expiry_date'])\n",
    "\n",
    "# Adding option ID\n",
    "df[\"Option_ID\"] = df[\"Expiry_date\"].astype(str) + \"-\" + df[\"Strike\"].astype(str)\n",
    "\n",
    "# Dataframe for underlying matching in TTM = 0 rows\n",
    "df_original = df[(df[\"Quote_date\"] >= \"2018-01-01\") & (df[\"Quote_date\"] <= \"2019-01-01\")]\n",
    "\n",
    "# Period to be traded on\n",
    "df = df[(df[\"Expiry_date\"] >= \"2018-01-01\") & (df[\"Expiry_date\"] <= \"2018-01-29\")]\n",
    "df = df[(df[\"Quote_date\"] >= \"2018-01-01\") & (df[\"Quote_date\"] <= \"2018-01-29\")]"
   ]
  },
  {
   "attachments": {},
   "cell_type": "markdown",
   "metadata": {},
   "source": [
    "Adding TTM=0 row"
   ]
  },
  {
   "cell_type": "code",
   "execution_count": 21,
   "metadata": {},
   "outputs": [
    {
     "name": "stderr",
     "output_type": "stream",
     "text": [
      "/var/folders/wk/x86_p6511l95p594k6qnb98h0000gn/T/ipykernel_42604/2939185186.py:28: FutureWarning: The frame.append method is deprecated and will be removed from pandas in a future version. Use pandas.concat instead.\n",
      "  df = df.append(new_row, ignore_index=True)\n"
     ]
    }
   ],
   "source": [
    "# Sort the dataframe by Quote_date and Expiry_date\n",
    "df = df.sort_values(['Quote_date', 'Expiry_date'])\n",
    "\n",
    "groups = df.groupby(['Expiry_date', 'Strike'])\n",
    "\n",
    "for _, group in groups:\n",
    "\n",
    "    # Sort group so that the last row is the one with the lowest TTM\n",
    "    group = group.sort_values('TTM', ascending=False)\n",
    "\n",
    "    # Taking row from option group (could be any) to be used in getting the Strike price\n",
    "    last_row = group.iloc[-1]\n",
    "    \n",
    "    expiry_date = last_row['Expiry_date']\n",
    "\n",
    "    # Get the underlying price on the day of expiry\n",
    "    underlying_last_on_expiry = df_original.loc[df_original['Quote_date'] == expiry_date, 'Underlying_last'].iloc[0]\n",
    "    # Calculate the intrinsic value\n",
    "    intrinsic_value = np.maximum(underlying_last_on_expiry - last_row['Strike'], 0)\n",
    "\n",
    "    new_row = last_row.copy()\n",
    "    new_row['Quote_date'] = expiry_date\n",
    "    new_row['Expiry_date'] = expiry_date\n",
    "    new_row['TTM'] = 0\n",
    "    new_row['Underlying_last'] = underlying_last_on_expiry\n",
    "    new_row['Price'] = intrinsic_value\n",
    "\n",
    "    df = df.append(new_row, ignore_index=True)\n",
    "\n",
    "# Sort the dataframe by Quote_date and Expiry_date\n",
    "df = df.sort_values(['Quote_date', 'Expiry_date'])"
   ]
  },
  {
   "cell_type": "code",
   "execution_count": 22,
   "metadata": {},
   "outputs": [
    {
     "name": "stdout",
     "output_type": "stream",
     "text": [
      "       Unnamed: 0 Quote_date     Price  Prediction  Underlying_last  Strike  \\\n",
      "0         4119222 2018-01-02  1095.295  1102.66750          2695.87  1600.0   \n",
      "1         4119223 2018-01-02   995.295  1002.39465          2695.87  1700.0   \n",
      "2         4119224 2018-01-02   945.300   952.23970          2695.87  1750.0   \n",
      "3         4119225 2018-01-02   895.305   902.30440          2695.87  1800.0   \n",
      "4         4119226 2018-01-02   845.290   852.40234          2695.87  1850.0   \n",
      "...           ...        ...       ...         ...              ...     ...   \n",
      "19206     4190191 2018-01-29     0.000     0.00000          2853.21  3010.0   \n",
      "19207     4190192 2018-01-29     0.000     0.00000          2853.21  3020.0   \n",
      "19208     4190193 2018-01-29     0.000     0.00000          2853.21  3050.0   \n",
      "19209     4190194 2018-01-29     0.000     0.00000          2853.21  3100.0   \n",
      "19210     4190195 2018-01-29     0.000     0.00000          2853.21  3125.0   \n",
      "\n",
      "           TTM       R Expiry_date          Option_ID  \n",
      "0      0.00274  0.0129  2018-01-03  2018-01-03-1600.0  \n",
      "1      0.00274  0.0129  2018-01-03  2018-01-03-1700.0  \n",
      "2      0.00274  0.0129  2018-01-03  2018-01-03-1750.0  \n",
      "3      0.00274  0.0129  2018-01-03  2018-01-03-1800.0  \n",
      "4      0.00274  0.0129  2018-01-03  2018-01-03-1850.0  \n",
      "...        ...     ...         ...                ...  \n",
      "19206  0.00000  0.0124  2018-01-29  2018-01-29-3010.0  \n",
      "19207  0.00000  0.0124  2018-01-29  2018-01-29-3020.0  \n",
      "19208  0.00000  0.0124  2018-01-29  2018-01-29-3050.0  \n",
      "19209  0.00000  0.0124  2018-01-29  2018-01-29-3100.0  \n",
      "19210  0.00000  0.0124  2018-01-29  2018-01-29-3125.0  \n",
      "\n",
      "[19211 rows x 10 columns]\n"
     ]
    }
   ],
   "source": [
    "print(df)"
   ]
  },
  {
   "attachments": {},
   "cell_type": "markdown",
   "metadata": {},
   "source": [
    "### Functions"
   ]
  },
  {
   "cell_type": "code",
   "execution_count": 23,
   "metadata": {},
   "outputs": [],
   "source": [
    "def generate_buy_sell_signals(df, buy_threshold, sell_threshold):\n",
    "    buy_signal = (df['Prediction'] - df['Price']) >= buy_threshold\n",
    "    sell_signal = (df['Price'] - df['Prediction']) >= sell_threshold\n",
    "    return buy_signal, sell_signal\n",
    "\n",
    "\n",
    "def trader(df, buy_signal, sell_signal, starting_balance):\n",
    "    df = df.copy()\n",
    "    # Filter out options that expire before the last quote date\n",
    "    last_date = df['Quote_date'].max()\n",
    "    df = df[df['Expiry_date'] <= last_date]\n",
    "    \n",
    "    df['Signal'] = 0\n",
    "    df.loc[buy_signal, 'Signal'] = 1\n",
    "    df.loc[sell_signal, 'Signal'] = -1\n",
    "    df['Position_this_opt'] = 0\n",
    "    df['Balance'] = starting_balance  # Initialize Balance column with starting_balance\n",
    "    df['Profit'] = 0\n",
    "\n",
    "    quote_date_grouped = df.groupby('Quote_date')\n",
    "\n",
    "    balance = starting_balance\n",
    "\n",
    "    for quote_date, group in quote_date_grouped:\n",
    "        group = group.sample(frac=1)\n",
    "\n",
    "        for _, row in group.iterrows():\n",
    "            option_position = df.loc[(df['Option_ID'] == row['Option_ID']) & (df['Quote_date'] <= row['Quote_date']), 'Position_this_opt'].iloc[-1]\n",
    "\n",
    "            # Buy the option\n",
    "            if row['Signal'] == 1 and balance >= row['Price'] and row[\"Quote_date\"] != row[\"Expiry_date\"]:\n",
    "                balance -= row['Price']\n",
    "                option_position += 1\n",
    "                # Directly update values in the original dataframe\n",
    "                df.loc[(df['Option_ID'] == row['Option_ID']) & (df['Quote_date'] == row['Quote_date']), 'Position_this_opt'] = option_position\n",
    "                df.loc[(df['Option_ID'] == row['Option_ID']) & (df['Quote_date'] == row['Quote_date']), 'Balance'] = balance\n",
    "\n",
    "            # Sell the option\n",
    "            elif row['Signal'] == -1 and row[\"Quote_date\"] != row[\"Expiry_date\"] and balance > 0:\n",
    "                balance += row['Price']\n",
    "                option_position -= 1\n",
    "                # Directly update values in the original dataframe\n",
    "                df.loc[(df['Option_ID'] == row['Option_ID']) & (df['Quote_date'] == row['Quote_date']), 'Position_this_opt'] = option_position\n",
    "                df.loc[(df['Option_ID'] == row['Option_ID']) & (df['Quote_date'] == row['Quote_date']), 'Balance'] = balance\n",
    "\n",
    "            # Option expires\n",
    "            elif row[\"Quote_date\"] == row[\"Expiry_date\"] and option_position != 0:\n",
    "                intrinsic_value = max(0, row['Underlying_last'] - row['Strike'])\n",
    "                adjustment = intrinsic_value if option_position >= 1 else -intrinsic_value\n",
    "                balance += adjustment * abs(option_position)\n",
    "                option_position = 0\n",
    "                # Directly update values in the original dataframe\n",
    "                df.loc[(df['Option_ID'] == row['Option_ID']) & (df['Quote_date'] == row['Quote_date']), 'Position_this_opt'] = option_position\n",
    "                df.loc[(df['Option_ID'] == row['Option_ID']) & (df['Quote_date'] == row['Quote_date']), 'Balance'] = balance\n",
    "\n",
    "            df.loc[(df['Quote_date'] == quote_date) & (df['Position_this_opt'] == 0), 'Balance'] = balance\n",
    "        \n",
    "        # Print date and balance if quote_date is 1. january, 1. april, 1. july or 1. october\n",
    "        if quote_date.day == 1 or quote_date.day == 15:\n",
    "            print(\"On, {}, the balance is: {}\".format(quote_date, balance))\n",
    "    return df\n",
    "\n",
    "\n",
    "def calculate_options_value(df):\n",
    "    df['Options_value'] = 0\n",
    "    # Iterate over every Quote_date\n",
    "    for date in df['Quote_date'].unique():\n",
    "        # For every Quote date, multiply each row's Position_this_opt with the Price and sum it up.\n",
    "        options_value_sum = (df.loc[df['Quote_date'] == date, 'Position_this_opt'] * df.loc[df['Quote_date'] == date, 'Price']).sum()\n",
    "        # The result should be added to every row with the same Quote_date in the Options_value\n",
    "        df.loc[df['Quote_date'] == date, 'Options_value'] = options_value_sum\n",
    "    df['Total_value'] = df['Balance'] + df['Options_value']\n",
    "    return df"
   ]
  },
  {
   "attachments": {},
   "cell_type": "markdown",
   "metadata": {},
   "source": [
    "### Run code"
   ]
  },
  {
   "cell_type": "code",
   "execution_count": 24,
   "metadata": {},
   "outputs": [],
   "source": [
    "def print_results(df, starting_balance):\n",
    "    print(\"Starting balance\", starting_balance)\n",
    "    print(\"Ending balance\", df['Balance'].iloc[-1])\n",
    "    print(\"Number of trades\", df['Signal'].abs().sum())\n",
    "    profit = df['Balance'].iloc[-1] - starting_balance\n",
    "    print(\"Profit\", profit)\n",
    "    print(\"Profit per trade\", profit / df['Signal'].abs().sum())\n",
    "    print(\"Profit per day\", profit / (df['Quote_date'].max() - df['Quote_date'].min()).days)\n",
    "    num_days = (df['Quote_date'].max() - df['Quote_date'].min()).days\n",
    "    print(\"Number of days\", num_days)\n",
    "    print(\"Sharpe ratio: \", sharpe_ratio(df))"
   ]
  },
  {
   "cell_type": "code",
   "execution_count": 25,
   "metadata": {},
   "outputs": [],
   "source": [
    "def sharpe_ratio(df):\n",
    "    df = df.copy()\n",
    "    # Group by Quote_date and keep the last row of each group\n",
    "    df = df.groupby('Quote_date').last()\n",
    "    # Calculate daily returns\n",
    "    df['Daily_Returns'] = df['Total_value'].pct_change()\n",
    "    # Convert the annual risk-free rate to a daily rate\n",
    "    df['Daily_Rf'] = (1 + df['R'])**(1/252) - 1\n",
    "    # Calculate the excess returns\n",
    "    excess_returns = df['Daily_Returns'] - df['Daily_Rf']\n",
    "    # Calculate sharpe ratio\n",
    "    sharpe_ratio = np.sqrt(252) * (excess_returns.mean() / excess_returns.std())\n",
    "    return sharpe_ratio"
   ]
  },
  {
   "cell_type": "code",
   "execution_count": 26,
   "metadata": {},
   "outputs": [
    {
     "name": "stdout",
     "output_type": "stream",
     "text": [
      "Starting balance 10000000\n",
      "Ending balance 5257843.954999979\n",
      "Number of trades 15773\n",
      "Profit -4742156.045000021\n",
      "Profit per trade -300.6502279211324\n",
      "Profit per day -175635.40907407485\n",
      "Number of days 27\n",
      "Sharpe ratio:  -44.37211491803402\n"
     ]
    }
   ],
   "source": [
    "if run_optimizing == False:\n",
    "    df = df.copy()\n",
    "    buy_signal, sell_signal = generate_buy_sell_signals(df, buy_threshold, sell_threshold)\n",
    "    df = trader(df, buy_signal, sell_signal, starting_balance)\n",
    "    df = calculate_options_value(df)\n",
    "    print_results(df, starting_balance)"
   ]
  },
  {
   "attachments": {},
   "cell_type": "markdown",
   "metadata": {},
   "source": [
    "### Analysis"
   ]
  },
  {
   "cell_type": "code",
   "execution_count": 27,
   "metadata": {},
   "outputs": [],
   "source": [
    "def plot(df):\n",
    "    # Just keep one row per Quote_date, and that should be the last row\n",
    "    df = df.groupby('Quote_date').last()\n",
    "    plt.plot(df['Total_value'], label='Total value')\n",
    "    plt.plot(df['Balance'], label='Balance')\n",
    "    plt.plot(df['Options_value'], label='Options value')\n",
    "    plt.title('Portfolio value over time')\n",
    "    # Make plot smaller\n",
    "    ax = plt.gca()\n",
    "    plt.xticks(rotation=45)\n",
    "    plt.legend()\n",
    "    plt.show()"
   ]
  },
  {
   "cell_type": "code",
   "execution_count": 28,
   "metadata": {},
   "outputs": [
    {
     "data": {
      "image/png": "[encoded data removed]",
      "text/plain": [
       "<Figure size 640x480 with 1 Axes>"
      ]
     },
     "metadata": {},
     "output_type": "display_data"
    }
   ],
   "source": [
    "if run_optimizing == False:\n",
    "    plot(df)"
   ]
  },
  {
   "attachments": {},
   "cell_type": "markdown",
   "metadata": {},
   "source": [
    "### Finding best thresholds"
   ]
  },
  {
   "cell_type": "code",
   "execution_count": 29,
   "metadata": {},
   "outputs": [],
   "source": [
    "if run_optimizing:\n",
    "    # Initialize wandb\n",
    "    !pip install wandb\n",
    "    import wandb\n",
    "    wandb.login(key=\"b47bcf387a0571c5520c58a13be35cda8ada0a99\")\n",
    "\n",
    "    # Define the hyperparameters\n",
    "    sweep_config = {\n",
    "    'method': 'grid',\n",
    "    'name': 'Small dataset - New sharpe ratio',\n",
    "    'metric': {\n",
    "        'goal': 'maximize', \n",
    "        'name': 'sharpe_ratio'\n",
    "        },\n",
    "    'parameters': {\n",
    "        'buy_threshold': {\n",
    "            'values': [0.1, 1, 4, 8, 12]},\n",
    "        'sell_threshold': {\n",
    "            'values': [0.1, 1, 4, 8, 12]},\n",
    "        'starting_balance': {\n",
    "            'values': [100000, 1000000]},\n",
    "        }\n",
    "    }\n",
    "    sweep_id = wandb.sweep(sweep=sweep_config, project='options-trading') \n"
   ]
  },
  {
   "cell_type": "code",
   "execution_count": 30,
   "metadata": {},
   "outputs": [],
   "source": [
    "if run_optimizing:\n",
    "    def find_best_thresholds():\n",
    "        run = wandb.init(project = \"options-trading\")\n",
    "        df = df_read.copy()\n",
    "        buy_signal, sell_signal = generate_buy_sell_signals(df, run.config.buy_threshold, run.config.sell_threshold)\n",
    "        df = trader(df, buy_signal, sell_signal, run.config.starting_balance)\n",
    "        df = calculate_options_value(df)\n",
    "        run.log({\"buy_threshold\": run.config.buy_threshold, \"sell_threshold\": run.config.sell_threshold, \"sharpe_ratio\": sharpe_ratio(df)})\n",
    "        # Wandb callback\n",
    "        print(\"buy_threshold\", run.config.buy_threshold)\n",
    "        print(\"sell_threshold\", run.config.sell_threshold)\n",
    "        print(\"starting_balance\", run.config.starting_balance)\n",
    "        print(\"Ending balance\", df['Balance'].iloc[-1])\n",
    "        print(\"Number of trades\", df['Signal'].abs().sum())\n",
    "        print(\"sharpe_ratio\", sharpe_ratio(df))\n",
    "        plot(df)\n",
    "        run.finish()\n",
    "\n",
    "    wandb.agent(sweep_id=sweep_id, function=find_best_thresholds, project='options-trading', count = 1000)"
   ]
  }
 ],
 "metadata": {
  "kernelspec": {
   "display_name": "Python 3",
   "language": "python",
   "name": "python3"
  },
  "language_info": {
   "codemirror_mode": {
    "name": "ipython",
    "version": 3
   },
   "file_extension": ".py",
   "mimetype": "text/x-python",
   "name": "python",
   "nbconvert_exporter": "python",
   "pygments_lexer": "ipython3",
   "version": "3.10.9"
  },
  "orig_nbformat": 4
 },
 "nbformat": 4,
 "nbformat_minor": 2
}
