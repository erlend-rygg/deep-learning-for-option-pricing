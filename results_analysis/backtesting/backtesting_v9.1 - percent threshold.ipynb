{
 "cells": [
  {
   "attachments": {},
   "cell_type": "markdown",
   "metadata": {},
   "source": [
    "### Imports"
   ]
  },
  {
   "cell_type": "code",
   "execution_count": null,
   "metadata": {},
   "outputs": [],
   "source": [
    "import pandas as pd\n",
    "import datetime\n",
    "import os\n",
    "import sys\n",
    "import math\n",
    "import matplotlib.pyplot as plt\n",
    "import numpy as np\n",
    "import warnings\n",
    "from pandas.errors import SettingWithCopyWarning\n",
    "\n",
    "\n",
    "warnings.simplefilter(action='ignore', category=SettingWithCopyWarning)"
   ]
  },
  {
   "attachments": {},
   "cell_type": "markdown",
   "metadata": {},
   "source": [
    "### Parameters"
   ]
  },
  {
   "cell_type": "code",
   "execution_count": null,
   "metadata": {},
   "outputs": [],
   "source": [
    "buy_threshold = 1.04\n",
    "sell_threshold = 1.01\n",
    "starting_balance = 1000000\n",
    "price_cap_lower = 0\n",
    "ttm_cap_lower = 0\n",
    "\n",
    "run_optimizing = True\n",
    "google_colab = True"
   ]
  },
  {
   "attachments": {},
   "cell_type": "markdown",
   "metadata": {},
   "source": [
    "### Data loading"
   ]
  },
  {
   "cell_type": "code",
   "execution_count": null,
   "metadata": {},
   "outputs": [],
   "source": [
    "if google_colab:\n",
    "    from google.colab import drive\n",
    "    drive.mount('/content/drive')\n",
    "    !pip install -U -q PyDrive\n",
    "    from pydrive.auth import GoogleAuth\n",
    "    from pydrive.drive import GoogleDrive\n",
    "    from google.colab import auth\n",
    "    from oauth2client.client import GoogleCredentials\n",
    "    # Authenticate and create the PyDrive client.\n",
    "    auth.authenticate_user()\n",
    "    gauth = GoogleAuth()\n",
    "    gauth.credentials = GoogleCredentials.get_application_default()\n",
    "    drive = GoogleDrive(gauth)\n",
    "    id = \"111QpHwxMy28NV8I23Bj_ZD1H32H6n7bV\"\n",
    "    downloaded = drive.CreateFile({'id':id}) \n",
    "    downloaded.GetContentFile('11.05 1 mnd test sett full model run.csv')  \n",
    "    df = pd.read_csv('11.05 1 mnd test sett full model run.csv')\n",
    "else:\n",
    "    # Set the path to the root directory\n",
    "    path = os.path.abspath(os.path.join(os.getcwd(), '../..'))\n",
    "    # Read dataframes using Dask\n",
    "    df = pd.read_csv(path + '/data/predictions/11.05 1 mnd test sett full model run.csv')"
   ]
  },
  {
   "attachments": {},
   "cell_type": "markdown",
   "metadata": {},
   "source": [
    "### Data processing"
   ]
  },
  {
   "cell_type": "code",
   "execution_count": null,
   "metadata": {},
   "outputs": [],
   "source": [
    "# Dates\n",
    "df['Expiry_date'] = pd.to_datetime(df['Quote_date']) + pd.to_timedelta(df['TTM'] * 365, unit='D')\n",
    "df['Quote_date'] = pd.to_datetime(df['Quote_date']).dt.date \n",
    "df['Expiry_date'] = pd.to_datetime(df['Expiry_date']).dt.date \n",
    "\n",
    "# Adding option ID\n",
    "df[\"Option_ID\"] = df[\"Expiry_date\"].astype(str) + \"-\" + df[\"Strike\"].astype(str)\n",
    "\n",
    "df_original = df[(df[\"Quote_date\"] >= pd.to_datetime(\"2018-01-01\").date()) & \n",
    "                 (df[\"Quote_date\"] <= pd.to_datetime(\"2019-01-01\").date())]\n",
    "\n",
    "df = df[(df[\"Expiry_date\"] >= pd.to_datetime(\"2018-01-01\").date()) & \n",
    "        (df[\"Expiry_date\"] <= pd.to_datetime(\"2018-12-31\").date())]\n",
    "\n",
    "df = df[(df[\"Quote_date\"] >= pd.to_datetime(\"2018-01-01\").date()) & \n",
    "        (df[\"Quote_date\"] <= pd.to_datetime(\"2018-12-31\").date())]\n"
   ]
  },
  {
   "attachments": {},
   "cell_type": "markdown",
   "metadata": {},
   "source": [
    "Adding TTM=0 row"
   ]
  },
  {
   "cell_type": "code",
   "execution_count": null,
   "metadata": {},
   "outputs": [],
   "source": [
    "# Sort the dataframe by Quote_date and Expiry_date\n",
    "df = df.sort_values(['Quote_date', 'Expiry_date'])\n",
    "\n",
    "groups = df.groupby(['Expiry_date', 'Strike'])\n",
    "\n",
    "for _, group in groups:\n",
    "\n",
    "    # Sort group so that the last row is the one with the lowest TTM\n",
    "    group = group.sort_values('TTM', ascending=False)\n",
    "\n",
    "    # Taking row from option group (could be any) to be used in getting the Strike price\n",
    "    last_row = group.iloc[-1]\n",
    "    \n",
    "    expiry_date = last_row['Expiry_date']\n",
    "    # Get the underlying price on the day of expiry\n",
    "\n",
    "    if expiry_date not in df_original['Quote_date'].values:\n",
    "        print(\"Expiry date not in df_original: \", expiry_date)\n",
    "        print(\"Weekday: \", expiry_date.weekday())\n",
    "        # Delete group from df\n",
    "        df = df.drop(group.index)\n",
    "        continue\n",
    "\n",
    "    underlying_last_on_expiry = df_original.loc[df_original['Quote_date'] == expiry_date, 'Underlying_last'].iloc[0]\n",
    "    # Calculate the intrinsic value\n",
    "    intrinsic_value = np.maximum(underlying_last_on_expiry - last_row['Strike'], 0)\n",
    "\n",
    "    new_row = last_row.copy()\n",
    "    new_row['Quote_date'] = expiry_date\n",
    "    new_row['Expiry_date'] = expiry_date\n",
    "    new_row['TTM'] = 0\n",
    "    new_row['Underlying_last'] = underlying_last_on_expiry\n",
    "    new_row['Price'] = intrinsic_value\n",
    "\n",
    "    df = df.append(new_row, ignore_index=True)\n",
    "\n",
    "# Sort the dataframe by Quote_date and Expiry_date\n",
    "df = df.sort_values(['Quote_date', 'Expiry_date'])"
   ]
  },
  {
   "attachments": {},
   "cell_type": "markdown",
   "metadata": {},
   "source": [
    "### Functions"
   ]
  },
  {
   "cell_type": "code",
   "execution_count": null,
   "metadata": {},
   "outputs": [],
   "source": [
    "def generate_buy_sell_signals(df, buy_threshold, sell_threshold):\n",
    "    buy_signal = (df['Prediction'] / df['Price']) >= buy_threshold\n",
    "    sell_signal = (df['Price'] / df['Prediction']) >= sell_threshold\n",
    "    return buy_signal, sell_signal\n",
    "\n",
    "\n",
    "def trader(df, buy_signal, sell_signal, starting_balance, price_cap_lower, ttm_cap_lower):\n",
    "    df = df.copy()\n",
    "    # Filter out options that expire before the last quote date\n",
    "    last_date = df['Quote_date'].max()\n",
    "    df = df[df['Expiry_date'] <= last_date]\n",
    "\n",
    "    df = df[df[\"TTM\"] >= ttm_cap_lower]\n",
    "    \n",
    "    df['Signal'] = 0\n",
    "    df.loc[buy_signal, 'Signal'] = 1\n",
    "    df.loc[sell_signal, 'Signal'] = -1\n",
    "    df['Position_this_opt'] = 0\n",
    "    df['Balance'] = starting_balance  # Initialize Balance column with starting_balance\n",
    "    df['Profit'] = 0\n",
    "\n",
    "    quote_date_grouped = df.groupby('Quote_date')\n",
    "\n",
    "    balance = starting_balance\n",
    "\n",
    "    for quote_date, group in quote_date_grouped:\n",
    "        group = group.sample(frac=1)\n",
    "\n",
    "        for _, row in group.iterrows():\n",
    "            # Don't consider options with a price lower than 3\n",
    "            if row['Price'] < price_cap_lower:\n",
    "                continue\n",
    "\n",
    "            option_position = df.loc[(df['Option_ID'] == row['Option_ID']) & (df['Quote_date'] <= row['Quote_date']), 'Position_this_opt'].iloc[-1]\n",
    "\n",
    "            # Buy the option\n",
    "            if row['Signal'] == 1 and balance >= row['Price'] and row[\"Quote_date\"] != row[\"Expiry_date\"]:\n",
    "                balance -= row['Price']\n",
    "                option_position += 1\n",
    "                # Directly update values in the original dataframe\n",
    "                df.loc[(df['Option_ID'] == row['Option_ID']) & (df['Quote_date'] == row['Quote_date']), 'Position_this_opt'] = option_position\n",
    "                df.loc[(df['Option_ID'] == row['Option_ID']) & (df['Quote_date'] == row['Quote_date']), 'Balance'] = balance\n",
    "\n",
    "            # Sell the option\n",
    "            elif row['Signal'] == -1 and row[\"Quote_date\"] != row[\"Expiry_date\"] and balance > 0:\n",
    "                balance += row['Price']\n",
    "                option_position -= 1\n",
    "                # Directly update values in the original dataframe\n",
    "                df.loc[(df['Option_ID'] == row['Option_ID']) & (df['Quote_date'] == row['Quote_date']), 'Position_this_opt'] = option_position\n",
    "                df.loc[(df['Option_ID'] == row['Option_ID']) & (df['Quote_date'] == row['Quote_date']), 'Balance'] = balance\n",
    "\n",
    "            # Option expires\n",
    "            elif row[\"Quote_date\"] == row[\"Expiry_date\"] and option_position != 0:\n",
    "                intrinsic_value = max(0, row['Underlying_last'] - row['Strike'])\n",
    "                adjustment = intrinsic_value if option_position >= 1 else -intrinsic_value\n",
    "                balance += adjustment * abs(option_position)\n",
    "                option_position = 0\n",
    "                # Directly update values in the original dataframe\n",
    "                df.loc[(df['Option_ID'] == row['Option_ID']) & (df['Quote_date'] == row['Quote_date']), 'Position_this_opt'] = option_position\n",
    "                df.loc[(df['Option_ID'] == row['Option_ID']) & (df['Quote_date'] == row['Quote_date']), 'Balance'] = balance\n",
    "\n",
    "            df.loc[(df['Quote_date'] == quote_date) & (df['Position_this_opt'] == 0), 'Balance'] = balance\n",
    "        \n",
    "        # Print date and balance if quote_date is 1. january, 1. april, 1. july or 1. october\n",
    "        if quote_date.day == 1 or quote_date.day == 15:\n",
    "            print(\"On, {}, the balance is: {}\".format(quote_date, balance))\n",
    "    return df\n",
    "\n",
    "\n",
    "def calculate_options_value(df):\n",
    "    df['Options_value'] = 0\n",
    "    # Iterate over every Quote_date\n",
    "    for date in df['Quote_date'].unique():\n",
    "        # For every Quote date, multiply each row's Position_this_opt with the Price and sum it up.\n",
    "        options_value_sum = (df.loc[df['Quote_date'] == date, 'Position_this_opt'] * df.loc[df['Quote_date'] == date, 'Price']).sum()\n",
    "        # The result should be added to every row with the same Quote_date in the Options_value\n",
    "        df.loc[df['Quote_date'] == date, 'Options_value'] = options_value_sum\n",
    "    df['Total_value'] = df['Balance'] + df['Options_value']\n",
    "    return df"
   ]
  },
  {
   "attachments": {},
   "cell_type": "markdown",
   "metadata": {},
   "source": [
    "### Run code"
   ]
  },
  {
   "cell_type": "code",
   "execution_count": null,
   "metadata": {},
   "outputs": [],
   "source": [
    "def print_results(df, starting_balance):\n",
    "    print(\"Starting balance\", starting_balance)\n",
    "    print(\"Ending balance\", df['Balance'].iloc[-1])\n",
    "    print(\"Number of trades\", df['Signal'].abs().sum())\n",
    "    profit = df['Balance'].iloc[-1] - starting_balance\n",
    "    print(\"Profit\", profit)\n",
    "    print(\"Profit per trade\", profit / df['Signal'].abs().sum())\n",
    "    print(\"Profit per day\", profit / (df['Quote_date'].max() - df['Quote_date'].min()).days)\n",
    "    num_days = (df['Quote_date'].max() - df['Quote_date'].min()).days\n",
    "    print(\"Number of days\", num_days)\n",
    "    print(\"Sharpe ratio: \", sharpe_ratio2(df))"
   ]
  },
  {
   "cell_type": "code",
   "execution_count": null,
   "metadata": {},
   "outputs": [],
   "source": [
    "def sharpe_ratio(df):\n",
    "    df = df.copy()\n",
    "    # Group by Quote_date and keep the last row of each group\n",
    "    df = df.groupby('Quote_date').last()\n",
    "    # Calculate daily returns\n",
    "    df['Daily_Returns'] = df['Total_value'].pct_change()\n",
    "    # Convert the annual risk-free rate to a daily rate\n",
    "    df['Daily_Rf'] = (1 + df['R'])**(1/252) - 1\n",
    "    # Calculate the excess returns\n",
    "    excess_returns = df['Daily_Returns'] - df['Daily_Rf']\n",
    "    # Calculate sharpe ratio\n",
    "    sharpe_ratio = np.sqrt(252) * (excess_returns.mean() / excess_returns.std())\n",
    "    return sharpe_ratio"
   ]
  },
  {
   "cell_type": "code",
   "execution_count": null,
   "metadata": {},
   "outputs": [],
   "source": [
    "def sharpe_ratio2(df, rf=0.02):\n",
    "    df = df.copy()\n",
    "\n",
    "    # Calculate daily returns\n",
    "    df['Daily_Returns'] = df['Total_value'].pct_change()\n",
    "\n",
    "    starting_balance = df['Balance'].iloc[0]\n",
    "    ending_balance = df['Balance'].iloc[-1]\n",
    "\n",
    "    num_days = (df['Quote_date'].max() - df['Quote_date'].min()).days\n",
    "\n",
    "    avg_daily_return = (ending_balance / starting_balance)**(1/num_days) - 1\n",
    "\n",
    "    avg_daily_return_excess = avg_daily_return - rf / 252\n",
    "\n",
    "    df[\"Excess_Returns\"] = df[\"Daily_Returns\"] - rf / 252\n",
    "\n",
    "    std_daily_excess_return = df[\"Excess_Returns\"].std()\n",
    "\n",
    "    sharpe_ratio = np.sqrt(252) * (avg_daily_return_excess / std_daily_excess_return)\n",
    "\n",
    "    return sharpe_ratio"
   ]
  },
  {
   "cell_type": "code",
   "execution_count": null,
   "metadata": {},
   "outputs": [],
   "source": [
    "if run_optimizing == False:\n",
    "    df = df.copy()\n",
    "    buy_signal, sell_signal = generate_buy_sell_signals(df, buy_threshold, sell_threshold)\n",
    "    df = trader(df, buy_signal, sell_signal, starting_balance, price_cap_lower, ttm_cap_lower)\n",
    "    df = calculate_options_value(df)\n",
    "    print_results(df, starting_balance)"
   ]
  },
  {
   "attachments": {},
   "cell_type": "markdown",
   "metadata": {},
   "source": [
    "### Analysis"
   ]
  },
  {
   "cell_type": "code",
   "execution_count": null,
   "metadata": {},
   "outputs": [],
   "source": [
    "def plot(df):\n",
    "    # Just keep one row per Quote_date, and that should be the last row\n",
    "    df = df.groupby('Quote_date').last()\n",
    "    plt.plot(df['Total_value'], label='Total value')\n",
    "    plt.plot(df['Balance'], label='Balance')\n",
    "    plt.plot(df['Options_value'], label='Options value')\n",
    "    plt.title('Portfolio value over time')\n",
    "    # Make plot smaller\n",
    "    ax = plt.gca()\n",
    "    plt.xticks(rotation=45)\n",
    "    plt.legend()\n",
    "    plt.show()"
   ]
  },
  {
   "cell_type": "code",
   "execution_count": null,
   "metadata": {},
   "outputs": [],
   "source": [
    "if run_optimizing == False:\n",
    "    plot(df)"
   ]
  },
  {
   "attachments": {},
   "cell_type": "markdown",
   "metadata": {},
   "source": [
    "### Finding best thresholds"
   ]
  },
  {
   "cell_type": "code",
   "execution_count": null,
   "metadata": {},
   "outputs": [],
   "source": [
    "if run_optimizing:\n",
    "    # Initialize wandb\n",
    "    !pip install wandb\n",
    "    import wandb\n",
    "    wandb.login(key=\"b47bcf387a0571c5520c58a13be35cda8ada0a99\")\n",
    "\n",
    "    # Define the hyperparameters\n",
    "    sweep_config = {\n",
    "    'method': 'grid',\n",
    "    'name': 'Latest pricing model - All of 2019',\n",
    "    'metric': {\n",
    "        'goal': 'maximize', \n",
    "        'name': 'sharpe_ratio'\n",
    "        },\n",
    "    'parameters': {\n",
    "        'buy_threshold': {\n",
    "            'values': [1.01, 1.02, 1.04, 1.06, 1.1]},\n",
    "        'sell_threshold': {\n",
    "            'values': [1.01, 1.02, 1.04, 1.06, 1.1]},\n",
    "        'starting_balance': {\n",
    "            'values': [1000000]},\n",
    "        'price_cap_lower': {\n",
    "            'values': [0, 1, 3, 5]},\n",
    "        'ttm_cap_lower': {\n",
    "            'values': [0, 1, 3, 5]},\n",
    "        }\n",
    "    }\n",
    "    sweep_id = wandb.sweep(sweep=sweep_config, project='options-trading') \n"
   ]
  },
  {
   "cell_type": "code",
   "execution_count": null,
   "metadata": {},
   "outputs": [],
   "source": [
    "if run_optimizing:\n",
    "    def find_best_thresholds(df = df):\n",
    "        run = wandb.init(project = \"options-trading\")\n",
    "        df = df.copy()\n",
    "        buy_signal, sell_signal = generate_buy_sell_signals(df, run.config.buy_threshold, run.config.sell_threshold)\n",
    "        df = trader(df, buy_signal, sell_signal, run.config.starting_balance, price_cap_lower = run.config.price_cap_lower, ttm_cap_lower = run.config.ttm_cap_lower)\n",
    "        df = calculate_options_value(df)\n",
    "        run.log({\"buy_threshold\": run.config.buy_threshold, \"sell_threshold\": run.config.sell_threshold, \"sharpe_ratio\": sharpe_ratio2(df), \"starting_balance\": run.config.starting_balance, \"ending_balance\": df['Balance'].iloc[-1], \"number_of_trades\": df['Signal'].abs().sum()})\n",
    "        # Wandb callback\n",
    "        print(\"buy_threshold\", run.config.buy_threshold)\n",
    "        print(\"sell_threshold\", run.config.sell_threshold)\n",
    "        print(\"starting_balance\", run.config.starting_balance)\n",
    "        print(\"Ending balance\", df['Balance'].iloc[-1])\n",
    "        print(\"Number of trades\", df['Signal'].abs().sum())\n",
    "        print(\"sharpe_ratio\", sharpe_ratio(df))\n",
    "        plot(df)\n",
    "        run.finish()\n",
    "\n",
    "    wandb.agent(sweep_id=sweep_id, function=find_best_thresholds, project='options-trading', count = 1000)"
   ]
  }
 ],
 "metadata": {
  "kernelspec": {
   "display_name": "Python 3",
   "language": "python",
   "name": "python3"
  },
  "language_info": {
   "codemirror_mode": {
    "name": "ipython",
    "version": 3
   },
   "file_extension": ".py",
   "mimetype": "text/x-python",
   "name": "python",
   "nbconvert_exporter": "python",
   "pygments_lexer": "ipython3",
   "version": "3.10.9"
  },
  "orig_nbformat": 4
 },
 "nbformat": 4,
 "nbformat_minor": 2
}
