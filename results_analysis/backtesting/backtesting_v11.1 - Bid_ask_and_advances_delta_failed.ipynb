{
 "cells": [
  {
   "attachments": {},
   "cell_type": "markdown",
   "metadata": {},
   "source": [
    "### Imports"
   ]
  },
  {
   "cell_type": "code",
   "execution_count": 1,
   "metadata": {},
   "outputs": [],
   "source": [
    "import pandas as pd\n",
    "import datetime\n",
    "import os\n",
    "import sys\n",
    "import math\n",
    "import matplotlib.pyplot as plt\n",
    "import numpy as np\n",
    "import warnings\n",
    "from pandas.errors import SettingWithCopyWarning\n",
    "from pandas import to_datetime\n",
    "import statsmodels.api as sm\n",
    "from statsmodels import regression\n",
    "from sklearn.linear_model import LinearRegression\n",
    "\n",
    "\n",
    "warnings.simplefilter(action='ignore', category=SettingWithCopyWarning)            "
   ]
  },
  {
   "attachments": {},
   "cell_type": "markdown",
   "metadata": {},
   "source": [
    "### Parameters"
   ]
  },
  {
   "cell_type": "code",
   "execution_count": 2,
   "metadata": {},
   "outputs": [],
   "source": [
    "buy_threshold = 1.1\n",
    "sell_threshold = 1.1\n",
    "starting_balance = 10000000\n",
    "price_cap_lower = 1\n",
    "investment_ratio = 0.0005\n",
    "\n",
    "run_optimizing = False\n",
    "google_colab = False"
   ]
  },
  {
   "attachments": {},
   "cell_type": "markdown",
   "metadata": {},
   "source": [
    "### Data loading"
   ]
  },
  {
   "cell_type": "code",
   "execution_count": 3,
   "metadata": {},
   "outputs": [],
   "source": [
    "if google_colab:\n",
    "    from google.colab import drive\n",
    "    drive.mount('/content/drive')\n",
    "    !pip install -U -q PyDrive\n",
    "    from pydrive.auth import GoogleAuth\n",
    "    from pydrive.drive import GoogleDrive\n",
    "    from google.colab import auth\n",
    "    from oauth2client.client import GoogleCredentials\n",
    "    # Authenticate and create the PyDrive client.\n",
    "    auth.authenticate_user()\n",
    "    gauth = GoogleAuth()\n",
    "    gauth.credentials = GoogleCredentials.get_application_default()\n",
    "    drive = GoogleDrive(gauth)\n",
    "    id = \"15eesIDv1QR3465iekfFG52v-HIYheguO\"\n",
    "    downloaded = drive.CreateFile({'id':id}) \n",
    "    downloaded.GetContentFile('11.05 1 mnd test sett full model run_with_TTM0_Q1and2_2018_filtered_missing.csv')  \n",
    "    df = pd.read_csv('11.05 1 mnd test sett full model run_with_TTM0_Q1and2_2018_filtered_missing.csv')\n",
    "else:\n",
    "    # Set the path to the root directory\n",
    "    path = os.path.abspath(os.path.join(os.getcwd(), '../..'))\n",
    "    # Read dataframes using Dask\n",
    "    df = pd.read_csv(path + '/data/trading/Full trading data - All models.csv')"
   ]
  },
  {
   "cell_type": "code",
   "execution_count": 4,
   "metadata": {},
   "outputs": [],
   "source": [
    "# Drop Expire_date column\n",
    "df.drop('Expire_date', axis=1, inplace=True)"
   ]
  },
  {
   "cell_type": "code",
   "execution_count": 5,
   "metadata": {},
   "outputs": [],
   "source": [
    "# Filter so its just data for 2015\n",
    "df = df[(df[\"Quote_date\"] >= \"2018-01-01\") & (df[\"Quote_date\"] <= \"2018-04-31\")]\n",
    "df = df[(df[\"Expiry_date\"] >= \"2018-01-01\") & (df[\"Expiry_date\"] <= \"2018-04-31\")]"
   ]
  },
  {
   "cell_type": "code",
   "execution_count": 6,
   "metadata": {},
   "outputs": [],
   "source": [
    "lstm_mlp = True\n",
    "bs_rolling = False\n",
    "bs_garch = False\n",
    "bs_iv = False\n",
    "heston = False\n",
    "\n",
    "if lstm_mlp:\n",
    "    # Out of Quote_date\tExpire_date\tPrice\tBid\tAsk\tUnderlying_last\tStrike\tTTM\tDelta\tIV\tR\tPrice_drop\tRolling\tGARCH\tBS-IV\tHeston\tLSTM-MLP, drop Rolling, GARCH, BS-IV, Heston\n",
    "    df = df[['Quote_date', 'Expiry_date', 'Price', 'Bid', 'Ask', 'Underlying_last', 'Strike', 'TTM', 'Delta', 'IV', 'R', 'Price_drop', 'Option_ID', 'LSTM-MLP']]\n",
    "    # Rename LSTM-MLP to Prediction\n",
    "    df = df.rename(columns={'LSTM-MLP': 'Prediction'})\n",
    "elif bs_rolling:\n",
    "    df = df[['Quote_date', 'Expiry_date', 'Price', 'Bid', 'Ask', 'Underlying_last', 'Strike', 'TTM', 'Delta', 'IV', 'R', 'Price_drop', 'Option_ID', 'Rolling']]\n",
    "    df = df.rename(columns={'Rolling': 'Prediction'})\n",
    "elif bs_garch:\n",
    "    df = df[['Quote_date', 'Expiry_date', 'Price', 'Bid', 'Ask', 'Underlying_last', 'Strike', 'TTM', 'Delta', 'IV', 'R', 'Price_drop', 'Option_ID', 'GARCH']]\n",
    "    df = df.rename(columns={'GARCH': 'Prediction'})\n",
    "elif bs_iv:\n",
    "    df = df[['Quote_date', 'Expiry_date', 'Price', 'Bid', 'Ask', 'Underlying_last', 'Strike', 'TTM', 'Delta', 'IV', 'R', 'Price_drop', 'Option_ID', 'BS-IV']]\n",
    "    df = df.rename(columns={'BS-IV': 'Prediction'})\n",
    "elif heston:\n",
    "    df = df[['Quote_date', 'Expiry_date', 'Price', 'Bid', 'Ask', 'Underlying_last', 'Strike', 'TTM', 'Delta', 'IV', 'R', 'Price_drop', 'Option_ID', 'Heston']]\n",
    "    df = df.rename(columns={'Heston': 'Prediction'})"
   ]
  },
  {
   "attachments": {},
   "cell_type": "markdown",
   "metadata": {},
   "source": [
    "### Data processing"
   ]
  },
  {
   "cell_type": "code",
   "execution_count": 7,
   "metadata": {},
   "outputs": [],
   "source": [
    "df[\"TTM\"] = (df[\"TTM\"]*365).astype(int)"
   ]
  },
  {
   "cell_type": "code",
   "execution_count": 8,
   "metadata": {},
   "outputs": [
    {
     "name": "stdout",
     "output_type": "stream",
     "text": [
      "225915\n"
     ]
    }
   ],
   "source": [
    "print(len(df))"
   ]
  },
  {
   "attachments": {},
   "cell_type": "markdown",
   "metadata": {},
   "source": [
    "# Trading functions"
   ]
  },
  {
   "cell_type": "code",
   "execution_count": 9,
   "metadata": {},
   "outputs": [],
   "source": [
    "def generate_buy_sell_signals(df, buy_threshold, sell_threshold):\n",
    "    buy_signal = (df['Prediction'] / df['Price']) >= buy_threshold\n",
    "    sell_signal = (df['Price'] / df['Prediction']) >= sell_threshold\n",
    "    return buy_signal, sell_signal\n",
    "\n",
    "\n",
    "def trader(df, buy_signal, sell_signal, starting_balance, price_cap_lower, investment_ratio = 0.002):\n",
    "    df['Expiry_date'] = pd.to_datetime(df['Expiry_date'])\n",
    "    df['Quote_date'] = pd.to_datetime(df['Quote_date'])\n",
    "    df = df[df['Expiry_date'] <= df['Quote_date'].max()]\n",
    "    \n",
    "    df['Signal'] = 0\n",
    "    df.loc[buy_signal, 'Signal'] = 1\n",
    "    df.loc[sell_signal, 'Signal'] = -1\n",
    "\n",
    "    df['Position_this_opt'] = 0\n",
    "    df['Balance'] = -1000000    # Makes it easy to spot if balance has not been updated correctly\n",
    "\n",
    "    df = df.sort_values('Quote_date')\n",
    "    df['Option_ID'] = df['Option_ID'].astype(str)\n",
    "\n",
    "    position_dict = {id:0 for id in df['Option_ID'].unique()}\n",
    "    first_date = df['Quote_date'].min()\n",
    "    total_balance_dict = {first_date: starting_balance}\n",
    "\n",
    "\n",
    "    net_delta = 1\n",
    "\n",
    "    def recalculate_net_delta(df):\n",
    "        global net_delta\n",
    "        net_delta = 0\n",
    "        for id, position in position_dict.items():\n",
    "            if position != 0:\n",
    "                option_delta = df[df['Option_ID'] == id]['Delta'].iloc[-1]\n",
    "                net_delta += option_delta * position\n",
    "                print(\"Net delta: \", net_delta)\n",
    "\n",
    "    def operation(row):\n",
    "        global net_delta\n",
    "        if row['Quote_date'] != df['Quote_date'].iloc[row.name - 1] if row.name > 0 else False:\n",
    "            recalculate_net_delta(df)\n",
    "            \n",
    "        if row['Quote_date'] not in total_balance_dict.keys():\n",
    "            total_balance_dict[row['Quote_date']] = total_balance_dict[max(total_balance_dict.keys())]\n",
    "\n",
    "        balance = total_balance_dict[row['Quote_date']]\n",
    "        position = position_dict[row['Option_ID']]\n",
    "\n",
    "        if row[\"Price\"] < price_cap_lower:\n",
    "            row[\"Position_this_opt\"] = position\n",
    "            row[\"Balance\"] = balance\n",
    "            position_dict[row['Option_ID']] = position\n",
    "            total_balance_dict[row['Quote_date']] = balance\n",
    "            return row\n",
    "        \n",
    "\n",
    "        # Buy\n",
    "        if row['Signal'] == 1 and position < 1 and row[\"Quote_date\"] != row[\"Expiry_date\"] and balance > 100:\n",
    "            # Before buying\n",
    "            new_delta = net_delta + row['Delta'] * (amount_to_invest / row['Price'])\n",
    "            if abs(new_delta) < abs(net_delta):\n",
    "                amount_to_invest = balance * investment_ratio\n",
    "                if amount_to_invest <= balance:\n",
    "                    balance -= amount_to_invest * (1 + investment_ratio)\n",
    "                    position += amount_to_invest / row['Price']\n",
    "                    net_delta += row['Delta'] * position\n",
    "\n",
    "        # Sell\n",
    "        elif row['Signal'] == -1 and position > -1 and row[\"Quote_date\"] != row[\"Expiry_date\"] and balance > 100:\n",
    "            new_delta = net_delta - row['Delta'] * (amount_to_sell / row['Price'])\n",
    "            if abs(new_delta) < abs(net_delta):\n",
    "                amount_to_sell = balance * investment_ratio\n",
    "                balance += amount_to_sell * (1 - investment_ratio)\n",
    "                position -= amount_to_sell / row['Price']\n",
    "                net_delta -= row['Delta'] * position\n",
    "\n",
    "        # Expiry\n",
    "        elif row[\"Quote_date\"] == row[\"Expiry_date\"] and position != 0:\n",
    "            intrinsic_value = max(0, row['Underlying_last'] - row['Strike'])\n",
    "            adjustment = intrinsic_value if position > 0 else -intrinsic_value\n",
    "            balance += adjustment * abs(position)\n",
    "            position = 0\n",
    "            net_delta -= row['Delta'] * position\n",
    "        \n",
    "        \n",
    "        row['Position_this_opt'] = position\n",
    "        position_dict[row['Option_ID']] = position\n",
    "        total_balance_dict[row['Quote_date']] = balance\n",
    "        row['Balance'] = balance\n",
    "\n",
    "        # Print progress\n",
    "        if row.name % 100000 == 0:\n",
    "            print(row[\"Quote_date\"])\n",
    "        return row\n",
    "\n",
    "    df = df.apply(operation, axis=1)\n",
    "    df.loc[(df['Position_this_opt'] == 0), 'Balance'] = df['Quote_date'].map(total_balance_dict)\n",
    "\n",
    "    return df\n",
    "\n",
    "def calculate_options_value(df):\n",
    "    df['Options_value'] = 0\n",
    "    for date in df['Quote_date'].unique():\n",
    "        options_value_sum = (df.loc[df['Quote_date'] == date, 'Position_this_opt'] * df.loc[df['Quote_date'] == date, 'Price']).sum()\n",
    "        df.loc[df['Quote_date'] == date, 'Options_value'] = options_value_sum\n",
    "    df['Total_value'] = df['Balance'] + df['Options_value']\n",
    "    return df\n"
   ]
  },
  {
   "attachments": {},
   "cell_type": "markdown",
   "metadata": {},
   "source": [
    "### Analysis functions"
   ]
  },
  {
   "cell_type": "code",
   "execution_count": 10,
   "metadata": {},
   "outputs": [],
   "source": [
    "def sharpe_ratio(df):\n",
    "    df_group = df.groupby('Quote_date').last()\n",
    "    df_group['Excess_Returns'] = df_group['Total_value'].pct_change() - 0.02 / 252\n",
    "    sharpe_ratio = np.sqrt(252) * (df_group[\"Excess_Returns\"].mean() / df_group[\"Excess_Returns\"].std())\n",
    "    return sharpe_ratio"
   ]
  },
  {
   "cell_type": "code",
   "execution_count": 11,
   "metadata": {},
   "outputs": [],
   "source": [
    "def sharpe_ratio_monthly(df):\n",
    "    df_sharpe = df.copy()\n",
    "\n",
    "    # Get YYYY-MM for each row\n",
    "    df_sharpe[\"YYYY-MM\"] = df_sharpe[\"Quote_date\"].dt.strftime(\"%Y-%m\")\n",
    "    df_sharpe = df_sharpe.groupby(\"YYYY-MM\").last()\n",
    "    df_sharpe[\"Excess_Returns\"] = df_sharpe[\"Total_value\"].pct_change() - 0.02 / 12\n",
    "    sharpe_ratio = np.sqrt(12) * (df_sharpe[\"Excess_Returns\"].mean() / df_sharpe[\"Excess_Returns\"].std())\n",
    "    return sharpe_ratio "
   ]
  },
  {
   "cell_type": "code",
   "execution_count": 12,
   "metadata": {},
   "outputs": [],
   "source": [
    "def capm_alpha(df_capm):\n",
    "    # Find alpha in the CAPM model using linear regression and grouping df by Quote_date, then taking the alpha of Total_value compared to Underlying_last which is the S&P500\n",
    "    df_capm = df_capm.groupby('Quote_date').last()\n",
    "    df_capm = df_capm[['Total_value', 'Underlying_last']]\n",
    "    df_capm = df_capm.dropna()\n",
    "    df_capm['Underlying_last'] = df_capm['Underlying_last'].pct_change()\n",
    "    df_capm['Total_value'] = df_capm['Total_value'].pct_change()\n",
    "    df_capm = df_capm.dropna()\n",
    "    df_capm = df_capm.reset_index()\n",
    "    df_capm = df_capm.drop(columns=['Quote_date'])\n",
    "    df_capm = df_capm.dropna()\n",
    "    X = df_capm['Underlying_last'].values.reshape(-1, 1)\n",
    "    y = df_capm['Total_value'].values.reshape(-1, 1)\n",
    "    reg = LinearRegression().fit(X, y)\n",
    "    return reg.intercept_[0] * 252"
   ]
  },
  {
   "cell_type": "code",
   "execution_count": 13,
   "metadata": {},
   "outputs": [],
   "source": [
    "def capm_beta(df_capm):\n",
    "    # Find beta in the CAPM model using linear regression and grouping df by Quote_date, then taking the beta of Total_value compared to Underlying_last which is the S&P500\n",
    "    df_capm = df_capm.groupby('Quote_date').last()\n",
    "    df_capm = df_capm[['Total_value', 'Underlying_last']]\n",
    "    df_capm = df_capm.dropna()\n",
    "    df_capm['Underlying_last'] = df_capm['Underlying_last'].pct_change()\n",
    "    df_capm['Total_value'] = df_capm['Total_value'].pct_change()\n",
    "    df_capm = df_capm.dropna()\n",
    "    df_capm = df_capm.reset_index()\n",
    "    df_capm = df_capm.drop(columns=['Quote_date'])\n",
    "    df_capm = df_capm.dropna()\n",
    "    X = df_capm['Underlying_last'].values.reshape(-1, 1)\n",
    "    y = df_capm['Total_value'].values.reshape(-1, 1)\n",
    "    reg = LinearRegression().fit(X, y)\n",
    "    return reg.coef_[0][0] * 252"
   ]
  },
  {
   "cell_type": "code",
   "execution_count": 14,
   "metadata": {},
   "outputs": [],
   "source": [
    "def max_drawdown(df):\n",
    "    df_group = df.groupby('Quote_date').last()\n",
    "    df_group['Roll_Max'] = df_group['Total_value'].cummax()\n",
    "    df_group['Drawdown'] = df_group['Total_value'] / df_group['Roll_Max'] - 1.0\n",
    "    df_group['Drawdown'].min()\n",
    "    return df_group['Drawdown'].min() * 100"
   ]
  },
  {
   "cell_type": "code",
   "execution_count": 15,
   "metadata": {},
   "outputs": [],
   "source": [
    "def print_results(df, starting_balance):\n",
    "    ending_balance = df['Balance'].iloc[-1]\n",
    "    profit = ending_balance - starting_balance\n",
    "    num_trades = df[df[\"Price\"] > 1][\"Signal\"].abs().sum()\n",
    "    profit_per_trade = profit / num_trades\n",
    "\n",
    "    df['Quote_date'] = pd.to_datetime(df['Quote_date'])\n",
    "    trading_days = df['Quote_date'].unique().shape[0] - 1\n",
    "    profit_per_day = profit / trading_days\n",
    "    num_days = (df['Quote_date'].max() - df['Quote_date'].min()).days\n",
    "\n",
    "    annualized_return = ((ending_balance / starting_balance)**(365/num_days) - 1)*100\n",
    "\n",
    "    print(f\"Starting balance: {starting_balance}\")\n",
    "    print(f\"Ending balance: {ending_balance.round(0)}\")\n",
    "    print(f\"Profit: {profit.round(0)}\")\n",
    "    print(f\"Profit per trade: {profit_per_trade.round(2)}\")\n",
    "    print(f\"Profit per trading day: {profit_per_day.round(2)}\")\n",
    "    print(f\"Sharpe ratio: {sharpe_ratio_monthly(df).round(2)}\")\n",
    "    print(f\"CAPM alpha: {capm_alpha(df).round(2)}\")\n",
    "    print(f\"Annualized return in percent: {annualized_return.round(2)}\")\n",
    "    print(f\"Max drawdown: {max_drawdown(df).round(2)}\")"
   ]
  },
  {
   "cell_type": "code",
   "execution_count": 16,
   "metadata": {},
   "outputs": [],
   "source": [
    "def plot(df):\n",
    "    # Just keep one row per Quote_date, and that should be the last row\n",
    "    df = df.groupby('Quote_date').last()\n",
    "    plt.plot(df['Total_value'], label='Total value')\n",
    "    plt.plot(df['Balance'], label='Cash')\n",
    "    plt.plot(df['Options_value'], label='Net value of options')\n",
    "    plt.title('Portfolio value over time')\n",
    "    # Make plot smaller\n",
    "    ax = plt.gca()\n",
    "    plt.xticks(rotation=45)\n",
    "    plt.legend()\n",
    "    plt.show()"
   ]
  },
  {
   "attachments": {},
   "cell_type": "markdown",
   "metadata": {},
   "source": [
    "## Run the code"
   ]
  },
  {
   "cell_type": "code",
   "execution_count": 17,
   "metadata": {},
   "outputs": [
    {
     "ename": "NameError",
     "evalue": "name 'row' is not defined",
     "output_type": "error",
     "traceback": [
      "\u001b[0;31m---------------------------------------------------------------------------\u001b[0m",
      "\u001b[0;31mNameError\u001b[0m                                 Traceback (most recent call last)",
      "Cell \u001b[0;32mIn[17], line 4\u001b[0m\n\u001b[1;32m      2\u001b[0m df \u001b[39m=\u001b[39m df\u001b[39m.\u001b[39mcopy()\n\u001b[1;32m      3\u001b[0m buy_signal, sell_signal \u001b[39m=\u001b[39m generate_buy_sell_signals(df, buy_threshold, sell_threshold)\n\u001b[0;32m----> 4\u001b[0m df \u001b[39m=\u001b[39m trader(df, buy_signal, sell_signal, starting_balance, price_cap_lower, investment_ratio)\n\u001b[1;32m      5\u001b[0m df \u001b[39m=\u001b[39m calculate_options_value(df)\n\u001b[1;32m      6\u001b[0m print_results(df, starting_balance)\n",
      "Cell \u001b[0;32mIn[9], line 28\u001b[0m, in \u001b[0;36mtrader\u001b[0;34m(df, buy_signal, sell_signal, starting_balance, price_cap_lower, investment_ratio)\u001b[0m\n\u001b[1;32m     24\u001b[0m total_balance_dict \u001b[39m=\u001b[39m {first_date: starting_balance}\n\u001b[1;32m     27\u001b[0m net_delta \u001b[39m=\u001b[39m \u001b[39m1\u001b[39m\n\u001b[0;32m---> 28\u001b[0m \u001b[39mif\u001b[39;00m row[\u001b[39m'\u001b[39m\u001b[39mQuote_date\u001b[39m\u001b[39m'\u001b[39m] \u001b[39m!=\u001b[39m df[\u001b[39m'\u001b[39m\u001b[39mQuote_date\u001b[39m\u001b[39m'\u001b[39m]\u001b[39m.\u001b[39miloc[row\u001b[39m.\u001b[39mname \u001b[39m-\u001b[39m \u001b[39m1\u001b[39m] \u001b[39mif\u001b[39;00m row\u001b[39m.\u001b[39mname \u001b[39m>\u001b[39m \u001b[39m0\u001b[39m \u001b[39melse\u001b[39;00m \u001b[39mFalse\u001b[39;00m:\n\u001b[1;32m     29\u001b[0m     recalculate_net_delta(df)\n\u001b[1;32m     31\u001b[0m \u001b[39mdef\u001b[39;00m \u001b[39mrecalculate_net_delta\u001b[39m(df):\n",
      "\u001b[0;31mNameError\u001b[0m: name 'row' is not defined"
     ]
    }
   ],
   "source": [
    "if run_optimizing == False:\n",
    "    df = df.copy()\n",
    "    buy_signal, sell_signal = generate_buy_sell_signals(df, buy_threshold, sell_threshold)\n",
    "    df = trader(df, buy_signal, sell_signal, starting_balance, price_cap_lower, investment_ratio)\n",
    "    df = calculate_options_value(df)\n",
    "    print_results(df, starting_balance)"
   ]
  },
  {
   "attachments": {},
   "cell_type": "markdown",
   "metadata": {},
   "source": [
    "### Post analysis"
   ]
  },
  {
   "cell_type": "code",
   "execution_count": null,
   "metadata": {},
   "outputs": [
    {
     "data": {
      "image/png": "[encoded data removed]",
      "text/plain": [
       "<Figure size 640x480 with 1 Axes>"
      ]
     },
     "metadata": {},
     "output_type": "display_data"
    }
   ],
   "source": [
    "if run_optimizing == False:\n",
    "    plot(df)"
   ]
  },
  {
   "attachments": {},
   "cell_type": "markdown",
   "metadata": {},
   "source": [
    "## Threshold search"
   ]
  },
  {
   "cell_type": "code",
   "execution_count": null,
   "metadata": {},
   "outputs": [],
   "source": [
    "if run_optimizing:\n",
    "    # Initialize wandb\n",
    "    !pip install wandb\n",
    "    import wandb\n",
    "    wandb.login(key=\"b47bcf387a0571c5520c58a13be35cda8ada0a99\")\n",
    "\n",
    "    # Define the hyperparameters\n",
    "    sweep_config = {\n",
    "    'method': 'grid',\n",
    "    'name': '1H18 - v10 - test',\n",
    "    'metric': {\n",
    "        'goal': 'maximize', \n",
    "        'name': 'alpha'\n",
    "        },\n",
    "    'parameters': {\n",
    "        'buy_threshold': {\n",
    "            'values': [1.1, 1.06, 1.04, 1.02]},\n",
    "        'sell_threshold': {\n",
    "            'values': [1.1, 1.06, 1.04, 1.02]},\n",
    "        'price_cap_lower': {\n",
    "            'values': [1]},\n",
    "        'investment_ratio': {\n",
    "            'values': [0.000001]},\n",
    "        }\n",
    "    }\n",
    "    sweep_id = wandb.sweep(sweep=sweep_config, project='options-trading') \n"
   ]
  },
  {
   "cell_type": "code",
   "execution_count": null,
   "metadata": {},
   "outputs": [],
   "source": [
    "if run_optimizing:\n",
    "    def find_best_thresholds(df = df):\n",
    "        run = wandb.init(project = \"options-trading\")\n",
    "        df = df.copy()\n",
    "        buy_signal, sell_signal = generate_buy_sell_signals(df, run.config.buy_threshold, run.config.sell_threshold)\n",
    "        df = trader(df, buy_signal, sell_signal, starting_balance=100000, price_cap_lower = run.config.price_cap_lower, investment_ratio = run.config.investment_ratio)\n",
    "        df = calculate_options_value(df)\n",
    "        run.log({\"buy_threshold\": run.config.buy_threshold, \"sell_threshold\": run.config.sell_threshold, \"sharpe_ratio\": sharpe_ratio(df), \"ending_balance\": df['Balance'].iloc[-1], \"number_of_trades\": df['Signal'].abs().sum(), \"alpha\": capm_alpha(df)})\n",
    "        # Wandb callback\n",
    "        print_results(df, 100000)\n",
    "        plot(df)\n",
    "        run.finish()\n",
    "\n",
    "    wandb.agent(sweep_id=sweep_id, function=find_best_thresholds, project='options-trading', count = 1000)"
   ]
  }
 ],
 "metadata": {
  "kernelspec": {
   "display_name": "Python 3",
   "language": "python",
   "name": "python3"
  },
  "language_info": {
   "codemirror_mode": {
    "name": "ipython",
    "version": 3
   },
   "file_extension": ".py",
   "mimetype": "text/x-python",
   "name": "python",
   "nbconvert_exporter": "python",
   "pygments_lexer": "ipython3",
   "version": "3.9.13"
  },
  "orig_nbformat": 4
 },
 "nbformat": 4,
 "nbformat_minor": 2
}
