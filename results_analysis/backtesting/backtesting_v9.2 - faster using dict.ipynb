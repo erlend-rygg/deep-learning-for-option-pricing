{
 "cells": [
  {
   "attachments": {},
   "cell_type": "markdown",
   "metadata": {},
   "source": [
    "### Imports"
   ]
  },
  {
   "cell_type": "code",
   "execution_count": 77,
   "metadata": {},
   "outputs": [],
   "source": [
    "import pandas as pd\n",
    "import datetime\n",
    "import os\n",
    "import sys\n",
    "import math\n",
    "import matplotlib.pyplot as plt\n",
    "import numpy as np\n",
    "import warnings\n",
    "from pandas.errors import SettingWithCopyWarning\n",
    "\n",
    "\n",
    "warnings.simplefilter(action='ignore', category=SettingWithCopyWarning)"
   ]
  },
  {
   "attachments": {},
   "cell_type": "markdown",
   "metadata": {},
   "source": [
    "### Parameters"
   ]
  },
  {
   "cell_type": "code",
   "execution_count": 78,
   "metadata": {},
   "outputs": [],
   "source": [
    "buy_threshold = 1.06\n",
    "sell_threshold = 1.04\n",
    "starting_balance = 100000\n",
    "price_cap_lower = 0\n",
    "ttm_cap_lower = 0\n",
    "\n",
    "run_optimizing = True\n",
    "google_colab = False\n",
    "preparing_file = False\n",
    "write_file = False"
   ]
  },
  {
   "attachments": {},
   "cell_type": "markdown",
   "metadata": {},
   "source": [
    "### Data loading"
   ]
  },
  {
   "cell_type": "code",
   "execution_count": 79,
   "metadata": {},
   "outputs": [],
   "source": [
    "if google_colab:\n",
    "    from google.colab import drive\n",
    "    drive.mount('/content/drive')\n",
    "    !pip install -U -q PyDrive\n",
    "    from pydrive.auth import GoogleAuth\n",
    "    from pydrive.drive import GoogleDrive\n",
    "    from google.colab import auth\n",
    "    from oauth2client.client import GoogleCredentials\n",
    "    # Authenticate and create the PyDrive client.\n",
    "    auth.authenticate_user()\n",
    "    gauth = GoogleAuth()\n",
    "    gauth.credentials = GoogleCredentials.get_application_default()\n",
    "    drive = GoogleDrive(gauth)\n",
    "    id = \"15eesIDv1QR3465iekfFG52v-HIYheguO\"\n",
    "    downloaded = drive.CreateFile({'id':id}) \n",
    "    downloaded.GetContentFile('11.05 1 mnd test sett full model run_with_TTM0_Q1and2_2018_filtered_missing.csv')  \n",
    "    df = pd.read_csv('11.05 1 mnd test sett full model run_with_TTM0_Q1and2_2018_filtered_missing.csv')\n",
    "else:\n",
    "    # Set the path to the root directory\n",
    "    path = os.path.abspath(os.path.join(os.getcwd(), '../..'))\n",
    "    # Read dataframes using Dask\n",
    "    df = pd.read_csv(path + '/data/predictions/11.05 1 mnd test sett full model run_with_TTM0_Q1and2_2018_filtered_missing.csv')"
   ]
  },
  {
   "attachments": {},
   "cell_type": "markdown",
   "metadata": {},
   "source": [
    "### Data processing"
   ]
  },
  {
   "cell_type": "code",
   "execution_count": 80,
   "metadata": {},
   "outputs": [],
   "source": [
    "# Only keep 5% of the OptionID groups at random\n",
    "#df = df.groupby('Option_ID').apply(lambda x: x.sample(frac=0.05, random_state=1))"
   ]
  },
  {
   "cell_type": "code",
   "execution_count": 81,
   "metadata": {},
   "outputs": [
    {
     "name": "stdout",
     "output_type": "stream",
     "text": [
      "395030\n"
     ]
    }
   ],
   "source": [
    "print(len(df))"
   ]
  },
  {
   "cell_type": "code",
   "execution_count": 82,
   "metadata": {},
   "outputs": [],
   "source": [
    "if preparing_file:\n",
    "        # Dates\n",
    "        df['Expiry_date'] = pd.to_datetime(df['Quote_date']) + pd.to_timedelta(df['TTM'] * 365, unit='D')\n",
    "        df['Quote_date'] = pd.to_datetime(df['Quote_date']).dt.date \n",
    "        df['Expiry_date'] = pd.to_datetime(df['Expiry_date']).dt.date \n",
    "\n",
    "        # Adding option ID\n",
    "        df[\"Option_ID\"] = df[\"Expiry_date\"].astype(str) + \"-\" + df[\"Strike\"].astype(str)\n",
    "\n",
    "        df_original = df[(df[\"Quote_date\"] >= pd.to_datetime(\"2018-01-01\").date()) & \n",
    "                        (df[\"Quote_date\"] <= pd.to_datetime(\"2019-01-01\").date())]\n",
    "\n",
    "        df = df[(df[\"Expiry_date\"] >= pd.to_datetime(\"2018-01-01\").date()) & \n",
    "                (df[\"Expiry_date\"] <= pd.to_datetime(\"2018-12-31\").date())]\n",
    "\n",
    "        df = df[(df[\"Quote_date\"] >= pd.to_datetime(\"2018-01-01\").date()) & \n",
    "                (df[\"Quote_date\"] <= pd.to_datetime(\"2018-12-31\").date())]\n"
   ]
  },
  {
   "attachments": {},
   "cell_type": "markdown",
   "metadata": {},
   "source": [
    "Adding TTM=0 row"
   ]
  },
  {
   "cell_type": "code",
   "execution_count": 83,
   "metadata": {},
   "outputs": [],
   "source": [
    "if preparing_file:    \n",
    "    # Sort the dataframe by Quote_date and Expiry_date\n",
    "    df = df.sort_values(['Quote_date', 'Expiry_date'])\n",
    "\n",
    "    groups = df.groupby(['Expiry_date', 'Strike'])\n",
    "\n",
    "    for _, group in groups:\n",
    "\n",
    "        # Sort group so that the last row is the one with the lowest TTM\n",
    "        group = group.sort_values('TTM', ascending=False)\n",
    "\n",
    "        # Taking row from option group (could be any) to be used in getting the Strike price\n",
    "        last_row = group.iloc[-1]\n",
    "        \n",
    "        expiry_date = last_row['Expiry_date']\n",
    "        # Get the underlying price on the day of expiry\n",
    "\n",
    "        if expiry_date not in df_original['Quote_date'].values:\n",
    "            print(\"Expiry date not in df_original: \", expiry_date)\n",
    "            print(\"Weekday: \", expiry_date.weekday())\n",
    "            # Delete group from df\n",
    "            df = df.drop(group.index)\n",
    "            continue\n",
    "\n",
    "        underlying_last_on_expiry = df_original.loc[df_original['Quote_date'] == expiry_date, 'Underlying_last'].iloc[0]\n",
    "        # Calculate the intrinsic value\n",
    "        intrinsic_value = np.maximum(underlying_last_on_expiry - last_row['Strike'], 0)\n",
    "\n",
    "        new_row = last_row.copy()\n",
    "        new_row['Quote_date'] = expiry_date\n",
    "        new_row['Expiry_date'] = expiry_date\n",
    "        new_row['TTM'] = 0\n",
    "        new_row['Underlying_last'] = underlying_last_on_expiry\n",
    "        new_row['Price'] = intrinsic_value\n",
    "\n",
    "        df = df.append(new_row, ignore_index=True)\n",
    "\n",
    "    # Sort the dataframe by Quote_date and Expiry_date\n",
    "    df = df.sort_values(['Quote_date', 'Expiry_date'])"
   ]
  },
  {
   "cell_type": "code",
   "execution_count": 84,
   "metadata": {},
   "outputs": [
    {
     "name": "stdout",
     "output_type": "stream",
     "text": [
      "395030\n"
     ]
    }
   ],
   "source": [
    "print(len(df))"
   ]
  },
  {
   "attachments": {},
   "cell_type": "markdown",
   "metadata": {},
   "source": [
    "### Make sure prices are available every day for an option group"
   ]
  },
  {
   "cell_type": "code",
   "execution_count": 85,
   "metadata": {},
   "outputs": [],
   "source": [
    "if preparing_file:\n",
    "    unique_dates = df['Quote_date'].unique()\n",
    "\n",
    "    option_groups = df.groupby(['Option_ID'])\n",
    "\n",
    "    # Remove option groups if it has a date between it's first and last that is not in unique_dates\n",
    "    for option_id, option_group in option_groups:\n",
    "        group_first_date = option_group['Quote_date'].iloc[0]\n",
    "        group_last_date = option_group['Quote_date'].iloc[-1]\n",
    "\n",
    "        if group_first_date not in unique_dates or group_last_date not in unique_dates:\n",
    "            df = df.drop(option_group.index)\n",
    "            print(\"Dropped option group: \", option_id, \" because it's first or last date is not in unique_dates\")\n",
    "\n",
    "        # If every unique_dates between group_first_date and group_last_date is not in group, drop the group\n",
    "        dates_between = unique_dates[(unique_dates >= group_first_date) & (unique_dates <= group_last_date)]\n",
    "        if len(dates_between) != len(option_group['Quote_date'].unique()):\n",
    "            df = df.drop(option_group.index)\n",
    "            print(\"Dropped option group: \", option_id, \" because it's missing dates between it's first and last date\")\n",
    "\n",
    "\n",
    "        if len(option_group) < 2:\n",
    "            df = df.drop(option_group.index)\n",
    "            print(\"Dropped option group: \", option_id, \" because it has less than 2 rows\")\n"
   ]
  },
  {
   "cell_type": "code",
   "execution_count": 86,
   "metadata": {},
   "outputs": [],
   "source": [
    "# Write df to file\n",
    "if write_file:\n",
    "    df.to_csv(path + '/data/predictions/11.05 1 mnd test sett full model run_with_TTM0_Q1and2_2018_filtered_missing.csv', index=False)"
   ]
  },
  {
   "attachments": {},
   "cell_type": "markdown",
   "metadata": {},
   "source": [
    "### Functions"
   ]
  },
  {
   "cell_type": "code",
   "execution_count": 87,
   "metadata": {},
   "outputs": [],
   "source": [
    "def generate_buy_sell_signals(df, buy_threshold, sell_threshold):\n",
    "    buy_signal = (df['Prediction'] / df['Price']) >= buy_threshold\n",
    "    sell_signal = (df['Price'] / df['Prediction']) >= sell_threshold\n",
    "    return buy_signal, sell_signal\n",
    "\n",
    "\n",
    "def trader(df, buy_signal, sell_signal, starting_balance, price_cap_lower):\n",
    "    # Filter out options that expire before the last quote date\n",
    "    # Timestamps are converted to dates\n",
    "    df['Expiry_date'] = pd.to_datetime(df['Expiry_date']).dt.date\n",
    "    df['Quote_date'] = pd.to_datetime(df['Quote_date']).dt.date\n",
    "    df = df[df['Expiry_date'] <= df['Quote_date'].max()]\n",
    "    \n",
    "    df['Signal'] = 0\n",
    "    df.loc[buy_signal, 'Signal'] = 1\n",
    "    df.loc[sell_signal, 'Signal'] = -1\n",
    "\n",
    "    df['Position_this_opt'] = 0\n",
    "    df['Balance'] = starting_balance\n",
    "    df['Profit'] = 0\n",
    "\n",
    "    df = df.sort_values('Quote_date')\n",
    "    df['Option_ID'] = df['Option_ID'].astype(str)\n",
    "\n",
    "    position_dict = {id:0 for id in df['Option_ID'].unique()}\n",
    "    balance_dict = {date:starting_balance for date in df['Quote_date'].unique()}\n",
    "\n",
    "    def operation(row):\n",
    "        if row['Price'] < price_cap_lower:\n",
    "            return row\n",
    "\n",
    "        balance = balance_dict[row['Quote_date']]\n",
    "        position = position_dict[row['Option_ID']]\n",
    "\n",
    "        if row['Signal'] == 1 and row[\"Quote_date\"] != row[\"Expiry_date\"] and balance >= row['Price']:\n",
    "            balance -= row['Price']\n",
    "            position += 1\n",
    "\n",
    "        elif row['Signal'] == -1 and row[\"Quote_date\"] != row[\"Expiry_date\"] and balance > 0:\n",
    "            balance += row['Price']\n",
    "            position -= 1\n",
    "\n",
    "        elif row[\"Quote_date\"] == row[\"Expiry_date\"] and position != 0:\n",
    "            intrinsic_value = max(0, row['Underlying_last'] - row['Strike'])\n",
    "            adjustment = intrinsic_value if position >= 1 else -intrinsic_value\n",
    "            balance += adjustment * abs(position)\n",
    "            position = 0\n",
    "\n",
    "        row['Position_this_opt'] = position\n",
    "        row['Balance'] = balance\n",
    "\n",
    "        position_dict[row['Option_ID']] = position\n",
    "        balance_dict[row['Quote_date']] = balance\n",
    "\n",
    "        return row\n",
    "\n",
    "    df = df.apply(operation, axis=1)\n",
    "    df.loc[(df['Position_this_opt'] == 0), 'Balance'] = df['Quote_date'].map(balance_dict)\n",
    "\n",
    "    return df\n",
    "\n",
    "\n",
    "\n",
    "def calculate_options_value(df):\n",
    "    df['Options_value'] = 0\n",
    "    # Iterate over every Quote_date\n",
    "    for date in df['Quote_date'].unique():\n",
    "        # For every Quote date, multiply each row's Position_this_opt with the Price and sum it up.\n",
    "        options_value_sum = (df.loc[df['Quote_date'] == date, 'Position_this_opt'] * df.loc[df['Quote_date'] == date, 'Price']).sum()\n",
    "        # The result should be added to every row with the same Quote_date in the Options_value\n",
    "        df.loc[df['Quote_date'] == date, 'Options_value'] = options_value_sum\n",
    "    df['Total_value'] = df['Balance'] + df['Options_value']\n",
    "    return df"
   ]
  },
  {
   "attachments": {},
   "cell_type": "markdown",
   "metadata": {},
   "source": [
    "### Run code"
   ]
  },
  {
   "cell_type": "code",
   "execution_count": 88,
   "metadata": {},
   "outputs": [],
   "source": [
    "def sharpe_ratio2(df, rf=0.02):\n",
    "    df = df.copy()\n",
    "\n",
    "    # Calculate daily returns\n",
    "    df['Daily_Returns'] = df['Total_value'].pct_change()\n",
    "\n",
    "    starting_balance = df['Balance'].iloc[0]\n",
    "    ending_balance = df['Balance'].iloc[-1]\n",
    "\n",
    "    num_days = (df['Quote_date'].max() - df['Quote_date'].min()).days\n",
    "\n",
    "    avg_daily_return = (ending_balance / starting_balance)**(1/num_days) - 1\n",
    "\n",
    "    avg_daily_return_excess = avg_daily_return - rf / 252\n",
    "\n",
    "    df[\"Excess_Returns\"] = df[\"Daily_Returns\"] - rf / 252\n",
    "\n",
    "    std_daily_excess_return = df[\"Excess_Returns\"].std()\n",
    "\n",
    "    sharpe_ratio = np.sqrt(252) * (avg_daily_return_excess / std_daily_excess_return)\n",
    "\n",
    "    return sharpe_ratio"
   ]
  },
  {
   "cell_type": "code",
   "execution_count": 89,
   "metadata": {},
   "outputs": [],
   "source": [
    "from pandas import to_datetime\n",
    "\n",
    "def print_results(df, starting_balance):\n",
    "    print(\"Starting balance\", starting_balance)\n",
    "    print(\"Ending balance\", df['Balance'].iloc[-1])\n",
    "    print(\"Number of trades\", df['Signal'].abs().sum())\n",
    "    profit = df['Balance'].iloc[-1] - starting_balance\n",
    "    print(\"Profit\", profit)\n",
    "    print(\"Profit per trade\", profit / df['Signal'].abs().sum())\n",
    "    # Convert the 'Quote_date' column to datetime\n",
    "    df['Quote_date'] = to_datetime(df['Quote_date'])\n",
    "    print(\"Profit per day\", profit / (df['Quote_date'].max() - df['Quote_date'].min()).days)\n",
    "    num_days = (df['Quote_date'].max() - df['Quote_date'].min()).days\n",
    "    print(\"Number of days\", num_days)\n",
    "    print(\"Sharpe ratio: \", sharpe_ratio2(df))\n"
   ]
  },
  {
   "cell_type": "code",
   "execution_count": 90,
   "metadata": {},
   "outputs": [],
   "source": [
    "def sharpe_ratio(df):\n",
    "    df = df.copy()\n",
    "    # Group by Quote_date and keep the last row of each group\n",
    "    df = df.groupby('Quote_date').last()\n",
    "    # Calculate daily returns\n",
    "    df['Daily_Returns'] = df['Total_value'].pct_change()\n",
    "    # Convert the annual risk-free rate to a daily rate\n",
    "    df['Daily_Rf'] = (1 + df['R'])**(1/252) - 1\n",
    "    # Calculate the excess returns\n",
    "    excess_returns = df['Daily_Returns'] - df['Daily_Rf']\n",
    "    # Calculate sharpe ratio\n",
    "    sharpe_ratio = np.sqrt(252) * (excess_returns.mean() / excess_returns.std())\n",
    "    return sharpe_ratio"
   ]
  },
  {
   "cell_type": "code",
   "execution_count": 91,
   "metadata": {},
   "outputs": [],
   "source": [
    "if run_optimizing == False:\n",
    "    df = df.copy()\n",
    "    buy_signal, sell_signal = generate_buy_sell_signals(df, buy_threshold, sell_threshold)\n",
    "    df = trader(df, buy_signal, sell_signal, starting_balance, price_cap_lower)\n",
    "    df = calculate_options_value(df)\n",
    "    print_results(df, starting_balance)"
   ]
  },
  {
   "cell_type": "code",
   "execution_count": 92,
   "metadata": {},
   "outputs": [
    {
     "data": {
      "text/html": [
       "<div>\n",
       "<style scoped>\n",
       "    .dataframe tbody tr th:only-of-type {\n",
       "        vertical-align: middle;\n",
       "    }\n",
       "\n",
       "    .dataframe tbody tr th {\n",
       "        vertical-align: top;\n",
       "    }\n",
       "\n",
       "    .dataframe thead th {\n",
       "        text-align: right;\n",
       "    }\n",
       "</style>\n",
       "<table border=\"1\" class=\"dataframe\">\n",
       "  <thead>\n",
       "    <tr style=\"text-align: right;\">\n",
       "      <th></th>\n",
       "      <th>Unnamed: 0</th>\n",
       "      <th>Quote_date</th>\n",
       "      <th>Price</th>\n",
       "      <th>Prediction</th>\n",
       "      <th>Underlying_last</th>\n",
       "      <th>Strike</th>\n",
       "      <th>TTM</th>\n",
       "      <th>R</th>\n",
       "      <th>Expiry_date</th>\n",
       "      <th>Option_ID</th>\n",
       "    </tr>\n",
       "  </thead>\n",
       "  <tbody>\n",
       "    <tr>\n",
       "      <th>0</th>\n",
       "      <td>4119222</td>\n",
       "      <td>2018-01-02</td>\n",
       "      <td>1095.295</td>\n",
       "      <td>1102.66750</td>\n",
       "      <td>2695.87</td>\n",
       "      <td>1600.0</td>\n",
       "      <td>0.00274</td>\n",
       "      <td>0.0129</td>\n",
       "      <td>2018-01-03</td>\n",
       "      <td>2018-01-03-1600.0</td>\n",
       "    </tr>\n",
       "    <tr>\n",
       "      <th>1</th>\n",
       "      <td>4119223</td>\n",
       "      <td>2018-01-02</td>\n",
       "      <td>995.295</td>\n",
       "      <td>1002.39465</td>\n",
       "      <td>2695.87</td>\n",
       "      <td>1700.0</td>\n",
       "      <td>0.00274</td>\n",
       "      <td>0.0129</td>\n",
       "      <td>2018-01-03</td>\n",
       "      <td>2018-01-03-1700.0</td>\n",
       "    </tr>\n",
       "    <tr>\n",
       "      <th>2</th>\n",
       "      <td>4119224</td>\n",
       "      <td>2018-01-02</td>\n",
       "      <td>945.300</td>\n",
       "      <td>952.23970</td>\n",
       "      <td>2695.87</td>\n",
       "      <td>1750.0</td>\n",
       "      <td>0.00274</td>\n",
       "      <td>0.0129</td>\n",
       "      <td>2018-01-03</td>\n",
       "      <td>2018-01-03-1750.0</td>\n",
       "    </tr>\n",
       "    <tr>\n",
       "      <th>3</th>\n",
       "      <td>4119225</td>\n",
       "      <td>2018-01-02</td>\n",
       "      <td>895.305</td>\n",
       "      <td>902.30440</td>\n",
       "      <td>2695.87</td>\n",
       "      <td>1800.0</td>\n",
       "      <td>0.00274</td>\n",
       "      <td>0.0129</td>\n",
       "      <td>2018-01-03</td>\n",
       "      <td>2018-01-03-1800.0</td>\n",
       "    </tr>\n",
       "    <tr>\n",
       "      <th>4</th>\n",
       "      <td>4119226</td>\n",
       "      <td>2018-01-02</td>\n",
       "      <td>845.290</td>\n",
       "      <td>852.40234</td>\n",
       "      <td>2695.87</td>\n",
       "      <td>1850.0</td>\n",
       "      <td>0.00274</td>\n",
       "      <td>0.0129</td>\n",
       "      <td>2018-01-03</td>\n",
       "      <td>2018-01-03-1850.0</td>\n",
       "    </tr>\n",
       "    <tr>\n",
       "      <th>...</th>\n",
       "      <td>...</td>\n",
       "      <td>...</td>\n",
       "      <td>...</td>\n",
       "      <td>...</td>\n",
       "      <td>...</td>\n",
       "      <td>...</td>\n",
       "      <td>...</td>\n",
       "      <td>...</td>\n",
       "      <td>...</td>\n",
       "      <td>...</td>\n",
       "    </tr>\n",
       "    <tr>\n",
       "      <th>395025</th>\n",
       "      <td>4695894</td>\n",
       "      <td>2018-06-29</td>\n",
       "      <td>0.000</td>\n",
       "      <td>0.00000</td>\n",
       "      <td>2718.03</td>\n",
       "      <td>3050.0</td>\n",
       "      <td>0.00000</td>\n",
       "      <td>0.0176</td>\n",
       "      <td>2018-06-29</td>\n",
       "      <td>2018-06-29-3050.0</td>\n",
       "    </tr>\n",
       "    <tr>\n",
       "      <th>395026</th>\n",
       "      <td>4695895</td>\n",
       "      <td>2018-06-29</td>\n",
       "      <td>0.000</td>\n",
       "      <td>0.00000</td>\n",
       "      <td>2718.03</td>\n",
       "      <td>3075.0</td>\n",
       "      <td>0.00000</td>\n",
       "      <td>0.0176</td>\n",
       "      <td>2018-06-29</td>\n",
       "      <td>2018-06-29-3075.0</td>\n",
       "    </tr>\n",
       "    <tr>\n",
       "      <th>395027</th>\n",
       "      <td>4695896</td>\n",
       "      <td>2018-06-29</td>\n",
       "      <td>0.000</td>\n",
       "      <td>0.00000</td>\n",
       "      <td>2718.03</td>\n",
       "      <td>3100.0</td>\n",
       "      <td>0.00000</td>\n",
       "      <td>0.0176</td>\n",
       "      <td>2018-06-29</td>\n",
       "      <td>2018-06-29-3100.0</td>\n",
       "    </tr>\n",
       "    <tr>\n",
       "      <th>395028</th>\n",
       "      <td>4695897</td>\n",
       "      <td>2018-06-29</td>\n",
       "      <td>0.000</td>\n",
       "      <td>0.00000</td>\n",
       "      <td>2718.03</td>\n",
       "      <td>3150.0</td>\n",
       "      <td>0.00000</td>\n",
       "      <td>0.0176</td>\n",
       "      <td>2018-06-29</td>\n",
       "      <td>2018-06-29-3150.0</td>\n",
       "    </tr>\n",
       "    <tr>\n",
       "      <th>395029</th>\n",
       "      <td>4695898</td>\n",
       "      <td>2018-06-29</td>\n",
       "      <td>0.000</td>\n",
       "      <td>0.00000</td>\n",
       "      <td>2718.03</td>\n",
       "      <td>3200.0</td>\n",
       "      <td>0.00000</td>\n",
       "      <td>0.0176</td>\n",
       "      <td>2018-06-29</td>\n",
       "      <td>2018-06-29-3200.0</td>\n",
       "    </tr>\n",
       "  </tbody>\n",
       "</table>\n",
       "<p>395030 rows × 10 columns</p>\n",
       "</div>"
      ],
      "text/plain": [
       "        Unnamed: 0  Quote_date     Price  Prediction  Underlying_last  Strike  \\\n",
       "0          4119222  2018-01-02  1095.295  1102.66750          2695.87  1600.0   \n",
       "1          4119223  2018-01-02   995.295  1002.39465          2695.87  1700.0   \n",
       "2          4119224  2018-01-02   945.300   952.23970          2695.87  1750.0   \n",
       "3          4119225  2018-01-02   895.305   902.30440          2695.87  1800.0   \n",
       "4          4119226  2018-01-02   845.290   852.40234          2695.87  1850.0   \n",
       "...            ...         ...       ...         ...              ...     ...   \n",
       "395025     4695894  2018-06-29     0.000     0.00000          2718.03  3050.0   \n",
       "395026     4695895  2018-06-29     0.000     0.00000          2718.03  3075.0   \n",
       "395027     4695896  2018-06-29     0.000     0.00000          2718.03  3100.0   \n",
       "395028     4695897  2018-06-29     0.000     0.00000          2718.03  3150.0   \n",
       "395029     4695898  2018-06-29     0.000     0.00000          2718.03  3200.0   \n",
       "\n",
       "            TTM       R Expiry_date          Option_ID  \n",
       "0       0.00274  0.0129  2018-01-03  2018-01-03-1600.0  \n",
       "1       0.00274  0.0129  2018-01-03  2018-01-03-1700.0  \n",
       "2       0.00274  0.0129  2018-01-03  2018-01-03-1750.0  \n",
       "3       0.00274  0.0129  2018-01-03  2018-01-03-1800.0  \n",
       "4       0.00274  0.0129  2018-01-03  2018-01-03-1850.0  \n",
       "...         ...     ...         ...                ...  \n",
       "395025  0.00000  0.0176  2018-06-29  2018-06-29-3050.0  \n",
       "395026  0.00000  0.0176  2018-06-29  2018-06-29-3075.0  \n",
       "395027  0.00000  0.0176  2018-06-29  2018-06-29-3100.0  \n",
       "395028  0.00000  0.0176  2018-06-29  2018-06-29-3150.0  \n",
       "395029  0.00000  0.0176  2018-06-29  2018-06-29-3200.0  \n",
       "\n",
       "[395030 rows x 10 columns]"
      ]
     },
     "metadata": {},
     "output_type": "display_data"
    }
   ],
   "source": [
    "display(df)"
   ]
  },
  {
   "attachments": {},
   "cell_type": "markdown",
   "metadata": {},
   "source": [
    "### Analysis"
   ]
  },
  {
   "cell_type": "code",
   "execution_count": 93,
   "metadata": {},
   "outputs": [],
   "source": [
    "def plot(df):\n",
    "    # Just keep one row per Quote_date, and that should be the last row\n",
    "    df = df.groupby('Quote_date').last()\n",
    "    plt.plot(df['Total_value'], label='Total value')\n",
    "    plt.plot(df['Balance'], label='Balance')\n",
    "    plt.plot(df['Options_value'], label='Options value')\n",
    "    plt.title('Portfolio value over time')\n",
    "    # Make plot smaller\n",
    "    ax = plt.gca()\n",
    "    plt.xticks(rotation=45)\n",
    "    plt.legend()\n",
    "    plt.show()"
   ]
  },
  {
   "cell_type": "code",
   "execution_count": 94,
   "metadata": {},
   "outputs": [],
   "source": [
    "if run_optimizing == False:\n",
    "    plot(df)"
   ]
  },
  {
   "attachments": {},
   "cell_type": "markdown",
   "metadata": {},
   "source": [
    "### Finding best thresholds"
   ]
  },
  {
   "cell_type": "code",
   "execution_count": 95,
   "metadata": {},
   "outputs": [
    {
     "name": "stdout",
     "output_type": "stream",
     "text": [
      "Requirement already satisfied: wandb in /Library/Frameworks/Python.framework/Versions/3.10/lib/python3.10/site-packages (0.15.2)\n",
      "Requirement already satisfied: Click!=8.0.0,>=7.0 in /Library/Frameworks/Python.framework/Versions/3.10/lib/python3.10/site-packages (from wandb) (8.1.3)\n",
      "Requirement already satisfied: GitPython!=3.1.29,>=1.0.0 in /Library/Frameworks/Python.framework/Versions/3.10/lib/python3.10/site-packages (from wandb) (3.1.30)\n",
      "Requirement already satisfied: requests<3,>=2.0.0 in /Library/Frameworks/Python.framework/Versions/3.10/lib/python3.10/site-packages (from wandb) (2.28.1)\n",
      "Requirement already satisfied: psutil>=5.0.0 in /Users/hjalmarjacobvinje/Library/Python/3.10/lib/python/site-packages (from wandb) (5.9.4)\n",
      "Requirement already satisfied: sentry-sdk>=1.0.0 in /Library/Frameworks/Python.framework/Versions/3.10/lib/python3.10/site-packages (from wandb) (1.14.0)\n",
      "Requirement already satisfied: docker-pycreds>=0.4.0 in /Library/Frameworks/Python.framework/Versions/3.10/lib/python3.10/site-packages (from wandb) (0.4.0)\n",
      "Requirement already satisfied: PyYAML in /Library/Frameworks/Python.framework/Versions/3.10/lib/python3.10/site-packages (from wandb) (6.0)\n",
      "Requirement already satisfied: pathtools in /Library/Frameworks/Python.framework/Versions/3.10/lib/python3.10/site-packages (from wandb) (0.1.2)\n",
      "Requirement already satisfied: setproctitle in /Library/Frameworks/Python.framework/Versions/3.10/lib/python3.10/site-packages (from wandb) (1.3.2)\n",
      "Requirement already satisfied: setuptools in /Library/Frameworks/Python.framework/Versions/3.10/lib/python3.10/site-packages (from wandb) (65.5.0)\n",
      "Requirement already satisfied: appdirs>=1.4.3 in /Library/Frameworks/Python.framework/Versions/3.10/lib/python3.10/site-packages (from wandb) (1.4.4)\n",
      "Requirement already satisfied: protobuf!=4.21.0,<5,>=3.19.0 in /Library/Frameworks/Python.framework/Versions/3.10/lib/python3.10/site-packages (from wandb) (3.19.6)\n",
      "Requirement already satisfied: six>=1.4.0 in /Library/Frameworks/Python.framework/Versions/3.10/lib/python3.10/site-packages (from docker-pycreds>=0.4.0->wandb) (1.16.0)\n",
      "Requirement already satisfied: gitdb<5,>=4.0.1 in /Library/Frameworks/Python.framework/Versions/3.10/lib/python3.10/site-packages (from GitPython!=3.1.29,>=1.0.0->wandb) (4.0.10)\n",
      "Requirement already satisfied: charset-normalizer<3,>=2 in /Library/Frameworks/Python.framework/Versions/3.10/lib/python3.10/site-packages (from requests<3,>=2.0.0->wandb) (2.1.1)\n",
      "Requirement already satisfied: idna<4,>=2.5 in /Library/Frameworks/Python.framework/Versions/3.10/lib/python3.10/site-packages (from requests<3,>=2.0.0->wandb) (3.4)\n",
      "Requirement already satisfied: urllib3<1.27,>=1.21.1 in /Library/Frameworks/Python.framework/Versions/3.10/lib/python3.10/site-packages (from requests<3,>=2.0.0->wandb) (1.26.13)\n",
      "Requirement already satisfied: certifi>=2017.4.17 in /Library/Frameworks/Python.framework/Versions/3.10/lib/python3.10/site-packages (from requests<3,>=2.0.0->wandb) (2022.12.7)\n",
      "Requirement already satisfied: smmap<6,>=3.0.1 in /Library/Frameworks/Python.framework/Versions/3.10/lib/python3.10/site-packages (from gitdb<5,>=4.0.1->GitPython!=3.1.29,>=1.0.0->wandb) (5.0.0)\n"
     ]
    },
    {
     "name": "stderr",
     "output_type": "stream",
     "text": [
      "\u001b[34m\u001b[1mwandb\u001b[0m: \u001b[33mWARNING\u001b[0m Calling wandb.login() after wandb.init() has no effect.\n"
     ]
    },
    {
     "name": "stdout",
     "output_type": "stream",
     "text": [
      "Create sweep with ID: w3uja649\n",
      "Sweep URL: https://wandb.ai/avogadro/options-trading/sweeps/w3uja649\n"
     ]
    }
   ],
   "source": [
    "if run_optimizing:\n",
    "    # Initialize wandb\n",
    "    !pip install wandb\n",
    "    import wandb\n",
    "    wandb.login(key=\"b47bcf387a0571c5520c58a13be35cda8ada0a99\")\n",
    "\n",
    "    # Define the hyperparameters\n",
    "    sweep_config = {\n",
    "    'method': 'grid',\n",
    "    'name': 'Latest pricing model - 1H18 - Dict',\n",
    "    'metric': {\n",
    "        'goal': 'maximize', \n",
    "        'name': 'sharpe_ratio'\n",
    "        },\n",
    "    'parameters': {\n",
    "        'buy_threshold': {\n",
    "            'values': [1.1, 1.06, 1.04, 1.02]},\n",
    "        'sell_threshold': {\n",
    "            'values': [1.1, 1.06, 1.04, 1.02]},\n",
    "        'starting_balance': {\n",
    "            'values': [1000000]},\n",
    "        'price_cap_lower': {\n",
    "            'values': [5, 1, 0]},\n",
    "        }\n",
    "    }\n",
    "    sweep_id = wandb.sweep(sweep=sweep_config, project='options-trading') \n"
   ]
  },
  {
   "cell_type": "code",
   "execution_count": 96,
   "metadata": {},
   "outputs": [
    {
     "name": "stderr",
     "output_type": "stream",
     "text": [
      "\u001b[34m\u001b[1mwandb\u001b[0m: \u001b[33mWARNING\u001b[0m Calling wandb.login() after wandb.init() has no effect.\n"
     ]
    },
    {
     "name": "stdout",
     "output_type": "stream",
     "text": [
      "<IPython.core.display.HTML object>\n",
      "<IPython.core.display.HTML object>\n",
      "<IPython.core.display.HTML object>\n"
     ]
    },
    {
     "name": "stderr",
     "output_type": "stream",
     "text": [
      "\u001b[34m\u001b[1mwandb\u001b[0m: Agent Starting Run: xzh0ry3r with config:\n",
      "\u001b[34m\u001b[1mwandb\u001b[0m: \tbuy_threshold: 1.1\n",
      "\u001b[34m\u001b[1mwandb\u001b[0m: \tprice_cap_lower: 5\n",
      "\u001b[34m\u001b[1mwandb\u001b[0m: \tsell_threshold: 1.1\n",
      "\u001b[34m\u001b[1mwandb\u001b[0m: \tstarting_balance: 1000000\n",
      "\u001b[34m\u001b[1mwandb\u001b[0m: \u001b[33mWARNING\u001b[0m Ignored wandb.init() arg project when running a sweep.\n"
     ]
    },
    {
     "data": {
      "text/html": [
       "Tracking run with wandb version 0.15.2"
      ],
      "text/plain": [
       "<IPython.core.display.HTML object>"
      ]
     },
     "metadata": {},
     "output_type": "display_data"
    },
    {
     "data": {
      "text/html": [
       "Run data is saved locally in <code>/Users/hjalmarjacobvinje/Documents/deep-learning-for-option-pricing/results_analysis/backtesting/wandb/run-20230514_130251-xzh0ry3r</code>"
      ],
      "text/plain": [
       "<IPython.core.display.HTML object>"
      ]
     },
     "metadata": {},
     "output_type": "display_data"
    },
    {
     "data": {
      "text/html": [
       "Syncing run <strong><a href='https://wandb.ai/avogadro/options-trading/runs/xzh0ry3r' target=\"_blank\">amber-sweep-1</a></strong> to <a href='https://wandb.ai/avogadro/options-trading' target=\"_blank\">Weights & Biases</a> (<a href='https://wandb.me/run' target=\"_blank\">docs</a>)<br/>Sweep page: <a href='https://wandb.ai/avogadro/options-trading/sweeps/w3uja649' target=\"_blank\">https://wandb.ai/avogadro/options-trading/sweeps/w3uja649</a>"
      ],
      "text/plain": [
       "<IPython.core.display.HTML object>"
      ]
     },
     "metadata": {},
     "output_type": "display_data"
    },
    {
     "data": {
      "text/html": [
       " View project at <a href='https://wandb.ai/avogadro/options-trading' target=\"_blank\">https://wandb.ai/avogadro/options-trading</a>"
      ],
      "text/plain": [
       "<IPython.core.display.HTML object>"
      ]
     },
     "metadata": {},
     "output_type": "display_data"
    },
    {
     "data": {
      "text/html": [
       " View sweep at <a href='https://wandb.ai/avogadro/options-trading/sweeps/w3uja649' target=\"_blank\">https://wandb.ai/avogadro/options-trading/sweeps/w3uja649</a>"
      ],
      "text/plain": [
       "<IPython.core.display.HTML object>"
      ]
     },
     "metadata": {},
     "output_type": "display_data"
    },
    {
     "data": {
      "text/html": [
       " View run at <a href='https://wandb.ai/avogadro/options-trading/runs/xzh0ry3r' target=\"_blank\">https://wandb.ai/avogadro/options-trading/runs/xzh0ry3r</a>"
      ],
      "text/plain": [
       "<IPython.core.display.HTML object>"
      ]
     },
     "metadata": {},
     "output_type": "display_data"
    },
    {
     "data": {
      "text/html": [
       "Waiting for W&B process to finish... <strong style=\"color:red\">(failed 1).</strong> Press Control-C to abort syncing."
      ],
      "text/plain": [
       "<IPython.core.display.HTML object>"
      ]
     },
     "metadata": {},
     "output_type": "display_data"
    },
    {
     "data": {
      "application/vnd.jupyter.widget-view+json": {
       "model_id": "e595eedbc2734b89952e8e22fdbc32c9",
       "version_major": 2,
       "version_minor": 0
      },
      "text/plain": [
       "VBox(children=(Label(value='0.004 MB of 0.005 MB uploaded (0.000 MB deduped)\\r'), FloatProgress(value=0.894985…"
      ]
     },
     "metadata": {},
     "output_type": "display_data"
    }
   ],
   "source": [
    "if run_optimizing:\n",
    "    def find_best_thresholds(df = df):\n",
    "        run = wandb.init(project = \"options-trading\")\n",
    "        df = df.copy()\n",
    "        buy_signal, sell_signal = generate_buy_sell_signals(df, run.config.buy_threshold, run.config.sell_threshold)\n",
    "        df = trader(df, buy_signal, sell_signal, run.config.starting_balance, price_cap_lower = run.config.price_cap_lower)\n",
    "        df = calculate_options_value(df)\n",
    "        run.log({\"buy_threshold\": run.config.buy_threshold, \"sell_threshold\": run.config.sell_threshold, \"sharpe_ratio\": sharpe_ratio2(df), \"starting_balance\": run.config.starting_balance, \"ending_balance\": df['Balance'].iloc[-1], \"number_of_trades\": df['Signal'].abs().sum()})\n",
    "        # Wandb callback\n",
    "        print_results(df, run.config.starting_balance)\n",
    "        plot(df)\n",
    "        run.finish()\n",
    "\n",
    "    wandb.agent(sweep_id=sweep_id, function=find_best_thresholds, project='options-trading', count = 1000)"
   ]
  }
 ],
 "metadata": {
  "kernelspec": {
   "display_name": "Python 3",
   "language": "python",
   "name": "python3"
  },
  "language_info": {
   "codemirror_mode": {
    "name": "ipython",
    "version": 3
   },
   "file_extension": ".py",
   "mimetype": "text/x-python",
   "name": "python",
   "nbconvert_exporter": "python",
   "pygments_lexer": "ipython3",
   "version": "3.10.9"
  },
  "orig_nbformat": 4
 },
 "nbformat": 4,
 "nbformat_minor": 2
}
