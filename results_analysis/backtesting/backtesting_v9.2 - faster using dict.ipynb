{
 "cells": [
  {
   "attachments": {},
   "cell_type": "markdown",
   "metadata": {},
   "source": [
    "### Imports"
   ]
  },
  {
   "cell_type": "code",
   "execution_count": 91,
   "metadata": {},
   "outputs": [],
   "source": [
    "import pandas as pd\n",
    "import datetime\n",
    "import os\n",
    "import sys\n",
    "import math\n",
    "import matplotlib.pyplot as plt\n",
    "import numpy as np\n",
    "import warnings\n",
    "from pandas.errors import SettingWithCopyWarning\n",
    "from pandas import to_datetime\n",
    "\n",
    "\n",
    "warnings.simplefilter(action='ignore', category=SettingWithCopyWarning)"
   ]
  },
  {
   "attachments": {},
   "cell_type": "markdown",
   "metadata": {},
   "source": [
    "### Parameters"
   ]
  },
  {
   "cell_type": "code",
   "execution_count": 92,
   "metadata": {},
   "outputs": [],
   "source": [
    "buy_threshold = 1.04\n",
    "sell_threshold = 1.08\n",
    "starting_balance = 1000000\n",
    "price_cap_lower = 0\n",
    "ttm_cap_lower = 0\n",
    "\n",
    "run_optimizing = False\n",
    "google_colab = False\n",
    "preparing_file = False\n",
    "write_file = False"
   ]
  },
  {
   "attachments": {},
   "cell_type": "markdown",
   "metadata": {},
   "source": [
    "### Data loading"
   ]
  },
  {
   "cell_type": "code",
   "execution_count": 93,
   "metadata": {},
   "outputs": [],
   "source": [
    "if google_colab:\n",
    "    from google.colab import drive\n",
    "    drive.mount('/content/drive')\n",
    "    !pip install -U -q PyDrive\n",
    "    from pydrive.auth import GoogleAuth\n",
    "    from pydrive.drive import GoogleDrive\n",
    "    from google.colab import auth\n",
    "    from oauth2client.client import GoogleCredentials\n",
    "    # Authenticate and create the PyDrive client.\n",
    "    auth.authenticate_user()\n",
    "    gauth = GoogleAuth()\n",
    "    gauth.credentials = GoogleCredentials.get_application_default()\n",
    "    drive = GoogleDrive(gauth)\n",
    "    id = \"15eesIDv1QR3465iekfFG52v-HIYheguO\"\n",
    "    downloaded = drive.CreateFile({'id':id}) \n",
    "    downloaded.GetContentFile('11.05 1 mnd test sett full model run_with_TTM0_Q1and2_2018_filtered_missing.csv')  \n",
    "    df = pd.read_csv('11.05 1 mnd test sett full model run_with_TTM0_Q1and2_2018_filtered_missing.csv')\n",
    "else:\n",
    "    # Set the path to the root directory\n",
    "    path = os.path.abspath(os.path.join(os.getcwd(), '../..'))\n",
    "    # Read dataframes using Dask\n",
    "    df = pd.read_csv(path + '/data/predictions/11.05 1 mnd test sett full model run_with_TTM0_Q1and2_2018_filtered_missing.csv')"
   ]
  },
  {
   "attachments": {},
   "cell_type": "markdown",
   "metadata": {},
   "source": [
    "### Data processing"
   ]
  },
  {
   "cell_type": "code",
   "execution_count": 94,
   "metadata": {},
   "outputs": [],
   "source": [
    "df[\"TTM\"] = (df[\"TTM\"]*365).astype(int)"
   ]
  },
  {
   "cell_type": "code",
   "execution_count": 95,
   "metadata": {},
   "outputs": [
    {
     "name": "stdout",
     "output_type": "stream",
     "text": [
      "395030\n"
     ]
    }
   ],
   "source": [
    "print(len(df))"
   ]
  },
  {
   "attachments": {},
   "cell_type": "markdown",
   "metadata": {},
   "source": [
    "### Functions"
   ]
  },
  {
   "cell_type": "code",
   "execution_count": 96,
   "metadata": {},
   "outputs": [],
   "source": [
    "def generate_buy_sell_signals(df, buy_threshold, sell_threshold):\n",
    "    buy_signal = (df['Prediction'] / df['Price']) >= buy_threshold\n",
    "    sell_signal = (df['Price'] / df['Prediction']) >= sell_threshold\n",
    "    return buy_signal, sell_signal\n",
    "\n",
    "\n",
    "def trader(df, buy_signal, sell_signal, starting_balance, price_cap_lower):\n",
    "    # Filter out options that expire before the last quote date\n",
    "    # Timestamps are converted to dates\n",
    "    df['Expiry_date'] = pd.to_datetime(df['Expiry_date']).dt.date\n",
    "    df['Quote_date'] = pd.to_datetime(df['Quote_date']).dt.date\n",
    "    df = df[df['Expiry_date'] <= df['Quote_date'].max()]\n",
    "    \n",
    "    df['Signal'] = 0\n",
    "    df.loc[buy_signal, 'Signal'] = 1\n",
    "    df.loc[sell_signal, 'Signal'] = -1\n",
    "\n",
    "    df['Position_this_opt'] = 0\n",
    "    df['Balance'] = -1000000  # Makes it easy to spot if balance has not been updated correctly\n",
    "\n",
    "    df = df.sort_values('Quote_date')\n",
    "    df['Option_ID'] = df['Option_ID'].astype(str)\n",
    "\n",
    "    position_dict = {id:0 for id in df['Option_ID'].unique()}\n",
    "    first_date = df['Quote_date'].min()\n",
    "    balance_dict = {first_date: starting_balance}\n",
    "\n",
    "    def operation(row):\n",
    "\n",
    "        # If the row is first in a new date, create a new balance_dict key\n",
    "        if row['Quote_date'] not in balance_dict.keys():\n",
    "            balance_dict[row['Quote_date']] = balance_dict[max(balance_dict.keys())]\n",
    "\n",
    "        balance = balance_dict[row['Quote_date']]\n",
    "\n",
    "        \n",
    "\n",
    "        position = position_dict[row['Option_ID']]\n",
    "\n",
    "        if row['Signal'] == 1 and row[\"Quote_date\"] != row[\"Expiry_date\"] and balance >= row['Price']:\n",
    "            balance -= row['Price']\n",
    "            position += 1\n",
    "\n",
    "        elif row['Signal'] == -1 and row[\"Quote_date\"] != row[\"Expiry_date\"] and balance > 0:\n",
    "            balance += row['Price']\n",
    "            position -= 1\n",
    "\n",
    "        elif row[\"Quote_date\"] == row[\"Expiry_date\"] and position != 0:\n",
    "            intrinsic_value = max(0, row['Underlying_last'] - row['Strike'])\n",
    "            adjustment = intrinsic_value if position >= 1 else -intrinsic_value\n",
    "            balance += adjustment * abs(position)\n",
    "            position = 0\n",
    "\n",
    "        row['Position_this_opt'] = position\n",
    "\n",
    "        position_dict[row['Option_ID']] = position\n",
    "        # Update balance dict\n",
    "        balance_dict[row['Quote_date']] = balance\n",
    "\n",
    "        row['Balance'] = balance\n",
    "\n",
    "\n",
    "\n",
    "        return row\n",
    "\n",
    "    df = df.apply(operation, axis=1)\n",
    "    df.loc[(df['Position_this_opt'] == 0), 'Balance'] = df['Quote_date'].map(balance_dict)\n",
    "\n",
    "    return df\n",
    "\n",
    "\n",
    "\n",
    "def calculate_options_value(df):\n",
    "    df['Options_value'] = 0\n",
    "    # Iterate over every Quote_date\n",
    "    for date in df['Quote_date'].unique():\n",
    "        # For every Quote date, multiply each row's Position_this_opt with the Price and sum it up.\n",
    "        options_value_sum = (df.loc[df['Quote_date'] == date, 'Position_this_opt'] * df.loc[df['Quote_date'] == date, 'Price']).sum()\n",
    "        # The result should be added to every row with the same Quote_date in the Options_value\n",
    "        df.loc[df['Quote_date'] == date, 'Options_value'] = options_value_sum\n",
    "    df['Total_value'] = df['Balance'] + df['Options_value']\n",
    "    return df"
   ]
  },
  {
   "attachments": {},
   "cell_type": "markdown",
   "metadata": {},
   "source": [
    "### Run code"
   ]
  },
  {
   "cell_type": "code",
   "execution_count": 97,
   "metadata": {},
   "outputs": [],
   "source": [
    "def sharpe_ratio(df, rf=0.02):\n",
    "    df = df.copy()\n",
    "\n",
    "    # Calculate daily returns\n",
    "    df['Daily_Returns'] = df['Total_value'].pct_change()\n",
    "\n",
    "    starting_balance = df['Balance'].iloc[0]\n",
    "    ending_balance = df['Balance'].iloc[-1]\n",
    "\n",
    "    num_days = (df['Quote_date'].max() - df['Quote_date'].min()).days\n",
    "\n",
    "    avg_daily_return = (ending_balance / starting_balance)**(1/num_days) - 1\n",
    "\n",
    "    avg_daily_return_excess = avg_daily_return - rf / 252\n",
    "\n",
    "    df[\"Excess_Returns\"] = df[\"Daily_Returns\"] - rf / 252\n",
    "\n",
    "    std_daily_excess_return = df[\"Excess_Returns\"].std()\n",
    "\n",
    "    sharpe_ratio = np.sqrt(252) * (avg_daily_return_excess / std_daily_excess_return)\n",
    "\n",
    "    return sharpe_ratio"
   ]
  },
  {
   "cell_type": "code",
   "execution_count": 98,
   "metadata": {},
   "outputs": [],
   "source": [
    "def print_results(df, starting_balance):\n",
    "    print(\"Starting balance\", starting_balance)\n",
    "    print(\"Ending balance\", df['Balance'].iloc[-1])\n",
    "    print(\"Number of trades\", df['Signal'].abs().sum())\n",
    "    profit = df['Balance'].iloc[-1] - starting_balance\n",
    "    print(\"Profit\", profit)\n",
    "    print(\"Profit per trade\", profit / df['Signal'].abs().sum())\n",
    "    # Convert the 'Quote_date' column to datetime\n",
    "    df['Quote_date'] = to_datetime(df['Quote_date'])\n",
    "    print(\"Profit per day\", profit / (df['Quote_date'].max() - df['Quote_date'].min()).days)\n",
    "    num_days = (df['Quote_date'].max() - df['Quote_date'].min()).days\n",
    "    print(\"Number of days\", num_days)\n",
    "    print(\"Sharpe ratio: \", sharpe_ratio(df))\n"
   ]
  },
  {
   "cell_type": "code",
   "execution_count": 99,
   "metadata": {},
   "outputs": [
    {
     "name": "stdout",
     "output_type": "stream",
     "text": [
      "Starting balance 1000000\n",
      "Ending balance 1643163.0299993965\n",
      "Number of trades 153162\n",
      "Profit 643163.0299993965\n",
      "Profit per trade 4.199233687203069\n",
      "Profit per day 3613.275449434812\n",
      "Number of days 178\n",
      "Sharpe ratio:  5.641211200525331\n"
     ]
    }
   ],
   "source": [
    "if run_optimizing == False:\n",
    "    df = df.copy()\n",
    "    buy_signal, sell_signal = generate_buy_sell_signals(df, buy_threshold, sell_threshold)\n",
    "    df = trader(df, buy_signal, sell_signal, starting_balance, price_cap_lower)\n",
    "    df = calculate_options_value(df)\n",
    "    print_results(df, starting_balance)"
   ]
  },
  {
   "attachments": {},
   "cell_type": "markdown",
   "metadata": {},
   "source": [
    "### Analysis"
   ]
  },
  {
   "cell_type": "code",
   "execution_count": 100,
   "metadata": {},
   "outputs": [],
   "source": [
    "def plot(df):\n",
    "    # Just keep one row per Quote_date, and that should be the last row\n",
    "    df = df.groupby('Quote_date').last()\n",
    "    plt.plot(df['Total_value'], label='Total value')\n",
    "    plt.plot(df['Balance'], label='Balance')\n",
    "    plt.plot(df['Options_value'], label='Options value')\n",
    "    plt.title('Portfolio value over time')\n",
    "    # Make plot smaller\n",
    "    ax = plt.gca()\n",
    "    plt.xticks(rotation=45)\n",
    "    plt.legend()\n",
    "    plt.show()"
   ]
  },
  {
   "cell_type": "code",
   "execution_count": 101,
   "metadata": {},
   "outputs": [
    {
     "data": {
      "image/png": "[encoded data removed]",
      "text/plain": [
       "<Figure size 640x480 with 1 Axes>"
      ]
     },
     "metadata": {},
     "output_type": "display_data"
    }
   ],
   "source": [
    "if run_optimizing == False:\n",
    "    plot(df)"
   ]
  },
  {
   "attachments": {},
   "cell_type": "markdown",
   "metadata": {},
   "source": [
    "### Finding best thresholds"
   ]
  },
  {
   "cell_type": "code",
   "execution_count": 102,
   "metadata": {},
   "outputs": [],
   "source": [
    "if run_optimizing:\n",
    "    # Initialize wandb\n",
    "    !pip install wandb\n",
    "    import wandb\n",
    "    wandb.login(key=\"b47bcf387a0571c5520c58a13be35cda8ada0a99\")\n",
    "\n",
    "    # Define the hyperparameters\n",
    "    sweep_config = {\n",
    "    'method': 'grid',\n",
    "    'name': 'Latest pricing model - 1H18 - Dict',\n",
    "    'metric': {\n",
    "        'goal': 'maximize', \n",
    "        'name': 'sharpe_ratio'\n",
    "        },\n",
    "    'parameters': {\n",
    "        'buy_threshold': {\n",
    "            'values': [1.1, 1.06, 1.04, 1.02]},\n",
    "        'sell_threshold': {\n",
    "            'values': [1.1, 1.06, 1.04, 1.02]},\n",
    "        'starting_balance': {\n",
    "            'values': [1000000]},\n",
    "        'price_cap_lower': {\n",
    "            'values': [5, 1, 0]},\n",
    "        }\n",
    "    }\n",
    "    sweep_id = wandb.sweep(sweep=sweep_config, project='options-trading') \n"
   ]
  },
  {
   "cell_type": "code",
   "execution_count": 103,
   "metadata": {},
   "outputs": [],
   "source": [
    "if run_optimizing:\n",
    "    def find_best_thresholds(df = df):\n",
    "        run = wandb.init(project = \"options-trading\")\n",
    "        df = df.copy()\n",
    "        buy_signal, sell_signal = generate_buy_sell_signals(df, run.config.buy_threshold, run.config.sell_threshold)\n",
    "        df = trader(df, buy_signal, sell_signal, run.config.starting_balance, price_cap_lower = run.config.price_cap_lower)\n",
    "        df = calculate_options_value(df)\n",
    "        run.log({\"buy_threshold\": run.config.buy_threshold, \"sell_threshold\": run.config.sell_threshold, \"sharpe_ratio\": sharpe_ratio(df), \"starting_balance\": run.config.starting_balance, \"ending_balance\": df['Balance'].iloc[-1], \"number_of_trades\": df['Signal'].abs().sum()})\n",
    "        # Wandb callback\n",
    "        print_results(df, run.config.starting_balance)\n",
    "        plot(df)\n",
    "        run.finish()\n",
    "\n",
    "    wandb.agent(sweep_id=sweep_id, function=find_best_thresholds, project='options-trading', count = 1000)"
   ]
  }
 ],
 "metadata": {
  "kernelspec": {
   "display_name": "Python 3",
   "language": "python",
   "name": "python3"
  },
  "language_info": {
   "codemirror_mode": {
    "name": "ipython",
    "version": 3
   },
   "file_extension": ".py",
   "mimetype": "text/x-python",
   "name": "python",
   "nbconvert_exporter": "python",
   "pygments_lexer": "ipython3",
   "version": "3.10.9"
  },
  "orig_nbformat": 4
 },
 "nbformat": 4,
 "nbformat_minor": 2
}
