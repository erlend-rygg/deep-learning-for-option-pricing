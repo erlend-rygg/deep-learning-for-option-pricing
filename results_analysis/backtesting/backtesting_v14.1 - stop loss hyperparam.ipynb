{
  "cells": [
    {
      "attachments": {},
      "cell_type": "markdown",
      "metadata": {
        "id": "6Ors6z0lW-O4"
      },
      "source": [
        "### Imports"
      ]
    },
    {
      "cell_type": "code",
      "execution_count": null,
      "metadata": {
        "id": "1F_x2HgAW-O6"
      },
      "outputs": [],
      "source": [
        "import pandas as pd\n",
        "import datetime\n",
        "import os\n",
        "import sys\n",
        "import math\n",
        "import matplotlib.pyplot as plt\n",
        "import numpy as np\n",
        "import warnings\n",
        "from pandas.errors import SettingWithCopyWarning\n",
        "from pandas import to_datetime\n",
        "import statsmodels.api as sm\n",
        "from statsmodels import regression\n",
        "from sklearn.linear_model import LinearRegression\n",
        "\n",
        "\n",
        "warnings.simplefilter(action='ignore', category=SettingWithCopyWarning)"
      ]
    },
    {
      "attachments": {},
      "cell_type": "markdown",
      "metadata": {
        "id": "AZMBTsszW-O7"
      },
      "source": [
        "### Parameters"
      ]
    },
    {
      "cell_type": "code",
      "execution_count": null,
      "metadata": {
        "id": "5w5tRqKAW-O8"
      },
      "outputs": [],
      "source": [
        "buy_threshold = 0.1\n",
        "sell_threshold = 0.1\n",
        "starting_balance = 1000000\n",
        "price_cap_lower = 2\n",
        "investment_ratio = 0.0005\n",
        "long_short_ratio = 0.05\n",
        "\n",
        "run_optimizing = False\n",
        "google_colab = False"
      ]
    },
    {
      "attachments": {},
      "cell_type": "markdown",
      "metadata": {
        "id": "4DIl0QHAW-O8"
      },
      "source": [
        "### Data loading"
      ]
    },
    {
      "cell_type": "code",
      "execution_count": null,
      "metadata": {
        "colab": {
          "base_uri": "https://localhost:8080/"
        },
        "id": "GIriweabW-O8",
        "outputId": "b2885a80-58b2-4423-a3ce-8b3e5f32fc28"
      },
      "outputs": [],
      "source": [
        "if google_colab:\n",
        "    from google.colab import drive\n",
        "    drive.mount('/content/drive')\n",
        "    !pip install -U -q PyDrive\n",
        "    from pydrive.auth import GoogleAuth\n",
        "    from pydrive.drive import GoogleDrive\n",
        "    from google.colab import auth\n",
        "    from oauth2client.client import GoogleCredentials\n",
        "    # Authenticate and create the PyDrive client.\n",
        "    auth.authenticate_user()\n",
        "    gauth = GoogleAuth()\n",
        "    gauth.credentials = GoogleCredentials.get_application_default()\n",
        "    drive = GoogleDrive(gauth)\n",
        "    id = \"1PZQLyOiOpKtLt5BVAvWwQEnxZJzvLcD7\"\n",
        "    downloaded = drive.CreateFile({'id':id}) \n",
        "    downloaded.GetContentFile('Full trading data - All models.csv')  \n",
        "    df = pd.read_csv('Full trading data - All models.csv')\n",
        "else:\n",
        "    # Set the path to the root directory\n",
        "    path = os.path.abspath(os.path.join(os.getcwd(), '../..'))\n",
        "    # Read dataframes using Dask\n",
        "    df = pd.read_csv(path + '/data/trading/Full trading data - All models.csv')"
      ]
    },
    {
      "cell_type": "code",
      "execution_count": null,
      "metadata": {
        "colab": {
          "base_uri": "https://localhost:8080/",
          "height": 328
        },
        "id": "afyr6llNW-O8",
        "outputId": "294d42d4-5be6-4206-b09f-49694cb82914"
      },
      "outputs": [],
      "source": [
        "# Drop Expire_date column\n",
        "df.drop('Expire_date', axis=1, inplace=True)"
      ]
    },
    {
      "cell_type": "code",
      "execution_count": null,
      "metadata": {
        "id": "_mtnq69jW-O-"
      },
      "outputs": [],
      "source": [
        "# Filter so its just data for 2015\n",
        "#df = df[(df[\"Quote_date\"] >= \"2015-01-01\") & (df[\"Quote_date\"] <= \"2018-12-31\")]\n",
        "#df = df[(df[\"Expiry_date\"] >= \"2015-01-01\") & (df[\"Expiry_date\"] <= \"2018-12-31\")]\n",
        "\n",
        "# Choos 5% of the data randomly\n",
        "#df = df.sample(frac=0.02, random_state=1)"
      ]
    },
    {
      "cell_type": "code",
      "execution_count": null,
      "metadata": {},
      "outputs": [],
      "source": [
        "display(df.head())"
      ]
    },
    {
      "cell_type": "code",
      "execution_count": null,
      "metadata": {
        "id": "Mk3ZLcorW-O-"
      },
      "outputs": [],
      "source": [
        "lstm_mlp = True\n",
        "bs_rolling = False\n",
        "bs_garch = False\n",
        "bs_iv = False\n",
        "heston = False\n",
        "\n",
        "if lstm_mlp:\n",
        "    # Out of Quote_date\tExpire_date\tPrice\tBid\tAsk\tUnderlying_last\tStrike\tTTM\tDelta\tIV\tR\tPrice_drop\tRolling\tGARCH\tBS-IV\tHeston\tLSTM-MLP, drop Rolling, GARCH, BS-IV, Heston\n",
        "    df = df[['Quote_date', 'Expiry_date', 'Price', 'Bid', 'Ask', 'Underlying_last', 'Strike', 'TTM', 'Delta', 'IV', 'R', 'Price_drop', 'Option_ID', 'LSTM-MLP']]\n",
        "    # Rename LSTM-MLP to Prediction\n",
        "    df = df.rename(columns={'LSTM-MLP': 'Prediction'})\n",
        "elif bs_rolling:\n",
        "    df = df[['Quote_date', 'Expiry_date', 'Price', 'Bid', 'Ask', 'Underlying_last', 'Strike', 'TTM', 'Delta', 'IV', 'R', 'Price_drop', 'Option_ID', 'Rolling']]\n",
        "    df = df.rename(columns={'Rolling': 'Prediction'})\n",
        "elif bs_garch:\n",
        "    df = df[['Quote_date', 'Expiry_date', 'Price', 'Bid', 'Ask', 'Underlying_last', 'Strike', 'TTM', 'Delta', 'IV', 'R', 'Price_drop', 'Option_ID', 'GARCH']]\n",
        "    df = df.rename(columns={'GARCH': 'Prediction'})\n",
        "elif bs_iv:\n",
        "    df = df[['Quote_date', 'Expiry_date', 'Price', 'Bid', 'Ask', 'Underlying_last', 'Strike', 'TTM', 'Delta', 'IV', 'R', 'Price_drop', 'Option_ID', 'BS-IV']]\n",
        "    df = df.rename(columns={'BS-IV': 'Prediction'})\n",
        "elif heston:\n",
        "    df = df[['Quote_date', 'Expiry_date', 'Price', 'Bid', 'Ask', 'Underlying_last', 'Strike', 'TTM', 'Delta', 'IV', 'R', 'Price_drop', 'Option_ID', 'Heston']]\n",
        "    df = df.rename(columns={'Heston': 'Prediction'})"
      ]
    },
    {
      "attachments": {},
      "cell_type": "markdown",
      "metadata": {
        "id": "vkY0XkF1W-O-"
      },
      "source": [
        "### Data processing"
      ]
    },
    {
      "cell_type": "code",
      "execution_count": null,
      "metadata": {
        "id": "pbTGCRbjW-O_"
      },
      "outputs": [],
      "source": [
        "print(len(df))"
      ]
    },
    {
      "attachments": {},
      "cell_type": "markdown",
      "metadata": {
        "id": "NZn7Iw7GW-O_"
      },
      "source": [
        "# Trading functions"
      ]
    },
    {
      "cell_type": "code",
      "execution_count": null,
      "metadata": {
        "id": "COtHaYsIW-O_"
      },
      "outputs": [],
      "source": [
        "def generate_buy_sell_signals(df, buy_threshold, sell_threshold):\n",
        "    buy_signal = (df['Prediction'] - df['Ask']) / df['Ask'] >= buy_threshold\n",
        "    sell_signal = (df['Bid'] - df['Prediction']) / df['Bid'] >= sell_threshold\n",
        "    return buy_signal, sell_signal\n",
        "\n",
        "\n",
        "def trader(df, buy_signal, sell_signal, starting_balance, price_cap_lower, investment_ratio = 0.002, long_short_ratio= 0.02, fee = 0.001, stop_loss = 0.2):\n",
        "    df['Expiry_date'] = pd.to_datetime(df['Expiry_date'])\n",
        "    df['Quote_date'] = pd.to_datetime(df['Quote_date'])\n",
        "    df = df[df['Expiry_date'] <= df['Quote_date'].max()]\n",
        "    \n",
        "    df['Signal'] = 0\n",
        "    df.loc[buy_signal, 'Signal'] = 1\n",
        "    df.loc[sell_signal, 'Signal'] = -1\n",
        "\n",
        "    df['Position_this_opt'] = 0\n",
        "    df['Balance'] = -1000000    # Makes it easy to spot if balance has not been updated correctly\n",
        "\n",
        "    df = df.sort_values('Quote_date')\n",
        "    df['Option_ID'] = df['Option_ID'].astype(str)\n",
        "\n",
        "    position_dict = {id:0 for id in df['Option_ID'].unique()}\n",
        "    first_date = df['Quote_date'].min()\n",
        "    total_balance_dict = {first_date: starting_balance}\n",
        "\n",
        "    number_of_long_positions = 0\n",
        "    number_of_short_positions = 0\n",
        "    entry_prices = {}\n",
        "\n",
        "    def operation(row):\n",
        "        nonlocal number_of_long_positions\n",
        "        nonlocal number_of_short_positions\n",
        "        if row['Quote_date'] not in total_balance_dict.keys():\n",
        "            total_balance_dict[row['Quote_date']] = total_balance_dict[max(total_balance_dict.keys())]\n",
        "\n",
        "        balance = total_balance_dict[row['Quote_date']]\n",
        "        position = position_dict[row['Option_ID']]\n",
        "\n",
        "        # If price below cap, do nothing\n",
        "        if row[\"Price\"] < price_cap_lower:\n",
        "            row[\"Position_this_opt\"] = position\n",
        "            row[\"Balance\"] = balance\n",
        "            position_dict[row['Option_ID']] = position\n",
        "            total_balance_dict[row['Quote_date']] = balance\n",
        "            return row\n",
        "\n",
        "        # Calculate net ratio\n",
        "        if number_of_long_positions + number_of_short_positions == 0:\n",
        "            net_ratio = 0\n",
        "        else:\n",
        "            net_ratio = (number_of_long_positions - number_of_short_positions) / (number_of_long_positions + number_of_short_positions)\n",
        "\n",
        "        # Buy \n",
        "        if row['Signal'] == 1 and position <= 0 and row[\"Quote_date\"] != row[\"Expiry_date\"] and balance > 100 and net_ratio < long_short_ratio:\n",
        "            amount_to_invest = balance * investment_ratio\n",
        "            if amount_to_invest <= balance:\n",
        "                balance -= amount_to_invest * (1 + fee)\n",
        "                position += amount_to_invest / row['Ask']\n",
        "                number_of_long_positions += 1\n",
        "                entry_prices[row['Option_ID']] = row['Ask']\n",
        "\n",
        "        # Sell\n",
        "        elif row['Signal'] == -1 and position >= 0 and row[\"Quote_date\"] != row[\"Expiry_date\"] and balance > 100 and net_ratio > -long_short_ratio:\n",
        "            amount_to_sell = balance * investment_ratio\n",
        "            balance += amount_to_sell * (1 - fee)\n",
        "            position -= amount_to_sell / row['Bid']\n",
        "            number_of_short_positions += 1\n",
        "            entry_prices[row['Option_ID']] = row['Bid']\n",
        "\n",
        "        # Check if the stop-loss should be triggered\n",
        "        if row['Option_ID'] in entry_prices:\n",
        "            entry_price = entry_prices[row['Option_ID']]\n",
        "            current_price = row['Ask'] if position > 0 else row['Bid']\n",
        "            # Long\n",
        "            if position > 0 and (entry_price - current_price) / entry_price >= stop_loss:\n",
        "                balance += position * current_price * (1 - fee)\n",
        "                position = 0\n",
        "                number_of_long_positions -= 1\n",
        "                del entry_prices[row['Option_ID']]\n",
        "            # Short\n",
        "            elif position < 0 and (current_price - entry_price) / entry_price >= stop_loss:\n",
        "                balance -= position * current_price * (1 + fee)\n",
        "                position = 0\n",
        "                number_of_short_positions -= 1\n",
        "                del entry_prices[row['Option_ID']]\n",
        "\n",
        "        # Expire\n",
        "        elif row[\"Quote_date\"] == row[\"Expiry_date\"] and position != 0:\n",
        "            intrinsic_value = max(0, row['Underlying_last'] - row['Strike'])\n",
        "            adjustment = intrinsic_value if position > 0 else -intrinsic_value\n",
        "            balance += adjustment * abs(position)\n",
        "            position = 0\n",
        "            if position < 0:\n",
        "                number_of_short_positions -= 1\n",
        "            elif position > 0:\n",
        "                number_of_long_positions -= 1\n",
        "        \n",
        "        \n",
        "        row['Position_this_opt'] = position\n",
        "        position_dict[row['Option_ID']] = position\n",
        "        total_balance_dict[row['Quote_date']] = balance\n",
        "        row['Balance'] = balance\n",
        "\n",
        "        # Print progress\n",
        "        if row.name % 100000 == 0:\n",
        "            print(row[\"Quote_date\"])\n",
        "            print(\"Number of long positions: \", number_of_long_positions)\n",
        "            print(\"Number of short positions: \", number_of_short_positions)\n",
        "            print(\"Balnace: \", balance)\n",
        "        return row\n",
        "\n",
        "    df = df.apply(operation, axis=1)\n",
        "    df.loc[(df['Position_this_opt'] == 0), 'Balance'] = df['Quote_date'].map(total_balance_dict)\n",
        "    return df\n",
        "\n",
        "def calculate_options_value(df):\n",
        "    df['Options_value'] = 0\n",
        "    for date in df['Quote_date'].unique():\n",
        "        options_value_sum = (df.loc[df['Quote_date'] == date, 'Position_this_opt'] * df.loc[df['Quote_date'] == date, 'Price']).sum()\n",
        "        df.loc[df['Quote_date'] == date, 'Options_value'] = options_value_sum\n",
        "    df['Total_value'] = df['Balance'] + df['Options_value']\n",
        "    return df"
      ]
    },
    {
      "attachments": {},
      "cell_type": "markdown",
      "metadata": {
        "id": "9ajSbiuMW-O_"
      },
      "source": [
        "### Analysis functions"
      ]
    },
    {
      "cell_type": "code",
      "execution_count": null,
      "metadata": {
        "id": "fiHomkR8W-O_"
      },
      "outputs": [],
      "source": [
        "def sharpe_ratio(df):\n",
        "    df_group = df.groupby('Quote_date').last()\n",
        "    df_group['Excess_Returns'] = df_group['Total_value'].pct_change() - 0.02 / 252\n",
        "    sharpe_ratio = np.sqrt(252) * (df_group[\"Excess_Returns\"].mean() / df_group[\"Excess_Returns\"].std())\n",
        "    return sharpe_ratio"
      ]
    },
    {
      "cell_type": "code",
      "execution_count": null,
      "metadata": {
        "id": "odlaqecvW-PA"
      },
      "outputs": [],
      "source": [
        "def sharpe_ratio_monthly(df):\n",
        "    df_sharpe = df.copy()\n",
        "    df_sharpe[\"YYYY-MM\"] = df_sharpe[\"Quote_date\"].dt.strftime(\"%Y-%m\")\n",
        "    \n",
        "    # Find the risk-free rate for each month from a row with the same YYYY-MM and TTM close to one month\n",
        "    df_rf = df_sharpe.loc[(df_sharpe[\"TTM\"] >= 28) & (df_sharpe[\"TTM\"] <= 32)]  # Get the rows with TTM close to one month\n",
        "    df_rf = df_rf.groupby(\"YYYY-MM\").last()[\"R\"]\n",
        "    \n",
        "    df_sharpe = df_sharpe.groupby(\"YYYY-MM\").last()\n",
        "    df_sharpe[\"Returns\"] = df_sharpe[\"Total_value\"].pct_change()\n",
        "    \n",
        "    df_sharpe[\"Excess_Returns\"] = df_sharpe[\"Returns\"] - df_rf / 12\n",
        "    sharpe_ratio = np.sqrt(12) * (df_sharpe[\"Excess_Returns\"].mean() / df_sharpe[\"Excess_Returns\"].std())\n",
        "    \n",
        "    return sharpe_ratio"
      ]
    },
    {
      "cell_type": "code",
      "execution_count": null,
      "metadata": {
        "id": "opFKKX7eW-PA"
      },
      "outputs": [],
      "source": [
        "def capm_alpha(df_capm):\n",
        "    # Find alpha in the CAPM model using linear regression and grouping df by Quote_date, then taking the alpha of Total_value compared to Underlying_last which is the S&P500\n",
        "    df_capm = df_capm.groupby('Quote_date').last()\n",
        "    df_capm = df_capm[['Total_value', 'Underlying_last']]\n",
        "    df_capm = df_capm.dropna()\n",
        "    df_capm['Underlying_last'] = df_capm['Underlying_last'].pct_change()\n",
        "    df_capm['Total_value'] = df_capm['Total_value'].pct_change()\n",
        "    df_capm = df_capm.dropna()\n",
        "    df_capm = df_capm.reset_index()\n",
        "    df_capm = df_capm.drop(columns=['Quote_date'])\n",
        "    df_capm = df_capm.dropna()\n",
        "    X = df_capm['Underlying_last'].values.reshape(-1, 1)\n",
        "    y = df_capm['Total_value'].values.reshape(-1, 1)\n",
        "    reg = LinearRegression().fit(X, y)\n",
        "    return reg.intercept_[0] * 252"
      ]
    },
    {
      "cell_type": "code",
      "execution_count": null,
      "metadata": {
        "id": "rlSLCo2tW-PA"
      },
      "outputs": [],
      "source": [
        "def capm_beta(df_capm):\n",
        "    # Find beta in the CAPM model using linear regression and grouping df by Quote_date, then taking the beta of Total_value compared to Underlying_last which is the S&P500\n",
        "    df_capm = df_capm.groupby('Quote_date').last()\n",
        "    df_capm = df_capm[['Total_value', 'Underlying_last']]\n",
        "    df_capm = df_capm.dropna()\n",
        "    df_capm['Underlying_last'] = df_capm['Underlying_last'].pct_change()\n",
        "    df_capm['Total_value'] = df_capm['Total_value'].pct_change()\n",
        "    df_capm = df_capm.dropna()\n",
        "    df_capm = df_capm.reset_index()\n",
        "    df_capm = df_capm.drop(columns=['Quote_date'])\n",
        "    df_capm = df_capm.dropna()\n",
        "    X = df_capm['Underlying_last'].values.reshape(-1, 1)\n",
        "    y = df_capm['Total_value'].values.reshape(-1, 1)\n",
        "    reg = LinearRegression().fit(X, y)\n",
        "    return reg.coef_[0][0] * 252"
      ]
    },
    {
      "cell_type": "code",
      "execution_count": null,
      "metadata": {
        "id": "k7u_taPQW-PA"
      },
      "outputs": [],
      "source": [
        "def max_drawdown(df):\n",
        "    df_group = df.groupby('Quote_date').last()\n",
        "    df_group['Roll_Max'] = df_group['Total_value'].cummax()\n",
        "    df_group['Drawdown'] = df_group['Total_value'] / df_group['Roll_Max'] - 1.0\n",
        "    df_group['Drawdown'].min()\n",
        "    return df_group['Drawdown'].min() * 100"
      ]
    },
    {
      "cell_type": "code",
      "execution_count": null,
      "metadata": {
        "id": "4WYloSjZW-PA"
      },
      "outputs": [],
      "source": [
        "def print_results(df, starting_balance):\n",
        "    ending_balance = df['Balance'].iloc[-1]\n",
        "    profit = ending_balance - starting_balance\n",
        "    num_trades = df[df[\"Price\"] > 1][\"Signal\"].abs().sum()\n",
        "    profit_per_trade = profit / num_trades\n",
        "\n",
        "    df['Quote_date'] = pd.to_datetime(df['Quote_date'])\n",
        "    trading_days = df['Quote_date'].unique().shape[0] - 1\n",
        "    profit_per_day = profit / trading_days\n",
        "    num_days = (df['Quote_date'].max() - df['Quote_date'].min()).days\n",
        "\n",
        "    annualized_return = ((ending_balance / starting_balance)**(365/num_days) - 1)*100\n",
        "\n",
        "    print(f\"Starting balance: {starting_balance}\")\n",
        "    print(f\"Ending balance: {ending_balance.round(0)}\")\n",
        "    print(f\"Profit: {profit.round(0)}\")\n",
        "    print(f\"Profit per trade: {profit_per_trade.round(2)}\")\n",
        "    print(f\"Profit per trading day: {profit_per_day.round(2)}\")\n",
        "    print(f\"Sharpe ratio: {sharpe_ratio_monthly(df).round(2)}\")\n",
        "    print(f\"CAPM alpha: {capm_alpha(df).round(2)}\")\n",
        "    print(f\"Annualized return in percent: {annualized_return.round(2)}\")\n",
        "    print(f\"Max drawdown: {max_drawdown(df).round(2)}\")"
      ]
    },
    {
      "cell_type": "code",
      "execution_count": null,
      "metadata": {
        "id": "znX2Ap1wW-PB"
      },
      "outputs": [],
      "source": [
        "def plot(df):\n",
        "    # Just keep one row per Quote_date, and that should be the last row\n",
        "    df = df.groupby('Quote_date').last()\n",
        "    plt.plot(df['Total_value'], label='Total value')\n",
        "    plt.plot(df['Balance'], label='Cash')\n",
        "    plt.plot(df['Options_value'], label='Net value of options')\n",
        "    plt.title('Portfolio value over time')\n",
        "    # Make plot smaller\n",
        "    ax = plt.gca()\n",
        "    plt.xticks(rotation=45)\n",
        "    plt.legend()\n",
        "    plt.show()"
      ]
    },
    {
      "attachments": {},
      "cell_type": "markdown",
      "metadata": {
        "id": "TZpN3YOyW-PB"
      },
      "source": [
        "## Run the code"
      ]
    },
    {
      "cell_type": "code",
      "execution_count": null,
      "metadata": {
        "id": "l6vumNgSW-PB"
      },
      "outputs": [],
      "source": [
        "def get_table(df, starting_balance, price_cap_lower, investment_ratio, long_short_ratio, buy_threshold, sell_threshold):\n",
        "    # Initialize an empty DataFrame to store the results\n",
        "    results = pd.DataFrame(columns=[\"Year\", \"Starting balance\", \"Ending balance\", \"Profit\", \"Profit per trade\", \"Profit per trading day\", \n",
        "                                    \"Sharpe ratio\", \"CAPM alpha\", \"Annualized return in percent\", \"Max drawdown\"])\n",
        "\n",
        "    # Get the list of years present in the data\n",
        "    df['Quote_date'] = pd.to_datetime(df['Quote_date'])\n",
        "    years = df['Quote_date'].dt.year.unique()\n",
        "\n",
        "    # Sort the years\n",
        "    years.sort()\n",
        "\n",
        "    # Iterate over each year\n",
        "    for year in years:\n",
        "        df_year = df[df['Quote_date'].dt.year == year].copy()\n",
        "        \n",
        "        if not df_year.empty:\n",
        "            # Execute operations\n",
        "            buy_signal, sell_signal = generate_buy_sell_signals(df_year, buy_threshold, sell_threshold=buy_threshold) # Same buy and sell threshold\n",
        "            df_year = trader(df_year, buy_signal, sell_signal, starting_balance, price_cap_lower, investment_ratio, long_short_ratio)\n",
        "            df_year = calculate_options_value(df_year)\n",
        "\n",
        "            # Calculate metrics\n",
        "            ending_balance = df_year['Balance'].iloc[-1]\n",
        "            profit = ending_balance - starting_balance\n",
        "            num_trades = df_year[df_year[\"Price\"] > 1][\"Signal\"].abs().sum()\n",
        "            profit_per_trade = profit / num_trades\n",
        "\n",
        "            trading_days = df_year['Quote_date'].unique().shape[0] - 1\n",
        "            profit_per_day = profit / trading_days\n",
        "            num_days = (df_year['Quote_date'].max() - df_year['Quote_date'].min()).days\n",
        "\n",
        "            annualized_return = ((ending_balance / starting_balance)**(365/num_days) - 1)*100\n",
        "\n",
        "            plot(df_year)\n",
        "\n",
        "            # Create a DataFrame for this year's metrics\n",
        "            year_metrics = pd.DataFrame({\n",
        "                \"Year\": [year], \n",
        "                \"Starting balance\": [starting_balance], \n",
        "                \"Ending balance\": [ending_balance.round(0)], \n",
        "                \"Profit\": [profit.round(0)], \n",
        "                \"Profit per trade\": [profit_per_trade.round(2)], \n",
        "                \"Profit per trading day\": [profit_per_day.round(2)], \n",
        "                \"Sharpe ratio\": [sharpe_ratio_monthly(df_year).round(2)], \n",
        "                \"CAPM alpha\": [capm_alpha(df_year).round(2)], \n",
        "                \"Annualized return in percent\": [annualized_return.round(2)], \n",
        "                \"Max drawdown\": [max_drawdown(df_year).round(2)]\n",
        "            })\n",
        "\n",
        "            # Add metrics to the results DataFrame\n",
        "            results = pd.concat([results, year_metrics])\n",
        "\n",
        "    # Reset index of the results DataFrame\n",
        "    results.reset_index(drop=True, inplace=True)\n",
        "\n",
        "    # Print the results DataFrame\n",
        "    print(results)\n",
        "\n",
        "    # Return average sharpe ratio, alpha and annualized return\n",
        "    return results[\"Sharpe ratio\"].mean(), results[\"CAPM alpha\"].mean(), results[\"Annualized return in percent\"].mean(), results[\"Ending balance\"].mean(), "
      ]
    },
    {
      "attachments": {},
      "cell_type": "markdown",
      "metadata": {
        "id": "m9ParidnW-PB"
      },
      "source": [
        "### Post analysis"
      ]
    },
    {
      "cell_type": "code",
      "execution_count": null,
      "metadata": {
        "id": "P6hDVveTW-PB"
      },
      "outputs": [],
      "source": [
        "if run_optimizing == False:\n",
        "    plot(df)"
      ]
    },
    {
      "attachments": {},
      "cell_type": "markdown",
      "metadata": {
        "id": "tk4zn6QHW-PB"
      },
      "source": [
        "## Threshold search"
      ]
    },
    {
      "cell_type": "code",
      "execution_count": null,
      "metadata": {
        "id": "e1z1DoZUW-PC"
      },
      "outputs": [],
      "source": [
        "if run_optimizing:\n",
        "    # Initialize wandb\n",
        "    !pip install wandb\n",
        "    import wandb\n",
        "    wandb.login(key=\"b47bcf387a0571c5520c58a13be35cda8ada0a99\")\n",
        "\n",
        "    # Define the hyperparameters\n",
        "    sweep_config = {\n",
        "    'method': 'grid',\n",
        "    'name': '2015-2023 - Average - v13',\n",
        "    'metric': {\n",
        "        'goal': 'maximize', \n",
        "        'name': 'alpha'\n",
        "        },\n",
        "    'parameters': {\n",
        "        'buy_sell_threshold': {\n",
        "            'values': [0.05, 0.1, 0.2]},\n",
        "        'price_cap_lower': {\n",
        "            'values': [0.5]},\n",
        "        'investment_ratio': {\n",
        "            'values': [5e-5, 1e-4]},\n",
        "        'long_short_ratio': {\n",
        "            'values': [0.02, 0.5]},\n",
        "        'stop_loss': {\n",
        "            'values': [0.05, 0.1, 0.2, 0.5]},\n",
        "        }\n",
        "    }\n",
        "    sweep_id = wandb.sweep(sweep=sweep_config, project='options-trading') \n"
      ]
    },
    {
      "cell_type": "code",
      "execution_count": null,
      "metadata": {
        "id": "vVTB3565W-PC"
      },
      "outputs": [],
      "source": [
        "if run_optimizing:\n",
        "    def find_best_thresholds(df = df):\n",
        "        run = wandb.init(project = \"options-trading\")\n",
        "        df = df.copy()\n",
        "        sharpe, alpha, annualized_return, ending_balance = get_table(df, 1000000, run.config.price_cap_lower, run.config.investment_ratio, run.config.long_short_ratio, run.config.buy_sell_threshold, run.config.buy_sell_threshold)\n",
        "        run.log({\"buy_threshold\": run.config.buy_sell_threshold, \"sharpe_ratio\": sharpe, \"ending_balance\": ending_balance, \"alpha\": alpha, \"long_short_ratio\": run.config.long_short_ratio, \"price_cap_lower\": run.config.price_cap_lower, \"investment_ratio\": run.config.investment_ratio, \"annualized_return\": annualized_return, \"stop_loss\": run.config.stop_loss})\n",
        "        # Wandb callback\n",
        "        run.finish()\n",
        "\n",
        "    wandb.agent(sweep_id=sweep_id, function=find_best_thresholds, project='options-trading', count = 1000)"
      ]
    }
  ],
  "metadata": {
    "colab": {
      "provenance": []
    },
    "kernelspec": {
      "display_name": "Python 3",
      "language": "python",
      "name": "python3"
    },
    "language_info": {
      "codemirror_mode": {
        "name": "ipython",
        "version": 3
      },
      "file_extension": ".py",
      "mimetype": "text/x-python",
      "name": "python",
      "nbconvert_exporter": "python",
      "pygments_lexer": "ipython3",
      "version": "3.9.13"
    },
    "orig_nbformat": 4
  },
  "nbformat": 4,
  "nbformat_minor": 0
}
