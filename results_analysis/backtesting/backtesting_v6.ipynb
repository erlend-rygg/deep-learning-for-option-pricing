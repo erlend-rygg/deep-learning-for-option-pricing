{
 "cells": [
  {
   "attachments": {},
   "cell_type": "markdown",
   "metadata": {},
   "source": [
    "### Imports and data loading"
   ]
  },
  {
   "cell_type": "code",
   "execution_count": 24,
   "metadata": {},
   "outputs": [],
   "source": [
    "import pandas as pd\n",
    "import datetime\n",
    "import os\n",
    "import sys\n",
    "import math\n",
    "import matplotlib.pyplot as plt\n",
    "import numpy as np\n",
    "import warnings\n",
    "from pandas.errors import SettingWithCopyWarning\n",
    "\n",
    "warnings.simplefilter(action='ignore', category=SettingWithCopyWarning)"
   ]
  },
  {
   "attachments": {},
   "cell_type": "markdown",
   "metadata": {},
   "source": [
    "## Data loading"
   ]
  },
  {
   "cell_type": "code",
   "execution_count": 25,
   "metadata": {},
   "outputs": [],
   "source": [
    "google_colab = False\n",
    "if google_colab:\n",
    "    from google.colab import drive\n",
    "    drive.mount('/content/drive')\n",
    "    !pip install -U -q PyDrive\n",
    "    from pydrive.auth import GoogleAuth\n",
    "    from pydrive.drive import GoogleDrive\n",
    "    from google.colab import auth\n",
    "    from oauth2client.client import GoogleCredentials\n",
    "    # Authenticate and create the PyDrive client.\n",
    "    auth.authenticate_user()\n",
    "    gauth = GoogleAuth()\n",
    "    gauth.credentials = GoogleCredentials.get_application_default()\n",
    "    drive = GoogleDrive(gauth)\n",
    "    id = \"kLmDPAmiTHNw_cv3lr6wY9DfSt8RSHv\"\n",
    "    downloaded = drive.CreateFile({'id':id}) \n",
    "    downloaded.GetContentFile('05-07_11-26.csv')  \n",
    "    df = pd.read_csv('05-07_11-26.csv')\n",
    "else:\n",
    "    # Set the path to the root directory\n",
    "    path = os.path.abspath(os.path.join(os.getcwd(), os.pardir))\n",
    "    sys.path.append(path)\n",
    "\n",
    "    # Load Model 3 prediction file\n",
    "    df = pd.read_csv(path + '/data/predictions/05-07_11-26.csv')"
   ]
  },
  {
   "attachments": {},
   "cell_type": "markdown",
   "metadata": {},
   "source": [
    "### Data processing"
   ]
  },
  {
   "cell_type": "code",
   "execution_count": 28,
   "metadata": {},
   "outputs": [],
   "source": [
    "df['Expiry_date'] = pd.to_datetime(df['Quote_date']) + pd.to_timedelta(df['TTM'] * 365, unit='D')"
   ]
  },
  {
   "cell_type": "code",
   "execution_count": 29,
   "metadata": {},
   "outputs": [],
   "source": [
    "# FIlter between 2017-12-26 and 2018-02-01\n",
    "df = df[(df['Expiry_date'] <= '2015-12-31')]\n",
    "df = df.sample(50000)"
   ]
  },
  {
   "cell_type": "code",
   "execution_count": 26,
   "metadata": {},
   "outputs": [],
   "source": [
    "df_read = df.copy()"
   ]
  },
  {
   "cell_type": "code",
   "execution_count": 30,
   "metadata": {},
   "outputs": [
    {
     "name": "stdout",
     "output_type": "stream",
     "text": [
      "148656\n"
     ]
    }
   ],
   "source": [
    "print(len(df))"
   ]
  },
  {
   "attachments": {},
   "cell_type": "markdown",
   "metadata": {},
   "source": [
    "Adding ID"
   ]
  },
  {
   "cell_type": "code",
   "execution_count": 31,
   "metadata": {},
   "outputs": [],
   "source": [
    "df[\"Option_ID\"] = df[\"Expiry_date\"].astype(str) + df[\"Strike\"].astype(str)"
   ]
  },
  {
   "attachments": {},
   "cell_type": "markdown",
   "metadata": {},
   "source": [
    "Adding TTM=0 row"
   ]
  },
  {
   "cell_type": "code",
   "execution_count": 32,
   "metadata": {},
   "outputs": [],
   "source": [
    "# Sort the dataframe by Quote_date and Expiry_date\n",
    "df = df.sort_values(['Quote_date', 'Expiry_date'])\n",
    "\n",
    "# Adding intrinsic value as Price on expirty date\n",
    "# Iterate over every option, which is identified by the combination of Quote_date, Expiry_date, Strike\n",
    "groups = df.groupby(['Expiry_date', 'Strike'])\n",
    "for _, group in groups:\n",
    "    # Create a new row for the date of expiry\n",
    "    new_row = group.iloc[-1].copy()\n",
    "    new_row['Price'] = max(0, new_row['Underlying_last'] - new_row['Strike'])\n",
    "    new_row['TTM'] = 0\n",
    "    new_row['Quote_date'] = new_row['Expiry_date']\n",
    "    df = pd.concat([df, new_row.to_frame().transpose()], ignore_index=True)\n",
    "\n",
    "\n",
    "# Quote_date and Expiry_date to datetime\n",
    "df['Quote_date'] = pd.to_datetime(df['Quote_date'])\n",
    "df['Expiry_date'] = pd.to_datetime(df['Expiry_date'])\n",
    "\n",
    "df_read = df.copy()\n"
   ]
  },
  {
   "attachments": {},
   "cell_type": "markdown",
   "metadata": {},
   "source": [
    "### Parameters"
   ]
  },
  {
   "cell_type": "code",
   "execution_count": 33,
   "metadata": {},
   "outputs": [],
   "source": [
    "buy_threshold = 10\n",
    "sell_threshold = 9\n",
    "starting_balance = 1000000"
   ]
  },
  {
   "attachments": {},
   "cell_type": "markdown",
   "metadata": {},
   "source": [
    "### Functions"
   ]
  },
  {
   "cell_type": "code",
   "execution_count": 34,
   "metadata": {},
   "outputs": [],
   "source": [
    "def generate_buy_sell_signals(df, buy_threshold, sell_threshold):\n",
    "    buy_signal = (df['Prediction'] - df['Price']) >= buy_threshold\n",
    "    sell_signal = (df['Price'] - df['Prediction']) >= sell_threshold\n",
    "    return buy_signal, sell_signal\n",
    "\n",
    "\n",
    "def trader(df, buy_signal, sell_signal, starting_balance):\n",
    "    df[\"Option_ID\"] = df[\"Expiry_date\"].astype(str) + df[\"Strike\"].astype(str)\n",
    "    last_date = df['Quote_date'].max()\n",
    "    df = df[pd.to_datetime(df['Expiry_date']) < pd.to_datetime(last_date)]\n",
    "    df['Signal'] = 0\n",
    "    df.loc[buy_signal, 'Signal'] = 1\n",
    "    df.loc[sell_signal, 'Signal'] = -1\n",
    "    df['Balance'] = starting_balance\n",
    "    df[\"Position_this_opt\"] = 0\n",
    "\n",
    "    quote_date_grouped = df.groupby('Quote_date')\n",
    "\n",
    "    for quote_date, group in quote_date_grouped:\n",
    "        group = group.sample(frac=1)\n",
    "\n",
    "        for _, row in group.iterrows():\n",
    "            option_position = df.loc[(df['Option_ID'] == row['Option_ID']) & (df['Quote_date'] <= row['Quote_date']), 'Position_this_opt'].iloc[-1]\n",
    "\n",
    "            # Buy the option\n",
    "            if row['Signal'] == 1 and option_position == 0 and row['Balance'] >= row['Price'] and row[\"Quote_date\"] != row[\"Expiry_date\"]:\n",
    "                option_position = 1\n",
    "                df.loc[(df['Quote_date'] >= row['Quote_date']) & (df['Option_ID'] == row['Option_ID']), 'Position_this_opt'] = option_position\n",
    "                df.loc[df['Quote_date'] >= row['Quote_date'], 'Balance'] -= row['Price']\n",
    "\n",
    "            # Sell the option\n",
    "            if row['Signal'] == -1 and option_position == 0 and row[\"Quote_date\"] != row[\"Expiry_date\"]:\n",
    "                option_position = -1\n",
    "                df.loc[(df['Quote_date'] >= row['Quote_date']) & (df['Option_ID'] == row['Option_ID']), 'Position_this_opt'] = option_position\n",
    "                df.loc[df['Quote_date'] >= row['Quote_date'], 'Balance'] += row['Price']\n",
    "\n",
    "            # Option expires\n",
    "            if row[\"Quote_date\"] == row[\"Expiry_date\"] and option_position != 0:\n",
    "                option_position = 0\n",
    "                df.loc[(df['Quote_date'] > row['Quote_date']) & (df['Option_ID'] == row['Option_ID']), 'Position_this_opt'] = option_position\n",
    "                intrinsic_value = max(0, row['Underlying_last'] - row['Strike'])\n",
    "                adjustment = intrinsic_value if option_position == 1 else -intrinsic_value\n",
    "                df.loc[df['Quote_date'] > row['Quote_date'], 'Balance'] += adjustment\n",
    "    return df\n",
    "\n",
    "\n",
    "\n",
    "def calculate_options_value(df):\n",
    "    df['Options_value'] = 0\n",
    "    # Iterate over every Quote_date\n",
    "    for date in df['Quote_date'].unique():\n",
    "        # For every Quote date, multiply each row's Position_this_opt with the Price and sum it up.\n",
    "        options_value_sum = (df.loc[df['Quote_date'] == date, 'Position_this_opt'] * df.loc[df['Quote_date'] == date, 'Price']).sum()\n",
    "        # The result should be added to every row with the same Quote_date in the Options_value\n",
    "        df.loc[df['Quote_date'] == date, 'Options_value'] = options_value_sum\n",
    "    df['Total_value'] = df['Balance'] + df['Options_value']\n",
    "    return df"
   ]
  },
  {
   "attachments": {},
   "cell_type": "markdown",
   "metadata": {},
   "source": [
    "### Run code"
   ]
  },
  {
   "cell_type": "code",
   "execution_count": 35,
   "metadata": {},
   "outputs": [],
   "source": [
    "df = df_read.copy()\n",
    "buy_signal, sell_signal = generate_buy_sell_signals(df, buy_threshold, sell_threshold)\n",
    "df = trader(df, buy_signal, sell_signal, starting_balance)\n",
    "df = calculate_options_value(df)"
   ]
  },
  {
   "cell_type": "code",
   "execution_count": 36,
   "metadata": {},
   "outputs": [
    {
     "name": "stdout",
     "output_type": "stream",
     "text": [
      "Starting balance 100000\n",
      "Ending balance -106423.8899999997\n",
      "Number of trades 11082\n",
      "Profit -206423.8899999997\n",
      "Profit per trade -18.626952716116197\n",
      "Profit per day -2400.2777906976708\n",
      "Number of days 86\n",
      "CAGR nan\n"
     ]
    },
    {
     "name": "stderr",
     "output_type": "stream",
     "text": [
      "/var/folders/wk/x86_p6511l95p594k6qnb98h0000gn/T/ipykernel_18919/3261124750.py:10: RuntimeWarning: invalid value encountered in scalar power\n",
      "  cagr = (df['Total_value'].iloc[-1] / starting_balance) ** (365 / num_days) - 1\n"
     ]
    }
   ],
   "source": [
    "print(\"Starting balance\", starting_balance)\n",
    "print(\"Ending balance\", df['Balance'].iloc[-1])\n",
    "print(\"Number of trades\", df['Signal'].abs().sum())\n",
    "profit = df['Balance'].iloc[-1] - starting_balance\n",
    "print(\"Profit\", profit)\n",
    "print(\"Profit per trade\", profit / df['Signal'].abs().sum())\n",
    "print(\"Profit per day\", profit / (df['Quote_date'].max() - df['Quote_date'].min()).days)\n",
    "num_days = (df['Quote_date'].max() - df['Quote_date'].min()).days\n",
    "print(\"Number of days\", num_days)\n",
    "cagr = (df['Total_value'].iloc[-1] / starting_balance) ** (365 / num_days) - 1\n",
    "print(\"CAGR\", cagr)\n",
    "\n"
   ]
  },
  {
   "attachments": {},
   "cell_type": "markdown",
   "metadata": {},
   "source": [
    "### Analysis"
   ]
  },
  {
   "cell_type": "code",
   "execution_count": 39,
   "metadata": {},
   "outputs": [],
   "source": [
    "import matplotlib.pyplot as plt\n",
    "\n",
    "def plot(df):\n",
    "    # Just keep one row per Quote_date, and that should be the last row\n",
    "    df = df.groupby('Quote_date').last()\n",
    "    plt.plot(df['Total_value'], label='Total value')\n",
    "    plt.plot(df['Balance'], label='Balance')\n",
    "    plt.plot(df['Options_value'], label='Options value')\n",
    "    plt.title('Portfolio value over time')\n",
    "    # Set x-axis major ticks to weekly interval, on Mondays\n",
    "    ax = plt.gca()\n",
    "    plt.xticks(rotation=45)\n",
    "    plt.legend()\n",
    "    plt.show()"
   ]
  },
  {
   "cell_type": "code",
   "execution_count": 40,
   "metadata": {},
   "outputs": [
    {
     "data": {
      "image/png": "[encoded data removed]",
      "text/plain": [
       "<Figure size 640x480 with 1 Axes>"
      ]
     },
     "metadata": {},
     "output_type": "display_data"
    }
   ],
   "source": [
    "plot(df)"
   ]
  },
  {
   "cell_type": "code",
   "execution_count": 41,
   "metadata": {},
   "outputs": [
    {
     "name": "stdout",
     "output_type": "stream",
     "text": [
      "Sharpe ratio -0.11852019075607798\n",
      "Max drawdown -1.8302510002376557\n"
     ]
    }
   ],
   "source": [
    "import numpy as np\n",
    "\n",
    "# Calculate the sharpe ratio of the strategy using the daily returns and using df[\"R\"] as the annualised risk-free rate\n",
    "def sharpe_ratio(df):\n",
    "    df[\"Daily_returns\"] = df[\"Total_value\"].pct_change()\n",
    "    sharpe_ratio = np.sqrt(252) * ((df[\"Daily_returns\"].mean() - (df[\"R\"]/252).mean()) / df[\"Daily_returns\"].std())\n",
    "    return sharpe_ratio\n",
    "\n",
    "# Calculate max drawdown\n",
    "def max_drawdown(df):\n",
    "    df[\"Drawdown\"] = df[\"Total_value\"] / df[\"Total_value\"].cummax() - 1\n",
    "    max_drawdown = df[\"Drawdown\"].min()\n",
    "    return max_drawdown"
   ]
  },
  {
   "attachments": {},
   "cell_type": "markdown",
   "metadata": {},
   "source": [
    "### Finding best thresholds"
   ]
  },
  {
   "cell_type": "code",
   "execution_count": 42,
   "metadata": {},
   "outputs": [],
   "source": [
    "# Test many conbinations of sell and buy thresholds to find the one that gives the highest Sharpe ratio\n",
    "def find_best_thresholds(df, starting_balance):\n",
    "    best_sharpe = -100\n",
    "    best_sell = 0\n",
    "    best_buy = 0\n",
    "    for sell in range(5, 25, 5):\n",
    "        for buy in range(5, 25, 5):\n",
    "            df = df_read.copy()\n",
    "            buy_signal, sell_signal = generate_buy_sell_signals(df, buy, sell)\n",
    "            df = trader(df, buy_signal, sell_signal, starting_balance)\n",
    "            df = calculate_options_value(df)\n",
    "            sharpe = sharpe_ratio(df)\n",
    "            # Print and plot the results\n",
    "            print(\"Buy threshold\", buy, \"Sell threshold\", sell, \"Sharpe ratio\", sharpe)\n",
    "            print(\"Starting balance\", starting_balance, \"Ending balance\", df['Balance'].iloc[-1])\n",
    "            print(\"Anualiased return\", (df['Balance'].iloc[-1] / starting_balance - 1) * 252 / len(df))\n",
    "            print(\"sharpe_ratio\", sharpe_ratio(df))\n",
    "            plot(df)\n",
    "            if sharpe > best_sharpe:\n",
    "                best_sharpe = sharpe\n",
    "                best_sell = sell\n",
    "                best_buy = buy\n",
    "    return best_sharpe, best_sell, best_buy\n",
    "\n",
    "best_sharpe, best_sell, best_buy = find_best_thresholds(df_read, starting_balance)\n",
    "print(\"Best Sharpe ratio\", best_sharpe, \"Best sell threshold\", best_sell, \"Best buy threshold\", best_buy)"
   ]
  }
 ],
 "metadata": {
  "kernelspec": {
   "display_name": "Python 3",
   "language": "python",
   "name": "python3"
  },
  "language_info": {
   "codemirror_mode": {
    "name": "ipython",
    "version": 3
   },
   "file_extension": ".py",
   "mimetype": "text/x-python",
   "name": "python",
   "nbconvert_exporter": "python",
   "pygments_lexer": "ipython3",
   "version": "3.10.9"
  },
  "orig_nbformat": 4
 },
 "nbformat": 4,
 "nbformat_minor": 2
}
