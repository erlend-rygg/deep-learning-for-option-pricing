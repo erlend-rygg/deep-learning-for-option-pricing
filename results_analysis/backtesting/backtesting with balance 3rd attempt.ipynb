{
 "cells": [
  {
   "attachments": {},
   "cell_type": "markdown",
   "metadata": {},
   "source": [
    "### Imports and data loading"
   ]
  },
  {
   "cell_type": "code",
   "execution_count": 1,
   "metadata": {},
   "outputs": [],
   "source": [
    "import pandas as pd\n",
    "import backtrader as bt\n",
    "import datetime\n",
    "import os\n",
    "import sys\n",
    "import matplotlib.pyplot as plt\n",
    "import numpy as np\n",
    "import warnings\n",
    "from pandas.errors import SettingWithCopyWarning\n",
    "\n",
    "%matplotlib inline\n",
    "\n",
    "warnings.simplefilter(action='ignore', category=SettingWithCopyWarning)\n",
    "\n",
    "# Set the path to the root directory\n",
    "path = os.path.abspath(os.path.join(os.getcwd(), os.pardir))\n",
    "sys.path.append(path)\n",
    "\n",
    "# Load Model 3 prediction file\n",
    "df = pd.read_csv(path + '/data/predictions/12.csv')\n",
    "\n",
    "# Quote_date between 2018-01-01 and 2018-01-31\n",
    "df = df[(df['Quote_date'] >= '2018-01-01') & (df['Quote_date'] <= '2018-01-31')]"
   ]
  },
  {
   "attachments": {},
   "cell_type": "markdown",
   "metadata": {},
   "source": [
    "## Data processing"
   ]
  },
  {
   "cell_type": "code",
   "execution_count": 2,
   "metadata": {},
   "outputs": [],
   "source": [
    "df['Expiry_date'] = pd.to_datetime(df['Quote_date']) + pd.to_timedelta(df['TTM'], unit='D')\n",
    "df = df.dropna()"
   ]
  },
  {
   "attachments": {},
   "cell_type": "markdown",
   "metadata": {},
   "source": [
    "#### Adding ID column and new row for TTM = 0"
   ]
  },
  {
   "cell_type": "code",
   "execution_count": 3,
   "metadata": {},
   "outputs": [],
   "source": [
    "# Sort the dataframe by Quote_date and Expiry_date\n",
    "df = df.sort_values(['Quote_date', 'Expiry_date'])\n",
    "\n",
    "# Create a dictionary to store the unique IDs for each group\n",
    "group_id_dict = {}\n",
    "\n",
    "# Enumerate over the unique groups to create a mapping from group to ID\n",
    "for idx, group in enumerate(df.groupby(['Expiry_date', 'Strike']).groups.keys(), start=1):\n",
    "    group_id_dict[group] = idx\n",
    "\n",
    "# Use the apply method to assign IDs to each row based on their group membership\n",
    "df['Option_ID'] = df.apply(lambda row: group_id_dict[(row['Expiry_date'], row['Strike'])], axis=1)"
   ]
  },
  {
   "cell_type": "code",
   "execution_count": 4,
   "metadata": {},
   "outputs": [
    {
     "name": "stderr",
     "output_type": "stream",
     "text": [
      "/var/folders/wk/x86_p6511l95p594k6qnb98h0000gn/T/ipykernel_11439/1592736345.py:3: FutureWarning: In a future version of pandas, a length 1 tuple will be returned when iterating over a groupby with a grouper equal to a list of length 1. Don't supply a list with a single grouper to avoid this warning.\n",
      "  for _, group in groups:\n"
     ]
    }
   ],
   "source": [
    "# Adding intrinsic value as Price on expirty date\n",
    "groups = df.groupby(['Option_ID'])\n",
    "for _, group in groups:\n",
    "    # Create a new row for the date of expiry\n",
    "    if group.iloc[-1][\"TTM\"] == 1 and pd.to_datetime(group.iloc[-1][\"Expiry_date\"] )< pd.to_datetime(df[\"Quote_date\"]).max():\n",
    "        new_row = group.iloc[-1].copy()\n",
    "        new_row['Price'] = max(0, new_row['Underlying_last'] - new_row['Strike'])\n",
    "        new_row['TTM'] = 0\n",
    "        new_row['Quote_date'] = new_row['Expiry_date']\n",
    "        df = pd.concat([df, new_row.to_frame().transpose()], ignore_index=True)\n",
    "\n",
    "df_read = df.copy()\n"
   ]
  },
  {
   "attachments": {},
   "cell_type": "markdown",
   "metadata": {},
   "source": [
    "### Parameters"
   ]
  },
  {
   "cell_type": "code",
   "execution_count": 5,
   "metadata": {},
   "outputs": [],
   "source": [
    "buy_threshold = 5\n",
    "sell_threshold = 9\n",
    "starting_balance = 1000000"
   ]
  },
  {
   "attachments": {},
   "cell_type": "markdown",
   "metadata": {},
   "source": [
    "## Backtrader"
   ]
  },
  {
   "cell_type": "code",
   "execution_count": 6,
   "metadata": {},
   "outputs": [
    {
     "name": "stdout",
     "output_type": "stream",
     "text": [
      "Number of trades: 0\n"
     ]
    },
    {
     "ename": "KeyError",
     "evalue": "",
     "output_type": "error",
     "traceback": [
      "\u001b[0;31m---------------------------------------------------------------------------\u001b[0m",
      "\u001b[0;31mKeyError\u001b[0m                                  Traceback (most recent call last)",
      "Cell \u001b[0;32mIn[6], line 64\u001b[0m\n\u001b[1;32m     61\u001b[0m result \u001b[39m=\u001b[39m results[\u001b[39m0\u001b[39m]\n\u001b[1;32m     63\u001b[0m \u001b[39mprint\u001b[39m(\u001b[39m'\u001b[39m\u001b[39mNumber of trades: \u001b[39m\u001b[39m{}\u001b[39;00m\u001b[39m'\u001b[39m\u001b[39m.\u001b[39mformat(result\u001b[39m.\u001b[39manalyzers\u001b[39m.\u001b[39mtrade_analyzer\u001b[39m.\u001b[39mget_analysis()[\u001b[39m'\u001b[39m\u001b[39mtotal\u001b[39m\u001b[39m'\u001b[39m][\u001b[39m'\u001b[39m\u001b[39mtotal\u001b[39m\u001b[39m'\u001b[39m]))\n\u001b[0;32m---> 64\u001b[0m \u001b[39mprint\u001b[39m(\u001b[39m'\u001b[39m\u001b[39mNumber of winning trades: \u001b[39m\u001b[39m{}\u001b[39;00m\u001b[39m'\u001b[39m\u001b[39m.\u001b[39mformat(result\u001b[39m.\u001b[39;49manalyzers\u001b[39m.\u001b[39;49mtrade_analyzer\u001b[39m.\u001b[39;49mget_analysis()[\u001b[39m'\u001b[39;49m\u001b[39mwon\u001b[39;49m\u001b[39m'\u001b[39;49m][\u001b[39m'\u001b[39m\u001b[39mtotal\u001b[39m\u001b[39m'\u001b[39m]))\n\u001b[1;32m     65\u001b[0m \u001b[39mprint\u001b[39m(\u001b[39m'\u001b[39m\u001b[39mNumber of losing trades: \u001b[39m\u001b[39m{}\u001b[39;00m\u001b[39m'\u001b[39m\u001b[39m.\u001b[39mformat(result\u001b[39m.\u001b[39manalyzers\u001b[39m.\u001b[39mtrade_analyzer\u001b[39m.\u001b[39mget_analysis()[\u001b[39m'\u001b[39m\u001b[39mlost\u001b[39m\u001b[39m'\u001b[39m][\u001b[39m'\u001b[39m\u001b[39mtotal\u001b[39m\u001b[39m'\u001b[39m]))\n\u001b[1;32m     67\u001b[0m \u001b[39mprint\u001b[39m(\u001b[39m'\u001b[39m\u001b[39mSharpe Ratio:\u001b[39m\u001b[39m'\u001b[39m, result\u001b[39m.\u001b[39manalyzers\u001b[39m.\u001b[39msharpe_ratio\u001b[39m.\u001b[39mget_analysis()[\u001b[39m'\u001b[39m\u001b[39msharperatio\u001b[39m\u001b[39m'\u001b[39m])\n",
      "File \u001b[0;32m/Library/Frameworks/Python.framework/Versions/3.10/lib/python3.10/site-packages/backtrader/utils/autodict.py:94\u001b[0m, in \u001b[0;36mAutoOrderedDict.__missing__\u001b[0;34m(self, key)\u001b[0m\n\u001b[1;32m     92\u001b[0m \u001b[39mdef\u001b[39;00m \u001b[39m__missing__\u001b[39m(\u001b[39mself\u001b[39m, key):\n\u001b[1;32m     93\u001b[0m     \u001b[39mif\u001b[39;00m \u001b[39mself\u001b[39m\u001b[39m.\u001b[39m_closed:\n\u001b[0;32m---> 94\u001b[0m         \u001b[39mraise\u001b[39;00m \u001b[39mKeyError\u001b[39;00m\n\u001b[1;32m     96\u001b[0m     \u001b[39m# value = self[key] = type(self)()\u001b[39;00m\n\u001b[1;32m     97\u001b[0m     value \u001b[39m=\u001b[39m \u001b[39mself\u001b[39m[key] \u001b[39m=\u001b[39m AutoOrderedDict()\n",
      "\u001b[0;31mKeyError\u001b[0m: "
     ]
    }
   ],
   "source": [
    "df = df_read.copy()\n",
    "\n",
    "# Filter Option_IDs between 1000 and 1100\n",
    "df = df[(df['Option_ID'] >= 2678) & (df['Option_ID'] <= 2678)]\n",
    "\n",
    "# Assuming df is your given dataframe\n",
    "df['Close'] = df['Price']\n",
    "df['Open'] = df['Close']\n",
    "df['High'] = df['Close']\n",
    "df['Low'] = df['Close']\n",
    "\n",
    "df['Date'] = pd.to_datetime(df['Quote_date'])\n",
    "df.set_index('Date', inplace=True)\n",
    "\n",
    "# Add volume and open interest columns\n",
    "df['Prediction'] = df['Prediction']\n",
    "df['Option_ID'] = df[\"Option_ID\"]\n",
    "\n",
    "# Select only the required columns\n",
    "backtrader_df = df[['Open', 'High', 'Low', 'Close', 'Prediction', 'Option_ID']]\n",
    "\n",
    "backtrader_df\n",
    "\n",
    "# Create custom datafeed class\n",
    "class PredictionDataFeed(bt.feeds.PandasData):\n",
    "    lines = ('Prediction', 'Option_ID')\n",
    "    params = (\n",
    "        ('Prediction', -1),\n",
    "        ('Option_ID', -1),\n",
    "    )\n",
    "    \n",
    "# Add a stratergy where we buy if price - volume > 1, and colse if it reaches 0\n",
    "class OptionsStrategy(bt.Strategy):\n",
    "    def __init__(self):\n",
    "        self.dataclose = self.datas[0].close\n",
    "        self.dataopen = self.datas[0].open\n",
    "        self.datahigh = self.datas[0].high\n",
    "        self.datalow = self.datas[0].low\n",
    "        self.Prediction = self.datas[0].Prediction\n",
    "        self.openinterest = self.datas[0].openinterest\n",
    "    \n",
    "\n",
    "    def next(self):\n",
    "        if self.Prediction[0] - self.dataclose[0]  > buy_threshold:\n",
    "            self.buy()\n",
    "        elif self.Prediction[0] - self.dataclose[0] < sell_threshold:\n",
    "            self.close()\n",
    "\n",
    "# Create a backtrader Cerebro instance\n",
    "cerebro = bt.Cerebro()\n",
    "cerebro.addstrategy(OptionsStrategy)\n",
    "feed = PredictionDataFeed(dataname=backtrader_df)\n",
    "cerebro.adddata(feed)\n",
    "cerebro.broker.setcash(starting_balance)\n",
    "cerebro.addanalyzer(bt.analyzers.TradeAnalyzer, _name=\"trade_analyzer\")\n",
    "cerebro.addanalyzer(bt.analyzers.SharpeRatio, _name='sharpe_ratio', riskfreerate=0.00, timeframe=bt.TimeFrame.Days, annualize=True)\n",
    "\n",
    "\n",
    "# Run \n",
    "results = cerebro.run()\n",
    "result = results[0]\n",
    "\n",
    "print('Number of trades: {}'.format(result.analyzers.trade_analyzer.get_analysis()['total']['total']))\n",
    "print('Number of winning trades: {}'.format(result.analyzers.trade_analyzer.get_analysis()['won']['total']))\n",
    "print('Number of losing trades: {}'.format(result.analyzers.trade_analyzer.get_analysis()['lost']['total']))\n",
    "\n",
    "print('Sharpe Ratio:', result.analyzers.sharpe_ratio.get_analysis()['sharperatio'])\n",
    "\n",
    "# Plot\n",
    "plt.rcParams['figure.figsize'] = [8, 9]\n",
    "plt.rcParams['figure.dpi'] = 100\n",
    "cerebro.plot(iplot=False)\n",
    "plt.show()\n",
    "\n",
    "# Get final portfolio Value\n",
    "portvalue = cerebro.broker.getvalue()\n",
    "pnl = portvalue - starting_balance\n",
    "\n",
    "# Print out the final result\n",
    "print('Final Portfolio Value: ${}'.format(portvalue))\n",
    "print('P/L: ${}'.format(pnl))\n"
   ]
  },
  {
   "cell_type": "code",
   "execution_count": null,
   "metadata": {},
   "outputs": [],
   "source": [
    "for option_ID in df[\"Option_ID\"]."
   ]
  },
  {
   "cell_type": "code",
   "execution_count": null,
   "metadata": {},
   "outputs": [
    {
     "ename": "KeyboardInterrupt",
     "evalue": "",
     "output_type": "error",
     "traceback": [
      "\u001b[0;31m---------------------------------------------------------------------------\u001b[0m",
      "\u001b[0;31mKeyboardInterrupt\u001b[0m                         Traceback (most recent call last)",
      "Cell \u001b[0;32mIn[253], line 19\u001b[0m\n\u001b[1;32m     15\u001b[0m cerebro\u001b[39m.\u001b[39maddanalyzer(bt\u001b[39m.\u001b[39manalyzers\u001b[39m.\u001b[39mSharpeRatio, _name\u001b[39m=\u001b[39m\u001b[39m'\u001b[39m\u001b[39msharpe_ratio\u001b[39m\u001b[39m'\u001b[39m, riskfreerate\u001b[39m=\u001b[39m\u001b[39m0.01\u001b[39m, timeframe\u001b[39m=\u001b[39mbt\u001b[39m.\u001b[39mTimeFrame\u001b[39m.\u001b[39mDays, annualize\u001b[39m=\u001b[39m\u001b[39mTrue\u001b[39;00m)\n\u001b[1;32m     18\u001b[0m \u001b[39m# Run \u001b[39;00m\n\u001b[0;32m---> 19\u001b[0m results \u001b[39m=\u001b[39m cerebro\u001b[39m.\u001b[39;49mrun()\n\u001b[1;32m     20\u001b[0m result \u001b[39m=\u001b[39m results[\u001b[39m0\u001b[39m]\n\u001b[1;32m     22\u001b[0m sharpe_ratio \u001b[39m=\u001b[39m result\u001b[39m.\u001b[39manalyzers\u001b[39m.\u001b[39msharpe_ratio\u001b[39m.\u001b[39mget_analysis()[\u001b[39m'\u001b[39m\u001b[39msharperatio\u001b[39m\u001b[39m'\u001b[39m]\n",
      "File \u001b[0;32m/Library/Frameworks/Python.framework/Versions/3.10/lib/python3.10/site-packages/backtrader/cerebro.py:1132\u001b[0m, in \u001b[0;36mCerebro.run\u001b[0;34m(self, **kwargs)\u001b[0m\n\u001b[1;32m   1128\u001b[0m \u001b[39mif\u001b[39;00m \u001b[39mnot\u001b[39;00m \u001b[39mself\u001b[39m\u001b[39m.\u001b[39m_dooptimize \u001b[39mor\u001b[39;00m \u001b[39mself\u001b[39m\u001b[39m.\u001b[39mp\u001b[39m.\u001b[39mmaxcpus \u001b[39m==\u001b[39m \u001b[39m1\u001b[39m:\n\u001b[1;32m   1129\u001b[0m     \u001b[39m# If no optimmization is wished ... or 1 core is to be used\u001b[39;00m\n\u001b[1;32m   1130\u001b[0m     \u001b[39m# let's skip process \"spawning\"\u001b[39;00m\n\u001b[1;32m   1131\u001b[0m     \u001b[39mfor\u001b[39;00m iterstrat \u001b[39min\u001b[39;00m iterstrats:\n\u001b[0;32m-> 1132\u001b[0m         runstrat \u001b[39m=\u001b[39m \u001b[39mself\u001b[39;49m\u001b[39m.\u001b[39;49mrunstrategies(iterstrat)\n\u001b[1;32m   1133\u001b[0m         \u001b[39mself\u001b[39m\u001b[39m.\u001b[39mrunstrats\u001b[39m.\u001b[39mappend(runstrat)\n\u001b[1;32m   1134\u001b[0m         \u001b[39mif\u001b[39;00m \u001b[39mself\u001b[39m\u001b[39m.\u001b[39m_dooptimize:\n",
      "File \u001b[0;32m/Library/Frameworks/Python.framework/Versions/3.10/lib/python3.10/site-packages/backtrader/cerebro.py:1298\u001b[0m, in \u001b[0;36mCerebro.runstrategies\u001b[0;34m(self, iterstrat, predata)\u001b[0m\n\u001b[1;32m   1296\u001b[0m         \u001b[39mself\u001b[39m\u001b[39m.\u001b[39m_runonce_old(runstrats)\n\u001b[1;32m   1297\u001b[0m     \u001b[39melse\u001b[39;00m:\n\u001b[0;32m-> 1298\u001b[0m         \u001b[39mself\u001b[39;49m\u001b[39m.\u001b[39;49m_runonce(runstrats)\n\u001b[1;32m   1299\u001b[0m \u001b[39melse\u001b[39;00m:\n\u001b[1;32m   1300\u001b[0m     \u001b[39mif\u001b[39;00m \u001b[39mself\u001b[39m\u001b[39m.\u001b[39mp\u001b[39m.\u001b[39moldsync:\n",
      "File \u001b[0;32m/Library/Frameworks/Python.framework/Versions/3.10/lib/python3.10/site-packages/backtrader/cerebro.py:1693\u001b[0m, in \u001b[0;36mCerebro._runonce\u001b[0;34m(self, runstrats)\u001b[0m\n\u001b[1;32m   1690\u001b[0m         \u001b[39mif\u001b[39;00m \u001b[39mself\u001b[39m\u001b[39m.\u001b[39m_event_stop:  \u001b[39m# stop if requested\u001b[39;00m\n\u001b[1;32m   1691\u001b[0m             \u001b[39mreturn\u001b[39;00m\n\u001b[0;32m-> 1693\u001b[0m \u001b[39mself\u001b[39;49m\u001b[39m.\u001b[39;49m_brokernotify()\n\u001b[1;32m   1694\u001b[0m \u001b[39mif\u001b[39;00m \u001b[39mself\u001b[39m\u001b[39m.\u001b[39m_event_stop:  \u001b[39m# stop if requested\u001b[39;00m\n\u001b[1;32m   1695\u001b[0m     \u001b[39mreturn\u001b[39;00m\n",
      "File \u001b[0;32m/Library/Frameworks/Python.framework/Versions/3.10/lib/python3.10/site-packages/backtrader/cerebro.py:1365\u001b[0m, in \u001b[0;36mCerebro._brokernotify\u001b[0;34m(self)\u001b[0m\n\u001b[1;32m   1360\u001b[0m \u001b[39mdef\u001b[39;00m \u001b[39m_brokernotify\u001b[39m(\u001b[39mself\u001b[39m):\n\u001b[1;32m   1361\u001b[0m     \u001b[39m'''\u001b[39;00m\n\u001b[1;32m   1362\u001b[0m \u001b[39m    Internal method which kicks the broker and delivers any broker\u001b[39;00m\n\u001b[1;32m   1363\u001b[0m \u001b[39m    notification to the strategy\u001b[39;00m\n\u001b[1;32m   1364\u001b[0m \u001b[39m    '''\u001b[39;00m\n\u001b[0;32m-> 1365\u001b[0m     \u001b[39mself\u001b[39;49m\u001b[39m.\u001b[39;49m_broker\u001b[39m.\u001b[39;49mnext()\n\u001b[1;32m   1366\u001b[0m     \u001b[39mwhile\u001b[39;00m \u001b[39mTrue\u001b[39;00m:\n\u001b[1;32m   1367\u001b[0m         order \u001b[39m=\u001b[39m \u001b[39mself\u001b[39m\u001b[39m.\u001b[39m_broker\u001b[39m.\u001b[39mget_notification()\n",
      "File \u001b[0;32m/Library/Frameworks/Python.framework/Versions/3.10/lib/python3.10/site-packages/backtrader/brokers/bbroker.py:1214\u001b[0m, in \u001b[0;36mBackBroker.next\u001b[0;34m(self)\u001b[0m\n\u001b[1;32m   1211\u001b[0m     \u001b[39mself\u001b[39m\u001b[39m.\u001b[39mpending\u001b[39m.\u001b[39mappend(order)  \u001b[39m# cannot yet be processed\u001b[39;00m\n\u001b[1;32m   1213\u001b[0m \u001b[39melse\u001b[39;00m:\n\u001b[0;32m-> 1214\u001b[0m     \u001b[39mself\u001b[39;49m\u001b[39m.\u001b[39;49m_try_exec(order)\n\u001b[1;32m   1215\u001b[0m     \u001b[39mif\u001b[39;00m order\u001b[39m.\u001b[39malive():\n\u001b[1;32m   1216\u001b[0m         \u001b[39mself\u001b[39m\u001b[39m.\u001b[39mpending\u001b[39m.\u001b[39mappend(order)\n",
      "File \u001b[0;32m/Library/Frameworks/Python.framework/Versions/3.10/lib/python3.10/site-packages/backtrader/brokers/bbroker.py:1060\u001b[0m, in \u001b[0;36mBackBroker._try_exec\u001b[0;34m(self, order)\u001b[0m\n\u001b[1;32m   1057\u001b[0m plimit \u001b[39m=\u001b[39m order\u001b[39m.\u001b[39mcreated\u001b[39m.\u001b[39mpricelimit\n\u001b[1;32m   1059\u001b[0m \u001b[39mif\u001b[39;00m order\u001b[39m.\u001b[39mexectype \u001b[39m==\u001b[39m Order\u001b[39m.\u001b[39mMarket:\n\u001b[0;32m-> 1060\u001b[0m     \u001b[39mself\u001b[39;49m\u001b[39m.\u001b[39;49m_try_exec_market(order, popen, phigh, plow)\n\u001b[1;32m   1062\u001b[0m \u001b[39melif\u001b[39;00m order\u001b[39m.\u001b[39mexectype \u001b[39m==\u001b[39m Order\u001b[39m.\u001b[39mClose:\n\u001b[1;32m   1063\u001b[0m     \u001b[39mself\u001b[39m\u001b[39m.\u001b[39m_try_exec_close(order, pclose)\n",
      "File \u001b[0;32m/Library/Frameworks/Python.framework/Versions/3.10/lib/python3.10/site-packages/backtrader/brokers/bbroker.py:859\u001b[0m, in \u001b[0;36mBackBroker._try_exec_market\u001b[0;34m(self, order, popen, phigh, plow)\u001b[0m\n\u001b[1;32m    857\u001b[0m     exprice \u001b[39m=\u001b[39m order\u001b[39m.\u001b[39mcreated\u001b[39m.\u001b[39mpclose\n\u001b[1;32m    858\u001b[0m \u001b[39melse\u001b[39;00m:\n\u001b[0;32m--> 859\u001b[0m     \u001b[39mif\u001b[39;00m \u001b[39mnot\u001b[39;00m \u001b[39mself\u001b[39m\u001b[39m.\u001b[39mp\u001b[39m.\u001b[39mcoo \u001b[39mand\u001b[39;00m order\u001b[39m.\u001b[39;49mdata\u001b[39m.\u001b[39;49mdatetime[\u001b[39m0\u001b[39m] \u001b[39m<\u001b[39m\u001b[39m=\u001b[39m order\u001b[39m.\u001b[39mcreated\u001b[39m.\u001b[39mdt:\n\u001b[1;32m    860\u001b[0m         \u001b[39mreturn\u001b[39;00m    \u001b[39m# can only execute after creation time\u001b[39;00m\n\u001b[1;32m    862\u001b[0m     dtcoc \u001b[39m=\u001b[39m \u001b[39mNone\u001b[39;00m\n",
      "File \u001b[0;32m/Library/Frameworks/Python.framework/Versions/3.10/lib/python3.10/site-packages/backtrader/lineseries.py:457\u001b[0m, in \u001b[0;36mLineSeries.__getattr__\u001b[0;34m(self, name)\u001b[0m\n\u001b[1;32m    453\u001b[0m \u001b[39m@property\u001b[39m\n\u001b[1;32m    454\u001b[0m \u001b[39mdef\u001b[39;00m \u001b[39marray\u001b[39m(\u001b[39mself\u001b[39m):\n\u001b[1;32m    455\u001b[0m     \u001b[39mreturn\u001b[39;00m \u001b[39mself\u001b[39m\u001b[39m.\u001b[39mlines[\u001b[39m0\u001b[39m]\u001b[39m.\u001b[39marray\n\u001b[0;32m--> 457\u001b[0m \u001b[39mdef\u001b[39;00m \u001b[39m__getattr__\u001b[39m(\u001b[39mself\u001b[39m, name):\n\u001b[1;32m    458\u001b[0m     \u001b[39m# to refer to line by name directly if the attribute was not found\u001b[39;00m\n\u001b[1;32m    459\u001b[0m     \u001b[39m# in this object if we set an attribute in this object it will be\u001b[39;00m\n\u001b[1;32m    460\u001b[0m     \u001b[39m# found before we end up here\u001b[39;00m\n\u001b[1;32m    461\u001b[0m     \u001b[39mreturn\u001b[39;00m \u001b[39mgetattr\u001b[39m(\u001b[39mself\u001b[39m\u001b[39m.\u001b[39mlines, name)\n\u001b[1;32m    463\u001b[0m \u001b[39mdef\u001b[39;00m \u001b[39m__len__\u001b[39m(\u001b[39mself\u001b[39m):\n",
      "\u001b[0;31mKeyboardInterrupt\u001b[0m: "
     ]
    }
   ],
   "source": [
    "# Try a bunch of different thresholds keep track of the best one in terms of sharpe ratio\n",
    "best_sharpe_ratio = -100000\n",
    "best_buy_threshold = 0\n",
    "best_sell_threshold = 0\n",
    "\n",
    "for buy_threshold in range(1, 10):\n",
    "    for sell_threshold in range(1, 10):\n",
    "        # Create a backtrader Cerebro instance\n",
    "        cerebro = bt.Cerebro()\n",
    "        cerebro.addstrategy(OptionsStrategy)\n",
    "        feed = PredictionDataFeed(dataname=backtrader_df)\n",
    "        cerebro.adddata(feed)\n",
    "        cerebro.broker.setcash(starting_balance)\n",
    "        cerebro.addanalyzer(bt.analyzers.TradeAnalyzer, _name=\"trade_analyzer\")\n",
    "        cerebro.addanalyzer(bt.analyzers.SharpeRatio, _name='sharpe_ratio', riskfreerate=0.01, timeframe=bt.TimeFrame.Days, annualize=True)\n",
    "\n",
    "\n",
    "        # Run \n",
    "        results = cerebro.run()\n",
    "        result = results[0]\n",
    "\n",
    "        sharpe_ratio = result.analyzers.sharpe_ratio.get_analysis()['sharperatio']\n",
    "\n",
    "        if sharpe_ratio > best_sharpe_ratio:\n",
    "            best_sharpe_ratio = sharpe_ratio\n",
    "            best_buy_threshold = buy_threshold\n",
    "            best_sell_threshold = sell_threshold\n",
    "\n",
    "print('Best Sharpe Ratio:', best_sharpe_ratio)"
   ]
  }
 ],
 "metadata": {
  "kernelspec": {
   "display_name": "Python 3",
   "language": "python",
   "name": "python3"
  },
  "language_info": {
   "codemirror_mode": {
    "name": "ipython",
    "version": 3
   },
   "file_extension": ".py",
   "mimetype": "text/x-python",
   "name": "python",
   "nbconvert_exporter": "python",
   "pygments_lexer": "ipython3",
   "version": "3.10.9"
  },
  "orig_nbformat": 4
 },
 "nbformat": 4,
 "nbformat_minor": 2
}
