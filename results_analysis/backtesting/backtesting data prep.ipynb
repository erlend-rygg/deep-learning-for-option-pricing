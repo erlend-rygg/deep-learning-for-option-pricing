{
 "cells": [
  {
   "attachments": {},
   "cell_type": "markdown",
   "metadata": {},
   "source": [
    "### Imports"
   ]
  },
  {
   "cell_type": "code",
   "execution_count": 13,
   "metadata": {},
   "outputs": [],
   "source": [
    "import pandas as pd\n",
    "import datetime\n",
    "import os\n",
    "import sys\n",
    "import math\n",
    "import matplotlib.pyplot as plt\n",
    "import numpy as np\n",
    "import warnings\n",
    "from pandas.errors import SettingWithCopyWarning\n",
    "\n",
    "\n",
    "warnings.simplefilter(action='ignore', category=SettingWithCopyWarning)"
   ]
  },
  {
   "attachments": {},
   "cell_type": "markdown",
   "metadata": {},
   "source": [
    "### Parameters"
   ]
  },
  {
   "cell_type": "code",
   "execution_count": 14,
   "metadata": {},
   "outputs": [],
   "source": [
    "google_colab = False"
   ]
  },
  {
   "attachments": {},
   "cell_type": "markdown",
   "metadata": {},
   "source": [
    "### Data loading"
   ]
  },
  {
   "cell_type": "code",
   "execution_count": 15,
   "metadata": {},
   "outputs": [],
   "source": [
    "if google_colab:\n",
    "    from google.colab import drive\n",
    "    drive.mount('/content/drive')\n",
    "    !pip install -U -q PyDrive\n",
    "    from pydrive.auth import GoogleAuth\n",
    "    from pydrive.drive import GoogleDrive\n",
    "    from google.colab import auth\n",
    "    from oauth2client.client import GoogleCredentials\n",
    "    # Authenticate and create the PyDrive client.\n",
    "    auth.authenticate_user()\n",
    "    gauth = GoogleAuth()\n",
    "    gauth.credentials = GoogleCredentials.get_application_default()\n",
    "    drive = GoogleDrive(gauth)\n",
    "    id = \"15eesIDv1QR3465iekfFG52v-HIYheguO\"\n",
    "    downloaded = drive.CreateFile({'id':id}) \n",
    "    downloaded.GetContentFile('11.05 1 mnd test sett full model run_with_TTM0_Q1and2_2018_filtered_missing.csv')  \n",
    "    df = pd.read_csv('11.05 1 mnd test sett full model run_with_TTM0_Q1and2_2018_filtered_missing.csv')\n",
    "else:\n",
    "    # Set the path to the root directory\n",
    "    path = os.path.abspath(os.path.join(os.getcwd(), '../..'))\n",
    "    # Read dataframes using Dask\n",
    "    df = pd.read_csv(path + '/data/predictions/11.05 1 mnd test sett full model run.csv')"
   ]
  },
  {
   "cell_type": "code",
   "execution_count": 16,
   "metadata": {},
   "outputs": [
    {
     "name": "stdout",
     "output_type": "stream",
     "text": [
      "10539487\n"
     ]
    }
   ],
   "source": [
    "print(len(df))"
   ]
  },
  {
   "cell_type": "code",
   "execution_count": 17,
   "metadata": {},
   "outputs": [],
   "source": [
    "df['TTM'] = (df['TTM'] * 365).astype(int)"
   ]
  },
  {
   "attachments": {},
   "cell_type": "markdown",
   "metadata": {},
   "source": [
    "### Data processing"
   ]
  },
  {
   "cell_type": "code",
   "execution_count": 18,
   "metadata": {},
   "outputs": [],
   "source": [
    "# Dates\n",
    "df['Expiry_date'] = pd.to_datetime(df['Quote_date']) + pd.to_timedelta(df['TTM'], unit='D')\n",
    "df['Quote_date'] = pd.to_datetime(df['Quote_date']).dt.date \n",
    "df['Expiry_date'] = pd.to_datetime(df['Expiry_date']).dt.date \n",
    "\n",
    "# Adding option ID\n",
    "df[\"Option_ID\"] = df[\"Expiry_date\"].astype(str) + \"-\" + df[\"Strike\"].astype(str)\n",
    "\n",
    "df_original = df[(df[\"Quote_date\"] >= pd.to_datetime(\"2019-01-01\").date()) & \n",
    "                (df[\"Quote_date\"] <= pd.to_datetime(\"2020-01-01\").date())]\n",
    "\n",
    "df = df[(df[\"Expiry_date\"] >= pd.to_datetime(\"2019-07-01\").date()) & \n",
    "        (df[\"Expiry_date\"] <= pd.to_datetime(\"2020-01-01\").date())]\n",
    "\n",
    "df = df[(df[\"Quote_date\"] >= pd.to_datetime(\"2019-07-01\").date()) & \n",
    "        (df[\"Quote_date\"] <= pd.to_datetime(\"2020-01-01\").date())]\n",
    "\n",
    "df = df.groupby('Option_ID').apply(lambda x: x.sample(frac=0.02, random_state=1))"
   ]
  },
  {
   "cell_type": "code",
   "execution_count": null,
   "metadata": {},
   "outputs": [],
   "source": [
    "len(df)"
   ]
  },
  {
   "cell_type": "code",
   "execution_count": null,
   "metadata": {},
   "outputs": [],
   "source": [
    "df_copy = df.copy()"
   ]
  },
  {
   "attachments": {},
   "cell_type": "markdown",
   "metadata": {},
   "source": [
    "Adding TTM=0 row"
   ]
  },
  {
   "cell_type": "code",
   "execution_count": null,
   "metadata": {},
   "outputs": [],
   "source": [
    "# Sort the dataframe by Quote_date and Expiry_date\n",
    "df = df.sort_values(['Quote_date', 'Expiry_date'])\n",
    "\n",
    "groups = df.groupby(['Expiry_date', 'Strike'])\n",
    "\n",
    "for _, group in groups:\n",
    "\n",
    "    # Sort group so that the last row is the one with the lowest TTM\n",
    "    group = group.sort_values('TTM', ascending=False)\n",
    "\n",
    "    # Taking row from option group (could be any) to be used in getting the Strike price\n",
    "    last_row = group.iloc[-1]\n",
    "    \n",
    "    expiry_date = last_row['Expiry_date']\n",
    "    # Get the underlying price on the day of expiry\n",
    "\n",
    "    if expiry_date not in df_original['Quote_date'].values:\n",
    "        print(\"Expiry date not in df_original: \", expiry_date)\n",
    "        print(\"Weekday: \", expiry_date.weekday())\n",
    "        # Delete group from df\n",
    "        df = df.drop(group.index)\n",
    "        continue\n",
    "\n",
    "    underlying_last_on_expiry = df_original.loc[df_original['Quote_date'] == expiry_date, 'Underlying_last'].iloc[0]\n",
    "    # Calculate the intrinsic value\n",
    "    intrinsic_value = np.maximum(underlying_last_on_expiry - last_row['Strike'], 0)\n",
    "\n",
    "    new_row = last_row.copy()\n",
    "    new_row['Quote_date'] = expiry_date\n",
    "    new_row['Expiry_date'] = expiry_date\n",
    "    new_row['TTM'] = 0\n",
    "    new_row['Underlying_last'] = underlying_last_on_expiry\n",
    "    new_row['Price'] = intrinsic_value\n",
    "\n",
    "    df = df.append(new_row, ignore_index=True)\n",
    "\n",
    "# Sort the dataframe by Quote_date and Expiry_date\n",
    "df = df.sort_values(['Quote_date', 'Expiry_date'])"
   ]
  },
  {
   "cell_type": "code",
   "execution_count": null,
   "metadata": {},
   "outputs": [
    {
     "name": "stdout",
     "output_type": "stream",
     "text": [
      "395030\n"
     ]
    }
   ],
   "source": [
    "print(len(df))"
   ]
  },
  {
   "attachments": {},
   "cell_type": "markdown",
   "metadata": {},
   "source": [
    "### Make sure prices are available every day for an option group"
   ]
  },
  {
   "cell_type": "code",
   "execution_count": null,
   "metadata": {},
   "outputs": [],
   "source": [
    "unique_dates = df['Quote_date'].unique()\n",
    "\n",
    "option_groups = df.groupby(['Option_ID'])\n",
    "\n",
    "# Remove option groups if it has a date between it's first and last that is not in unique_dates\n",
    "for option_id, option_group in option_groups:\n",
    "    group_first_date = option_group['Quote_date'].iloc[0]\n",
    "    group_last_date = option_group['Quote_date'].iloc[-1]\n",
    "\n",
    "    if group_first_date not in unique_dates or group_last_date not in unique_dates:\n",
    "        df = df.drop(option_group.index)\n",
    "        print(\"Dropped option group: \", option_id, \" because it's first or last date is not in unique_dates\")\n",
    "\n",
    "    # If every unique_dates between group_first_date and group_last_date is not in group, drop the group\n",
    "    dates_between = unique_dates[(unique_dates >= group_first_date) & (unique_dates <= group_last_date)]\n",
    "    if len(dates_between) != len(option_group['Quote_date'].unique()):\n",
    "        df = df.drop(option_group.index)\n",
    "        print(\"Dropped option group: \", option_id, \" because it's missing dates between it's first and last date\")\n",
    "\n",
    "\n",
    "    if len(option_group) < 2:\n",
    "        df = df.drop(option_group.index)\n",
    "        print(\"Dropped option group: \", option_id, \" because it has less than 2 rows\")\n"
   ]
  },
  {
   "cell_type": "code",
   "execution_count": null,
   "metadata": {},
   "outputs": [],
   "source": [
    "df.to_csv(path + '/data/predictions/11.05 1 mnd test sett full model run_with_TTM0_Q1and2_2018_filtered_missing.csv', index=False)"
   ]
  }
 ],
 "metadata": {
  "kernelspec": {
   "display_name": "Python 3",
   "language": "python",
   "name": "python3"
  },
  "language_info": {
   "codemirror_mode": {
    "name": "ipython",
    "version": 3
   },
   "file_extension": ".py",
   "mimetype": "text/x-python",
   "name": "python",
   "nbconvert_exporter": "python",
   "pygments_lexer": "ipython3",
   "version": "3.10.9"
  },
  "orig_nbformat": 4
 },
 "nbformat": 4,
 "nbformat_minor": 2
}
