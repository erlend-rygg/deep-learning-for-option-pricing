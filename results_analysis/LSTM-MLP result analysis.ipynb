{
 "cells": [
  {
   "cell_type": "code",
   "execution_count": 1,
   "metadata": {},
   "outputs": [],
   "source": [
    "import numpy as np\n",
    "import pandas as pd"
   ]
  },
  {
   "cell_type": "code",
   "execution_count": 10,
   "metadata": {},
   "outputs": [
    {
     "name": "stdout",
     "output_type": "stream",
     "text": [
      "<class 'pandas.core.frame.DataFrame'>\n",
      "RangeIndex: 10539487 entries, 0 to 10539486\n",
      "Data columns (total 8 columns):\n",
      " #   Column           Dtype  \n",
      "---  ------           -----  \n",
      " 0   Unnamed: 0       int64  \n",
      " 1   Quote_date       object \n",
      " 2   Price            float64\n",
      " 3   Prediction       float64\n",
      " 4   Underlying_last  float64\n",
      " 5   Strike           float64\n",
      " 6   TTM              float64\n",
      " 7   R                float64\n",
      "dtypes: float64(6), int64(1), object(1)\n",
      "memory usage: 643.3+ MB\n",
      "10539487\n"
     ]
    }
   ],
   "source": [
    "# Read all files and concatenate them into one dataframe\n",
    "file = '../data/results/11.05 1 mnd test sett full model run.csv'\n",
    "df_r = pd.read_csv(file)\n",
    "\n",
    "df_r.info()\n",
    "print(len(df_r))"
   ]
  },
  {
   "cell_type": "code",
   "execution_count": 11,
   "metadata": {},
   "outputs": [
    {
     "name": "stdout",
     "output_type": "stream",
     "text": [
      "RMSE total: 12.19376957056531\n",
      "RMSE for 2015: 4.178470588157075\n",
      "RMSE for 2016: 3.243205945363208\n",
      "RMSE for 2017: 3.108927139783977\n",
      "RMSE for 2018: 5.643754065634825\n",
      "RMSE for 2019: 5.066741968301915\n",
      "RMSE for 2020: 19.465178936291906\n",
      "RMSE for 2021: 12.297868281645881\n",
      "RMSE for 2022: 17.829158379709884\n",
      "RMSE for 2023: 14.654748580892036\n"
     ]
    }
   ],
   "source": [
    "print(f'RMSE total: {(np.sum((df_r[\"Prediction\"] - df_r[\"Price\"]) ** 2) / len(df_r[\"Price\"]))**(0.5)}')\n",
    "\n",
    "for year in range(2015, 2024):\n",
    "    df_y = df_r[df_r['Quote_date'].str.contains(str(year))]\n",
    "    print(f'RMSE for {year}: {(np.sum((df_y[\"Prediction\"] - df_y[\"Price\"]) ** 2) / len(df_y[\"Price\"]))**(0.5)}')"
   ]
  },
  {
   "cell_type": "code",
   "execution_count": 5,
   "metadata": {},
   "outputs": [
    {
     "name": "stdout",
     "output_type": "stream",
     "text": [
      "        Unnamed: 0  Unnamed: 0.1  Quote_date     Price  Underlying_last  \\\n",
      "0          1518156       1809055  2015-01-02  1007.250          2058.69   \n",
      "1          1518157       1809056  2015-01-02   957.095          2058.69   \n",
      "2          1518158       1809057  2015-01-02   907.140          2058.69   \n",
      "3          1518159       1809058  2015-01-02   882.150          2058.69   \n",
      "4          1518160       1809059  2015-01-02   857.150          2058.69   \n",
      "...            ...           ...         ...       ...              ...   \n",
      "104767     4810258       5456730  2018-07-31    83.500          2816.45   \n",
      "104768     4810259       5456731  2018-07-31    68.205          2816.45   \n",
      "104769     4810260       5456732  2018-07-31    55.300          2816.45   \n",
      "104770     4810261       5456733  2018-07-31    35.210          2816.45   \n",
      "104771     4810262       5456734  2018-07-31    21.745          2816.45   \n",
      "\n",
      "        Strike       TTM         R  Underlying_return  Underlying_1  ...  \\\n",
      "0       1050.0  0.019178  0.000200          -0.000209     -0.010348  ...   \n",
      "1       1100.0  0.019178  0.000200          -0.000209     -0.010348  ...   \n",
      "2       1150.0  0.019178  0.000200          -0.000209     -0.010348  ...   \n",
      "3       1175.0  0.019178  0.000200          -0.000209     -0.010348  ...   \n",
      "4       1200.0  0.019178  0.000200          -0.000209     -0.010348  ...   \n",
      "...        ...       ...       ...                ...           ...  ...   \n",
      "104767  3200.0  1.887671  0.026591           0.005042     -0.005730  ...   \n",
      "104768  3250.0  1.887671  0.026591           0.005042     -0.005730  ...   \n",
      "104769  3300.0  1.887671  0.026591           0.005042     -0.005730  ...   \n",
      "104770  3400.0  1.887671  0.026591           0.005042     -0.005730  ...   \n",
      "104771  3500.0  1.887671  0.026591           0.005042     -0.005730  ...   \n",
      "\n",
      "        Underlying_132  Underlying_133  Underlying_134  Underlying_135  \\\n",
      "0            -0.000367        0.002088        0.001104        0.007595   \n",
      "1            -0.000367        0.002088        0.001104        0.007595   \n",
      "2            -0.000367        0.002088        0.001104        0.007595   \n",
      "3            -0.000367        0.002088        0.001104        0.007595   \n",
      "4            -0.000367        0.002088        0.001104        0.007595   \n",
      "...                ...             ...             ...             ...   \n",
      "104767        0.008085        0.004288       -0.001570        0.009425   \n",
      "104768        0.008085        0.004288       -0.001570        0.009425   \n",
      "104769        0.008085        0.004288       -0.001570        0.009425   \n",
      "104770        0.008085        0.004288       -0.001570        0.009425   \n",
      "104771        0.008085        0.004288       -0.001570        0.009425   \n",
      "\n",
      "        Underlying_136  Underlying_137  Underlying_138  Underlying_139  \\\n",
      "0             0.002229        0.001054        0.002938       -0.007058   \n",
      "1             0.002229        0.001054        0.002938       -0.007058   \n",
      "2             0.002229        0.001054        0.002938       -0.007058   \n",
      "3             0.002229        0.001054        0.002938       -0.007058   \n",
      "4             0.002229        0.001054        0.002938       -0.007058   \n",
      "...                ...             ...             ...             ...   \n",
      "104767       -0.003360        0.006663        0.007085       -0.001381   \n",
      "104768       -0.003360        0.006663        0.007085       -0.001381   \n",
      "104769       -0.003360        0.006663        0.007085       -0.001381   \n",
      "104770       -0.003360        0.006663        0.007085       -0.001381   \n",
      "104771       -0.003360        0.006663        0.007085       -0.001381   \n",
      "\n",
      "        Underlying_140   Prediction  \n",
      "0            -0.003512  1010.006900  \n",
      "1            -0.003512   959.954800  \n",
      "2            -0.003512   909.977050  \n",
      "3            -0.003512   885.038300  \n",
      "4            -0.003512   860.097400  \n",
      "...                ...          ...  \n",
      "104767        0.001674    85.186120  \n",
      "104768        0.001674    69.257470  \n",
      "104769        0.001674    55.954270  \n",
      "104770        0.001674    37.949880  \n",
      "104771        0.001674    24.461697  \n",
      "\n",
      "[3292107 rows x 150 columns]\n"
     ]
    }
   ],
   "source": [
    "print(df_r)"
   ]
  },
  {
   "cell_type": "code",
   "execution_count": 6,
   "metadata": {},
   "outputs": [
    {
     "name": "stdout",
     "output_type": "stream",
     "text": [
      "RMSE total: 4.291691402848466\n",
      "RMSE for 2015: 4.178470588157075\n",
      "RMSE for 2016: 3.243205945363208\n",
      "RMSE for 2017: 3.108927139783977\n",
      "RMSE for 2018: 6.368302514343956\n"
     ]
    },
    {
     "name": "stderr",
     "output_type": "stream",
     "text": [
      "C:\\Users\\Erlend\\AppData\\Local\\Temp\\ipykernel_52932\\3130102814.py:5: RuntimeWarning: invalid value encountered in double_scalars\n",
      "  print(f'RMSE for {year}: {(np.sum((df_y[\"Prediction\"] - df_y[\"Price\"]) ** 2) / len(df_y[\"Price\"]))**(0.5)}')\n"
     ]
    },
    {
     "name": "stdout",
     "output_type": "stream",
     "text": [
      "RMSE for 2019: nan\n",
      "RMSE for 2020: nan\n",
      "RMSE for 2021: nan\n",
      "RMSE for 2022: nan\n",
      "RMSE for 2023: nan\n"
     ]
    }
   ],
   "source": [
    "print(f'RMSE total: {(np.sum((df_r[\"Prediction\"] - df_r[\"Price\"]) ** 2) / len(df_r[\"Price\"]))**(0.5)}')\n",
    "\n",
    "for year in range(2015, 2024):\n",
    "    df_y = df_r[df_r['Quote_date'].str.contains(str(year))]\n",
    "    print(f'RMSE for {year}: {(np.sum((df_y[\"Prediction\"] - df_y[\"Price\"]) ** 2) / len(df_y[\"Price\"]))**(0.5)}')"
   ]
  },
  {
   "cell_type": "code",
   "execution_count": 8,
   "metadata": {},
   "outputs": [
    {
     "name": "stdout",
     "output_type": "stream",
     "text": [
      "Empty DataFrame\n",
      "Columns: [Unnamed: 0, Unnamed: 0.1, Quote_date, Price, Underlying_last, Strike, TTM, R, Underlying_return, Underlying_1, Underlying_2, Underlying_3, Underlying_4, Underlying_5, Underlying_6, Underlying_7, Underlying_8, Underlying_9, Underlying_10, Underlying_11, Underlying_12, Underlying_13, Underlying_14, Underlying_15, Underlying_16, Underlying_17, Underlying_18, Underlying_19, Underlying_20, Underlying_21, Underlying_22, Underlying_23, Underlying_24, Underlying_25, Underlying_26, Underlying_27, Underlying_28, Underlying_29, Underlying_30, Underlying_31, Underlying_32, Underlying_33, Underlying_34, Underlying_35, Underlying_36, Underlying_37, Underlying_38, Underlying_39, Underlying_40, Underlying_41, Underlying_42, Underlying_43, Underlying_44, Underlying_45, Underlying_46, Underlying_47, Underlying_48, Underlying_49, Underlying_50, Underlying_51, Underlying_52, Underlying_53, Underlying_54, Underlying_55, Underlying_56, Underlying_57, Underlying_58, Underlying_59, Underlying_60, Underlying_61, Underlying_62, Underlying_63, Underlying_64, Underlying_65, Underlying_66, Underlying_67, Underlying_68, Underlying_69, Underlying_70, Underlying_71, Underlying_72, Underlying_73, Underlying_74, Underlying_75, Underlying_76, Underlying_77, Underlying_78, Underlying_79, Underlying_80, Underlying_81, Underlying_82, Underlying_83, Underlying_84, Underlying_85, Underlying_86, Underlying_87, Underlying_88, Underlying_89, Underlying_90, Underlying_91, ...]\n",
      "Index: []\n",
      "\n",
      "[0 rows x 150 columns]\n"
     ]
    }
   ],
   "source": [
    "print(df_r[df_r['Quote_date'] >= '2019-01-01'])"
   ]
  },
  {
   "cell_type": "code",
   "execution_count": null,
   "metadata": {},
   "outputs": [],
   "source": []
  }
 ],
 "metadata": {
  "kernelspec": {
   "display_name": "Python 3",
   "language": "python",
   "name": "python3"
  },
  "language_info": {
   "codemirror_mode": {
    "name": "ipython",
    "version": 3
   },
   "file_extension": ".py",
   "mimetype": "text/x-python",
   "name": "python",
   "nbconvert_exporter": "python",
   "pygments_lexer": "ipython3",
   "version": "3.9.4"
  },
  "orig_nbformat": 4
 },
 "nbformat": 4,
 "nbformat_minor": 2
}
